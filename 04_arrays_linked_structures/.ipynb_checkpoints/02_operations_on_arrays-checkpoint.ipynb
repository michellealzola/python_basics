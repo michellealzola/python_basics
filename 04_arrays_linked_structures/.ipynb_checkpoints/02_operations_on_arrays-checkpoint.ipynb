{
 "cells": [
  {
   "metadata": {},
   "cell_type": "markdown",
   "source": [
    "# Operations on Arrays\n",
    "\n",
    "### Increasing the Size of an Array (Simulated)\n"
   ],
   "id": "f5ca4db1f4afe7ab"
  },
  {
   "metadata": {
    "ExecuteTime": {
     "end_time": "2025-05-24T12:51:10.970852Z",
     "start_time": "2025-05-24T12:51:10.968249Z"
    }
   },
   "cell_type": "code",
   "source": "old_array = [1, 2, 3]",
   "id": "f84a773d1d4f2d35",
   "outputs": [],
   "execution_count": 19
  },
  {
   "metadata": {
    "ExecuteTime": {
     "end_time": "2025-05-24T12:51:11.038490Z",
     "start_time": "2025-05-24T12:51:11.036026Z"
    }
   },
   "cell_type": "code",
   "source": "new_array = [None] * (len(old_array) + 2) # increase size by 2",
   "id": "4554838ec05eb99c",
   "outputs": [],
   "execution_count": 20
  },
  {
   "metadata": {
    "ExecuteTime": {
     "end_time": "2025-05-24T12:51:11.049653Z",
     "start_time": "2025-05-24T12:51:11.047Z"
    }
   },
   "cell_type": "code",
   "source": [
    "for i in range(len(old_array)):\n",
    "    new_array[i] = old_array[i]"
   ],
   "id": "669cdf087101cc1c",
   "outputs": [],
   "execution_count": 21
  },
  {
   "metadata": {
    "ExecuteTime": {
     "end_time": "2025-05-24T12:51:11.053929Z",
     "start_time": "2025-05-24T12:51:11.050854Z"
    }
   },
   "cell_type": "code",
   "source": "new_array",
   "id": "9fc31f2739742675",
   "outputs": [
    {
     "data": {
      "text/plain": [
       "[1, 2, 3, None, None]"
      ]
     },
     "execution_count": 22,
     "metadata": {},
     "output_type": "execute_result"
    }
   ],
   "execution_count": 22
  },
  {
   "metadata": {},
   "cell_type": "markdown",
   "source": "## Decreasing the Size of an Array",
   "id": "d739f6ad9975906f"
  },
  {
   "metadata": {
    "ExecuteTime": {
     "end_time": "2025-05-24T12:51:11.057729Z",
     "start_time": "2025-05-24T12:51:11.055617Z"
    }
   },
   "cell_type": "code",
   "source": "array = [1, 2, 3, 4, 5]",
   "id": "a9a9431e288959ff",
   "outputs": [],
   "execution_count": 23
  },
  {
   "metadata": {
    "ExecuteTime": {
     "end_time": "2025-05-24T12:51:11.069337Z",
     "start_time": "2025-05-24T12:51:11.067054Z"
    }
   },
   "cell_type": "code",
   "source": "new_size = 3",
   "id": "3bc09c1312d8f55a",
   "outputs": [],
   "execution_count": 24
  },
  {
   "metadata": {
    "ExecuteTime": {
     "end_time": "2025-05-24T12:51:11.084850Z",
     "start_time": "2025-05-24T12:51:11.082719Z"
    }
   },
   "cell_type": "code",
   "source": "smaller_array = array[:new_size]",
   "id": "c7dd7616711d1ad9",
   "outputs": [],
   "execution_count": 25
  },
  {
   "metadata": {
    "ExecuteTime": {
     "end_time": "2025-05-24T12:51:11.110869Z",
     "start_time": "2025-05-24T12:51:11.107430Z"
    }
   },
   "cell_type": "code",
   "source": "smaller_array",
   "id": "80d4e99224c94061",
   "outputs": [
    {
     "data": {
      "text/plain": [
       "[1, 2, 3]"
      ]
     },
     "execution_count": 26,
     "metadata": {},
     "output_type": "execute_result"
    }
   ],
   "execution_count": 26
  },
  {
   "metadata": {
    "ExecuteTime": {
     "end_time": "2025-05-24T12:51:11.115282Z",
     "start_time": "2025-05-24T12:51:11.112319Z"
    }
   },
   "cell_type": "code",
   "source": "array",
   "id": "3ade93dc2de2560f",
   "outputs": [
    {
     "data": {
      "text/plain": [
       "[1, 2, 3, 4, 5]"
      ]
     },
     "execution_count": 27,
     "metadata": {},
     "output_type": "execute_result"
    }
   ],
   "execution_count": 27
  },
  {
   "metadata": {},
   "cell_type": "markdown",
   "source": "## Inserting an Item into a Growing Array",
   "id": "3fa582812821f86a"
  },
  {
   "metadata": {
    "ExecuteTime": {
     "end_time": "2025-05-24T12:57:48.328724Z",
     "start_time": "2025-05-24T12:57:48.325829Z"
    }
   },
   "cell_type": "code",
   "source": [
    "def insert(arr, index, value):\n",
    "    arr.append(None) # make space\n",
    "    for i in range(len(arr) - 1, index, -1): # shift right\n",
    "        arr[i] = arr[i - 1]\n",
    "    arr[index] = value"
   ],
   "id": "a3c90f5c58af216b",
   "outputs": [],
   "execution_count": 50
  },
  {
   "metadata": {
    "ExecuteTime": {
     "end_time": "2025-05-24T12:57:48.635585Z",
     "start_time": "2025-05-24T12:57:48.632192Z"
    }
   },
   "cell_type": "code",
   "source": "arr = [1, 2, 3]",
   "id": "cf003c06a7b44ef2",
   "outputs": [],
   "execution_count": 51
  },
  {
   "metadata": {
    "ExecuteTime": {
     "end_time": "2025-05-24T12:57:48.992510Z",
     "start_time": "2025-05-24T12:57:48.990027Z"
    }
   },
   "cell_type": "code",
   "source": "insert(arr, 1, 99)",
   "id": "a854dbc11d1581a4",
   "outputs": [],
   "execution_count": 52
  },
  {
   "metadata": {
    "ExecuteTime": {
     "end_time": "2025-05-24T12:57:49.969Z",
     "start_time": "2025-05-24T12:57:49.964673Z"
    }
   },
   "cell_type": "code",
   "source": "arr",
   "id": "432a67faa3cb19c2",
   "outputs": [
    {
     "data": {
      "text/plain": [
       "[1, 99, 2, 3]"
      ]
     },
     "execution_count": 53,
     "metadata": {},
     "output_type": "execute_result"
    }
   ],
   "execution_count": 53
  },
  {
   "metadata": {},
   "cell_type": "markdown",
   "source": "## Removing an Item from an Array",
   "id": "e9fd73750e757015"
  },
  {
   "metadata": {
    "ExecuteTime": {
     "end_time": "2025-05-24T12:59:47.355388Z",
     "start_time": "2025-05-24T12:59:47.352700Z"
    }
   },
   "cell_type": "code",
   "source": [
    "def remove(arr, index):\n",
    "    for i in range(index, len(arr) - 1): # shift left\n",
    "        arr[1] = arr[i + 1]\n",
    "    arr.pop()"
   ],
   "id": "5fc3e9690fe473d9",
   "outputs": [],
   "execution_count": 54
  },
  {
   "metadata": {
    "ExecuteTime": {
     "end_time": "2025-05-24T12:59:52.938566Z",
     "start_time": "2025-05-24T12:59:52.935881Z"
    }
   },
   "cell_type": "code",
   "source": "arr = [1, 2, 3]",
   "id": "e7db12ff66eb3589",
   "outputs": [],
   "execution_count": 55
  },
  {
   "metadata": {
    "ExecuteTime": {
     "end_time": "2025-05-24T12:59:59.616457Z",
     "start_time": "2025-05-24T12:59:59.614298Z"
    }
   },
   "cell_type": "code",
   "source": "remove(arr, 1)",
   "id": "1858802b5c36ae9f",
   "outputs": [],
   "execution_count": 56
  },
  {
   "metadata": {
    "ExecuteTime": {
     "end_time": "2025-05-24T13:00:04.057159Z",
     "start_time": "2025-05-24T13:00:04.054330Z"
    }
   },
   "cell_type": "code",
   "source": "arr",
   "id": "ba33726629c4a24c",
   "outputs": [
    {
     "data": {
      "text/plain": [
       "[1, 3]"
      ]
     },
     "execution_count": 57,
     "metadata": {},
     "output_type": "execute_result"
    }
   ],
   "execution_count": 57
  },
  {
   "metadata": {},
   "cell_type": "markdown",
   "source": [
    "## Complexity Trade-Offs: Time, Space, and Arrays\n",
    "\n",
    "| Operation          | Time Complexity  | Notes                                 |\n",
    "| ------------------ | ---------------- | ------------------------------------- |\n",
    "| Access by Index    | O(1)             | Fast due to direct indexing           |\n",
    "| Insertion (middle) | O(n)             | Elements must shift                   |\n",
    "| Deletion (middle)  | O(n)             | Same as insertion                     |\n",
    "| Append             | O(1) (amortized) | Dynamic array (list) handles resizing |\n",
    "\n",
    "\n",
    "## Practice Exercises\n",
    "### Topic 4: Array Resizing and Insertion\n",
    "\n",
    "1. Write a function that resizes an array to double its size.\n"
   ],
   "id": "353512249189b217"
  },
  {
   "metadata": {
    "ExecuteTime": {
     "end_time": "2025-05-24T13:23:45.334328Z",
     "start_time": "2025-05-24T13:23:45.330895Z"
    }
   },
   "cell_type": "code",
   "source": [
    "def double_size(old_array_):\n",
    "    new_array_ = [None] * (2 * len(old_array_))\n",
    "    for i in range(len(old_array_)):\n",
    "        new_array_[i] = old_array_[i]\n",
    "    return new_array_"
   ],
   "id": "5f0e4c425713cee6",
   "outputs": [],
   "execution_count": 100
  },
  {
   "metadata": {
    "ExecuteTime": {
     "end_time": "2025-05-24T13:23:45.501128Z",
     "start_time": "2025-05-24T13:23:45.498261Z"
    }
   },
   "cell_type": "code",
   "source": "old_array = ['x', 'y', 'z']",
   "id": "be2f4ea28e9d2b37",
   "outputs": [],
   "execution_count": 101
  },
  {
   "metadata": {
    "ExecuteTime": {
     "end_time": "2025-05-24T13:23:45.675571Z",
     "start_time": "2025-05-24T13:23:45.672247Z"
    }
   },
   "cell_type": "code",
   "source": "new_array = double_size(old_array)",
   "id": "adbbff544769e632",
   "outputs": [],
   "execution_count": 102
  },
  {
   "metadata": {
    "ExecuteTime": {
     "end_time": "2025-05-24T13:23:45.838388Z",
     "start_time": "2025-05-24T13:23:45.834286Z"
    }
   },
   "cell_type": "code",
   "source": "new_array",
   "id": "e45abe02f9426a9a",
   "outputs": [
    {
     "data": {
      "text/plain": [
       "['x', 'y', 'z', None, None, None]"
      ]
     },
     "execution_count": 103,
     "metadata": {},
     "output_type": "execute_result"
    }
   ],
   "execution_count": 103
  },
  {
   "metadata": {},
   "cell_type": "markdown",
   "source": "2. Insert a value at index 0 of a 5-element list.",
   "id": "e62150783089b461"
  },
  {
   "metadata": {
    "ExecuteTime": {
     "end_time": "2025-05-24T13:23:46.115710Z",
     "start_time": "2025-05-24T13:23:46.113070Z"
    }
   },
   "cell_type": "code",
   "source": [
    "def insert_value_to_array(array_, index, value):\n",
    "    array_.append(None)\n",
    "    for i in range(len(array_) - 1, index, -1):\n",
    "        array_[i] = array_[i - 1]\n",
    "    array_[index] = value"
   ],
   "id": "88957ced46da9627",
   "outputs": [],
   "execution_count": 104
  },
  {
   "metadata": {
    "ExecuteTime": {
     "end_time": "2025-05-24T13:23:46.269544Z",
     "start_time": "2025-05-24T13:23:46.267150Z"
    }
   },
   "cell_type": "code",
   "source": "array_ = [1, 2, 3, 4, 5]",
   "id": "5353c04fe1f5d0e3",
   "outputs": [],
   "execution_count": 105
  },
  {
   "metadata": {
    "ExecuteTime": {
     "end_time": "2025-05-24T13:23:46.410268Z",
     "start_time": "2025-05-24T13:23:46.407635Z"
    }
   },
   "cell_type": "code",
   "source": "insert_value_to_array(array_, 0, 99)",
   "id": "a3dc988710182f8b",
   "outputs": [],
   "execution_count": 106
  },
  {
   "metadata": {
    "ExecuteTime": {
     "end_time": "2025-05-24T13:23:46.558557Z",
     "start_time": "2025-05-24T13:23:46.555031Z"
    }
   },
   "cell_type": "code",
   "source": "array_",
   "id": "99779081a34d01bd",
   "outputs": [
    {
     "data": {
      "text/plain": [
       "[99, 1, 2, 3, 4, 5]"
      ]
     },
     "execution_count": 107,
     "metadata": {},
     "output_type": "execute_result"
    }
   ],
   "execution_count": 107
  },
  {
   "metadata": {},
   "cell_type": "markdown",
   "source": "3. Insert a value at the end of the array without using `.append()`.",
   "id": "703b7af8d33efd44"
  },
  {
   "metadata": {
    "ExecuteTime": {
     "end_time": "2025-05-24T13:23:47.082478Z",
     "start_time": "2025-05-24T13:23:47.080064Z"
    }
   },
   "cell_type": "code",
   "source": [
    "def insert_value_at_end_to_array_no_append(array_, value):\n",
    "    new_array_ = [None] * (len(array_) + 1)\n",
    "    for i in range(len(array_)):\n",
    "        new_array_[i] = array_[i]\n",
    "    new_array_[-1] = value\n",
    "    return new_array_"
   ],
   "id": "441747e3cc6baf2f",
   "outputs": [],
   "execution_count": 108
  },
  {
   "metadata": {
    "ExecuteTime": {
     "end_time": "2025-05-24T13:23:47.276876Z",
     "start_time": "2025-05-24T13:23:47.274989Z"
    }
   },
   "cell_type": "code",
   "source": "array_ = ['x', 'y', 'z']",
   "id": "4136450ad10cd6f9",
   "outputs": [],
   "execution_count": 109
  },
  {
   "metadata": {
    "ExecuteTime": {
     "end_time": "2025-05-24T13:23:47.448744Z",
     "start_time": "2025-05-24T13:23:47.446276Z"
    }
   },
   "cell_type": "code",
   "source": "array_2 = insert_value_at_end_to_array_no_append(array_, 99)",
   "id": "9ae9b9d794aec392",
   "outputs": [],
   "execution_count": 110
  },
  {
   "metadata": {
    "ExecuteTime": {
     "end_time": "2025-05-24T13:23:47.701847Z",
     "start_time": "2025-05-24T13:23:47.698407Z"
    }
   },
   "cell_type": "code",
   "source": "array_2",
   "id": "806a5c57583f19d3",
   "outputs": [
    {
     "data": {
      "text/plain": [
       "['x', 'y', 'z', 99]"
      ]
     },
     "execution_count": 111,
     "metadata": {},
     "output_type": "execute_result"
    }
   ],
   "execution_count": 111
  },
  {
   "metadata": {},
   "cell_type": "markdown",
   "source": "4. Insert a value at index 2 of a partially-filled array.",
   "id": "387a59e9a9c94e82"
  },
  {
   "metadata": {
    "ExecuteTime": {
     "end_time": "2025-05-24T13:23:48.491882Z",
     "start_time": "2025-05-24T13:23:48.488689Z"
    }
   },
   "cell_type": "code",
   "source": "array_partially_filled = ['x', 'y', 'z', None, None]",
   "id": "172eda5db90fe71c",
   "outputs": [],
   "execution_count": 112
  },
  {
   "metadata": {
    "ExecuteTime": {
     "end_time": "2025-05-24T13:23:48.906117Z",
     "start_time": "2025-05-24T13:23:48.903665Z"
    }
   },
   "cell_type": "code",
   "source": "insert_value_to_array(array_partially_filled, 2, 99)",
   "id": "940b7646bbc24e3f",
   "outputs": [],
   "execution_count": 113
  },
  {
   "metadata": {
    "ExecuteTime": {
     "end_time": "2025-05-24T13:23:49.311985Z",
     "start_time": "2025-05-24T13:23:49.308394Z"
    }
   },
   "cell_type": "code",
   "source": "array_partially_filled",
   "id": "d4edc8f06f41110",
   "outputs": [
    {
     "data": {
      "text/plain": [
       "['x', 'y', 99, 'z', None, None]"
      ]
     },
     "execution_count": 114,
     "metadata": {},
     "output_type": "execute_result"
    }
   ],
   "execution_count": 114
  },
  {
   "metadata": {},
   "cell_type": "markdown",
   "source": "5. Create a menu-driven program to insert, delete, and view array items.",
   "id": "66fc444e809ab781"
  },
  {
   "metadata": {
    "ExecuteTime": {
     "end_time": "2025-05-24T13:42:43.981669Z",
     "start_time": "2025-05-24T13:42:23.664284Z"
    }
   },
   "cell_type": "code",
   "source": [
    "print('----------------------------------------------------------')\n",
    "print('MENU:')\n",
    "print('1 - Insert elements to array')\n",
    "print('2 - Remove an element')\n",
    "print('3 - View array')\n",
    "print('0 - Quit')\n",
    "print('-----------------------------------------------------------')\n",
    "\n",
    "user_input = int(input('Enter menu number or press 0 to exit: '))\n",
    "array = []\n",
    "while user_input != 0:\n",
    "    if user_input == 1:\n",
    "        user_insert = int(input('Enter elements to be inserted (press 99 when done): '))\n",
    "        while user_insert != 99:\n",
    "            array.append(user_insert)\n",
    "            user_insert = int(input('Enter elements to be inserted (press 99 when done): '))\n",
    "        user_input = int(input('Enter menu number or press 0 to exit: '))\n",
    "    elif user_input == 2:\n",
    "        user_remove = int(input('Enter element to be removed: '))\n",
    "        array.remove(user_remove)\n",
    "        user_input = int(input('Enter menu number or press 0 to exit: '))\n",
    "    elif user_input == 3:\n",
    "        print(array)\n",
    "        user_input = int(input('Enter menu number or press 0 to exit: '))\n"
   ],
   "id": "21c830c8d028a9b2",
   "outputs": [
    {
     "name": "stdout",
     "output_type": "stream",
     "text": [
      "----------------------------------------------------------\n",
      "MENU:\n",
      "1 - Insert elements to array\n",
      "2 - Remove an element\n",
      "3 - View array\n",
      "0 - Quit\n",
      "-----------------------------------------------------------\n",
      "[6, 4, 3, 2, 1]\n"
     ]
    }
   ],
   "execution_count": 124
  },
  {
   "metadata": {
    "ExecuteTime": {
     "end_time": "2025-05-24T13:26:44.108045Z",
     "start_time": "2025-05-24T13:26:39.561436Z"
    }
   },
   "cell_type": "code",
   "source": "",
   "id": "8b25ba27a431f43c",
   "outputs": [],
   "execution_count": 116
  },
  {
   "metadata": {},
   "cell_type": "code",
   "outputs": [],
   "execution_count": null,
   "source": "",
   "id": "c8cd6a2a24b0aaeb"
  },
  {
   "metadata": {},
   "cell_type": "code",
   "outputs": [],
   "execution_count": null,
   "source": "",
   "id": "d626e9ec93d6ffcf"
  },
  {
   "metadata": {},
   "cell_type": "code",
   "outputs": [],
   "execution_count": null,
   "source": "",
   "id": "44fb0b464385e510"
  },
  {
   "metadata": {},
   "cell_type": "code",
   "outputs": [],
   "execution_count": null,
   "source": "",
   "id": "81b53f0e4c8796f8"
  },
  {
   "metadata": {},
   "cell_type": "code",
   "outputs": [],
   "execution_count": null,
   "source": "",
   "id": "ea7fea80334d4605"
  },
  {
   "metadata": {},
   "cell_type": "code",
   "outputs": [],
   "execution_count": null,
   "source": "",
   "id": "2be2346f89e2078e"
  },
  {
   "metadata": {},
   "cell_type": "code",
   "outputs": [],
   "execution_count": null,
   "source": "",
   "id": "f1549fc81cde9fdd"
  },
  {
   "metadata": {},
   "cell_type": "code",
   "outputs": [],
   "execution_count": null,
   "source": "",
   "id": "458863f9189d23d0"
  },
  {
   "metadata": {},
   "cell_type": "code",
   "outputs": [],
   "execution_count": null,
   "source": "",
   "id": "934ffe3e70e3bbea"
  },
  {
   "metadata": {
    "ExecuteTime": {
     "end_time": "2025-05-24T12:51:11.371438Z",
     "start_time": "2025-05-24T12:51:11.369641Z"
    }
   },
   "cell_type": "code",
   "source": "",
   "id": "53dc652db8bfd60e",
   "outputs": [],
   "execution_count": 28
  },
  {
   "metadata": {},
   "cell_type": "markdown",
   "source": [
    "\n",
    "\n",
    "\n",
    "\n",
    "\n",
    "\n",
    "\n",
    "\n",
    "\n",
    "\n",
    "\n",
    "\n",
    "\n",
    "\n",
    "\n",
    "\n",
    "\n",
    "\n",
    "### Topic 5: Complexity Trade-Off\n",
    "\n",
    "1. Access every element in an array of 1,000 items and time it.\n",
    "2. Measure the time to insert at the beginning vs end of an array.\n",
    "3. Create a chart comparing time complexities of array vs list operations.\n",
    "4. Simulate a scenario where memory waste is caused by unused slots.\n",
    "5. Track total operations needed when inserting at index 0, 1,000 times."
   ],
   "id": "800721c10ae49e84"
  },
  {
   "metadata": {
    "ExecuteTime": {
     "end_time": "2025-05-24T12:51:11.388507Z",
     "start_time": "2025-05-24T12:51:11.386768Z"
    }
   },
   "cell_type": "code",
   "source": "",
   "id": "2cd53ac9a8a1e1cb",
   "outputs": [],
   "execution_count": 28
  }
 ],
 "metadata": {
  "kernelspec": {
   "display_name": "Python 3",
   "language": "python",
   "name": "python3"
  },
  "language_info": {
   "codemirror_mode": {
    "name": "ipython",
    "version": 2
   },
   "file_extension": ".py",
   "mimetype": "text/x-python",
   "name": "python",
   "nbconvert_exporter": "python",
   "pygments_lexer": "ipython2",
   "version": "2.7.6"
  }
 },
 "nbformat": 4,
 "nbformat_minor": 5
}
