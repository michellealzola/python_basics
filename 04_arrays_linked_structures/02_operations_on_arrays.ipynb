{
 "cells": [
  {
   "metadata": {},
   "cell_type": "markdown",
   "source": [
    "# Operations on Arrays\n",
    "\n",
    "### Increasing the Size of an Array (Simulated)\n"
   ],
   "id": "f5ca4db1f4afe7ab"
  },
  {
   "metadata": {
    "ExecuteTime": {
     "end_time": "2025-05-24T12:49:14.885339Z",
     "start_time": "2025-05-24T12:49:14.882319Z"
    }
   },
   "cell_type": "code",
   "source": "old_array = [1, 2, 3]",
   "id": "f84a773d1d4f2d35",
   "outputs": [],
   "execution_count": 10
  },
  {
   "metadata": {
    "ExecuteTime": {
     "end_time": "2025-05-24T12:49:14.938354Z",
     "start_time": "2025-05-24T12:49:14.935930Z"
    }
   },
   "cell_type": "code",
   "source": "new_array = [None] * (len(old_array) + 2) # increase size by 2",
   "id": "4554838ec05eb99c",
   "outputs": [],
   "execution_count": 11
  },
  {
   "metadata": {
    "ExecuteTime": {
     "end_time": "2025-05-24T12:49:14.942584Z",
     "start_time": "2025-05-24T12:49:14.939977Z"
    }
   },
   "cell_type": "code",
   "source": [
    "for i in range(len(old_array)):\n",
    "    new_array[i] = old_array[i]"
   ],
   "id": "669cdf087101cc1c",
   "outputs": [],
   "execution_count": 12
  },
  {
   "metadata": {
    "ExecuteTime": {
     "end_time": "2025-05-24T12:49:14.954667Z",
     "start_time": "2025-05-24T12:49:14.951346Z"
    }
   },
   "cell_type": "code",
   "source": "new_array",
   "id": "9fc31f2739742675",
   "outputs": [
    {
     "data": {
      "text/plain": [
       "[1, 2, 3, None, None]"
      ]
     },
     "execution_count": 13,
     "metadata": {},
     "output_type": "execute_result"
    }
   ],
   "execution_count": 13
  },
  {
   "metadata": {},
   "cell_type": "markdown",
   "source": "## Decreasing the Size of an Array",
   "id": "d739f6ad9975906f"
  },
  {
   "metadata": {
    "ExecuteTime": {
     "end_time": "2025-05-24T12:49:14.958957Z",
     "start_time": "2025-05-24T12:49:14.956798Z"
    }
   },
   "cell_type": "code",
   "source": "array = [1, 2, 3, 4, 5]",
   "id": "a9a9431e288959ff",
   "outputs": [],
   "execution_count": 14
  },
  {
   "metadata": {
    "ExecuteTime": {
     "end_time": "2025-05-24T12:49:14.972010Z",
     "start_time": "2025-05-24T12:49:14.969291Z"
    }
   },
   "cell_type": "code",
   "source": "new_size = 3",
   "id": "3bc09c1312d8f55a",
   "outputs": [],
   "execution_count": 15
  },
  {
   "metadata": {
    "ExecuteTime": {
     "end_time": "2025-05-24T12:49:14.989470Z",
     "start_time": "2025-05-24T12:49:14.986666Z"
    }
   },
   "cell_type": "code",
   "source": "smaller_array = array[:new_size]",
   "id": "c7dd7616711d1ad9",
   "outputs": [],
   "execution_count": 16
  },
  {
   "metadata": {
    "ExecuteTime": {
     "end_time": "2025-05-24T12:49:15.003976Z",
     "start_time": "2025-05-24T12:49:15.000572Z"
    }
   },
   "cell_type": "code",
   "source": "smaller_array",
   "id": "80d4e99224c94061",
   "outputs": [
    {
     "data": {
      "text/plain": [
       "[1, 2, 3]"
      ]
     },
     "execution_count": 17,
     "metadata": {},
     "output_type": "execute_result"
    }
   ],
   "execution_count": 17
  },
  {
   "metadata": {
    "ExecuteTime": {
     "end_time": "2025-05-24T12:49:15.007799Z",
     "start_time": "2025-05-24T12:49:15.005203Z"
    }
   },
   "cell_type": "code",
   "source": "array",
   "id": "3ade93dc2de2560f",
   "outputs": [
    {
     "data": {
      "text/plain": [
       "[1, 2, 3, 4, 5]"
      ]
     },
     "execution_count": 18,
     "metadata": {},
     "output_type": "execute_result"
    }
   ],
   "execution_count": 18
  },
  {
   "metadata": {},
   "cell_type": "markdown",
   "source": "## Inserting an Item into a Growing Array",
   "id": "3fa582812821f86a"
  },
  {
   "metadata": {
    "ExecuteTime": {
     "end_time": "2025-05-24T12:49:15.010318Z",
     "start_time": "2025-05-24T12:49:15.008810Z"
    }
   },
   "cell_type": "code",
   "source": "",
   "id": "a3c90f5c58af216b",
   "outputs": [],
   "execution_count": 18
  },
  {
   "metadata": {
    "ExecuteTime": {
     "end_time": "2025-05-24T12:49:15.018375Z",
     "start_time": "2025-05-24T12:49:15.016176Z"
    }
   },
   "cell_type": "code",
   "source": "",
   "id": "cf003c06a7b44ef2",
   "outputs": [],
   "execution_count": 18
  },
  {
   "metadata": {
    "ExecuteTime": {
     "end_time": "2025-05-24T12:49:15.021094Z",
     "start_time": "2025-05-24T12:49:15.019608Z"
    }
   },
   "cell_type": "code",
   "source": "",
   "id": "a854dbc11d1581a4",
   "outputs": [],
   "execution_count": 18
  },
  {
   "metadata": {
    "ExecuteTime": {
     "end_time": "2025-05-24T12:49:15.055550Z",
     "start_time": "2025-05-24T12:49:15.053684Z"
    }
   },
   "cell_type": "code",
   "source": "",
   "id": "432a67faa3cb19c2",
   "outputs": [],
   "execution_count": 18
  },
  {
   "metadata": {
    "ExecuteTime": {
     "end_time": "2025-05-24T12:49:15.058557Z",
     "start_time": "2025-05-24T12:49:15.056819Z"
    }
   },
   "cell_type": "code",
   "source": "",
   "id": "6640107e9d4d4de9",
   "outputs": [],
   "execution_count": 18
  },
  {
   "metadata": {
    "ExecuteTime": {
     "end_time": "2025-05-24T12:49:15.061087Z",
     "start_time": "2025-05-24T12:49:15.059568Z"
    }
   },
   "cell_type": "code",
   "source": "",
   "id": "5fc3e9690fe473d9",
   "outputs": [],
   "execution_count": 18
  },
  {
   "metadata": {
    "ExecuteTime": {
     "end_time": "2025-05-24T12:49:15.073088Z",
     "start_time": "2025-05-24T12:49:15.071152Z"
    }
   },
   "cell_type": "code",
   "source": "",
   "id": "e7db12ff66eb3589",
   "outputs": [],
   "execution_count": 18
  },
  {
   "metadata": {
    "ExecuteTime": {
     "end_time": "2025-05-24T12:49:15.075707Z",
     "start_time": "2025-05-24T12:49:15.074164Z"
    }
   },
   "cell_type": "code",
   "source": "",
   "id": "1858802b5c36ae9f",
   "outputs": [],
   "execution_count": 18
  },
  {
   "metadata": {
    "ExecuteTime": {
     "end_time": "2025-05-24T12:49:15.086561Z",
     "start_time": "2025-05-24T12:49:15.084837Z"
    }
   },
   "cell_type": "code",
   "source": "",
   "id": "ba33726629c4a24c",
   "outputs": [],
   "execution_count": 18
  },
  {
   "metadata": {
    "ExecuteTime": {
     "end_time": "2025-05-24T12:49:15.112605Z",
     "start_time": "2025-05-24T12:49:15.110089Z"
    }
   },
   "cell_type": "code",
   "source": "",
   "id": "60b2d6f8ea182f5e",
   "outputs": [],
   "execution_count": 18
  },
  {
   "metadata": {
    "ExecuteTime": {
     "end_time": "2025-05-24T12:49:15.123620Z",
     "start_time": "2025-05-24T12:49:15.121612Z"
    }
   },
   "cell_type": "code",
   "source": "",
   "id": "85da37aa4c3965d0",
   "outputs": [],
   "execution_count": 18
  },
  {
   "metadata": {
    "ExecuteTime": {
     "end_time": "2025-05-24T12:49:15.125935Z",
     "start_time": "2025-05-24T12:49:15.124427Z"
    }
   },
   "cell_type": "code",
   "source": "",
   "id": "5f0e4c425713cee6",
   "outputs": [],
   "execution_count": 18
  },
  {
   "metadata": {
    "ExecuteTime": {
     "end_time": "2025-05-24T12:49:15.128942Z",
     "start_time": "2025-05-24T12:49:15.127013Z"
    }
   },
   "cell_type": "code",
   "source": "",
   "id": "53dc652db8bfd60e",
   "outputs": [],
   "execution_count": 18
  },
  {
   "metadata": {},
   "cell_type": "markdown",
   "source": [
    "\n",
    "\n",
    "\n",
    "\n",
    "\n",
    "\n",
    "\n",
    "\n",
    "## Removing an Item from an Array\n",
    "\n",
    "\n",
    "## Complexity Trade-Offs: Time, Space, and Arrays\n",
    "\n",
    "| Operation          | Time Complexity  | Notes                                 |\n",
    "| ------------------ | ---------------- | ------------------------------------- |\n",
    "| Access by Index    | O(1)             | Fast due to direct indexing           |\n",
    "| Insertion (middle) | O(n)             | Elements must shift                   |\n",
    "| Deletion (middle)  | O(n)             | Same as insertion                     |\n",
    "| Append             | O(1) (amortized) | Dynamic array (list) handles resizing |\n",
    "\n",
    "\n",
    "## Practice Exercises (No Solutions)\n",
    "### Topic 4: Array Resizing and Insertion\n",
    "\n",
    "1. Write a function that resizes an array to double its size.\n",
    "2. Insert a value at index 0 of a 5-element list.\n",
    "3. Insert a value at the end of the array without using `.append()`.\n",
    "4. Insert a value at index 2 of a partially-filled array.\n",
    "5. Create a menu-driven program to insert, delete, and view array items.\n",
    "\n",
    "\n",
    "\n",
    "### Topic 5: Complexity Trade-Off\n",
    "\n",
    "1. Access every element in an array of 1,000 items and time it.\n",
    "2. Measure the time to insert at the beginning vs end of an array.\n",
    "3. Create a chart comparing time complexities of array vs list operations.\n",
    "4. Simulate a scenario where memory waste is caused by unused slots.\n",
    "5. Track total operations needed when inserting at index 0, 1,000 times."
   ],
   "id": "800721c10ae49e84"
  },
  {
   "metadata": {
    "ExecuteTime": {
     "end_time": "2025-05-24T12:49:15.131845Z",
     "start_time": "2025-05-24T12:49:15.130068Z"
    }
   },
   "cell_type": "code",
   "source": "",
   "id": "2cd53ac9a8a1e1cb",
   "outputs": [],
   "execution_count": 18
  }
 ],
 "metadata": {
  "kernelspec": {
   "display_name": "Python 3",
   "language": "python",
   "name": "python3"
  },
  "language_info": {
   "codemirror_mode": {
    "name": "ipython",
    "version": 2
   },
   "file_extension": ".py",
   "mimetype": "text/x-python",
   "name": "python",
   "nbconvert_exporter": "python",
   "pygments_lexer": "ipython2",
   "version": "2.7.6"
  }
 },
 "nbformat": 4,
 "nbformat_minor": 5
}
