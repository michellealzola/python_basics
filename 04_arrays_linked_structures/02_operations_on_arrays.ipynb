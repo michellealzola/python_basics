{
 "cells": [
  {
   "metadata": {},
   "cell_type": "markdown",
   "source": [
    "# Operations on Arrays\n",
    "\n",
    "### Increasing the Size of an Array (Simulated)\n"
   ],
   "id": "f5ca4db1f4afe7ab"
  },
  {
   "metadata": {
    "ExecuteTime": {
     "end_time": "2025-05-24T12:40:57.627779Z",
     "start_time": "2025-05-24T12:40:57.624689Z"
    }
   },
   "cell_type": "code",
   "source": "old_array = [1, 2, 3]",
   "id": "f84a773d1d4f2d35",
   "outputs": [],
   "execution_count": 1
  },
  {
   "metadata": {
    "ExecuteTime": {
     "end_time": "2025-05-24T12:41:24.364002Z",
     "start_time": "2025-05-24T12:41:24.361329Z"
    }
   },
   "cell_type": "code",
   "source": "new_array = [None] * (len(old_array) + 2) # increase size by 2",
   "id": "4554838ec05eb99c",
   "outputs": [],
   "execution_count": 2
  },
  {
   "metadata": {
    "ExecuteTime": {
     "end_time": "2025-05-24T12:41:50.554513Z",
     "start_time": "2025-05-24T12:41:50.551849Z"
    }
   },
   "cell_type": "code",
   "source": [
    "for i in range(len(old_array)):\n",
    "    new_array[i] = old_array[i]"
   ],
   "id": "669cdf087101cc1c",
   "outputs": [],
   "execution_count": 3
  },
  {
   "metadata": {
    "ExecuteTime": {
     "end_time": "2025-05-24T12:41:55.227554Z",
     "start_time": "2025-05-24T12:41:55.223336Z"
    }
   },
   "cell_type": "code",
   "source": "new_array",
   "id": "9fc31f2739742675",
   "outputs": [
    {
     "data": {
      "text/plain": [
       "[1, 2, 3, None, None]"
      ]
     },
     "execution_count": 4,
     "metadata": {},
     "output_type": "execute_result"
    }
   ],
   "execution_count": 4
  },
  {
   "metadata": {},
   "cell_type": "code",
   "outputs": [],
   "execution_count": null,
   "source": "",
   "id": "8a4a9fa8830cdec"
  },
  {
   "metadata": {},
   "cell_type": "code",
   "outputs": [],
   "execution_count": null,
   "source": "",
   "id": "a9a9431e288959ff"
  },
  {
   "metadata": {},
   "cell_type": "code",
   "outputs": [],
   "execution_count": null,
   "source": "",
   "id": "3bc09c1312d8f55a"
  },
  {
   "metadata": {},
   "cell_type": "code",
   "outputs": [],
   "execution_count": null,
   "source": "",
   "id": "c7dd7616711d1ad9"
  },
  {
   "metadata": {},
   "cell_type": "code",
   "outputs": [],
   "execution_count": null,
   "source": "",
   "id": "80d4e99224c94061"
  },
  {
   "metadata": {},
   "cell_type": "code",
   "outputs": [],
   "execution_count": null,
   "source": "",
   "id": "3ade93dc2de2560f"
  },
  {
   "metadata": {},
   "cell_type": "markdown",
   "source": [
    "\n",
    "\n",
    "## Decreasing the Size of an Array\n",
    "\n",
    "\n",
    "## Inserting an Item into a Growing Array\n",
    "\n",
    "\n",
    "## Removing an Item from an Array\n",
    "\n",
    "\n",
    "## Complexity Trade-Offs: Time, Space, and Arrays\n",
    "\n",
    "| Operation          | Time Complexity  | Notes                                 |\n",
    "| ------------------ | ---------------- | ------------------------------------- |\n",
    "| Access by Index    | O(1)             | Fast due to direct indexing           |\n",
    "| Insertion (middle) | O(n)             | Elements must shift                   |\n",
    "| Deletion (middle)  | O(n)             | Same as insertion                     |\n",
    "| Append             | O(1) (amortized) | Dynamic array (list) handles resizing |\n",
    "\n",
    "\n",
    "## Practice Exercises (No Solutions)\n",
    "### Topic 4: Array Resizing and Insertion\n",
    "\n",
    "1. Write a function that resizes an array to double its size.\n",
    "2. Insert a value at index 0 of a 5-element list.\n",
    "3. Insert a value at the end of the array without using `.append()`.\n",
    "4. Insert a value at index 2 of a partially-filled array.\n",
    "5. Create a menu-driven program to insert, delete, and view array items.\n",
    "\n",
    "\n",
    "\n",
    "### Topic 5: Complexity Trade-Off\n",
    "\n",
    "1. Access every element in an array of 1,000 items and time it.\n",
    "2. Measure the time to insert at the beginning vs end of an array.\n",
    "3. Create a chart comparing time complexities of array vs list operations.\n",
    "4. Simulate a scenario where memory waste is caused by unused slots.\n",
    "5. Track total operations needed when inserting at index 0, 1,000 times."
   ],
   "id": "800721c10ae49e84"
  },
  {
   "metadata": {},
   "cell_type": "code",
   "outputs": [],
   "execution_count": null,
   "source": "",
   "id": "2cd53ac9a8a1e1cb"
  }
 ],
 "metadata": {
  "kernelspec": {
   "display_name": "Python 3",
   "language": "python",
   "name": "python3"
  },
  "language_info": {
   "codemirror_mode": {
    "name": "ipython",
    "version": 2
   },
   "file_extension": ".py",
   "mimetype": "text/x-python",
   "name": "python",
   "nbconvert_exporter": "python",
   "pygments_lexer": "ipython2",
   "version": "2.7.6"
  }
 },
 "nbformat": 4,
 "nbformat_minor": 5
}
