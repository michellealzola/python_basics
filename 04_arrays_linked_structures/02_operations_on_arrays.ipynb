{
 "cells": [
  {
   "cell_type": "markdown",
   "id": "f5ca4db1f4afe7ab",
   "metadata": {},
   "source": [
    "# Operations on Arrays\n",
    "\n",
    "### Increasing the Size of an Array (Simulated)\n"
   ]
  },
  {
   "cell_type": "code",
   "execution_count": 19,
   "id": "f84a773d1d4f2d35",
   "metadata": {
    "ExecuteTime": {
     "end_time": "2025-05-24T12:51:10.970852Z",
     "start_time": "2025-05-24T12:51:10.968249Z"
    }
   },
   "outputs": [],
   "source": [
    "old_array = [1, 2, 3]"
   ]
  },
  {
   "cell_type": "code",
   "execution_count": 20,
   "id": "4554838ec05eb99c",
   "metadata": {
    "ExecuteTime": {
     "end_time": "2025-05-24T12:51:11.038490Z",
     "start_time": "2025-05-24T12:51:11.036026Z"
    }
   },
   "outputs": [],
   "source": [
    "new_array = [None] * (len(old_array) + 2) # increase size by 2"
   ]
  },
  {
   "cell_type": "code",
   "execution_count": 21,
   "id": "669cdf087101cc1c",
   "metadata": {
    "ExecuteTime": {
     "end_time": "2025-05-24T12:51:11.049653Z",
     "start_time": "2025-05-24T12:51:11.047Z"
    }
   },
   "outputs": [],
   "source": [
    "for i in range(len(old_array)):\n",
    "    new_array[i] = old_array[i]"
   ]
  },
  {
   "cell_type": "code",
   "execution_count": 22,
   "id": "9fc31f2739742675",
   "metadata": {
    "ExecuteTime": {
     "end_time": "2025-05-24T12:51:11.053929Z",
     "start_time": "2025-05-24T12:51:11.050854Z"
    }
   },
   "outputs": [
    {
     "data": {
      "text/plain": [
       "[1, 2, 3, None, None]"
      ]
     },
     "execution_count": 22,
     "metadata": {},
     "output_type": "execute_result"
    }
   ],
   "source": [
    "new_array"
   ]
  },
  {
   "cell_type": "markdown",
   "id": "d739f6ad9975906f",
   "metadata": {},
   "source": [
    "## Decreasing the Size of an Array"
   ]
  },
  {
   "cell_type": "code",
   "execution_count": 23,
   "id": "a9a9431e288959ff",
   "metadata": {
    "ExecuteTime": {
     "end_time": "2025-05-24T12:51:11.057729Z",
     "start_time": "2025-05-24T12:51:11.055617Z"
    }
   },
   "outputs": [],
   "source": [
    "array = [1, 2, 3, 4, 5]"
   ]
  },
  {
   "cell_type": "code",
   "execution_count": 24,
   "id": "3bc09c1312d8f55a",
   "metadata": {
    "ExecuteTime": {
     "end_time": "2025-05-24T12:51:11.069337Z",
     "start_time": "2025-05-24T12:51:11.067054Z"
    }
   },
   "outputs": [],
   "source": [
    "new_size = 3"
   ]
  },
  {
   "cell_type": "code",
   "execution_count": 25,
   "id": "c7dd7616711d1ad9",
   "metadata": {
    "ExecuteTime": {
     "end_time": "2025-05-24T12:51:11.084850Z",
     "start_time": "2025-05-24T12:51:11.082719Z"
    }
   },
   "outputs": [],
   "source": [
    "smaller_array = array[:new_size]"
   ]
  },
  {
   "cell_type": "code",
   "execution_count": 26,
   "id": "80d4e99224c94061",
   "metadata": {
    "ExecuteTime": {
     "end_time": "2025-05-24T12:51:11.110869Z",
     "start_time": "2025-05-24T12:51:11.107430Z"
    }
   },
   "outputs": [
    {
     "data": {
      "text/plain": [
       "[1, 2, 3]"
      ]
     },
     "execution_count": 26,
     "metadata": {},
     "output_type": "execute_result"
    }
   ],
   "source": [
    "smaller_array"
   ]
  },
  {
   "cell_type": "code",
   "execution_count": 27,
   "id": "3ade93dc2de2560f",
   "metadata": {
    "ExecuteTime": {
     "end_time": "2025-05-24T12:51:11.115282Z",
     "start_time": "2025-05-24T12:51:11.112319Z"
    }
   },
   "outputs": [
    {
     "data": {
      "text/plain": [
       "[1, 2, 3, 4, 5]"
      ]
     },
     "execution_count": 27,
     "metadata": {},
     "output_type": "execute_result"
    }
   ],
   "source": [
    "array"
   ]
  },
  {
   "cell_type": "markdown",
   "id": "3fa582812821f86a",
   "metadata": {},
   "source": [
    "## Inserting an Item into a Growing Array"
   ]
  },
  {
   "cell_type": "code",
   "execution_count": 50,
   "id": "a3c90f5c58af216b",
   "metadata": {
    "ExecuteTime": {
     "end_time": "2025-05-24T12:57:48.328724Z",
     "start_time": "2025-05-24T12:57:48.325829Z"
    }
   },
   "outputs": [],
   "source": [
    "def insert(arr, index, value):\n",
    "    arr.append(None) # make space\n",
    "    for i in range(len(arr) - 1, index, -1): # shift right\n",
    "        arr[i] = arr[i - 1]\n",
    "    arr[index] = value"
   ]
  },
  {
   "cell_type": "code",
   "execution_count": 51,
   "id": "cf003c06a7b44ef2",
   "metadata": {
    "ExecuteTime": {
     "end_time": "2025-05-24T12:57:48.635585Z",
     "start_time": "2025-05-24T12:57:48.632192Z"
    }
   },
   "outputs": [],
   "source": [
    "arr = [1, 2, 3]"
   ]
  },
  {
   "cell_type": "code",
   "execution_count": 52,
   "id": "a854dbc11d1581a4",
   "metadata": {
    "ExecuteTime": {
     "end_time": "2025-05-24T12:57:48.992510Z",
     "start_time": "2025-05-24T12:57:48.990027Z"
    }
   },
   "outputs": [],
   "source": [
    "insert(arr, 1, 99)"
   ]
  },
  {
   "cell_type": "code",
   "execution_count": 53,
   "id": "432a67faa3cb19c2",
   "metadata": {
    "ExecuteTime": {
     "end_time": "2025-05-24T12:57:49.969Z",
     "start_time": "2025-05-24T12:57:49.964673Z"
    }
   },
   "outputs": [
    {
     "data": {
      "text/plain": [
       "[1, 99, 2, 3]"
      ]
     },
     "execution_count": 53,
     "metadata": {},
     "output_type": "execute_result"
    }
   ],
   "source": [
    "arr"
   ]
  },
  {
   "cell_type": "markdown",
   "id": "e9fd73750e757015",
   "metadata": {},
   "source": [
    "## Removing an Item from an Array"
   ]
  },
  {
   "cell_type": "code",
   "execution_count": 54,
   "id": "5fc3e9690fe473d9",
   "metadata": {
    "ExecuteTime": {
     "end_time": "2025-05-24T12:59:47.355388Z",
     "start_time": "2025-05-24T12:59:47.352700Z"
    }
   },
   "outputs": [],
   "source": [
    "def remove(arr, index):\n",
    "    for i in range(index, len(arr) - 1): # shift left\n",
    "        arr[1] = arr[i + 1]\n",
    "    arr.pop()"
   ]
  },
  {
   "cell_type": "code",
   "execution_count": 55,
   "id": "e7db12ff66eb3589",
   "metadata": {
    "ExecuteTime": {
     "end_time": "2025-05-24T12:59:52.938566Z",
     "start_time": "2025-05-24T12:59:52.935881Z"
    }
   },
   "outputs": [],
   "source": [
    "arr = [1, 2, 3]"
   ]
  },
  {
   "cell_type": "code",
   "execution_count": 56,
   "id": "1858802b5c36ae9f",
   "metadata": {
    "ExecuteTime": {
     "end_time": "2025-05-24T12:59:59.616457Z",
     "start_time": "2025-05-24T12:59:59.614298Z"
    }
   },
   "outputs": [],
   "source": [
    "remove(arr, 1)"
   ]
  },
  {
   "cell_type": "code",
   "execution_count": 57,
   "id": "ba33726629c4a24c",
   "metadata": {
    "ExecuteTime": {
     "end_time": "2025-05-24T13:00:04.057159Z",
     "start_time": "2025-05-24T13:00:04.054330Z"
    }
   },
   "outputs": [
    {
     "data": {
      "text/plain": [
       "[1, 3]"
      ]
     },
     "execution_count": 57,
     "metadata": {},
     "output_type": "execute_result"
    }
   ],
   "source": [
    "arr"
   ]
  },
  {
   "cell_type": "markdown",
   "id": "353512249189b217",
   "metadata": {},
   "source": [
    "## Complexity Trade-Offs: Time, Space, and Arrays\n",
    "\n",
    "| Operation          | Time Complexity  | Notes                                 |\n",
    "| ------------------ | ---------------- | ------------------------------------- |\n",
    "| Access by Index    | O(1)             | Fast due to direct indexing           |\n",
    "| Insertion (middle) | O(n)             | Elements must shift                   |\n",
    "| Deletion (middle)  | O(n)             | Same as insertion                     |\n",
    "| Append             | O(1) (amortized) | Dynamic array (list) handles resizing |\n",
    "\n",
    "\n",
    "## Practice Exercises\n",
    "### Topic 4: Array Resizing and Insertion\n",
    "\n",
    "1. Write a function that resizes an array to double its size.\n"
   ]
  },
  {
   "cell_type": "code",
   "execution_count": 100,
   "id": "5f0e4c425713cee6",
   "metadata": {
    "ExecuteTime": {
     "end_time": "2025-05-24T13:23:45.334328Z",
     "start_time": "2025-05-24T13:23:45.330895Z"
    }
   },
   "outputs": [],
   "source": [
    "def double_size(old_array_):\n",
    "    new_array_ = [None] * (2 * len(old_array_))\n",
    "    for i in range(len(old_array_)):\n",
    "        new_array_[i] = old_array_[i]\n",
    "    return new_array_"
   ]
  },
  {
   "cell_type": "code",
   "execution_count": 101,
   "id": "be2f4ea28e9d2b37",
   "metadata": {
    "ExecuteTime": {
     "end_time": "2025-05-24T13:23:45.501128Z",
     "start_time": "2025-05-24T13:23:45.498261Z"
    }
   },
   "outputs": [],
   "source": [
    "old_array = ['x', 'y', 'z']"
   ]
  },
  {
   "cell_type": "code",
   "execution_count": 102,
   "id": "adbbff544769e632",
   "metadata": {
    "ExecuteTime": {
     "end_time": "2025-05-24T13:23:45.675571Z",
     "start_time": "2025-05-24T13:23:45.672247Z"
    }
   },
   "outputs": [],
   "source": [
    "new_array = double_size(old_array)"
   ]
  },
  {
   "cell_type": "code",
   "execution_count": 103,
   "id": "e45abe02f9426a9a",
   "metadata": {
    "ExecuteTime": {
     "end_time": "2025-05-24T13:23:45.838388Z",
     "start_time": "2025-05-24T13:23:45.834286Z"
    }
   },
   "outputs": [
    {
     "data": {
      "text/plain": [
       "['x', 'y', 'z', None, None, None]"
      ]
     },
     "execution_count": 103,
     "metadata": {},
     "output_type": "execute_result"
    }
   ],
   "source": [
    "new_array"
   ]
  },
  {
   "cell_type": "markdown",
   "id": "e62150783089b461",
   "metadata": {},
   "source": [
    "2. Insert a value at index 0 of a 5-element list."
   ]
  },
  {
   "cell_type": "code",
   "execution_count": 104,
   "id": "88957ced46da9627",
   "metadata": {
    "ExecuteTime": {
     "end_time": "2025-05-24T13:23:46.115710Z",
     "start_time": "2025-05-24T13:23:46.113070Z"
    }
   },
   "outputs": [],
   "source": [
    "def insert_value_to_array(array_, index, value):\n",
    "    array_.append(None)\n",
    "    for i in range(len(array_) - 1, index, -1):\n",
    "        array_[i] = array_[i - 1]\n",
    "    array_[index] = value"
   ]
  },
  {
   "cell_type": "code",
   "execution_count": 105,
   "id": "5353c04fe1f5d0e3",
   "metadata": {
    "ExecuteTime": {
     "end_time": "2025-05-24T13:23:46.269544Z",
     "start_time": "2025-05-24T13:23:46.267150Z"
    }
   },
   "outputs": [],
   "source": [
    "array_ = [1, 2, 3, 4, 5]"
   ]
  },
  {
   "cell_type": "code",
   "execution_count": 106,
   "id": "a3dc988710182f8b",
   "metadata": {
    "ExecuteTime": {
     "end_time": "2025-05-24T13:23:46.410268Z",
     "start_time": "2025-05-24T13:23:46.407635Z"
    }
   },
   "outputs": [],
   "source": [
    "insert_value_to_array(array_, 0, 99)"
   ]
  },
  {
   "cell_type": "code",
   "execution_count": 107,
   "id": "99779081a34d01bd",
   "metadata": {
    "ExecuteTime": {
     "end_time": "2025-05-24T13:23:46.558557Z",
     "start_time": "2025-05-24T13:23:46.555031Z"
    }
   },
   "outputs": [
    {
     "data": {
      "text/plain": [
       "[99, 1, 2, 3, 4, 5]"
      ]
     },
     "execution_count": 107,
     "metadata": {},
     "output_type": "execute_result"
    }
   ],
   "source": [
    "array_"
   ]
  },
  {
   "cell_type": "markdown",
   "id": "703b7af8d33efd44",
   "metadata": {},
   "source": [
    "3. Insert a value at the end of the array without using `.append()`."
   ]
  },
  {
   "cell_type": "code",
   "execution_count": 108,
   "id": "441747e3cc6baf2f",
   "metadata": {
    "ExecuteTime": {
     "end_time": "2025-05-24T13:23:47.082478Z",
     "start_time": "2025-05-24T13:23:47.080064Z"
    }
   },
   "outputs": [],
   "source": [
    "def insert_value_at_end_to_array_no_append(array_, value):\n",
    "    new_array_ = [None] * (len(array_) + 1)\n",
    "    for i in range(len(array_)):\n",
    "        new_array_[i] = array_[i]\n",
    "    new_array_[-1] = value\n",
    "    return new_array_"
   ]
  },
  {
   "cell_type": "code",
   "execution_count": 109,
   "id": "4136450ad10cd6f9",
   "metadata": {
    "ExecuteTime": {
     "end_time": "2025-05-24T13:23:47.276876Z",
     "start_time": "2025-05-24T13:23:47.274989Z"
    }
   },
   "outputs": [],
   "source": [
    "array_ = ['x', 'y', 'z']"
   ]
  },
  {
   "cell_type": "code",
   "execution_count": 110,
   "id": "9ae9b9d794aec392",
   "metadata": {
    "ExecuteTime": {
     "end_time": "2025-05-24T13:23:47.448744Z",
     "start_time": "2025-05-24T13:23:47.446276Z"
    }
   },
   "outputs": [],
   "source": [
    "array_2 = insert_value_at_end_to_array_no_append(array_, 99)"
   ]
  },
  {
   "cell_type": "code",
   "execution_count": 111,
   "id": "806a5c57583f19d3",
   "metadata": {
    "ExecuteTime": {
     "end_time": "2025-05-24T13:23:47.701847Z",
     "start_time": "2025-05-24T13:23:47.698407Z"
    }
   },
   "outputs": [
    {
     "data": {
      "text/plain": [
       "['x', 'y', 'z', 99]"
      ]
     },
     "execution_count": 111,
     "metadata": {},
     "output_type": "execute_result"
    }
   ],
   "source": [
    "array_2"
   ]
  },
  {
   "cell_type": "markdown",
   "id": "387a59e9a9c94e82",
   "metadata": {},
   "source": [
    "4. Insert a value at index 2 of a partially-filled array."
   ]
  },
  {
   "cell_type": "code",
   "execution_count": 112,
   "id": "172eda5db90fe71c",
   "metadata": {
    "ExecuteTime": {
     "end_time": "2025-05-24T13:23:48.491882Z",
     "start_time": "2025-05-24T13:23:48.488689Z"
    }
   },
   "outputs": [],
   "source": [
    "array_partially_filled = ['x', 'y', 'z', None, None]"
   ]
  },
  {
   "cell_type": "code",
   "execution_count": 113,
   "id": "940b7646bbc24e3f",
   "metadata": {
    "ExecuteTime": {
     "end_time": "2025-05-24T13:23:48.906117Z",
     "start_time": "2025-05-24T13:23:48.903665Z"
    }
   },
   "outputs": [],
   "source": [
    "insert_value_to_array(array_partially_filled, 2, 99)"
   ]
  },
  {
   "cell_type": "code",
   "execution_count": 114,
   "id": "d4edc8f06f41110",
   "metadata": {
    "ExecuteTime": {
     "end_time": "2025-05-24T13:23:49.311985Z",
     "start_time": "2025-05-24T13:23:49.308394Z"
    }
   },
   "outputs": [
    {
     "data": {
      "text/plain": [
       "['x', 'y', 99, 'z', None, None]"
      ]
     },
     "execution_count": 114,
     "metadata": {},
     "output_type": "execute_result"
    }
   ],
   "source": [
    "array_partially_filled"
   ]
  },
  {
   "cell_type": "markdown",
   "id": "66fc444e809ab781",
   "metadata": {},
   "source": [
    "5. Create a menu-driven program to insert, delete, and view array items."
   ]
  },
  {
   "cell_type": "code",
   "id": "21c830c8d028a9b2",
   "metadata": {
    "ExecuteTime": {
     "end_time": "2025-05-24T13:50:20.588326Z",
     "start_time": "2025-05-24T13:49:40.828684Z"
    }
   },
   "source": [
    "def print_menu():\n",
    "    print(\"\\nMENU:\")\n",
    "    print(\"1 - Insert elements to array\")\n",
    "    print(\"2 - Remove an element\")\n",
    "    print(\"3 - View array\")\n",
    "    print(\"0 - Quit\")\n",
    "\n",
    "def insert_elements(array_):\n",
    "    while True:\n",
    "        item = input(\"Enter element to insert (type 'done' to stop): \")\n",
    "        if item.lower() == 'done':\n",
    "            break\n",
    "        array_.append(item)\n",
    "\n",
    "def remove_element(array_):\n",
    "    item = input(\"Enter value to remove: \")\n",
    "    if item in array_:\n",
    "        array_.remove(item)\n",
    "        print(f\"{item} removed.\")\n",
    "    else:\n",
    "        print(\"Item not found.\")\n",
    "\n",
    "def view_array(array_):\n",
    "    print(\"Current array:\", array_)\n",
    "\n",
    "# Main driver\n",
    "array = []\n",
    "user_input = None\n",
    "\n",
    "while user_input != '0':\n",
    "    print_menu()\n",
    "    user_input = input(\"Enter menu number: \")\n",
    "\n",
    "    if user_input == '1':\n",
    "        insert_elements(array)\n",
    "    elif user_input == '2':\n",
    "        remove_element(array)\n",
    "    elif user_input == '3':\n",
    "        view_array(array)\n",
    "    elif user_input == '0':\n",
    "        print(\"Goodbye!\")\n",
    "    else:\n",
    "        print(\"Invalid input.\")\n"
   ],
   "outputs": [
    {
     "name": "stdout",
     "output_type": "stream",
     "text": [
      "\n",
      "MENU:\n",
      "1 - Insert elements to array\n",
      "2 - Remove an element\n",
      "3 - View array\n",
      "0 - Quit\n",
      "\n",
      "MENU:\n",
      "1 - Insert elements to array\n",
      "2 - Remove an element\n",
      "3 - View array\n",
      "0 - Quit\n",
      "Current array: ['1', '2', '3', '4', '5']\n",
      "\n",
      "MENU:\n",
      "1 - Insert elements to array\n",
      "2 - Remove an element\n",
      "3 - View array\n",
      "0 - Quit\n",
      "1 removed.\n",
      "\n",
      "MENU:\n",
      "1 - Insert elements to array\n",
      "2 - Remove an element\n",
      "3 - View array\n",
      "0 - Quit\n",
      "Goodbye!\n"
     ]
    }
   ],
   "execution_count": 126
  },
  {
   "metadata": {},
   "cell_type": "markdown",
   "source": [
    "### Topic 5: Complexity Trade-Off\n",
    "\n",
    "1. Access every element in an array of 1,000 items and time it.\n"
   ],
   "id": "4e2c3c6e9504e363"
  },
  {
   "cell_type": "code",
   "id": "c8cd6a2a24b0aaeb",
   "metadata": {
    "ExecuteTime": {
     "end_time": "2025-05-24T13:51:49.992961Z",
     "start_time": "2025-05-24T13:51:39.052808Z"
    }
   },
   "source": "%timeit arr = [x for x in range(1, 1000 + 1)]",
   "outputs": [
    {
     "name": "stdout",
     "output_type": "stream",
     "text": [
      "13.4 μs ± 55.9 ns per loop (mean ± std. dev. of 7 runs, 100,000 loops each)\n"
     ]
    }
   ],
   "execution_count": 129
  },
  {
   "metadata": {},
   "cell_type": "markdown",
   "source": "2. Measure the time to insert at the beginning vs end of an array.",
   "id": "760316a905559266"
  },
  {
   "cell_type": "code",
   "id": "44fb0b464385e510",
   "metadata": {
    "ExecuteTime": {
     "end_time": "2025-05-24T13:54:32.052686Z",
     "start_time": "2025-05-24T13:54:30.394884Z"
    }
   },
   "source": "%timeit arr.insert(0, 99)",
   "outputs": [
    {
     "name": "stdout",
     "output_type": "stream",
     "text": [
      "203 μs ± 4.14 μs per loop (mean ± std. dev. of 7 runs, 1,000 loops each)\n"
     ]
    }
   ],
   "execution_count": 131
  },
  {
   "cell_type": "code",
   "id": "81b53f0e4c8796f8",
   "metadata": {
    "ExecuteTime": {
     "end_time": "2025-05-24T13:54:37.765471Z",
     "start_time": "2025-05-24T13:54:34.533614Z"
    }
   },
   "source": "%timeit arr.insert(-1, 99)",
   "outputs": [
    {
     "name": "stdout",
     "output_type": "stream",
     "text": [
      "39.9 ns ± 3.08 ns per loop (mean ± std. dev. of 7 runs, 10,000,000 loops each)\n"
     ]
    }
   ],
   "execution_count": 132
  },
  {
   "cell_type": "markdown",
   "id": "800721c10ae49e84",
   "metadata": {},
   "source": [
    "3. Create a chart comparing time complexities of array vs list operations.\n",
    "4. Simulate a scenario where memory waste is caused by unused slots.\n",
    "5. Track total operations needed when inserting at index 0, 1,000 times."
   ]
  },
  {
   "metadata": {
    "ExecuteTime": {
     "end_time": "2025-05-24T13:57:49.358863Z",
     "start_time": "2025-05-24T13:57:48.528943Z"
    }
   },
   "cell_type": "code",
   "source": [
    "import matplotlib.pyplot as plt\n",
    "\n",
    "operations = [\n",
    "    \"Access by Index\", \"Append\", \"Insert at 0\", \"Delete at 0\", \"Search\"\n",
    "]\n",
    "time_complexity = [\"O(1)\", \"O(1)*\", \"O(n)\", \"O(n)\", \"O(n)\"]\n",
    "\n",
    "plt.figure(figsize=(8, 5))\n",
    "plt.barh(operations, [1, 1, 1000, 1000, 1000], color='skyblue')\n",
    "plt.xlabel(\"Relative Time Complexity\")\n",
    "plt.title(\"Time Complexity Comparison: Python List Operations\")\n",
    "plt.grid(True, axis='x')\n",
    "plt.show()\n"
   ],
   "id": "6135eda9ffd90e68",
   "outputs": [
    {
     "data": {
      "text/plain": [
       "<Figure size 800x500 with 1 Axes>"
      ],
      "image/png": "[encoded data removed]"
     },
     "metadata": {},
     "output_type": "display_data"
    }
   ],
   "execution_count": 134
  },
  {
   "metadata": {
    "ExecuteTime": {
     "end_time": "2025-05-24T13:58:08.577567Z",
     "start_time": "2025-05-24T13:58:08.574052Z"
    }
   },
   "cell_type": "code",
   "source": [
    "array = [None] * 100\n",
    "logical_size = 20\n",
    "\n",
    "# Fill only 20 elements\n",
    "for i in range(logical_size):\n",
    "    array[i] = i + 1\n",
    "\n",
    "# Calculate and display memory waste\n",
    "unused_slots = len(array) - logical_size\n",
    "waste_percent = (unused_slots / len(array)) * 100\n",
    "\n",
    "print(f\"Unused Slots: {unused_slots}\")\n",
    "print(f\"Memory Waste: {waste_percent:.2f}%\")\n"
   ],
   "id": "d808cf3b146d881d",
   "outputs": [
    {
     "name": "stdout",
     "output_type": "stream",
     "text": [
      "Unused Slots: 80\n",
      "Memory Waste: 80.00%\n"
     ]
    }
   ],
   "execution_count": 135
  },
  {
   "metadata": {
    "ExecuteTime": {
     "end_time": "2025-05-24T13:59:14.644276Z",
     "start_time": "2025-05-24T13:59:14.641122Z"
    }
   },
   "cell_type": "code",
   "source": [
    "total_operations = 0\n",
    "arr = []\n",
    "\n",
    "for i in range(1000):\n",
    "    # Insert at index 0\n",
    "    arr.insert(0, i)\n",
    "    total_operations += len(arr) - 1  # Elements shifted right\n",
    "\n",
    "print(\"Total shift operations:\", total_operations)\n"
   ],
   "id": "fba9e385c6c8d441",
   "outputs": [
    {
     "name": "stdout",
     "output_type": "stream",
     "text": [
      "Total shift operations: 499500\n"
     ]
    }
   ],
   "execution_count": 137
  },
  {
   "metadata": {},
   "cell_type": "code",
   "outputs": [],
   "execution_count": null,
   "source": "",
   "id": "436cb36b40d02da3"
  }
 ],
 "metadata": {
  "kernelspec": {
   "display_name": "Python 3 (ipykernel)",
   "language": "python",
   "name": "python3"
  },
  "language_info": {
   "codemirror_mode": {
    "name": "ipython",
    "version": 3
   },
   "file_extension": ".py",
   "mimetype": "text/x-python",
   "name": "python",
   "nbconvert_exporter": "python",
   "pygments_lexer": "ipython3",
   "version": "3.13.2"
  }
 },
 "nbformat": 4,
 "nbformat_minor": 5
}
