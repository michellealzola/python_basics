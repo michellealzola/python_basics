{
 "cells": [
  {
   "metadata": {},
   "cell_type": "markdown",
   "source": [
    "# Array Data Structures\n",
    "\n",
    "## Section 1: The Array Data Structure\n",
    "\n",
    "### Concept\n",
    "\n",
    "An **array** is a fixed-size container that holds elements of the same type, stored **contiguously** in memory.\n",
    "\n",
    "### Key Properties:\n",
    "\n",
    "| Property          | Description                                                                   |\n",
    "| ----------------- | ----------------------------------------------------------------------------- |\n",
    "| Contiguous Memory | All elements stored in adjacent memory blocks                                 |\n",
    "| Random Access     | Any element can be accessed directly by its index (O(1) time)                 |\n",
    "| Fixed Size        | Array size is determined at creation (unless dynamic resizing is implemented) |\n",
    "\n"
   ],
   "id": "f636a95fa1e7ac17"
  },
  {
   "metadata": {},
   "cell_type": "markdown",
   "source": "### Python Example using `array` module",
   "id": "7c18e1441fb62ae8"
  },
  {
   "metadata": {
    "ExecuteTime": {
     "end_time": "2025-05-23T22:18:07.244403Z",
     "start_time": "2025-05-23T22:18:07.241953Z"
    }
   },
   "cell_type": "code",
   "source": "import array",
   "id": "630b54cf7abd0db6",
   "outputs": [],
   "execution_count": 169
  },
  {
   "metadata": {
    "ExecuteTime": {
     "end_time": "2025-05-23T22:18:07.531169Z",
     "start_time": "2025-05-23T22:18:07.528218Z"
    }
   },
   "cell_type": "code",
   "source": "arr = array.array('i', [10, 20, 30, 40, 50])",
   "id": "8bdeb52d7df61ad2",
   "outputs": [],
   "execution_count": 170
  },
  {
   "metadata": {
    "ExecuteTime": {
     "end_time": "2025-05-23T22:18:07.549674Z",
     "start_time": "2025-05-23T22:18:07.545904Z"
    }
   },
   "cell_type": "code",
   "source": "arr[2]",
   "id": "49ccdba4d222e6e7",
   "outputs": [
    {
     "data": {
      "text/plain": [
       "30"
      ]
     },
     "execution_count": 171,
     "metadata": {},
     "output_type": "execute_result"
    }
   ],
   "execution_count": 171
  },
  {
   "metadata": {},
   "cell_type": "markdown",
   "source": [
    "```python\n",
    "arr = array.array('i', [10, 20, 30, 40, 50])\n",
    "```\n",
    "\n",
    "The `'i'` here is the **type code** for the `array.array()` constructor in Python.\n",
    "\n",
    "\n",
    "\n",
    "### What is `'i'`?\n",
    "\n",
    "* `'i'` stands for a **signed integer**.\n",
    "* Each element in the array will be stored as a **C-style signed int**, typically 4 bytes (32-bit), depending on your platform.\n",
    "\n",
    "\n",
    "\n",
    "### Why Use Type Codes?\n",
    "\n",
    "The `array` module in Python provides a space-efficient array implementation. It stores data in a **compact format** by restricting all elements to a specific type, defined by this **type code**.\n",
    "\n",
    "\n",
    "\n",
    "### Other Common Type Codes:\n",
    "\n",
    "| Type Code | C Type                   | Python Type | Size (bytes) |\n",
    "| --------- | ------------------------ | ----------- | ------------ |\n",
    "| `'b'`     | signed char              | int         | 1            |\n",
    "| `'B'`     | unsigned char            | int         | 1            |\n",
    "| `'u'`     | Py\\_UNICODE (deprecated) | unicode     | 2 or 4       |\n",
    "| `'h'`     | signed short             | int         | 2            |\n",
    "| `'H'`     | unsigned short           | int         | 2            |\n",
    "| `'i'`     | signed int               | int         | 2 or 4       |\n",
    "| `'I'`     | unsigned int             | int         | 2 or 4       |\n",
    "| `'l'`     | signed long              | int         | 4            |\n",
    "| `'L'`     | unsigned long            | int         | 4            |\n",
    "| `'q'`     | signed long long         | int         | 8            |\n",
    "| `'Q'`     | unsigned long long       | int         | 8            |\n",
    "| `'f'`     | float                    | float       | 4            |\n",
    "| `'d'`     | double                   | float       | 8            |\n",
    "\n",
    "> **Note:** The actual size in bytes may vary by platform.\n",
    "\n",
    "\n",
    "\n",
    "### Example with `'f'` and `'d'`\n",
    "\n",
    "```python\n",
    "import array\n",
    "\n",
    "float_array = array.array('f', [1.0, 2.0, 3.0])  # 32-bit float\n",
    "double_array = array.array('d', [1.0, 2.0, 3.0])  # 64-bit float (double)\n",
    "\n",
    "print(float_array)\n",
    "print(double_array)\n",
    "```\n",
    "\n",
    "\n",
    "\n",
    "### Summary\n",
    "\n",
    "* `'i'` is a **type code** for a **signed integer**.\n",
    "* It defines the type and size of array elements.\n",
    "* Using `array.array()` with a type code gives **memory efficiency** and **C-style performance**.\n",
    "\n",
    "\n"
   ],
   "id": "679c8be9e223b628"
  },
  {
   "metadata": {
    "ExecuteTime": {
     "end_time": "2025-05-23T22:18:07.554810Z",
     "start_time": "2025-05-23T22:18:07.552451Z"
    }
   },
   "cell_type": "code",
   "source": "float_array = array.array('f', [10, 20, 30, 40, 50])",
   "id": "5e1adb2af70116e5",
   "outputs": [],
   "execution_count": 172
  },
  {
   "metadata": {
    "ExecuteTime": {
     "end_time": "2025-05-23T22:18:07.570807Z",
     "start_time": "2025-05-23T22:18:07.567269Z"
    }
   },
   "cell_type": "code",
   "source": "float_array[2]",
   "id": "66f56e72e8488e7f",
   "outputs": [
    {
     "data": {
      "text/plain": [
       "30.0"
      ]
     },
     "execution_count": 173,
     "metadata": {},
     "output_type": "execute_result"
    }
   ],
   "execution_count": 173
  },
  {
   "metadata": {
    "ExecuteTime": {
     "end_time": "2025-05-23T22:18:07.644076Z",
     "start_time": "2025-05-23T22:18:07.641270Z"
    }
   },
   "cell_type": "code",
   "source": "double_array = array.array('d', [10, 20, 30, 40, 50])",
   "id": "63c9fba780e1430c",
   "outputs": [],
   "execution_count": 174
  },
  {
   "metadata": {
    "ExecuteTime": {
     "end_time": "2025-05-23T22:18:07.706135Z",
     "start_time": "2025-05-23T22:18:07.702601Z"
    }
   },
   "cell_type": "code",
   "source": "double_array[2]",
   "id": "8f8b6586d26dc88f",
   "outputs": [
    {
     "data": {
      "text/plain": [
       "30.0"
      ]
     },
     "execution_count": 175,
     "metadata": {},
     "output_type": "execute_result"
    }
   ],
   "execution_count": 175
  },
  {
   "metadata": {},
   "cell_type": "markdown",
   "source": [
    "## Section 2: Random Access and Contiguous Memory\n",
    "\n",
    "### Concept\n",
    "\n",
    "* **Random Access**: Retrieve an element directly using its index (constant time).\n",
    "* **Contiguous Memory**: Memory blocks for all elements are adjacent, improving cache performance.\n",
    "\n",
    "### Code Sample:\n"
   ],
   "id": "8ba22144ed8ecdd2"
  },
  {
   "metadata": {
    "ExecuteTime": {
     "end_time": "2025-05-23T22:18:07.747350Z",
     "start_time": "2025-05-23T22:18:07.745102Z"
    }
   },
   "cell_type": "code",
   "source": "arr = array.array('f', [1.0, 2.0, 3.0, 4.0])",
   "id": "cbeda4977a995f2f",
   "outputs": [],
   "execution_count": 176
  },
  {
   "metadata": {
    "ExecuteTime": {
     "end_time": "2025-05-23T22:18:07.775865Z",
     "start_time": "2025-05-23T22:18:07.772977Z"
    }
   },
   "cell_type": "code",
   "source": "print(f'Element at index 1: {arr[1]}')",
   "id": "b7ed999a0ef87212",
   "outputs": [
    {
     "name": "stdout",
     "output_type": "stream",
     "text": [
      "Element at index 1: 2.0\n"
     ]
    }
   ],
   "execution_count": 177
  },
  {
   "metadata": {
    "ExecuteTime": {
     "end_time": "2025-05-23T22:18:07.797525Z",
     "start_time": "2025-05-23T22:18:07.795158Z"
    }
   },
   "cell_type": "code",
   "source": "arr[2] = 9.5",
   "id": "c5b99dd1515acecf",
   "outputs": [],
   "execution_count": 178
  },
  {
   "metadata": {
    "ExecuteTime": {
     "end_time": "2025-05-23T22:18:07.815989Z",
     "start_time": "2025-05-23T22:18:07.813047Z"
    }
   },
   "cell_type": "code",
   "source": "print(f'Updated array: {arr.tolist()}')",
   "id": "44d2fce0088125",
   "outputs": [
    {
     "name": "stdout",
     "output_type": "stream",
     "text": [
      "Updated array: [1.0, 2.0, 9.5, 4.0]\n"
     ]
    }
   ],
   "execution_count": 179
  },
  {
   "metadata": {},
   "cell_type": "markdown",
   "source": [
    "## Practice Exercises\n",
    "\n",
    "### Topic 1: Random Access and Contiguous Memory\n",
    "\n",
    "1. Create an array of 10 integers. Print each element using a loop."
   ],
   "id": "186d3ae2158f423c"
  },
  {
   "metadata": {
    "ExecuteTime": {
     "end_time": "2025-05-23T22:18:07.849333Z",
     "start_time": "2025-05-23T22:18:07.846872Z"
    }
   },
   "cell_type": "code",
   "source": "arr = array.array('i', range(1, 11))",
   "id": "347e3a5f9e52d43b",
   "outputs": [],
   "execution_count": 180
  },
  {
   "metadata": {
    "ExecuteTime": {
     "end_time": "2025-05-23T22:18:07.876620Z",
     "start_time": "2025-05-23T22:18:07.874005Z"
    }
   },
   "cell_type": "code",
   "source": [
    "for val in arr:\n",
    "    print(val, end=' ')"
   ],
   "id": "c071e1f06baa7ba",
   "outputs": [
    {
     "name": "stdout",
     "output_type": "stream",
     "text": [
      "1 2 3 4 5 6 7 8 9 10 "
     ]
    }
   ],
   "execution_count": 181
  },
  {
   "metadata": {},
   "cell_type": "markdown",
   "source": "2. Access and modify the 5th element of the array.",
   "id": "54a166c5d75904e4"
  },
  {
   "metadata": {
    "ExecuteTime": {
     "end_time": "2025-05-23T22:18:07.915550Z",
     "start_time": "2025-05-23T22:18:07.912507Z"
    }
   },
   "cell_type": "code",
   "source": "arr[4] = 101",
   "id": "93c5b384939b9b9e",
   "outputs": [],
   "execution_count": 182
  },
  {
   "metadata": {
    "ExecuteTime": {
     "end_time": "2025-05-23T22:18:07.931353Z",
     "start_time": "2025-05-23T22:18:07.928511Z"
    }
   },
   "cell_type": "code",
   "source": "print(f'Updated array: {arr.tolist()}')",
   "id": "14a2b646b7e7813a",
   "outputs": [
    {
     "name": "stdout",
     "output_type": "stream",
     "text": [
      "Updated array: [1, 2, 3, 4, 101, 6, 7, 8, 9, 10]\n"
     ]
    }
   ],
   "execution_count": 183
  },
  {
   "metadata": {},
   "cell_type": "markdown",
   "source": "3. Create a function that takes an array and an index, then returns the value at that index.",
   "id": "f009a6bde4e21b7"
  },
  {
   "metadata": {
    "ExecuteTime": {
     "end_time": "2025-05-23T22:18:07.957458Z",
     "start_time": "2025-05-23T22:18:07.954465Z"
    }
   },
   "cell_type": "code",
   "source": [
    "def array_index_value(array_, index):\n",
    "    return array_[index]"
   ],
   "id": "9043a46b49bf10c",
   "outputs": [],
   "execution_count": 184
  },
  {
   "metadata": {
    "ExecuteTime": {
     "end_time": "2025-05-23T22:18:08.001485Z",
     "start_time": "2025-05-23T22:18:07.997608Z"
    }
   },
   "cell_type": "code",
   "source": "array_index_value(arr, 4)",
   "id": "ad2091de0821aa03",
   "outputs": [
    {
     "data": {
      "text/plain": [
       "101"
      ]
     },
     "execution_count": 185,
     "metadata": {},
     "output_type": "execute_result"
    }
   ],
   "execution_count": 185
  },
  {
   "metadata": {},
   "cell_type": "markdown",
   "source": "4. Write a function to sum the first and last elements.",
   "id": "a0c20ec8e1d9b42a"
  },
  {
   "metadata": {
    "ExecuteTime": {
     "end_time": "2025-05-23T22:18:08.027221Z",
     "start_time": "2025-05-23T22:18:08.024599Z"
    }
   },
   "cell_type": "code",
   "source": [
    "def first_last_elements_sum(array_):\n",
    "    return array_[0] + array_[-1]"
   ],
   "id": "8ed64a3d03a0e772",
   "outputs": [],
   "execution_count": 186
  },
  {
   "metadata": {
    "ExecuteTime": {
     "end_time": "2025-05-23T22:18:08.067588Z",
     "start_time": "2025-05-23T22:18:08.064721Z"
    }
   },
   "cell_type": "code",
   "source": "first_last_elements_sum(arr)",
   "id": "88a3044caf2fc832",
   "outputs": [
    {
     "data": {
      "text/plain": [
       "11"
      ]
     },
     "execution_count": 187,
     "metadata": {},
     "output_type": "execute_result"
    }
   ],
   "execution_count": 187
  },
  {
   "metadata": {},
   "cell_type": "markdown",
   "source": "5. Implement a bounds-checking function that raises an error if an invalid index is accessed.",
   "id": "b09b0644327ef5d3"
  },
  {
   "metadata": {
    "ExecuteTime": {
     "end_time": "2025-05-23T22:18:08.081467Z",
     "start_time": "2025-05-23T22:18:08.077957Z"
    }
   },
   "cell_type": "code",
   "source": [
    "def bounds_check(array_, index):\n",
    "    if index > len(array_) or index < 0:\n",
    "        return f'The index {index} is out of bounds.'\n",
    "    return f'The index {index} is valid.'"
   ],
   "id": "991be1816f9d8914",
   "outputs": [],
   "execution_count": 188
  },
  {
   "metadata": {
    "ExecuteTime": {
     "end_time": "2025-05-23T22:18:08.088420Z",
     "start_time": "2025-05-23T22:18:08.085469Z"
    }
   },
   "cell_type": "code",
   "source": "bounds_check(arr, 4)",
   "id": "d7a1fcf3eaad2f8c",
   "outputs": [
    {
     "data": {
      "text/plain": [
       "'The index 4 is valid.'"
      ]
     },
     "execution_count": 189,
     "metadata": {},
     "output_type": "execute_result"
    }
   ],
   "execution_count": 189
  },
  {
   "metadata": {
    "ExecuteTime": {
     "end_time": "2025-05-23T22:18:08.123411Z",
     "start_time": "2025-05-23T22:18:08.119940Z"
    }
   },
   "cell_type": "code",
   "source": "bounds_check(arr, 11)",
   "id": "168dc9148910e63d",
   "outputs": [
    {
     "data": {
      "text/plain": [
       "'The index 11 is out of bounds.'"
      ]
     },
     "execution_count": 190,
     "metadata": {},
     "output_type": "execute_result"
    }
   ],
   "execution_count": 190
  },
  {
   "metadata": {},
   "cell_type": "markdown",
   "source": [
    "## Section 3: Static Memory vs Dynamic Memory\n",
    "\n",
    "### Concepts\n",
    "\n",
    "| Feature           | Static Memory              | Dynamic Memory                          |\n",
    "| ----------------- | -------------------------- | --------------------------------------- |\n",
    "| Allocated at      | Compile time               | Runtime                                 |\n",
    "| Resizeable        | No                         | Yes                                     |\n",
    "| Example in Python | `array.array`, fixed lists | `list`, dynamic behavior on `.append()` |\n",
    "\n",
    "### Example:"
   ],
   "id": "29933c6ec8636079"
  },
  {
   "metadata": {
    "ExecuteTime": {
     "end_time": "2025-05-23T22:18:08.137755Z",
     "start_time": "2025-05-23T22:18:08.135611Z"
    }
   },
   "cell_type": "code",
   "source": [
    "# static\n",
    "arr = array.array('i', [1, 2, 3])"
   ],
   "id": "e36c86edd5a53d54",
   "outputs": [],
   "execution_count": 191
  },
  {
   "metadata": {
    "ExecuteTime": {
     "end_time": "2025-05-23T22:18:08.166263Z",
     "start_time": "2025-05-23T22:18:08.152710Z"
    }
   },
   "cell_type": "code",
   "source": "arr.append('hello')  # TypeError",
   "id": "a46afe2e0901c76",
   "outputs": [
    {
     "ename": "TypeError",
     "evalue": "'str' object cannot be interpreted as an integer",
     "output_type": "error",
     "traceback": [
      "\u001B[31m---------------------------------------------------------------------------\u001B[39m",
      "\u001B[31mTypeError\u001B[39m                                 Traceback (most recent call last)",
      "\u001B[36mCell\u001B[39m\u001B[36m \u001B[39m\u001B[32mIn[192]\u001B[39m\u001B[32m, line 1\u001B[39m\n\u001B[32m----> \u001B[39m\u001B[32m1\u001B[39m \u001B[43marr\u001B[49m\u001B[43m.\u001B[49m\u001B[43mappend\u001B[49m\u001B[43m(\u001B[49m\u001B[33;43m'\u001B[39;49m\u001B[33;43mhello\u001B[39;49m\u001B[33;43m'\u001B[39;49m\u001B[43m)\u001B[49m  \u001B[38;5;66;03m# TypeError\u001B[39;00m\n",
      "\u001B[31mTypeError\u001B[39m: 'str' object cannot be interpreted as an integer"
     ]
    }
   ],
   "execution_count": 192
  },
  {
   "metadata": {
    "ExecuteTime": {
     "end_time": "2025-05-23T22:18:08.208918Z",
     "start_time": "2025-05-23T22:18:08.206502Z"
    }
   },
   "cell_type": "code",
   "source": [
    "# Dynamic\n",
    "dynamic = [1, 2, 3]"
   ],
   "id": "ce7357c367eca012",
   "outputs": [],
   "execution_count": 193
  },
  {
   "metadata": {
    "ExecuteTime": {
     "end_time": "2025-05-23T22:18:08.229722Z",
     "start_time": "2025-05-23T22:18:08.226864Z"
    }
   },
   "cell_type": "code",
   "source": "dynamic.append('hello')",
   "id": "ed27410b7667f219",
   "outputs": [],
   "execution_count": 194
  },
  {
   "metadata": {
    "ExecuteTime": {
     "end_time": "2025-05-23T22:18:08.406518Z",
     "start_time": "2025-05-23T22:18:08.402585Z"
    }
   },
   "cell_type": "code",
   "source": "dynamic",
   "id": "2cd2c734f4b55c72",
   "outputs": [
    {
     "data": {
      "text/plain": [
       "[1, 2, 3, 'hello']"
      ]
     },
     "execution_count": 195,
     "metadata": {},
     "output_type": "execute_result"
    }
   ],
   "execution_count": 195
  },
  {
   "metadata": {},
   "cell_type": "markdown",
   "source": [
    "## Practice Exercises\n",
    "\n",
    "### Topic 2: Static vs Dynamic Memory\n",
    "\n",
    "1. Create a static array using `array.array` of 5 floats.\n",
    "\n"
   ],
   "id": "1c6505446d87d5b1"
  },
  {
   "metadata": {
    "ExecuteTime": {
     "end_time": "2025-05-23T22:18:08.438142Z",
     "start_time": "2025-05-23T22:18:08.435888Z"
    }
   },
   "cell_type": "code",
   "source": "arr = array.array('f', range(1, 6))",
   "id": "1a89cadd20c850ad",
   "outputs": [],
   "execution_count": 196
  },
  {
   "metadata": {
    "ExecuteTime": {
     "end_time": "2025-05-23T22:18:08.461609Z",
     "start_time": "2025-05-23T22:18:08.458340Z"
    }
   },
   "cell_type": "code",
   "source": "arr",
   "id": "deef4ef2f195a7f5",
   "outputs": [
    {
     "data": {
      "text/plain": [
       "array('f', [1.0, 2.0, 3.0, 4.0, 5.0])"
      ]
     },
     "execution_count": 197,
     "metadata": {},
     "output_type": "execute_result"
    }
   ],
   "execution_count": 197
  },
  {
   "metadata": {},
   "cell_type": "markdown",
   "source": "2. Try appending a string to this array. What happens?",
   "id": "94dfa4b1493b480b"
  },
  {
   "metadata": {
    "ExecuteTime": {
     "end_time": "2025-05-23T22:18:08.495863Z",
     "start_time": "2025-05-23T22:18:08.481918Z"
    }
   },
   "cell_type": "code",
   "source": "arr.append('hello')",
   "id": "312b1d92e4466794",
   "outputs": [
    {
     "ename": "TypeError",
     "evalue": "must be real number, not str",
     "output_type": "error",
     "traceback": [
      "\u001B[31m---------------------------------------------------------------------------\u001B[39m",
      "\u001B[31mTypeError\u001B[39m                                 Traceback (most recent call last)",
      "\u001B[36mCell\u001B[39m\u001B[36m \u001B[39m\u001B[32mIn[198]\u001B[39m\u001B[32m, line 1\u001B[39m\n\u001B[32m----> \u001B[39m\u001B[32m1\u001B[39m \u001B[43marr\u001B[49m\u001B[43m.\u001B[49m\u001B[43mappend\u001B[49m\u001B[43m(\u001B[49m\u001B[33;43m'\u001B[39;49m\u001B[33;43mhello\u001B[39;49m\u001B[33;43m'\u001B[39;49m\u001B[43m)\u001B[49m\n",
      "\u001B[31mTypeError\u001B[39m: must be real number, not str"
     ]
    }
   ],
   "execution_count": 198
  },
  {
   "metadata": {},
   "cell_type": "markdown",
   "source": "3. Create a list and dynamically add 5 items.",
   "id": "c8a09a8a05e4fe2"
  },
  {
   "metadata": {
    "ExecuteTime": {
     "end_time": "2025-05-23T22:18:08.501059Z",
     "start_time": "2025-05-23T22:18:08.498853Z"
    }
   },
   "cell_type": "code",
   "source": "list_ = [float(x) for x in range(1, 6)]",
   "id": "36a80f089812f233",
   "outputs": [],
   "execution_count": 199
  },
  {
   "metadata": {
    "ExecuteTime": {
     "end_time": "2025-05-23T22:18:08.541576Z",
     "start_time": "2025-05-23T22:18:08.537979Z"
    }
   },
   "cell_type": "code",
   "source": "list_",
   "id": "7bd264c5399f3bf5",
   "outputs": [
    {
     "data": {
      "text/plain": [
       "[1.0, 2.0, 3.0, 4.0, 5.0]"
      ]
     },
     "execution_count": 200,
     "metadata": {},
     "output_type": "execute_result"
    }
   ],
   "execution_count": 200
  },
  {
   "metadata": {
    "ExecuteTime": {
     "end_time": "2025-05-23T22:18:08.576813Z",
     "start_time": "2025-05-23T22:18:08.574413Z"
    }
   },
   "cell_type": "code",
   "source": "list_.append('hello')",
   "id": "f23f852b8c547c8e",
   "outputs": [],
   "execution_count": 201
  },
  {
   "metadata": {
    "ExecuteTime": {
     "end_time": "2025-05-23T22:18:08.608979Z",
     "start_time": "2025-05-23T22:18:08.605522Z"
    }
   },
   "cell_type": "code",
   "source": "list_",
   "id": "15a4135b462819b4",
   "outputs": [
    {
     "data": {
      "text/plain": [
       "[1.0, 2.0, 3.0, 4.0, 5.0, 'hello']"
      ]
     },
     "execution_count": 202,
     "metadata": {},
     "output_type": "execute_result"
    }
   ],
   "execution_count": 202
  },
  {
   "metadata": {},
   "cell_type": "markdown",
   "source": "4. Compare memory addresses before and after appending.",
   "id": "df0a7d73d1dd363d"
  },
  {
   "metadata": {
    "ExecuteTime": {
     "end_time": "2025-05-23T22:18:08.638189Z",
     "start_time": "2025-05-23T22:18:08.636058Z"
    }
   },
   "cell_type": "code",
   "source": "before = id(list_)",
   "id": "811868554651dce1",
   "outputs": [],
   "execution_count": 203
  },
  {
   "metadata": {
    "ExecuteTime": {
     "end_time": "2025-05-23T22:18:08.672264Z",
     "start_time": "2025-05-23T22:18:08.669577Z"
    }
   },
   "cell_type": "code",
   "source": "list_.append('Python')",
   "id": "9f87cb41ed479f30",
   "outputs": [],
   "execution_count": 204
  },
  {
   "metadata": {
    "ExecuteTime": {
     "end_time": "2025-05-23T22:18:08.684648Z",
     "start_time": "2025-05-23T22:18:08.682014Z"
    }
   },
   "cell_type": "code",
   "source": "after = id(list_)",
   "id": "1bfb21fdd3f91308",
   "outputs": [],
   "execution_count": 205
  },
  {
   "metadata": {
    "ExecuteTime": {
     "end_time": "2025-05-23T22:18:08.700631Z",
     "start_time": "2025-05-23T22:18:08.697052Z"
    }
   },
   "cell_type": "code",
   "source": "before",
   "id": "d35c420d80db90c5",
   "outputs": [
    {
     "data": {
      "text/plain": [
       "2366491034752"
      ]
     },
     "execution_count": 206,
     "metadata": {},
     "output_type": "execute_result"
    }
   ],
   "execution_count": 206
  },
  {
   "metadata": {
    "ExecuteTime": {
     "end_time": "2025-05-23T22:18:08.732284Z",
     "start_time": "2025-05-23T22:18:08.728285Z"
    }
   },
   "cell_type": "code",
   "source": "after",
   "id": "a5055563a83dffc7",
   "outputs": [
    {
     "data": {
      "text/plain": [
       "2366491034752"
      ]
     },
     "execution_count": 207,
     "metadata": {},
     "output_type": "execute_result"
    }
   ],
   "execution_count": 207
  },
  {
   "metadata": {},
   "cell_type": "markdown",
   "source": [
    "### Expected Result:\n",
    "\n",
    "Before == After: the memory address usually stays the same because Python over-allocates memory to optimize performance.\n",
    "\n",
    "Python lists grow dynamically, but reallocation only happens occasionally (not on every .append())."
   ],
   "id": "7e69679713e11732"
  },
  {
   "metadata": {},
   "cell_type": "markdown",
   "source": "5. Simulate capacity doubling behavior for a dynamic list.",
   "id": "22cea07e0c96fc58"
  },
  {
   "metadata": {
    "ExecuteTime": {
     "end_time": "2025-05-23T22:18:08.752746Z",
     "start_time": "2025-05-23T22:18:08.750444Z"
    }
   },
   "cell_type": "code",
   "source": [
    "# Python’s list implementation over-allocates memory to avoid frequent resizing. You can simulate and observe this with the sys.getsizeof() function:\n",
    "import sys"
   ],
   "id": "8a54cae0270df95d",
   "outputs": [],
   "execution_count": 208
  },
  {
   "metadata": {
    "ExecuteTime": {
     "end_time": "2025-05-23T22:18:08.768602Z",
     "start_time": "2025-05-23T22:18:08.766143Z"
    }
   },
   "cell_type": "code",
   "source": "lst = []",
   "id": "8db0108bba2e3157",
   "outputs": [],
   "execution_count": 209
  },
  {
   "metadata": {
    "ExecuteTime": {
     "end_time": "2025-05-23T22:18:08.811725Z",
     "start_time": "2025-05-23T22:18:08.809436Z"
    }
   },
   "cell_type": "code",
   "source": "sizes = []",
   "id": "b88333adb52c317e",
   "outputs": [],
   "execution_count": 210
  },
  {
   "metadata": {
    "ExecuteTime": {
     "end_time": "2025-05-23T22:18:08.827065Z",
     "start_time": "2025-05-23T22:18:08.824692Z"
    }
   },
   "cell_type": "code",
   "source": [
    "for i in range(50):\n",
    "    lst.append(i)\n",
    "    sizes.append(sys.getsizeof(lst))  # track memory size in bytes"
   ],
   "id": "18dfcce03ff03862",
   "outputs": [],
   "execution_count": 211
  },
  {
   "metadata": {
    "ExecuteTime": {
     "end_time": "2025-05-23T22:18:08.850821Z",
     "start_time": "2025-05-23T22:18:08.847662Z"
    }
   },
   "cell_type": "code",
   "source": [
    "for i in range(1, len(sizes)):\n",
    "    # print('----------------')\n",
    "    # print(sizes[i])\n",
    "    # print(sizes[i-1])\n",
    "    # print('----------------')\n",
    "    if sizes[i] != sizes[i-1]:        \n",
    "        print(f'Append {i} --> Size Changed: {sizes[i - 1]} --> {sizes[i]}')"
   ],
   "id": "7fcab12b3296bce4",
   "outputs": [
    {
     "name": "stdout",
     "output_type": "stream",
     "text": [
      "Append 4 --> Size Changed: 88 --> 120\n",
      "Append 8 --> Size Changed: 120 --> 184\n",
      "Append 16 --> Size Changed: 184 --> 248\n",
      "Append 24 --> Size Changed: 248 --> 312\n",
      "Append 32 --> Size Changed: 312 --> 376\n",
      "Append 40 --> Size Changed: 376 --> 472\n"
     ]
    }
   ],
   "execution_count": 212
  },
  {
   "metadata": {},
   "cell_type": "markdown",
   "source": [
    "## Section 4: Physical Size and Logical Size\n",
    "\n",
    "### Concepts\n",
    "\n",
    "* **Physical Size**: Total capacity allocated.\n",
    "* **Logical Size**: Number of elements currently used.\n",
    "\n",
    "### Example:"
   ],
   "id": "8134f913bc130230"
  },
  {
   "metadata": {
    "ExecuteTime": {
     "end_time": "2025-05-23T22:18:08.888055Z",
     "start_time": "2025-05-23T22:18:08.885894Z"
    }
   },
   "cell_type": "code",
   "source": [
    "# Simulate logical vs physical using list with pre-allocation\n",
    "physical_size = 10"
   ],
   "id": "42ab63bb2fbe0e08",
   "outputs": [],
   "execution_count": 213
  },
  {
   "metadata": {
    "ExecuteTime": {
     "end_time": "2025-05-23T22:18:08.895183Z",
     "start_time": "2025-05-23T22:18:08.893199Z"
    }
   },
   "cell_type": "code",
   "source": "arr = [None] * physical_size",
   "id": "234ca3976125fa10",
   "outputs": [],
   "execution_count": 214
  },
  {
   "metadata": {
    "ExecuteTime": {
     "end_time": "2025-05-23T22:18:08.907513Z",
     "start_time": "2025-05-23T22:18:08.905169Z"
    }
   },
   "cell_type": "code",
   "source": "print(f'Physical size: {len(arr)}')  # logical size is 0 since no element is in use",
   "id": "33cfc7f8b30af157",
   "outputs": [
    {
     "name": "stdout",
     "output_type": "stream",
     "text": [
      "Physical size: 10\n"
     ]
    }
   ],
   "execution_count": 215
  },
  {
   "metadata": {
    "ExecuteTime": {
     "end_time": "2025-05-23T22:18:08.923522Z",
     "start_time": "2025-05-23T22:18:08.921010Z"
    }
   },
   "cell_type": "code",
   "source": "arr[0] = 'A'",
   "id": "a0e029aa743c5f1f",
   "outputs": [],
   "execution_count": 216
  },
  {
   "metadata": {
    "ExecuteTime": {
     "end_time": "2025-05-23T22:18:08.958041Z",
     "start_time": "2025-05-23T22:18:08.955454Z"
    }
   },
   "cell_type": "code",
   "source": "arr[1] = 'B'",
   "id": "ccd6f018707f1451",
   "outputs": [],
   "execution_count": 217
  },
  {
   "metadata": {
    "ExecuteTime": {
     "end_time": "2025-05-23T22:18:08.974102Z",
     "start_time": "2025-05-23T22:18:08.971247Z"
    }
   },
   "cell_type": "code",
   "source": "arr[2] = 'C'",
   "id": "cd382de9a1fcbedf",
   "outputs": [],
   "execution_count": 218
  },
  {
   "metadata": {
    "ExecuteTime": {
     "end_time": "2025-05-23T22:18:27.527861Z",
     "start_time": "2025-05-23T22:18:27.525032Z"
    }
   },
   "cell_type": "code",
   "source": "# logical_size = 3",
   "id": "b92b5688cfe09904",
   "outputs": [],
   "execution_count": 224
  },
  {
   "metadata": {},
   "cell_type": "markdown",
   "source": [
    "## Practice Exercises\n",
    "### Topic 3: Physical vs Logical Size\n",
    "\n",
    "1. Create a 20-slot array but only use 7 slots. Track logical size.\n"
   ],
   "id": "61aab202a57531b8"
  },
  {
   "metadata": {
    "ExecuteTime": {
     "end_time": "2025-05-23T22:18:28.070307Z",
     "start_time": "2025-05-23T22:18:28.068231Z"
    }
   },
   "cell_type": "code",
   "source": "array = [None] * 20",
   "id": "9df6a137c292fb94",
   "outputs": [],
   "execution_count": 225
  },
  {
   "metadata": {
    "ExecuteTime": {
     "end_time": "2025-05-23T22:18:28.553917Z",
     "start_time": "2025-05-23T22:18:28.551485Z"
    }
   },
   "cell_type": "code",
   "source": "used_elements = ['A', 'B', 'C', 'D', 'E', 'F', 'G']",
   "id": "c819a4d0b26a435",
   "outputs": [],
   "execution_count": 226
  },
  {
   "metadata": {
    "ExecuteTime": {
     "end_time": "2025-05-23T22:18:28.798170Z",
     "start_time": "2025-05-23T22:18:28.793618Z"
    }
   },
   "cell_type": "code",
   "source": "logical_size = len(used_elements)",
   "id": "48254f9229cfd89a",
   "outputs": [],
   "execution_count": 227
  },
  {
   "metadata": {
    "ExecuteTime": {
     "end_time": "2025-05-23T22:18:29.228747Z",
     "start_time": "2025-05-23T22:18:29.225913Z"
    }
   },
   "cell_type": "code",
   "source": "logical_size",
   "id": "701a78aee30ba102",
   "outputs": [
    {
     "data": {
      "text/plain": [
       "7"
      ]
     },
     "execution_count": 228,
     "metadata": {},
     "output_type": "execute_result"
    }
   ],
   "execution_count": 228
  },
  {
   "metadata": {
    "ExecuteTime": {
     "end_time": "2025-05-23T22:19:03.574287Z",
     "start_time": "2025-05-23T22:19:03.571367Z"
    }
   },
   "cell_type": "code",
   "source": [
    "for i in range(logical_size):\n",
    "    array[i] = used_elements[i]"
   ],
   "id": "5a14c48b7f0a3433",
   "outputs": [],
   "execution_count": 229
  },
  {
   "metadata": {
    "ExecuteTime": {
     "end_time": "2025-05-23T22:19:07.606359Z",
     "start_time": "2025-05-23T22:19:07.600380Z"
    }
   },
   "cell_type": "code",
   "source": "array",
   "id": "cb3fcd0d0798f9e",
   "outputs": [
    {
     "data": {
      "text/plain": [
       "['A',\n",
       " 'B',\n",
       " 'C',\n",
       " 'D',\n",
       " 'E',\n",
       " 'F',\n",
       " 'G',\n",
       " None,\n",
       " None,\n",
       " None,\n",
       " None,\n",
       " None,\n",
       " None,\n",
       " None,\n",
       " None,\n",
       " None,\n",
       " None,\n",
       " None,\n",
       " None,\n",
       " None]"
      ]
     },
     "execution_count": 230,
     "metadata": {},
     "output_type": "execute_result"
    }
   ],
   "execution_count": 230
  },
  {
   "metadata": {
    "ExecuteTime": {
     "end_time": "2025-05-23T22:19:35.831441Z",
     "start_time": "2025-05-23T22:19:35.829339Z"
    }
   },
   "cell_type": "code",
   "source": "physical_size = len(array)",
   "id": "92217d6274f6ed94",
   "outputs": [],
   "execution_count": 231
  },
  {
   "metadata": {
    "ExecuteTime": {
     "end_time": "2025-05-23T22:19:38.765963Z",
     "start_time": "2025-05-23T22:19:38.762333Z"
    }
   },
   "cell_type": "code",
   "source": "physical_size",
   "id": "25b48ad521fd90e5",
   "outputs": [
    {
     "data": {
      "text/plain": [
       "20"
      ]
     },
     "execution_count": 232,
     "metadata": {},
     "output_type": "execute_result"
    }
   ],
   "execution_count": 232
  },
  {
   "metadata": {},
   "cell_type": "code",
   "outputs": [],
   "execution_count": null,
   "source": "",
   "id": "3f3445f9264e8eb8"
  },
  {
   "metadata": {},
   "cell_type": "code",
   "outputs": [],
   "execution_count": null,
   "source": "",
   "id": "fc9d9e07ea782252"
  },
  {
   "metadata": {},
   "cell_type": "code",
   "outputs": [],
   "execution_count": null,
   "source": "",
   "id": "70585925d6957e38"
  },
  {
   "metadata": {},
   "cell_type": "code",
   "outputs": [],
   "execution_count": null,
   "source": "",
   "id": "98a5f50e21ad8ff2"
  },
  {
   "metadata": {},
   "cell_type": "code",
   "outputs": [],
   "execution_count": null,
   "source": "",
   "id": "7b2f9a0293f33c00"
  },
  {
   "metadata": {},
   "cell_type": "code",
   "outputs": [],
   "execution_count": null,
   "source": "",
   "id": "c19133d6f654d89f"
  },
  {
   "metadata": {},
   "cell_type": "code",
   "outputs": [],
   "execution_count": null,
   "source": "",
   "id": "a31c6800f15e105d"
  },
  {
   "metadata": {},
   "cell_type": "code",
   "outputs": [],
   "execution_count": null,
   "source": "",
   "id": "3b5d46593aaec2fb"
  },
  {
   "metadata": {
    "ExecuteTime": {
     "end_time": "2025-05-23T22:18:09.100883Z",
     "start_time": "2025-05-23T22:18:09.098724Z"
    }
   },
   "cell_type": "code",
   "source": "",
   "id": "a20abe95d76ec369",
   "outputs": [],
   "execution_count": 223
  },
  {
   "metadata": {
    "ExecuteTime": {
     "end_time": "2025-05-23T22:18:09.128997Z",
     "start_time": "2025-05-23T22:18:09.126533Z"
    }
   },
   "cell_type": "code",
   "source": "",
   "id": "3166a8c6349a7cfe",
   "outputs": [],
   "execution_count": 223
  },
  {
   "metadata": {},
   "cell_type": "markdown",
   "source": [
    "\n",
    "2. Create a function to \"shrink\" the array to its logical size.\n",
    "3. Write a function to count used slots (not None).\n",
    "4. Modify a logical slot and print all used values.\n",
    "5. Re-initialize an array with physical size 30 and logical size 0."
   ],
   "id": "2803d86c8ecf31fd"
  },
  {
   "metadata": {
    "ExecuteTime": {
     "end_time": "2025-05-23T22:18:09.146176Z",
     "start_time": "2025-05-23T22:18:09.144032Z"
    }
   },
   "cell_type": "code",
   "source": "",
   "id": "55219f54f3391b0a",
   "outputs": [],
   "execution_count": 223
  }
 ],
 "metadata": {
  "kernelspec": {
   "display_name": "Python 3",
   "language": "python",
   "name": "python3"
  },
  "language_info": {
   "codemirror_mode": {
    "name": "ipython",
    "version": 2
   },
   "file_extension": ".py",
   "mimetype": "text/x-python",
   "name": "python",
   "nbconvert_exporter": "python",
   "pygments_lexer": "ipython2",
   "version": "2.7.6"
  }
 },
 "nbformat": 4,
 "nbformat_minor": 5
}
