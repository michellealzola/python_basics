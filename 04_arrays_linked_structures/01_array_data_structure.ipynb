{
 "cells": [
  {
   "metadata": {},
   "cell_type": "markdown",
   "source": [
    "# Array Data Structures\n",
    "\n",
    "## Section 1: The Array Data Structure\n",
    "\n",
    "### Concept\n",
    "\n",
    "An **array** is a fixed-size container that holds elements of the same type, stored **contiguously** in memory.\n",
    "\n",
    "### Key Properties:\n",
    "\n",
    "| Property          | Description                                                                   |\n",
    "| ----------------- | ----------------------------------------------------------------------------- |\n",
    "| Contiguous Memory | All elements stored in adjacent memory blocks                                 |\n",
    "| Random Access     | Any element can be accessed directly by its index (O(1) time)                 |\n",
    "| Fixed Size        | Array size is determined at creation (unless dynamic resizing is implemented) |\n",
    "\n"
   ],
   "id": "f636a95fa1e7ac17"
  },
  {
   "metadata": {},
   "cell_type": "markdown",
   "source": "### Python Example using `array` module",
   "id": "7c18e1441fb62ae8"
  },
  {
   "metadata": {
    "ExecuteTime": {
     "end_time": "2025-05-23T19:19:58.788836Z",
     "start_time": "2025-05-23T19:19:58.785793Z"
    }
   },
   "cell_type": "code",
   "source": "import array",
   "id": "630b54cf7abd0db6",
   "outputs": [],
   "execution_count": 1
  },
  {
   "metadata": {
    "ExecuteTime": {
     "end_time": "2025-05-23T19:20:27.298441Z",
     "start_time": "2025-05-23T19:20:27.295342Z"
    }
   },
   "cell_type": "code",
   "source": "arr = array.array('i', [10, 20, 30, 40, 50])",
   "id": "8bdeb52d7df61ad2",
   "outputs": [],
   "execution_count": 2
  },
  {
   "metadata": {
    "ExecuteTime": {
     "end_time": "2025-05-23T19:20:35.975377Z",
     "start_time": "2025-05-23T19:20:35.970511Z"
    }
   },
   "cell_type": "code",
   "source": "arr[2]",
   "id": "49ccdba4d222e6e7",
   "outputs": [
    {
     "data": {
      "text/plain": [
       "30"
      ]
     },
     "execution_count": 3,
     "metadata": {},
     "output_type": "execute_result"
    }
   ],
   "execution_count": 3
  },
  {
   "metadata": {},
   "cell_type": "markdown",
   "source": [
    "```python\n",
    "arr = array.array('i', [10, 20, 30, 40, 50])\n",
    "```\n",
    "\n",
    "The `'i'` here is the **type code** for the `array.array()` constructor in Python.\n",
    "\n",
    "\n",
    "\n",
    "### What is `'i'`?\n",
    "\n",
    "* `'i'` stands for a **signed integer**.\n",
    "* Each element in the array will be stored as a **C-style signed int**, typically 4 bytes (32-bit), depending on your platform.\n",
    "\n",
    "\n",
    "\n",
    "### Why Use Type Codes?\n",
    "\n",
    "The `array` module in Python provides a space-efficient array implementation. It stores data in a **compact format** by restricting all elements to a specific type, defined by this **type code**.\n",
    "\n",
    "\n",
    "\n",
    "### Other Common Type Codes:\n",
    "\n",
    "| Type Code | C Type                   | Python Type | Size (bytes) |\n",
    "| --------- | ------------------------ | ----------- | ------------ |\n",
    "| `'b'`     | signed char              | int         | 1            |\n",
    "| `'B'`     | unsigned char            | int         | 1            |\n",
    "| `'u'`     | Py\\_UNICODE (deprecated) | unicode     | 2 or 4       |\n",
    "| `'h'`     | signed short             | int         | 2            |\n",
    "| `'H'`     | unsigned short           | int         | 2            |\n",
    "| `'i'`     | signed int               | int         | 2 or 4       |\n",
    "| `'I'`     | unsigned int             | int         | 2 or 4       |\n",
    "| `'l'`     | signed long              | int         | 4            |\n",
    "| `'L'`     | unsigned long            | int         | 4            |\n",
    "| `'q'`     | signed long long         | int         | 8            |\n",
    "| `'Q'`     | unsigned long long       | int         | 8            |\n",
    "| `'f'`     | float                    | float       | 4            |\n",
    "| `'d'`     | double                   | float       | 8            |\n",
    "\n",
    "> **Note:** The actual size in bytes may vary by platform.\n",
    "\n",
    "\n",
    "\n",
    "### Example with `'f'` and `'d'`\n",
    "\n",
    "```python\n",
    "import array\n",
    "\n",
    "float_array = array.array('f', [1.0, 2.0, 3.0])  # 32-bit float\n",
    "double_array = array.array('d', [1.0, 2.0, 3.0])  # 64-bit float (double)\n",
    "\n",
    "print(float_array)\n",
    "print(double_array)\n",
    "```\n",
    "\n",
    "\n",
    "\n",
    "### Summary\n",
    "\n",
    "* `'i'` is a **type code** for a **signed integer**.\n",
    "* It defines the type and size of array elements.\n",
    "* Using `array.array()` with a type code gives **memory efficiency** and **C-style performance**.\n",
    "\n",
    "\n"
   ],
   "id": "679c8be9e223b628"
  },
  {
   "metadata": {
    "ExecuteTime": {
     "end_time": "2025-05-23T19:24:14.501936Z",
     "start_time": "2025-05-23T19:24:14.499065Z"
    }
   },
   "cell_type": "code",
   "source": "float_array = array.array('f', [10, 20, 30, 40, 50])",
   "id": "5e1adb2af70116e5",
   "outputs": [],
   "execution_count": 4
  },
  {
   "metadata": {
    "ExecuteTime": {
     "end_time": "2025-05-23T19:24:17.822702Z",
     "start_time": "2025-05-23T19:24:17.819515Z"
    }
   },
   "cell_type": "code",
   "source": "float_array[2]",
   "id": "66f56e72e8488e7f",
   "outputs": [
    {
     "data": {
      "text/plain": [
       "30.0"
      ]
     },
     "execution_count": 5,
     "metadata": {},
     "output_type": "execute_result"
    }
   ],
   "execution_count": 5
  },
  {
   "metadata": {
    "ExecuteTime": {
     "end_time": "2025-05-23T19:24:26.503414Z",
     "start_time": "2025-05-23T19:24:26.500921Z"
    }
   },
   "cell_type": "code",
   "source": "double_array = array.array('d', [10, 20, 30, 40, 50])",
   "id": "63c9fba780e1430c",
   "outputs": [],
   "execution_count": 6
  },
  {
   "metadata": {
    "ExecuteTime": {
     "end_time": "2025-05-23T19:24:29.229629Z",
     "start_time": "2025-05-23T19:24:29.226680Z"
    }
   },
   "cell_type": "code",
   "source": "double_array[2]",
   "id": "8f8b6586d26dc88f",
   "outputs": [
    {
     "data": {
      "text/plain": [
       "30.0"
      ]
     },
     "execution_count": 7,
     "metadata": {},
     "output_type": "execute_result"
    }
   ],
   "execution_count": 7
  },
  {
   "metadata": {},
   "cell_type": "markdown",
   "source": [
    "## Section 2: Random Access and Contiguous Memory\n",
    "\n",
    "### Concept\n",
    "\n",
    "* **Random Access**: Retrieve an element directly using its index (constant time).\n",
    "* **Contiguous Memory**: Memory blocks for all elements are adjacent, improving cache performance.\n",
    "\n",
    "### Code Sample:\n"
   ],
   "id": "8ba22144ed8ecdd2"
  },
  {
   "metadata": {
    "ExecuteTime": {
     "end_time": "2025-05-23T19:27:17.991807Z",
     "start_time": "2025-05-23T19:27:17.989316Z"
    }
   },
   "cell_type": "code",
   "source": "arr = array.array('f', [1.0, 2.0, 3.0, 4.0])",
   "id": "cbeda4977a995f2f",
   "outputs": [],
   "execution_count": 8
  },
  {
   "metadata": {
    "ExecuteTime": {
     "end_time": "2025-05-23T19:27:47.925608Z",
     "start_time": "2025-05-23T19:27:47.922565Z"
    }
   },
   "cell_type": "code",
   "source": "print(f'Element at index 1: {arr[1]}')",
   "id": "b7ed999a0ef87212",
   "outputs": [
    {
     "name": "stdout",
     "output_type": "stream",
     "text": [
      "Element at index 1: 2.0\n"
     ]
    }
   ],
   "execution_count": 9
  },
  {
   "metadata": {
    "ExecuteTime": {
     "end_time": "2025-05-23T19:28:06.600676Z",
     "start_time": "2025-05-23T19:28:06.597950Z"
    }
   },
   "cell_type": "code",
   "source": "arr[2] = 9.5",
   "id": "c5b99dd1515acecf",
   "outputs": [],
   "execution_count": 10
  },
  {
   "metadata": {
    "ExecuteTime": {
     "end_time": "2025-05-23T19:28:32.247872Z",
     "start_time": "2025-05-23T19:28:32.245040Z"
    }
   },
   "cell_type": "code",
   "source": "print(f'Updated array: {arr.tolist()}')",
   "id": "44d2fce0088125",
   "outputs": [
    {
     "name": "stdout",
     "output_type": "stream",
     "text": [
      "Updated array: [1.0, 2.0, 9.5, 4.0]\n"
     ]
    }
   ],
   "execution_count": 11
  },
  {
   "metadata": {},
   "cell_type": "markdown",
   "source": [
    "## Practice Exercises\n",
    "\n",
    "### Topic 1: Random Access and Contiguous Memory\n",
    "\n",
    "1. Create an array of 10 integers. Print each element using a loop."
   ],
   "id": "186d3ae2158f423c"
  },
  {
   "metadata": {
    "ExecuteTime": {
     "end_time": "2025-05-23T19:31:47.257943Z",
     "start_time": "2025-05-23T19:31:47.254932Z"
    }
   },
   "cell_type": "code",
   "source": "arr = array.array('i', range(1, 11))",
   "id": "347e3a5f9e52d43b",
   "outputs": [],
   "execution_count": 14
  },
  {
   "metadata": {
    "ExecuteTime": {
     "end_time": "2025-05-23T19:32:17.985386Z",
     "start_time": "2025-05-23T19:32:17.981341Z"
    }
   },
   "cell_type": "code",
   "source": [
    "for val in arr:\n",
    "    print(val, end=' ')"
   ],
   "id": "c071e1f06baa7ba",
   "outputs": [
    {
     "name": "stdout",
     "output_type": "stream",
     "text": [
      "1 2 3 4 5 6 7 8 9 10 "
     ]
    }
   ],
   "execution_count": 16
  },
  {
   "metadata": {},
   "cell_type": "markdown",
   "source": "2. Access and modify the 5th element of the array.",
   "id": "54a166c5d75904e4"
  },
  {
   "metadata": {
    "ExecuteTime": {
     "end_time": "2025-05-23T19:34:34.740024Z",
     "start_time": "2025-05-23T19:34:34.737630Z"
    }
   },
   "cell_type": "code",
   "source": "arr[4] = 101",
   "id": "93c5b384939b9b9e",
   "outputs": [],
   "execution_count": 17
  },
  {
   "metadata": {
    "ExecuteTime": {
     "end_time": "2025-05-23T19:34:51.029678Z",
     "start_time": "2025-05-23T19:34:51.026911Z"
    }
   },
   "cell_type": "code",
   "source": "print(f'Updated array: {arr.tolist()}')",
   "id": "14a2b646b7e7813a",
   "outputs": [
    {
     "name": "stdout",
     "output_type": "stream",
     "text": [
      "Updated array: [1, 2, 3, 4, 101, 6, 7, 8, 9, 10]\n"
     ]
    }
   ],
   "execution_count": 18
  },
  {
   "metadata": {},
   "cell_type": "markdown",
   "source": "3. Create a function that takes an array and an index, then returns the value at that index.",
   "id": "f009a6bde4e21b7"
  },
  {
   "metadata": {
    "ExecuteTime": {
     "end_time": "2025-05-23T19:36:39.145796Z",
     "start_time": "2025-05-23T19:36:39.141481Z"
    }
   },
   "cell_type": "code",
   "source": [
    "def array_index_value(array_, index):\n",
    "    return array_[index]"
   ],
   "id": "9043a46b49bf10c",
   "outputs": [],
   "execution_count": 19
  },
  {
   "metadata": {
    "ExecuteTime": {
     "end_time": "2025-05-23T19:36:57.629684Z",
     "start_time": "2025-05-23T19:36:57.626104Z"
    }
   },
   "cell_type": "code",
   "source": "array_index_value(arr, 4)",
   "id": "ad2091de0821aa03",
   "outputs": [
    {
     "data": {
      "text/plain": [
       "101"
      ]
     },
     "execution_count": 20,
     "metadata": {},
     "output_type": "execute_result"
    }
   ],
   "execution_count": 20
  },
  {
   "metadata": {},
   "cell_type": "markdown",
   "source": "4. Write a function to sum the first and last elements.",
   "id": "a0c20ec8e1d9b42a"
  },
  {
   "metadata": {
    "ExecuteTime": {
     "end_time": "2025-05-23T19:38:07.868028Z",
     "start_time": "2025-05-23T19:38:07.865565Z"
    }
   },
   "cell_type": "code",
   "source": [
    "def first_last_elements_sum(array_):\n",
    "    return array_[0] + array_[-1]"
   ],
   "id": "8ed64a3d03a0e772",
   "outputs": [],
   "execution_count": 21
  },
  {
   "metadata": {
    "ExecuteTime": {
     "end_time": "2025-05-23T19:38:16.073100Z",
     "start_time": "2025-05-23T19:38:16.068729Z"
    }
   },
   "cell_type": "code",
   "source": "first_last_elements_sum(arr)",
   "id": "88a3044caf2fc832",
   "outputs": [
    {
     "data": {
      "text/plain": [
       "11"
      ]
     },
     "execution_count": 22,
     "metadata": {},
     "output_type": "execute_result"
    }
   ],
   "execution_count": 22
  },
  {
   "metadata": {},
   "cell_type": "markdown",
   "source": "5. Implement a bounds-checking function that raises an error if an invalid index is accessed.",
   "id": "b09b0644327ef5d3"
  },
  {
   "metadata": {},
   "cell_type": "code",
   "outputs": [],
   "execution_count": null,
   "source": [
    "def bounds_check(array_, index):\n",
    "    "
   ],
   "id": "991be1816f9d8914"
  },
  {
   "metadata": {
    "ExecuteTime": {
     "end_time": "2025-05-23T19:39:55.764121Z",
     "start_time": "2025-05-23T19:39:55.760790Z"
    }
   },
   "cell_type": "code",
   "source": "arr.index(101)",
   "id": "d7a1fcf3eaad2f8c",
   "outputs": [
    {
     "data": {
      "text/plain": [
       "4"
      ]
     },
     "execution_count": 23,
     "metadata": {},
     "output_type": "execute_result"
    }
   ],
   "execution_count": 23
  },
  {
   "metadata": {},
   "cell_type": "code",
   "outputs": [],
   "execution_count": null,
   "source": "",
   "id": "168dc9148910e63d"
  },
  {
   "metadata": {},
   "cell_type": "code",
   "outputs": [],
   "execution_count": null,
   "source": "",
   "id": "6a6a867c70a96383"
  },
  {
   "metadata": {},
   "cell_type": "code",
   "outputs": [],
   "execution_count": null,
   "source": "",
   "id": "e36c86edd5a53d54"
  },
  {
   "metadata": {},
   "cell_type": "code",
   "outputs": [],
   "execution_count": null,
   "source": "",
   "id": "a46afe2e0901c76"
  },
  {
   "metadata": {},
   "cell_type": "code",
   "outputs": [],
   "execution_count": null,
   "source": "",
   "id": "ce7357c367eca012"
  },
  {
   "metadata": {},
   "cell_type": "code",
   "outputs": [],
   "execution_count": null,
   "source": "",
   "id": "ed27410b7667f219"
  },
  {
   "metadata": {},
   "cell_type": "code",
   "outputs": [],
   "execution_count": null,
   "source": "",
   "id": "2cd2c734f4b55c72"
  },
  {
   "metadata": {},
   "cell_type": "code",
   "outputs": [],
   "execution_count": null,
   "source": "",
   "id": "cacd75109b6600ed"
  },
  {
   "metadata": {},
   "cell_type": "markdown",
   "source": [
    "\n",
    "\n",
    "\n",
    "\n",
    "## Section 3: Static Memory vs Dynamic Memory\n",
    "\n",
    "### Concepts\n",
    "\n",
    "| Feature           | Static Memory              | Dynamic Memory                          |\n",
    "| ----------------- | -------------------------- | --------------------------------------- |\n",
    "| Allocated at      | Compile time               | Runtime                                 |\n",
    "| Resizeable        | No                         | Yes                                     |\n",
    "| Example in Python | `array.array`, fixed lists | `list`, dynamic behavior on `.append()` |\n",
    "\n",
    "### Example:\n",
    "\n",
    "\n",
    "## Section 4: Physical Size and Logical Size\n",
    "\n",
    "### Concepts\n",
    "\n",
    "* **Physical Size**: Total capacity allocated.\n",
    "* **Logical Size**: Number of elements currently used.\n",
    "\n",
    "### Example:\n",
    "\n",
    "\n",
    "---\n",
    "\n",
    "### Topic 2: Static vs Dynamic Memory\n",
    "\n",
    "1. Create a static array using `array.array` of 5 floats.\n",
    "2. Try appending a string to this array. What happens?\n",
    "3. Create a list and dynamically add 5 items.\n",
    "4. Compare memory addresses before and after appending.\n",
    "5. Simulate capacity doubling behavior for a dynamic list.\n",
    "\n",
    "---\n",
    "\n",
    "### Topic 3: Physical vs Logical Size\n",
    "\n",
    "1. Create a 20-slot array but only use 7 slots. Track logical size.\n",
    "2. Create a function to \"shrink\" the array to its logical size.\n",
    "3. Write a function to count used slots (not None).\n",
    "4. Modify a logical slot and print all used values.\n",
    "5. Re-initialize an array with physical size 30 and logical size 0.\n"
   ],
   "id": "2803d86c8ecf31fd"
  },
  {
   "metadata": {},
   "cell_type": "code",
   "outputs": [],
   "execution_count": null,
   "source": "",
   "id": "55219f54f3391b0a"
  }
 ],
 "metadata": {
  "kernelspec": {
   "display_name": "Python 3",
   "language": "python",
   "name": "python3"
  },
  "language_info": {
   "codemirror_mode": {
    "name": "ipython",
    "version": 2
   },
   "file_extension": ".py",
   "mimetype": "text/x-python",
   "name": "python",
   "nbconvert_exporter": "python",
   "pygments_lexer": "ipython2",
   "version": "2.7.6"
  }
 },
 "nbformat": 4,
 "nbformat_minor": 5
}
