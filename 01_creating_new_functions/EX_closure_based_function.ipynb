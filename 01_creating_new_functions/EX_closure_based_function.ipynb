{
 "cells": [
  {
   "cell_type": "markdown",
   "id": "ace47f817a58e763",
   "metadata": {},
   "source": [
    "# Closure-Based Functions\n",
    "\n",
    "## The Key Idea\n",
    "\n",
    "A **closure** happens when:\n",
    "\n",
    "> An inner function **remembers** the variables from the outer function **even after the outer function has finished running.**\n",
    "\n",
    "Let’s walk through this with a **real-world analogy**\n",
    "\n",
    "\n",
    "\n",
    "## Code\n",
    "\n",
    "```python\n",
    "def make_multiplier(n):\n",
    "    def multiplier(x):\n",
    "        return x * n\n",
    "    return multiplier\n",
    "\n",
    "times3 = make_multiplier(3)\n",
    "print(times3(10))  # Output: 30\n",
    "```\n",
    "\n",
    "\n",
    "\n",
    "## Think of it Like This:\n",
    "\n",
    "### Imagine:\n",
    "\n",
    "You're making a **customized calculator**.\n",
    "\n",
    "1. You call `make_multiplier(3)`, asking:\n",
    "\n",
    "   > “Hey, can you build me a multiplier that always multiplies by 3?”\n",
    "\n",
    "2. Python says:\n",
    "\n",
    "   > “Sure! Here’s a custom function (called `multiplier`) that **remembers** the number `3` you gave me.”\n",
    "\n",
    "3. That custom multiplier gets saved into `times3`.\n",
    "\n",
    "4. Later, when you run `times3(10)`:\n",
    "\n",
    "   > It **remembers**: “I was built with `n = 3`, so I’ll return `10 * 3`.”\n",
    "\n",
    "This memory of `n = 3` is what we call a **closure**.\n",
    "\n",
    "\n",
    "\n",
    "## Visualization\n",
    "\n",
    "```\n",
    "times3 = make_multiplier(3)\n",
    "\n",
    "→ make_multiplier builds:\n",
    "   def multiplier(x):\n",
    "       return x * 3    ← \"remembers n = 3\"\n",
    "\n",
    "→ returns multiplier → assigned to times3\n",
    "\n",
    "Then:\n",
    "times3(10) → 10 * 3 → 30\n",
    "```\n",
    "\n",
    "Even though `make_multiplier()` has **finished**, its inner function `multiplier()` keeps a **snapshot of its environment**, including the value `n = 3`.\n",
    "\n",
    "\n",
    "\n",
    "## Closure = Inner Function + Remembered Values\n",
    "\n",
    "So:\n",
    "\n",
    "```python\n",
    "times3 = make_multiplier(3)  # returns multiplier(x): return x * 3\n",
    "```\n",
    "\n",
    "Even though `make_multiplier` is **done executing**, the `times3` function it returned still **remembers `n = 3`**.\n",
    "\n",
    "\n",
    "\n",
    "### Summary\n",
    "\n",
    "* You create a function that **returns another function**.\n",
    "* That returned function **remembers the context** in which it was created.\n",
    "* This is **closure**.\n"
   ]
  },
  {
   "cell_type": "markdown",
   "id": "a45634ff568bdbeb",
   "metadata": {},
   "source": [
    "### **Exercise 1: Add a Constant**\n",
    "\n",
    "**Task:**\n",
    "Write a function `make_adder(n)` that returns another function which adds `n` to its argument.\n",
    "\n",
    "**Example:**\n",
    "\n",
    "```python\n",
    "add10 = make_adder(10)\n",
    "print(add10(5))   # Output: 15\n",
    "print(add10(20))  # Output: 30\n",
    "```"
   ]
  },
  {
   "cell_type": "code",
   "id": "d73f031f8619a740",
   "metadata": {
    "ExecuteTime": {
     "end_time": "2025-05-11T21:17:44.598015Z",
     "start_time": "2025-05-11T21:17:44.581183Z"
    }
   },
   "source": [
    "def make_adder(n):\n",
    "    def adder(x):\n",
    "        return x + n\n",
    "    return adder"
   ],
   "outputs": [],
   "execution_count": 63
  },
  {
   "cell_type": "code",
   "id": "e432970c62a56644",
   "metadata": {
    "ExecuteTime": {
     "end_time": "2025-05-11T21:17:44.767086Z",
     "start_time": "2025-05-11T21:17:44.762402Z"
    }
   },
   "source": [
    "add10 = make_adder(10)"
   ],
   "outputs": [],
   "execution_count": 64
  },
  {
   "cell_type": "code",
   "id": "bb27566dd0fb32eb",
   "metadata": {
    "ExecuteTime": {
     "end_time": "2025-05-11T21:17:44.981040Z",
     "start_time": "2025-05-11T21:17:44.975665Z"
    }
   },
   "source": [
    "add10(5)"
   ],
   "outputs": [
    {
     "data": {
      "text/plain": [
       "15"
      ]
     },
     "execution_count": 65,
     "metadata": {},
     "output_type": "execute_result"
    }
   ],
   "execution_count": 65
  },
  {
   "cell_type": "code",
   "id": "2df6a7dddecd1c88",
   "metadata": {
    "ExecuteTime": {
     "end_time": "2025-05-11T21:17:45.212340Z",
     "start_time": "2025-05-11T21:17:45.207222Z"
    }
   },
   "source": [
    "add10(20)"
   ],
   "outputs": [
    {
     "data": {
      "text/plain": [
       "30"
      ]
     },
     "execution_count": 66,
     "metadata": {},
     "output_type": "execute_result"
    }
   ],
   "execution_count": 66
  },
  {
   "cell_type": "markdown",
   "id": "503648922c0e9c0a",
   "metadata": {},
   "source": [
    "### **Exercise 2: Custom Power Function**\n",
    "\n",
    "**Task:**\n",
    "Create a function `make_power(base)` that returns a function to raise a number to that base.\n",
    "\n",
    "**Example:**\n",
    "\n",
    "```python\n",
    "square = make_power(2)\n",
    "print(square(5))  # Output: 25\n",
    "\n",
    "cube = make_power(3)\n",
    "print(cube(2))    # Output: 8\n",
    "```"
   ]
  },
  {
   "cell_type": "code",
   "id": "babed831c4c64bd9",
   "metadata": {
    "ExecuteTime": {
     "end_time": "2025-05-11T21:22:10.357693Z",
     "start_time": "2025-05-11T21:22:10.348712Z"
    }
   },
   "source": [
    "def make_power(base):\n",
    "    def power(x):\n",
    "        return x**base\n",
    "    return power"
   ],
   "outputs": [],
   "execution_count": 67
  },
  {
   "cell_type": "code",
   "id": "a712032bf909a245",
   "metadata": {
    "ExecuteTime": {
     "end_time": "2025-05-11T21:22:10.574098Z",
     "start_time": "2025-05-11T21:22:10.569243Z"
    }
   },
   "source": [
    "square = make_power(2)"
   ],
   "outputs": [],
   "execution_count": 68
  },
  {
   "cell_type": "code",
   "id": "a63ce37a71f72a4a",
   "metadata": {
    "ExecuteTime": {
     "end_time": "2025-05-11T21:22:13.769018Z",
     "start_time": "2025-05-11T21:22:13.762499Z"
    }
   },
   "source": [
    "square(5)"
   ],
   "outputs": [
    {
     "data": {
      "text/plain": [
       "25"
      ]
     },
     "execution_count": 69,
     "metadata": {},
     "output_type": "execute_result"
    }
   ],
   "execution_count": 69
  },
  {
   "cell_type": "code",
   "id": "6485e03a0f2db279",
   "metadata": {
    "ExecuteTime": {
     "end_time": "2025-05-11T21:22:13.956605Z",
     "start_time": "2025-05-11T21:22:13.952957Z"
    }
   },
   "source": [
    "cube = make_power(3)"
   ],
   "outputs": [],
   "execution_count": 70
  },
  {
   "cell_type": "code",
   "id": "d47cb0f471a04147",
   "metadata": {
    "ExecuteTime": {
     "end_time": "2025-05-11T21:22:14.467880Z",
     "start_time": "2025-05-11T21:22:14.461877Z"
    }
   },
   "source": [
    "cube(2)"
   ],
   "outputs": [
    {
     "data": {
      "text/plain": [
       "8"
      ]
     },
     "execution_count": 71,
     "metadata": {},
     "output_type": "execute_result"
    }
   ],
   "execution_count": 71
  },
  {
   "cell_type": "markdown",
   "id": "e88466ad64fcce0",
   "metadata": {},
   "source": [
    "### **Exercise 3: Discount Calculator**\n",
    "\n",
    "**Task:**\n",
    "Write a function `make_discount(discount_percent)` that returns a function to apply that discount to a price.\n",
    "\n",
    "**Example:**\n",
    "\n",
    "```python\n",
    "ten_percent_off = make_discount(10)\n",
    "print(ten_percent_off(100))  # Output: 90.0\n",
    "```\n",
    "\n",
    "*Hint:* Apply `discount_percent` as `price - (price * discount_percent / 100)`"
   ]
  },
  {
   "cell_type": "code",
   "id": "fdc9b4826200eeef",
   "metadata": {
    "ExecuteTime": {
     "end_time": "2025-05-11T21:23:21.760921Z",
     "start_time": "2025-05-11T21:23:21.756853Z"
    }
   },
   "source": [
    "def make_discount(discount_percent):\n",
    "    def discount(x):\n",
    "        return x - (x * discount_percent) / 100\n",
    "    return discount"
   ],
   "outputs": [],
   "execution_count": 72
  },
  {
   "cell_type": "code",
   "id": "82f8dbe1d5e660e4",
   "metadata": {
    "ExecuteTime": {
     "end_time": "2025-05-11T21:23:22.168974Z",
     "start_time": "2025-05-11T21:23:22.166111Z"
    }
   },
   "source": [
    "ten_percent_off = make_discount(10)"
   ],
   "outputs": [],
   "execution_count": 73
  },
  {
   "cell_type": "code",
   "id": "c727f758366cd978",
   "metadata": {
    "ExecuteTime": {
     "end_time": "2025-05-11T21:23:22.606110Z",
     "start_time": "2025-05-11T21:23:22.602577Z"
    }
   },
   "source": [
    "ten_percent_off(100)"
   ],
   "outputs": [
    {
     "data": {
      "text/plain": [
       "90.0"
      ]
     },
     "execution_count": 74,
     "metadata": {},
     "output_type": "execute_result"
    }
   ],
   "execution_count": 74
  },
  {
   "cell_type": "markdown",
   "id": "9ef23a1727ebe819",
   "metadata": {},
   "source": [
    "### **Exercise 4: Tag Wrapper**\n",
    "\n",
    "**Task:**\n",
    "Write a function `html_tag(tag)` that returns a function to wrap text in that HTML tag.\n",
    "\n",
    "**Example:**\n",
    "\n",
    "```python\n",
    "h1 = html_tag(\"h1\")\n",
    "print(h1(\"Hello\"))  # Output: <h1>Hello</h1>\n",
    "```"
   ]
  },
  {
   "cell_type": "code",
   "execution_count": 49,
   "id": "e77166eec0d9ed4e",
   "metadata": {
    "ExecuteTime": {
     "end_time": "2025-05-11T18:31:37.522631Z",
     "start_time": "2025-05-11T18:31:37.520405Z"
    }
   },
   "outputs": [],
   "source": [
    "def html_tag(tag):\n",
    "    def tag_(x):\n",
    "        return f'<{tag}>{x}</{tag}>'\n",
    "    return tag_"
   ]
  },
  {
   "cell_type": "code",
   "execution_count": 50,
   "id": "9b27fa203464f8ba",
   "metadata": {
    "ExecuteTime": {
     "end_time": "2025-05-11T18:31:37.526726Z",
     "start_time": "2025-05-11T18:31:37.524195Z"
    }
   },
   "outputs": [],
   "source": [
    "h1 = html_tag('h1')"
   ]
  },
  {
   "cell_type": "code",
   "execution_count": 51,
   "id": "3877bd32cecbee57",
   "metadata": {
    "ExecuteTime": {
     "end_time": "2025-05-11T18:31:37.530717Z",
     "start_time": "2025-05-11T18:31:37.527933Z"
    }
   },
   "outputs": [
    {
     "data": {
      "text/plain": [
       "'<h1>Hello</h1>'"
      ]
     },
     "execution_count": 51,
     "metadata": {},
     "output_type": "execute_result"
    }
   ],
   "source": [
    "h1('Hello')"
   ]
  },
  {
   "cell_type": "markdown",
   "id": "9c9024acb93a052a",
   "metadata": {},
   "source": [
    "### **Exercise 5: Temperature Converter Factory**\n",
    "\n",
    "**Task:**\n",
    "Write a function `make_converter(from_unit)` that returns a converter function. The returned function should convert Celsius to Fahrenheit **if** `from_unit` is `\"C\"`, or Fahrenheit to Celsius if `\"F\"`.\n",
    "\n",
    "**Example:**\n",
    "\n",
    "```python\n",
    "c_to_f = make_converter(\"C\")\n",
    "print(c_to_f(0))   # Output: 32.0\n",
    "\n",
    "f_to_c = make_converter(\"F\")\n",
    "print(f_to_c(98.6)) # Output: 37.0\n",
    "```\n",
    "\n",
    "*Formula:*\n",
    "\n",
    "* °F = °C × 9/5 + 32\n",
    "* °C = (°F − 32) × 5/9\n"
   ]
  },
  {
   "cell_type": "code",
   "id": "9f45238896de639e",
   "metadata": {
    "ExecuteTime": {
     "end_time": "2025-05-11T21:25:15.821767Z",
     "start_time": "2025-05-11T21:25:15.816529Z"
    }
   },
   "source": [
    "def make_converter(from_unit):\n",
    "    from_unit = from_unit.lower()\n",
    "    def converter(x):\n",
    "        if from_unit == 'c': \n",
    "            return x * 9/5 + 32\n",
    "        elif from_unit == 'f':\n",
    "            return (x - 32) * 5/9\n",
    "        else:\n",
    "            raise ValueError(f'Unit {from_unit} not supported')\n",
    "    return converter\n",
    "        "
   ],
   "outputs": [],
   "execution_count": 75
  },
  {
   "cell_type": "code",
   "id": "a12b12ab66467a06",
   "metadata": {
    "ExecuteTime": {
     "end_time": "2025-05-11T21:25:18.368809Z",
     "start_time": "2025-05-11T21:25:18.364866Z"
    }
   },
   "source": [
    "c_to_f = make_converter('C')"
   ],
   "outputs": [],
   "execution_count": 76
  },
  {
   "cell_type": "code",
   "id": "e629a95898911949",
   "metadata": {
    "ExecuteTime": {
     "end_time": "2025-05-11T21:25:18.614231Z",
     "start_time": "2025-05-11T21:25:18.609981Z"
    }
   },
   "source": [
    "c_to_f(0)"
   ],
   "outputs": [
    {
     "data": {
      "text/plain": [
       "32.0"
      ]
     },
     "execution_count": 77,
     "metadata": {},
     "output_type": "execute_result"
    }
   ],
   "execution_count": 77
  },
  {
   "cell_type": "code",
   "id": "ef448429fb7ab0a0",
   "metadata": {
    "ExecuteTime": {
     "end_time": "2025-05-11T21:25:18.860515Z",
     "start_time": "2025-05-11T21:25:18.856430Z"
    }
   },
   "source": [
    "f_to_c = make_converter('F')"
   ],
   "outputs": [],
   "execution_count": 78
  },
  {
   "cell_type": "code",
   "id": "3806b65e4d262ff4",
   "metadata": {
    "ExecuteTime": {
     "end_time": "2025-05-11T21:25:19.132375Z",
     "start_time": "2025-05-11T21:25:19.127691Z"
    }
   },
   "source": [
    "f_to_c(98.6)"
   ],
   "outputs": [
    {
     "data": {
      "text/plain": [
       "37.0"
      ]
     },
     "execution_count": 79,
     "metadata": {},
     "output_type": "execute_result"
    }
   ],
   "execution_count": 79
  },
  {
   "cell_type": "markdown",
   "id": "746a5fafed58a6ec",
   "metadata": {},
   "source": [
    "# You use **closure-based functions** when you want to:\n",
    "\n",
    "\n",
    "## 1. **Preserve State Without Global Variables or Classes**\n",
    "\n",
    "Closures are great when you want a function to remember a value (like a configuration, multiplier, or counter) **without using a global variable** or creating a class.\n",
    "\n",
    "### Example: Create customized functions\n",
    "\n",
    "```python\n",
    "def make_discount(percent):\n",
    "    def apply(price):\n",
    "        return price - (price * percent / 100)\n",
    "    return apply\n",
    "\n",
    "student_discount = make_discount(10)\n",
    "print(student_discount(200))  # 180.0\n",
    "```\n",
    "\n",
    "\n",
    "## 2. **Create Factory Functions**\n",
    "\n",
    "You can use closures to generate **specialized functions** at runtime. This is a common design in **function factories** or **decorators**.\n",
    "\n",
    "### Example: Customized HTML wrapper\n",
    "\n",
    "```python\n",
    "def html_tag(tag):\n",
    "    def wrap(text):\n",
    "        return f\"<{tag}>{text}</{tag}>\"\n",
    "    return wrap\n",
    "\n",
    "h1 = html_tag(\"h1\")\n",
    "print(h1(\"Welcome\"))  # <h1>Welcome</h1>\n",
    "```\n",
    "\n",
    "\n",
    "\n",
    "## 3. **Encapsulate Data (like private variables)**\n",
    "\n",
    "Closures let you **hide data** inside a function — acting like private members of a class.\n",
    "\n",
    "### Example: A counter with internal state\n",
    "\n",
    "```python\n",
    "def make_counter():\n",
    "    count = 0                      # ← Variable defined in enclosing scope\n",
    "    def increment():\n",
    "        nonlocal count             # ← Tells Python to use the outer 'count'\n",
    "        count += 1                 # ← Modify the outer 'count', not a new one\n",
    "        return count\n",
    "    return increment\n",
    "\n",
    "counter = make_counter()\n",
    "print(counter())  # 1\n",
    "print(counter())  # 2\n",
    "```\n",
    "\n",
    "\n",
    "\n",
    "## 4. **Cleaner Alternative to Classes (for small behavior)**\n",
    "\n",
    "If you only need to encapsulate behavior and state for a simple case, **closures are often lighter and cleaner** than defining a class.\n",
    "\n",
    "\n",
    "## 5. **Functional Programming Patterns**\n",
    "\n",
    "Closures are used a lot in:\n",
    "\n",
    "* **Decorators**\n",
    "* **Callbacks**\n",
    "* **Event handling**\n",
    "* **Functional APIs** (like filters or strategies)\n",
    "\n",
    "\n",
    "## Summary\n",
    "\n",
    "| Use Case                      | Why Use Closure                  |\n",
    "| ----------------------------- | -------------------------------- |\n",
    "| Preserve configuration/state  | Without using globals or classes |\n",
    "| Build specialized functions   | e.g., customized formatters      |\n",
    "| Encapsulate private variables | Secure internal state            |\n",
    "| Functional programming        | Clean and concise logic          |\n",
    "| Create decorators             | Add behavior dynamically         |\n",
    "\n"
   ]
  },
  {
   "cell_type": "markdown",
   "id": "89241d9b33041ada",
   "metadata": {},
   "source": [
    "# Understanding `nonlocal` is **key to working with closures** effectively in Python.\n",
    "\n",
    "\n",
    "## First, let’s recap the code:\n",
    "\n",
    "```python\n",
    "def make_counter():\n",
    "    count = 0                      # ← Variable defined in enclosing scope\n",
    "    def increment():\n",
    "        nonlocal count             # ← Tells Python to use the outer 'count'\n",
    "        count += 1                 # ← Modify the outer 'count', not a new one\n",
    "        return count\n",
    "    return increment\n",
    "\n",
    "counter = make_counter()\n",
    "print(counter())  # 1\n",
    "print(counter())  # 2\n",
    "```\n",
    "\n",
    "\n",
    "## So What Is `nonlocal`?\n",
    "\n",
    "### Definition:\n",
    "\n",
    "`nonlocal` is a keyword that **allows inner functions to modify variables from the enclosing (but non-global) scope.**\n",
    "\n",
    "### Without `nonlocal`, this line:\n",
    "\n",
    "```python\n",
    "count += 1\n",
    "```\n",
    "\n",
    "Would create a **new local variable `count`** inside the `increment()` function — completely separate from the `count = 0` in `make_counter()`.\n",
    "\n",
    "This would result in:\n",
    "\n",
    "```plaintext\n",
    "UnboundLocalError: local variable 'count' referenced before assignment\n",
    "```\n",
    "\n",
    "\n",
    "## Scope Levels in Python (important!)\n",
    "\n",
    "Python has 4 main scopes:\n",
    "\n",
    "| Level     | Example                              |\n",
    "| --------- | ------------------------------------ |\n",
    "| Local     | Inside a function                    |\n",
    "| Enclosing | Outer function (like `make_counter`) |\n",
    "| Global    | Top-level script/module variables    |\n",
    "| Built-in  | `print`, `len`, etc.                 |\n",
    "\n",
    "In your code:\n",
    "\n",
    "* `count = 0` is in the **enclosing** scope\n",
    "* `nonlocal count` lets the inner function `increment()` access and modify it\n",
    "\n",
    "\n",
    "\n",
    "## Visual Breakdown:\n",
    "\n",
    "```python\n",
    "# EN CLOSING SCOPE\n",
    "def make_counter():\n",
    "    count = 0  # <--- Outer variable, remembered by the closure\n",
    "\n",
    "    # INNER FUNCTION\n",
    "    def increment():\n",
    "        nonlocal count  # <--- Declare we're using/modifying outer 'count'\n",
    "        count += 1\n",
    "        return count\n",
    "\n",
    "    return increment\n",
    "```\n",
    "\n",
    "Now each time you call `counter()`, it uses and updates the **same `count` variable**.\n",
    "\n",
    "\n",
    "\n",
    "## Without `nonlocal`\n",
    "\n",
    "If you removed `nonlocal`:\n",
    "\n",
    "```python\n",
    "def make_counter():\n",
    "    count = 0\n",
    "    def increment():\n",
    "        count += 1  #  Will raise UnboundLocalError\n",
    "        return count\n",
    "```\n",
    "\n",
    "Python would think you're **trying to create a new local variable** `count`, but it's also being used before it's assigned. That’s why `nonlocal` is needed to tell Python:\n",
    "\n",
    "> \"Don't create a new variable — use the one from the enclosing scope.\"\n",
    "\n",
    "\n",
    "\n",
    "## When to Use `nonlocal`\n",
    "\n",
    "* You have a **closure (a function inside another)**.\n",
    "* The outer function has a **mutable or changing variable**.\n",
    "* The inner function needs to **update** that variable over multiple calls."
   ]
  },
  {
   "cell_type": "code",
   "execution_count": null,
   "id": "e6195526ce375f43",
   "metadata": {},
   "outputs": [],
   "source": []
  }
 ],
 "metadata": {
  "kernelspec": {
   "display_name": "Python 3 (ipykernel)",
   "language": "python",
   "name": "python3"
  },
  "language_info": {
   "codemirror_mode": {
    "name": "ipython",
    "version": 3
   },
   "file_extension": ".py",
   "mimetype": "text/x-python",
   "name": "python",
   "nbconvert_exporter": "python",
   "pygments_lexer": "ipython3",
   "version": "3.13.2"
  }
 },
 "nbformat": 4,
 "nbformat_minor": 5
}
