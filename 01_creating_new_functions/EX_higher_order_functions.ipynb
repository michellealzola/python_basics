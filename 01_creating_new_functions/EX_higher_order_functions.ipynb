{
 "cells": [
  {
   "metadata": {},
   "cell_type": "markdown",
   "source": [
    "# Higher-Order Functions\n",
    "\n",
    "### How to load the data\n",
    "\n",
    "```python\n",
    "import pickle\n",
    "\n",
    "with open(\"electroless_plating.pkl\", \"rb\") as f:\n",
    "    data = pickle.load(f)\n",
    "```\n",
    "\n",
    "## What Are Higher-Order Functions?\n",
    "\n",
    "They’re functions that:\n",
    "\n",
    "1. **Take other functions as input**, or\n",
    "2. **Return functions**\n",
    "\n",
    "Python has built-in higher-order functions that help you write **concise, readable** code.\n",
    "\n",
    "\n",
    "\n",
    "## 1. `map(function, iterable)`\n",
    "\n",
    "### Use When:\n",
    "\n",
    "You want to **transform** every item in a list (or any iterable).\n",
    "\n",
    "### Think: “Apply this function to each item.”\n",
    "\n",
    "### Example:\n",
    "\n",
    "```python\n",
    "nums = [1, 2, 3, 4]\n",
    "squares = list(map(lambda x: x**2, nums))\n",
    "print(squares)  # [1, 4, 9, 16]\n",
    "```\n",
    "\n",
    "\n",
    "\n",
    "## 2. `filter(function, iterable)`\n",
    "\n",
    "### Use When:\n",
    "\n",
    "You want to **select a subset** of items based on a condition.\n",
    "\n",
    "### Think: “Keep only the items that pass this test.”\n",
    "\n",
    "### Example:\n",
    "\n",
    "```python\n",
    "nums = [1, 2, 3, 4, 5]\n",
    "evens = list(filter(lambda x: x % 2 == 0, nums))\n",
    "print(evens)  # [2, 4]\n",
    "```\n",
    "\n",
    "\n",
    "\n",
    "## 3. `reduce(function, iterable)` (from `functools`)\n",
    "\n",
    "### Use When:\n",
    "\n",
    "You want to **reduce a list to a single value** (like sum, product, max, etc.).\n",
    "\n",
    "### Think: “Combine items step by step.”\n",
    "\n",
    "### Example:\n",
    "\n",
    "```python\n",
    "from functools import reduce\n",
    "\n",
    "nums = [1, 2, 3, 4]\n",
    "product = reduce(lambda x, y: x * y, nums)\n",
    "print(product)  # 24\n",
    "```\n",
    "\n",
    "\n",
    "\n",
    "## 4. `sorted(iterable, key=function)`\n",
    "\n",
    "### Use When:\n",
    "\n",
    "You want to **sort** a list based on a custom rule.\n",
    "\n",
    "### Example:\n",
    "\n",
    "```python\n",
    "words = ['apple', 'banana', 'fig']\n",
    "by_length = sorted(words, key=lambda w: len(w))\n",
    "print(by_length)  # ['fig', 'apple', 'banana']\n",
    "```\n",
    "\n",
    "\n",
    "## When to Use These\n",
    "\n",
    "| Function            | Use Case Example                                                     |\n",
    "| ------------------- | -------------------------------------------------------------------- |\n",
    "| `map()`             | Apply a transformation to every element (e.g., Fahrenheit → Celsius) |\n",
    "| `filter()`          | Keep only the elements that meet a condition (e.g., is even)         |\n",
    "| `reduce()`          | Collapse a list into a single value (e.g., multiply all numbers)     |\n",
    "| `sorted()` with key | Sort by a rule (e.g., by name length or score)                       |\n",
    "\n",
    "\n",
    "\n",
    "## Why Use Them?\n",
    "\n",
    "* They make your code **cleaner** and **more expressive**\n",
    "* Often used in **data processing**, **pipelines**, **machine learning**, and **web APIs**\n",
    "* Replace repetitive `for` loops with single-line logic"
   ],
   "id": "326adc9c7fd9972e"
  },
  {
   "metadata": {
    "ExecuteTime": {
     "end_time": "2025-05-13T19:33:17.368895Z",
     "start_time": "2025-05-13T19:33:17.366685Z"
    }
   },
   "cell_type": "code",
   "source": [
    "import operator\n",
    "import pickle\n",
    "from functools import reduce\n",
    "from itertools import chain"
   ],
   "id": "c94ba5ca8f2d955a",
   "outputs": [],
   "execution_count": 185
  },
  {
   "metadata": {
    "ExecuteTime": {
     "end_time": "2025-05-13T19:33:17.919629Z",
     "start_time": "2025-05-13T19:33:17.912622Z"
    }
   },
   "cell_type": "code",
   "source": [
    "with open('electroless_plating.pkl', 'rb') as electroless_file:\n",
    "    data = pickle.load(electroless_file)"
   ],
   "id": "a5de2a25d46bb207",
   "outputs": [],
   "execution_count": 186
  },
  {
   "metadata": {
    "ExecuteTime": {
     "end_time": "2025-05-13T19:33:17.939291Z",
     "start_time": "2025-05-13T19:33:17.935559Z"
    }
   },
   "cell_type": "code",
   "source": "data[0].keys()",
   "id": "3c531dbcc77f578c",
   "outputs": [
    {
     "data": {
      "text/plain": [
       "dict_keys(['Date', 'Shift', 'Batch ID', 'Plating Type', 'Component Type', 'Machine ID', 'Bath Temperature (°C)', 'pH Level', 'Plating Time (min)', 'Thickness (μm)', 'Adhesion Strength (MPa)', 'Phosphorus Content (%)', 'Surface Roughness (Ra μm)', 'Visual Inspection', 'Corrosion Test', 'Operator ID', 'Pass/Fail'])"
      ]
     },
     "execution_count": 187,
     "metadata": {},
     "output_type": "execute_result"
    }
   ],
   "execution_count": 187
  },
  {
   "metadata": {},
   "cell_type": "markdown",
   "source": [
    "## Higher-Order Function Exercises\n",
    "\n",
    "\n",
    "\n",
    "### **1. Use `map()` to extract all `Batch ID`s**\n",
    "\n",
    "```python\n",
    "# Output: ['ELP5726', 'ELP8081', ...]\n",
    "```\n"
   ],
   "id": "c2d583f7cc2ee2a8"
  },
  {
   "metadata": {
    "ExecuteTime": {
     "end_time": "2025-05-13T19:33:17.963728Z",
     "start_time": "2025-05-13T19:33:17.960387Z"
    }
   },
   "cell_type": "code",
   "source": "batch_id_list = list(map(lambda record: record['Batch ID'], data))",
   "id": "dfecd36c6ce1fd1b",
   "outputs": [],
   "execution_count": 188
  },
  {
   "metadata": {
    "ExecuteTime": {
     "end_time": "2025-05-13T19:33:18.020194Z",
     "start_time": "2025-05-13T19:33:18.013311Z"
    }
   },
   "cell_type": "code",
   "source": "batch_id_list",
   "id": "f88fe45f1cd70584",
   "outputs": [
    {
     "data": {
      "text/plain": [
       "['ELP4540',\n",
       " 'ELP5163',\n",
       " 'ELP1013',\n",
       " 'ELP7804',\n",
       " 'ELP3034',\n",
       " 'ELP2153',\n",
       " 'ELP5163',\n",
       " 'ELP8276',\n",
       " 'ELP5739',\n",
       " 'ELP9746',\n",
       " 'ELP4103',\n",
       " 'ELP5739',\n",
       " 'ELP4942',\n",
       " 'ELP8473',\n",
       " 'ELP2833',\n",
       " 'ELP4203',\n",
       " 'ELP3133',\n",
       " 'ELP3506',\n",
       " 'ELP3074',\n",
       " 'ELP2956',\n",
       " 'ELP9417',\n",
       " 'ELP7282',\n",
       " 'ELP5570',\n",
       " 'ELP6351',\n",
       " 'ELP8597',\n",
       " 'ELP2838',\n",
       " 'ELP9318',\n",
       " 'ELP8938',\n",
       " 'ELP9633',\n",
       " 'ELP7393',\n",
       " 'ELP1839',\n",
       " 'ELP4675',\n",
       " 'ELP1265',\n",
       " 'ELP9623',\n",
       " 'ELP8099',\n",
       " 'ELP6520',\n",
       " 'ELP7969',\n",
       " 'ELP5829',\n",
       " 'ELP4637',\n",
       " 'ELP6782',\n",
       " 'ELP7057',\n",
       " 'ELP3252',\n",
       " 'ELP5173',\n",
       " 'ELP9420',\n",
       " 'ELP3506',\n",
       " 'ELP5643',\n",
       " 'ELP7600',\n",
       " 'ELP1797',\n",
       " 'ELP6586',\n",
       " 'ELP1797',\n",
       " 'ELP4339',\n",
       " 'ELP5492',\n",
       " 'ELP7123',\n",
       " 'ELP4211',\n",
       " 'ELP2761',\n",
       " 'ELP2307',\n",
       " 'ELP5492',\n",
       " 'ELP9633',\n",
       " 'ELP3833',\n",
       " 'ELP9417',\n",
       " 'ELP4540',\n",
       " 'ELP1259',\n",
       " 'ELP9282',\n",
       " 'ELP7378',\n",
       " 'ELP4540',\n",
       " 'ELP3962',\n",
       " 'ELP9746',\n",
       " 'ELP4904',\n",
       " 'ELP5781',\n",
       " 'ELP4854',\n",
       " 'ELP6699',\n",
       " 'ELP3133',\n",
       " 'ELP2479',\n",
       " 'ELP9888',\n",
       " 'ELP7568',\n",
       " 'ELP6657',\n",
       " 'ELP7887',\n",
       " 'ELP7887',\n",
       " 'ELP7756',\n",
       " 'ELP4689',\n",
       " 'ELP3578',\n",
       " 'ELP2623',\n",
       " 'ELP1155',\n",
       " 'ELP1839',\n",
       " 'ELP9666',\n",
       " 'ELP4541',\n",
       " 'ELP8750',\n",
       " 'ELP9255',\n",
       " 'ELP2556',\n",
       " 'ELP1481',\n",
       " 'ELP4103',\n",
       " 'ELP1259',\n",
       " 'ELP6351',\n",
       " 'ELP5570',\n",
       " 'ELP2257',\n",
       " 'ELP7726',\n",
       " 'ELP7969',\n",
       " 'ELP6782',\n",
       " 'ELP4216',\n",
       " 'ELP1771',\n",
       " 'ELP8099',\n",
       " 'ELP1941',\n",
       " 'ELP1909',\n",
       " 'ELP3233',\n",
       " 'ELP5643',\n",
       " 'ELP9633',\n",
       " 'ELP5803',\n",
       " 'ELP4203',\n",
       " 'ELP2257',\n",
       " 'ELP2623',\n",
       " 'ELP4103',\n",
       " 'ELP1013',\n",
       " 'ELP4540',\n",
       " 'ELP9158',\n",
       " 'ELP3817',\n",
       " 'ELP3117',\n",
       " 'ELP4854',\n",
       " 'ELP8346',\n",
       " 'ELP8016',\n",
       " 'ELP2833',\n",
       " 'ELP7279',\n",
       " 'ELP9434',\n",
       " 'ELP4854',\n",
       " 'ELP1155',\n",
       " 'ELP7573',\n",
       " 'ELP4675',\n",
       " 'ELP4689',\n",
       " 'ELP4339',\n",
       " 'ELP4006',\n",
       " 'ELP4299',\n",
       " 'ELP1680',\n",
       " 'ELP3460',\n",
       " 'ELP5643',\n",
       " 'ELP6346',\n",
       " 'ELP3074',\n",
       " 'ELP1338',\n",
       " 'ELP1338',\n",
       " 'ELP8922',\n",
       " 'ELP4216',\n",
       " 'ELP6269',\n",
       " 'ELP8099',\n",
       " 'ELP8685',\n",
       " 'ELP7378',\n",
       " 'ELP8172',\n",
       " 'ELP2144',\n",
       " 'ELP8738',\n",
       " 'ELP4216',\n",
       " 'ELP4299',\n",
       " 'ELP1155',\n",
       " 'ELP4742',\n",
       " 'ELP6350',\n",
       " 'ELP3937',\n",
       " 'ELP8922',\n",
       " 'ELP5492',\n",
       " 'ELP1013',\n",
       " 'ELP9325',\n",
       " 'ELP5726',\n",
       " 'ELP6269',\n",
       " 'ELP5423',\n",
       " 'ELP8938',\n",
       " 'ELP8685',\n",
       " 'ELP7282',\n",
       " 'ELP5829',\n",
       " 'ELP9097',\n",
       " 'ELP1265',\n",
       " 'ELP3962',\n",
       " 'ELP1510',\n",
       " 'ELP1155',\n",
       " 'ELP9314',\n",
       " 'ELP3699',\n",
       " 'ELP5430',\n",
       " 'ELP1022',\n",
       " 'ELP9282',\n",
       " 'ELP8016',\n",
       " 'ELP2257',\n",
       " 'ELP1909',\n",
       " 'ELP7279',\n",
       " 'ELP8346',\n",
       " 'ELP9259',\n",
       " 'ELP2868',\n",
       " 'ELP5430',\n",
       " 'ELP9633',\n",
       " 'ELP2474',\n",
       " 'ELP7887',\n",
       " 'ELP1411',\n",
       " 'ELP7726',\n",
       " 'ELP3117',\n",
       " 'ELP2851',\n",
       " 'ELP2623',\n",
       " 'ELP3233',\n",
       " 'ELP6345',\n",
       " 'ELP9433',\n",
       " 'ELP4854',\n",
       " 'ELP2474',\n",
       " 'ELP1839',\n",
       " 'ELP7282',\n",
       " 'ELP4904',\n",
       " 'ELP6571',\n",
       " 'ELP3937',\n",
       " 'ELP5217',\n",
       " 'ELP7573',\n",
       " 'ELP7282',\n",
       " 'ELP3578',\n",
       " 'ELP3829',\n",
       " 'ELP6657',\n",
       " 'ELP7347',\n",
       " 'ELP3817',\n",
       " 'ELP5726',\n",
       " 'ELP5492',\n",
       " 'ELP1013',\n",
       " 'ELP9633',\n",
       " 'ELP9746',\n",
       " 'ELP6164',\n",
       " 'ELP7969',\n",
       " 'ELP7792',\n",
       " 'ELP6699',\n",
       " 'ELP4637',\n",
       " 'ELP4216',\n",
       " 'ELP6657',\n",
       " 'ELP6345',\n",
       " 'ELP1013',\n",
       " 'ELP9623',\n",
       " 'ELP1771',\n",
       " 'ELP6571',\n",
       " 'ELP2833',\n",
       " 'ELP9255',\n",
       " 'ELP7726',\n",
       " 'ELP8016',\n",
       " 'ELP9086',\n",
       " 'ELP5570',\n",
       " 'ELP1072',\n",
       " 'ELP7573',\n",
       " 'ELP2761',\n",
       " 'ELP9086',\n",
       " 'ELP3117',\n",
       " 'ELP7378',\n",
       " 'ELP2504',\n",
       " 'ELP1338',\n",
       " 'ELP7804',\n",
       " 'ELP9282',\n",
       " 'ELP6520',\n",
       " 'ELP6350',\n",
       " 'ELP6038',\n",
       " 'ELP7057',\n",
       " 'ELP2868',\n",
       " 'ELP1771',\n",
       " 'ELP8922',\n",
       " 'ELP5803',\n",
       " 'ELP3860',\n",
       " 'ELP8574',\n",
       " 'ELP7378',\n",
       " 'ELP3817',\n",
       " 'ELP1261',\n",
       " 'ELP8172',\n",
       " 'ELP6269',\n",
       " 'ELP6793',\n",
       " 'ELP3578',\n",
       " 'ELP6586',\n",
       " 'ELP3233',\n",
       " 'ELP9623',\n",
       " 'ELP3833',\n",
       " 'ELP8608',\n",
       " 'ELP4203',\n",
       " 'ELP5726',\n",
       " 'ELP4522',\n",
       " 'ELP7036',\n",
       " 'ELP6383',\n",
       " 'ELP7123',\n",
       " 'ELP4854',\n",
       " 'ELP6351',\n",
       " 'ELP8016',\n",
       " 'ELP2415',\n",
       " 'ELP6383',\n",
       " 'ELP2556',\n",
       " 'ELP1261',\n",
       " 'ELP7887',\n",
       " 'ELP5631',\n",
       " 'ELP2474',\n",
       " 'ELP9303',\n",
       " 'ELP1680',\n",
       " 'ELP7969',\n",
       " 'ELP9025',\n",
       " 'ELP3878',\n",
       " 'ELP4223',\n",
       " 'ELP2761',\n",
       " 'ELP9255',\n",
       " 'ELP5803',\n",
       " 'ELP1152',\n",
       " 'ELP6699',\n",
       " 'ELP4854',\n",
       " 'ELP8338',\n",
       " 'ELP5250',\n",
       " 'ELP4203',\n",
       " 'ELP6059',\n",
       " 'ELP7279',\n",
       " 'ELP6586',\n",
       " 'ELP9282',\n",
       " 'ELP8733',\n",
       " 'ELP3578',\n",
       " 'ELP4942',\n",
       " 'ELP8346',\n",
       " 'ELP2257',\n",
       " 'ELP8738',\n",
       " 'ELP2830',\n",
       " 'ELP4223',\n",
       " 'ELP2838',\n",
       " 'ELP3962',\n",
       " 'ELP4904',\n",
       " 'ELP5217',\n",
       " 'ELP9282',\n",
       " 'ELP3133',\n",
       " 'ELP7969',\n",
       " 'ELP9433',\n",
       " 'ELP1155',\n",
       " 'ELP1068',\n",
       " 'ELP5739',\n",
       " 'ELP6782',\n",
       " 'ELP9666',\n",
       " 'ELP7976',\n",
       " 'ELP3044',\n",
       " 'ELP4522',\n",
       " 'ELP2838',\n",
       " 'ELP2317',\n",
       " 'ELP9282',\n",
       " 'ELP3233',\n",
       " 'ELP4299',\n",
       " 'ELP3034',\n",
       " 'ELP5430',\n",
       " 'ELP1510',\n",
       " 'ELP5378',\n",
       " 'ELP1338',\n",
       " 'ELP1265',\n",
       " 'ELP3817',\n",
       " 'ELP9325',\n",
       " 'ELP2838',\n",
       " 'ELP6164',\n",
       " 'ELP9623',\n",
       " 'ELP7036',\n",
       " 'ELP4211',\n",
       " 'ELP2556',\n",
       " 'ELP7347',\n",
       " 'ELP1072',\n",
       " 'ELP9303',\n",
       " 'ELP8081',\n",
       " 'ELP3074',\n",
       " 'ELP9633',\n",
       " 'ELP9633',\n",
       " 'ELP5631',\n",
       " 'ELP7347',\n",
       " 'ELP6657',\n",
       " 'ELP4944',\n",
       " 'ELP8750',\n",
       " 'ELP2317',\n",
       " 'ELP2956',\n",
       " 'ELP5803',\n",
       " 'ELP9325',\n",
       " 'ELP8938',\n",
       " 'ELP4541',\n",
       " 'ELP1013',\n",
       " 'ELP4944',\n",
       " 'ELP8608',\n",
       " 'ELP8016',\n",
       " 'ELP1338',\n",
       " 'ELP7347',\n",
       " 'ELP7282',\n",
       " 'ELP1013',\n",
       " 'ELP2504',\n",
       " 'ELP3044',\n",
       " 'ELP9259',\n",
       " 'ELP2317',\n",
       " 'ELP2623',\n",
       " 'ELP6345',\n",
       " 'ELP2838',\n",
       " 'ELP1265',\n",
       " 'ELP1155',\n",
       " 'ELP5570',\n",
       " 'ELP6872',\n",
       " 'ELP2144',\n",
       " 'ELP8685',\n",
       " 'ELP9766',\n",
       " 'ELP7726',\n",
       " 'ELP7347',\n",
       " 'ELP9420',\n",
       " 'ELP4216',\n",
       " 'ELP1510',\n",
       " 'ELP3233',\n",
       " 'ELP5781',\n",
       " 'ELP4541',\n",
       " 'ELP6351',\n",
       " 'ELP4216',\n",
       " 'ELP4103',\n",
       " 'ELP7123',\n",
       " 'ELP3962',\n",
       " 'ELP9314',\n",
       " 'ELP8338',\n",
       " 'ELP3578',\n",
       " 'ELP8338',\n",
       " 'ELP7207',\n",
       " 'ELP5631',\n",
       " 'ELP6520',\n",
       " 'ELP9906',\n",
       " 'ELP1909',\n",
       " 'ELP3829',\n",
       " 'ELP2415',\n",
       " 'ELP9259',\n",
       " 'ELP5570',\n",
       " 'ELP6038',\n",
       " 'ELP5643',\n",
       " 'ELP3699',\n",
       " 'ELP7600',\n",
       " 'ELP9025',\n",
       " 'ELP8346',\n",
       " 'ELP8733',\n",
       " 'ELP4780',\n",
       " 'ELP3074',\n",
       " 'ELP3699',\n",
       " 'ELP3117',\n",
       " 'ELP7261',\n",
       " 'ELP3860',\n",
       " 'ELP9097',\n",
       " 'ELP6346',\n",
       " 'ELP4223',\n",
       " 'ELP1941',\n",
       " 'ELP5739',\n",
       " 'ELP6657',\n",
       " 'ELP1072',\n",
       " 'ELP9746',\n",
       " 'ELP8346',\n",
       " 'ELP4541',\n",
       " 'ELP9433',\n",
       " 'ELP4780',\n",
       " 'ELP8052',\n",
       " 'ELP1265',\n",
       " 'ELP3817',\n",
       " 'ELP6586',\n",
       " 'ELP9365',\n",
       " 'ELP8574',\n",
       " 'ELP9086',\n",
       " 'ELP5378',\n",
       " 'ELP5378',\n",
       " 'ELP9068',\n",
       " 'ELP5163',\n",
       " 'ELP9417',\n",
       " 'ELP4223',\n",
       " 'ELP9906',\n",
       " 'ELP2474',\n",
       " 'ELP3034',\n",
       " 'ELP7976',\n",
       " 'ELP2415',\n",
       " 'ELP5781',\n",
       " 'ELP2851',\n",
       " 'ELP7600',\n",
       " 'ELP8052',\n",
       " 'ELP3117',\n",
       " 'ELP2479',\n",
       " 'ELP7347',\n",
       " 'ELP2956',\n",
       " 'ELP2838',\n",
       " 'ELP1155',\n",
       " 'ELP1797',\n",
       " 'ELP7726',\n",
       " 'ELP9888',\n",
       " 'ELP4216',\n",
       " 'ELP6269',\n",
       " 'ELP1839',\n",
       " 'ELP6346',\n",
       " 'ELP1941',\n",
       " 'ELP8608',\n",
       " 'ELP1152',\n",
       " 'ELP2623',\n",
       " 'ELP2257',\n",
       " 'ELP5163',\n",
       " 'ELP8172',\n",
       " 'ELP7279',\n",
       " 'ELP2153',\n",
       " 'ELP2317',\n",
       " 'ELP2474',\n",
       " 'ELP4006',\n",
       " 'ELP8276',\n",
       " 'ELP7726',\n",
       " 'ELP9434',\n",
       " 'ELP4203',\n",
       " 'ELP1072',\n",
       " 'ELP3460',\n",
       " 'ELP2163',\n",
       " 'ELP8052',\n",
       " 'ELP4854',\n",
       " 'ELP6038',\n",
       " 'ELP6793',\n",
       " 'ELP6038',\n",
       " 'ELP9633',\n",
       " 'ELP5249',\n",
       " 'ELP8733',\n",
       " 'ELP8685',\n",
       " 'ELP9303',\n",
       " 'ELP9888',\n",
       " 'ELP6586',\n",
       " 'ELP9906',\n",
       " 'ELP1411',\n",
       " 'ELP1013',\n",
       " 'ELP3937',\n",
       " 'ELP9303',\n",
       " 'ELP1068',\n",
       " 'ELP5173',\n",
       " 'ELP7976',\n",
       " 'ELP5643',\n",
       " 'ELP7123',\n",
       " 'ELP4689',\n",
       " 'ELP8099',\n",
       " 'ELP9282',\n",
       " 'ELP8473',\n",
       " 'ELP6520',\n",
       " 'ELP5423',\n",
       " 'ELP9086',\n",
       " 'ELP9259',\n",
       " 'ELP3860',\n",
       " 'ELP9623',\n",
       " 'ELP2504',\n",
       " 'ELP4203',\n",
       " 'ELP7036',\n",
       " 'ELP3578',\n",
       " 'ELP8685',\n",
       " 'ELP7568',\n",
       " 'ELP6269',\n",
       " 'ELP2163',\n",
       " 'ELP6571',\n",
       " 'ELP7969',\n",
       " 'ELP2317',\n",
       " 'ELP9571',\n",
       " 'ELP8608',\n",
       " 'ELP1481',\n",
       " 'ELP8922',\n",
       " 'ELP3578',\n",
       " 'ELP8597',\n",
       " 'ELP9571',\n",
       " 'ELP9888',\n",
       " 'ELP4203',\n",
       " 'ELP4854',\n",
       " 'ELP9282',\n",
       " 'ELP5250',\n",
       " 'ELP1941',\n",
       " 'ELP2761',\n",
       " 'ELP9086',\n",
       " 'ELP5430',\n",
       " 'ELP9259',\n",
       " 'ELP7279',\n",
       " 'ELP7207',\n",
       " 'ELP4006',\n",
       " 'ELP5217',\n",
       " 'ELP6350',\n",
       " 'ELP9259',\n",
       " 'ELP3117',\n",
       " 'ELP2838',\n",
       " 'ELP8738',\n",
       " 'ELP1839',\n",
       " 'ELP8922',\n",
       " 'ELP9766',\n",
       " 'ELP3233',\n",
       " 'ELP1587',\n",
       " 'ELP9623',\n",
       " 'ELP8338',\n",
       " 'ELP9766',\n",
       " 'ELP7282',\n",
       " 'ELP3937',\n",
       " 'ELP9097',\n",
       " 'ELP9906',\n",
       " 'ELP1068',\n",
       " 'ELP3878',\n",
       " 'ELP5250',\n",
       " 'ELP5492',\n",
       " 'ELP5163',\n",
       " 'ELP2163',\n",
       " 'ELP2163',\n",
       " 'ELP7378',\n",
       " 'ELP2144',\n",
       " 'ELP6520',\n",
       " 'ELP5430',\n",
       " 'ELP7600',\n",
       " 'ELP8052',\n",
       " 'ELP6793',\n",
       " 'ELP6006',\n",
       " 'ELP1068',\n",
       " 'ELP9766',\n",
       " 'ELP3034',\n",
       " 'ELP1909',\n",
       " 'ELP7279',\n",
       " 'ELP5249',\n",
       " 'ELP7804',\n",
       " 'ELP1587',\n",
       " 'ELP2474',\n",
       " 'ELP5430',\n",
       " 'ELP1839',\n",
       " 'ELP9433',\n",
       " 'ELP7887',\n",
       " 'ELP8052',\n",
       " 'ELP1265',\n",
       " 'ELP6351',\n",
       " 'ELP5249',\n",
       " 'ELP5739',\n",
       " 'ELP1839',\n",
       " 'ELP1481',\n",
       " 'ELP5726',\n",
       " 'ELP1771',\n",
       " 'ELP1022',\n",
       " 'ELP4540',\n",
       " 'ELP9097',\n",
       " 'ELP4216',\n",
       " 'ELP5250',\n",
       " 'ELP3699',\n",
       " 'ELP9666',\n",
       " 'ELP4216',\n",
       " 'ELP5250',\n",
       " 'ELP7207',\n",
       " 'ELP1941',\n",
       " 'ELP2257',\n",
       " 'ELP9433',\n",
       " 'ELP4103',\n",
       " 'ELP9906',\n",
       " 'ELP3044',\n",
       " 'ELP2623',\n",
       " 'ELP3829',\n",
       " 'ELP8574',\n",
       " 'ELP2415',\n",
       " 'ELP9365',\n",
       " 'ELP3578',\n",
       " 'ELP9417',\n",
       " 'ELP8574',\n",
       " 'ELP7756',\n",
       " 'ELP6520',\n",
       " 'ELP3937',\n",
       " 'ELP6571',\n",
       " 'ELP3044',\n",
       " 'ELP3044',\n",
       " 'ELP6960',\n",
       " 'ELP3833',\n",
       " 'ELP2504',\n",
       " 'ELP3074',\n",
       " 'ELP9259',\n",
       " 'ELP5726',\n",
       " 'ELP7261',\n",
       " 'ELP7057',\n",
       " 'ELP7279',\n",
       " 'ELP1941',\n",
       " 'ELP4541',\n",
       " 'ELP4540',\n",
       " 'ELP7804',\n",
       " 'ELP3817',\n",
       " 'ELP6782',\n",
       " 'ELP9365',\n",
       " 'ELP7393',\n",
       " 'ELP9666',\n",
       " 'ELP4211',\n",
       " 'ELP7207',\n",
       " 'ELP6657',\n",
       " 'ELP7756',\n",
       " 'ELP3833',\n",
       " 'ELP4675',\n",
       " 'ELP1797',\n",
       " 'ELP1941',\n",
       " 'ELP9420',\n",
       " 'ELP6346',\n",
       " 'ELP7976',\n",
       " 'ELP8052',\n",
       " 'ELP1797',\n",
       " 'ELP7792',\n",
       " 'ELP3074',\n",
       " 'ELP4522',\n",
       " 'ELP2479',\n",
       " 'ELP6520',\n",
       " 'ELP4944',\n",
       " 'ELP3829',\n",
       " 'ELP8738',\n",
       " 'ELP2833',\n",
       " 'ELP8081',\n",
       " 'ELP1481',\n",
       " 'ELP5643',\n",
       " 'ELP8750',\n",
       " 'ELP5430',\n",
       " 'ELP2504',\n",
       " 'ELP7600',\n",
       " 'ELP1155',\n",
       " 'ELP6346',\n",
       " 'ELP4854',\n",
       " 'ELP1261',\n",
       " 'ELP4854',\n",
       " 'ELP9420',\n",
       " 'ELP8052',\n",
       " 'ELP6586',\n",
       " 'ELP1481',\n",
       " 'ELP5631',\n",
       " 'ELP2307',\n",
       " 'ELP5803',\n",
       " 'ELP2317',\n",
       " 'ELP9666',\n",
       " 'ELP3044',\n",
       " 'ELP5163',\n",
       " 'ELP9303',\n",
       " 'ELP9097',\n",
       " 'ELP8473',\n",
       " 'ELP7600',\n",
       " 'ELP2479',\n",
       " 'ELP6571',\n",
       " 'ELP9025',\n",
       " 'ELP5249',\n",
       " 'ELP7568',\n",
       " 'ELP3233',\n",
       " 'ELP3817',\n",
       " 'ELP7792',\n",
       " 'ELP7792',\n",
       " 'ELP5492',\n",
       " 'ELP7726',\n",
       " 'ELP6345',\n",
       " 'ELP3937',\n",
       " 'ELP6960',\n",
       " 'ELP4854',\n",
       " 'ELP5803',\n",
       " 'ELP4942',\n",
       " 'ELP8608',\n",
       " 'ELP1839',\n",
       " 'ELP4637',\n",
       " 'ELP8473',\n",
       " 'ELP4223',\n",
       " 'ELP3962',\n",
       " 'ELP3578',\n",
       " 'ELP9282',\n",
       " 'ELP8276',\n",
       " 'ELP9766',\n",
       " 'ELP1072',\n",
       " 'ELP7568',\n",
       " 'ELP4904',\n",
       " 'ELP7393',\n",
       " 'ELP3074',\n",
       " 'ELP4006',\n",
       " 'ELP4944',\n",
       " 'ELP9025',\n",
       " 'ELP4675',\n",
       " 'ELP6350',\n",
       " 'ELP2474',\n",
       " 'ELP7969',\n",
       " 'ELP9259',\n",
       " 'ELP1839',\n",
       " 'ELP8473',\n",
       " 'ELP5570',\n",
       " 'ELP8473',\n",
       " 'ELP6350',\n",
       " 'ELP2504',\n",
       " 'ELP6782',\n",
       " 'ELP7261',\n",
       " 'ELP2153',\n",
       " 'ELP8276',\n",
       " 'ELP6059',\n",
       " 'ELP2504',\n",
       " 'ELP7756',\n",
       " 'ELP6350',\n",
       " 'ELP9633',\n",
       " 'ELP7792',\n",
       " 'ELP3699',\n",
       " 'ELP1265',\n",
       " 'ELP1797',\n",
       " 'ELP5378',\n",
       " 'ELP9325',\n",
       " 'ELP2956',\n",
       " 'ELP2479',\n",
       " 'ELP5492',\n",
       " 'ELP4203',\n",
       " 'ELP8922',\n",
       " 'ELP7279',\n",
       " 'ELP3133',\n",
       " 'ELP3829',\n",
       " 'ELP6782',\n",
       " 'ELP6345',\n",
       " 'ELP1072',\n",
       " 'ELP8016',\n",
       " 'ELP3578',\n",
       " 'ELP7600',\n",
       " 'ELP9365',\n",
       " 'ELP7378',\n",
       " 'ELP3699',\n",
       " 'ELP8750',\n",
       " 'ELP6345',\n",
       " 'ELP1797',\n",
       " 'ELP2838',\n",
       " 'ELP1022',\n",
       " 'ELP6872',\n",
       " 'ELP6164',\n",
       " 'ELP8608',\n",
       " 'ELP1152',\n",
       " 'ELP1771',\n",
       " 'ELP3233',\n",
       " 'ELP6782',\n",
       " 'ELP4006',\n",
       " 'ELP8738',\n",
       " 'ELP6699',\n",
       " 'ELP6351',\n",
       " 'ELP6699',\n",
       " 'ELP3506',\n",
       " 'ELP1909',\n",
       " 'ELP3117',\n",
       " 'ELP1155',\n",
       " 'ELP4689',\n",
       " 'ELP7792',\n",
       " 'ELP7969',\n",
       " 'ELP4780',\n",
       " 'ELP7393',\n",
       " 'ELP3860',\n",
       " 'ELP6350',\n",
       " 'ELP2833',\n",
       " 'ELP9623',\n",
       " 'ELP7568',\n",
       " 'ELP3460',\n",
       " 'ELP4223',\n",
       " 'ELP7969',\n",
       " 'ELP4942',\n",
       " 'ELP4006',\n",
       " 'ELP6699',\n",
       " 'ELP6872',\n",
       " 'ELP3578',\n",
       " 'ELP4223',\n",
       " 'ELP4637',\n",
       " 'ELP9025',\n",
       " 'ELP7568',\n",
       " 'ELP6586',\n",
       " 'ELP7347',\n",
       " 'ELP9888',\n",
       " 'ELP3817',\n",
       " 'ELP6345',\n",
       " 'ELP9633',\n",
       " 'ELP8338',\n",
       " 'ELP9097',\n",
       " 'ELP2307',\n",
       " 'ELP8016',\n",
       " 'ELP6793',\n",
       " 'ELP9097',\n",
       " 'ELP6520',\n",
       " 'ELP5163',\n",
       " 'ELP6164',\n",
       " 'ELP2163',\n",
       " 'ELP1013',\n",
       " 'ELP1072',\n",
       " 'ELP5631',\n",
       " 'ELP6699',\n",
       " 'ELP8081',\n",
       " 'ELP7282',\n",
       " 'ELP4540',\n",
       " 'ELP4006',\n",
       " 'ELP9097',\n",
       " 'ELP2479',\n",
       " 'ELP7261',\n",
       " 'ELP1022',\n",
       " 'ELP9303',\n",
       " 'ELP9766',\n",
       " 'ELP1338',\n",
       " 'ELP9097',\n",
       " 'ELP8081',\n",
       " 'ELP5631',\n",
       " 'ELP8276',\n",
       " 'ELP8938',\n",
       " 'ELP9318',\n",
       " 'ELP7969',\n",
       " 'ELP5250',\n",
       " 'ELP4522',\n",
       " 'ELP3506',\n",
       " 'ELP2838',\n",
       " 'ELP1797',\n",
       " 'ELP6038',\n",
       " 'ELP6351',\n",
       " 'ELP2317',\n",
       " 'ELP7600',\n",
       " 'ELP8608',\n",
       " 'ELP4637',\n",
       " 'ELP4299',\n",
       " 'ELP1013',\n",
       " 'ELP7756',\n",
       " 'ELP3044',\n",
       " 'ELP5250',\n",
       " 'ELP2415',\n",
       " 'ELP2307',\n",
       " 'ELP4611',\n",
       " 'ELP3117',\n",
       " 'ELP9025',\n",
       " 'ELP9255',\n",
       " 'ELP2153',\n",
       " 'ELP8938',\n",
       " 'ELP4854',\n",
       " 'ELP3878',\n",
       " 'ELP8081',\n",
       " 'ELP4689',\n",
       " 'ELP4904',\n",
       " 'ELP2504',\n",
       " 'ELP8922',\n",
       " 'ELP7057',\n",
       " 'ELP1259',\n",
       " 'ELP2163',\n",
       " 'ELP9420',\n",
       " 'ELP8685',\n",
       " 'ELP2163',\n",
       " 'ELP1680',\n",
       " 'ELP7600',\n",
       " 'ELP2479',\n",
       " 'ELP9571',\n",
       " 'ELP6269',\n",
       " 'ELP2153',\n",
       " 'ELP9888',\n",
       " 'ELP2317',\n",
       " 'ELP7279',\n",
       " 'ELP1265',\n",
       " 'ELP5173',\n",
       " 'ELP4780',\n",
       " 'ELP1941',\n",
       " 'ELP4675',\n",
       " 'ELP6586',\n",
       " 'ELP5829',\n",
       " 'ELP1013',\n",
       " 'ELP1510',\n",
       " 'ELP2851',\n",
       " 'ELP8685',\n",
       " 'ELP7804',\n",
       " 'ELP7976',\n",
       " 'ELP6872',\n",
       " 'ELP4522',\n",
       " 'ELP2851',\n",
       " 'ELP4854',\n",
       " 'ELP3133',\n",
       " 'ELP8597',\n",
       " 'ELP5739',\n",
       " 'ELP9325',\n",
       " 'ELP8346',\n",
       " 'ELP7036',\n",
       " 'ELP8346',\n",
       " 'ELP5781',\n",
       " 'ELP1072',\n",
       " 'ELP5173',\n",
       " 'ELP9420',\n",
       " 'ELP6350',\n",
       " 'ELP1338',\n",
       " 'ELP9417',\n",
       " 'ELP6571',\n",
       " 'ELP5423',\n",
       " 'ELP6350',\n",
       " 'ELP9746',\n",
       " 'ELP1013',\n",
       " 'ELP6782',\n",
       " 'ELP9420',\n",
       " 'ELP9417',\n",
       " 'ELP3034',\n",
       " 'ELP9314',\n",
       " 'ELP4689',\n",
       " 'ELP4211',\n",
       " 'ELP9282',\n",
       " 'ELP7279',\n",
       " 'ELP9746',\n",
       " 'ELP5570',\n",
       " 'ELP7969',\n",
       " 'ELP6699',\n",
       " 'ELP1068',\n",
       " 'ELP6383',\n",
       " 'ELP9571',\n",
       " 'ELP5423',\n",
       " 'ELP6006',\n",
       " 'ELP1510',\n",
       " 'ELP5726',\n",
       " 'ELP8081',\n",
       " 'ELP1771',\n",
       " 'ELP2838',\n",
       " 'ELP3074',\n",
       " 'ELP1338',\n",
       " 'ELP5217',\n",
       " 'ELP2163',\n",
       " 'ELP2833',\n",
       " 'ELP5781',\n",
       " 'ELP9314',\n",
       " 'ELP4854',\n",
       " 'ELP3044',\n",
       " 'ELP4540',\n",
       " 'ELP9314',\n",
       " 'ELP2556',\n",
       " 'ELP4944',\n",
       " 'ELP3937',\n",
       " 'ELP5643',\n",
       " 'ELP5217',\n",
       " 'ELP4211',\n",
       " 'ELP2833',\n",
       " 'ELP5803',\n",
       " 'ELP6571',\n",
       " 'ELP4203',\n",
       " 'ELP6038',\n",
       " 'ELP8172',\n",
       " 'ELP9633',\n",
       " 'ELP8276',\n",
       " 'ELP4675',\n",
       " 'ELP4339',\n",
       " 'ELP8052',\n",
       " 'ELP4216',\n",
       " 'ELP7573',\n",
       " 'ELP4904',\n",
       " 'ELP4540',\n",
       " 'ELP4942',\n",
       " 'ELP2556',\n",
       " 'ELP2317',\n",
       " 'ELP8597',\n",
       " ...]"
      ]
     },
     "execution_count": 189,
     "metadata": {},
     "output_type": "execute_result"
    }
   ],
   "execution_count": 189
  },
  {
   "metadata": {},
   "cell_type": "markdown",
   "source": [
    "### **2. Use `map()` to compute temperature in Fahrenheit**\n",
    "\n",
    "```python\n",
    "# Formula: F = C * 9/5 + 32\n",
    "# Output: [192.92, 188.06, ...]\n",
    "```\n"
   ],
   "id": "2efa4a15770eaf1e"
  },
  {
   "metadata": {
    "ExecuteTime": {
     "end_time": "2025-05-13T19:33:18.063524Z",
     "start_time": "2025-05-13T19:33:18.059788Z"
    }
   },
   "cell_type": "code",
   "source": "f_temp_list = list(map(lambda record: round(record['Bath Temperature (°C)'] * 9 / 5 + 32, 2), data))",
   "id": "c7196e7e63285d05",
   "outputs": [],
   "execution_count": 190
  },
  {
   "metadata": {
    "ExecuteTime": {
     "end_time": "2025-05-13T19:33:18.127972Z",
     "start_time": "2025-05-13T19:33:18.124370Z"
    }
   },
   "cell_type": "code",
   "source": "f_temp_list[:5]",
   "id": "16cbfb8969e56d63",
   "outputs": [
    {
     "data": {
      "text/plain": [
       "[196.88, 163.4, 145.94, 161.42, 198.68]"
      ]
     },
     "execution_count": 191,
     "metadata": {},
     "output_type": "execute_result"
    }
   ],
   "execution_count": 191
  },
  {
   "metadata": {},
   "cell_type": "markdown",
   "source": [
    "### **3. Use `filter()` to get only batches with 'Pass' in 'Pass/Fail'**\n",
    "\n",
    "```python\n",
    "# Output: [record1, record2, ...] where 'Pass/Fail' == 'Pass'\n",
    "```\n"
   ],
   "id": "eefd0c9da31eb48d"
  },
  {
   "metadata": {
    "ExecuteTime": {
     "end_time": "2025-05-13T19:33:18.150604Z",
     "start_time": "2025-05-13T19:33:18.147616Z"
    }
   },
   "cell_type": "code",
   "source": "pass_list = list(filter(lambda record: record['Pass/Fail'] == 'Pass', data))",
   "id": "805e150a28f53ae1",
   "outputs": [],
   "execution_count": 192
  },
  {
   "metadata": {
    "ExecuteTime": {
     "end_time": "2025-05-13T19:33:18.202488Z",
     "start_time": "2025-05-13T19:33:18.198105Z"
    }
   },
   "cell_type": "code",
   "source": "pass_list[:5]",
   "id": "cf03ed9a228d4ccd",
   "outputs": [
    {
     "data": {
      "text/plain": [
       "[{'Date': '2025-01-01',\n",
       "  'Shift': 'Shift 1',\n",
       "  'Batch ID': 'ELP4540',\n",
       "  'Plating Type': 'Electroless Nickel',\n",
       "  'Component Type': 'Heat Sink',\n",
       "  'Machine ID': 'Tank C',\n",
       "  'Bath Temperature (°C)': 91.6,\n",
       "  'pH Level': 4.85,\n",
       "  'Plating Time (min)': 43.5,\n",
       "  'Thickness (μm)': 22.99,\n",
       "  'Adhesion Strength (MPa)': 21.3,\n",
       "  'Phosphorus Content (%)': 8.85,\n",
       "  'Surface Roughness (Ra μm)': 0.5,\n",
       "  'Visual Inspection': 'Blister',\n",
       "  'Corrosion Test': 'Pass',\n",
       "  'Operator ID': 'TECH725',\n",
       "  'Pass/Fail': 'Pass'},\n",
       " {'Date': '2025-01-01',\n",
       "  'Shift': 'Shift 1',\n",
       "  'Batch ID': 'ELP5163',\n",
       "  'Plating Type': 'Electroless Copper',\n",
       "  'Component Type': 'Connector Pins',\n",
       "  'Machine ID': 'Tank B',\n",
       "  'Bath Temperature (°C)': 73.0,\n",
       "  'pH Level': 4.69,\n",
       "  'Plating Time (min)': 79.2,\n",
       "  'Thickness (μm)': 13.95,\n",
       "  'Adhesion Strength (MPa)': 16.4,\n",
       "  'Phosphorus Content (%)': nan,\n",
       "  'Surface Roughness (Ra μm)': 0.65,\n",
       "  'Visual Inspection': 'Pitting',\n",
       "  'Corrosion Test': 'Pass',\n",
       "  'Operator ID': 'TECH179',\n",
       "  'Pass/Fail': 'Pass'},\n",
       " {'Date': '2025-01-01',\n",
       "  'Shift': 'Shift 2',\n",
       "  'Batch ID': 'ELP7804',\n",
       "  'Plating Type': 'Electroless Copper',\n",
       "  'Component Type': 'Gear Housing',\n",
       "  'Machine ID': 'Tank B',\n",
       "  'Bath Temperature (°C)': 71.9,\n",
       "  'pH Level': 4.83,\n",
       "  'Plating Time (min)': 40.1,\n",
       "  'Thickness (μm)': 19.65,\n",
       "  'Adhesion Strength (MPa)': 20.6,\n",
       "  'Phosphorus Content (%)': nan,\n",
       "  'Surface Roughness (Ra μm)': 0.69,\n",
       "  'Visual Inspection': 'Pitting',\n",
       "  'Corrosion Test': 'Fail',\n",
       "  'Operator ID': 'TECH856',\n",
       "  'Pass/Fail': 'Pass'},\n",
       " {'Date': '2025-01-01',\n",
       "  'Shift': 'Shift 2',\n",
       "  'Batch ID': 'ELP3034',\n",
       "  'Plating Type': 'Electroless Nickel',\n",
       "  'Component Type': 'PCB Panel',\n",
       "  'Machine ID': 'Tank A',\n",
       "  'Bath Temperature (°C)': 92.6,\n",
       "  'pH Level': 5.13,\n",
       "  'Plating Time (min)': 70.9,\n",
       "  'Thickness (μm)': 22.33,\n",
       "  'Adhesion Strength (MPa)': 18.4,\n",
       "  'Phosphorus Content (%)': 9.28,\n",
       "  'Surface Roughness (Ra μm)': 0.91,\n",
       "  'Visual Inspection': 'Pitting',\n",
       "  'Corrosion Test': 'Fail',\n",
       "  'Operator ID': 'TECH789',\n",
       "  'Pass/Fail': 'Pass'},\n",
       " {'Date': '2025-01-01',\n",
       "  'Shift': 'Shift 2',\n",
       "  'Batch ID': 'ELP2153',\n",
       "  'Plating Type': 'Electroless Nickel',\n",
       "  'Component Type': 'Heat Sink',\n",
       "  'Machine ID': 'Tank C',\n",
       "  'Bath Temperature (°C)': 91.3,\n",
       "  'pH Level': 5.27,\n",
       "  'Plating Time (min)': 37.8,\n",
       "  'Thickness (μm)': 16.25,\n",
       "  'Adhesion Strength (MPa)': 21.7,\n",
       "  'Phosphorus Content (%)': 6.35,\n",
       "  'Surface Roughness (Ra μm)': 1.14,\n",
       "  'Visual Inspection': 'Dull Finish',\n",
       "  'Corrosion Test': 'Fail',\n",
       "  'Operator ID': 'TECH866',\n",
       "  'Pass/Fail': 'Pass'}]"
      ]
     },
     "execution_count": 193,
     "metadata": {},
     "output_type": "execute_result"
    }
   ],
   "execution_count": 193
  },
  {
   "metadata": {},
   "cell_type": "markdown",
   "source": [
    "### **4. Use `filter()` to find all Nickel-plated components**\n",
    "\n",
    "```python\n",
    "# Output: records where 'Plating Type' == 'Electroless Nickel'\n",
    "```\n"
   ],
   "id": "fbf31e4b76a763df"
  },
  {
   "metadata": {
    "ExecuteTime": {
     "end_time": "2025-05-13T19:33:18.243128Z",
     "start_time": "2025-05-13T19:33:18.240039Z"
    }
   },
   "cell_type": "code",
   "source": "nickel_plating_type_list = list(filter(lambda record: record['Plating Type'] == 'Electroless Nickel', data))",
   "id": "e71c29e6774ed4c9",
   "outputs": [],
   "execution_count": 194
  },
  {
   "metadata": {
    "ExecuteTime": {
     "end_time": "2025-05-13T19:33:18.311637Z",
     "start_time": "2025-05-13T19:33:18.307843Z"
    }
   },
   "cell_type": "code",
   "source": "nickel_plating_type_list[:5]",
   "id": "6966e1b6b342ca46",
   "outputs": [
    {
     "data": {
      "text/plain": [
       "[{'Date': '2025-01-01',\n",
       "  'Shift': 'Shift 1',\n",
       "  'Batch ID': 'ELP4540',\n",
       "  'Plating Type': 'Electroless Nickel',\n",
       "  'Component Type': 'Heat Sink',\n",
       "  'Machine ID': 'Tank C',\n",
       "  'Bath Temperature (°C)': 91.6,\n",
       "  'pH Level': 4.85,\n",
       "  'Plating Time (min)': 43.5,\n",
       "  'Thickness (μm)': 22.99,\n",
       "  'Adhesion Strength (MPa)': 21.3,\n",
       "  'Phosphorus Content (%)': 8.85,\n",
       "  'Surface Roughness (Ra μm)': 0.5,\n",
       "  'Visual Inspection': 'Blister',\n",
       "  'Corrosion Test': 'Pass',\n",
       "  'Operator ID': 'TECH725',\n",
       "  'Pass/Fail': 'Pass'},\n",
       " {'Date': '2025-01-01',\n",
       "  'Shift': 'Shift 2',\n",
       "  'Batch ID': 'ELP3034',\n",
       "  'Plating Type': 'Electroless Nickel',\n",
       "  'Component Type': 'PCB Panel',\n",
       "  'Machine ID': 'Tank A',\n",
       "  'Bath Temperature (°C)': 92.6,\n",
       "  'pH Level': 5.13,\n",
       "  'Plating Time (min)': 70.9,\n",
       "  'Thickness (μm)': 22.33,\n",
       "  'Adhesion Strength (MPa)': 18.4,\n",
       "  'Phosphorus Content (%)': 9.28,\n",
       "  'Surface Roughness (Ra μm)': 0.91,\n",
       "  'Visual Inspection': 'Pitting',\n",
       "  'Corrosion Test': 'Fail',\n",
       "  'Operator ID': 'TECH789',\n",
       "  'Pass/Fail': 'Pass'},\n",
       " {'Date': '2025-01-01',\n",
       "  'Shift': 'Shift 2',\n",
       "  'Batch ID': 'ELP2153',\n",
       "  'Plating Type': 'Electroless Nickel',\n",
       "  'Component Type': 'Heat Sink',\n",
       "  'Machine ID': 'Tank C',\n",
       "  'Bath Temperature (°C)': 91.3,\n",
       "  'pH Level': 5.27,\n",
       "  'Plating Time (min)': 37.8,\n",
       "  'Thickness (μm)': 16.25,\n",
       "  'Adhesion Strength (MPa)': 21.7,\n",
       "  'Phosphorus Content (%)': 6.35,\n",
       "  'Surface Roughness (Ra μm)': 1.14,\n",
       "  'Visual Inspection': 'Dull Finish',\n",
       "  'Corrosion Test': 'Fail',\n",
       "  'Operator ID': 'TECH866',\n",
       "  'Pass/Fail': 'Pass'},\n",
       " {'Date': '2025-01-02',\n",
       "  'Shift': 'Shift 2',\n",
       "  'Batch ID': 'ELP9746',\n",
       "  'Plating Type': 'Electroless Nickel',\n",
       "  'Component Type': 'Valve Body',\n",
       "  'Machine ID': 'Tank C',\n",
       "  'Bath Temperature (°C)': 85.1,\n",
       "  'pH Level': 5.32,\n",
       "  'Plating Time (min)': 79.8,\n",
       "  'Thickness (μm)': 17.55,\n",
       "  'Adhesion Strength (MPa)': 23.9,\n",
       "  'Phosphorus Content (%)': 10.18,\n",
       "  'Surface Roughness (Ra μm)': 0.98,\n",
       "  'Visual Inspection': 'Pitting',\n",
       "  'Corrosion Test': 'Pass',\n",
       "  'Operator ID': 'TECH930',\n",
       "  'Pass/Fail': 'Pass'},\n",
       " {'Date': '2025-01-02',\n",
       "  'Shift': 'Shift 2',\n",
       "  'Batch ID': 'ELP4103',\n",
       "  'Plating Type': 'Electroless Nickel',\n",
       "  'Component Type': 'Valve Body',\n",
       "  'Machine ID': 'Tank C',\n",
       "  'Bath Temperature (°C)': 92.6,\n",
       "  'pH Level': 4.94,\n",
       "  'Plating Time (min)': 72.8,\n",
       "  'Thickness (μm)': 22.42,\n",
       "  'Adhesion Strength (MPa)': 24.9,\n",
       "  'Phosphorus Content (%)': 7.43,\n",
       "  'Surface Roughness (Ra μm)': 1.13,\n",
       "  'Visual Inspection': 'Pass',\n",
       "  'Corrosion Test': 'Fail',\n",
       "  'Operator ID': 'TECH119',\n",
       "  'Pass/Fail': 'Pass'}]"
      ]
     },
     "execution_count": 195,
     "metadata": {},
     "output_type": "execute_result"
    }
   ],
   "execution_count": 195
  },
  {
   "metadata": {},
   "cell_type": "markdown",
   "source": [
    "### **5. Use `map()` to create a summary list of format:**\n",
    "\n",
    "```python\n",
    "# \"Batch ELP5726 plated with Nickel at 89.4°C\"\n",
    "```\n"
   ],
   "id": "fb0bcb9449c88e56"
  },
  {
   "metadata": {
    "ExecuteTime": {
     "end_time": "2025-05-13T19:33:18.338007Z",
     "start_time": "2025-05-13T19:33:18.333740Z"
    }
   },
   "cell_type": "code",
   "source": [
    "summary_list = list(map(\n",
    "    lambda record: f'Batch {record[\"Batch ID\"]} plated with {record[\"Plating Type\"].split()[1]} at {record[\"Bath Temperature (°C)\"]}', \n",
    "    data\n",
    "))"
   ],
   "id": "a11fc048727f4ea2",
   "outputs": [],
   "execution_count": 196
  },
  {
   "metadata": {
    "ExecuteTime": {
     "end_time": "2025-05-13T19:33:18.384923Z",
     "start_time": "2025-05-13T19:33:18.381311Z"
    }
   },
   "cell_type": "code",
   "source": "summary_list[:5]",
   "id": "b9cfb569defd6def",
   "outputs": [
    {
     "data": {
      "text/plain": [
       "['Batch ELP4540 plated with Nickel at 91.6',\n",
       " 'Batch ELP5163 plated with Copper at 73.0',\n",
       " 'Batch ELP1013 plated with Copper at 63.3',\n",
       " 'Batch ELP7804 plated with Copper at 71.9',\n",
       " 'Batch ELP3034 plated with Nickel at 92.6']"
      ]
     },
     "execution_count": 197,
     "metadata": {},
     "output_type": "execute_result"
    }
   ],
   "execution_count": 197
  },
  {
   "metadata": {},
   "cell_type": "markdown",
   "source": [
    "### **6. Use `filter()` to get all records with Surface Roughness > 1.0**\n",
    "\n",
    "```python\n",
    "# Output: list of records with 'Surface Roughness (Ra μm)' > 1.0\n",
    "```"
   ],
   "id": "61d903238f8017c4"
  },
  {
   "metadata": {
    "ExecuteTime": {
     "end_time": "2025-05-13T19:33:18.435313Z",
     "start_time": "2025-05-13T19:33:18.432434Z"
    }
   },
   "cell_type": "code",
   "source": [
    "ra_list_filtered_1 = list(filter(\n",
    "    lambda record: record['Surface Roughness (Ra μm)'] > 1.0, \n",
    "    data\n",
    "))"
   ],
   "id": "e8991b055e2e126",
   "outputs": [],
   "execution_count": 198
  },
  {
   "metadata": {
    "ExecuteTime": {
     "end_time": "2025-05-13T19:33:18.477332Z",
     "start_time": "2025-05-13T19:33:18.473471Z"
    }
   },
   "cell_type": "code",
   "source": "ra_list_filtered_1[:5]",
   "id": "f3462da3741ba068",
   "outputs": [
    {
     "data": {
      "text/plain": [
       "[{'Date': '2025-01-01',\n",
       "  'Shift': 'Shift 2',\n",
       "  'Batch ID': 'ELP2153',\n",
       "  'Plating Type': 'Electroless Nickel',\n",
       "  'Component Type': 'Heat Sink',\n",
       "  'Machine ID': 'Tank C',\n",
       "  'Bath Temperature (°C)': 91.3,\n",
       "  'pH Level': 5.27,\n",
       "  'Plating Time (min)': 37.8,\n",
       "  'Thickness (μm)': 16.25,\n",
       "  'Adhesion Strength (MPa)': 21.7,\n",
       "  'Phosphorus Content (%)': 6.35,\n",
       "  'Surface Roughness (Ra μm)': 1.14,\n",
       "  'Visual Inspection': 'Dull Finish',\n",
       "  'Corrosion Test': 'Fail',\n",
       "  'Operator ID': 'TECH866',\n",
       "  'Pass/Fail': 'Pass'},\n",
       " {'Date': '2025-01-02',\n",
       "  'Shift': 'Shift 1',\n",
       "  'Batch ID': 'ELP8276',\n",
       "  'Plating Type': 'Electroless Copper',\n",
       "  'Component Type': 'Connector Pins',\n",
       "  'Machine ID': 'Tank A',\n",
       "  'Bath Temperature (°C)': 68.9,\n",
       "  'pH Level': 5.27,\n",
       "  'Plating Time (min)': 36.9,\n",
       "  'Thickness (μm)': 11.92,\n",
       "  'Adhesion Strength (MPa)': 15.2,\n",
       "  'Phosphorus Content (%)': nan,\n",
       "  'Surface Roughness (Ra μm)': 1.08,\n",
       "  'Visual Inspection': 'Blister',\n",
       "  'Corrosion Test': 'Pass',\n",
       "  'Operator ID': 'TECH508',\n",
       "  'Pass/Fail': 'Fail'},\n",
       " {'Date': '2025-01-02',\n",
       "  'Shift': 'Shift 1',\n",
       "  'Batch ID': 'ELP5739',\n",
       "  'Plating Type': 'Electroless Copper',\n",
       "  'Component Type': 'Valve Body',\n",
       "  'Machine ID': 'Tank A',\n",
       "  'Bath Temperature (°C)': 70.0,\n",
       "  'pH Level': 5.49,\n",
       "  'Plating Time (min)': 37.9,\n",
       "  'Thickness (μm)': 18.85,\n",
       "  'Adhesion Strength (MPa)': 24.4,\n",
       "  'Phosphorus Content (%)': nan,\n",
       "  'Surface Roughness (Ra μm)': 1.09,\n",
       "  'Visual Inspection': 'Dull Finish',\n",
       "  'Corrosion Test': 'Pass',\n",
       "  'Operator ID': 'TECH632',\n",
       "  'Pass/Fail': 'Pass'},\n",
       " {'Date': '2025-01-02',\n",
       "  'Shift': 'Shift 2',\n",
       "  'Batch ID': 'ELP4103',\n",
       "  'Plating Type': 'Electroless Nickel',\n",
       "  'Component Type': 'Valve Body',\n",
       "  'Machine ID': 'Tank C',\n",
       "  'Bath Temperature (°C)': 92.6,\n",
       "  'pH Level': 4.94,\n",
       "  'Plating Time (min)': 72.8,\n",
       "  'Thickness (μm)': 22.42,\n",
       "  'Adhesion Strength (MPa)': 24.9,\n",
       "  'Phosphorus Content (%)': 7.43,\n",
       "  'Surface Roughness (Ra μm)': 1.13,\n",
       "  'Visual Inspection': 'Pass',\n",
       "  'Corrosion Test': 'Fail',\n",
       "  'Operator ID': 'TECH119',\n",
       "  'Pass/Fail': 'Pass'},\n",
       " {'Date': '2025-01-02',\n",
       "  'Shift': 'Shift 2',\n",
       "  'Batch ID': 'ELP5739',\n",
       "  'Plating Type': 'Electroless Copper',\n",
       "  'Component Type': 'Valve Body',\n",
       "  'Machine ID': 'Tank A',\n",
       "  'Bath Temperature (°C)': 70.0,\n",
       "  'pH Level': 5.49,\n",
       "  'Plating Time (min)': 37.9,\n",
       "  'Thickness (μm)': 18.85,\n",
       "  'Adhesion Strength (MPa)': 24.4,\n",
       "  'Phosphorus Content (%)': nan,\n",
       "  'Surface Roughness (Ra μm)': 1.09,\n",
       "  'Visual Inspection': 'Dull Finish',\n",
       "  'Corrosion Test': 'Pass',\n",
       "  'Operator ID': 'TECH632',\n",
       "  'Pass/Fail': 'Pass'}]"
      ]
     },
     "execution_count": 199,
     "metadata": {},
     "output_type": "execute_result"
    }
   ],
   "execution_count": 199
  },
  {
   "metadata": {},
   "cell_type": "markdown",
   "source": [
    "### **7. Use `reduce()` to calculate total plating time of all records**\n",
    "\n",
    "```python\n",
    "from functools import reduce\n",
    "# Output: total number in minutes\n",
    "```\n"
   ],
   "id": "4155e12a6dd06dfd"
  },
  {
   "metadata": {
    "ExecuteTime": {
     "end_time": "2025-05-13T19:33:18.511813Z",
     "start_time": "2025-05-13T19:33:18.508599Z"
    }
   },
   "cell_type": "code",
   "source": [
    "total_plating_time_min = reduce(\n",
    "    lambda acc, record: round(acc + record['Plating Time (min)'], 2),\n",
    "    data,\n",
    "    0  # starting value\n",
    ")"
   ],
   "id": "c6cfe9655ded7dcd",
   "outputs": [],
   "execution_count": 200
  },
  {
   "metadata": {
    "ExecuteTime": {
     "end_time": "2025-05-13T19:33:18.568530Z",
     "start_time": "2025-05-13T19:33:18.564872Z"
    }
   },
   "cell_type": "code",
   "source": "total_plating_time_min",
   "id": "785426892bd8b834",
   "outputs": [
    {
     "data": {
      "text/plain": [
       "125630.6"
      ]
     },
     "execution_count": 201,
     "metadata": {},
     "output_type": "execute_result"
    }
   ],
   "execution_count": 201
  },
  {
   "metadata": {},
   "cell_type": "markdown",
   "source": [
    "### **8. Use `map()` to round thickness to 1 decimal place**\n",
    "\n",
    "```python\n",
    "# Output: [22.1, 14.2, ...]\n",
    "```\n"
   ],
   "id": "6c3ae867eaf4f17f"
  },
  {
   "metadata": {
    "ExecuteTime": {
     "end_time": "2025-05-13T19:33:18.585950Z",
     "start_time": "2025-05-13T19:33:18.582569Z"
    }
   },
   "cell_type": "code",
   "source": [
    "rounded_thickness_list = list(map(\n",
    "    lambda record: round(record['Thickness (μm)'], 1),\n",
    "    data\n",
    "))"
   ],
   "id": "9d3e881d3ba110f1",
   "outputs": [],
   "execution_count": 202
  },
  {
   "metadata": {
    "ExecuteTime": {
     "end_time": "2025-05-13T19:33:18.605993Z",
     "start_time": "2025-05-13T19:33:18.602342Z"
    }
   },
   "cell_type": "code",
   "source": "rounded_thickness_list[:5]",
   "id": "cb4fa81c239f3411",
   "outputs": [
    {
     "data": {
      "text/plain": [
       "[23.0, 13.9, 10.7, 19.6, 22.3]"
      ]
     },
     "execution_count": 203,
     "metadata": {},
     "output_type": "execute_result"
    }
   ],
   "execution_count": 203
  },
  {
   "metadata": {},
   "cell_type": "markdown",
   "source": [
    "### **9. Use `filter()` + `map()` to find all Copper-plated records with pH > 5, return only their `Batch ID`s**\n",
    "\n",
    "```python\n",
    "# Output: ['ELP1234', 'ELP4567', ...]\n",
    "```"
   ],
   "id": "77b6704bc30fe32c"
  },
  {
   "metadata": {
    "ExecuteTime": {
     "end_time": "2025-05-13T19:33:18.671386Z",
     "start_time": "2025-05-13T19:33:18.667869Z"
    }
   },
   "cell_type": "code",
   "source": [
    "filtered_copper_list = list(filter(\n",
    "    lambda record: record['Plating Type'] == 'Electroless Copper' and record['pH Level'] > 5, \n",
    "    data\n",
    "))"
   ],
   "id": "26b97bbad6401774",
   "outputs": [],
   "execution_count": 204
  },
  {
   "metadata": {
    "ExecuteTime": {
     "end_time": "2025-05-13T19:33:18.726542Z",
     "start_time": "2025-05-13T19:33:18.724047Z"
    }
   },
   "cell_type": "code",
   "source": [
    "batch_ids_with_filtered_copper_list = list(map(\n",
    "    lambda record: record['Batch ID'], \n",
    "    filtered_copper_list\n",
    "))"
   ],
   "id": "eff41ba54426db79",
   "outputs": [],
   "execution_count": 205
  },
  {
   "metadata": {
    "ExecuteTime": {
     "end_time": "2025-05-13T19:33:18.790520Z",
     "start_time": "2025-05-13T19:33:18.786673Z"
    }
   },
   "cell_type": "code",
   "source": "batch_ids_with_filtered_copper_list[:5]",
   "id": "b25d4b95a2092bf",
   "outputs": [
    {
     "data": {
      "text/plain": [
       "['ELP8276', 'ELP5739', 'ELP5739', 'ELP2833', 'ELP2956']"
      ]
     },
     "execution_count": 206,
     "metadata": {},
     "output_type": "execute_result"
    }
   ],
   "execution_count": 206
  },
  {
   "metadata": {},
   "cell_type": "markdown",
   "source": [
    "### **10. Bonus: Use `reduce()` to find the thickest plated component (i.e., max 'Thickness (μm)')**\n",
    "\n",
    "```python\n",
    "# Output: record with highest thickness\n",
    "```\n"
   ],
   "id": "9d48a2fd162ebd2"
  },
  {
   "metadata": {
    "ExecuteTime": {
     "end_time": "2025-05-13T19:33:18.828202Z",
     "start_time": "2025-05-13T19:33:18.825035Z"
    }
   },
   "cell_type": "code",
   "source": [
    "thickest_plate = reduce(\n",
    "    lambda acc, record: acc if acc['Thickness (μm)'] > record['Thickness (μm)'] else record,\n",
    "    data\n",
    ")"
   ],
   "id": "1719b4ead354892f",
   "outputs": [],
   "execution_count": 207
  },
  {
   "metadata": {
    "ExecuteTime": {
     "end_time": "2025-05-13T19:33:18.882179Z",
     "start_time": "2025-05-13T19:33:18.878913Z"
    }
   },
   "cell_type": "code",
   "source": "thickest_plate['Batch ID']",
   "id": "c3d7cbda24379806",
   "outputs": [
    {
     "data": {
      "text/plain": [
       "'ELP8338'"
      ]
     },
     "execution_count": 208,
     "metadata": {},
     "output_type": "execute_result"
    }
   ],
   "execution_count": 208
  },
  {
   "metadata": {},
   "cell_type": "markdown",
   "source": [
    "## **5 Problems Using `reduce()`**\n",
    "\n",
    "\n",
    "\n",
    "### **1. Find the record with the lowest surface roughness**\n",
    "\n",
    "```python\n",
    "# Goal: Use reduce() to return the record with the smallest value in 'Surface Roughness (Ra μm)'\n",
    "# Output: One dictionary (record)\n",
    "```\n"
   ],
   "id": "6edcbd2bda27c3b7"
  },
  {
   "metadata": {
    "ExecuteTime": {
     "end_time": "2025-05-13T19:33:18.905406Z",
     "start_time": "2025-05-13T19:33:18.902912Z"
    }
   },
   "cell_type": "code",
   "source": [
    "sr_smallest = reduce(\n",
    "    lambda acc, record: acc if acc['Surface Roughness (Ra μm)'] < record['Surface Roughness (Ra μm)'] else record,\n",
    "    data\n",
    ")"
   ],
   "id": "b40ecf69774c5a5b",
   "outputs": [],
   "execution_count": 209
  },
  {
   "metadata": {
    "ExecuteTime": {
     "end_time": "2025-05-13T19:33:18.927386Z",
     "start_time": "2025-05-13T19:33:18.924134Z"
    }
   },
   "cell_type": "code",
   "source": "sr_smallest",
   "id": "cee968c183842a2e",
   "outputs": [
    {
     "data": {
      "text/plain": [
       "{'Date': '2025-12-24',\n",
       " 'Shift': 'Shift 1',\n",
       " 'Batch ID': 'ELP7756',\n",
       " 'Plating Type': 'Electroless Copper',\n",
       " 'Component Type': 'Heat Sink',\n",
       " 'Machine ID': 'Tank A',\n",
       " 'Bath Temperature (°C)': 62.2,\n",
       " 'pH Level': 5.2,\n",
       " 'Plating Time (min)': 49.5,\n",
       " 'Thickness (μm)': 22.8,\n",
       " 'Adhesion Strength (MPa)': 21.6,\n",
       " 'Phosphorus Content (%)': nan,\n",
       " 'Surface Roughness (Ra μm)': 0.21,\n",
       " 'Visual Inspection': 'Pitting',\n",
       " 'Corrosion Test': 'Fail',\n",
       " 'Operator ID': 'TECH521',\n",
       " 'Pass/Fail': 'Pass'}"
      ]
     },
     "execution_count": 210,
     "metadata": {},
     "output_type": "execute_result"
    }
   ],
   "execution_count": 210
  },
  {
   "metadata": {},
   "cell_type": "markdown",
   "source": [
    "### **2. Count how many batches passed both 'Visual Inspection' and 'Corrosion Test'**\n",
    "\n",
    "```python\n",
    "# Goal: Return an integer count of records where both tests are 'Pass'\n",
    "# Output: Total count (e.g., 128)\n",
    "```"
   ],
   "id": "51268c7712a1b09c"
  },
  {
   "metadata": {
    "ExecuteTime": {
     "end_time": "2025-05-13T19:33:18.998827Z",
     "start_time": "2025-05-13T19:33:18.995923Z"
    }
   },
   "cell_type": "code",
   "source": [
    "passed_vi_ct_count = reduce(\n",
    "    lambda acc, record: acc + (\n",
    "            record['Pass/Fail'] == 'Pass' and \n",
    "            record['Visual Inspection'] == 'Pass' and \n",
    "            record['Corrosion Test'] == 'Pass'\n",
    "    ), \n",
    "    data,\n",
    "    0\n",
    ")"
   ],
   "id": "7006924af3d792d8",
   "outputs": [],
   "execution_count": 211
  },
  {
   "metadata": {
    "ExecuteTime": {
     "end_time": "2025-05-13T19:33:19.048612Z",
     "start_time": "2025-05-13T19:33:19.044948Z"
    }
   },
   "cell_type": "code",
   "source": "passed_vi_ct_count",
   "id": "d97b7efa30f49a2c",
   "outputs": [
    {
     "data": {
      "text/plain": [
       "97"
      ]
     },
     "execution_count": 212,
     "metadata": {},
     "output_type": "execute_result"
    }
   ],
   "execution_count": 212
  },
  {
   "metadata": {},
   "cell_type": "markdown",
   "source": [
    "### **3. Calculate the average adhesion strength (MPa)**\n",
    "\n",
    "```python\n",
    "# Goal: Sum all adhesion values, divide by count\n",
    "# Use reduce() to get total, then len(data)\n",
    "# Output: Average value (float)\n",
    "```"
   ],
   "id": "3f947f760eb5d70e"
  },
  {
   "metadata": {
    "ExecuteTime": {
     "end_time": "2025-05-13T19:33:19.098721Z",
     "start_time": "2025-05-13T19:33:19.094108Z"
    }
   },
   "cell_type": "code",
   "source": [
    "total_as_mpa = reduce(\n",
    "    lambda acc, record: acc + (record['Adhesion Strength (MPa)']),\n",
    "    data,\n",
    "    0\n",
    ")"
   ],
   "id": "eaf0e966ffbc2cf2",
   "outputs": [],
   "execution_count": 213
  },
  {
   "metadata": {
    "ExecuteTime": {
     "end_time": "2025-05-13T19:33:19.137066Z",
     "start_time": "2025-05-13T19:33:19.133697Z"
    }
   },
   "cell_type": "code",
   "source": "total_as_mpa",
   "id": "bf901f9e66ceb67f",
   "outputs": [
    {
     "data": {
      "text/plain": [
       "37519.80000000007"
      ]
     },
     "execution_count": 214,
     "metadata": {},
     "output_type": "execute_result"
    }
   ],
   "execution_count": 214
  },
  {
   "metadata": {
    "ExecuteTime": {
     "end_time": "2025-05-13T19:33:19.232464Z",
     "start_time": "2025-05-13T19:33:19.229983Z"
    }
   },
   "cell_type": "code",
   "source": "average_as_mpa = round(total_as_mpa / len(data), 2)",
   "id": "81c1de96d58fcecf",
   "outputs": [],
   "execution_count": 215
  },
  {
   "metadata": {
    "ExecuteTime": {
     "end_time": "2025-05-13T19:33:19.283969Z",
     "start_time": "2025-05-13T19:33:19.280721Z"
    }
   },
   "cell_type": "code",
   "source": "average_as_mpa",
   "id": "e42f35adeebdb7d7",
   "outputs": [
    {
     "data": {
      "text/plain": [
       "17.13"
      ]
     },
     "execution_count": 216,
     "metadata": {},
     "output_type": "execute_result"
    }
   ],
   "execution_count": 216
  },
  {
   "metadata": {},
   "cell_type": "markdown",
   "source": [
    "### **4. Build a comma-separated string of all Operator IDs**\n",
    "\n",
    "```python\n",
    "# Goal: Return a single string: \"TECH101, TECH202, TECH303, ...\"\n",
    "# Output: One string\n",
    "```"
   ],
   "id": "e83c620548adf070"
  },
  {
   "metadata": {
    "ExecuteTime": {
     "end_time": "2025-05-13T19:33:19.330357Z",
     "start_time": "2025-05-13T19:33:19.323272Z"
    }
   },
   "cell_type": "code",
   "source": [
    "operator_id_list = reduce(\n",
    "    lambda id_, record: id_ + [record['Operator ID']], \n",
    "    data, \n",
    "    []\n",
    ")"
   ],
   "id": "a57d8242479da0e6",
   "outputs": [],
   "execution_count": 217
  },
  {
   "metadata": {
    "ExecuteTime": {
     "end_time": "2025-05-13T19:33:19.373946Z",
     "start_time": "2025-05-13T19:33:19.370582Z"
    }
   },
   "cell_type": "code",
   "source": "operator_id_list[:5]",
   "id": "1c9bd366bca359a7",
   "outputs": [
    {
     "data": {
      "text/plain": [
       "['TECH725', 'TECH179', 'TECH699', 'TECH856', 'TECH789']"
      ]
     },
     "execution_count": 218,
     "metadata": {},
     "output_type": "execute_result"
    }
   ],
   "execution_count": 218
  },
  {
   "metadata": {
    "ExecuteTime": {
     "end_time": "2025-05-13T19:33:19.418715Z",
     "start_time": "2025-05-13T19:33:19.415003Z"
    }
   },
   "cell_type": "code",
   "source": [
    "# single string\n",
    "', '.join(operator_id_list[:5])"
   ],
   "id": "35f7c2e8548b6566",
   "outputs": [
    {
     "data": {
      "text/plain": [
       "'TECH725, TECH179, TECH699, TECH856, TECH789'"
      ]
     },
     "execution_count": 219,
     "metadata": {},
     "output_type": "execute_result"
    }
   ],
   "execution_count": 219
  },
  {
   "metadata": {},
   "cell_type": "markdown",
   "source": [
    "### **5. Find the maximum phosphorus content (excluding NaN)**\n",
    "\n",
    "```python\n",
    "# Goal: Return the highest numeric value for 'Phosphorus Content (%)'\n",
    "# Be sure to skip if value is NaN\n",
    "# Output: Float (e.g., 11.96)\n",
    "```\n"
   ],
   "id": "ed3a4c790c29afe4"
  },
  {
   "metadata": {
    "ExecuteTime": {
     "end_time": "2025-05-13T19:33:19.453215Z",
     "start_time": "2025-05-13T19:33:19.449821Z"
    }
   },
   "cell_type": "code",
   "source": [
    "import math\n",
    "\n",
    "max_phosphorus = reduce(\n",
    "    lambda acc, record: max(acc, record['Phosphorus Content (%)'])\n",
    "    if not math.isnan(record['Phosphorus Content (%)']) else acc,\n",
    "    data,\n",
    "    0\n",
    ")"
   ],
   "id": "f1cb9f3996ba50bf",
   "outputs": [],
   "execution_count": 220
  },
  {
   "metadata": {
    "ExecuteTime": {
     "end_time": "2025-05-13T19:33:19.515072Z",
     "start_time": "2025-05-13T19:33:19.511787Z"
    }
   },
   "cell_type": "code",
   "source": "max_phosphorus",
   "id": "549da1b1646cd68",
   "outputs": [
    {
     "data": {
      "text/plain": [
       "11.96"
      ]
     },
     "execution_count": 221,
     "metadata": {},
     "output_type": "execute_result"
    }
   ],
   "execution_count": 221
  },
  {
   "metadata": {},
   "cell_type": "markdown",
   "source": [
    "# Creating custom higher-order functions that:\n",
    "\n",
    "\n",
    "\n",
    "## 1. **Take Other Functions as Input**\n",
    "\n",
    "### Example:\n",
    "\n",
    "```python\n",
    "def apply_to_batch(record, func):\n",
    "    return func(record['Batch ID'])\n",
    "```\n",
    "\n",
    "You can then do:\n",
    "\n",
    "```python\n",
    "result = apply_to_batch({'Batch ID': 'ELP1234'}, lambda x: f\"Batch: {x}\")\n",
    "```\n",
    "\n",
    "\n",
    "## 2. **Return Functions (Closures)**\n",
    "\n",
    "### Example:\n",
    "\n",
    "```python\n",
    "def make_temperature_adjuster(offset):\n",
    "    def adjust(temp):\n",
    "        return temp + offset\n",
    "    return adjust\n",
    "```\n",
    "\n",
    "Then:\n",
    "\n",
    "```python\n",
    "adjust_up = make_temperature_adjuster(5)\n",
    "print(adjust_up(90))  # → 95\n",
    "```\n",
    "\n"
   ],
   "id": "902843abf794749b"
  },
  {
   "metadata": {},
   "cell_type": "markdown",
   "source": [
    "## **Custom Higher-Order Function Problems**\n",
    "\n",
    "### **1. Write a function `apply_to_all_batches(data, func)`**\n",
    "\n",
    "It should apply the given function `func` to every record in the dataset and return a list of results."
   ],
   "id": "8f6a227f725dbb77"
  },
  {
   "metadata": {
    "ExecuteTime": {
     "end_time": "2025-05-13T19:33:19.550611Z",
     "start_time": "2025-05-13T19:33:19.547656Z"
    }
   },
   "cell_type": "code",
   "source": [
    "def apply_to_all_batches(record, func):\n",
    "    return [func(record) for record in data]"
   ],
   "id": "504d1cd6fcb3a2b4",
   "outputs": [],
   "execution_count": 222
  },
  {
   "metadata": {
    "ExecuteTime": {
     "end_time": "2025-05-13T19:33:19.593820Z",
     "start_time": "2025-05-13T19:33:19.590495Z"
    }
   },
   "cell_type": "code",
   "source": [
    "result = apply_to_all_batches(\n",
    "    data, \n",
    "    lambda x: f'Record {x[\"Batch ID\"]}, {x[\"Operator ID\"]}, {x[\"Pass/Fail\"]}'\n",
    ")"
   ],
   "id": "750a8b3d385fd655",
   "outputs": [],
   "execution_count": 223
  },
  {
   "metadata": {
    "ExecuteTime": {
     "end_time": "2025-05-13T19:33:19.638039Z",
     "start_time": "2025-05-13T19:33:19.634498Z"
    }
   },
   "cell_type": "code",
   "source": "result[:5]",
   "id": "fbd7983928b1841e",
   "outputs": [
    {
     "data": {
      "text/plain": [
       "['Record ELP4540, TECH725, Pass',\n",
       " 'Record ELP5163, TECH179, Pass',\n",
       " 'Record ELP1013, TECH699, Fail',\n",
       " 'Record ELP7804, TECH856, Pass',\n",
       " 'Record ELP3034, TECH789, Pass']"
      ]
     },
     "execution_count": 224,
     "metadata": {},
     "output_type": "execute_result"
    }
   ],
   "execution_count": 224
  },
  {
   "metadata": {},
   "cell_type": "markdown",
   "source": [
    "### **2. Write a function `is_property_above(field, threshold)`**\n",
    "\n",
    "It should return another function that checks if `record[field] > threshold`.\n",
    "\n",
    "Example:\n",
    "\n",
    "```python\n",
    "check_temp = is_property_above(\"Bath Temperature (°C)\", 90)\n",
    "```\n"
   ],
   "id": "aa598c6b79bb2add"
  },
  {
   "metadata": {
    "ExecuteTime": {
     "end_time": "2025-05-13T19:33:19.678028Z",
     "start_time": "2025-05-13T19:33:19.675428Z"
    }
   },
   "cell_type": "code",
   "source": [
    "def is_property_above(field, threshold):\n",
    "    return lambda record: record[field] > threshold"
   ],
   "id": "7b74f9a5e85de4a8",
   "outputs": [],
   "execution_count": 225
  },
  {
   "metadata": {
    "ExecuteTime": {
     "end_time": "2025-05-13T19:33:19.712338Z",
     "start_time": "2025-05-13T19:33:19.709717Z"
    }
   },
   "cell_type": "code",
   "source": "check_temp = is_property_above('Bath Temperature (°C)', 90)",
   "id": "97a8465d9ce29026",
   "outputs": [],
   "execution_count": 226
  },
  {
   "metadata": {
    "ExecuteTime": {
     "end_time": "2025-05-13T19:33:19.743154Z",
     "start_time": "2025-05-13T19:33:19.739774Z"
    }
   },
   "cell_type": "code",
   "source": "check_temp(data[0])",
   "id": "c99a846597a60781",
   "outputs": [
    {
     "data": {
      "text/plain": [
       "True"
      ]
     },
     "execution_count": 227,
     "metadata": {},
     "output_type": "execute_result"
    }
   ],
   "execution_count": 227
  },
  {
   "metadata": {
    "ExecuteTime": {
     "end_time": "2025-05-13T19:33:19.784611Z",
     "start_time": "2025-05-13T19:33:19.781058Z"
    }
   },
   "cell_type": "code",
   "source": "data[0]",
   "id": "43d0f9f4927152e8",
   "outputs": [
    {
     "data": {
      "text/plain": [
       "{'Date': '2025-01-01',\n",
       " 'Shift': 'Shift 1',\n",
       " 'Batch ID': 'ELP4540',\n",
       " 'Plating Type': 'Electroless Nickel',\n",
       " 'Component Type': 'Heat Sink',\n",
       " 'Machine ID': 'Tank C',\n",
       " 'Bath Temperature (°C)': 91.6,\n",
       " 'pH Level': 4.85,\n",
       " 'Plating Time (min)': 43.5,\n",
       " 'Thickness (μm)': 22.99,\n",
       " 'Adhesion Strength (MPa)': 21.3,\n",
       " 'Phosphorus Content (%)': 8.85,\n",
       " 'Surface Roughness (Ra μm)': 0.5,\n",
       " 'Visual Inspection': 'Blister',\n",
       " 'Corrosion Test': 'Pass',\n",
       " 'Operator ID': 'TECH725',\n",
       " 'Pass/Fail': 'Pass'}"
      ]
     },
     "execution_count": 228,
     "metadata": {},
     "output_type": "execute_result"
    }
   ],
   "execution_count": 228
  },
  {
   "metadata": {
    "ExecuteTime": {
     "end_time": "2025-05-13T19:33:19.836908Z",
     "start_time": "2025-05-13T19:33:19.833978Z"
    }
   },
   "cell_type": "code",
   "source": [
    "# apply to all batch\n",
    "hot_batches = list(filter(check_temp, data))"
   ],
   "id": "b59904a9bf66a3ee",
   "outputs": [],
   "execution_count": 229
  },
  {
   "metadata": {
    "ExecuteTime": {
     "end_time": "2025-05-13T19:33:19.856929Z",
     "start_time": "2025-05-13T19:33:19.852421Z"
    }
   },
   "cell_type": "code",
   "source": "hot_batches[:5]",
   "id": "8289e369e47e1038",
   "outputs": [
    {
     "data": {
      "text/plain": [
       "[{'Date': '2025-01-01',\n",
       "  'Shift': 'Shift 1',\n",
       "  'Batch ID': 'ELP4540',\n",
       "  'Plating Type': 'Electroless Nickel',\n",
       "  'Component Type': 'Heat Sink',\n",
       "  'Machine ID': 'Tank C',\n",
       "  'Bath Temperature (°C)': 91.6,\n",
       "  'pH Level': 4.85,\n",
       "  'Plating Time (min)': 43.5,\n",
       "  'Thickness (μm)': 22.99,\n",
       "  'Adhesion Strength (MPa)': 21.3,\n",
       "  'Phosphorus Content (%)': 8.85,\n",
       "  'Surface Roughness (Ra μm)': 0.5,\n",
       "  'Visual Inspection': 'Blister',\n",
       "  'Corrosion Test': 'Pass',\n",
       "  'Operator ID': 'TECH725',\n",
       "  'Pass/Fail': 'Pass'},\n",
       " {'Date': '2025-01-01',\n",
       "  'Shift': 'Shift 2',\n",
       "  'Batch ID': 'ELP3034',\n",
       "  'Plating Type': 'Electroless Nickel',\n",
       "  'Component Type': 'PCB Panel',\n",
       "  'Machine ID': 'Tank A',\n",
       "  'Bath Temperature (°C)': 92.6,\n",
       "  'pH Level': 5.13,\n",
       "  'Plating Time (min)': 70.9,\n",
       "  'Thickness (μm)': 22.33,\n",
       "  'Adhesion Strength (MPa)': 18.4,\n",
       "  'Phosphorus Content (%)': 9.28,\n",
       "  'Surface Roughness (Ra μm)': 0.91,\n",
       "  'Visual Inspection': 'Pitting',\n",
       "  'Corrosion Test': 'Fail',\n",
       "  'Operator ID': 'TECH789',\n",
       "  'Pass/Fail': 'Pass'},\n",
       " {'Date': '2025-01-01',\n",
       "  'Shift': 'Shift 2',\n",
       "  'Batch ID': 'ELP2153',\n",
       "  'Plating Type': 'Electroless Nickel',\n",
       "  'Component Type': 'Heat Sink',\n",
       "  'Machine ID': 'Tank C',\n",
       "  'Bath Temperature (°C)': 91.3,\n",
       "  'pH Level': 5.27,\n",
       "  'Plating Time (min)': 37.8,\n",
       "  'Thickness (μm)': 16.25,\n",
       "  'Adhesion Strength (MPa)': 21.7,\n",
       "  'Phosphorus Content (%)': 6.35,\n",
       "  'Surface Roughness (Ra μm)': 1.14,\n",
       "  'Visual Inspection': 'Dull Finish',\n",
       "  'Corrosion Test': 'Fail',\n",
       "  'Operator ID': 'TECH866',\n",
       "  'Pass/Fail': 'Pass'},\n",
       " {'Date': '2025-01-02',\n",
       "  'Shift': 'Shift 2',\n",
       "  'Batch ID': 'ELP4103',\n",
       "  'Plating Type': 'Electroless Nickel',\n",
       "  'Component Type': 'Valve Body',\n",
       "  'Machine ID': 'Tank C',\n",
       "  'Bath Temperature (°C)': 92.6,\n",
       "  'pH Level': 4.94,\n",
       "  'Plating Time (min)': 72.8,\n",
       "  'Thickness (μm)': 22.42,\n",
       "  'Adhesion Strength (MPa)': 24.9,\n",
       "  'Phosphorus Content (%)': 7.43,\n",
       "  'Surface Roughness (Ra μm)': 1.13,\n",
       "  'Visual Inspection': 'Pass',\n",
       "  'Corrosion Test': 'Fail',\n",
       "  'Operator ID': 'TECH119',\n",
       "  'Pass/Fail': 'Pass'},\n",
       " {'Date': '2025-01-04',\n",
       "  'Shift': 'Shift 1',\n",
       "  'Batch ID': 'ELP3074',\n",
       "  'Plating Type': 'Electroless Nickel',\n",
       "  'Component Type': 'Valve Body',\n",
       "  'Machine ID': 'Tank C',\n",
       "  'Bath Temperature (°C)': 91.7,\n",
       "  'pH Level': 4.51,\n",
       "  'Plating Time (min)': 44.4,\n",
       "  'Thickness (μm)': 10.75,\n",
       "  'Adhesion Strength (MPa)': 18.7,\n",
       "  'Phosphorus Content (%)': 6.47,\n",
       "  'Surface Roughness (Ra μm)': 0.99,\n",
       "  'Visual Inspection': 'Pitting',\n",
       "  'Corrosion Test': 'Pass',\n",
       "  'Operator ID': 'TECH275',\n",
       "  'Pass/Fail': 'Fail'}]"
      ]
     },
     "execution_count": 230,
     "metadata": {},
     "output_type": "execute_result"
    }
   ],
   "execution_count": 230
  },
  {
   "metadata": {},
   "cell_type": "markdown",
   "source": [
    " ### **3. Write a function `format_report(field)`**\n",
    "\n",
    "It should return a function that takes a record and returns a string:\n",
    "`\"Batch ELP1234: Thickness = 22.3 μm\"`"
   ],
   "id": "399240f51b5705be"
  },
  {
   "metadata": {
    "ExecuteTime": {
     "end_time": "2025-05-13T19:33:19.890228Z",
     "start_time": "2025-05-13T19:33:19.887367Z"
    }
   },
   "cell_type": "code",
   "source": [
    "def format_report(field):\n",
    "    return lambda record: f'Batch {record[field]}: {record['Thickness (μm)']} μm'"
   ],
   "id": "5c8aee36317ccf63",
   "outputs": [],
   "execution_count": 231
  },
  {
   "metadata": {
    "ExecuteTime": {
     "end_time": "2025-05-13T19:33:19.944316Z",
     "start_time": "2025-05-13T19:33:19.940711Z"
    }
   },
   "cell_type": "code",
   "source": "formated_list = list(map(format_report('Batch ID'), data))",
   "id": "7436f2ebc31b4249",
   "outputs": [],
   "execution_count": 232
  },
  {
   "metadata": {
    "ExecuteTime": {
     "end_time": "2025-05-13T19:33:19.995203Z",
     "start_time": "2025-05-13T19:33:19.991107Z"
    }
   },
   "cell_type": "code",
   "source": "formated_list[:5]",
   "id": "951cebe47e79d2f",
   "outputs": [
    {
     "data": {
      "text/plain": [
       "['Batch ELP4540: 22.99 μm',\n",
       " 'Batch ELP5163: 13.95 μm',\n",
       " 'Batch ELP1013: 10.67 μm',\n",
       " 'Batch ELP7804: 19.65 μm',\n",
       " 'Batch ELP3034: 22.33 μm']"
      ]
     },
     "execution_count": 233,
     "metadata": {},
     "output_type": "execute_result"
    }
   ],
   "execution_count": 233
  },
  {
   "metadata": {},
   "cell_type": "markdown",
   "source": [
    "### **4. Write a function `filter_records(data, condition_func)`**\n",
    "\n",
    "It should take a function and return only the records where that function returns `True`.\n"
   ],
   "id": "33094ade47c817e5"
  },
  {
   "metadata": {
    "ExecuteTime": {
     "end_time": "2025-05-13T19:33:20.040138Z",
     "start_time": "2025-05-13T19:33:20.037786Z"
    }
   },
   "cell_type": "code",
   "source": [
    "def filter_records(record, condition_func):\n",
    "    return [record for record in data if condition_func(record)]"
   ],
   "id": "7e68b04a2d7cb338",
   "outputs": [],
   "execution_count": 234
  },
  {
   "metadata": {
    "ExecuteTime": {
     "end_time": "2025-05-13T19:33:20.077083Z",
     "start_time": "2025-05-13T19:33:20.073411Z"
    }
   },
   "cell_type": "code",
   "source": [
    "filtered_records = filter_records(\n",
    "    data,\n",
    "    lambda record: record['Bath Temperature (°C)'] < 90\n",
    ")"
   ],
   "id": "7d13922709dc1071",
   "outputs": [],
   "execution_count": 235
  },
  {
   "metadata": {
    "ExecuteTime": {
     "end_time": "2025-05-13T19:33:20.134056Z",
     "start_time": "2025-05-13T19:33:20.130183Z"
    }
   },
   "cell_type": "code",
   "source": "filtered_records[:5]",
   "id": "6990ee02fb2c7b87",
   "outputs": [
    {
     "data": {
      "text/plain": [
       "[{'Date': '2025-01-01',\n",
       "  'Shift': 'Shift 1',\n",
       "  'Batch ID': 'ELP5163',\n",
       "  'Plating Type': 'Electroless Copper',\n",
       "  'Component Type': 'Connector Pins',\n",
       "  'Machine ID': 'Tank B',\n",
       "  'Bath Temperature (°C)': 73.0,\n",
       "  'pH Level': 4.69,\n",
       "  'Plating Time (min)': 79.2,\n",
       "  'Thickness (μm)': 13.95,\n",
       "  'Adhesion Strength (MPa)': 16.4,\n",
       "  'Phosphorus Content (%)': nan,\n",
       "  'Surface Roughness (Ra μm)': 0.65,\n",
       "  'Visual Inspection': 'Pitting',\n",
       "  'Corrosion Test': 'Pass',\n",
       "  'Operator ID': 'TECH179',\n",
       "  'Pass/Fail': 'Pass'},\n",
       " {'Date': '2025-01-01',\n",
       "  'Shift': 'Shift 1',\n",
       "  'Batch ID': 'ELP1013',\n",
       "  'Plating Type': 'Electroless Copper',\n",
       "  'Component Type': 'Gear Housing',\n",
       "  'Machine ID': 'Tank B',\n",
       "  'Bath Temperature (°C)': 63.3,\n",
       "  'pH Level': 4.78,\n",
       "  'Plating Time (min)': 37.2,\n",
       "  'Thickness (μm)': 10.67,\n",
       "  'Adhesion Strength (MPa)': 10.4,\n",
       "  'Phosphorus Content (%)': nan,\n",
       "  'Surface Roughness (Ra μm)': 0.85,\n",
       "  'Visual Inspection': 'Dull Finish',\n",
       "  'Corrosion Test': 'Fail',\n",
       "  'Operator ID': 'TECH699',\n",
       "  'Pass/Fail': 'Fail'},\n",
       " {'Date': '2025-01-01',\n",
       "  'Shift': 'Shift 2',\n",
       "  'Batch ID': 'ELP7804',\n",
       "  'Plating Type': 'Electroless Copper',\n",
       "  'Component Type': 'Gear Housing',\n",
       "  'Machine ID': 'Tank B',\n",
       "  'Bath Temperature (°C)': 71.9,\n",
       "  'pH Level': 4.83,\n",
       "  'Plating Time (min)': 40.1,\n",
       "  'Thickness (μm)': 19.65,\n",
       "  'Adhesion Strength (MPa)': 20.6,\n",
       "  'Phosphorus Content (%)': nan,\n",
       "  'Surface Roughness (Ra μm)': 0.69,\n",
       "  'Visual Inspection': 'Pitting',\n",
       "  'Corrosion Test': 'Fail',\n",
       "  'Operator ID': 'TECH856',\n",
       "  'Pass/Fail': 'Pass'},\n",
       " {'Date': '2025-01-02',\n",
       "  'Shift': 'Shift 1',\n",
       "  'Batch ID': 'ELP5163',\n",
       "  'Plating Type': 'Electroless Copper',\n",
       "  'Component Type': 'Connector Pins',\n",
       "  'Machine ID': 'Tank B',\n",
       "  'Bath Temperature (°C)': 73.0,\n",
       "  'pH Level': 4.69,\n",
       "  'Plating Time (min)': 79.2,\n",
       "  'Thickness (μm)': 13.95,\n",
       "  'Adhesion Strength (MPa)': 16.4,\n",
       "  'Phosphorus Content (%)': nan,\n",
       "  'Surface Roughness (Ra μm)': 0.65,\n",
       "  'Visual Inspection': 'Pitting',\n",
       "  'Corrosion Test': 'Pass',\n",
       "  'Operator ID': 'TECH179',\n",
       "  'Pass/Fail': 'Pass'},\n",
       " {'Date': '2025-01-02',\n",
       "  'Shift': 'Shift 1',\n",
       "  'Batch ID': 'ELP8276',\n",
       "  'Plating Type': 'Electroless Copper',\n",
       "  'Component Type': 'Connector Pins',\n",
       "  'Machine ID': 'Tank A',\n",
       "  'Bath Temperature (°C)': 68.9,\n",
       "  'pH Level': 5.27,\n",
       "  'Plating Time (min)': 36.9,\n",
       "  'Thickness (μm)': 11.92,\n",
       "  'Adhesion Strength (MPa)': 15.2,\n",
       "  'Phosphorus Content (%)': nan,\n",
       "  'Surface Roughness (Ra μm)': 1.08,\n",
       "  'Visual Inspection': 'Blister',\n",
       "  'Corrosion Test': 'Pass',\n",
       "  'Operator ID': 'TECH508',\n",
       "  'Pass/Fail': 'Fail'}]"
      ]
     },
     "execution_count": 236,
     "metadata": {},
     "output_type": "execute_result"
    }
   ],
   "execution_count": 236
  },
  {
   "metadata": {},
   "cell_type": "markdown",
   "source": [
    "### **5. Write a function `report_generator(fields)`**\n",
    "\n",
    "It should return a function that, when given a record, returns a summary string of all those fields."
   ],
   "id": "26a594d4ff4fe3a3"
  },
  {
   "metadata": {
    "ExecuteTime": {
     "end_time": "2025-05-13T19:33:20.157217Z",
     "start_time": "2025-05-13T19:33:20.153931Z"
    }
   },
   "cell_type": "code",
   "source": [
    "def report_generator(fields):\n",
    "    return lambda record: ', '.join(str(record[field]) for field in fields)\n",
    "    "
   ],
   "id": "7105bfe7065a586e",
   "outputs": [],
   "execution_count": 237
  },
  {
   "metadata": {
    "ExecuteTime": {
     "end_time": "2025-05-13T19:33:20.195776Z",
     "start_time": "2025-05-13T19:33:20.193116Z"
    }
   },
   "cell_type": "code",
   "source": "report_string = report_generator(['Batch ID', 'Machine ID', 'Pass/Fail'])",
   "id": "2a51c44ed49b5574",
   "outputs": [],
   "execution_count": 238
  },
  {
   "metadata": {
    "ExecuteTime": {
     "end_time": "2025-05-13T19:33:20.232870Z",
     "start_time": "2025-05-13T19:33:20.229562Z"
    }
   },
   "cell_type": "code",
   "source": "formatted = list(map(report_string, data))",
   "id": "15a7535c06fe0712",
   "outputs": [],
   "execution_count": 239
  },
  {
   "metadata": {
    "ExecuteTime": {
     "end_time": "2025-05-13T19:33:20.266843Z",
     "start_time": "2025-05-13T19:33:20.263402Z"
    }
   },
   "cell_type": "code",
   "source": "formatted[:3]",
   "id": "d8bc6cc647c733fc",
   "outputs": [
    {
     "data": {
      "text/plain": [
       "['ELP4540, Tank C, Pass', 'ELP5163, Tank B, Pass', 'ELP1013, Tank B, Fail']"
      ]
     },
     "execution_count": 240,
     "metadata": {},
     "output_type": "execute_result"
    }
   ],
   "execution_count": 240
  },
  {
   "metadata": {},
   "cell_type": "markdown",
   "source": [
    "### **6. Write a function `compose(f, g)`**\n",
    "\n",
    "It should return a new function that combines `f(g(x))`.\n",
    "\n",
    "Test it on simple math:\n",
    "\n",
    "```python\n",
    "add3 = lambda x: x + 3\n",
    "square = lambda x: x * x\n",
    "square_then_add3 = compose(add3, square)\n",
    "print(square_then_add3(2))  # Output: 7\n",
    "```\n"
   ],
   "id": "39c4cfe35ea1209"
  },
  {
   "metadata": {
    "ExecuteTime": {
     "end_time": "2025-05-13T19:33:20.299086Z",
     "start_time": "2025-05-13T19:33:20.296495Z"
    }
   },
   "cell_type": "code",
   "source": [
    "def compose(f, g):\n",
    "    return lambda x: f(g(x))    \n",
    "    "
   ],
   "id": "c57a0e32a39345d6",
   "outputs": [],
   "execution_count": 241
  },
  {
   "metadata": {
    "ExecuteTime": {
     "end_time": "2025-05-13T19:33:20.353698Z",
     "start_time": "2025-05-13T19:33:20.351135Z"
    }
   },
   "cell_type": "code",
   "source": "add_2_to_temp = lambda x: x + 2",
   "id": "316c67446aed1415",
   "outputs": [],
   "execution_count": 242
  },
  {
   "metadata": {
    "ExecuteTime": {
     "end_time": "2025-05-13T19:33:20.376558Z",
     "start_time": "2025-05-13T19:33:20.373945Z"
    }
   },
   "cell_type": "code",
   "source": "square_temp = lambda x: x ** 2",
   "id": "7822fe647438b98a",
   "outputs": [],
   "execution_count": 243
  },
  {
   "metadata": {
    "ExecuteTime": {
     "end_time": "2025-05-13T19:33:20.407419Z",
     "start_time": "2025-05-13T19:33:20.404837Z"
    }
   },
   "cell_type": "code",
   "source": "square_then_add_to_temp = compose(add_2_to_temp, square_temp)",
   "id": "e82f1e23dc02cd5c",
   "outputs": [],
   "execution_count": 244
  },
  {
   "metadata": {
    "ExecuteTime": {
     "end_time": "2025-05-13T19:33:20.431781Z",
     "start_time": "2025-05-13T19:33:20.428245Z"
    }
   },
   "cell_type": "code",
   "source": [
    "composed_list = list(map(\n",
    "    lambda record: round(square_then_add_to_temp(record['Bath Temperature (°C)']), 2), \n",
    "    data\n",
    "))"
   ],
   "id": "239cc28e411f89d",
   "outputs": [],
   "execution_count": 245
  },
  {
   "metadata": {
    "ExecuteTime": {
     "end_time": "2025-05-13T19:33:20.463908Z",
     "start_time": "2025-05-13T19:33:20.460269Z"
    }
   },
   "cell_type": "code",
   "source": "composed_list[:5]",
   "id": "108b61094a8e9829",
   "outputs": [
    {
     "data": {
      "text/plain": [
       "[8392.56, 5331.0, 4008.89, 5171.61, 8576.76]"
      ]
     },
     "execution_count": 246,
     "metadata": {},
     "output_type": "execute_result"
    }
   ],
   "execution_count": 246
  },
  {
   "metadata": {},
   "cell_type": "markdown",
   "source": [
    "### **7. Write a function `plating_analyzer(field)`**\n",
    "\n",
    "It returns a function that takes a record and returns `\"HIGH\"` if `record[field] > 20`, else `\"LOW\"`.\n"
   ],
   "id": "311b2339d3852d"
  },
  {
   "metadata": {
    "ExecuteTime": {
     "end_time": "2025-05-13T19:33:20.485343Z",
     "start_time": "2025-05-13T19:33:20.482834Z"
    }
   },
   "cell_type": "code",
   "source": [
    "def plating_analyzer(field):\n",
    "    return lambda record: 'HIGH' if record[field] > 20 else 'LOW'"
   ],
   "id": "39a0af737fd393a8",
   "outputs": [],
   "execution_count": 247
  },
  {
   "metadata": {
    "ExecuteTime": {
     "end_time": "2025-05-13T19:33:20.543123Z",
     "start_time": "2025-05-13T19:33:20.539818Z"
    }
   },
   "cell_type": "code",
   "source": [
    "plating_analyzed_list = list(map(\n",
    "    plating_analyzer('Adhesion Strength (MPa)'), \n",
    "    data\n",
    "))"
   ],
   "id": "bd5406495f5135f6",
   "outputs": [],
   "execution_count": 248
  },
  {
   "metadata": {
    "ExecuteTime": {
     "end_time": "2025-05-13T19:33:20.578793Z",
     "start_time": "2025-05-13T19:33:20.575479Z"
    }
   },
   "cell_type": "code",
   "source": "plating_analyzed_list[:5]",
   "id": "74af73a96d0b84e1",
   "outputs": [
    {
     "data": {
      "text/plain": [
       "['HIGH', 'LOW', 'LOW', 'HIGH', 'LOW']"
      ]
     },
     "execution_count": 249,
     "metadata": {},
     "output_type": "execute_result"
    }
   ],
   "execution_count": 249
  },
  {
   "metadata": {},
   "cell_type": "markdown",
   "source": [
    "### **8. Write a function `make_scaler(field, factor)`**\n",
    "\n",
    "It returns a function that scales `record[field]` by `factor`."
   ],
   "id": "fe7ca86404fab6d2"
  },
  {
   "metadata": {
    "ExecuteTime": {
     "end_time": "2025-05-13T19:37:51.434997Z",
     "start_time": "2025-05-13T19:37:51.431828Z"
    }
   },
   "cell_type": "code",
   "source": [
    "def make_scaler(field, factor):\n",
    "    return lambda record: round(record[field] / factor, 2)"
   ],
   "id": "b030fb9102fe6932",
   "outputs": [],
   "execution_count": 258
  },
  {
   "metadata": {
    "ExecuteTime": {
     "end_time": "2025-05-13T19:37:51.994420Z",
     "start_time": "2025-05-13T19:37:51.991267Z"
    }
   },
   "cell_type": "code",
   "source": [
    "scaled_list = list(map(\n",
    "    make_scaler('pH Level', 1.01),\n",
    "    data\n",
    "))"
   ],
   "id": "d8c187fb754bf74e",
   "outputs": [],
   "execution_count": 259
  },
  {
   "metadata": {
    "ExecuteTime": {
     "end_time": "2025-05-13T19:37:52.551870Z",
     "start_time": "2025-05-13T19:37:52.548237Z"
    }
   },
   "cell_type": "code",
   "source": "scaled_list[:5]",
   "id": "e7157f487b3248d2",
   "outputs": [
    {
     "data": {
      "text/plain": [
       "[4.8, 4.64, 4.73, 4.78, 5.08]"
      ]
     },
     "execution_count": 260,
     "metadata": {},
     "output_type": "execute_result"
    }
   ],
   "execution_count": 260
  },
  {
   "metadata": {},
   "cell_type": "markdown",
   "source": [
    "### **9. Write a function `apply_many(funcs)`**\n",
    "\n",
    "It returns a function that applies a list of functions to a single input and returns a list of outputs.\n"
   ],
   "id": "135d1e3516f123fd"
  },
  {
   "metadata": {
    "ExecuteTime": {
     "end_time": "2025-05-13T19:50:55.298868Z",
     "start_time": "2025-05-13T19:50:55.295886Z"
    }
   },
   "cell_type": "code",
   "source": [
    "def apply_many(funcs):\n",
    "    return lambda x: [func(x) for func in funcs]"
   ],
   "id": "e5b64c51eba72147",
   "outputs": [],
   "execution_count": 277
  },
  {
   "metadata": {
    "ExecuteTime": {
     "end_time": "2025-05-13T19:51:19.802849Z",
     "start_time": "2025-05-13T19:51:19.800029Z"
    }
   },
   "cell_type": "code",
   "source": "func1 = lambda record: round(record['Adhesion Strength (MPa)'] *1.01, 2)",
   "id": "58065117fec804ea",
   "outputs": [],
   "execution_count": 282
  },
  {
   "metadata": {
    "ExecuteTime": {
     "end_time": "2025-05-13T19:54:00.511721Z",
     "start_time": "2025-05-13T19:54:00.508775Z"
    }
   },
   "cell_type": "code",
   "source": [
    "import math as m\n",
    "func2 = lambda record: (\n",
    "    0 if m.isnan(record['Phosphorus Content (%)']) \n",
    "    else\n",
    "    round(record['Phosphorus Content (%)'] + 1.01, 2)\n",
    ")\n"
   ],
   "id": "60d1f9a5f31fe372",
   "outputs": [],
   "execution_count": 288
  },
  {
   "metadata": {
    "ExecuteTime": {
     "end_time": "2025-05-13T19:54:01.115714Z",
     "start_time": "2025-05-13T19:54:01.109468Z"
    }
   },
   "cell_type": "code",
   "source": [
    "outputs_list = list(map(\n",
    "    apply_many([func1, func2]),\n",
    "    data\n",
    "))"
   ],
   "id": "798c1f0aea04bc32",
   "outputs": [],
   "execution_count": 289
  },
  {
   "metadata": {
    "ExecuteTime": {
     "end_time": "2025-05-13T19:54:01.657684Z",
     "start_time": "2025-05-13T19:54:01.654848Z"
    }
   },
   "cell_type": "code",
   "source": "outputs_list[:5]",
   "id": "3a1cd19afd7a96",
   "outputs": [
    {
     "data": {
      "text/plain": [
       "[[21.51, 9.86], [16.56, 0], [10.5, 0], [20.81, 0], [18.58, 10.29]]"
      ]
     },
     "execution_count": 290,
     "metadata": {},
     "output_type": "execute_result"
    }
   ],
   "execution_count": 290
  },
  {
   "metadata": {},
   "cell_type": "markdown",
   "source": [
    "### **10. Write a function `make_condition_checker(field, op, value)`**\n",
    "\n",
    "It returns a function that compares `record[field]` to `value` using the given operator (`>`, `<`, `==`, etc.).\n"
   ],
   "id": "eff55e676caeab47"
  },
  {
   "metadata": {
    "ExecuteTime": {
     "end_time": "2025-05-13T20:02:00.395462Z",
     "start_time": "2025-05-13T20:02:00.392239Z"
    }
   },
   "cell_type": "code",
   "source": [
    "import operator\n",
    "\n",
    "ops = {\n",
    "    '==': operator.eq,\n",
    "    '!=': operator.ne,\n",
    "    '<': operator.lt,\n",
    "    '>': operator.gt,\n",
    "    '>=': operator.ge,\n",
    "    '<=': operator.le,\n",
    "}\n",
    " "
   ],
   "id": "116a564653831d53",
   "outputs": [],
   "execution_count": 291
  },
  {
   "metadata": {
    "ExecuteTime": {
     "end_time": "2025-05-13T20:03:29.989219Z",
     "start_time": "2025-05-13T20:03:29.986108Z"
    }
   },
   "cell_type": "code",
   "source": [
    "def make_condition_check(field, op, value):\n",
    "    if op not in ops:\n",
    "        raise ValueError(f'Operator {op} not supported')\n",
    "    return lambda record: ops[op](record[field], value)"
   ],
   "id": "4474477a97773181",
   "outputs": [],
   "execution_count": 292
  },
  {
   "metadata": {
    "ExecuteTime": {
     "end_time": "2025-05-13T20:04:57.859005Z",
     "start_time": "2025-05-13T20:04:57.855320Z"
    }
   },
   "cell_type": "code",
   "source": [
    "temp_cond_list = list(map(\n",
    "    make_condition_check('Bath Temperature (°C)' , '>', 90),\n",
    "    data\n",
    "))"
   ],
   "id": "e99cc0434d108f1a",
   "outputs": [],
   "execution_count": 293
  },
  {
   "metadata": {
    "ExecuteTime": {
     "end_time": "2025-05-13T20:05:01.694064Z",
     "start_time": "2025-05-13T20:05:01.690349Z"
    }
   },
   "cell_type": "code",
   "source": "temp_cond_list[:5]",
   "id": "fbcae760e50a1194",
   "outputs": [
    {
     "data": {
      "text/plain": [
       "[True, False, False, False, True]"
      ]
     },
     "execution_count": 294,
     "metadata": {},
     "output_type": "execute_result"
    }
   ],
   "execution_count": 294
  },
  {
   "metadata": {},
   "cell_type": "markdown",
   "source": "# More Practice Problems",
   "id": "a884b402df4d2d9b"
  },
  {
   "metadata": {},
   "cell_type": "markdown",
   "source": [
    "## A. **Functions that Take Other Functions as Input**\n",
    "\n",
    "### **1. `apply_twice(func, value)`**\n",
    "\n",
    "Apply a function `func` twice to a `value`.\n",
    "\n",
    "```python\n",
    "# Example: apply_twice(lambda x: x + 2, 5) ➜ 9\n",
    "```"
   ],
   "id": "db2c68fb1525780d"
  },
  {
   "metadata": {},
   "cell_type": "code",
   "outputs": [],
   "execution_count": null,
   "source": "",
   "id": "bca30bfc08d383a7"
  },
  {
   "metadata": {},
   "cell_type": "code",
   "outputs": [],
   "execution_count": null,
   "source": "",
   "id": "6fb25dc07e297cbe"
  },
  {
   "metadata": {},
   "cell_type": "code",
   "outputs": [],
   "execution_count": null,
   "source": "",
   "id": "845bbde94286c46b"
  },
  {
   "metadata": {},
   "cell_type": "code",
   "outputs": [],
   "execution_count": null,
   "source": "",
   "id": "ff238605f5533787"
  },
  {
   "metadata": {},
   "cell_type": "code",
   "outputs": [],
   "execution_count": null,
   "source": "",
   "id": "864c2b1c15fc3da7"
  },
  {
   "metadata": {},
   "cell_type": "markdown",
   "source": [
    "You're doing great — you're already writing real higher-order functions! And the fact that you're asking for more practice is **exactly** what builds mastery. 💪\n",
    "\n",
    "Here are **10 new higher-order function challenges** — split into the two types:\n",
    "\n",
    "---\n",
    "\n",
    "\n",
    "\n",
    "---\n",
    "\n",
    "### **2. `filter_and_transform(data, condition, transform)`**\n",
    "\n",
    "Filter the data using `condition`, then apply `transform`.\n",
    "\n",
    "```python\n",
    "# Example: filter_and_transform(data, lambda x: x > 5, lambda x: x * 2)\n",
    "```\n",
    "\n",
    "---\n",
    "\n",
    "### **3. `chain_functions(f1, f2, f3)`**\n",
    "\n",
    "Return a function that applies `f1(f2(f3(x)))`.\n",
    "\n",
    "```python\n",
    "# Example: f = chain_functions(add3, square, halve)\n",
    "# f(2) ➜ add3(square(halve(2)))\n",
    "```\n",
    "\n",
    "---\n",
    "\n",
    "### **4. `batch_apply(funcs, value)`**\n",
    "\n",
    "Takes a list of functions and applies all of them to the same value.\n",
    "\n",
    "```python\n",
    "# Example: batch_apply([square, double, negate], 3) ➜ [9, 6, -3]\n",
    "```\n",
    "\n",
    "---\n",
    "\n",
    "### **5. `custom_map(data, transformer)`**\n",
    "\n",
    "Implement your own version of `map()` using a loop.\n",
    "\n",
    "```python\n",
    "# Example: custom_map([1, 2, 3], lambda x: x * 10)\n",
    "```\n",
    "\n",
    "---\n",
    "\n",
    "## 🔹 B. **Functions That Return Other Functions**\n",
    "\n",
    "### **6. `make_divider(divisor)`**\n",
    "\n",
    "Returns a function that divides any input by `divisor`.\n",
    "\n",
    "```python\n",
    "# f = make_divider(5)\n",
    "# f(25) ➜ 5.0\n",
    "```\n",
    "\n",
    "---\n",
    "\n",
    "### **7. `make_power_func(n)`**\n",
    "\n",
    "Returns a function that raises input to the power of `n`.\n",
    "\n",
    "```python\n",
    "# square = make_power_func(2)\n",
    "# square(4) ➜ 16\n",
    "```\n",
    "\n",
    "---\n",
    "\n",
    "### **8. `make_filter_func(threshold)`**\n",
    "\n",
    "Returns a function that checks if a number is greater than `threshold`.\n",
    "\n",
    "```python\n",
    "# f = make_filter_func(100)\n",
    "# f(120) ➜ True\n",
    "```\n",
    "\n",
    "---\n",
    "\n",
    "### **9. `compose_all(func_list)`**\n",
    "\n",
    "Returns a function that applies all functions in `func_list` in order.\n",
    "\n",
    "```python\n",
    "# f = compose_all([double, square, add3])\n",
    "# f(2) ➜ add3(square(double(2)))\n",
    "```\n",
    "\n",
    "---\n",
    "\n",
    "### **10. `make_record_checker(field, op_func, value)`**\n",
    "\n",
    "Returns a function that checks if `record[field]` satisfies `op_func(..., value)`.\n",
    "\n",
    "```python\n",
    "# f = make_record_checker('pH', operator.gt, 4.9)\n",
    "# f({'pH': 5.0}) ➜ True\n",
    "```\n",
    "\n",
    "---\n",
    "\n",
    "Would you like step-by-step solutions for each — or prefer to try solving them first and check afterward?\n"
   ],
   "id": "6172c98cb65de9f4"
  },
  {
   "metadata": {},
   "cell_type": "code",
   "outputs": [],
   "execution_count": null,
   "source": "",
   "id": "c69c09f69c501cc8"
  }
 ],
 "metadata": {
  "kernelspec": {
   "display_name": "Python 3",
   "language": "python",
   "name": "python3"
  },
  "language_info": {
   "codemirror_mode": {
    "name": "ipython",
    "version": 2
   },
   "file_extension": ".py",
   "mimetype": "text/x-python",
   "name": "python",
   "nbconvert_exporter": "python",
   "pygments_lexer": "ipython2",
   "version": "2.7.6"
  }
 },
 "nbformat": 4,
 "nbformat_minor": 5
}
