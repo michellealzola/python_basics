{
 "cells": [
  {
   "metadata": {},
   "cell_type": "markdown",
   "source": [
    "# Higher-Order Functions\n",
    "\n",
    "### How to load the data\n",
    "\n",
    "```python\n",
    "import pickle\n",
    "\n",
    "with open(\"electroless_plating.pkl\", \"rb\") as f:\n",
    "    data = pickle.load(f)\n",
    "```\n",
    "\n",
    "## What Are Higher-Order Functions?\n",
    "\n",
    "They’re functions that:\n",
    "\n",
    "1. **Take other functions as input**, or\n",
    "2. **Return functions**\n",
    "\n",
    "Python has built-in higher-order functions that help you write **concise, readable** code.\n",
    "\n",
    "\n",
    "\n",
    "## 1. `map(function, iterable)`\n",
    "\n",
    "### Use When:\n",
    "\n",
    "You want to **transform** every item in a list (or any iterable).\n",
    "\n",
    "### Think: “Apply this function to each item.”\n",
    "\n",
    "### Example:\n",
    "\n",
    "```python\n",
    "nums = [1, 2, 3, 4]\n",
    "squares = list(map(lambda x: x**2, nums))\n",
    "print(squares)  # [1, 4, 9, 16]\n",
    "```\n",
    "\n",
    "\n",
    "\n",
    "## 2. `filter(function, iterable)`\n",
    "\n",
    "### Use When:\n",
    "\n",
    "You want to **select a subset** of items based on a condition.\n",
    "\n",
    "### Think: “Keep only the items that pass this test.”\n",
    "\n",
    "### Example:\n",
    "\n",
    "```python\n",
    "nums = [1, 2, 3, 4, 5]\n",
    "evens = list(filter(lambda x: x % 2 == 0, nums))\n",
    "print(evens)  # [2, 4]\n",
    "```\n",
    "\n",
    "\n",
    "\n",
    "## 3. `reduce(function, iterable)` (from `functools`)\n",
    "\n",
    "### Use When:\n",
    "\n",
    "You want to **reduce a list to a single value** (like sum, product, max, etc.).\n",
    "\n",
    "### Think: “Combine items step by step.”\n",
    "\n",
    "### Example:\n",
    "\n",
    "```python\n",
    "from functools import reduce\n",
    "\n",
    "nums = [1, 2, 3, 4]\n",
    "product = reduce(lambda x, y: x * y, nums)\n",
    "print(product)  # 24\n",
    "```\n",
    "\n",
    "\n",
    "\n",
    "## 4. `sorted(iterable, key=function)`\n",
    "\n",
    "### Use When:\n",
    "\n",
    "You want to **sort** a list based on a custom rule.\n",
    "\n",
    "### Example:\n",
    "\n",
    "```python\n",
    "words = ['apple', 'banana', 'fig']\n",
    "by_length = sorted(words, key=lambda w: len(w))\n",
    "print(by_length)  # ['fig', 'apple', 'banana']\n",
    "```\n",
    "\n",
    "\n",
    "## When to Use These\n",
    "\n",
    "| Function            | Use Case Example                                                     |\n",
    "| ------------------- | -------------------------------------------------------------------- |\n",
    "| `map()`             | Apply a transformation to every element (e.g., Fahrenheit → Celsius) |\n",
    "| `filter()`          | Keep only the elements that meet a condition (e.g., is even)         |\n",
    "| `reduce()`          | Collapse a list into a single value (e.g., multiply all numbers)     |\n",
    "| `sorted()` with key | Sort by a rule (e.g., by name length or score)                       |\n",
    "\n",
    "\n",
    "\n",
    "## Why Use Them?\n",
    "\n",
    "* They make your code **cleaner** and **more expressive**\n",
    "* Often used in **data processing**, **pipelines**, **machine learning**, and **web APIs**\n",
    "* Replace repetitive `for` loops with single-line logic"
   ],
   "id": "326adc9c7fd9972e"
  },
  {
   "metadata": {
    "ExecuteTime": {
     "end_time": "2025-05-14T00:20:44.510556Z",
     "start_time": "2025-05-14T00:20:44.508067Z"
    }
   },
   "cell_type": "code",
   "source": [
    "import operator\n",
    "import pickle\n",
    "from functools import reduce\n",
    "from itertools import chain"
   ],
   "id": "c94ba5ca8f2d955a",
   "outputs": [],
   "execution_count": 1264
  },
  {
   "metadata": {
    "ExecuteTime": {
     "end_time": "2025-05-14T00:20:46.196800Z",
     "start_time": "2025-05-14T00:20:46.192008Z"
    }
   },
   "cell_type": "code",
   "source": [
    "with open('electroless_plating.pkl', 'rb') as electroless_file:\n",
    "    data = pickle.load(electroless_file)"
   ],
   "id": "a5de2a25d46bb207",
   "outputs": [],
   "execution_count": 1265
  },
  {
   "metadata": {
    "ExecuteTime": {
     "end_time": "2025-05-14T00:20:46.217130Z",
     "start_time": "2025-05-14T00:20:46.213575Z"
    }
   },
   "cell_type": "code",
   "source": "data[0].keys()",
   "id": "3c531dbcc77f578c",
   "outputs": [
    {
     "data": {
      "text/plain": [
       "dict_keys(['Date', 'Shift', 'Batch ID', 'Plating Type', 'Component Type', 'Machine ID', 'Bath Temperature (°C)', 'pH Level', 'Plating Time (min)', 'Thickness (μm)', 'Adhesion Strength (MPa)', 'Phosphorus Content (%)', 'Surface Roughness (Ra μm)', 'Visual Inspection', 'Corrosion Test', 'Operator ID', 'Pass/Fail'])"
      ]
     },
     "execution_count": 1266,
     "metadata": {},
     "output_type": "execute_result"
    }
   ],
   "execution_count": 1266
  },
  {
   "metadata": {},
   "cell_type": "markdown",
   "source": [
    "## Higher-Order Function Exercises\n",
    "\n",
    "\n",
    "\n",
    "### **1. Use `map()` to extract all `Batch ID`s**\n",
    "\n",
    "```python\n",
    "# Output: ['ELP5726', 'ELP8081', ...]\n",
    "```\n"
   ],
   "id": "c2d583f7cc2ee2a8"
  },
  {
   "metadata": {
    "ExecuteTime": {
     "end_time": "2025-05-14T00:20:46.293027Z",
     "start_time": "2025-05-14T00:20:46.290386Z"
    }
   },
   "cell_type": "code",
   "source": "batch_id_list = list(map(lambda record: record['Batch ID'], data))",
   "id": "dfecd36c6ce1fd1b",
   "outputs": [],
   "execution_count": 1267
  },
  {
   "metadata": {
    "ExecuteTime": {
     "end_time": "2025-05-14T00:20:46.432813Z",
     "start_time": "2025-05-14T00:20:46.423982Z"
    }
   },
   "cell_type": "code",
   "source": "batch_id_list",
   "id": "f88fe45f1cd70584",
   "outputs": [
    {
     "data": {
      "text/plain": [
       "['ELP4540',\n",
       " 'ELP5163',\n",
       " 'ELP1013',\n",
       " 'ELP7804',\n",
       " 'ELP3034',\n",
       " 'ELP2153',\n",
       " 'ELP5163',\n",
       " 'ELP8276',\n",
       " 'ELP5739',\n",
       " 'ELP9746',\n",
       " 'ELP4103',\n",
       " 'ELP5739',\n",
       " 'ELP4942',\n",
       " 'ELP8473',\n",
       " 'ELP2833',\n",
       " 'ELP4203',\n",
       " 'ELP3133',\n",
       " 'ELP3506',\n",
       " 'ELP3074',\n",
       " 'ELP2956',\n",
       " 'ELP9417',\n",
       " 'ELP7282',\n",
       " 'ELP5570',\n",
       " 'ELP6351',\n",
       " 'ELP8597',\n",
       " 'ELP2838',\n",
       " 'ELP9318',\n",
       " 'ELP8938',\n",
       " 'ELP9633',\n",
       " 'ELP7393',\n",
       " 'ELP1839',\n",
       " 'ELP4675',\n",
       " 'ELP1265',\n",
       " 'ELP9623',\n",
       " 'ELP8099',\n",
       " 'ELP6520',\n",
       " 'ELP7969',\n",
       " 'ELP5829',\n",
       " 'ELP4637',\n",
       " 'ELP6782',\n",
       " 'ELP7057',\n",
       " 'ELP3252',\n",
       " 'ELP5173',\n",
       " 'ELP9420',\n",
       " 'ELP3506',\n",
       " 'ELP5643',\n",
       " 'ELP7600',\n",
       " 'ELP1797',\n",
       " 'ELP6586',\n",
       " 'ELP1797',\n",
       " 'ELP4339',\n",
       " 'ELP5492',\n",
       " 'ELP7123',\n",
       " 'ELP4211',\n",
       " 'ELP2761',\n",
       " 'ELP2307',\n",
       " 'ELP5492',\n",
       " 'ELP9633',\n",
       " 'ELP3833',\n",
       " 'ELP9417',\n",
       " 'ELP4540',\n",
       " 'ELP1259',\n",
       " 'ELP9282',\n",
       " 'ELP7378',\n",
       " 'ELP4540',\n",
       " 'ELP3962',\n",
       " 'ELP9746',\n",
       " 'ELP4904',\n",
       " 'ELP5781',\n",
       " 'ELP4854',\n",
       " 'ELP6699',\n",
       " 'ELP3133',\n",
       " 'ELP2479',\n",
       " 'ELP9888',\n",
       " 'ELP7568',\n",
       " 'ELP6657',\n",
       " 'ELP7887',\n",
       " 'ELP7887',\n",
       " 'ELP7756',\n",
       " 'ELP4689',\n",
       " 'ELP3578',\n",
       " 'ELP2623',\n",
       " 'ELP1155',\n",
       " 'ELP1839',\n",
       " 'ELP9666',\n",
       " 'ELP4541',\n",
       " 'ELP8750',\n",
       " 'ELP9255',\n",
       " 'ELP2556',\n",
       " 'ELP1481',\n",
       " 'ELP4103',\n",
       " 'ELP1259',\n",
       " 'ELP6351',\n",
       " 'ELP5570',\n",
       " 'ELP2257',\n",
       " 'ELP7726',\n",
       " 'ELP7969',\n",
       " 'ELP6782',\n",
       " 'ELP4216',\n",
       " 'ELP1771',\n",
       " 'ELP8099',\n",
       " 'ELP1941',\n",
       " 'ELP1909',\n",
       " 'ELP3233',\n",
       " 'ELP5643',\n",
       " 'ELP9633',\n",
       " 'ELP5803',\n",
       " 'ELP4203',\n",
       " 'ELP2257',\n",
       " 'ELP2623',\n",
       " 'ELP4103',\n",
       " 'ELP1013',\n",
       " 'ELP4540',\n",
       " 'ELP9158',\n",
       " 'ELP3817',\n",
       " 'ELP3117',\n",
       " 'ELP4854',\n",
       " 'ELP8346',\n",
       " 'ELP8016',\n",
       " 'ELP2833',\n",
       " 'ELP7279',\n",
       " 'ELP9434',\n",
       " 'ELP4854',\n",
       " 'ELP1155',\n",
       " 'ELP7573',\n",
       " 'ELP4675',\n",
       " 'ELP4689',\n",
       " 'ELP4339',\n",
       " 'ELP4006',\n",
       " 'ELP4299',\n",
       " 'ELP1680',\n",
       " 'ELP3460',\n",
       " 'ELP5643',\n",
       " 'ELP6346',\n",
       " 'ELP3074',\n",
       " 'ELP1338',\n",
       " 'ELP1338',\n",
       " 'ELP8922',\n",
       " 'ELP4216',\n",
       " 'ELP6269',\n",
       " 'ELP8099',\n",
       " 'ELP8685',\n",
       " 'ELP7378',\n",
       " 'ELP8172',\n",
       " 'ELP2144',\n",
       " 'ELP8738',\n",
       " 'ELP4216',\n",
       " 'ELP4299',\n",
       " 'ELP1155',\n",
       " 'ELP4742',\n",
       " 'ELP6350',\n",
       " 'ELP3937',\n",
       " 'ELP8922',\n",
       " 'ELP5492',\n",
       " 'ELP1013',\n",
       " 'ELP9325',\n",
       " 'ELP5726',\n",
       " 'ELP6269',\n",
       " 'ELP5423',\n",
       " 'ELP8938',\n",
       " 'ELP8685',\n",
       " 'ELP7282',\n",
       " 'ELP5829',\n",
       " 'ELP9097',\n",
       " 'ELP1265',\n",
       " 'ELP3962',\n",
       " 'ELP1510',\n",
       " 'ELP1155',\n",
       " 'ELP9314',\n",
       " 'ELP3699',\n",
       " 'ELP5430',\n",
       " 'ELP1022',\n",
       " 'ELP9282',\n",
       " 'ELP8016',\n",
       " 'ELP2257',\n",
       " 'ELP1909',\n",
       " 'ELP7279',\n",
       " 'ELP8346',\n",
       " 'ELP9259',\n",
       " 'ELP2868',\n",
       " 'ELP5430',\n",
       " 'ELP9633',\n",
       " 'ELP2474',\n",
       " 'ELP7887',\n",
       " 'ELP1411',\n",
       " 'ELP7726',\n",
       " 'ELP3117',\n",
       " 'ELP2851',\n",
       " 'ELP2623',\n",
       " 'ELP3233',\n",
       " 'ELP6345',\n",
       " 'ELP9433',\n",
       " 'ELP4854',\n",
       " 'ELP2474',\n",
       " 'ELP1839',\n",
       " 'ELP7282',\n",
       " 'ELP4904',\n",
       " 'ELP6571',\n",
       " 'ELP3937',\n",
       " 'ELP5217',\n",
       " 'ELP7573',\n",
       " 'ELP7282',\n",
       " 'ELP3578',\n",
       " 'ELP3829',\n",
       " 'ELP6657',\n",
       " 'ELP7347',\n",
       " 'ELP3817',\n",
       " 'ELP5726',\n",
       " 'ELP5492',\n",
       " 'ELP1013',\n",
       " 'ELP9633',\n",
       " 'ELP9746',\n",
       " 'ELP6164',\n",
       " 'ELP7969',\n",
       " 'ELP7792',\n",
       " 'ELP6699',\n",
       " 'ELP4637',\n",
       " 'ELP4216',\n",
       " 'ELP6657',\n",
       " 'ELP6345',\n",
       " 'ELP1013',\n",
       " 'ELP9623',\n",
       " 'ELP1771',\n",
       " 'ELP6571',\n",
       " 'ELP2833',\n",
       " 'ELP9255',\n",
       " 'ELP7726',\n",
       " 'ELP8016',\n",
       " 'ELP9086',\n",
       " 'ELP5570',\n",
       " 'ELP1072',\n",
       " 'ELP7573',\n",
       " 'ELP2761',\n",
       " 'ELP9086',\n",
       " 'ELP3117',\n",
       " 'ELP7378',\n",
       " 'ELP2504',\n",
       " 'ELP1338',\n",
       " 'ELP7804',\n",
       " 'ELP9282',\n",
       " 'ELP6520',\n",
       " 'ELP6350',\n",
       " 'ELP6038',\n",
       " 'ELP7057',\n",
       " 'ELP2868',\n",
       " 'ELP1771',\n",
       " 'ELP8922',\n",
       " 'ELP5803',\n",
       " 'ELP3860',\n",
       " 'ELP8574',\n",
       " 'ELP7378',\n",
       " 'ELP3817',\n",
       " 'ELP1261',\n",
       " 'ELP8172',\n",
       " 'ELP6269',\n",
       " 'ELP6793',\n",
       " 'ELP3578',\n",
       " 'ELP6586',\n",
       " 'ELP3233',\n",
       " 'ELP9623',\n",
       " 'ELP3833',\n",
       " 'ELP8608',\n",
       " 'ELP4203',\n",
       " 'ELP5726',\n",
       " 'ELP4522',\n",
       " 'ELP7036',\n",
       " 'ELP6383',\n",
       " 'ELP7123',\n",
       " 'ELP4854',\n",
       " 'ELP6351',\n",
       " 'ELP8016',\n",
       " 'ELP2415',\n",
       " 'ELP6383',\n",
       " 'ELP2556',\n",
       " 'ELP1261',\n",
       " 'ELP7887',\n",
       " 'ELP5631',\n",
       " 'ELP2474',\n",
       " 'ELP9303',\n",
       " 'ELP1680',\n",
       " 'ELP7969',\n",
       " 'ELP9025',\n",
       " 'ELP3878',\n",
       " 'ELP4223',\n",
       " 'ELP2761',\n",
       " 'ELP9255',\n",
       " 'ELP5803',\n",
       " 'ELP1152',\n",
       " 'ELP6699',\n",
       " 'ELP4854',\n",
       " 'ELP8338',\n",
       " 'ELP5250',\n",
       " 'ELP4203',\n",
       " 'ELP6059',\n",
       " 'ELP7279',\n",
       " 'ELP6586',\n",
       " 'ELP9282',\n",
       " 'ELP8733',\n",
       " 'ELP3578',\n",
       " 'ELP4942',\n",
       " 'ELP8346',\n",
       " 'ELP2257',\n",
       " 'ELP8738',\n",
       " 'ELP2830',\n",
       " 'ELP4223',\n",
       " 'ELP2838',\n",
       " 'ELP3962',\n",
       " 'ELP4904',\n",
       " 'ELP5217',\n",
       " 'ELP9282',\n",
       " 'ELP3133',\n",
       " 'ELP7969',\n",
       " 'ELP9433',\n",
       " 'ELP1155',\n",
       " 'ELP1068',\n",
       " 'ELP5739',\n",
       " 'ELP6782',\n",
       " 'ELP9666',\n",
       " 'ELP7976',\n",
       " 'ELP3044',\n",
       " 'ELP4522',\n",
       " 'ELP2838',\n",
       " 'ELP2317',\n",
       " 'ELP9282',\n",
       " 'ELP3233',\n",
       " 'ELP4299',\n",
       " 'ELP3034',\n",
       " 'ELP5430',\n",
       " 'ELP1510',\n",
       " 'ELP5378',\n",
       " 'ELP1338',\n",
       " 'ELP1265',\n",
       " 'ELP3817',\n",
       " 'ELP9325',\n",
       " 'ELP2838',\n",
       " 'ELP6164',\n",
       " 'ELP9623',\n",
       " 'ELP7036',\n",
       " 'ELP4211',\n",
       " 'ELP2556',\n",
       " 'ELP7347',\n",
       " 'ELP1072',\n",
       " 'ELP9303',\n",
       " 'ELP8081',\n",
       " 'ELP3074',\n",
       " 'ELP9633',\n",
       " 'ELP9633',\n",
       " 'ELP5631',\n",
       " 'ELP7347',\n",
       " 'ELP6657',\n",
       " 'ELP4944',\n",
       " 'ELP8750',\n",
       " 'ELP2317',\n",
       " 'ELP2956',\n",
       " 'ELP5803',\n",
       " 'ELP9325',\n",
       " 'ELP8938',\n",
       " 'ELP4541',\n",
       " 'ELP1013',\n",
       " 'ELP4944',\n",
       " 'ELP8608',\n",
       " 'ELP8016',\n",
       " 'ELP1338',\n",
       " 'ELP7347',\n",
       " 'ELP7282',\n",
       " 'ELP1013',\n",
       " 'ELP2504',\n",
       " 'ELP3044',\n",
       " 'ELP9259',\n",
       " 'ELP2317',\n",
       " 'ELP2623',\n",
       " 'ELP6345',\n",
       " 'ELP2838',\n",
       " 'ELP1265',\n",
       " 'ELP1155',\n",
       " 'ELP5570',\n",
       " 'ELP6872',\n",
       " 'ELP2144',\n",
       " 'ELP8685',\n",
       " 'ELP9766',\n",
       " 'ELP7726',\n",
       " 'ELP7347',\n",
       " 'ELP9420',\n",
       " 'ELP4216',\n",
       " 'ELP1510',\n",
       " 'ELP3233',\n",
       " 'ELP5781',\n",
       " 'ELP4541',\n",
       " 'ELP6351',\n",
       " 'ELP4216',\n",
       " 'ELP4103',\n",
       " 'ELP7123',\n",
       " 'ELP3962',\n",
       " 'ELP9314',\n",
       " 'ELP8338',\n",
       " 'ELP3578',\n",
       " 'ELP8338',\n",
       " 'ELP7207',\n",
       " 'ELP5631',\n",
       " 'ELP6520',\n",
       " 'ELP9906',\n",
       " 'ELP1909',\n",
       " 'ELP3829',\n",
       " 'ELP2415',\n",
       " 'ELP9259',\n",
       " 'ELP5570',\n",
       " 'ELP6038',\n",
       " 'ELP5643',\n",
       " 'ELP3699',\n",
       " 'ELP7600',\n",
       " 'ELP9025',\n",
       " 'ELP8346',\n",
       " 'ELP8733',\n",
       " 'ELP4780',\n",
       " 'ELP3074',\n",
       " 'ELP3699',\n",
       " 'ELP3117',\n",
       " 'ELP7261',\n",
       " 'ELP3860',\n",
       " 'ELP9097',\n",
       " 'ELP6346',\n",
       " 'ELP4223',\n",
       " 'ELP1941',\n",
       " 'ELP5739',\n",
       " 'ELP6657',\n",
       " 'ELP1072',\n",
       " 'ELP9746',\n",
       " 'ELP8346',\n",
       " 'ELP4541',\n",
       " 'ELP9433',\n",
       " 'ELP4780',\n",
       " 'ELP8052',\n",
       " 'ELP1265',\n",
       " 'ELP3817',\n",
       " 'ELP6586',\n",
       " 'ELP9365',\n",
       " 'ELP8574',\n",
       " 'ELP9086',\n",
       " 'ELP5378',\n",
       " 'ELP5378',\n",
       " 'ELP9068',\n",
       " 'ELP5163',\n",
       " 'ELP9417',\n",
       " 'ELP4223',\n",
       " 'ELP9906',\n",
       " 'ELP2474',\n",
       " 'ELP3034',\n",
       " 'ELP7976',\n",
       " 'ELP2415',\n",
       " 'ELP5781',\n",
       " 'ELP2851',\n",
       " 'ELP7600',\n",
       " 'ELP8052',\n",
       " 'ELP3117',\n",
       " 'ELP2479',\n",
       " 'ELP7347',\n",
       " 'ELP2956',\n",
       " 'ELP2838',\n",
       " 'ELP1155',\n",
       " 'ELP1797',\n",
       " 'ELP7726',\n",
       " 'ELP9888',\n",
       " 'ELP4216',\n",
       " 'ELP6269',\n",
       " 'ELP1839',\n",
       " 'ELP6346',\n",
       " 'ELP1941',\n",
       " 'ELP8608',\n",
       " 'ELP1152',\n",
       " 'ELP2623',\n",
       " 'ELP2257',\n",
       " 'ELP5163',\n",
       " 'ELP8172',\n",
       " 'ELP7279',\n",
       " 'ELP2153',\n",
       " 'ELP2317',\n",
       " 'ELP2474',\n",
       " 'ELP4006',\n",
       " 'ELP8276',\n",
       " 'ELP7726',\n",
       " 'ELP9434',\n",
       " 'ELP4203',\n",
       " 'ELP1072',\n",
       " 'ELP3460',\n",
       " 'ELP2163',\n",
       " 'ELP8052',\n",
       " 'ELP4854',\n",
       " 'ELP6038',\n",
       " 'ELP6793',\n",
       " 'ELP6038',\n",
       " 'ELP9633',\n",
       " 'ELP5249',\n",
       " 'ELP8733',\n",
       " 'ELP8685',\n",
       " 'ELP9303',\n",
       " 'ELP9888',\n",
       " 'ELP6586',\n",
       " 'ELP9906',\n",
       " 'ELP1411',\n",
       " 'ELP1013',\n",
       " 'ELP3937',\n",
       " 'ELP9303',\n",
       " 'ELP1068',\n",
       " 'ELP5173',\n",
       " 'ELP7976',\n",
       " 'ELP5643',\n",
       " 'ELP7123',\n",
       " 'ELP4689',\n",
       " 'ELP8099',\n",
       " 'ELP9282',\n",
       " 'ELP8473',\n",
       " 'ELP6520',\n",
       " 'ELP5423',\n",
       " 'ELP9086',\n",
       " 'ELP9259',\n",
       " 'ELP3860',\n",
       " 'ELP9623',\n",
       " 'ELP2504',\n",
       " 'ELP4203',\n",
       " 'ELP7036',\n",
       " 'ELP3578',\n",
       " 'ELP8685',\n",
       " 'ELP7568',\n",
       " 'ELP6269',\n",
       " 'ELP2163',\n",
       " 'ELP6571',\n",
       " 'ELP7969',\n",
       " 'ELP2317',\n",
       " 'ELP9571',\n",
       " 'ELP8608',\n",
       " 'ELP1481',\n",
       " 'ELP8922',\n",
       " 'ELP3578',\n",
       " 'ELP8597',\n",
       " 'ELP9571',\n",
       " 'ELP9888',\n",
       " 'ELP4203',\n",
       " 'ELP4854',\n",
       " 'ELP9282',\n",
       " 'ELP5250',\n",
       " 'ELP1941',\n",
       " 'ELP2761',\n",
       " 'ELP9086',\n",
       " 'ELP5430',\n",
       " 'ELP9259',\n",
       " 'ELP7279',\n",
       " 'ELP7207',\n",
       " 'ELP4006',\n",
       " 'ELP5217',\n",
       " 'ELP6350',\n",
       " 'ELP9259',\n",
       " 'ELP3117',\n",
       " 'ELP2838',\n",
       " 'ELP8738',\n",
       " 'ELP1839',\n",
       " 'ELP8922',\n",
       " 'ELP9766',\n",
       " 'ELP3233',\n",
       " 'ELP1587',\n",
       " 'ELP9623',\n",
       " 'ELP8338',\n",
       " 'ELP9766',\n",
       " 'ELP7282',\n",
       " 'ELP3937',\n",
       " 'ELP9097',\n",
       " 'ELP9906',\n",
       " 'ELP1068',\n",
       " 'ELP3878',\n",
       " 'ELP5250',\n",
       " 'ELP5492',\n",
       " 'ELP5163',\n",
       " 'ELP2163',\n",
       " 'ELP2163',\n",
       " 'ELP7378',\n",
       " 'ELP2144',\n",
       " 'ELP6520',\n",
       " 'ELP5430',\n",
       " 'ELP7600',\n",
       " 'ELP8052',\n",
       " 'ELP6793',\n",
       " 'ELP6006',\n",
       " 'ELP1068',\n",
       " 'ELP9766',\n",
       " 'ELP3034',\n",
       " 'ELP1909',\n",
       " 'ELP7279',\n",
       " 'ELP5249',\n",
       " 'ELP7804',\n",
       " 'ELP1587',\n",
       " 'ELP2474',\n",
       " 'ELP5430',\n",
       " 'ELP1839',\n",
       " 'ELP9433',\n",
       " 'ELP7887',\n",
       " 'ELP8052',\n",
       " 'ELP1265',\n",
       " 'ELP6351',\n",
       " 'ELP5249',\n",
       " 'ELP5739',\n",
       " 'ELP1839',\n",
       " 'ELP1481',\n",
       " 'ELP5726',\n",
       " 'ELP1771',\n",
       " 'ELP1022',\n",
       " 'ELP4540',\n",
       " 'ELP9097',\n",
       " 'ELP4216',\n",
       " 'ELP5250',\n",
       " 'ELP3699',\n",
       " 'ELP9666',\n",
       " 'ELP4216',\n",
       " 'ELP5250',\n",
       " 'ELP7207',\n",
       " 'ELP1941',\n",
       " 'ELP2257',\n",
       " 'ELP9433',\n",
       " 'ELP4103',\n",
       " 'ELP9906',\n",
       " 'ELP3044',\n",
       " 'ELP2623',\n",
       " 'ELP3829',\n",
       " 'ELP8574',\n",
       " 'ELP2415',\n",
       " 'ELP9365',\n",
       " 'ELP3578',\n",
       " 'ELP9417',\n",
       " 'ELP8574',\n",
       " 'ELP7756',\n",
       " 'ELP6520',\n",
       " 'ELP3937',\n",
       " 'ELP6571',\n",
       " 'ELP3044',\n",
       " 'ELP3044',\n",
       " 'ELP6960',\n",
       " 'ELP3833',\n",
       " 'ELP2504',\n",
       " 'ELP3074',\n",
       " 'ELP9259',\n",
       " 'ELP5726',\n",
       " 'ELP7261',\n",
       " 'ELP7057',\n",
       " 'ELP7279',\n",
       " 'ELP1941',\n",
       " 'ELP4541',\n",
       " 'ELP4540',\n",
       " 'ELP7804',\n",
       " 'ELP3817',\n",
       " 'ELP6782',\n",
       " 'ELP9365',\n",
       " 'ELP7393',\n",
       " 'ELP9666',\n",
       " 'ELP4211',\n",
       " 'ELP7207',\n",
       " 'ELP6657',\n",
       " 'ELP7756',\n",
       " 'ELP3833',\n",
       " 'ELP4675',\n",
       " 'ELP1797',\n",
       " 'ELP1941',\n",
       " 'ELP9420',\n",
       " 'ELP6346',\n",
       " 'ELP7976',\n",
       " 'ELP8052',\n",
       " 'ELP1797',\n",
       " 'ELP7792',\n",
       " 'ELP3074',\n",
       " 'ELP4522',\n",
       " 'ELP2479',\n",
       " 'ELP6520',\n",
       " 'ELP4944',\n",
       " 'ELP3829',\n",
       " 'ELP8738',\n",
       " 'ELP2833',\n",
       " 'ELP8081',\n",
       " 'ELP1481',\n",
       " 'ELP5643',\n",
       " 'ELP8750',\n",
       " 'ELP5430',\n",
       " 'ELP2504',\n",
       " 'ELP7600',\n",
       " 'ELP1155',\n",
       " 'ELP6346',\n",
       " 'ELP4854',\n",
       " 'ELP1261',\n",
       " 'ELP4854',\n",
       " 'ELP9420',\n",
       " 'ELP8052',\n",
       " 'ELP6586',\n",
       " 'ELP1481',\n",
       " 'ELP5631',\n",
       " 'ELP2307',\n",
       " 'ELP5803',\n",
       " 'ELP2317',\n",
       " 'ELP9666',\n",
       " 'ELP3044',\n",
       " 'ELP5163',\n",
       " 'ELP9303',\n",
       " 'ELP9097',\n",
       " 'ELP8473',\n",
       " 'ELP7600',\n",
       " 'ELP2479',\n",
       " 'ELP6571',\n",
       " 'ELP9025',\n",
       " 'ELP5249',\n",
       " 'ELP7568',\n",
       " 'ELP3233',\n",
       " 'ELP3817',\n",
       " 'ELP7792',\n",
       " 'ELP7792',\n",
       " 'ELP5492',\n",
       " 'ELP7726',\n",
       " 'ELP6345',\n",
       " 'ELP3937',\n",
       " 'ELP6960',\n",
       " 'ELP4854',\n",
       " 'ELP5803',\n",
       " 'ELP4942',\n",
       " 'ELP8608',\n",
       " 'ELP1839',\n",
       " 'ELP4637',\n",
       " 'ELP8473',\n",
       " 'ELP4223',\n",
       " 'ELP3962',\n",
       " 'ELP3578',\n",
       " 'ELP9282',\n",
       " 'ELP8276',\n",
       " 'ELP9766',\n",
       " 'ELP1072',\n",
       " 'ELP7568',\n",
       " 'ELP4904',\n",
       " 'ELP7393',\n",
       " 'ELP3074',\n",
       " 'ELP4006',\n",
       " 'ELP4944',\n",
       " 'ELP9025',\n",
       " 'ELP4675',\n",
       " 'ELP6350',\n",
       " 'ELP2474',\n",
       " 'ELP7969',\n",
       " 'ELP9259',\n",
       " 'ELP1839',\n",
       " 'ELP8473',\n",
       " 'ELP5570',\n",
       " 'ELP8473',\n",
       " 'ELP6350',\n",
       " 'ELP2504',\n",
       " 'ELP6782',\n",
       " 'ELP7261',\n",
       " 'ELP2153',\n",
       " 'ELP8276',\n",
       " 'ELP6059',\n",
       " 'ELP2504',\n",
       " 'ELP7756',\n",
       " 'ELP6350',\n",
       " 'ELP9633',\n",
       " 'ELP7792',\n",
       " 'ELP3699',\n",
       " 'ELP1265',\n",
       " 'ELP1797',\n",
       " 'ELP5378',\n",
       " 'ELP9325',\n",
       " 'ELP2956',\n",
       " 'ELP2479',\n",
       " 'ELP5492',\n",
       " 'ELP4203',\n",
       " 'ELP8922',\n",
       " 'ELP7279',\n",
       " 'ELP3133',\n",
       " 'ELP3829',\n",
       " 'ELP6782',\n",
       " 'ELP6345',\n",
       " 'ELP1072',\n",
       " 'ELP8016',\n",
       " 'ELP3578',\n",
       " 'ELP7600',\n",
       " 'ELP9365',\n",
       " 'ELP7378',\n",
       " 'ELP3699',\n",
       " 'ELP8750',\n",
       " 'ELP6345',\n",
       " 'ELP1797',\n",
       " 'ELP2838',\n",
       " 'ELP1022',\n",
       " 'ELP6872',\n",
       " 'ELP6164',\n",
       " 'ELP8608',\n",
       " 'ELP1152',\n",
       " 'ELP1771',\n",
       " 'ELP3233',\n",
       " 'ELP6782',\n",
       " 'ELP4006',\n",
       " 'ELP8738',\n",
       " 'ELP6699',\n",
       " 'ELP6351',\n",
       " 'ELP6699',\n",
       " 'ELP3506',\n",
       " 'ELP1909',\n",
       " 'ELP3117',\n",
       " 'ELP1155',\n",
       " 'ELP4689',\n",
       " 'ELP7792',\n",
       " 'ELP7969',\n",
       " 'ELP4780',\n",
       " 'ELP7393',\n",
       " 'ELP3860',\n",
       " 'ELP6350',\n",
       " 'ELP2833',\n",
       " 'ELP9623',\n",
       " 'ELP7568',\n",
       " 'ELP3460',\n",
       " 'ELP4223',\n",
       " 'ELP7969',\n",
       " 'ELP4942',\n",
       " 'ELP4006',\n",
       " 'ELP6699',\n",
       " 'ELP6872',\n",
       " 'ELP3578',\n",
       " 'ELP4223',\n",
       " 'ELP4637',\n",
       " 'ELP9025',\n",
       " 'ELP7568',\n",
       " 'ELP6586',\n",
       " 'ELP7347',\n",
       " 'ELP9888',\n",
       " 'ELP3817',\n",
       " 'ELP6345',\n",
       " 'ELP9633',\n",
       " 'ELP8338',\n",
       " 'ELP9097',\n",
       " 'ELP2307',\n",
       " 'ELP8016',\n",
       " 'ELP6793',\n",
       " 'ELP9097',\n",
       " 'ELP6520',\n",
       " 'ELP5163',\n",
       " 'ELP6164',\n",
       " 'ELP2163',\n",
       " 'ELP1013',\n",
       " 'ELP1072',\n",
       " 'ELP5631',\n",
       " 'ELP6699',\n",
       " 'ELP8081',\n",
       " 'ELP7282',\n",
       " 'ELP4540',\n",
       " 'ELP4006',\n",
       " 'ELP9097',\n",
       " 'ELP2479',\n",
       " 'ELP7261',\n",
       " 'ELP1022',\n",
       " 'ELP9303',\n",
       " 'ELP9766',\n",
       " 'ELP1338',\n",
       " 'ELP9097',\n",
       " 'ELP8081',\n",
       " 'ELP5631',\n",
       " 'ELP8276',\n",
       " 'ELP8938',\n",
       " 'ELP9318',\n",
       " 'ELP7969',\n",
       " 'ELP5250',\n",
       " 'ELP4522',\n",
       " 'ELP3506',\n",
       " 'ELP2838',\n",
       " 'ELP1797',\n",
       " 'ELP6038',\n",
       " 'ELP6351',\n",
       " 'ELP2317',\n",
       " 'ELP7600',\n",
       " 'ELP8608',\n",
       " 'ELP4637',\n",
       " 'ELP4299',\n",
       " 'ELP1013',\n",
       " 'ELP7756',\n",
       " 'ELP3044',\n",
       " 'ELP5250',\n",
       " 'ELP2415',\n",
       " 'ELP2307',\n",
       " 'ELP4611',\n",
       " 'ELP3117',\n",
       " 'ELP9025',\n",
       " 'ELP9255',\n",
       " 'ELP2153',\n",
       " 'ELP8938',\n",
       " 'ELP4854',\n",
       " 'ELP3878',\n",
       " 'ELP8081',\n",
       " 'ELP4689',\n",
       " 'ELP4904',\n",
       " 'ELP2504',\n",
       " 'ELP8922',\n",
       " 'ELP7057',\n",
       " 'ELP1259',\n",
       " 'ELP2163',\n",
       " 'ELP9420',\n",
       " 'ELP8685',\n",
       " 'ELP2163',\n",
       " 'ELP1680',\n",
       " 'ELP7600',\n",
       " 'ELP2479',\n",
       " 'ELP9571',\n",
       " 'ELP6269',\n",
       " 'ELP2153',\n",
       " 'ELP9888',\n",
       " 'ELP2317',\n",
       " 'ELP7279',\n",
       " 'ELP1265',\n",
       " 'ELP5173',\n",
       " 'ELP4780',\n",
       " 'ELP1941',\n",
       " 'ELP4675',\n",
       " 'ELP6586',\n",
       " 'ELP5829',\n",
       " 'ELP1013',\n",
       " 'ELP1510',\n",
       " 'ELP2851',\n",
       " 'ELP8685',\n",
       " 'ELP7804',\n",
       " 'ELP7976',\n",
       " 'ELP6872',\n",
       " 'ELP4522',\n",
       " 'ELP2851',\n",
       " 'ELP4854',\n",
       " 'ELP3133',\n",
       " 'ELP8597',\n",
       " 'ELP5739',\n",
       " 'ELP9325',\n",
       " 'ELP8346',\n",
       " 'ELP7036',\n",
       " 'ELP8346',\n",
       " 'ELP5781',\n",
       " 'ELP1072',\n",
       " 'ELP5173',\n",
       " 'ELP9420',\n",
       " 'ELP6350',\n",
       " 'ELP1338',\n",
       " 'ELP9417',\n",
       " 'ELP6571',\n",
       " 'ELP5423',\n",
       " 'ELP6350',\n",
       " 'ELP9746',\n",
       " 'ELP1013',\n",
       " 'ELP6782',\n",
       " 'ELP9420',\n",
       " 'ELP9417',\n",
       " 'ELP3034',\n",
       " 'ELP9314',\n",
       " 'ELP4689',\n",
       " 'ELP4211',\n",
       " 'ELP9282',\n",
       " 'ELP7279',\n",
       " 'ELP9746',\n",
       " 'ELP5570',\n",
       " 'ELP7969',\n",
       " 'ELP6699',\n",
       " 'ELP1068',\n",
       " 'ELP6383',\n",
       " 'ELP9571',\n",
       " 'ELP5423',\n",
       " 'ELP6006',\n",
       " 'ELP1510',\n",
       " 'ELP5726',\n",
       " 'ELP8081',\n",
       " 'ELP1771',\n",
       " 'ELP2838',\n",
       " 'ELP3074',\n",
       " 'ELP1338',\n",
       " 'ELP5217',\n",
       " 'ELP2163',\n",
       " 'ELP2833',\n",
       " 'ELP5781',\n",
       " 'ELP9314',\n",
       " 'ELP4854',\n",
       " 'ELP3044',\n",
       " 'ELP4540',\n",
       " 'ELP9314',\n",
       " 'ELP2556',\n",
       " 'ELP4944',\n",
       " 'ELP3937',\n",
       " 'ELP5643',\n",
       " 'ELP5217',\n",
       " 'ELP4211',\n",
       " 'ELP2833',\n",
       " 'ELP5803',\n",
       " 'ELP6571',\n",
       " 'ELP4203',\n",
       " 'ELP6038',\n",
       " 'ELP8172',\n",
       " 'ELP9633',\n",
       " 'ELP8276',\n",
       " 'ELP4675',\n",
       " 'ELP4339',\n",
       " 'ELP8052',\n",
       " 'ELP4216',\n",
       " 'ELP7573',\n",
       " 'ELP4904',\n",
       " 'ELP4540',\n",
       " 'ELP4942',\n",
       " 'ELP2556',\n",
       " 'ELP2317',\n",
       " 'ELP8597',\n",
       " ...]"
      ]
     },
     "execution_count": 1268,
     "metadata": {},
     "output_type": "execute_result"
    }
   ],
   "execution_count": 1268
  },
  {
   "metadata": {},
   "cell_type": "markdown",
   "source": [
    "### **2. Use `map()` to compute temperature in Fahrenheit**\n",
    "\n",
    "```python\n",
    "# Formula: F = C * 9/5 + 32\n",
    "# Output: [192.92, 188.06, ...]\n",
    "```\n"
   ],
   "id": "2efa4a15770eaf1e"
  },
  {
   "metadata": {
    "ExecuteTime": {
     "end_time": "2025-05-14T00:20:46.543111Z",
     "start_time": "2025-05-14T00:20:46.539497Z"
    }
   },
   "cell_type": "code",
   "source": "f_temp_list = list(map(lambda record: round(record['Bath Temperature (°C)'] * 9 / 5 + 32, 2), data))",
   "id": "c7196e7e63285d05",
   "outputs": [],
   "execution_count": 1269
  },
  {
   "metadata": {
    "ExecuteTime": {
     "end_time": "2025-05-14T00:20:46.688500Z",
     "start_time": "2025-05-14T00:20:46.685093Z"
    }
   },
   "cell_type": "code",
   "source": "f_temp_list[:5]",
   "id": "16cbfb8969e56d63",
   "outputs": [
    {
     "data": {
      "text/plain": [
       "[196.88, 163.4, 145.94, 161.42, 198.68]"
      ]
     },
     "execution_count": 1270,
     "metadata": {},
     "output_type": "execute_result"
    }
   ],
   "execution_count": 1270
  },
  {
   "metadata": {},
   "cell_type": "markdown",
   "source": [
    "### **3. Use `filter()` to get only batches with 'Pass' in 'Pass/Fail'**\n",
    "\n",
    "```python\n",
    "# Output: [record1, record2, ...] where 'Pass/Fail' == 'Pass'\n",
    "```\n"
   ],
   "id": "eefd0c9da31eb48d"
  },
  {
   "metadata": {
    "ExecuteTime": {
     "end_time": "2025-05-14T00:20:46.743346Z",
     "start_time": "2025-05-14T00:20:46.740567Z"
    }
   },
   "cell_type": "code",
   "source": "pass_list = list(filter(lambda record: record['Pass/Fail'] == 'Pass', data))",
   "id": "805e150a28f53ae1",
   "outputs": [],
   "execution_count": 1271
  },
  {
   "metadata": {
    "ExecuteTime": {
     "end_time": "2025-05-14T00:20:46.863414Z",
     "start_time": "2025-05-14T00:20:46.859399Z"
    }
   },
   "cell_type": "code",
   "source": "pass_list[:5]",
   "id": "cf03ed9a228d4ccd",
   "outputs": [
    {
     "data": {
      "text/plain": [
       "[{'Date': '2025-01-01',\n",
       "  'Shift': 'Shift 1',\n",
       "  'Batch ID': 'ELP4540',\n",
       "  'Plating Type': 'Electroless Nickel',\n",
       "  'Component Type': 'Heat Sink',\n",
       "  'Machine ID': 'Tank C',\n",
       "  'Bath Temperature (°C)': 91.6,\n",
       "  'pH Level': 4.85,\n",
       "  'Plating Time (min)': 43.5,\n",
       "  'Thickness (μm)': 22.99,\n",
       "  'Adhesion Strength (MPa)': 21.3,\n",
       "  'Phosphorus Content (%)': 8.85,\n",
       "  'Surface Roughness (Ra μm)': 0.5,\n",
       "  'Visual Inspection': 'Blister',\n",
       "  'Corrosion Test': 'Pass',\n",
       "  'Operator ID': 'TECH725',\n",
       "  'Pass/Fail': 'Pass'},\n",
       " {'Date': '2025-01-01',\n",
       "  'Shift': 'Shift 1',\n",
       "  'Batch ID': 'ELP5163',\n",
       "  'Plating Type': 'Electroless Copper',\n",
       "  'Component Type': 'Connector Pins',\n",
       "  'Machine ID': 'Tank B',\n",
       "  'Bath Temperature (°C)': 73.0,\n",
       "  'pH Level': 4.69,\n",
       "  'Plating Time (min)': 79.2,\n",
       "  'Thickness (μm)': 13.95,\n",
       "  'Adhesion Strength (MPa)': 16.4,\n",
       "  'Phosphorus Content (%)': nan,\n",
       "  'Surface Roughness (Ra μm)': 0.65,\n",
       "  'Visual Inspection': 'Pitting',\n",
       "  'Corrosion Test': 'Pass',\n",
       "  'Operator ID': 'TECH179',\n",
       "  'Pass/Fail': 'Pass'},\n",
       " {'Date': '2025-01-01',\n",
       "  'Shift': 'Shift 2',\n",
       "  'Batch ID': 'ELP7804',\n",
       "  'Plating Type': 'Electroless Copper',\n",
       "  'Component Type': 'Gear Housing',\n",
       "  'Machine ID': 'Tank B',\n",
       "  'Bath Temperature (°C)': 71.9,\n",
       "  'pH Level': 4.83,\n",
       "  'Plating Time (min)': 40.1,\n",
       "  'Thickness (μm)': 19.65,\n",
       "  'Adhesion Strength (MPa)': 20.6,\n",
       "  'Phosphorus Content (%)': nan,\n",
       "  'Surface Roughness (Ra μm)': 0.69,\n",
       "  'Visual Inspection': 'Pitting',\n",
       "  'Corrosion Test': 'Fail',\n",
       "  'Operator ID': 'TECH856',\n",
       "  'Pass/Fail': 'Pass'},\n",
       " {'Date': '2025-01-01',\n",
       "  'Shift': 'Shift 2',\n",
       "  'Batch ID': 'ELP3034',\n",
       "  'Plating Type': 'Electroless Nickel',\n",
       "  'Component Type': 'PCB Panel',\n",
       "  'Machine ID': 'Tank A',\n",
       "  'Bath Temperature (°C)': 92.6,\n",
       "  'pH Level': 5.13,\n",
       "  'Plating Time (min)': 70.9,\n",
       "  'Thickness (μm)': 22.33,\n",
       "  'Adhesion Strength (MPa)': 18.4,\n",
       "  'Phosphorus Content (%)': 9.28,\n",
       "  'Surface Roughness (Ra μm)': 0.91,\n",
       "  'Visual Inspection': 'Pitting',\n",
       "  'Corrosion Test': 'Fail',\n",
       "  'Operator ID': 'TECH789',\n",
       "  'Pass/Fail': 'Pass'},\n",
       " {'Date': '2025-01-01',\n",
       "  'Shift': 'Shift 2',\n",
       "  'Batch ID': 'ELP2153',\n",
       "  'Plating Type': 'Electroless Nickel',\n",
       "  'Component Type': 'Heat Sink',\n",
       "  'Machine ID': 'Tank C',\n",
       "  'Bath Temperature (°C)': 91.3,\n",
       "  'pH Level': 5.27,\n",
       "  'Plating Time (min)': 37.8,\n",
       "  'Thickness (μm)': 16.25,\n",
       "  'Adhesion Strength (MPa)': 21.7,\n",
       "  'Phosphorus Content (%)': 6.35,\n",
       "  'Surface Roughness (Ra μm)': 1.14,\n",
       "  'Visual Inspection': 'Dull Finish',\n",
       "  'Corrosion Test': 'Fail',\n",
       "  'Operator ID': 'TECH866',\n",
       "  'Pass/Fail': 'Pass'}]"
      ]
     },
     "execution_count": 1272,
     "metadata": {},
     "output_type": "execute_result"
    }
   ],
   "execution_count": 1272
  },
  {
   "metadata": {},
   "cell_type": "markdown",
   "source": [
    "### **4. Use `filter()` to find all Nickel-plated components**\n",
    "\n",
    "```python\n",
    "# Output: records where 'Plating Type' == 'Electroless Nickel'\n",
    "```\n"
   ],
   "id": "fbf31e4b76a763df"
  },
  {
   "metadata": {
    "ExecuteTime": {
     "end_time": "2025-05-14T00:20:46.902819Z",
     "start_time": "2025-05-14T00:20:46.899917Z"
    }
   },
   "cell_type": "code",
   "source": "nickel_plating_type_list = list(filter(lambda record: record['Plating Type'] == 'Electroless Nickel', data))",
   "id": "e71c29e6774ed4c9",
   "outputs": [],
   "execution_count": 1273
  },
  {
   "metadata": {
    "ExecuteTime": {
     "end_time": "2025-05-14T00:20:47.036742Z",
     "start_time": "2025-05-14T00:20:47.032594Z"
    }
   },
   "cell_type": "code",
   "source": "nickel_plating_type_list[:5]",
   "id": "6966e1b6b342ca46",
   "outputs": [
    {
     "data": {
      "text/plain": [
       "[{'Date': '2025-01-01',\n",
       "  'Shift': 'Shift 1',\n",
       "  'Batch ID': 'ELP4540',\n",
       "  'Plating Type': 'Electroless Nickel',\n",
       "  'Component Type': 'Heat Sink',\n",
       "  'Machine ID': 'Tank C',\n",
       "  'Bath Temperature (°C)': 91.6,\n",
       "  'pH Level': 4.85,\n",
       "  'Plating Time (min)': 43.5,\n",
       "  'Thickness (μm)': 22.99,\n",
       "  'Adhesion Strength (MPa)': 21.3,\n",
       "  'Phosphorus Content (%)': 8.85,\n",
       "  'Surface Roughness (Ra μm)': 0.5,\n",
       "  'Visual Inspection': 'Blister',\n",
       "  'Corrosion Test': 'Pass',\n",
       "  'Operator ID': 'TECH725',\n",
       "  'Pass/Fail': 'Pass'},\n",
       " {'Date': '2025-01-01',\n",
       "  'Shift': 'Shift 2',\n",
       "  'Batch ID': 'ELP3034',\n",
       "  'Plating Type': 'Electroless Nickel',\n",
       "  'Component Type': 'PCB Panel',\n",
       "  'Machine ID': 'Tank A',\n",
       "  'Bath Temperature (°C)': 92.6,\n",
       "  'pH Level': 5.13,\n",
       "  'Plating Time (min)': 70.9,\n",
       "  'Thickness (μm)': 22.33,\n",
       "  'Adhesion Strength (MPa)': 18.4,\n",
       "  'Phosphorus Content (%)': 9.28,\n",
       "  'Surface Roughness (Ra μm)': 0.91,\n",
       "  'Visual Inspection': 'Pitting',\n",
       "  'Corrosion Test': 'Fail',\n",
       "  'Operator ID': 'TECH789',\n",
       "  'Pass/Fail': 'Pass'},\n",
       " {'Date': '2025-01-01',\n",
       "  'Shift': 'Shift 2',\n",
       "  'Batch ID': 'ELP2153',\n",
       "  'Plating Type': 'Electroless Nickel',\n",
       "  'Component Type': 'Heat Sink',\n",
       "  'Machine ID': 'Tank C',\n",
       "  'Bath Temperature (°C)': 91.3,\n",
       "  'pH Level': 5.27,\n",
       "  'Plating Time (min)': 37.8,\n",
       "  'Thickness (μm)': 16.25,\n",
       "  'Adhesion Strength (MPa)': 21.7,\n",
       "  'Phosphorus Content (%)': 6.35,\n",
       "  'Surface Roughness (Ra μm)': 1.14,\n",
       "  'Visual Inspection': 'Dull Finish',\n",
       "  'Corrosion Test': 'Fail',\n",
       "  'Operator ID': 'TECH866',\n",
       "  'Pass/Fail': 'Pass'},\n",
       " {'Date': '2025-01-02',\n",
       "  'Shift': 'Shift 2',\n",
       "  'Batch ID': 'ELP9746',\n",
       "  'Plating Type': 'Electroless Nickel',\n",
       "  'Component Type': 'Valve Body',\n",
       "  'Machine ID': 'Tank C',\n",
       "  'Bath Temperature (°C)': 85.1,\n",
       "  'pH Level': 5.32,\n",
       "  'Plating Time (min)': 79.8,\n",
       "  'Thickness (μm)': 17.55,\n",
       "  'Adhesion Strength (MPa)': 23.9,\n",
       "  'Phosphorus Content (%)': 10.18,\n",
       "  'Surface Roughness (Ra μm)': 0.98,\n",
       "  'Visual Inspection': 'Pitting',\n",
       "  'Corrosion Test': 'Pass',\n",
       "  'Operator ID': 'TECH930',\n",
       "  'Pass/Fail': 'Pass'},\n",
       " {'Date': '2025-01-02',\n",
       "  'Shift': 'Shift 2',\n",
       "  'Batch ID': 'ELP4103',\n",
       "  'Plating Type': 'Electroless Nickel',\n",
       "  'Component Type': 'Valve Body',\n",
       "  'Machine ID': 'Tank C',\n",
       "  'Bath Temperature (°C)': 92.6,\n",
       "  'pH Level': 4.94,\n",
       "  'Plating Time (min)': 72.8,\n",
       "  'Thickness (μm)': 22.42,\n",
       "  'Adhesion Strength (MPa)': 24.9,\n",
       "  'Phosphorus Content (%)': 7.43,\n",
       "  'Surface Roughness (Ra μm)': 1.13,\n",
       "  'Visual Inspection': 'Pass',\n",
       "  'Corrosion Test': 'Fail',\n",
       "  'Operator ID': 'TECH119',\n",
       "  'Pass/Fail': 'Pass'}]"
      ]
     },
     "execution_count": 1274,
     "metadata": {},
     "output_type": "execute_result"
    }
   ],
   "execution_count": 1274
  },
  {
   "metadata": {},
   "cell_type": "markdown",
   "source": [
    "### **5. Use `map()` to create a summary list of format:**\n",
    "\n",
    "```python\n",
    "# \"Batch ELP5726 plated with Nickel at 89.4°C\"\n",
    "```\n"
   ],
   "id": "fb0bcb9449c88e56"
  },
  {
   "metadata": {
    "ExecuteTime": {
     "end_time": "2025-05-14T00:20:47.065315Z",
     "start_time": "2025-05-14T00:20:47.061391Z"
    }
   },
   "cell_type": "code",
   "source": [
    "summary_list = list(map(\n",
    "    lambda record: f'Batch {record[\"Batch ID\"]} plated with {record[\"Plating Type\"].split()[1]} at {record[\"Bath Temperature (°C)\"]}', \n",
    "    data\n",
    "))"
   ],
   "id": "a11fc048727f4ea2",
   "outputs": [],
   "execution_count": 1275
  },
  {
   "metadata": {
    "ExecuteTime": {
     "end_time": "2025-05-14T00:20:47.132771Z",
     "start_time": "2025-05-14T00:20:47.129454Z"
    }
   },
   "cell_type": "code",
   "source": "summary_list[:5]",
   "id": "b9cfb569defd6def",
   "outputs": [
    {
     "data": {
      "text/plain": [
       "['Batch ELP4540 plated with Nickel at 91.6',\n",
       " 'Batch ELP5163 plated with Copper at 73.0',\n",
       " 'Batch ELP1013 plated with Copper at 63.3',\n",
       " 'Batch ELP7804 plated with Copper at 71.9',\n",
       " 'Batch ELP3034 plated with Nickel at 92.6']"
      ]
     },
     "execution_count": 1276,
     "metadata": {},
     "output_type": "execute_result"
    }
   ],
   "execution_count": 1276
  },
  {
   "metadata": {},
   "cell_type": "markdown",
   "source": [
    "### **6. Use `filter()` to get all records with Surface Roughness > 1.0**\n",
    "\n",
    "```python\n",
    "# Output: list of records with 'Surface Roughness (Ra μm)' > 1.0\n",
    "```"
   ],
   "id": "61d903238f8017c4"
  },
  {
   "metadata": {
    "ExecuteTime": {
     "end_time": "2025-05-14T00:20:47.228533Z",
     "start_time": "2025-05-14T00:20:47.225329Z"
    }
   },
   "cell_type": "code",
   "source": [
    "ra_list_filtered_1 = list(filter(\n",
    "    lambda record: record['Surface Roughness (Ra μm)'] > 1.0, \n",
    "    data\n",
    "))"
   ],
   "id": "e8991b055e2e126",
   "outputs": [],
   "execution_count": 1277
  },
  {
   "metadata": {
    "ExecuteTime": {
     "end_time": "2025-05-14T00:20:47.334007Z",
     "start_time": "2025-05-14T00:20:47.329504Z"
    }
   },
   "cell_type": "code",
   "source": "ra_list_filtered_1[:5]",
   "id": "f3462da3741ba068",
   "outputs": [
    {
     "data": {
      "text/plain": [
       "[{'Date': '2025-01-01',\n",
       "  'Shift': 'Shift 2',\n",
       "  'Batch ID': 'ELP2153',\n",
       "  'Plating Type': 'Electroless Nickel',\n",
       "  'Component Type': 'Heat Sink',\n",
       "  'Machine ID': 'Tank C',\n",
       "  'Bath Temperature (°C)': 91.3,\n",
       "  'pH Level': 5.27,\n",
       "  'Plating Time (min)': 37.8,\n",
       "  'Thickness (μm)': 16.25,\n",
       "  'Adhesion Strength (MPa)': 21.7,\n",
       "  'Phosphorus Content (%)': 6.35,\n",
       "  'Surface Roughness (Ra μm)': 1.14,\n",
       "  'Visual Inspection': 'Dull Finish',\n",
       "  'Corrosion Test': 'Fail',\n",
       "  'Operator ID': 'TECH866',\n",
       "  'Pass/Fail': 'Pass'},\n",
       " {'Date': '2025-01-02',\n",
       "  'Shift': 'Shift 1',\n",
       "  'Batch ID': 'ELP8276',\n",
       "  'Plating Type': 'Electroless Copper',\n",
       "  'Component Type': 'Connector Pins',\n",
       "  'Machine ID': 'Tank A',\n",
       "  'Bath Temperature (°C)': 68.9,\n",
       "  'pH Level': 5.27,\n",
       "  'Plating Time (min)': 36.9,\n",
       "  'Thickness (μm)': 11.92,\n",
       "  'Adhesion Strength (MPa)': 15.2,\n",
       "  'Phosphorus Content (%)': nan,\n",
       "  'Surface Roughness (Ra μm)': 1.08,\n",
       "  'Visual Inspection': 'Blister',\n",
       "  'Corrosion Test': 'Pass',\n",
       "  'Operator ID': 'TECH508',\n",
       "  'Pass/Fail': 'Fail'},\n",
       " {'Date': '2025-01-02',\n",
       "  'Shift': 'Shift 1',\n",
       "  'Batch ID': 'ELP5739',\n",
       "  'Plating Type': 'Electroless Copper',\n",
       "  'Component Type': 'Valve Body',\n",
       "  'Machine ID': 'Tank A',\n",
       "  'Bath Temperature (°C)': 70.0,\n",
       "  'pH Level': 5.49,\n",
       "  'Plating Time (min)': 37.9,\n",
       "  'Thickness (μm)': 18.85,\n",
       "  'Adhesion Strength (MPa)': 24.4,\n",
       "  'Phosphorus Content (%)': nan,\n",
       "  'Surface Roughness (Ra μm)': 1.09,\n",
       "  'Visual Inspection': 'Dull Finish',\n",
       "  'Corrosion Test': 'Pass',\n",
       "  'Operator ID': 'TECH632',\n",
       "  'Pass/Fail': 'Pass'},\n",
       " {'Date': '2025-01-02',\n",
       "  'Shift': 'Shift 2',\n",
       "  'Batch ID': 'ELP4103',\n",
       "  'Plating Type': 'Electroless Nickel',\n",
       "  'Component Type': 'Valve Body',\n",
       "  'Machine ID': 'Tank C',\n",
       "  'Bath Temperature (°C)': 92.6,\n",
       "  'pH Level': 4.94,\n",
       "  'Plating Time (min)': 72.8,\n",
       "  'Thickness (μm)': 22.42,\n",
       "  'Adhesion Strength (MPa)': 24.9,\n",
       "  'Phosphorus Content (%)': 7.43,\n",
       "  'Surface Roughness (Ra μm)': 1.13,\n",
       "  'Visual Inspection': 'Pass',\n",
       "  'Corrosion Test': 'Fail',\n",
       "  'Operator ID': 'TECH119',\n",
       "  'Pass/Fail': 'Pass'},\n",
       " {'Date': '2025-01-02',\n",
       "  'Shift': 'Shift 2',\n",
       "  'Batch ID': 'ELP5739',\n",
       "  'Plating Type': 'Electroless Copper',\n",
       "  'Component Type': 'Valve Body',\n",
       "  'Machine ID': 'Tank A',\n",
       "  'Bath Temperature (°C)': 70.0,\n",
       "  'pH Level': 5.49,\n",
       "  'Plating Time (min)': 37.9,\n",
       "  'Thickness (μm)': 18.85,\n",
       "  'Adhesion Strength (MPa)': 24.4,\n",
       "  'Phosphorus Content (%)': nan,\n",
       "  'Surface Roughness (Ra μm)': 1.09,\n",
       "  'Visual Inspection': 'Dull Finish',\n",
       "  'Corrosion Test': 'Pass',\n",
       "  'Operator ID': 'TECH632',\n",
       "  'Pass/Fail': 'Pass'}]"
      ]
     },
     "execution_count": 1278,
     "metadata": {},
     "output_type": "execute_result"
    }
   ],
   "execution_count": 1278
  },
  {
   "metadata": {},
   "cell_type": "markdown",
   "source": [
    "### **7. Use `reduce()` to calculate total plating time of all records**\n",
    "\n",
    "```python\n",
    "from functools import reduce\n",
    "# Output: total number in minutes\n",
    "```\n"
   ],
   "id": "4155e12a6dd06dfd"
  },
  {
   "metadata": {
    "ExecuteTime": {
     "end_time": "2025-05-14T00:20:47.383527Z",
     "start_time": "2025-05-14T00:20:47.379904Z"
    }
   },
   "cell_type": "code",
   "source": [
    "total_plating_time_min = reduce(\n",
    "    lambda acc, record: round(acc + record['Plating Time (min)'], 2),\n",
    "    data,\n",
    "    0  # starting value\n",
    ")"
   ],
   "id": "c6cfe9655ded7dcd",
   "outputs": [],
   "execution_count": 1279
  },
  {
   "metadata": {
    "ExecuteTime": {
     "end_time": "2025-05-14T00:20:47.465878Z",
     "start_time": "2025-05-14T00:20:47.462829Z"
    }
   },
   "cell_type": "code",
   "source": "total_plating_time_min",
   "id": "785426892bd8b834",
   "outputs": [
    {
     "data": {
      "text/plain": [
       "125630.6"
      ]
     },
     "execution_count": 1280,
     "metadata": {},
     "output_type": "execute_result"
    }
   ],
   "execution_count": 1280
  },
  {
   "metadata": {},
   "cell_type": "markdown",
   "source": [
    "### **8. Use `map()` to round thickness to 1 decimal place**\n",
    "\n",
    "```python\n",
    "# Output: [22.1, 14.2, ...]\n",
    "```\n"
   ],
   "id": "6c3ae867eaf4f17f"
  },
  {
   "metadata": {
    "ExecuteTime": {
     "end_time": "2025-05-14T00:20:47.526005Z",
     "start_time": "2025-05-14T00:20:47.522389Z"
    }
   },
   "cell_type": "code",
   "source": [
    "rounded_thickness_list = list(map(\n",
    "    lambda record: round(record['Thickness (μm)'], 1),\n",
    "    data\n",
    "))"
   ],
   "id": "9d3e881d3ba110f1",
   "outputs": [],
   "execution_count": 1281
  },
  {
   "metadata": {
    "ExecuteTime": {
     "end_time": "2025-05-14T00:20:47.654202Z",
     "start_time": "2025-05-14T00:20:47.650772Z"
    }
   },
   "cell_type": "code",
   "source": "rounded_thickness_list[:5]",
   "id": "cb4fa81c239f3411",
   "outputs": [
    {
     "data": {
      "text/plain": [
       "[23.0, 13.9, 10.7, 19.6, 22.3]"
      ]
     },
     "execution_count": 1282,
     "metadata": {},
     "output_type": "execute_result"
    }
   ],
   "execution_count": 1282
  },
  {
   "metadata": {},
   "cell_type": "markdown",
   "source": [
    "### **9. Use `filter()` + `map()` to find all Copper-plated records with pH > 5, return only their `Batch ID`s**\n",
    "\n",
    "```python\n",
    "# Output: ['ELP1234', 'ELP4567', ...]\n",
    "```"
   ],
   "id": "77b6704bc30fe32c"
  },
  {
   "metadata": {
    "ExecuteTime": {
     "end_time": "2025-05-14T00:20:47.689171Z",
     "start_time": "2025-05-14T00:20:47.686009Z"
    }
   },
   "cell_type": "code",
   "source": [
    "filtered_copper_list = list(filter(\n",
    "    lambda record: record['Plating Type'] == 'Electroless Copper' and record['pH Level'] > 5, \n",
    "    data\n",
    "))"
   ],
   "id": "26b97bbad6401774",
   "outputs": [],
   "execution_count": 1283
  },
  {
   "metadata": {
    "ExecuteTime": {
     "end_time": "2025-05-14T00:20:47.782120Z",
     "start_time": "2025-05-14T00:20:47.779408Z"
    }
   },
   "cell_type": "code",
   "source": [
    "batch_ids_with_filtered_copper_list = list(map(\n",
    "    lambda record: record['Batch ID'], \n",
    "    filtered_copper_list\n",
    "))"
   ],
   "id": "eff41ba54426db79",
   "outputs": [],
   "execution_count": 1284
  },
  {
   "metadata": {
    "ExecuteTime": {
     "end_time": "2025-05-14T00:20:47.843837Z",
     "start_time": "2025-05-14T00:20:47.840290Z"
    }
   },
   "cell_type": "code",
   "source": "batch_ids_with_filtered_copper_list[:5]",
   "id": "b25d4b95a2092bf",
   "outputs": [
    {
     "data": {
      "text/plain": [
       "['ELP8276', 'ELP5739', 'ELP5739', 'ELP2833', 'ELP2956']"
      ]
     },
     "execution_count": 1285,
     "metadata": {},
     "output_type": "execute_result"
    }
   ],
   "execution_count": 1285
  },
  {
   "metadata": {},
   "cell_type": "markdown",
   "source": [
    "### **10. Bonus: Use `reduce()` to find the thickest plated component (i.e., max 'Thickness (μm)')**\n",
    "\n",
    "```python\n",
    "# Output: record with highest thickness\n",
    "```\n"
   ],
   "id": "9d48a2fd162ebd2"
  },
  {
   "metadata": {
    "ExecuteTime": {
     "end_time": "2025-05-14T00:20:47.928397Z",
     "start_time": "2025-05-14T00:20:47.925441Z"
    }
   },
   "cell_type": "code",
   "source": [
    "thickest_plate = reduce(\n",
    "    lambda acc, record: acc if acc['Thickness (μm)'] > record['Thickness (μm)'] else record,\n",
    "    data\n",
    ")"
   ],
   "id": "1719b4ead354892f",
   "outputs": [],
   "execution_count": 1286
  },
  {
   "metadata": {
    "ExecuteTime": {
     "end_time": "2025-05-14T00:20:47.974936Z",
     "start_time": "2025-05-14T00:20:47.971514Z"
    }
   },
   "cell_type": "code",
   "source": "thickest_plate['Batch ID']",
   "id": "c3d7cbda24379806",
   "outputs": [
    {
     "data": {
      "text/plain": [
       "'ELP8338'"
      ]
     },
     "execution_count": 1287,
     "metadata": {},
     "output_type": "execute_result"
    }
   ],
   "execution_count": 1287
  },
  {
   "metadata": {},
   "cell_type": "markdown",
   "source": [
    "## **5 Problems Using `reduce()`**\n",
    "\n",
    "\n",
    "\n",
    "### **1. Find the record with the lowest surface roughness**\n",
    "\n",
    "```python\n",
    "# Goal: Use reduce() to return the record with the smallest value in 'Surface Roughness (Ra μm)'\n",
    "# Output: One dictionary (record)\n",
    "```\n"
   ],
   "id": "6edcbd2bda27c3b7"
  },
  {
   "metadata": {
    "ExecuteTime": {
     "end_time": "2025-05-14T00:20:48.066104Z",
     "start_time": "2025-05-14T00:20:48.063153Z"
    }
   },
   "cell_type": "code",
   "source": [
    "sr_smallest = reduce(\n",
    "    lambda acc, record: acc if acc['Surface Roughness (Ra μm)'] < record['Surface Roughness (Ra μm)'] else record,\n",
    "    data\n",
    ")"
   ],
   "id": "b40ecf69774c5a5b",
   "outputs": [],
   "execution_count": 1288
  },
  {
   "metadata": {
    "ExecuteTime": {
     "end_time": "2025-05-14T00:20:48.114439Z",
     "start_time": "2025-05-14T00:20:48.111098Z"
    }
   },
   "cell_type": "code",
   "source": "sr_smallest",
   "id": "cee968c183842a2e",
   "outputs": [
    {
     "data": {
      "text/plain": [
       "{'Date': '2025-12-24',\n",
       " 'Shift': 'Shift 1',\n",
       " 'Batch ID': 'ELP7756',\n",
       " 'Plating Type': 'Electroless Copper',\n",
       " 'Component Type': 'Heat Sink',\n",
       " 'Machine ID': 'Tank A',\n",
       " 'Bath Temperature (°C)': 62.2,\n",
       " 'pH Level': 5.2,\n",
       " 'Plating Time (min)': 49.5,\n",
       " 'Thickness (μm)': 22.8,\n",
       " 'Adhesion Strength (MPa)': 21.6,\n",
       " 'Phosphorus Content (%)': nan,\n",
       " 'Surface Roughness (Ra μm)': 0.21,\n",
       " 'Visual Inspection': 'Pitting',\n",
       " 'Corrosion Test': 'Fail',\n",
       " 'Operator ID': 'TECH521',\n",
       " 'Pass/Fail': 'Pass'}"
      ]
     },
     "execution_count": 1289,
     "metadata": {},
     "output_type": "execute_result"
    }
   ],
   "execution_count": 1289
  },
  {
   "metadata": {},
   "cell_type": "markdown",
   "source": [
    "### **2. Count how many batches passed both 'Visual Inspection' and 'Corrosion Test'**\n",
    "\n",
    "```python\n",
    "# Goal: Return an integer count of records where both tests are 'Pass'\n",
    "# Output: Total count (e.g., 128)\n",
    "```"
   ],
   "id": "51268c7712a1b09c"
  },
  {
   "metadata": {
    "ExecuteTime": {
     "end_time": "2025-05-14T00:20:48.257156Z",
     "start_time": "2025-05-14T00:20:48.254192Z"
    }
   },
   "cell_type": "code",
   "source": [
    "passed_vi_ct_count = reduce(\n",
    "    lambda acc, record: acc + (\n",
    "            record['Pass/Fail'] == 'Pass' and \n",
    "            record['Visual Inspection'] == 'Pass' and \n",
    "            record['Corrosion Test'] == 'Pass'\n",
    "    ), \n",
    "    data,\n",
    "    0\n",
    ")"
   ],
   "id": "7006924af3d792d8",
   "outputs": [],
   "execution_count": 1290
  },
  {
   "metadata": {
    "ExecuteTime": {
     "end_time": "2025-05-14T00:20:48.289180Z",
     "start_time": "2025-05-14T00:20:48.285877Z"
    }
   },
   "cell_type": "code",
   "source": "passed_vi_ct_count",
   "id": "d97b7efa30f49a2c",
   "outputs": [
    {
     "data": {
      "text/plain": [
       "97"
      ]
     },
     "execution_count": 1291,
     "metadata": {},
     "output_type": "execute_result"
    }
   ],
   "execution_count": 1291
  },
  {
   "metadata": {},
   "cell_type": "markdown",
   "source": [
    "### **3. Calculate the average adhesion strength (MPa)**\n",
    "\n",
    "```python\n",
    "# Goal: Sum all adhesion values, divide by count\n",
    "# Use reduce() to get total, then len(data)\n",
    "# Output: Average value (float)\n",
    "```"
   ],
   "id": "3f947f760eb5d70e"
  },
  {
   "metadata": {
    "ExecuteTime": {
     "end_time": "2025-05-14T00:20:48.435961Z",
     "start_time": "2025-05-14T00:20:48.433240Z"
    }
   },
   "cell_type": "code",
   "source": [
    "total_as_mpa = reduce(\n",
    "    lambda acc, record: acc + (record['Adhesion Strength (MPa)']),\n",
    "    data,\n",
    "    0\n",
    ")"
   ],
   "id": "eaf0e966ffbc2cf2",
   "outputs": [],
   "execution_count": 1292
  },
  {
   "metadata": {
    "ExecuteTime": {
     "end_time": "2025-05-14T00:20:48.469352Z",
     "start_time": "2025-05-14T00:20:48.466097Z"
    }
   },
   "cell_type": "code",
   "source": "total_as_mpa",
   "id": "bf901f9e66ceb67f",
   "outputs": [
    {
     "data": {
      "text/plain": [
       "37519.80000000007"
      ]
     },
     "execution_count": 1293,
     "metadata": {},
     "output_type": "execute_result"
    }
   ],
   "execution_count": 1293
  },
  {
   "metadata": {
    "ExecuteTime": {
     "end_time": "2025-05-14T00:20:48.581170Z",
     "start_time": "2025-05-14T00:20:48.578682Z"
    }
   },
   "cell_type": "code",
   "source": "average_as_mpa = round(total_as_mpa / len(data), 2)",
   "id": "81c1de96d58fcecf",
   "outputs": [],
   "execution_count": 1294
  },
  {
   "metadata": {
    "ExecuteTime": {
     "end_time": "2025-05-14T00:20:48.613879Z",
     "start_time": "2025-05-14T00:20:48.610733Z"
    }
   },
   "cell_type": "code",
   "source": "average_as_mpa",
   "id": "e42f35adeebdb7d7",
   "outputs": [
    {
     "data": {
      "text/plain": [
       "17.13"
      ]
     },
     "execution_count": 1295,
     "metadata": {},
     "output_type": "execute_result"
    }
   ],
   "execution_count": 1295
  },
  {
   "metadata": {},
   "cell_type": "markdown",
   "source": [
    "### **4. Build a comma-separated string of all Operator IDs**\n",
    "\n",
    "```python\n",
    "# Goal: Return a single string: \"TECH101, TECH202, TECH303, ...\"\n",
    "# Output: One string\n",
    "```"
   ],
   "id": "e83c620548adf070"
  },
  {
   "metadata": {
    "ExecuteTime": {
     "end_time": "2025-05-14T00:20:48.737501Z",
     "start_time": "2025-05-14T00:20:48.731533Z"
    }
   },
   "cell_type": "code",
   "source": [
    "operator_id_list = reduce(\n",
    "    lambda id_, record: id_ + [record['Operator ID']], \n",
    "    data, \n",
    "    []\n",
    ")"
   ],
   "id": "a57d8242479da0e6",
   "outputs": [],
   "execution_count": 1296
  },
  {
   "metadata": {
    "ExecuteTime": {
     "end_time": "2025-05-14T00:20:48.799166Z",
     "start_time": "2025-05-14T00:20:48.795379Z"
    }
   },
   "cell_type": "code",
   "source": "operator_id_list[:5]",
   "id": "1c9bd366bca359a7",
   "outputs": [
    {
     "data": {
      "text/plain": [
       "['TECH725', 'TECH179', 'TECH699', 'TECH856', 'TECH789']"
      ]
     },
     "execution_count": 1297,
     "metadata": {},
     "output_type": "execute_result"
    }
   ],
   "execution_count": 1297
  },
  {
   "metadata": {
    "ExecuteTime": {
     "end_time": "2025-05-14T00:20:48.930267Z",
     "start_time": "2025-05-14T00:20:48.926766Z"
    }
   },
   "cell_type": "code",
   "source": [
    "# single string\n",
    "', '.join(operator_id_list[:5])"
   ],
   "id": "35f7c2e8548b6566",
   "outputs": [
    {
     "data": {
      "text/plain": [
       "'TECH725, TECH179, TECH699, TECH856, TECH789'"
      ]
     },
     "execution_count": 1298,
     "metadata": {},
     "output_type": "execute_result"
    }
   ],
   "execution_count": 1298
  },
  {
   "metadata": {},
   "cell_type": "markdown",
   "source": [
    "### **5. Find the maximum phosphorus content (excluding NaN)**\n",
    "\n",
    "```python\n",
    "# Goal: Return the highest numeric value for 'Phosphorus Content (%)'\n",
    "# Be sure to skip if value is NaN\n",
    "# Output: Float (e.g., 11.96)\n",
    "```\n"
   ],
   "id": "ed3a4c790c29afe4"
  },
  {
   "metadata": {
    "ExecuteTime": {
     "end_time": "2025-05-14T00:20:48.978078Z",
     "start_time": "2025-05-14T00:20:48.974803Z"
    }
   },
   "cell_type": "code",
   "source": [
    "import math\n",
    "\n",
    "max_phosphorus = reduce(\n",
    "    lambda acc, record: max(acc, record['Phosphorus Content (%)'])\n",
    "    if not math.isnan(record['Phosphorus Content (%)']) else acc,\n",
    "    data,\n",
    "    0\n",
    ")"
   ],
   "id": "f1cb9f3996ba50bf",
   "outputs": [],
   "execution_count": 1299
  },
  {
   "metadata": {
    "ExecuteTime": {
     "end_time": "2025-05-14T00:20:49.105128Z",
     "start_time": "2025-05-14T00:20:49.102042Z"
    }
   },
   "cell_type": "code",
   "source": "max_phosphorus",
   "id": "549da1b1646cd68",
   "outputs": [
    {
     "data": {
      "text/plain": [
       "11.96"
      ]
     },
     "execution_count": 1300,
     "metadata": {},
     "output_type": "execute_result"
    }
   ],
   "execution_count": 1300
  },
  {
   "metadata": {},
   "cell_type": "markdown",
   "source": [
    "# Creating custom higher-order functions that:\n",
    "\n",
    "\n",
    "\n",
    "## 1. **Take Other Functions as Input**\n",
    "\n",
    "### Example:\n",
    "\n",
    "```python\n",
    "def apply_to_batch(record, func):\n",
    "    return func(record['Batch ID'])\n",
    "```\n",
    "\n",
    "You can then do:\n",
    "\n",
    "```python\n",
    "result = apply_to_batch({'Batch ID': 'ELP1234'}, lambda x: f\"Batch: {x}\")\n",
    "```\n",
    "\n",
    "\n",
    "## 2. **Return Functions (Closures)**\n",
    "\n",
    "### Example:\n",
    "\n",
    "```python\n",
    "def make_temperature_adjuster(offset):\n",
    "    def adjust(temp):\n",
    "        return temp + offset\n",
    "    return adjust\n",
    "```\n",
    "\n",
    "Then:\n",
    "\n",
    "```python\n",
    "adjust_up = make_temperature_adjuster(5)\n",
    "print(adjust_up(90))  # → 95\n",
    "```\n",
    "\n"
   ],
   "id": "902843abf794749b"
  },
  {
   "metadata": {},
   "cell_type": "markdown",
   "source": [
    "## **Custom Higher-Order Function Problems**\n",
    "\n",
    "### **1. Write a function `apply_to_all_batches(data, func)`**\n",
    "\n",
    "It should apply the given function `func` to every record in the dataset and return a list of results."
   ],
   "id": "8f6a227f725dbb77"
  },
  {
   "metadata": {
    "ExecuteTime": {
     "end_time": "2025-05-14T00:20:49.152512Z",
     "start_time": "2025-05-14T00:20:49.149957Z"
    }
   },
   "cell_type": "code",
   "source": [
    "def apply_to_all_batches(record, func):\n",
    "    return [func(record) for record in data]"
   ],
   "id": "504d1cd6fcb3a2b4",
   "outputs": [],
   "execution_count": 1301
  },
  {
   "metadata": {
    "ExecuteTime": {
     "end_time": "2025-05-14T00:20:49.266992Z",
     "start_time": "2025-05-14T00:20:49.263801Z"
    }
   },
   "cell_type": "code",
   "source": [
    "result = apply_to_all_batches(\n",
    "    data, \n",
    "    lambda x: f'Record {x[\"Batch ID\"]}, {x[\"Operator ID\"]}, {x[\"Pass/Fail\"]}'\n",
    ")"
   ],
   "id": "750a8b3d385fd655",
   "outputs": [],
   "execution_count": 1302
  },
  {
   "metadata": {
    "ExecuteTime": {
     "end_time": "2025-05-14T00:20:49.315371Z",
     "start_time": "2025-05-14T00:20:49.311688Z"
    }
   },
   "cell_type": "code",
   "source": "result[:5]",
   "id": "fbd7983928b1841e",
   "outputs": [
    {
     "data": {
      "text/plain": [
       "['Record ELP4540, TECH725, Pass',\n",
       " 'Record ELP5163, TECH179, Pass',\n",
       " 'Record ELP1013, TECH699, Fail',\n",
       " 'Record ELP7804, TECH856, Pass',\n",
       " 'Record ELP3034, TECH789, Pass']"
      ]
     },
     "execution_count": 1303,
     "metadata": {},
     "output_type": "execute_result"
    }
   ],
   "execution_count": 1303
  },
  {
   "metadata": {},
   "cell_type": "markdown",
   "source": [
    "### **2. Write a function `is_property_above(field, threshold)`**\n",
    "\n",
    "It should return another function that checks if `record[field] > threshold`.\n",
    "\n",
    "Example:\n",
    "\n",
    "```python\n",
    "check_temp = is_property_above(\"Bath Temperature (°C)\", 90)\n",
    "```\n"
   ],
   "id": "aa598c6b79bb2add"
  },
  {
   "metadata": {
    "ExecuteTime": {
     "end_time": "2025-05-14T00:20:49.398038Z",
     "start_time": "2025-05-14T00:20:49.395329Z"
    }
   },
   "cell_type": "code",
   "source": [
    "def is_property_above(field, threshold):\n",
    "    return lambda record: record[field] > threshold"
   ],
   "id": "7b74f9a5e85de4a8",
   "outputs": [],
   "execution_count": 1304
  },
  {
   "metadata": {
    "ExecuteTime": {
     "end_time": "2025-05-14T00:20:49.465606Z",
     "start_time": "2025-05-14T00:20:49.462883Z"
    }
   },
   "cell_type": "code",
   "source": "check_temp = is_property_above('Bath Temperature (°C)', 90)",
   "id": "97a8465d9ce29026",
   "outputs": [],
   "execution_count": 1305
  },
  {
   "metadata": {
    "ExecuteTime": {
     "end_time": "2025-05-14T00:20:49.594404Z",
     "start_time": "2025-05-14T00:20:49.590716Z"
    }
   },
   "cell_type": "code",
   "source": "check_temp(data[0])",
   "id": "c99a846597a60781",
   "outputs": [
    {
     "data": {
      "text/plain": [
       "True"
      ]
     },
     "execution_count": 1306,
     "metadata": {},
     "output_type": "execute_result"
    }
   ],
   "execution_count": 1306
  },
  {
   "metadata": {
    "ExecuteTime": {
     "end_time": "2025-05-14T00:20:49.642102Z",
     "start_time": "2025-05-14T00:20:49.638701Z"
    }
   },
   "cell_type": "code",
   "source": "data[0]",
   "id": "43d0f9f4927152e8",
   "outputs": [
    {
     "data": {
      "text/plain": [
       "{'Date': '2025-01-01',\n",
       " 'Shift': 'Shift 1',\n",
       " 'Batch ID': 'ELP4540',\n",
       " 'Plating Type': 'Electroless Nickel',\n",
       " 'Component Type': 'Heat Sink',\n",
       " 'Machine ID': 'Tank C',\n",
       " 'Bath Temperature (°C)': 91.6,\n",
       " 'pH Level': 4.85,\n",
       " 'Plating Time (min)': 43.5,\n",
       " 'Thickness (μm)': 22.99,\n",
       " 'Adhesion Strength (MPa)': 21.3,\n",
       " 'Phosphorus Content (%)': 8.85,\n",
       " 'Surface Roughness (Ra μm)': 0.5,\n",
       " 'Visual Inspection': 'Blister',\n",
       " 'Corrosion Test': 'Pass',\n",
       " 'Operator ID': 'TECH725',\n",
       " 'Pass/Fail': 'Pass'}"
      ]
     },
     "execution_count": 1307,
     "metadata": {},
     "output_type": "execute_result"
    }
   ],
   "execution_count": 1307
  },
  {
   "metadata": {
    "ExecuteTime": {
     "end_time": "2025-05-14T00:20:49.745766Z",
     "start_time": "2025-05-14T00:20:49.742833Z"
    }
   },
   "cell_type": "code",
   "source": [
    "# apply to all batch\n",
    "hot_batches = list(filter(check_temp, data))"
   ],
   "id": "b59904a9bf66a3ee",
   "outputs": [],
   "execution_count": 1308
  },
  {
   "metadata": {
    "ExecuteTime": {
     "end_time": "2025-05-14T00:20:49.810665Z",
     "start_time": "2025-05-14T00:20:49.806648Z"
    }
   },
   "cell_type": "code",
   "source": "hot_batches[:5]",
   "id": "8289e369e47e1038",
   "outputs": [
    {
     "data": {
      "text/plain": [
       "[{'Date': '2025-01-01',\n",
       "  'Shift': 'Shift 1',\n",
       "  'Batch ID': 'ELP4540',\n",
       "  'Plating Type': 'Electroless Nickel',\n",
       "  'Component Type': 'Heat Sink',\n",
       "  'Machine ID': 'Tank C',\n",
       "  'Bath Temperature (°C)': 91.6,\n",
       "  'pH Level': 4.85,\n",
       "  'Plating Time (min)': 43.5,\n",
       "  'Thickness (μm)': 22.99,\n",
       "  'Adhesion Strength (MPa)': 21.3,\n",
       "  'Phosphorus Content (%)': 8.85,\n",
       "  'Surface Roughness (Ra μm)': 0.5,\n",
       "  'Visual Inspection': 'Blister',\n",
       "  'Corrosion Test': 'Pass',\n",
       "  'Operator ID': 'TECH725',\n",
       "  'Pass/Fail': 'Pass'},\n",
       " {'Date': '2025-01-01',\n",
       "  'Shift': 'Shift 2',\n",
       "  'Batch ID': 'ELP3034',\n",
       "  'Plating Type': 'Electroless Nickel',\n",
       "  'Component Type': 'PCB Panel',\n",
       "  'Machine ID': 'Tank A',\n",
       "  'Bath Temperature (°C)': 92.6,\n",
       "  'pH Level': 5.13,\n",
       "  'Plating Time (min)': 70.9,\n",
       "  'Thickness (μm)': 22.33,\n",
       "  'Adhesion Strength (MPa)': 18.4,\n",
       "  'Phosphorus Content (%)': 9.28,\n",
       "  'Surface Roughness (Ra μm)': 0.91,\n",
       "  'Visual Inspection': 'Pitting',\n",
       "  'Corrosion Test': 'Fail',\n",
       "  'Operator ID': 'TECH789',\n",
       "  'Pass/Fail': 'Pass'},\n",
       " {'Date': '2025-01-01',\n",
       "  'Shift': 'Shift 2',\n",
       "  'Batch ID': 'ELP2153',\n",
       "  'Plating Type': 'Electroless Nickel',\n",
       "  'Component Type': 'Heat Sink',\n",
       "  'Machine ID': 'Tank C',\n",
       "  'Bath Temperature (°C)': 91.3,\n",
       "  'pH Level': 5.27,\n",
       "  'Plating Time (min)': 37.8,\n",
       "  'Thickness (μm)': 16.25,\n",
       "  'Adhesion Strength (MPa)': 21.7,\n",
       "  'Phosphorus Content (%)': 6.35,\n",
       "  'Surface Roughness (Ra μm)': 1.14,\n",
       "  'Visual Inspection': 'Dull Finish',\n",
       "  'Corrosion Test': 'Fail',\n",
       "  'Operator ID': 'TECH866',\n",
       "  'Pass/Fail': 'Pass'},\n",
       " {'Date': '2025-01-02',\n",
       "  'Shift': 'Shift 2',\n",
       "  'Batch ID': 'ELP4103',\n",
       "  'Plating Type': 'Electroless Nickel',\n",
       "  'Component Type': 'Valve Body',\n",
       "  'Machine ID': 'Tank C',\n",
       "  'Bath Temperature (°C)': 92.6,\n",
       "  'pH Level': 4.94,\n",
       "  'Plating Time (min)': 72.8,\n",
       "  'Thickness (μm)': 22.42,\n",
       "  'Adhesion Strength (MPa)': 24.9,\n",
       "  'Phosphorus Content (%)': 7.43,\n",
       "  'Surface Roughness (Ra μm)': 1.13,\n",
       "  'Visual Inspection': 'Pass',\n",
       "  'Corrosion Test': 'Fail',\n",
       "  'Operator ID': 'TECH119',\n",
       "  'Pass/Fail': 'Pass'},\n",
       " {'Date': '2025-01-04',\n",
       "  'Shift': 'Shift 1',\n",
       "  'Batch ID': 'ELP3074',\n",
       "  'Plating Type': 'Electroless Nickel',\n",
       "  'Component Type': 'Valve Body',\n",
       "  'Machine ID': 'Tank C',\n",
       "  'Bath Temperature (°C)': 91.7,\n",
       "  'pH Level': 4.51,\n",
       "  'Plating Time (min)': 44.4,\n",
       "  'Thickness (μm)': 10.75,\n",
       "  'Adhesion Strength (MPa)': 18.7,\n",
       "  'Phosphorus Content (%)': 6.47,\n",
       "  'Surface Roughness (Ra μm)': 0.99,\n",
       "  'Visual Inspection': 'Pitting',\n",
       "  'Corrosion Test': 'Pass',\n",
       "  'Operator ID': 'TECH275',\n",
       "  'Pass/Fail': 'Fail'}]"
      ]
     },
     "execution_count": 1309,
     "metadata": {},
     "output_type": "execute_result"
    }
   ],
   "execution_count": 1309
  },
  {
   "metadata": {},
   "cell_type": "markdown",
   "source": [
    " ### **3. Write a function `format_report(field)`**\n",
    "\n",
    "It should return a function that takes a record and returns a string:\n",
    "`\"Batch ELP1234: Thickness = 22.3 μm\"`"
   ],
   "id": "399240f51b5705be"
  },
  {
   "metadata": {
    "ExecuteTime": {
     "end_time": "2025-05-14T00:20:49.910391Z",
     "start_time": "2025-05-14T00:20:49.907790Z"
    }
   },
   "cell_type": "code",
   "source": [
    "def format_report(field):\n",
    "    return lambda record: f'Batch {record[field]}: {record['Thickness (μm)']} μm'"
   ],
   "id": "5c8aee36317ccf63",
   "outputs": [],
   "execution_count": 1310
  },
  {
   "metadata": {
    "ExecuteTime": {
     "end_time": "2025-05-14T00:20:49.973863Z",
     "start_time": "2025-05-14T00:20:49.970059Z"
    }
   },
   "cell_type": "code",
   "source": "formated_list = list(map(format_report('Batch ID'), data))",
   "id": "7436f2ebc31b4249",
   "outputs": [],
   "execution_count": 1311
  },
  {
   "metadata": {
    "ExecuteTime": {
     "end_time": "2025-05-14T00:20:50.068888Z",
     "start_time": "2025-05-14T00:20:50.065575Z"
    }
   },
   "cell_type": "code",
   "source": "formated_list[:5]",
   "id": "951cebe47e79d2f",
   "outputs": [
    {
     "data": {
      "text/plain": [
       "['Batch ELP4540: 22.99 μm',\n",
       " 'Batch ELP5163: 13.95 μm',\n",
       " 'Batch ELP1013: 10.67 μm',\n",
       " 'Batch ELP7804: 19.65 μm',\n",
       " 'Batch ELP3034: 22.33 μm']"
      ]
     },
     "execution_count": 1312,
     "metadata": {},
     "output_type": "execute_result"
    }
   ],
   "execution_count": 1312
  },
  {
   "metadata": {},
   "cell_type": "markdown",
   "source": [
    "### **4. Write a function `filter_records(data, condition_func)`**\n",
    "\n",
    "It should take a function and return only the records where that function returns `True`.\n"
   ],
   "id": "33094ade47c817e5"
  },
  {
   "metadata": {
    "ExecuteTime": {
     "end_time": "2025-05-14T00:20:50.115940Z",
     "start_time": "2025-05-14T00:20:50.113272Z"
    }
   },
   "cell_type": "code",
   "source": [
    "def filter_records(record, condition_func):\n",
    "    return [record for record in data if condition_func(record)]"
   ],
   "id": "7e68b04a2d7cb338",
   "outputs": [],
   "execution_count": 1313
  },
  {
   "metadata": {
    "ExecuteTime": {
     "end_time": "2025-05-14T00:20:50.214814Z",
     "start_time": "2025-05-14T00:20:50.211612Z"
    }
   },
   "cell_type": "code",
   "source": [
    "filtered_records = filter_records(\n",
    "    data,\n",
    "    lambda record: record['Bath Temperature (°C)'] < 90\n",
    ")"
   ],
   "id": "7d13922709dc1071",
   "outputs": [],
   "execution_count": 1314
  },
  {
   "metadata": {
    "ExecuteTime": {
     "end_time": "2025-05-14T00:20:50.279614Z",
     "start_time": "2025-05-14T00:20:50.275779Z"
    }
   },
   "cell_type": "code",
   "source": "filtered_records[:5]",
   "id": "6990ee02fb2c7b87",
   "outputs": [
    {
     "data": {
      "text/plain": [
       "[{'Date': '2025-01-01',\n",
       "  'Shift': 'Shift 1',\n",
       "  'Batch ID': 'ELP5163',\n",
       "  'Plating Type': 'Electroless Copper',\n",
       "  'Component Type': 'Connector Pins',\n",
       "  'Machine ID': 'Tank B',\n",
       "  'Bath Temperature (°C)': 73.0,\n",
       "  'pH Level': 4.69,\n",
       "  'Plating Time (min)': 79.2,\n",
       "  'Thickness (μm)': 13.95,\n",
       "  'Adhesion Strength (MPa)': 16.4,\n",
       "  'Phosphorus Content (%)': nan,\n",
       "  'Surface Roughness (Ra μm)': 0.65,\n",
       "  'Visual Inspection': 'Pitting',\n",
       "  'Corrosion Test': 'Pass',\n",
       "  'Operator ID': 'TECH179',\n",
       "  'Pass/Fail': 'Pass'},\n",
       " {'Date': '2025-01-01',\n",
       "  'Shift': 'Shift 1',\n",
       "  'Batch ID': 'ELP1013',\n",
       "  'Plating Type': 'Electroless Copper',\n",
       "  'Component Type': 'Gear Housing',\n",
       "  'Machine ID': 'Tank B',\n",
       "  'Bath Temperature (°C)': 63.3,\n",
       "  'pH Level': 4.78,\n",
       "  'Plating Time (min)': 37.2,\n",
       "  'Thickness (μm)': 10.67,\n",
       "  'Adhesion Strength (MPa)': 10.4,\n",
       "  'Phosphorus Content (%)': nan,\n",
       "  'Surface Roughness (Ra μm)': 0.85,\n",
       "  'Visual Inspection': 'Dull Finish',\n",
       "  'Corrosion Test': 'Fail',\n",
       "  'Operator ID': 'TECH699',\n",
       "  'Pass/Fail': 'Fail'},\n",
       " {'Date': '2025-01-01',\n",
       "  'Shift': 'Shift 2',\n",
       "  'Batch ID': 'ELP7804',\n",
       "  'Plating Type': 'Electroless Copper',\n",
       "  'Component Type': 'Gear Housing',\n",
       "  'Machine ID': 'Tank B',\n",
       "  'Bath Temperature (°C)': 71.9,\n",
       "  'pH Level': 4.83,\n",
       "  'Plating Time (min)': 40.1,\n",
       "  'Thickness (μm)': 19.65,\n",
       "  'Adhesion Strength (MPa)': 20.6,\n",
       "  'Phosphorus Content (%)': nan,\n",
       "  'Surface Roughness (Ra μm)': 0.69,\n",
       "  'Visual Inspection': 'Pitting',\n",
       "  'Corrosion Test': 'Fail',\n",
       "  'Operator ID': 'TECH856',\n",
       "  'Pass/Fail': 'Pass'},\n",
       " {'Date': '2025-01-02',\n",
       "  'Shift': 'Shift 1',\n",
       "  'Batch ID': 'ELP5163',\n",
       "  'Plating Type': 'Electroless Copper',\n",
       "  'Component Type': 'Connector Pins',\n",
       "  'Machine ID': 'Tank B',\n",
       "  'Bath Temperature (°C)': 73.0,\n",
       "  'pH Level': 4.69,\n",
       "  'Plating Time (min)': 79.2,\n",
       "  'Thickness (μm)': 13.95,\n",
       "  'Adhesion Strength (MPa)': 16.4,\n",
       "  'Phosphorus Content (%)': nan,\n",
       "  'Surface Roughness (Ra μm)': 0.65,\n",
       "  'Visual Inspection': 'Pitting',\n",
       "  'Corrosion Test': 'Pass',\n",
       "  'Operator ID': 'TECH179',\n",
       "  'Pass/Fail': 'Pass'},\n",
       " {'Date': '2025-01-02',\n",
       "  'Shift': 'Shift 1',\n",
       "  'Batch ID': 'ELP8276',\n",
       "  'Plating Type': 'Electroless Copper',\n",
       "  'Component Type': 'Connector Pins',\n",
       "  'Machine ID': 'Tank A',\n",
       "  'Bath Temperature (°C)': 68.9,\n",
       "  'pH Level': 5.27,\n",
       "  'Plating Time (min)': 36.9,\n",
       "  'Thickness (μm)': 11.92,\n",
       "  'Adhesion Strength (MPa)': 15.2,\n",
       "  'Phosphorus Content (%)': nan,\n",
       "  'Surface Roughness (Ra μm)': 1.08,\n",
       "  'Visual Inspection': 'Blister',\n",
       "  'Corrosion Test': 'Pass',\n",
       "  'Operator ID': 'TECH508',\n",
       "  'Pass/Fail': 'Fail'}]"
      ]
     },
     "execution_count": 1315,
     "metadata": {},
     "output_type": "execute_result"
    }
   ],
   "execution_count": 1315
  },
  {
   "metadata": {},
   "cell_type": "markdown",
   "source": [
    "### **5. Write a function `report_generator(fields)`**\n",
    "\n",
    "It should return a function that, when given a record, returns a summary string of all those fields."
   ],
   "id": "26a594d4ff4fe3a3"
  },
  {
   "metadata": {
    "ExecuteTime": {
     "end_time": "2025-05-14T00:20:50.389627Z",
     "start_time": "2025-05-14T00:20:50.387158Z"
    }
   },
   "cell_type": "code",
   "source": [
    "def report_generator(fields):\n",
    "    return lambda record: ', '.join(str(record[field]) for field in fields)\n",
    "    "
   ],
   "id": "7105bfe7065a586e",
   "outputs": [],
   "execution_count": 1316
  },
  {
   "metadata": {
    "ExecuteTime": {
     "end_time": "2025-05-14T00:20:50.437524Z",
     "start_time": "2025-05-14T00:20:50.434731Z"
    }
   },
   "cell_type": "code",
   "source": "report_string = report_generator(['Batch ID', 'Machine ID', 'Pass/Fail'])",
   "id": "2a51c44ed49b5574",
   "outputs": [],
   "execution_count": 1317
  },
  {
   "metadata": {
    "ExecuteTime": {
     "end_time": "2025-05-14T00:20:50.554650Z",
     "start_time": "2025-05-14T00:20:50.551003Z"
    }
   },
   "cell_type": "code",
   "source": "formatted = list(map(report_string, data))",
   "id": "15a7535c06fe0712",
   "outputs": [],
   "execution_count": 1318
  },
  {
   "metadata": {
    "ExecuteTime": {
     "end_time": "2025-05-14T00:20:50.589580Z",
     "start_time": "2025-05-14T00:20:50.586033Z"
    }
   },
   "cell_type": "code",
   "source": "formatted[:3]",
   "id": "d8bc6cc647c733fc",
   "outputs": [
    {
     "data": {
      "text/plain": [
       "['ELP4540, Tank C, Pass', 'ELP5163, Tank B, Pass', 'ELP1013, Tank B, Fail']"
      ]
     },
     "execution_count": 1319,
     "metadata": {},
     "output_type": "execute_result"
    }
   ],
   "execution_count": 1319
  },
  {
   "metadata": {},
   "cell_type": "markdown",
   "source": [
    "### **6. Write a function `compose(f, g)`**\n",
    "\n",
    "It should return a new function that combines `f(g(x))`.\n",
    "\n",
    "Test it on simple math:\n",
    "\n",
    "```python\n",
    "add3 = lambda x: x + 3\n",
    "square = lambda x: x * x\n",
    "square_then_add3 = compose(add3, square)\n",
    "print(square_then_add3(2))  # Output: 7\n",
    "```\n"
   ],
   "id": "39c4cfe35ea1209"
  },
  {
   "metadata": {
    "ExecuteTime": {
     "end_time": "2025-05-14T00:20:50.700178Z",
     "start_time": "2025-05-14T00:20:50.697769Z"
    }
   },
   "cell_type": "code",
   "source": [
    "def compose(f, g):\n",
    "    return lambda x: f(g(x))    \n",
    "    "
   ],
   "id": "c57a0e32a39345d6",
   "outputs": [],
   "execution_count": 1320
  },
  {
   "metadata": {
    "ExecuteTime": {
     "end_time": "2025-05-14T00:20:50.732331Z",
     "start_time": "2025-05-14T00:20:50.729527Z"
    }
   },
   "cell_type": "code",
   "source": "add_2_to_temp = lambda x: x + 2",
   "id": "316c67446aed1415",
   "outputs": [],
   "execution_count": 1321
  },
  {
   "metadata": {
    "ExecuteTime": {
     "end_time": "2025-05-14T00:20:50.845300Z",
     "start_time": "2025-05-14T00:20:50.842441Z"
    }
   },
   "cell_type": "code",
   "source": "square_temp = lambda x: x ** 2",
   "id": "7822fe647438b98a",
   "outputs": [],
   "execution_count": 1322
  },
  {
   "metadata": {
    "ExecuteTime": {
     "end_time": "2025-05-14T00:20:50.876532Z",
     "start_time": "2025-05-14T00:20:50.874125Z"
    }
   },
   "cell_type": "code",
   "source": "square_then_add_to_temp = compose(add_2_to_temp, square_temp)",
   "id": "e82f1e23dc02cd5c",
   "outputs": [],
   "execution_count": 1323
  },
  {
   "metadata": {
    "ExecuteTime": {
     "end_time": "2025-05-14T00:20:50.974077Z",
     "start_time": "2025-05-14T00:20:50.970371Z"
    }
   },
   "cell_type": "code",
   "source": [
    "composed_list = list(map(\n",
    "    lambda record: round(square_then_add_to_temp(record['Bath Temperature (°C)']), 2), \n",
    "    data\n",
    "))"
   ],
   "id": "239cc28e411f89d",
   "outputs": [],
   "execution_count": 1324
  },
  {
   "metadata": {
    "ExecuteTime": {
     "end_time": "2025-05-14T00:20:51.010584Z",
     "start_time": "2025-05-14T00:20:51.007190Z"
    }
   },
   "cell_type": "code",
   "source": "composed_list[:5]",
   "id": "108b61094a8e9829",
   "outputs": [
    {
     "data": {
      "text/plain": [
       "[8392.56, 5331.0, 4008.89, 5171.61, 8576.76]"
      ]
     },
     "execution_count": 1325,
     "metadata": {},
     "output_type": "execute_result"
    }
   ],
   "execution_count": 1325
  },
  {
   "metadata": {},
   "cell_type": "markdown",
   "source": [
    "### **7. Write a function `plating_analyzer(field)`**\n",
    "\n",
    "It returns a function that takes a record and returns `\"HIGH\"` if `record[field] > 20`, else `\"LOW\"`.\n"
   ],
   "id": "311b2339d3852d"
  },
  {
   "metadata": {
    "ExecuteTime": {
     "end_time": "2025-05-14T00:20:51.104728Z",
     "start_time": "2025-05-14T00:20:51.101884Z"
    }
   },
   "cell_type": "code",
   "source": [
    "def plating_analyzer(field):\n",
    "    return lambda record: 'HIGH' if record[field] > 20 else 'LOW'"
   ],
   "id": "39a0af737fd393a8",
   "outputs": [],
   "execution_count": 1326
  },
  {
   "metadata": {
    "ExecuteTime": {
     "end_time": "2025-05-14T00:20:51.136690Z",
     "start_time": "2025-05-14T00:20:51.133718Z"
    }
   },
   "cell_type": "code",
   "source": [
    "plating_analyzed_list = list(map(\n",
    "    plating_analyzer('Adhesion Strength (MPa)'), \n",
    "    data\n",
    "))"
   ],
   "id": "bd5406495f5135f6",
   "outputs": [],
   "execution_count": 1327
  },
  {
   "metadata": {
    "ExecuteTime": {
     "end_time": "2025-05-14T00:20:51.232497Z",
     "start_time": "2025-05-14T00:20:51.229358Z"
    }
   },
   "cell_type": "code",
   "source": "plating_analyzed_list[:5]",
   "id": "74af73a96d0b84e1",
   "outputs": [
    {
     "data": {
      "text/plain": [
       "['HIGH', 'LOW', 'LOW', 'HIGH', 'LOW']"
      ]
     },
     "execution_count": 1328,
     "metadata": {},
     "output_type": "execute_result"
    }
   ],
   "execution_count": 1328
  },
  {
   "metadata": {},
   "cell_type": "markdown",
   "source": [
    "### **8. Write a function `make_scaler(field, factor)`**\n",
    "\n",
    "It returns a function that scales `record[field]` by `factor`."
   ],
   "id": "fe7ca86404fab6d2"
  },
  {
   "metadata": {
    "ExecuteTime": {
     "end_time": "2025-05-14T00:20:51.297968Z",
     "start_time": "2025-05-14T00:20:51.295383Z"
    }
   },
   "cell_type": "code",
   "source": [
    "def make_scaler(field, factor):\n",
    "    return lambda record: round(record[field] / factor, 2)"
   ],
   "id": "b030fb9102fe6932",
   "outputs": [],
   "execution_count": 1329
  },
  {
   "metadata": {
    "ExecuteTime": {
     "end_time": "2025-05-14T00:20:51.410484Z",
     "start_time": "2025-05-14T00:20:51.407145Z"
    }
   },
   "cell_type": "code",
   "source": [
    "scaled_list = list(map(\n",
    "    make_scaler('pH Level', 1.01),\n",
    "    data\n",
    "))"
   ],
   "id": "d8c187fb754bf74e",
   "outputs": [],
   "execution_count": 1330
  },
  {
   "metadata": {
    "ExecuteTime": {
     "end_time": "2025-05-14T00:20:51.458258Z",
     "start_time": "2025-05-14T00:20:51.455027Z"
    }
   },
   "cell_type": "code",
   "source": "scaled_list[:5]",
   "id": "e7157f487b3248d2",
   "outputs": [
    {
     "data": {
      "text/plain": [
       "[4.8, 4.64, 4.73, 4.78, 5.08]"
      ]
     },
     "execution_count": 1331,
     "metadata": {},
     "output_type": "execute_result"
    }
   ],
   "execution_count": 1331
  },
  {
   "metadata": {},
   "cell_type": "markdown",
   "source": [
    "### **9. Write a function `apply_many(funcs)`**\n",
    "\n",
    "It returns a function that applies a list of functions to a single input and returns a list of outputs.\n"
   ],
   "id": "135d1e3516f123fd"
  },
  {
   "metadata": {
    "ExecuteTime": {
     "end_time": "2025-05-14T00:20:51.552727Z",
     "start_time": "2025-05-14T00:20:51.549637Z"
    }
   },
   "cell_type": "code",
   "source": [
    "def apply_many(funcs):\n",
    "    return lambda x: [func(x) for func in funcs]"
   ],
   "id": "e5b64c51eba72147",
   "outputs": [],
   "execution_count": 1332
  },
  {
   "metadata": {
    "ExecuteTime": {
     "end_time": "2025-05-14T00:20:51.631888Z",
     "start_time": "2025-05-14T00:20:51.629263Z"
    }
   },
   "cell_type": "code",
   "source": "func1 = lambda record: round(record['Adhesion Strength (MPa)'] *1.01, 2)",
   "id": "58065117fec804ea",
   "outputs": [],
   "execution_count": 1333
  },
  {
   "metadata": {
    "ExecuteTime": {
     "end_time": "2025-05-14T00:20:51.777494Z",
     "start_time": "2025-05-14T00:20:51.774693Z"
    }
   },
   "cell_type": "code",
   "source": [
    "import math as m\n",
    "func2 = lambda record: (\n",
    "    0 if m.isnan(record['Phosphorus Content (%)']) \n",
    "    else\n",
    "    round(record['Phosphorus Content (%)'] + 1.01, 2)\n",
    ")\n"
   ],
   "id": "60d1f9a5f31fe372",
   "outputs": [],
   "execution_count": 1334
  },
  {
   "metadata": {
    "ExecuteTime": {
     "end_time": "2025-05-14T00:20:51.859316Z",
     "start_time": "2025-05-14T00:20:51.854392Z"
    }
   },
   "cell_type": "code",
   "source": [
    "outputs_list = list(map(\n",
    "    apply_many([func1, func2]),\n",
    "    data\n",
    "))"
   ],
   "id": "798c1f0aea04bc32",
   "outputs": [],
   "execution_count": 1335
  },
  {
   "metadata": {
    "ExecuteTime": {
     "end_time": "2025-05-14T00:20:51.953311Z",
     "start_time": "2025-05-14T00:20:51.949906Z"
    }
   },
   "cell_type": "code",
   "source": "outputs_list[:5]",
   "id": "3a1cd19afd7a96",
   "outputs": [
    {
     "data": {
      "text/plain": [
       "[[21.51, 9.86], [16.56, 0], [10.5, 0], [20.81, 0], [18.58, 10.29]]"
      ]
     },
     "execution_count": 1336,
     "metadata": {},
     "output_type": "execute_result"
    }
   ],
   "execution_count": 1336
  },
  {
   "metadata": {},
   "cell_type": "markdown",
   "source": [
    "### **10. Write a function `make_condition_checker(field, op, value)`**\n",
    "\n",
    "It returns a function that compares `record[field]` to `value` using the given operator (`>`, `<`, `==`, etc.).\n"
   ],
   "id": "eff55e676caeab47"
  },
  {
   "metadata": {
    "ExecuteTime": {
     "end_time": "2025-05-14T00:20:52.000654Z",
     "start_time": "2025-05-14T00:20:51.998035Z"
    }
   },
   "cell_type": "code",
   "source": [
    "import operator\n",
    "\n",
    "ops = {\n",
    "    '==': operator.eq,\n",
    "    '!=': operator.ne,\n",
    "    '<': operator.lt,\n",
    "    '>': operator.gt,\n",
    "    '>=': operator.ge,\n",
    "    '<=': operator.le,\n",
    "}\n",
    " "
   ],
   "id": "116a564653831d53",
   "outputs": [],
   "execution_count": 1337
  },
  {
   "metadata": {
    "ExecuteTime": {
     "end_time": "2025-05-14T00:20:52.105099Z",
     "start_time": "2025-05-14T00:20:52.102621Z"
    }
   },
   "cell_type": "code",
   "source": [
    "def make_condition_check(field, op, value):\n",
    "    if op not in ops:\n",
    "        raise ValueError(f'Operator {op} not supported')\n",
    "    return lambda record: ops[op](record[field], value)"
   ],
   "id": "4474477a97773181",
   "outputs": [],
   "execution_count": 1338
  },
  {
   "metadata": {
    "ExecuteTime": {
     "end_time": "2025-05-14T00:20:52.169602Z",
     "start_time": "2025-05-14T00:20:52.166663Z"
    }
   },
   "cell_type": "code",
   "source": [
    "temp_cond_list = list(map(\n",
    "    make_condition_check('Bath Temperature (°C)' , '>', 90),\n",
    "    data\n",
    "))"
   ],
   "id": "e99cc0434d108f1a",
   "outputs": [],
   "execution_count": 1339
  },
  {
   "metadata": {
    "ExecuteTime": {
     "end_time": "2025-05-14T00:20:52.250316Z",
     "start_time": "2025-05-14T00:20:52.246915Z"
    }
   },
   "cell_type": "code",
   "source": "temp_cond_list[:5]",
   "id": "fbcae760e50a1194",
   "outputs": [
    {
     "data": {
      "text/plain": [
       "[True, False, False, False, True]"
      ]
     },
     "execution_count": 1340,
     "metadata": {},
     "output_type": "execute_result"
    }
   ],
   "execution_count": 1340
  },
  {
   "metadata": {},
   "cell_type": "markdown",
   "source": "# More Practice Problems",
   "id": "a884b402df4d2d9b"
  },
  {
   "metadata": {},
   "cell_type": "markdown",
   "source": [
    "## A. **Functions that Take Other Functions as Input**\n",
    "\n",
    "### **1. `apply_twice(func, value)`**\n",
    "\n",
    "Apply a function `func` twice to a `value`.\n",
    "\n",
    "```python\n",
    "# Example: apply_twice(lambda x: x + 2, 5) ➜ 9\n",
    "```"
   ],
   "id": "db2c68fb1525780d"
  },
  {
   "metadata": {
    "ExecuteTime": {
     "end_time": "2025-05-14T00:20:52.298474Z",
     "start_time": "2025-05-14T00:20:52.295925Z"
    }
   },
   "cell_type": "code",
   "source": [
    "def apply_twice(func, value):\n",
    "    result1 = func(value)\n",
    "    return round(func(result1), 2)"
   ],
   "id": "bca30bfc08d383a7",
   "outputs": [],
   "execution_count": 1341
  },
  {
   "metadata": {
    "ExecuteTime": {
     "end_time": "2025-05-14T00:20:52.398501Z",
     "start_time": "2025-05-14T00:20:52.395819Z"
    }
   },
   "cell_type": "code",
   "source": "func = lambda x: x + 1.02",
   "id": "bcbf0f2d811f3434",
   "outputs": [],
   "execution_count": 1342
  },
  {
   "metadata": {
    "ExecuteTime": {
     "end_time": "2025-05-14T00:20:52.446869Z",
     "start_time": "2025-05-14T00:20:52.443309Z"
    }
   },
   "cell_type": "code",
   "source": [
    "twice_value_list = list(map(\n",
    "    lambda record: apply_twice(func, record['Bath Temperature (°C)']),\n",
    "    data\n",
    "))"
   ],
   "id": "6fb25dc07e297cbe",
   "outputs": [],
   "execution_count": 1343
  },
  {
   "metadata": {
    "ExecuteTime": {
     "end_time": "2025-05-14T00:20:52.541530Z",
     "start_time": "2025-05-14T00:20:52.538484Z"
    }
   },
   "cell_type": "code",
   "source": "twice_value_list[:5]",
   "id": "845bbde94286c46b",
   "outputs": [
    {
     "data": {
      "text/plain": [
       "[93.64, 75.04, 65.34, 73.94, 94.64]"
      ]
     },
     "execution_count": 1344,
     "metadata": {},
     "output_type": "execute_result"
    }
   ],
   "execution_count": 1344
  },
  {
   "metadata": {},
   "cell_type": "markdown",
   "source": [
    "### **2. `filter_and_transform(data, condition, transform)`**\n",
    "\n",
    "Filter the data using `condition`, then apply `transform`.\n",
    "\n",
    "```python\n",
    "# Example: filter_and_transform(data, lambda x: x > 5, lambda x: x * 2)\n",
    "```"
   ],
   "id": "6adfe6d324aa3320"
  },
  {
   "metadata": {
    "ExecuteTime": {
     "end_time": "2025-05-14T00:20:52.589228Z",
     "start_time": "2025-05-14T00:20:52.586311Z"
    }
   },
   "cell_type": "code",
   "source": [
    "def filter_and_transform(data, condition, transform):\n",
    "    return [transform(record) for record in data if condition(record)]"
   ],
   "id": "864c2b1c15fc3da7",
   "outputs": [],
   "execution_count": 1345
  },
  {
   "metadata": {
    "ExecuteTime": {
     "end_time": "2025-05-14T00:20:52.716772Z",
     "start_time": "2025-05-14T00:20:52.713991Z"
    }
   },
   "cell_type": "code",
   "source": "condition = lambda record: record['Adhesion Strength (MPa)'] > 20",
   "id": "6fa023eb2ee49a46",
   "outputs": [],
   "execution_count": 1346
  },
  {
   "metadata": {
    "ExecuteTime": {
     "end_time": "2025-05-14T00:20:52.766230Z",
     "start_time": "2025-05-14T00:20:52.763507Z"
    }
   },
   "cell_type": "code",
   "source": "transform = lambda record: 'OK' if record['Pass/Fail'] else 'NOT OK'",
   "id": "e0d7cc40a563eac8",
   "outputs": [],
   "execution_count": 1347
  },
  {
   "metadata": {
    "ExecuteTime": {
     "end_time": "2025-05-14T00:20:52.830541Z",
     "start_time": "2025-05-14T00:20:52.827338Z"
    }
   },
   "cell_type": "code",
   "source": "result = filter_and_transform(data, condition, transform)",
   "id": "a83f758d194c08f2",
   "outputs": [],
   "execution_count": 1348
  },
  {
   "metadata": {
    "ExecuteTime": {
     "end_time": "2025-05-14T00:20:52.862478Z",
     "start_time": "2025-05-14T00:20:52.859116Z"
    }
   },
   "cell_type": "code",
   "source": "result[:10]",
   "id": "9cd39b14315d9409",
   "outputs": [
    {
     "data": {
      "text/plain": [
       "['OK', 'OK', 'OK', 'OK', 'OK', 'OK', 'OK', 'OK', 'OK', 'OK']"
      ]
     },
     "execution_count": 1349,
     "metadata": {},
     "output_type": "execute_result"
    }
   ],
   "execution_count": 1349
  },
  {
   "metadata": {},
   "cell_type": "markdown",
   "source": [
    "### **3. `chain_functions(f1, f2, f3)`**\n",
    "\n",
    "Return a function that applies `f1(f2(f3(x)))`.\n",
    "\n",
    "```python\n",
    "# Example: f = chain_functions(add3, square, halve)\n",
    "# f(2) ➜ add3(square(halve(2)))\n",
    "```"
   ],
   "id": "e9a82b0aedb6a8b9"
  },
  {
   "metadata": {
    "ExecuteTime": {
     "end_time": "2025-05-14T00:20:52.973049Z",
     "start_time": "2025-05-14T00:20:52.970375Z"
    }
   },
   "cell_type": "code",
   "source": [
    "def chain_functions(f1, f2, f3):\n",
    "    return lambda record: f1(f2(f3(record)))"
   ],
   "id": "7607391e4284c5ef",
   "outputs": [],
   "execution_count": 1350
  },
  {
   "metadata": {
    "ExecuteTime": {
     "end_time": "2025-05-14T00:20:53.020316Z",
     "start_time": "2025-05-14T00:20:53.018013Z"
    }
   },
   "cell_type": "code",
   "source": "function1 = lambda x: round(x * 1.5, 1)",
   "id": "3e3e50c3441700a8",
   "outputs": [],
   "execution_count": 1351
  },
  {
   "metadata": {
    "ExecuteTime": {
     "end_time": "2025-05-14T00:20:53.148113Z",
     "start_time": "2025-05-14T00:20:53.145635Z"
    }
   },
   "cell_type": "code",
   "source": "function2 = lambda x: round(x * 2, 2)",
   "id": "71450f886c0fb9c2",
   "outputs": [],
   "execution_count": 1352
  },
  {
   "metadata": {
    "ExecuteTime": {
     "end_time": "2025-05-14T00:20:53.198672Z",
     "start_time": "2025-05-14T00:20:53.196033Z"
    }
   },
   "cell_type": "code",
   "source": "function3 = lambda record: round(record['Phosphorus Content (%)'], 2) if not math.isnan(record['Phosphorus Content (%)']) else 0",
   "id": "fca1b34d49df6447",
   "outputs": [],
   "execution_count": 1353
  },
  {
   "metadata": {
    "ExecuteTime": {
     "end_time": "2025-05-14T00:20:53.275197Z",
     "start_time": "2025-05-14T00:20:53.270888Z"
    }
   },
   "cell_type": "code",
   "source": [
    "chain_func_results = list(map(\n",
    "    chain_functions(function1, function2, function3),\n",
    "    data\n",
    "))"
   ],
   "id": "959a0dba978432e0",
   "outputs": [],
   "execution_count": 1354
  },
  {
   "metadata": {
    "ExecuteTime": {
     "end_time": "2025-05-14T00:20:53.338460Z",
     "start_time": "2025-05-14T00:20:53.335002Z"
    }
   },
   "cell_type": "code",
   "source": "chain_func_results[:5]",
   "id": "ac3be5e20abf9724",
   "outputs": [
    {
     "data": {
      "text/plain": [
       "[26.5, 0.0, 0.0, 0.0, 27.8]"
      ]
     },
     "execution_count": 1355,
     "metadata": {},
     "output_type": "execute_result"
    }
   ],
   "execution_count": 1355
  },
  {
   "metadata": {},
   "cell_type": "markdown",
   "source": [
    "### **4. `batch_apply(funcs, value)`**\n",
    "\n",
    "Takes a list of functions and applies all of them to the same value.\n",
    "\n",
    "```python\n",
    "# Example: batch_apply([square, double, negate], 3) ➜ [9, 6, -3]\n",
    "```\n"
   ],
   "id": "eaceb3c79efe6466"
  },
  {
   "metadata": {
    "ExecuteTime": {
     "end_time": "2025-05-14T00:20:53.402088Z",
     "start_time": "2025-05-14T00:20:53.399349Z"
    }
   },
   "cell_type": "code",
   "source": [
    "def batch_apply(funcs, value):\n",
    "    return [round(func_(value), 2) for func_ in funcs]"
   ],
   "id": "fb9a49a94f0d6b9f",
   "outputs": [],
   "execution_count": 1356
  },
  {
   "metadata": {
    "ExecuteTime": {
     "end_time": "2025-05-14T00:20:53.434295Z",
     "start_time": "2025-05-14T00:20:53.431847Z"
    }
   },
   "cell_type": "code",
   "source": "square = lambda x: x ** 2",
   "id": "9495ac6a9cf6c120",
   "outputs": [],
   "execution_count": 1357
  },
  {
   "metadata": {
    "ExecuteTime": {
     "end_time": "2025-05-14T00:20:53.562849Z",
     "start_time": "2025-05-14T00:20:53.559911Z"
    }
   },
   "cell_type": "code",
   "source": "double = lambda x: x * 2",
   "id": "ae834129dd2d7cd6",
   "outputs": [],
   "execution_count": 1358
  },
  {
   "metadata": {
    "ExecuteTime": {
     "end_time": "2025-05-14T00:20:53.610414Z",
     "start_time": "2025-05-14T00:20:53.607940Z"
    }
   },
   "cell_type": "code",
   "source": "negate = lambda x: x * (-1)",
   "id": "5d6e4541485a8ee7",
   "outputs": [],
   "execution_count": 1359
  },
  {
   "metadata": {
    "ExecuteTime": {
     "end_time": "2025-05-14T00:20:53.711143Z",
     "start_time": "2025-05-14T00:20:53.705316Z"
    }
   },
   "cell_type": "code",
   "source": [
    "batch_list = list(map(\n",
    "    lambda record: batch_apply([square, double, negate], record['Adhesion Strength (MPa)']),\n",
    "    data\n",
    "))"
   ],
   "id": "a7a924e0f92669be",
   "outputs": [],
   "execution_count": 1360
  },
  {
   "metadata": {
    "ExecuteTime": {
     "end_time": "2025-05-14T00:20:53.769123Z",
     "start_time": "2025-05-14T00:20:53.765632Z"
    }
   },
   "cell_type": "code",
   "source": "batch_list[:5]",
   "id": "9ffb28c089cef218",
   "outputs": [
    {
     "data": {
      "text/plain": [
       "[[453.69, 42.6, -21.3],\n",
       " [268.96, 32.8, -16.4],\n",
       " [108.16, 20.8, -10.4],\n",
       " [424.36, 41.2, -20.6],\n",
       " [338.56, 36.8, -18.4]]"
      ]
     },
     "execution_count": 1361,
     "metadata": {},
     "output_type": "execute_result"
    }
   ],
   "execution_count": 1361
  },
  {
   "metadata": {},
   "cell_type": "markdown",
   "source": [
    "### **5. `custom_map(data, transformer)`**\n",
    "\n",
    "Implement your own version of `map()` using a loop.\n",
    "\n",
    "```python\n",
    "# Example: custom_map([1, 2, 3], lambda x: x * 10)\n",
    "```"
   ],
   "id": "72fa9e32780c3b3"
  },
  {
   "metadata": {
    "ExecuteTime": {
     "end_time": "2025-05-14T00:20:53.866265Z",
     "start_time": "2025-05-14T00:20:53.863896Z"
    }
   },
   "cell_type": "code",
   "source": [
    "def custom_map(data_, transform_):\n",
    "    list_ = []\n",
    "    for item in data_:\n",
    "        list_.append(transform_(item))\n",
    "    return list_"
   ],
   "id": "964412268b9873e6",
   "outputs": [],
   "execution_count": 1362
  },
  {
   "metadata": {
    "ExecuteTime": {
     "end_time": "2025-05-14T00:20:53.897976Z",
     "start_time": "2025-05-14T00:20:53.895458Z"
    }
   },
   "cell_type": "code",
   "source": "transformer = lambda x: x",
   "id": "9585afd1a89a89cc",
   "outputs": [],
   "execution_count": 1363
  },
  {
   "metadata": {
    "ExecuteTime": {
     "end_time": "2025-05-14T00:20:53.994145Z",
     "start_time": "2025-05-14T00:20:53.991135Z"
    }
   },
   "cell_type": "code",
   "source": "custom_map_list = custom_map(data, transformer)",
   "id": "7489d1bfe38805ac",
   "outputs": [],
   "execution_count": 1364
  },
  {
   "metadata": {
    "ExecuteTime": {
     "end_time": "2025-05-14T00:20:54.091126Z",
     "start_time": "2025-05-14T00:20:54.087054Z"
    }
   },
   "cell_type": "code",
   "source": "custom_map_list[:5]",
   "id": "f952498eb12fa9d1",
   "outputs": [
    {
     "data": {
      "text/plain": [
       "[{'Date': '2025-01-01',\n",
       "  'Shift': 'Shift 1',\n",
       "  'Batch ID': 'ELP4540',\n",
       "  'Plating Type': 'Electroless Nickel',\n",
       "  'Component Type': 'Heat Sink',\n",
       "  'Machine ID': 'Tank C',\n",
       "  'Bath Temperature (°C)': 91.6,\n",
       "  'pH Level': 4.85,\n",
       "  'Plating Time (min)': 43.5,\n",
       "  'Thickness (μm)': 22.99,\n",
       "  'Adhesion Strength (MPa)': 21.3,\n",
       "  'Phosphorus Content (%)': 8.85,\n",
       "  'Surface Roughness (Ra μm)': 0.5,\n",
       "  'Visual Inspection': 'Blister',\n",
       "  'Corrosion Test': 'Pass',\n",
       "  'Operator ID': 'TECH725',\n",
       "  'Pass/Fail': 'Pass'},\n",
       " {'Date': '2025-01-01',\n",
       "  'Shift': 'Shift 1',\n",
       "  'Batch ID': 'ELP5163',\n",
       "  'Plating Type': 'Electroless Copper',\n",
       "  'Component Type': 'Connector Pins',\n",
       "  'Machine ID': 'Tank B',\n",
       "  'Bath Temperature (°C)': 73.0,\n",
       "  'pH Level': 4.69,\n",
       "  'Plating Time (min)': 79.2,\n",
       "  'Thickness (μm)': 13.95,\n",
       "  'Adhesion Strength (MPa)': 16.4,\n",
       "  'Phosphorus Content (%)': nan,\n",
       "  'Surface Roughness (Ra μm)': 0.65,\n",
       "  'Visual Inspection': 'Pitting',\n",
       "  'Corrosion Test': 'Pass',\n",
       "  'Operator ID': 'TECH179',\n",
       "  'Pass/Fail': 'Pass'},\n",
       " {'Date': '2025-01-01',\n",
       "  'Shift': 'Shift 1',\n",
       "  'Batch ID': 'ELP1013',\n",
       "  'Plating Type': 'Electroless Copper',\n",
       "  'Component Type': 'Gear Housing',\n",
       "  'Machine ID': 'Tank B',\n",
       "  'Bath Temperature (°C)': 63.3,\n",
       "  'pH Level': 4.78,\n",
       "  'Plating Time (min)': 37.2,\n",
       "  'Thickness (μm)': 10.67,\n",
       "  'Adhesion Strength (MPa)': 10.4,\n",
       "  'Phosphorus Content (%)': nan,\n",
       "  'Surface Roughness (Ra μm)': 0.85,\n",
       "  'Visual Inspection': 'Dull Finish',\n",
       "  'Corrosion Test': 'Fail',\n",
       "  'Operator ID': 'TECH699',\n",
       "  'Pass/Fail': 'Fail'},\n",
       " {'Date': '2025-01-01',\n",
       "  'Shift': 'Shift 2',\n",
       "  'Batch ID': 'ELP7804',\n",
       "  'Plating Type': 'Electroless Copper',\n",
       "  'Component Type': 'Gear Housing',\n",
       "  'Machine ID': 'Tank B',\n",
       "  'Bath Temperature (°C)': 71.9,\n",
       "  'pH Level': 4.83,\n",
       "  'Plating Time (min)': 40.1,\n",
       "  'Thickness (μm)': 19.65,\n",
       "  'Adhesion Strength (MPa)': 20.6,\n",
       "  'Phosphorus Content (%)': nan,\n",
       "  'Surface Roughness (Ra μm)': 0.69,\n",
       "  'Visual Inspection': 'Pitting',\n",
       "  'Corrosion Test': 'Fail',\n",
       "  'Operator ID': 'TECH856',\n",
       "  'Pass/Fail': 'Pass'},\n",
       " {'Date': '2025-01-01',\n",
       "  'Shift': 'Shift 2',\n",
       "  'Batch ID': 'ELP3034',\n",
       "  'Plating Type': 'Electroless Nickel',\n",
       "  'Component Type': 'PCB Panel',\n",
       "  'Machine ID': 'Tank A',\n",
       "  'Bath Temperature (°C)': 92.6,\n",
       "  'pH Level': 5.13,\n",
       "  'Plating Time (min)': 70.9,\n",
       "  'Thickness (μm)': 22.33,\n",
       "  'Adhesion Strength (MPa)': 18.4,\n",
       "  'Phosphorus Content (%)': 9.28,\n",
       "  'Surface Roughness (Ra μm)': 0.91,\n",
       "  'Visual Inspection': 'Pitting',\n",
       "  'Corrosion Test': 'Fail',\n",
       "  'Operator ID': 'TECH789',\n",
       "  'Pass/Fail': 'Pass'}]"
      ]
     },
     "execution_count": 1365,
     "metadata": {},
     "output_type": "execute_result"
    }
   ],
   "execution_count": 1365
  },
  {
   "metadata": {},
   "cell_type": "markdown",
   "source": [
    "## B. **Functions That Return Other Functions**\n",
    "\n",
    "### **6. `make_divider(divisor)`**\n",
    "\n",
    "Returns a function that divides any input by `divisor`.\n",
    "\n",
    "```python\n",
    "# f = make_divider(5)\n",
    "# f(25) ➜ 5.0\n",
    "```"
   ],
   "id": "61122f6d30203fc4"
  },
  {
   "metadata": {
    "ExecuteTime": {
     "end_time": "2025-05-14T00:20:54.154139Z",
     "start_time": "2025-05-14T00:20:54.151075Z"
    }
   },
   "cell_type": "code",
   "source": [
    "def make_divider(divisor):\n",
    "    def divider(field):\n",
    "        return lambda record: round(record[field] / divisor, 2)\n",
    "    return divider"
   ],
   "id": "7afa854d3a4cdcb6",
   "outputs": [],
   "execution_count": 1366
  },
  {
   "metadata": {
    "ExecuteTime": {
     "end_time": "2025-05-14T00:20:54.185668Z",
     "start_time": "2025-05-14T00:20:54.183130Z"
    }
   },
   "cell_type": "code",
   "source": "f = make_divider(2)",
   "id": "afea4742de279767",
   "outputs": [],
   "execution_count": 1367
  },
  {
   "metadata": {
    "ExecuteTime": {
     "end_time": "2025-05-14T00:20:54.314502Z",
     "start_time": "2025-05-14T00:20:54.310718Z"
    }
   },
   "cell_type": "code",
   "source": [
    "f_divided_2 = list(map(\n",
    "    f('Thickness (μm)'),\n",
    "    data\n",
    "))"
   ],
   "id": "c53761623019a45b",
   "outputs": [],
   "execution_count": 1368
  },
  {
   "metadata": {
    "ExecuteTime": {
     "end_time": "2025-05-14T00:20:54.378063Z",
     "start_time": "2025-05-14T00:20:54.374749Z"
    }
   },
   "cell_type": "code",
   "source": "f_divided_2[:5]",
   "id": "de11e47a5ffd892f",
   "outputs": [
    {
     "data": {
      "text/plain": [
       "[11.49, 6.97, 5.33, 9.82, 11.16]"
      ]
     },
     "execution_count": 1369,
     "metadata": {},
     "output_type": "execute_result"
    }
   ],
   "execution_count": 1369
  },
  {
   "metadata": {},
   "cell_type": "markdown",
   "source": [
    "### **7. `make_power_func(n)`**\n",
    "\n",
    "Returns a function that raises input to the power of `n`.\n",
    "\n",
    "```python\n",
    "# square = make_power_func(2)\n",
    "# square(4) ➜ 16\n",
    "```"
   ],
   "id": "6946e6d4d735248a"
  },
  {
   "metadata": {
    "ExecuteTime": {
     "end_time": "2025-05-14T00:20:54.466056Z",
     "start_time": "2025-05-14T00:20:54.463883Z"
    }
   },
   "cell_type": "code",
   "source": [
    "def make_power_func(n):\n",
    "    def power(field):\n",
    "        return lambda record: round(record[field] ** n, 2)\n",
    "    return power"
   ],
   "id": "cfe47d6cf58ec305",
   "outputs": [],
   "execution_count": 1370
  },
  {
   "metadata": {
    "ExecuteTime": {
     "end_time": "2025-05-14T00:20:54.497856Z",
     "start_time": "2025-05-14T00:20:54.495320Z"
    }
   },
   "cell_type": "code",
   "source": "power_func = make_power_func(3)",
   "id": "bdf381eae2afdca2",
   "outputs": [],
   "execution_count": 1371
  },
  {
   "metadata": {
    "ExecuteTime": {
     "end_time": "2025-05-14T00:20:54.611502Z",
     "start_time": "2025-05-14T00:20:54.607706Z"
    }
   },
   "cell_type": "code",
   "source": [
    "power_func_list = list(map(\n",
    "    power_func('Surface Roughness (Ra μm)'),\n",
    "    data\n",
    "))"
   ],
   "id": "fbb69d55ab2704f3",
   "outputs": [],
   "execution_count": 1372
  },
  {
   "metadata": {
    "ExecuteTime": {
     "end_time": "2025-05-14T00:20:54.667383Z",
     "start_time": "2025-05-14T00:20:54.663730Z"
    }
   },
   "cell_type": "code",
   "source": "power_func_list[:5]",
   "id": "cd84ec123e8ed1ea",
   "outputs": [
    {
     "data": {
      "text/plain": [
       "[0.12, 0.27, 0.61, 0.33, 0.75]"
      ]
     },
     "execution_count": 1373,
     "metadata": {},
     "output_type": "execute_result"
    }
   ],
   "execution_count": 1373
  },
  {
   "metadata": {},
   "cell_type": "markdown",
   "source": [
    "### **8. `make_filter_func(threshold)`**\n",
    "\n",
    "Returns a function that checks if a number is greater than `threshold`.\n",
    "\n",
    "```python\n",
    "# f = make_filter_func(100)\n",
    "# f(120) ➜ True\n",
    "```\n"
   ],
   "id": "559e92423148420d"
  },
  {
   "metadata": {
    "ExecuteTime": {
     "end_time": "2025-05-14T00:20:54.762138Z",
     "start_time": "2025-05-14T00:20:54.759473Z"
    }
   },
   "cell_type": "code",
   "source": [
    "def make_filter_func(threshold):\n",
    "    def filter_func(field):\n",
    "        return lambda record: record[field] > threshold\n",
    "    return filter_func"
   ],
   "id": "4990bdb923b0a732",
   "outputs": [],
   "execution_count": 1374
  },
  {
   "metadata": {
    "ExecuteTime": {
     "end_time": "2025-05-14T00:20:54.809937Z",
     "start_time": "2025-05-14T00:20:54.807475Z"
    }
   },
   "cell_type": "code",
   "source": "filter_function = make_filter_func(90)",
   "id": "e488f49921e8593b",
   "outputs": [],
   "execution_count": 1375
  },
  {
   "metadata": {
    "ExecuteTime": {
     "end_time": "2025-05-14T00:21:22.730370Z",
     "start_time": "2025-05-14T00:21:22.727013Z"
    }
   },
   "cell_type": "code",
   "source": [
    "filtered_list = list(map(\n",
    "    filter_function('Bath Temperature (°C)'),\n",
    "    data\n",
    "))"
   ],
   "id": "f745da69c5d9e45e",
   "outputs": [],
   "execution_count": 1378
  },
  {
   "metadata": {
    "ExecuteTime": {
     "end_time": "2025-05-14T00:21:23.411895Z",
     "start_time": "2025-05-14T00:21:23.408391Z"
    }
   },
   "cell_type": "code",
   "source": "filtered_list[:5]",
   "id": "834998cc16ee26f0",
   "outputs": [
    {
     "data": {
      "text/plain": [
       "[True, False, False, False, True]"
      ]
     },
     "execution_count": 1379,
     "metadata": {},
     "output_type": "execute_result"
    }
   ],
   "execution_count": 1379
  },
  {
   "metadata": {},
   "cell_type": "markdown",
   "source": [
    "### **9. `compose_all(func_list)`**\n",
    "\n",
    "Returns a function that applies all functions in `func_list` in order.\n",
    "\n",
    "```python\n",
    "# f = compose_all([double, square, add3])\n",
    "# f(2) ➜ add3(square(double(2)))\n",
    "```\n"
   ],
   "id": "267609e8c8d67adf"
  },
  {
   "metadata": {
    "ExecuteTime": {
     "end_time": "2025-05-14T00:34:25.223570Z",
     "start_time": "2025-05-14T00:34:25.220066Z"
    }
   },
   "cell_type": "code",
   "source": [
    "def apply_all(funcs, value):\n",
    "    for func_ in funcs:\n",
    "        value = func_(value)\n",
    "    return value"
   ],
   "id": "b083109779c27cdc",
   "outputs": [],
   "execution_count": 1390
  },
  {
   "metadata": {
    "ExecuteTime": {
     "end_time": "2025-05-14T00:35:10.791430Z",
     "start_time": "2025-05-14T00:35:10.788302Z"
    }
   },
   "cell_type": "code",
   "source": [
    "def compose_all(func_list):\n",
    "    def composed_func(field):\n",
    "        return lambda record: round(\n",
    "            apply_all(func_list, record[field]),\n",
    "            2\n",
    "        )\n",
    "    return composed_func"
   ],
   "id": "326078367782d434",
   "outputs": [],
   "execution_count": 1391
  },
  {
   "metadata": {
    "ExecuteTime": {
     "end_time": "2025-05-14T00:35:11.410894Z",
     "start_time": "2025-05-14T00:35:11.408238Z"
    }
   },
   "cell_type": "code",
   "source": "func1 = lambda x: x * 2",
   "id": "4a11e9dfb98ebc1",
   "outputs": [],
   "execution_count": 1392
  },
  {
   "metadata": {
    "ExecuteTime": {
     "end_time": "2025-05-14T00:35:11.855004Z",
     "start_time": "2025-05-14T00:35:11.852338Z"
    }
   },
   "cell_type": "code",
   "source": "func2 = lambda x: x ** 2",
   "id": "803bbfea8a6ce387",
   "outputs": [],
   "execution_count": 1393
  },
  {
   "metadata": {
    "ExecuteTime": {
     "end_time": "2025-05-14T00:35:12.246857Z",
     "start_time": "2025-05-14T00:35:12.244448Z"
    }
   },
   "cell_type": "code",
   "source": "f = compose_all([func1, func2])",
   "id": "23838d159d739bd0",
   "outputs": [],
   "execution_count": 1394
  },
  {
   "metadata": {
    "ExecuteTime": {
     "end_time": "2025-05-14T00:35:12.793697Z",
     "start_time": "2025-05-14T00:35:12.789673Z"
    }
   },
   "cell_type": "code",
   "source": [
    "composed_func_list = list(map(\n",
    "    f('Bath Temperature (°C)'),\n",
    "    data\n",
    "))"
   ],
   "id": "c69a13f25e301c2c",
   "outputs": [],
   "execution_count": 1395
  },
  {
   "metadata": {
    "ExecuteTime": {
     "end_time": "2025-05-14T00:35:17.227530Z",
     "start_time": "2025-05-14T00:35:17.223942Z"
    }
   },
   "cell_type": "code",
   "source": "composed_func_list[:5]",
   "id": "ef1beebc1c627343",
   "outputs": [
    {
     "data": {
      "text/plain": [
       "[33562.24, 21316.0, 16027.56, 20678.44, 34299.04]"
      ]
     },
     "execution_count": 1396,
     "metadata": {},
     "output_type": "execute_result"
    }
   ],
   "execution_count": 1396
  },
  {
   "metadata": {},
   "cell_type": "markdown",
   "source": [
    "### **10. `make_record_checker(field, op_func, value)`**\n",
    "\n",
    "Returns a function that checks if `record[field]` satisfies `op_func(..., value)`.\n",
    "\n",
    "```python\n",
    "# f = make_record_checker('pH', operator.gt, 4.9)\n",
    "# f({'pH': 5.0}) ➜ True\n",
    "```"
   ],
   "id": "aad24b4451fe4dd3"
  },
  {
   "metadata": {
    "ExecuteTime": {
     "end_time": "2025-05-14T01:00:15.904573Z",
     "start_time": "2025-05-14T01:00:15.898883Z"
    }
   },
   "cell_type": "code",
   "source": "pH_data = [{'pH Level': record['pH Level']} for record in data]",
   "id": "602069887a4c0a5e",
   "outputs": [],
   "execution_count": 1435
  },
  {
   "metadata": {
    "ExecuteTime": {
     "end_time": "2025-05-14T01:00:18.923Z",
     "start_time": "2025-05-14T01:00:18.919271Z"
    }
   },
   "cell_type": "code",
   "source": "pH_data[:5]",
   "id": "dd44bab3581dc2e",
   "outputs": [
    {
     "data": {
      "text/plain": [
       "[{'pH Level': 4.85},\n",
       " {'pH Level': 4.69},\n",
       " {'pH Level': 4.78},\n",
       " {'pH Level': 4.83},\n",
       " {'pH Level': 5.13}]"
      ]
     },
     "execution_count": 1436,
     "metadata": {},
     "output_type": "execute_result"
    }
   ],
   "execution_count": 1436
  },
  {
   "metadata": {
    "ExecuteTime": {
     "end_time": "2025-05-14T01:00:23.358820Z",
     "start_time": "2025-05-14T01:00:23.356277Z"
    }
   },
   "cell_type": "code",
   "source": [
    "def make_record_checker(field, op_function, value):\n",
    "    return lambda record: op_function(record[field], value)"
   ],
   "id": "b5f9aa5089bf3f5b",
   "outputs": [],
   "execution_count": 1437
  },
  {
   "metadata": {
    "ExecuteTime": {
     "end_time": "2025-05-14T01:00:23.985495Z",
     "start_time": "2025-05-14T01:00:23.982668Z"
    }
   },
   "cell_type": "code",
   "source": "f = make_record_checker('pH Level', operator.gt, 4.9)",
   "id": "c69c09f69c501cc8",
   "outputs": [],
   "execution_count": 1438
  },
  {
   "metadata": {
    "ExecuteTime": {
     "end_time": "2025-05-14T01:00:59.981883Z",
     "start_time": "2025-05-14T01:00:59.978869Z"
    }
   },
   "cell_type": "code",
   "source": [
    "filtered = list(filter(\n",
    "    f,\n",
    "    pH_data\n",
    "))"
   ],
   "id": "d18ad71261b68012",
   "outputs": [],
   "execution_count": 1441
  },
  {
   "metadata": {
    "ExecuteTime": {
     "end_time": "2025-05-14T01:01:00.555627Z",
     "start_time": "2025-05-14T01:01:00.552327Z"
    }
   },
   "cell_type": "code",
   "source": "filtered[:5]",
   "id": "bbe6a5b58304ad96",
   "outputs": [
    {
     "data": {
      "text/plain": [
       "[{'pH Level': 5.13},\n",
       " {'pH Level': 5.27},\n",
       " {'pH Level': 5.27},\n",
       " {'pH Level': 5.49},\n",
       " {'pH Level': 5.32}]"
      ]
     },
     "execution_count": 1442,
     "metadata": {},
     "output_type": "execute_result"
    }
   ],
   "execution_count": 1442
  },
  {
   "metadata": {},
   "cell_type": "code",
   "outputs": [],
   "execution_count": null,
   "source": "",
   "id": "363d62fcfa37cad0"
  }
 ],
 "metadata": {
  "kernelspec": {
   "display_name": "Python 3",
   "language": "python",
   "name": "python3"
  },
  "language_info": {
   "codemirror_mode": {
    "name": "ipython",
    "version": 2
   },
   "file_extension": ".py",
   "mimetype": "text/x-python",
   "name": "python",
   "nbconvert_exporter": "python",
   "pygments_lexer": "ipython2",
   "version": "2.7.6"
  }
 },
 "nbformat": 4,
 "nbformat_minor": 5
}
