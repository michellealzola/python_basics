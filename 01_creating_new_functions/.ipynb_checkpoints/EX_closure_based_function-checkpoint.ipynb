{
 "cells": [
  {
   "metadata": {},
   "cell_type": "markdown",
   "source": [
    "# Closure-based Functions\n",
    "\n",
    "### Code Recap\n",
    "\n",
    "```python\n",
    "def make_multiplier(n):\n",
    "    def multiplier(x):\n",
    "        return x * n\n",
    "    return multiplier\n",
    "\n",
    "times3 = make_multiplier(3)\n",
    "print(times3(10))  # Output: 30\n",
    "```\n",
    "\n",
    "\n",
    "\n",
    "### Step-by-Step Explanation\n",
    "\n",
    "#### 1. **Defining `make_multiplier(n)`**\n",
    "\n",
    "You define a function `make_multiplier` that takes a parameter `n`.\n",
    "Inside this function, you define another function called `multiplier(x)`.\n",
    "\n",
    "```python\n",
    "def make_multiplier(n):\n",
    "    def multiplier(x):\n",
    "        return x * n\n",
    "```\n",
    "\n",
    "* `multiplier` is a **nested function** — it can access the variable `n` from the enclosing scope.\n",
    "\n",
    "#### 2. **Returning a Function**\n",
    "\n",
    "```pythonreturn multiplier\n",
    "```\n",
    "\n",
    "You're returning the inner `multiplier` function itself — **not calling it**, just returning it as an object.\n",
    "\n",
    "This returned function still **remembers the value of `n`** (this is called a **closure**).\n",
    "\n",
    "#### 3. **Calling `make_multiplier(3)`**\n",
    "\n",
    "```python\n",
    "times3 = make_multiplier(3)\n",
    "```\n",
    "\n",
    "* Now, `times3` holds the returned `multiplier` function where `n = 3`.\n",
    "* It’s **like saying**:\n",
    "\n",
    "  ```python\n",
    "  def times3(x):\n",
    "      return x * 3\n",
    "  ```\n",
    "\n",
    "#### 4. **Using the Returned Function**\n",
    "\n",
    "```python\n",
    "print(times3(10))  # Output: 30\n",
    "```\n",
    "\n",
    "* This calls the inner function: `10 * 3`, which returns `30`.\n",
    "\n",
    "\n",
    "### Summary of Key Concepts\n",
    "\n",
    "| Concept                   | Description                                                                |\n",
    "| ------------------------- | -------------------------------------------------------------------------- |\n",
    "| **Nested Function**       | A function defined inside another function                                 |\n",
    "| **Closure**               | The returned function “remembers” the value of `n`                         |\n",
    "| **Higher-order Function** | `make_multiplier()` returns a function (which is itself a function object) |\n",
    "\n"
   ],
   "id": "ace47f817a58e763"
  },
  {
   "metadata": {},
   "cell_type": "markdown",
   "source": [
    "### **Exercise 1: Add a Constant**\n",
    "\n",
    "**Task:**\n",
    "Write a function `make_adder(n)` that returns another function which adds `n` to its argument.\n",
    "\n",
    "**Example:**\n",
    "\n",
    "```python\n",
    "add10 = make_adder(10)\n",
    "print(add10(5))   # Output: 15\n",
    "print(add10(20))  # Output: 30\n",
    "```"
   ],
   "id": "a45634ff568bdbeb"
  },
  {
   "metadata": {
    "ExecuteTime": {
     "end_time": "2025-05-11T18:31:37.395097Z",
     "start_time": "2025-05-11T18:31:37.392546Z"
    }
   },
   "cell_type": "code",
   "source": [
    "def make_adder(n):\n",
    "    def adder(x):\n",
    "        return x + n\n",
    "    return adder"
   ],
   "id": "d73f031f8619a740",
   "outputs": [],
   "execution_count": 37
  },
  {
   "metadata": {
    "ExecuteTime": {
     "end_time": "2025-05-11T18:31:37.427931Z",
     "start_time": "2025-05-11T18:31:37.425458Z"
    }
   },
   "cell_type": "code",
   "source": "add10 = make_adder(10)",
   "id": "e432970c62a56644",
   "outputs": [],
   "execution_count": 38
  },
  {
   "metadata": {
    "ExecuteTime": {
     "end_time": "2025-05-11T18:31:37.432902Z",
     "start_time": "2025-05-11T18:31:37.429821Z"
    }
   },
   "cell_type": "code",
   "source": "add10(5)",
   "id": "bb27566dd0fb32eb",
   "outputs": [
    {
     "data": {
      "text/plain": [
       "15"
      ]
     },
     "execution_count": 39,
     "metadata": {},
     "output_type": "execute_result"
    }
   ],
   "execution_count": 39
  },
  {
   "metadata": {
    "ExecuteTime": {
     "end_time": "2025-05-11T18:31:37.436315Z",
     "start_time": "2025-05-11T18:31:37.433677Z"
    }
   },
   "cell_type": "code",
   "source": "add10(20)",
   "id": "2df6a7dddecd1c88",
   "outputs": [
    {
     "data": {
      "text/plain": [
       "30"
      ]
     },
     "execution_count": 40,
     "metadata": {},
     "output_type": "execute_result"
    }
   ],
   "execution_count": 40
  },
  {
   "metadata": {},
   "cell_type": "markdown",
   "source": [
    "### **Exercise 2: Custom Power Function**\n",
    "\n",
    "**Task:**\n",
    "Create a function `make_power(base)` that returns a function to raise a number to that base.\n",
    "\n",
    "**Example:**\n",
    "\n",
    "```python\n",
    "square = make_power(2)\n",
    "print(square(5))  # Output: 25\n",
    "\n",
    "cube = make_power(3)\n",
    "print(cube(2))    # Output: 8\n",
    "```"
   ],
   "id": "503648922c0e9c0a"
  },
  {
   "metadata": {
    "ExecuteTime": {
     "end_time": "2025-05-11T18:31:37.441311Z",
     "start_time": "2025-05-11T18:31:37.438907Z"
    }
   },
   "cell_type": "code",
   "source": [
    "def make_power(base):\n",
    "    def power(x):\n",
    "        return x**base\n",
    "    return power"
   ],
   "id": "babed831c4c64bd9",
   "outputs": [],
   "execution_count": 41
  },
  {
   "metadata": {
    "ExecuteTime": {
     "end_time": "2025-05-11T18:31:37.450234Z",
     "start_time": "2025-05-11T18:31:37.447913Z"
    }
   },
   "cell_type": "code",
   "source": "square = make_power(2)",
   "id": "a712032bf909a245",
   "outputs": [],
   "execution_count": 42
  },
  {
   "metadata": {
    "ExecuteTime": {
     "end_time": "2025-05-11T18:31:37.459149Z",
     "start_time": "2025-05-11T18:31:37.456142Z"
    }
   },
   "cell_type": "code",
   "source": "square(5)",
   "id": "a63ce37a71f72a4a",
   "outputs": [
    {
     "data": {
      "text/plain": [
       "25"
      ]
     },
     "execution_count": 43,
     "metadata": {},
     "output_type": "execute_result"
    }
   ],
   "execution_count": 43
  },
  {
   "metadata": {
    "ExecuteTime": {
     "end_time": "2025-05-11T18:31:37.476585Z",
     "start_time": "2025-05-11T18:31:37.474403Z"
    }
   },
   "cell_type": "code",
   "source": "cube = make_power(3)",
   "id": "6485e03a0f2db279",
   "outputs": [],
   "execution_count": 44
  },
  {
   "metadata": {
    "ExecuteTime": {
     "end_time": "2025-05-11T18:31:37.480495Z",
     "start_time": "2025-05-11T18:31:37.477843Z"
    }
   },
   "cell_type": "code",
   "source": "cube(2)",
   "id": "d47cb0f471a04147",
   "outputs": [
    {
     "data": {
      "text/plain": [
       "8"
      ]
     },
     "execution_count": 45,
     "metadata": {},
     "output_type": "execute_result"
    }
   ],
   "execution_count": 45
  },
  {
   "metadata": {},
   "cell_type": "markdown",
   "source": [
    "### **Exercise 3: Discount Calculator**\n",
    "\n",
    "**Task:**\n",
    "Write a function `make_discount(discount_percent)` that returns a function to apply that discount to a price.\n",
    "\n",
    "**Example:**\n",
    "\n",
    "```python\n",
    "ten_percent_off = make_discount(10)\n",
    "print(ten_percent_off(100))  # Output: 90.0\n",
    "```\n",
    "\n",
    "*Hint:* Apply `discount_percent` as `price - (price * discount_percent / 100)`"
   ],
   "id": "e88466ad64fcce0"
  },
  {
   "metadata": {
    "ExecuteTime": {
     "end_time": "2025-05-11T18:31:37.488544Z",
     "start_time": "2025-05-11T18:31:37.485887Z"
    }
   },
   "cell_type": "code",
   "source": [
    "def make_discount(discount_percent):\n",
    "    def discount(x):\n",
    "        return x - (x * discount_percent) / 100\n",
    "    return discount"
   ],
   "id": "fdc9b4826200eeef",
   "outputs": [],
   "execution_count": 46
  },
  {
   "metadata": {
    "ExecuteTime": {
     "end_time": "2025-05-11T18:31:37.497707Z",
     "start_time": "2025-05-11T18:31:37.495069Z"
    }
   },
   "cell_type": "code",
   "source": "ten_percent_off = make_discount(10)",
   "id": "82f8dbe1d5e660e4",
   "outputs": [],
   "execution_count": 47
  },
  {
   "metadata": {
    "ExecuteTime": {
     "end_time": "2025-05-11T18:31:37.506140Z",
     "start_time": "2025-05-11T18:31:37.503354Z"
    }
   },
   "cell_type": "code",
   "source": "ten_percent_off(100)",
   "id": "c727f758366cd978",
   "outputs": [
    {
     "data": {
      "text/plain": [
       "90.0"
      ]
     },
     "execution_count": 48,
     "metadata": {},
     "output_type": "execute_result"
    }
   ],
   "execution_count": 48
  },
  {
   "metadata": {},
   "cell_type": "markdown",
   "source": [
    "### **Exercise 4: Tag Wrapper**\n",
    "\n",
    "**Task:**\n",
    "Write a function `html_tag(tag)` that returns a function to wrap text in that HTML tag.\n",
    "\n",
    "**Example:**\n",
    "\n",
    "```python\n",
    "h1 = html_tag(\"h1\")\n",
    "print(h1(\"Hello\"))  # Output: <h1>Hello</h1>\n",
    "```"
   ],
   "id": "9ef23a1727ebe819"
  },
  {
   "metadata": {
    "ExecuteTime": {
     "end_time": "2025-05-11T18:31:37.522631Z",
     "start_time": "2025-05-11T18:31:37.520405Z"
    }
   },
   "cell_type": "code",
   "source": [
    "def html_tag(tag):\n",
    "    def tag_(x):\n",
    "        return f'<{tag}>{x}</{tag}>'\n",
    "    return tag_"
   ],
   "id": "e77166eec0d9ed4e",
   "outputs": [],
   "execution_count": 49
  },
  {
   "metadata": {
    "ExecuteTime": {
     "end_time": "2025-05-11T18:31:37.526726Z",
     "start_time": "2025-05-11T18:31:37.524195Z"
    }
   },
   "cell_type": "code",
   "source": "h1 = html_tag('h1')",
   "id": "9b27fa203464f8ba",
   "outputs": [],
   "execution_count": 50
  },
  {
   "metadata": {
    "ExecuteTime": {
     "end_time": "2025-05-11T18:31:37.530717Z",
     "start_time": "2025-05-11T18:31:37.527933Z"
    }
   },
   "cell_type": "code",
   "source": "h1('Hello')",
   "id": "3877bd32cecbee57",
   "outputs": [
    {
     "data": {
      "text/plain": [
       "'<h1>Hello</h1>'"
      ]
     },
     "execution_count": 51,
     "metadata": {},
     "output_type": "execute_result"
    }
   ],
   "execution_count": 51
  },
  {
   "metadata": {},
   "cell_type": "markdown",
   "source": [
    "### **Exercise 5: Temperature Converter Factory**\n",
    "\n",
    "**Task:**\n",
    "Write a function `make_converter(from_unit)` that returns a converter function. The returned function should convert Celsius to Fahrenheit **if** `from_unit` is `\"C\"`, or Fahrenheit to Celsius if `\"F\"`.\n",
    "\n",
    "**Example:**\n",
    "\n",
    "```python\n",
    "c_to_f = make_converter(\"C\")\n",
    "print(c_to_f(0))   # Output: 32.0\n",
    "\n",
    "f_to_c = make_converter(\"F\")\n",
    "print(f_to_c(98.6)) # Output: 37.0\n",
    "```\n",
    "\n",
    "*Formula:*\n",
    "\n",
    "* °F = °C × 9/5 + 32\n",
    "* °C = (°F − 32) × 5/9\n"
   ],
   "id": "9c9024acb93a052a"
  },
  {
   "metadata": {
    "ExecuteTime": {
     "end_time": "2025-05-11T18:35:42.164074Z",
     "start_time": "2025-05-11T18:35:42.161302Z"
    }
   },
   "cell_type": "code",
   "source": [
    "def make_converter(from_unit):\n",
    "    def converter(x):\n",
    "        if from_unit.str.toLowerCase() == 'c':\n",
    "            return x * 9/5 + 32\n",
    "        elif from_unit.str.toLowerCase() == 'f':\n",
    "            return (x - 32) * 5/9\n",
    "        else:\n",
    "            print('Wrong unit entered.')\n",
    "        return converter\n",
    "        "
   ],
   "id": "9f45238896de639e",
   "outputs": [],
   "execution_count": 52
  },
  {
   "metadata": {
    "ExecuteTime": {
     "end_time": "2025-05-11T18:36:06.969818Z",
     "start_time": "2025-05-11T18:36:06.967604Z"
    }
   },
   "cell_type": "code",
   "source": "c_to_f = make_converter('C')",
   "id": "a12b12ab66467a06",
   "outputs": [],
   "execution_count": 53
  },
  {
   "metadata": {
    "ExecuteTime": {
     "end_time": "2025-05-11T18:36:13.821314Z",
     "start_time": "2025-05-11T18:36:13.806313Z"
    }
   },
   "cell_type": "code",
   "source": "c_to_f(0)",
   "id": "e629a95898911949",
   "outputs": [
    {
     "ename": "TypeError",
     "evalue": "'NoneType' object is not callable",
     "output_type": "error",
     "traceback": [
      "\u001B[31m---------------------------------------------------------------------------\u001B[39m",
      "\u001B[31mTypeError\u001B[39m                                 Traceback (most recent call last)",
      "\u001B[36mCell\u001B[39m\u001B[36m \u001B[39m\u001B[32mIn[54]\u001B[39m\u001B[32m, line 1\u001B[39m\n\u001B[32m----> \u001B[39m\u001B[32m1\u001B[39m \u001B[43mc_to_f\u001B[49m\u001B[43m(\u001B[49m\u001B[32;43m0\u001B[39;49m\u001B[43m)\u001B[49m\n",
      "\u001B[31mTypeError\u001B[39m: 'NoneType' object is not callable"
     ]
    }
   ],
   "execution_count": 54
  },
  {
   "metadata": {},
   "cell_type": "code",
   "outputs": [],
   "execution_count": null,
   "source": "",
   "id": "ef448429fb7ab0a0"
  }
 ],
 "metadata": {
  "kernelspec": {
   "display_name": "Python 3",
   "language": "python",
   "name": "python3"
  },
  "language_info": {
   "codemirror_mode": {
    "name": "ipython",
    "version": 2
   },
   "file_extension": ".py",
   "mimetype": "text/x-python",
   "name": "python",
   "nbconvert_exporter": "python",
   "pygments_lexer": "ipython2",
   "version": "2.7.6"
  }
 },
 "nbformat": 4,
 "nbformat_minor": 5
}
