{
 "cells": [
  {
   "cell_type": "code",
   "id": "initial_id",
   "metadata": {
    "collapsed": true,
    "ExecuteTime": {
     "end_time": "2025-05-22T15:30:30.394002Z",
     "start_time": "2025-05-22T15:30:30.391480Z"
    }
   },
   "source": [
    "from collections import ChainMap\n",
    "import pandas as pd\n",
    "import numpy as np"
   ],
   "outputs": [],
   "execution_count": 199
  },
  {
   "metadata": {
    "ExecuteTime": {
     "end_time": "2025-05-22T15:30:30.623608Z",
     "start_time": "2025-05-22T15:30:30.619104Z"
    }
   },
   "cell_type": "code",
   "source": "data = pd.read_csv('solar_panel_assembly_expanded_dataset.csv', encoding='utf-8')",
   "id": "fc250e494501273b",
   "outputs": [],
   "execution_count": 200
  },
  {
   "metadata": {
    "ExecuteTime": {
     "end_time": "2025-05-22T15:30:30.643731Z",
     "start_time": "2025-05-22T15:30:30.641273Z"
    }
   },
   "cell_type": "code",
   "source": "df = pd.DataFrame(data)",
   "id": "9c3e17e12657c3b2",
   "outputs": [],
   "execution_count": 201
  },
  {
   "metadata": {
    "ExecuteTime": {
     "end_time": "2025-05-22T15:30:30.692738Z",
     "start_time": "2025-05-22T15:30:30.689013Z"
    }
   },
   "cell_type": "code",
   "source": "df.columns",
   "id": "ee0ab5ba638635f4",
   "outputs": [
    {
     "data": {
      "text/plain": [
       "Index(['Date', 'Shift', 'Panel Serial No.', 'Panel Type', 'Assembly Line',\n",
       "       'Cycle Time (s)', 'Number of Cells', 'Cell Alignment Deviation (mm)',\n",
       "       'Glass Thickness (mm)', 'Junction Box Attached', 'Power Output (W)',\n",
       "       'Efficiency (%)', 'Insulation Resistance (MΩ)', 'Flash Test Result',\n",
       "       'Visual Inspection', 'Operator ID', 'Final Inspection'],\n",
       "      dtype='object')"
      ]
     },
     "execution_count": 202,
     "metadata": {},
     "output_type": "execute_result"
    }
   ],
   "execution_count": 202
  },
  {
   "metadata": {
    "ExecuteTime": {
     "end_time": "2025-05-22T15:30:30.730288Z",
     "start_time": "2025-05-22T15:30:30.720920Z"
    }
   },
   "cell_type": "code",
   "source": "df.head(5)",
   "id": "43f5e3b9c93f56c5",
   "outputs": [
    {
     "data": {
      "text/plain": [
       "         Date    Shift Panel Serial No.       Panel Type Assembly Line  \\\n",
       "0  2025-04-21  Shift 1         SP819428  Polycrystalline        Line 1   \n",
       "1  2025-04-08  Shift 1         SP736702        Thin-Film        Line 3   \n",
       "2  2025-04-04  Shift 1         SP352954  Polycrystalline        Line 3   \n",
       "3  2025-04-17  Shift 2         SP725540  Polycrystalline        Line 1   \n",
       "4  2025-04-07  Shift 1         SP189001  Monocrystalline        Line 3   \n",
       "\n",
       "   Cycle Time (s)  Number of Cells  Cell Alignment Deviation (mm)  \\\n",
       "0          1005.9               72                           0.17   \n",
       "1           980.8               60                           0.24   \n",
       "2           887.4               60                           0.37   \n",
       "3           760.8               72                           0.14   \n",
       "4          1098.1               72                           0.27   \n",
       "\n",
       "   Glass Thickness (mm) Junction Box Attached  Power Output (W)  \\\n",
       "0                   3.9                    No             358.3   \n",
       "1                   3.1                    No             312.5   \n",
       "2                   3.3                    No             383.7   \n",
       "3                   3.3                   Yes             350.4   \n",
       "4                   3.7                   Yes             283.9   \n",
       "\n",
       "   Efficiency (%)  Insulation Resistance (MΩ) Flash Test Result  \\\n",
       "0           18.03                       604.6              Fail   \n",
       "1           19.62                       990.1              Pass   \n",
       "2           17.21                       227.8              Pass   \n",
       "3           20.30                       619.7              Pass   \n",
       "4           21.30                       707.5              Fail   \n",
       "\n",
       "  Visual Inspection Operator ID Final Inspection  \n",
       "0             Crack      EMP193             Pass  \n",
       "1           Scratch      EMP193             Pass  \n",
       "2             Crack      EMP193             Pass  \n",
       "3           Scratch      EMP193             Pass  \n",
       "4              Pass      EMP193             Pass  "
      ],
      "text/html": [
       "<div>\n",
       "<style scoped>\n",
       "    .dataframe tbody tr th:only-of-type {\n",
       "        vertical-align: middle;\n",
       "    }\n",
       "\n",
       "    .dataframe tbody tr th {\n",
       "        vertical-align: top;\n",
       "    }\n",
       "\n",
       "    .dataframe thead th {\n",
       "        text-align: right;\n",
       "    }\n",
       "</style>\n",
       "<table border=\"1\" class=\"dataframe\">\n",
       "  <thead>\n",
       "    <tr style=\"text-align: right;\">\n",
       "      <th></th>\n",
       "      <th>Date</th>\n",
       "      <th>Shift</th>\n",
       "      <th>Panel Serial No.</th>\n",
       "      <th>Panel Type</th>\n",
       "      <th>Assembly Line</th>\n",
       "      <th>Cycle Time (s)</th>\n",
       "      <th>Number of Cells</th>\n",
       "      <th>Cell Alignment Deviation (mm)</th>\n",
       "      <th>Glass Thickness (mm)</th>\n",
       "      <th>Junction Box Attached</th>\n",
       "      <th>Power Output (W)</th>\n",
       "      <th>Efficiency (%)</th>\n",
       "      <th>Insulation Resistance (MΩ)</th>\n",
       "      <th>Flash Test Result</th>\n",
       "      <th>Visual Inspection</th>\n",
       "      <th>Operator ID</th>\n",
       "      <th>Final Inspection</th>\n",
       "    </tr>\n",
       "  </thead>\n",
       "  <tbody>\n",
       "    <tr>\n",
       "      <th>0</th>\n",
       "      <td>2025-04-21</td>\n",
       "      <td>Shift 1</td>\n",
       "      <td>SP819428</td>\n",
       "      <td>Polycrystalline</td>\n",
       "      <td>Line 1</td>\n",
       "      <td>1005.9</td>\n",
       "      <td>72</td>\n",
       "      <td>0.17</td>\n",
       "      <td>3.9</td>\n",
       "      <td>No</td>\n",
       "      <td>358.3</td>\n",
       "      <td>18.03</td>\n",
       "      <td>604.6</td>\n",
       "      <td>Fail</td>\n",
       "      <td>Crack</td>\n",
       "      <td>EMP193</td>\n",
       "      <td>Pass</td>\n",
       "    </tr>\n",
       "    <tr>\n",
       "      <th>1</th>\n",
       "      <td>2025-04-08</td>\n",
       "      <td>Shift 1</td>\n",
       "      <td>SP736702</td>\n",
       "      <td>Thin-Film</td>\n",
       "      <td>Line 3</td>\n",
       "      <td>980.8</td>\n",
       "      <td>60</td>\n",
       "      <td>0.24</td>\n",
       "      <td>3.1</td>\n",
       "      <td>No</td>\n",
       "      <td>312.5</td>\n",
       "      <td>19.62</td>\n",
       "      <td>990.1</td>\n",
       "      <td>Pass</td>\n",
       "      <td>Scratch</td>\n",
       "      <td>EMP193</td>\n",
       "      <td>Pass</td>\n",
       "    </tr>\n",
       "    <tr>\n",
       "      <th>2</th>\n",
       "      <td>2025-04-04</td>\n",
       "      <td>Shift 1</td>\n",
       "      <td>SP352954</td>\n",
       "      <td>Polycrystalline</td>\n",
       "      <td>Line 3</td>\n",
       "      <td>887.4</td>\n",
       "      <td>60</td>\n",
       "      <td>0.37</td>\n",
       "      <td>3.3</td>\n",
       "      <td>No</td>\n",
       "      <td>383.7</td>\n",
       "      <td>17.21</td>\n",
       "      <td>227.8</td>\n",
       "      <td>Pass</td>\n",
       "      <td>Crack</td>\n",
       "      <td>EMP193</td>\n",
       "      <td>Pass</td>\n",
       "    </tr>\n",
       "    <tr>\n",
       "      <th>3</th>\n",
       "      <td>2025-04-17</td>\n",
       "      <td>Shift 2</td>\n",
       "      <td>SP725540</td>\n",
       "      <td>Polycrystalline</td>\n",
       "      <td>Line 1</td>\n",
       "      <td>760.8</td>\n",
       "      <td>72</td>\n",
       "      <td>0.14</td>\n",
       "      <td>3.3</td>\n",
       "      <td>Yes</td>\n",
       "      <td>350.4</td>\n",
       "      <td>20.30</td>\n",
       "      <td>619.7</td>\n",
       "      <td>Pass</td>\n",
       "      <td>Scratch</td>\n",
       "      <td>EMP193</td>\n",
       "      <td>Pass</td>\n",
       "    </tr>\n",
       "    <tr>\n",
       "      <th>4</th>\n",
       "      <td>2025-04-07</td>\n",
       "      <td>Shift 1</td>\n",
       "      <td>SP189001</td>\n",
       "      <td>Monocrystalline</td>\n",
       "      <td>Line 3</td>\n",
       "      <td>1098.1</td>\n",
       "      <td>72</td>\n",
       "      <td>0.27</td>\n",
       "      <td>3.7</td>\n",
       "      <td>Yes</td>\n",
       "      <td>283.9</td>\n",
       "      <td>21.30</td>\n",
       "      <td>707.5</td>\n",
       "      <td>Fail</td>\n",
       "      <td>Pass</td>\n",
       "      <td>EMP193</td>\n",
       "      <td>Pass</td>\n",
       "    </tr>\n",
       "  </tbody>\n",
       "</table>\n",
       "</div>"
      ]
     },
     "execution_count": 203,
     "metadata": {},
     "output_type": "execute_result"
    }
   ],
   "execution_count": 203
  },
  {
   "metadata": {},
   "cell_type": "markdown",
   "source": [
    "# ChainMap-Based Exercises Using the Dataset\n",
    "\n",
    "### **Exercise 1: Effective Assembly Configuration**\n",
    "\n",
    "**Goal:**\n",
    "For each unique `Panel Type`, create a fallback configuration using three layers:\n",
    "\n",
    "1. `live_settings` (incomplete)\n",
    "2. `cached_settings` (older complete config)\n",
    "3. `defaults` (known good values)\n",
    "\n",
    "**Problem:**\n",
    "Simulate retrieving the effective configuration for `Polycrystalline` panels, including:\n",
    "\n",
    "* `Glass Thickness (mm)`\n",
    "* `Number of Cells`\n",
    "* `Cell Alignment Deviation (mm)`\n",
    "\n",
    "**Expected Output Example:**\n",
    "\n",
    "```\n",
    "Effective Polycrystalline Config ➜ {'Glass Thickness (mm)': 3.3, 'Number of Cells': 72, 'Cell Alignment Deviation (mm)': 0.27}\n",
    "```"
   ],
   "id": "f5a1c3f4b862106"
  },
  {
   "metadata": {
    "ExecuteTime": {
     "end_time": "2025-05-22T15:30:30.742609Z",
     "start_time": "2025-05-22T15:30:30.739816Z"
    }
   },
   "cell_type": "code",
   "source": [
    "# filter rows for `Polycrystalline` panels\n",
    "polycrystalline_df = df[df['Panel Type'] == 'Polycrystalline']"
   ],
   "id": "19f3484d137d9d1d",
   "outputs": [],
   "execution_count": 204
  },
  {
   "metadata": {
    "ExecuteTime": {
     "end_time": "2025-05-22T15:30:30.783610Z",
     "start_time": "2025-05-22T15:30:30.775506Z"
    }
   },
   "cell_type": "code",
   "source": "polycrystalline_df.head(3)",
   "id": "26dcd609046986dd",
   "outputs": [
    {
     "data": {
      "text/plain": [
       "         Date    Shift Panel Serial No.       Panel Type Assembly Line  \\\n",
       "0  2025-04-21  Shift 1         SP819428  Polycrystalline        Line 1   \n",
       "2  2025-04-04  Shift 1         SP352954  Polycrystalline        Line 3   \n",
       "3  2025-04-17  Shift 2         SP725540  Polycrystalline        Line 1   \n",
       "\n",
       "   Cycle Time (s)  Number of Cells  Cell Alignment Deviation (mm)  \\\n",
       "0          1005.9               72                           0.17   \n",
       "2           887.4               60                           0.37   \n",
       "3           760.8               72                           0.14   \n",
       "\n",
       "   Glass Thickness (mm) Junction Box Attached  Power Output (W)  \\\n",
       "0                   3.9                    No             358.3   \n",
       "2                   3.3                    No             383.7   \n",
       "3                   3.3                   Yes             350.4   \n",
       "\n",
       "   Efficiency (%)  Insulation Resistance (MΩ) Flash Test Result  \\\n",
       "0           18.03                       604.6              Fail   \n",
       "2           17.21                       227.8              Pass   \n",
       "3           20.30                       619.7              Pass   \n",
       "\n",
       "  Visual Inspection Operator ID Final Inspection  \n",
       "0             Crack      EMP193             Pass  \n",
       "2             Crack      EMP193             Pass  \n",
       "3           Scratch      EMP193             Pass  "
      ],
      "text/html": [
       "<div>\n",
       "<style scoped>\n",
       "    .dataframe tbody tr th:only-of-type {\n",
       "        vertical-align: middle;\n",
       "    }\n",
       "\n",
       "    .dataframe tbody tr th {\n",
       "        vertical-align: top;\n",
       "    }\n",
       "\n",
       "    .dataframe thead th {\n",
       "        text-align: right;\n",
       "    }\n",
       "</style>\n",
       "<table border=\"1\" class=\"dataframe\">\n",
       "  <thead>\n",
       "    <tr style=\"text-align: right;\">\n",
       "      <th></th>\n",
       "      <th>Date</th>\n",
       "      <th>Shift</th>\n",
       "      <th>Panel Serial No.</th>\n",
       "      <th>Panel Type</th>\n",
       "      <th>Assembly Line</th>\n",
       "      <th>Cycle Time (s)</th>\n",
       "      <th>Number of Cells</th>\n",
       "      <th>Cell Alignment Deviation (mm)</th>\n",
       "      <th>Glass Thickness (mm)</th>\n",
       "      <th>Junction Box Attached</th>\n",
       "      <th>Power Output (W)</th>\n",
       "      <th>Efficiency (%)</th>\n",
       "      <th>Insulation Resistance (MΩ)</th>\n",
       "      <th>Flash Test Result</th>\n",
       "      <th>Visual Inspection</th>\n",
       "      <th>Operator ID</th>\n",
       "      <th>Final Inspection</th>\n",
       "    </tr>\n",
       "  </thead>\n",
       "  <tbody>\n",
       "    <tr>\n",
       "      <th>0</th>\n",
       "      <td>2025-04-21</td>\n",
       "      <td>Shift 1</td>\n",
       "      <td>SP819428</td>\n",
       "      <td>Polycrystalline</td>\n",
       "      <td>Line 1</td>\n",
       "      <td>1005.9</td>\n",
       "      <td>72</td>\n",
       "      <td>0.17</td>\n",
       "      <td>3.9</td>\n",
       "      <td>No</td>\n",
       "      <td>358.3</td>\n",
       "      <td>18.03</td>\n",
       "      <td>604.6</td>\n",
       "      <td>Fail</td>\n",
       "      <td>Crack</td>\n",
       "      <td>EMP193</td>\n",
       "      <td>Pass</td>\n",
       "    </tr>\n",
       "    <tr>\n",
       "      <th>2</th>\n",
       "      <td>2025-04-04</td>\n",
       "      <td>Shift 1</td>\n",
       "      <td>SP352954</td>\n",
       "      <td>Polycrystalline</td>\n",
       "      <td>Line 3</td>\n",
       "      <td>887.4</td>\n",
       "      <td>60</td>\n",
       "      <td>0.37</td>\n",
       "      <td>3.3</td>\n",
       "      <td>No</td>\n",
       "      <td>383.7</td>\n",
       "      <td>17.21</td>\n",
       "      <td>227.8</td>\n",
       "      <td>Pass</td>\n",
       "      <td>Crack</td>\n",
       "      <td>EMP193</td>\n",
       "      <td>Pass</td>\n",
       "    </tr>\n",
       "    <tr>\n",
       "      <th>3</th>\n",
       "      <td>2025-04-17</td>\n",
       "      <td>Shift 2</td>\n",
       "      <td>SP725540</td>\n",
       "      <td>Polycrystalline</td>\n",
       "      <td>Line 1</td>\n",
       "      <td>760.8</td>\n",
       "      <td>72</td>\n",
       "      <td>0.14</td>\n",
       "      <td>3.3</td>\n",
       "      <td>Yes</td>\n",
       "      <td>350.4</td>\n",
       "      <td>20.30</td>\n",
       "      <td>619.7</td>\n",
       "      <td>Pass</td>\n",
       "      <td>Scratch</td>\n",
       "      <td>EMP193</td>\n",
       "      <td>Pass</td>\n",
       "    </tr>\n",
       "  </tbody>\n",
       "</table>\n",
       "</div>"
      ]
     },
     "execution_count": 205,
     "metadata": {},
     "output_type": "execute_result"
    }
   ],
   "execution_count": 205
  },
  {
   "metadata": {
    "ExecuteTime": {
     "end_time": "2025-05-22T15:30:30.812250Z",
     "start_time": "2025-05-22T15:30:30.809255Z"
    }
   },
   "cell_type": "code",
   "source": [
    "# simulate 3 layers\n",
    "# 1. live_settings: Assume `Number of Cells` is missing\n",
    "live_settings = {\n",
    "    'Glass Thickness (mm)': polycrystalline_df.iloc[0]['Glass Thickness (mm)'],\n",
    "    'Cell Alignment Deviation (mm)': polycrystalline_df.iloc[0]['Cell Alignment Deviation (mm)'],\n",
    "}"
   ],
   "id": "a89d43ff86479d6",
   "outputs": [],
   "execution_count": 206
  },
  {
   "metadata": {
    "ExecuteTime": {
     "end_time": "2025-05-22T15:30:30.857264Z",
     "start_time": "2025-05-22T15:30:30.853876Z"
    }
   },
   "cell_type": "code",
   "source": "live_settings",
   "id": "de2cbc5e43a72054",
   "outputs": [
    {
     "data": {
      "text/plain": [
       "{'Glass Thickness (mm)': np.float64(3.9),\n",
       " 'Cell Alignment Deviation (mm)': np.float64(0.17)}"
      ]
     },
     "execution_count": 207,
     "metadata": {},
     "output_type": "execute_result"
    }
   ],
   "execution_count": 207
  },
  {
   "metadata": {
    "ExecuteTime": {
     "end_time": "2025-05-22T15:30:30.936889Z",
     "start_time": "2025-05-22T15:30:30.934106Z"
    }
   },
   "cell_type": "code",
   "source": [
    "# 2. cached_settings: Previous config, also incomplete\n",
    "cached_settings = {\n",
    "    'Number of Cells': polycrystalline_df.iloc[1]['Number of Cells'],\n",
    "    'Glass Thickness (mm)': polycrystalline_df.iloc[1]['Glass Thickness (mm)'],\n",
    "}"
   ],
   "id": "9f5568bfdd99b4f7",
   "outputs": [],
   "execution_count": 208
  },
  {
   "metadata": {
    "ExecuteTime": {
     "end_time": "2025-05-22T15:30:30.976363Z",
     "start_time": "2025-05-22T15:30:30.972939Z"
    }
   },
   "cell_type": "code",
   "source": "cached_settings",
   "id": "bd6bd7e5f7b65762",
   "outputs": [
    {
     "data": {
      "text/plain": [
       "{'Number of Cells': np.int64(60), 'Glass Thickness (mm)': np.float64(3.3)}"
      ]
     },
     "execution_count": 209,
     "metadata": {},
     "output_type": "execute_result"
    }
   ],
   "execution_count": 209
  },
  {
   "metadata": {
    "ExecuteTime": {
     "end_time": "2025-05-22T15:30:31.083695Z",
     "start_time": "2025-05-22T15:30:31.081018Z"
    }
   },
   "cell_type": "code",
   "source": [
    "# defaults: fully populated known good values\n",
    "defaults = {\n",
    "    'Glass Thickness (mm)': 3.3,\n",
    "    'Number of Cells': 72,\n",
    "    'Cell Alignment Deviation (mm)': 0.27,\n",
    "}"
   ],
   "id": "d47c718c967a9f44",
   "outputs": [],
   "execution_count": 210
  },
  {
   "metadata": {
    "ExecuteTime": {
     "end_time": "2025-05-22T15:30:31.120040Z",
     "start_time": "2025-05-22T15:30:31.117266Z"
    }
   },
   "cell_type": "code",
   "source": "effective_config = ChainMap(live_settings, cached_settings, defaults)",
   "id": "5b8d016148079dfe",
   "outputs": [],
   "execution_count": 211
  },
  {
   "metadata": {
    "ExecuteTime": {
     "end_time": "2025-05-22T15:30:31.148952Z",
     "start_time": "2025-05-22T15:30:31.146439Z"
    }
   },
   "cell_type": "code",
   "source": [
    "# extract only 3 needed keys\n",
    "final_config = {\n",
    "    'Glass Thickness (mm)': effective_config['Glass Thickness (mm)'],\n",
    "    'Number of Cells': effective_config['Number of Cells'],\n",
    "    'Cell Alignment Deviation (mm)': effective_config['Cell Alignment Deviation (mm)'],\n",
    "}"
   ],
   "id": "1055f091cc578b7a",
   "outputs": [],
   "execution_count": 212
  },
  {
   "metadata": {
    "ExecuteTime": {
     "end_time": "2025-05-22T15:30:31.202449Z",
     "start_time": "2025-05-22T15:30:31.199602Z"
    }
   },
   "cell_type": "code",
   "source": "final_config",
   "id": "2a349e842b06a2d9",
   "outputs": [
    {
     "data": {
      "text/plain": [
       "{'Glass Thickness (mm)': np.float64(3.9),\n",
       " 'Number of Cells': np.int64(60),\n",
       " 'Cell Alignment Deviation (mm)': np.float64(0.17)}"
      ]
     },
     "execution_count": 213,
     "metadata": {},
     "output_type": "execute_result"
    }
   ],
   "execution_count": 213
  },
  {
   "metadata": {},
   "cell_type": "markdown",
   "source": [
    "### **Exercise 2: Flash Test Override by Operator**\n",
    "\n",
    "**Goal:**\n",
    "Allow an operator to override `Flash Test Result` temporarily during QA review.\n",
    "\n",
    "**Problem:**\n",
    "Simulate a ChainMap where:\n",
    "\n",
    "* `qa_override = {'Flash Test Result': 'Pass'}`\n",
    "* It overrides the result for a specific serial number (`SP819428`)\n",
    "\n",
    "**Expected Output:**\n",
    "\n",
    "```\n",
    "SP819428 ➜ Flash Test Result (QA): Pass\n",
    "```"
   ],
   "id": "a3bcab6ecc22142b"
  },
  {
   "metadata": {
    "ExecuteTime": {
     "end_time": "2025-05-22T15:30:31.255461Z",
     "start_time": "2025-05-22T15:30:31.251712Z"
    }
   },
   "cell_type": "code",
   "source": "record = df[df['Panel Serial No.'] == 'SP819428'].iloc[0]",
   "id": "b989bc5f350c90ee",
   "outputs": [],
   "execution_count": 214
  },
  {
   "metadata": {
    "ExecuteTime": {
     "end_time": "2025-05-22T15:30:31.273884Z",
     "start_time": "2025-05-22T15:30:31.270649Z"
    }
   },
   "cell_type": "code",
   "source": "record['Flash Test Result']",
   "id": "77c498353c7d40bb",
   "outputs": [
    {
     "data": {
      "text/plain": [
       "'Fail'"
      ]
     },
     "execution_count": 215,
     "metadata": {},
     "output_type": "execute_result"
    }
   ],
   "execution_count": 215
  },
  {
   "metadata": {
    "ExecuteTime": {
     "end_time": "2025-05-22T15:30:31.302933Z",
     "start_time": "2025-05-22T15:30:31.300547Z"
    }
   },
   "cell_type": "code",
   "source": [
    "qa_override = {\n",
    "    'Flash Test Result': 'Pass',\n",
    "}"
   ],
   "id": "e3e6cfc57df8b676",
   "outputs": [],
   "execution_count": 216
  },
  {
   "metadata": {
    "ExecuteTime": {
     "end_time": "2025-05-22T15:30:31.333895Z",
     "start_time": "2025-05-22T15:30:31.331560Z"
    }
   },
   "cell_type": "code",
   "source": [
    "original_layer = {\n",
    "    'Flash Test Result': record['Flash Test Result'],\n",
    "}"
   ],
   "id": "d3a8d4ccd8c53fd8",
   "outputs": [],
   "execution_count": 217
  },
  {
   "metadata": {
    "ExecuteTime": {
     "end_time": "2025-05-22T15:30:31.371872Z",
     "start_time": "2025-05-22T15:30:31.369482Z"
    }
   },
   "cell_type": "code",
   "source": "qa_result = ChainMap(qa_override, original_layer)",
   "id": "ff0db4f712f4b215",
   "outputs": [],
   "execution_count": 218
  },
  {
   "metadata": {
    "ExecuteTime": {
     "end_time": "2025-05-22T15:30:31.423495Z",
     "start_time": "2025-05-22T15:30:31.420647Z"
    }
   },
   "cell_type": "code",
   "source": [
    "effective_flash_test_result = {\n",
    "    'serial number': record['Panel Serial No.'],\n",
    "    'result': qa_result['Flash Test Result'],\n",
    "}"
   ],
   "id": "4053936d9d6e7569",
   "outputs": [],
   "execution_count": 219
  },
  {
   "metadata": {
    "ExecuteTime": {
     "end_time": "2025-05-22T15:30:31.430503Z",
     "start_time": "2025-05-22T15:30:31.427614Z"
    }
   },
   "cell_type": "code",
   "source": "effective_flash_test_result",
   "id": "d01acf4a004563bf",
   "outputs": [
    {
     "data": {
      "text/plain": [
       "{'serial number': 'SP819428', 'result': 'Pass'}"
      ]
     },
     "execution_count": 220,
     "metadata": {},
     "output_type": "execute_result"
    }
   ],
   "execution_count": 220
  },
  {
   "metadata": {
    "ExecuteTime": {
     "end_time": "2025-05-22T15:30:31.436038Z",
     "start_time": "2025-05-22T15:30:31.433682Z"
    }
   },
   "cell_type": "code",
   "source": "print(f'{effective_flash_test_result[\"serial number\"]} --> Flash Test Result (QA): {effective_flash_test_result[\"result\"]}')",
   "id": "88cfaab194ccb4b4",
   "outputs": [
    {
     "name": "stdout",
     "output_type": "stream",
     "text": [
      "SP819428 --> Flash Test Result (QA): Pass\n"
     ]
    }
   ],
   "execution_count": 221
  },
  {
   "metadata": {},
   "cell_type": "markdown",
   "source": [
    "### **Exercise 3: Fallback for Missing Resistance Values**\n",
    "\n",
    "**Goal:**\n",
    "Use ChainMap to fill in missing `Insulation Resistance (MΩ)` values using:\n",
    "\n",
    "* live → calculated average → engineering default\n",
    "\n",
    "**Problem:**\n",
    "If a panel’s resistance is missing, try getting it from an operator’s average, or fallback to a default of `500 MΩ`.\n",
    "\n",
    "**Expected Output:**\n",
    "\n",
    "```\n",
    "Fallback Resistance ➜ 500.0\n",
    "```"
   ],
   "id": "75ca6bdfca5d74bf"
  },
  {
   "metadata": {
    "ExecuteTime": {
     "end_time": "2025-05-22T15:30:31.472279Z",
     "start_time": "2025-05-22T15:30:31.469881Z"
    }
   },
   "cell_type": "code",
   "source": [
    "# Simulate a panel with missing `Insulation Resistance (MΩ)`\n",
    "sample_row = df.iloc[0].copy()"
   ],
   "id": "55dce3dfe98ecb0b",
   "outputs": [],
   "execution_count": 222
  },
  {
   "metadata": {
    "ExecuteTime": {
     "end_time": "2025-05-22T15:30:31.504241Z",
     "start_time": "2025-05-22T15:30:31.500782Z"
    }
   },
   "cell_type": "code",
   "source": "sample_row",
   "id": "bc40bcf57a235428",
   "outputs": [
    {
     "data": {
      "text/plain": [
       "Date                                  2025-04-21\n",
       "Shift                                    Shift 1\n",
       "Panel Serial No.                        SP819428\n",
       "Panel Type                       Polycrystalline\n",
       "Assembly Line                             Line 1\n",
       "Cycle Time (s)                            1005.9\n",
       "Number of Cells                               72\n",
       "Cell Alignment Deviation (mm)               0.17\n",
       "Glass Thickness (mm)                         3.9\n",
       "Junction Box Attached                         No\n",
       "Power Output (W)                           358.3\n",
       "Efficiency (%)                             18.03\n",
       "Insulation Resistance (MΩ)                 604.6\n",
       "Flash Test Result                           Fail\n",
       "Visual Inspection                          Crack\n",
       "Operator ID                               EMP193\n",
       "Final Inspection                            Pass\n",
       "Name: 0, dtype: object"
      ]
     },
     "execution_count": 223,
     "metadata": {},
     "output_type": "execute_result"
    }
   ],
   "execution_count": 223
  },
  {
   "metadata": {
    "ExecuteTime": {
     "end_time": "2025-05-22T15:30:31.518337Z",
     "start_time": "2025-05-22T15:30:31.515470Z"
    }
   },
   "cell_type": "code",
   "source": "sample_row['Insulation Resistance (MΩ)'] = np.nan",
   "id": "3995676cb72d7268",
   "outputs": [],
   "execution_count": 224
  },
  {
   "metadata": {
    "ExecuteTime": {
     "end_time": "2025-05-22T15:30:31.544036Z",
     "start_time": "2025-05-22T15:30:31.540137Z"
    }
   },
   "cell_type": "code",
   "source": "sample_row.tail(5)",
   "id": "e86bab9bc3225f2b",
   "outputs": [
    {
     "data": {
      "text/plain": [
       "Insulation Resistance (MΩ)       NaN\n",
       "Flash Test Result               Fail\n",
       "Visual Inspection              Crack\n",
       "Operator ID                   EMP193\n",
       "Final Inspection                Pass\n",
       "Name: 0, dtype: object"
      ]
     },
     "execution_count": 225,
     "metadata": {},
     "output_type": "execute_result"
    }
   ],
   "execution_count": 225
  },
  {
   "metadata": {
    "ExecuteTime": {
     "end_time": "2025-05-22T15:30:31.570979Z",
     "start_time": "2025-05-22T15:30:31.568498Z"
    }
   },
   "cell_type": "code",
   "source": "operator_id = sample_row['Operator ID']",
   "id": "590433486734051f",
   "outputs": [],
   "execution_count": 226
  },
  {
   "metadata": {
    "ExecuteTime": {
     "end_time": "2025-05-22T15:30:31.588189Z",
     "start_time": "2025-05-22T15:30:31.585051Z"
    }
   },
   "cell_type": "code",
   "source": [
    "# compute operator average if available\n",
    "operator_panels = df[\n",
    "    (df['Operator ID'] == operator_id) &\n",
    "    (df['Insulation Resistance (MΩ)'].notna())\n",
    "]"
   ],
   "id": "a93e842986e65a62",
   "outputs": [],
   "execution_count": 227
  },
  {
   "metadata": {
    "ExecuteTime": {
     "end_time": "2025-05-22T15:30:31.616426Z",
     "start_time": "2025-05-22T15:30:31.614026Z"
    }
   },
   "cell_type": "code",
   "source": "operator_avg = operator_panels['Insulation Resistance (MΩ)'].mean()",
   "id": "e514f09ba1cad051",
   "outputs": [],
   "execution_count": 228
  },
  {
   "metadata": {
    "ExecuteTime": {
     "end_time": "2025-05-22T15:30:31.635831Z",
     "start_time": "2025-05-22T15:30:31.632538Z"
    }
   },
   "cell_type": "code",
   "source": "operator_avg",
   "id": "38e986eecaf16b3b",
   "outputs": [
    {
     "data": {
      "text/plain": [
       "np.float64(555.6684210526315)"
      ]
     },
     "execution_count": 229,
     "metadata": {},
     "output_type": "execute_result"
    }
   ],
   "execution_count": 229
  },
  {
   "metadata": {
    "ExecuteTime": {
     "end_time": "2025-05-22T15:30:31.652100Z",
     "start_time": "2025-05-22T15:30:31.649361Z"
    }
   },
   "cell_type": "code",
   "source": [
    "# create fallback layers\n",
    "live_layer = {}\n",
    "average_layer = {}"
   ],
   "id": "1e2d5c7969352ecc",
   "outputs": [],
   "execution_count": 230
  },
  {
   "metadata": {
    "ExecuteTime": {
     "end_time": "2025-05-22T15:30:31.667118Z",
     "start_time": "2025-05-22T15:30:31.664319Z"
    }
   },
   "cell_type": "code",
   "source": [
    "if not pd.isna(sample_row['Insulation Resistance (MΩ)']):\n",
    "    live_layer['Insulation Resistance (MΩ)'] = sample_row['Insulation Resistance (MΩ)']\n",
    "if not pd.isna(operator_avg):\n",
    "    average_layer['Insulation Resistance (MΩ)'] = operator_avg"
   ],
   "id": "79743400e6a7f07c",
   "outputs": [],
   "execution_count": 231
  },
  {
   "metadata": {
    "ExecuteTime": {
     "end_time": "2025-05-22T15:30:31.694444Z",
     "start_time": "2025-05-22T15:30:31.691974Z"
    }
   },
   "cell_type": "code",
   "source": [
    "default_layer = {\n",
    "    'Insulation Resistance (MΩ)': 500\n",
    "}"
   ],
   "id": "f9ddc907db53285c",
   "outputs": [],
   "execution_count": 232
  },
  {
   "metadata": {
    "ExecuteTime": {
     "end_time": "2025-05-22T15:30:31.713881Z",
     "start_time": "2025-05-22T15:30:31.711295Z"
    }
   },
   "cell_type": "code",
   "source": "resistance_chain = ChainMap(live_layer, average_layer, default_layer)",
   "id": "15fa1d9c0b741aef",
   "outputs": [],
   "execution_count": 233
  },
  {
   "metadata": {
    "ExecuteTime": {
     "end_time": "2025-05-22T15:30:31.735721Z",
     "start_time": "2025-05-22T15:30:31.733236Z"
    }
   },
   "cell_type": "code",
   "source": "resolved_resistance = resistance_chain['Insulation Resistance (MΩ)']",
   "id": "59693c4bcd5217be",
   "outputs": [],
   "execution_count": 234
  },
  {
   "metadata": {
    "ExecuteTime": {
     "end_time": "2025-05-22T15:30:31.762847Z",
     "start_time": "2025-05-22T15:30:31.759294Z"
    }
   },
   "cell_type": "code",
   "source": "resolved_resistance",
   "id": "25e2cda040506919",
   "outputs": [
    {
     "data": {
      "text/plain": [
       "np.float64(555.6684210526315)"
      ]
     },
     "execution_count": 235,
     "metadata": {},
     "output_type": "execute_result"
    }
   ],
   "execution_count": 235
  },
  {
   "metadata": {},
   "cell_type": "markdown",
   "source": [
    "### **Exercise 4: Junction Box Status Resolution**\n",
    "\n",
    "**Goal:**\n",
    "Resolve whether a panel has a junction box attached using 3 fallback sources:\n",
    "\n",
    "1. Line data (`Line 1` logs)\n",
    "2. Panel type heuristic\n",
    "3. Default: `No`\n",
    "\n",
    "**Problem:**\n",
    "For panels with unknown attachment, simulate resolution using ChainMap.\n",
    "\n",
    "**Expected Output:**\n",
    "\n",
    "```\n",
    "Panel SP736702 ➜ Junction Box Attached: No\n",
    "```"
   ],
   "id": "9e559b07b78fd86f"
  },
  {
   "metadata": {
    "ExecuteTime": {
     "end_time": "2025-05-22T15:30:31.778182Z",
     "start_time": "2025-05-22T15:30:31.775339Z"
    }
   },
   "cell_type": "code",
   "source": "sample_panel = df[df['Panel Serial No.'] == 'SP736702'].iloc[0]",
   "id": "1e3886df8100e71c",
   "outputs": [],
   "execution_count": 236
  },
  {
   "metadata": {
    "ExecuteTime": {
     "end_time": "2025-05-22T15:30:31.796613Z",
     "start_time": "2025-05-22T15:30:31.792561Z"
    }
   },
   "cell_type": "code",
   "source": "sample_panel",
   "id": "c9b06f33403528fa",
   "outputs": [
    {
     "data": {
      "text/plain": [
       "Date                             2025-04-08\n",
       "Shift                               Shift 1\n",
       "Panel Serial No.                   SP736702\n",
       "Panel Type                        Thin-Film\n",
       "Assembly Line                        Line 3\n",
       "Cycle Time (s)                        980.8\n",
       "Number of Cells                          60\n",
       "Cell Alignment Deviation (mm)          0.24\n",
       "Glass Thickness (mm)                    3.1\n",
       "Junction Box Attached                    No\n",
       "Power Output (W)                      312.5\n",
       "Efficiency (%)                        19.62\n",
       "Insulation Resistance (MΩ)            990.1\n",
       "Flash Test Result                      Pass\n",
       "Visual Inspection                   Scratch\n",
       "Operator ID                          EMP193\n",
       "Final Inspection                       Pass\n",
       "Name: 1, dtype: object"
      ]
     },
     "execution_count": 237,
     "metadata": {},
     "output_type": "execute_result"
    }
   ],
   "execution_count": 237
  },
  {
   "metadata": {
    "ExecuteTime": {
     "end_time": "2025-05-22T15:30:31.828124Z",
     "start_time": "2025-05-22T15:30:31.825490Z"
    }
   },
   "cell_type": "code",
   "source": "sample_panel['Junction Box Attached'] = np.nan",
   "id": "7bb9696a72bba478",
   "outputs": [],
   "execution_count": 238
  },
  {
   "metadata": {
    "ExecuteTime": {
     "end_time": "2025-05-22T15:30:31.845274Z",
     "start_time": "2025-05-22T15:30:31.840688Z"
    }
   },
   "cell_type": "code",
   "source": "sample_panel",
   "id": "7d636d63197fc0da",
   "outputs": [
    {
     "data": {
      "text/plain": [
       "Date                             2025-04-08\n",
       "Shift                               Shift 1\n",
       "Panel Serial No.                   SP736702\n",
       "Panel Type                        Thin-Film\n",
       "Assembly Line                        Line 3\n",
       "Cycle Time (s)                        980.8\n",
       "Number of Cells                          60\n",
       "Cell Alignment Deviation (mm)          0.24\n",
       "Glass Thickness (mm)                    3.1\n",
       "Junction Box Attached                   NaN\n",
       "Power Output (W)                      312.5\n",
       "Efficiency (%)                        19.62\n",
       "Insulation Resistance (MΩ)            990.1\n",
       "Flash Test Result                      Pass\n",
       "Visual Inspection                   Scratch\n",
       "Operator ID                          EMP193\n",
       "Final Inspection                       Pass\n",
       "Name: 1, dtype: object"
      ]
     },
     "execution_count": 239,
     "metadata": {},
     "output_type": "execute_result"
    }
   ],
   "execution_count": 239
  },
  {
   "metadata": {
    "ExecuteTime": {
     "end_time": "2025-05-22T15:35:08.790780Z",
     "start_time": "2025-05-22T15:35:08.787520Z"
    }
   },
   "cell_type": "code",
   "source": [
    "line_data_layer = {}\n",
    "if pd.isna(sample_panel['Junction Box Attached']):\n",
    "    line_data_layer['Serial Number'] = sample_panel['Panel Serial No.']"
   ],
   "id": "7414db12642b333",
   "outputs": [],
   "execution_count": 245
  },
  {
   "metadata": {
    "ExecuteTime": {
     "end_time": "2025-05-22T15:35:09.227693Z",
     "start_time": "2025-05-22T15:35:09.225169Z"
    }
   },
   "cell_type": "code",
   "source": [
    "panel_type_heuristic = {\n",
    "    'Serial Number': sample_panel['Panel Serial No.'],\n",
    "}"
   ],
   "id": "f1d247060ad52bc3",
   "outputs": [],
   "execution_count": 246
  },
  {
   "metadata": {
    "ExecuteTime": {
     "end_time": "2025-05-22T15:35:09.793383Z",
     "start_time": "2025-05-22T15:35:09.790987Z"
    }
   },
   "cell_type": "code",
   "source": [
    "default = {\n",
    "    'Junction Box Attached': 'No',\n",
    "}"
   ],
   "id": "dd5ca9d6f6c60d04",
   "outputs": [],
   "execution_count": 247
  },
  {
   "metadata": {
    "ExecuteTime": {
     "end_time": "2025-05-22T15:35:10.306557Z",
     "start_time": "2025-05-22T15:35:10.303615Z"
    }
   },
   "cell_type": "code",
   "source": "resolution_jb = ChainMap(line_data_layer, panel_type_heuristic, default)",
   "id": "eb31ee7e39fdd852",
   "outputs": [],
   "execution_count": 248
  },
  {
   "metadata": {
    "ExecuteTime": {
     "end_time": "2025-05-22T15:35:10.818008Z",
     "start_time": "2025-05-22T15:35:10.815510Z"
    }
   },
   "cell_type": "code",
   "source": [
    "# Panel SP736702 ➜ Junction Box Attached: No\n",
    "print(f'Panel {resolution_jb[\"Serial Number\"]} --> Junction Box Attached: {resolution_jb[\"Junction Box Attached\"]}')"
   ],
   "id": "b8c428e445528e05",
   "outputs": [
    {
     "name": "stdout",
     "output_type": "stream",
     "text": [
      "Panel SP736702 --> Junction Box Attached: No\n"
     ]
    }
   ],
   "execution_count": 249
  },
  {
   "metadata": {
    "ExecuteTime": {
     "end_time": "2025-05-22T15:30:31.982160Z",
     "start_time": "2025-05-22T15:30:31.980381Z"
    }
   },
   "cell_type": "code",
   "source": "",
   "id": "e64224b5448fcc5",
   "outputs": [],
   "execution_count": 244
  },
  {
   "metadata": {},
   "cell_type": "code",
   "outputs": [],
   "execution_count": null,
   "source": "",
   "id": "5dc0e21ee2599cfd"
  },
  {
   "metadata": {},
   "cell_type": "code",
   "outputs": [],
   "execution_count": null,
   "source": "",
   "id": "df300eed38611396"
  },
  {
   "metadata": {},
   "cell_type": "code",
   "outputs": [],
   "execution_count": null,
   "source": "",
   "id": "52b35f38bdfb5d58"
  },
  {
   "metadata": {},
   "cell_type": "code",
   "outputs": [],
   "execution_count": null,
   "source": "",
   "id": "c18d86a87208c450"
  },
  {
   "metadata": {},
   "cell_type": "code",
   "outputs": [],
   "execution_count": null,
   "source": "",
   "id": "c311db145c11b103"
  },
  {
   "metadata": {},
   "cell_type": "code",
   "outputs": [],
   "execution_count": null,
   "source": "",
   "id": "208294e4b4e35a5a"
  },
  {
   "metadata": {},
   "cell_type": "code",
   "outputs": [],
   "execution_count": null,
   "source": "",
   "id": "c245b08046fc7545"
  },
  {
   "metadata": {
    "ExecuteTime": {
     "end_time": "2025-05-22T15:30:32.013239Z",
     "start_time": "2025-05-22T15:30:32.011314Z"
    }
   },
   "cell_type": "code",
   "source": "",
   "id": "14a08cac5fcb4ac8",
   "outputs": [],
   "execution_count": 244
  },
  {
   "metadata": {
    "ExecuteTime": {
     "end_time": "2025-05-22T15:30:32.046106Z",
     "start_time": "2025-05-22T15:30:32.043971Z"
    }
   },
   "cell_type": "code",
   "source": "",
   "id": "a050922b7fd9f3b5",
   "outputs": [],
   "execution_count": 244
  },
  {
   "metadata": {
    "ExecuteTime": {
     "end_time": "2025-05-22T15:30:32.067165Z",
     "start_time": "2025-05-22T15:30:32.064928Z"
    }
   },
   "cell_type": "code",
   "source": "",
   "id": "3b1ad078aadb5afd",
   "outputs": [],
   "execution_count": 244
  },
  {
   "metadata": {},
   "cell_type": "markdown",
   "source": [
    "### 🔹**Exercise 5: Cell Count Resolution**\n",
    "\n",
    "**Goal:**\n",
    "If `Number of Cells` is missing or inconsistent, fallback to:\n",
    "\n",
    "1. Panel Type average\n",
    "2. Line average\n",
    "3. Default: 60\n",
    "\n",
    "**Expected Output:**\n",
    "\n",
    "```\n",
    "Resolved Cell Count ➜ 72\n",
    "```\n",
    "\n",
    "---\n",
    "\n",
    "### 🔹**Exercise 6: Determine True Final Status**\n",
    "\n",
    "**Goal:**\n",
    "Combine `Flash Test Result`, `Visual Inspection`, and `Final Inspection` using override priority:\n",
    "\n",
    "1. QA override (ChainMap layer 1)\n",
    "2. Inspector override\n",
    "3. Original result\n",
    "\n",
    "**Expected Output:**\n",
    "\n",
    "```\n",
    "Final Result: FAIL (due to visual inspection)\n",
    "```\n",
    "\n",
    "---\n",
    "\n",
    "### 🔹**Exercise 7: Fallback Efficiency Calculation**\n",
    "\n",
    "**Goal:**\n",
    "If `Efficiency (%)` is missing, resolve it via:\n",
    "\n",
    "1. Flash Pass average\n",
    "2. Line-specific average\n",
    "3. Global average\n",
    "\n",
    "**Expected Output:**\n",
    "\n",
    "```\n",
    "Resolved Efficiency: 18.77%\n",
    "```\n",
    "\n",
    "---\n",
    "\n",
    "### 🔹**Exercise 8: Override Operator ID for Batch**\n",
    "\n",
    "**Goal:**\n",
    "For a specific batch of panels, apply temporary operator override using ChainMap:\n",
    "\n",
    "* Layer 1: Temp override → `{'Operator ID': 'EMP999'}`\n",
    "* Layer 2: Original records\n",
    "\n",
    "**Expected Output:**\n",
    "\n",
    "```\n",
    "Effective Operator ID for SP819428 ➜ EMP999\n",
    "```\n",
    "\n",
    "---\n",
    "\n",
    "### 🔹**Exercise 9: Filter Panels with Resolved Power Output**\n",
    "\n",
    "**Goal:**\n",
    "Use ChainMap to handle panels with:\n",
    "\n",
    "* Missing power output → fallback to type-based average or 300 W\n",
    "\n",
    "**Expected Output Example:**\n",
    "\n",
    "```\n",
    "Panel SPxxxxxx ➜ Power Output: 312.5 W (fallback used)\n",
    "```\n",
    "\n",
    "---\n",
    "\n",
    "### 🔹**Exercise 10: Combine All Config Layers Per Shift**\n",
    "\n",
    "**Goal:**\n",
    "For a given `Shift`, create a 3-layer ChainMap config:\n",
    "\n",
    "* Shift-specific live tuning\n",
    "* Assembly line fallback\n",
    "* Global engineering spec\n",
    "\n",
    "**Expected Output:**\n",
    "\n",
    "```\n",
    "Shift 1 Config ➜ {'Glass Thickness (mm)': 3.7, 'Efficiency (%)': 19.5, 'Cycle Time (s)': 980.8}\n",
    "```\n",
    "\n",
    "---\n",
    "\n",
    "Let me know if you’d like the starter templates or to work through each problem interactively next!\n"
   ],
   "id": "82afa55195a7bd5e"
  },
  {
   "metadata": {
    "ExecuteTime": {
     "end_time": "2025-05-22T15:30:32.084274Z",
     "start_time": "2025-05-22T15:30:32.082408Z"
    }
   },
   "cell_type": "code",
   "source": "",
   "id": "377bc7a00fe0db74",
   "outputs": [],
   "execution_count": 244
  }
 ],
 "metadata": {
  "kernelspec": {
   "display_name": "Python 3",
   "language": "python",
   "name": "python3"
  },
  "language_info": {
   "codemirror_mode": {
    "name": "ipython",
    "version": 2
   },
   "file_extension": ".py",
   "mimetype": "text/x-python",
   "name": "python",
   "nbconvert_exporter": "python",
   "pygments_lexer": "ipython2",
   "version": "2.7.6"
  }
 },
 "nbformat": 4,
 "nbformat_minor": 5
}
