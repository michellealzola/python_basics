{
 "cells": [
  {
   "cell_type": "code",
   "id": "initial_id",
   "metadata": {
    "collapsed": true,
    "ExecuteTime": {
     "end_time": "2025-05-22T19:11:56.280776Z",
     "start_time": "2025-05-22T19:11:56.278126Z"
    }
   },
   "source": [
    "from collections import ChainMap\n",
    "import pandas as pd\n",
    "import numpy as np"
   ],
   "outputs": [],
   "execution_count": 629
  },
  {
   "metadata": {
    "ExecuteTime": {
     "end_time": "2025-05-22T19:11:56.987351Z",
     "start_time": "2025-05-22T19:11:56.979438Z"
    }
   },
   "cell_type": "code",
   "source": "data = pd.read_csv('solar_panel_assembly_expanded_dataset.csv', encoding='utf-8')",
   "id": "fc250e494501273b",
   "outputs": [],
   "execution_count": 630
  },
  {
   "metadata": {
    "ExecuteTime": {
     "end_time": "2025-05-22T19:11:57.012347Z",
     "start_time": "2025-05-22T19:11:57.009373Z"
    }
   },
   "cell_type": "code",
   "source": "df = pd.DataFrame(data)",
   "id": "9c3e17e12657c3b2",
   "outputs": [],
   "execution_count": 631
  },
  {
   "metadata": {
    "ExecuteTime": {
     "end_time": "2025-05-22T19:11:57.065269Z",
     "start_time": "2025-05-22T19:11:57.061470Z"
    }
   },
   "cell_type": "code",
   "source": "df.columns",
   "id": "ee0ab5ba638635f4",
   "outputs": [
    {
     "data": {
      "text/plain": [
       "Index(['Date', 'Shift', 'Panel Serial No.', 'Panel Type', 'Assembly Line',\n",
       "       'Cycle Time (s)', 'Number of Cells', 'Cell Alignment Deviation (mm)',\n",
       "       'Glass Thickness (mm)', 'Junction Box Attached', 'Power Output (W)',\n",
       "       'Efficiency (%)', 'Insulation Resistance (MΩ)', 'Flash Test Result',\n",
       "       'Visual Inspection', 'Operator ID', 'Final Inspection'],\n",
       "      dtype='object')"
      ]
     },
     "execution_count": 632,
     "metadata": {},
     "output_type": "execute_result"
    }
   ],
   "execution_count": 632
  },
  {
   "metadata": {
    "ExecuteTime": {
     "end_time": "2025-05-22T19:11:57.097667Z",
     "start_time": "2025-05-22T19:11:57.088750Z"
    }
   },
   "cell_type": "code",
   "source": "df.head(5)",
   "id": "43f5e3b9c93f56c5",
   "outputs": [
    {
     "data": {
      "text/plain": [
       "         Date    Shift Panel Serial No.       Panel Type Assembly Line  \\\n",
       "0  2025-04-21  Shift 1         SP819428  Polycrystalline        Line 1   \n",
       "1  2025-04-08  Shift 1         SP736702        Thin-Film        Line 3   \n",
       "2  2025-04-04  Shift 1         SP352954  Polycrystalline        Line 3   \n",
       "3  2025-04-17  Shift 2         SP725540  Polycrystalline        Line 1   \n",
       "4  2025-04-07  Shift 1         SP189001  Monocrystalline        Line 3   \n",
       "\n",
       "   Cycle Time (s)  Number of Cells  Cell Alignment Deviation (mm)  \\\n",
       "0          1005.9               72                           0.17   \n",
       "1           980.8               60                           0.24   \n",
       "2           887.4               60                           0.37   \n",
       "3           760.8               72                           0.14   \n",
       "4          1098.1               72                           0.27   \n",
       "\n",
       "   Glass Thickness (mm) Junction Box Attached  Power Output (W)  \\\n",
       "0                   3.9                    No             358.3   \n",
       "1                   3.1                    No             312.5   \n",
       "2                   3.3                    No             383.7   \n",
       "3                   3.3                   Yes             350.4   \n",
       "4                   3.7                   Yes             283.9   \n",
       "\n",
       "   Efficiency (%)  Insulation Resistance (MΩ) Flash Test Result  \\\n",
       "0           18.03                       604.6              Fail   \n",
       "1           19.62                       990.1              Pass   \n",
       "2           17.21                       227.8              Pass   \n",
       "3           20.30                       619.7              Pass   \n",
       "4           21.30                       707.5              Fail   \n",
       "\n",
       "  Visual Inspection Operator ID Final Inspection  \n",
       "0             Crack      EMP193             Pass  \n",
       "1           Scratch      EMP193             Pass  \n",
       "2             Crack      EMP193             Pass  \n",
       "3           Scratch      EMP193             Pass  \n",
       "4              Pass      EMP193             Pass  "
      ],
      "text/html": [
       "<div>\n",
       "<style scoped>\n",
       "    .dataframe tbody tr th:only-of-type {\n",
       "        vertical-align: middle;\n",
       "    }\n",
       "\n",
       "    .dataframe tbody tr th {\n",
       "        vertical-align: top;\n",
       "    }\n",
       "\n",
       "    .dataframe thead th {\n",
       "        text-align: right;\n",
       "    }\n",
       "</style>\n",
       "<table border=\"1\" class=\"dataframe\">\n",
       "  <thead>\n",
       "    <tr style=\"text-align: right;\">\n",
       "      <th></th>\n",
       "      <th>Date</th>\n",
       "      <th>Shift</th>\n",
       "      <th>Panel Serial No.</th>\n",
       "      <th>Panel Type</th>\n",
       "      <th>Assembly Line</th>\n",
       "      <th>Cycle Time (s)</th>\n",
       "      <th>Number of Cells</th>\n",
       "      <th>Cell Alignment Deviation (mm)</th>\n",
       "      <th>Glass Thickness (mm)</th>\n",
       "      <th>Junction Box Attached</th>\n",
       "      <th>Power Output (W)</th>\n",
       "      <th>Efficiency (%)</th>\n",
       "      <th>Insulation Resistance (MΩ)</th>\n",
       "      <th>Flash Test Result</th>\n",
       "      <th>Visual Inspection</th>\n",
       "      <th>Operator ID</th>\n",
       "      <th>Final Inspection</th>\n",
       "    </tr>\n",
       "  </thead>\n",
       "  <tbody>\n",
       "    <tr>\n",
       "      <th>0</th>\n",
       "      <td>2025-04-21</td>\n",
       "      <td>Shift 1</td>\n",
       "      <td>SP819428</td>\n",
       "      <td>Polycrystalline</td>\n",
       "      <td>Line 1</td>\n",
       "      <td>1005.9</td>\n",
       "      <td>72</td>\n",
       "      <td>0.17</td>\n",
       "      <td>3.9</td>\n",
       "      <td>No</td>\n",
       "      <td>358.3</td>\n",
       "      <td>18.03</td>\n",
       "      <td>604.6</td>\n",
       "      <td>Fail</td>\n",
       "      <td>Crack</td>\n",
       "      <td>EMP193</td>\n",
       "      <td>Pass</td>\n",
       "    </tr>\n",
       "    <tr>\n",
       "      <th>1</th>\n",
       "      <td>2025-04-08</td>\n",
       "      <td>Shift 1</td>\n",
       "      <td>SP736702</td>\n",
       "      <td>Thin-Film</td>\n",
       "      <td>Line 3</td>\n",
       "      <td>980.8</td>\n",
       "      <td>60</td>\n",
       "      <td>0.24</td>\n",
       "      <td>3.1</td>\n",
       "      <td>No</td>\n",
       "      <td>312.5</td>\n",
       "      <td>19.62</td>\n",
       "      <td>990.1</td>\n",
       "      <td>Pass</td>\n",
       "      <td>Scratch</td>\n",
       "      <td>EMP193</td>\n",
       "      <td>Pass</td>\n",
       "    </tr>\n",
       "    <tr>\n",
       "      <th>2</th>\n",
       "      <td>2025-04-04</td>\n",
       "      <td>Shift 1</td>\n",
       "      <td>SP352954</td>\n",
       "      <td>Polycrystalline</td>\n",
       "      <td>Line 3</td>\n",
       "      <td>887.4</td>\n",
       "      <td>60</td>\n",
       "      <td>0.37</td>\n",
       "      <td>3.3</td>\n",
       "      <td>No</td>\n",
       "      <td>383.7</td>\n",
       "      <td>17.21</td>\n",
       "      <td>227.8</td>\n",
       "      <td>Pass</td>\n",
       "      <td>Crack</td>\n",
       "      <td>EMP193</td>\n",
       "      <td>Pass</td>\n",
       "    </tr>\n",
       "    <tr>\n",
       "      <th>3</th>\n",
       "      <td>2025-04-17</td>\n",
       "      <td>Shift 2</td>\n",
       "      <td>SP725540</td>\n",
       "      <td>Polycrystalline</td>\n",
       "      <td>Line 1</td>\n",
       "      <td>760.8</td>\n",
       "      <td>72</td>\n",
       "      <td>0.14</td>\n",
       "      <td>3.3</td>\n",
       "      <td>Yes</td>\n",
       "      <td>350.4</td>\n",
       "      <td>20.30</td>\n",
       "      <td>619.7</td>\n",
       "      <td>Pass</td>\n",
       "      <td>Scratch</td>\n",
       "      <td>EMP193</td>\n",
       "      <td>Pass</td>\n",
       "    </tr>\n",
       "    <tr>\n",
       "      <th>4</th>\n",
       "      <td>2025-04-07</td>\n",
       "      <td>Shift 1</td>\n",
       "      <td>SP189001</td>\n",
       "      <td>Monocrystalline</td>\n",
       "      <td>Line 3</td>\n",
       "      <td>1098.1</td>\n",
       "      <td>72</td>\n",
       "      <td>0.27</td>\n",
       "      <td>3.7</td>\n",
       "      <td>Yes</td>\n",
       "      <td>283.9</td>\n",
       "      <td>21.30</td>\n",
       "      <td>707.5</td>\n",
       "      <td>Fail</td>\n",
       "      <td>Pass</td>\n",
       "      <td>EMP193</td>\n",
       "      <td>Pass</td>\n",
       "    </tr>\n",
       "  </tbody>\n",
       "</table>\n",
       "</div>"
      ]
     },
     "execution_count": 633,
     "metadata": {},
     "output_type": "execute_result"
    }
   ],
   "execution_count": 633
  },
  {
   "metadata": {},
   "cell_type": "markdown",
   "source": [
    "# ChainMap-Based Exercises Using the Dataset\n",
    "\n",
    "### **Exercise 1: Effective Assembly Configuration**\n",
    "\n",
    "**Goal:**\n",
    "For each unique `Panel Type`, create a fallback configuration using three layers:\n",
    "\n",
    "1. `live_settings` (incomplete)\n",
    "2. `cached_settings` (older complete config)\n",
    "3. `defaults` (known good values)\n",
    "\n",
    "**Problem:**\n",
    "Simulate retrieving the effective configuration for `Polycrystalline` panels, including:\n",
    "\n",
    "* `Glass Thickness (mm)`\n",
    "* `Number of Cells`\n",
    "* `Cell Alignment Deviation (mm)`\n",
    "\n",
    "**Expected Output Example:**\n",
    "\n",
    "```\n",
    "Effective Polycrystalline Config ➜ {'Glass Thickness (mm)': 3.3, 'Number of Cells': 72, 'Cell Alignment Deviation (mm)': 0.27}\n",
    "```"
   ],
   "id": "f5a1c3f4b862106"
  },
  {
   "metadata": {
    "ExecuteTime": {
     "end_time": "2025-05-22T19:11:57.147772Z",
     "start_time": "2025-05-22T19:11:57.143938Z"
    }
   },
   "cell_type": "code",
   "source": [
    "# filter rows for `Polycrystalline` panels\n",
    "polycrystalline_df = df[df['Panel Type'] == 'Polycrystalline']"
   ],
   "id": "19f3484d137d9d1d",
   "outputs": [],
   "execution_count": 634
  },
  {
   "metadata": {
    "ExecuteTime": {
     "end_time": "2025-05-22T19:11:57.180561Z",
     "start_time": "2025-05-22T19:11:57.172554Z"
    }
   },
   "cell_type": "code",
   "source": "polycrystalline_df.head(3)",
   "id": "26dcd609046986dd",
   "outputs": [
    {
     "data": {
      "text/plain": [
       "         Date    Shift Panel Serial No.       Panel Type Assembly Line  \\\n",
       "0  2025-04-21  Shift 1         SP819428  Polycrystalline        Line 1   \n",
       "2  2025-04-04  Shift 1         SP352954  Polycrystalline        Line 3   \n",
       "3  2025-04-17  Shift 2         SP725540  Polycrystalline        Line 1   \n",
       "\n",
       "   Cycle Time (s)  Number of Cells  Cell Alignment Deviation (mm)  \\\n",
       "0          1005.9               72                           0.17   \n",
       "2           887.4               60                           0.37   \n",
       "3           760.8               72                           0.14   \n",
       "\n",
       "   Glass Thickness (mm) Junction Box Attached  Power Output (W)  \\\n",
       "0                   3.9                    No             358.3   \n",
       "2                   3.3                    No             383.7   \n",
       "3                   3.3                   Yes             350.4   \n",
       "\n",
       "   Efficiency (%)  Insulation Resistance (MΩ) Flash Test Result  \\\n",
       "0           18.03                       604.6              Fail   \n",
       "2           17.21                       227.8              Pass   \n",
       "3           20.30                       619.7              Pass   \n",
       "\n",
       "  Visual Inspection Operator ID Final Inspection  \n",
       "0             Crack      EMP193             Pass  \n",
       "2             Crack      EMP193             Pass  \n",
       "3           Scratch      EMP193             Pass  "
      ],
      "text/html": [
       "<div>\n",
       "<style scoped>\n",
       "    .dataframe tbody tr th:only-of-type {\n",
       "        vertical-align: middle;\n",
       "    }\n",
       "\n",
       "    .dataframe tbody tr th {\n",
       "        vertical-align: top;\n",
       "    }\n",
       "\n",
       "    .dataframe thead th {\n",
       "        text-align: right;\n",
       "    }\n",
       "</style>\n",
       "<table border=\"1\" class=\"dataframe\">\n",
       "  <thead>\n",
       "    <tr style=\"text-align: right;\">\n",
       "      <th></th>\n",
       "      <th>Date</th>\n",
       "      <th>Shift</th>\n",
       "      <th>Panel Serial No.</th>\n",
       "      <th>Panel Type</th>\n",
       "      <th>Assembly Line</th>\n",
       "      <th>Cycle Time (s)</th>\n",
       "      <th>Number of Cells</th>\n",
       "      <th>Cell Alignment Deviation (mm)</th>\n",
       "      <th>Glass Thickness (mm)</th>\n",
       "      <th>Junction Box Attached</th>\n",
       "      <th>Power Output (W)</th>\n",
       "      <th>Efficiency (%)</th>\n",
       "      <th>Insulation Resistance (MΩ)</th>\n",
       "      <th>Flash Test Result</th>\n",
       "      <th>Visual Inspection</th>\n",
       "      <th>Operator ID</th>\n",
       "      <th>Final Inspection</th>\n",
       "    </tr>\n",
       "  </thead>\n",
       "  <tbody>\n",
       "    <tr>\n",
       "      <th>0</th>\n",
       "      <td>2025-04-21</td>\n",
       "      <td>Shift 1</td>\n",
       "      <td>SP819428</td>\n",
       "      <td>Polycrystalline</td>\n",
       "      <td>Line 1</td>\n",
       "      <td>1005.9</td>\n",
       "      <td>72</td>\n",
       "      <td>0.17</td>\n",
       "      <td>3.9</td>\n",
       "      <td>No</td>\n",
       "      <td>358.3</td>\n",
       "      <td>18.03</td>\n",
       "      <td>604.6</td>\n",
       "      <td>Fail</td>\n",
       "      <td>Crack</td>\n",
       "      <td>EMP193</td>\n",
       "      <td>Pass</td>\n",
       "    </tr>\n",
       "    <tr>\n",
       "      <th>2</th>\n",
       "      <td>2025-04-04</td>\n",
       "      <td>Shift 1</td>\n",
       "      <td>SP352954</td>\n",
       "      <td>Polycrystalline</td>\n",
       "      <td>Line 3</td>\n",
       "      <td>887.4</td>\n",
       "      <td>60</td>\n",
       "      <td>0.37</td>\n",
       "      <td>3.3</td>\n",
       "      <td>No</td>\n",
       "      <td>383.7</td>\n",
       "      <td>17.21</td>\n",
       "      <td>227.8</td>\n",
       "      <td>Pass</td>\n",
       "      <td>Crack</td>\n",
       "      <td>EMP193</td>\n",
       "      <td>Pass</td>\n",
       "    </tr>\n",
       "    <tr>\n",
       "      <th>3</th>\n",
       "      <td>2025-04-17</td>\n",
       "      <td>Shift 2</td>\n",
       "      <td>SP725540</td>\n",
       "      <td>Polycrystalline</td>\n",
       "      <td>Line 1</td>\n",
       "      <td>760.8</td>\n",
       "      <td>72</td>\n",
       "      <td>0.14</td>\n",
       "      <td>3.3</td>\n",
       "      <td>Yes</td>\n",
       "      <td>350.4</td>\n",
       "      <td>20.30</td>\n",
       "      <td>619.7</td>\n",
       "      <td>Pass</td>\n",
       "      <td>Scratch</td>\n",
       "      <td>EMP193</td>\n",
       "      <td>Pass</td>\n",
       "    </tr>\n",
       "  </tbody>\n",
       "</table>\n",
       "</div>"
      ]
     },
     "execution_count": 635,
     "metadata": {},
     "output_type": "execute_result"
    }
   ],
   "execution_count": 635
  },
  {
   "metadata": {
    "ExecuteTime": {
     "end_time": "2025-05-22T19:11:57.230918Z",
     "start_time": "2025-05-22T19:11:57.227375Z"
    }
   },
   "cell_type": "code",
   "source": [
    "# simulate 3 layers\n",
    "# 1. live_settings: Assume `Number of Cells` is missing\n",
    "live_settings = {\n",
    "    'Glass Thickness (mm)': polycrystalline_df.iloc[0]['Glass Thickness (mm)'],\n",
    "    'Cell Alignment Deviation (mm)': polycrystalline_df.iloc[0]['Cell Alignment Deviation (mm)'],\n",
    "}"
   ],
   "id": "a89d43ff86479d6",
   "outputs": [],
   "execution_count": 636
  },
  {
   "metadata": {
    "ExecuteTime": {
     "end_time": "2025-05-22T19:11:57.276020Z",
     "start_time": "2025-05-22T19:11:57.272543Z"
    }
   },
   "cell_type": "code",
   "source": "live_settings",
   "id": "de2cbc5e43a72054",
   "outputs": [
    {
     "data": {
      "text/plain": [
       "{'Glass Thickness (mm)': np.float64(3.9),\n",
       " 'Cell Alignment Deviation (mm)': np.float64(0.17)}"
      ]
     },
     "execution_count": 637,
     "metadata": {},
     "output_type": "execute_result"
    }
   ],
   "execution_count": 637
  },
  {
   "metadata": {
    "ExecuteTime": {
     "end_time": "2025-05-22T19:11:57.355600Z",
     "start_time": "2025-05-22T19:11:57.352880Z"
    }
   },
   "cell_type": "code",
   "source": [
    "# 2. cached_settings: Previous config, also incomplete\n",
    "cached_settings = {\n",
    "    'Number of Cells': polycrystalline_df.iloc[1]['Number of Cells'],\n",
    "    'Glass Thickness (mm)': polycrystalline_df.iloc[1]['Glass Thickness (mm)'],\n",
    "}"
   ],
   "id": "9f5568bfdd99b4f7",
   "outputs": [],
   "execution_count": 638
  },
  {
   "metadata": {
    "ExecuteTime": {
     "end_time": "2025-05-22T19:11:57.441453Z",
     "start_time": "2025-05-22T19:11:57.438448Z"
    }
   },
   "cell_type": "code",
   "source": "cached_settings",
   "id": "bd6bd7e5f7b65762",
   "outputs": [
    {
     "data": {
      "text/plain": [
       "{'Number of Cells': np.int64(60), 'Glass Thickness (mm)': np.float64(3.3)}"
      ]
     },
     "execution_count": 639,
     "metadata": {},
     "output_type": "execute_result"
    }
   ],
   "execution_count": 639
  },
  {
   "metadata": {
    "ExecuteTime": {
     "end_time": "2025-05-22T19:11:57.499993Z",
     "start_time": "2025-05-22T19:11:57.497660Z"
    }
   },
   "cell_type": "code",
   "source": [
    "# defaults: fully populated known good values\n",
    "defaults = {\n",
    "    'Glass Thickness (mm)': 3.3,\n",
    "    'Number of Cells': 72,\n",
    "    'Cell Alignment Deviation (mm)': 0.27,\n",
    "}"
   ],
   "id": "d47c718c967a9f44",
   "outputs": [],
   "execution_count": 640
  },
  {
   "metadata": {
    "ExecuteTime": {
     "end_time": "2025-05-22T19:11:57.614469Z",
     "start_time": "2025-05-22T19:11:57.612015Z"
    }
   },
   "cell_type": "code",
   "source": "effective_config = ChainMap(live_settings, cached_settings, defaults)",
   "id": "5b8d016148079dfe",
   "outputs": [],
   "execution_count": 641
  },
  {
   "metadata": {
    "ExecuteTime": {
     "end_time": "2025-05-22T19:11:57.664887Z",
     "start_time": "2025-05-22T19:11:57.662283Z"
    }
   },
   "cell_type": "code",
   "source": [
    "# extract only 3 needed keys\n",
    "final_config = {\n",
    "    'Glass Thickness (mm)': effective_config['Glass Thickness (mm)'],\n",
    "    'Number of Cells': effective_config['Number of Cells'],\n",
    "    'Cell Alignment Deviation (mm)': effective_config['Cell Alignment Deviation (mm)'],\n",
    "}"
   ],
   "id": "1055f091cc578b7a",
   "outputs": [],
   "execution_count": 642
  },
  {
   "metadata": {
    "ExecuteTime": {
     "end_time": "2025-05-22T19:11:57.722820Z",
     "start_time": "2025-05-22T19:11:57.719425Z"
    }
   },
   "cell_type": "code",
   "source": "final_config",
   "id": "2a349e842b06a2d9",
   "outputs": [
    {
     "data": {
      "text/plain": [
       "{'Glass Thickness (mm)': np.float64(3.9),\n",
       " 'Number of Cells': np.int64(60),\n",
       " 'Cell Alignment Deviation (mm)': np.float64(0.17)}"
      ]
     },
     "execution_count": 643,
     "metadata": {},
     "output_type": "execute_result"
    }
   ],
   "execution_count": 643
  },
  {
   "metadata": {},
   "cell_type": "markdown",
   "source": [
    "### **Exercise 2: Flash Test Override by Operator**\n",
    "\n",
    "**Goal:**\n",
    "Allow an operator to override `Flash Test Result` temporarily during QA review.\n",
    "\n",
    "**Problem:**\n",
    "Simulate a ChainMap where:\n",
    "\n",
    "* `qa_override = {'Flash Test Result': 'Pass'}`\n",
    "* It overrides the result for a specific serial number (`SP819428`)\n",
    "\n",
    "**Expected Output:**\n",
    "\n",
    "```\n",
    "SP819428 ➜ Flash Test Result (QA): Pass\n",
    "```"
   ],
   "id": "a3bcab6ecc22142b"
  },
  {
   "metadata": {
    "ExecuteTime": {
     "end_time": "2025-05-22T19:11:57.742704Z",
     "start_time": "2025-05-22T19:11:57.739644Z"
    }
   },
   "cell_type": "code",
   "source": "record = df[df['Panel Serial No.'] == 'SP819428'].iloc[0]",
   "id": "b989bc5f350c90ee",
   "outputs": [],
   "execution_count": 644
  },
  {
   "metadata": {
    "ExecuteTime": {
     "end_time": "2025-05-22T19:11:57.793536Z",
     "start_time": "2025-05-22T19:11:57.789850Z"
    }
   },
   "cell_type": "code",
   "source": "record['Flash Test Result']",
   "id": "77c498353c7d40bb",
   "outputs": [
    {
     "data": {
      "text/plain": [
       "'Fail'"
      ]
     },
     "execution_count": 645,
     "metadata": {},
     "output_type": "execute_result"
    }
   ],
   "execution_count": 645
  },
  {
   "metadata": {
    "ExecuteTime": {
     "end_time": "2025-05-22T19:11:57.857946Z",
     "start_time": "2025-05-22T19:11:57.855432Z"
    }
   },
   "cell_type": "code",
   "source": [
    "qa_override = {\n",
    "    'Flash Test Result': 'Pass',\n",
    "}"
   ],
   "id": "e3e6cfc57df8b676",
   "outputs": [],
   "execution_count": 646
  },
  {
   "metadata": {
    "ExecuteTime": {
     "end_time": "2025-05-22T19:11:57.882184Z",
     "start_time": "2025-05-22T19:11:57.879521Z"
    }
   },
   "cell_type": "code",
   "source": [
    "original_layer = {\n",
    "    'Flash Test Result': record['Flash Test Result'],\n",
    "}"
   ],
   "id": "d3a8d4ccd8c53fd8",
   "outputs": [],
   "execution_count": 647
  },
  {
   "metadata": {
    "ExecuteTime": {
     "end_time": "2025-05-22T19:11:57.937609Z",
     "start_time": "2025-05-22T19:11:57.935289Z"
    }
   },
   "cell_type": "code",
   "source": "qa_result = ChainMap(qa_override, original_layer)",
   "id": "ff0db4f712f4b215",
   "outputs": [],
   "execution_count": 648
  },
  {
   "metadata": {
    "ExecuteTime": {
     "end_time": "2025-05-22T19:11:57.977559Z",
     "start_time": "2025-05-22T19:11:57.974598Z"
    }
   },
   "cell_type": "code",
   "source": [
    "effective_flash_test_result = {\n",
    "    'serial number': record['Panel Serial No.'],\n",
    "    'result': qa_result['Flash Test Result'],\n",
    "}"
   ],
   "id": "4053936d9d6e7569",
   "outputs": [],
   "execution_count": 649
  },
  {
   "metadata": {
    "ExecuteTime": {
     "end_time": "2025-05-22T19:11:58.031855Z",
     "start_time": "2025-05-22T19:11:58.028226Z"
    }
   },
   "cell_type": "code",
   "source": "effective_flash_test_result",
   "id": "d01acf4a004563bf",
   "outputs": [
    {
     "data": {
      "text/plain": [
       "{'serial number': 'SP819428', 'result': 'Pass'}"
      ]
     },
     "execution_count": 650,
     "metadata": {},
     "output_type": "execute_result"
    }
   ],
   "execution_count": 650
  },
  {
   "metadata": {
    "ExecuteTime": {
     "end_time": "2025-05-22T19:11:58.069833Z",
     "start_time": "2025-05-22T19:11:58.066984Z"
    }
   },
   "cell_type": "code",
   "source": "print(f'{effective_flash_test_result[\"serial number\"]} --> Flash Test Result (QA): {effective_flash_test_result[\"result\"]}')",
   "id": "88cfaab194ccb4b4",
   "outputs": [
    {
     "name": "stdout",
     "output_type": "stream",
     "text": [
      "SP819428 --> Flash Test Result (QA): Pass\n"
     ]
    }
   ],
   "execution_count": 651
  },
  {
   "metadata": {},
   "cell_type": "markdown",
   "source": [
    "### **Exercise 3: Fallback for Missing Resistance Values**\n",
    "\n",
    "**Goal:**\n",
    "Use ChainMap to fill in missing `Insulation Resistance (MΩ)` values using:\n",
    "\n",
    "* live → calculated average → engineering default\n",
    "\n",
    "**Problem:**\n",
    "If a panel’s resistance is missing, try getting it from an operator’s average, or fallback to a default of `500 MΩ`.\n",
    "\n",
    "**Expected Output:**\n",
    "\n",
    "```\n",
    "Fallback Resistance ➜ 500.0\n",
    "```"
   ],
   "id": "75ca6bdfca5d74bf"
  },
  {
   "metadata": {
    "ExecuteTime": {
     "end_time": "2025-05-22T19:11:58.121843Z",
     "start_time": "2025-05-22T19:11:58.119130Z"
    }
   },
   "cell_type": "code",
   "source": [
    "# Simulate a panel with missing `Insulation Resistance (MΩ)`\n",
    "sample_row = df.iloc[0].copy()"
   ],
   "id": "55dce3dfe98ecb0b",
   "outputs": [],
   "execution_count": 652
  },
  {
   "metadata": {
    "ExecuteTime": {
     "end_time": "2025-05-22T19:11:58.182224Z",
     "start_time": "2025-05-22T19:11:58.177501Z"
    }
   },
   "cell_type": "code",
   "source": "sample_row",
   "id": "bc40bcf57a235428",
   "outputs": [
    {
     "data": {
      "text/plain": [
       "Date                                  2025-04-21\n",
       "Shift                                    Shift 1\n",
       "Panel Serial No.                        SP819428\n",
       "Panel Type                       Polycrystalline\n",
       "Assembly Line                             Line 1\n",
       "Cycle Time (s)                            1005.9\n",
       "Number of Cells                               72\n",
       "Cell Alignment Deviation (mm)               0.17\n",
       "Glass Thickness (mm)                         3.9\n",
       "Junction Box Attached                         No\n",
       "Power Output (W)                           358.3\n",
       "Efficiency (%)                             18.03\n",
       "Insulation Resistance (MΩ)                 604.6\n",
       "Flash Test Result                           Fail\n",
       "Visual Inspection                          Crack\n",
       "Operator ID                               EMP193\n",
       "Final Inspection                            Pass\n",
       "Name: 0, dtype: object"
      ]
     },
     "execution_count": 653,
     "metadata": {},
     "output_type": "execute_result"
    }
   ],
   "execution_count": 653
  },
  {
   "metadata": {
    "ExecuteTime": {
     "end_time": "2025-05-22T19:11:58.270265Z",
     "start_time": "2025-05-22T19:11:58.267154Z"
    }
   },
   "cell_type": "code",
   "source": "sample_row['Insulation Resistance (MΩ)'] = np.nan",
   "id": "3995676cb72d7268",
   "outputs": [],
   "execution_count": 654
  },
  {
   "metadata": {
    "ExecuteTime": {
     "end_time": "2025-05-22T19:11:58.292051Z",
     "start_time": "2025-05-22T19:11:58.288127Z"
    }
   },
   "cell_type": "code",
   "source": "sample_row.tail(5)",
   "id": "e86bab9bc3225f2b",
   "outputs": [
    {
     "data": {
      "text/plain": [
       "Insulation Resistance (MΩ)       NaN\n",
       "Flash Test Result               Fail\n",
       "Visual Inspection              Crack\n",
       "Operator ID                   EMP193\n",
       "Final Inspection                Pass\n",
       "Name: 0, dtype: object"
      ]
     },
     "execution_count": 655,
     "metadata": {},
     "output_type": "execute_result"
    }
   ],
   "execution_count": 655
  },
  {
   "metadata": {
    "ExecuteTime": {
     "end_time": "2025-05-22T19:11:58.334395Z",
     "start_time": "2025-05-22T19:11:58.331904Z"
    }
   },
   "cell_type": "code",
   "source": "operator_id = sample_row['Operator ID']",
   "id": "590433486734051f",
   "outputs": [],
   "execution_count": 656
  },
  {
   "metadata": {
    "ExecuteTime": {
     "end_time": "2025-05-22T19:11:58.383559Z",
     "start_time": "2025-05-22T19:11:58.379799Z"
    }
   },
   "cell_type": "code",
   "source": [
    "# compute operator average if available\n",
    "operator_panels = df[\n",
    "    (df['Operator ID'] == operator_id) &\n",
    "    (df['Insulation Resistance (MΩ)'].notna())\n",
    "]"
   ],
   "id": "a93e842986e65a62",
   "outputs": [],
   "execution_count": 657
  },
  {
   "metadata": {
    "ExecuteTime": {
     "end_time": "2025-05-22T19:11:58.431850Z",
     "start_time": "2025-05-22T19:11:58.429067Z"
    }
   },
   "cell_type": "code",
   "source": "operator_avg = operator_panels['Insulation Resistance (MΩ)'].mean()",
   "id": "e514f09ba1cad051",
   "outputs": [],
   "execution_count": 658
  },
  {
   "metadata": {
    "ExecuteTime": {
     "end_time": "2025-05-22T19:11:58.466411Z",
     "start_time": "2025-05-22T19:11:58.462977Z"
    }
   },
   "cell_type": "code",
   "source": "operator_avg",
   "id": "38e986eecaf16b3b",
   "outputs": [
    {
     "data": {
      "text/plain": [
       "np.float64(555.6684210526315)"
      ]
     },
     "execution_count": 659,
     "metadata": {},
     "output_type": "execute_result"
    }
   ],
   "execution_count": 659
  },
  {
   "metadata": {
    "ExecuteTime": {
     "end_time": "2025-05-22T19:11:58.506835Z",
     "start_time": "2025-05-22T19:11:58.503591Z"
    }
   },
   "cell_type": "code",
   "source": [
    "# create fallback layers\n",
    "live_layer = {}\n",
    "average_layer = {}"
   ],
   "id": "1e2d5c7969352ecc",
   "outputs": [],
   "execution_count": 660
  },
  {
   "metadata": {
    "ExecuteTime": {
     "end_time": "2025-05-22T19:11:58.555637Z",
     "start_time": "2025-05-22T19:11:58.552736Z"
    }
   },
   "cell_type": "code",
   "source": [
    "if not pd.isna(sample_row['Insulation Resistance (MΩ)']):\n",
    "    live_layer['Insulation Resistance (MΩ)'] = sample_row['Insulation Resistance (MΩ)']\n",
    "if not pd.isna(operator_avg):\n",
    "    average_layer['Insulation Resistance (MΩ)'] = operator_avg"
   ],
   "id": "79743400e6a7f07c",
   "outputs": [],
   "execution_count": 661
  },
  {
   "metadata": {
    "ExecuteTime": {
     "end_time": "2025-05-22T19:11:58.576414Z",
     "start_time": "2025-05-22T19:11:58.573814Z"
    }
   },
   "cell_type": "code",
   "source": [
    "default_layer = {\n",
    "    'Insulation Resistance (MΩ)': 500\n",
    "}"
   ],
   "id": "f9ddc907db53285c",
   "outputs": [],
   "execution_count": 662
  },
  {
   "metadata": {
    "ExecuteTime": {
     "end_time": "2025-05-22T19:11:58.608641Z",
     "start_time": "2025-05-22T19:11:58.606144Z"
    }
   },
   "cell_type": "code",
   "source": "resistance_chain = ChainMap(live_layer, average_layer, default_layer)",
   "id": "15fa1d9c0b741aef",
   "outputs": [],
   "execution_count": 663
  },
  {
   "metadata": {
    "ExecuteTime": {
     "end_time": "2025-05-22T19:11:58.658666Z",
     "start_time": "2025-05-22T19:11:58.655721Z"
    }
   },
   "cell_type": "code",
   "source": "resolved_resistance = resistance_chain['Insulation Resistance (MΩ)']",
   "id": "59693c4bcd5217be",
   "outputs": [],
   "execution_count": 664
  },
  {
   "metadata": {
    "ExecuteTime": {
     "end_time": "2025-05-22T19:11:58.680234Z",
     "start_time": "2025-05-22T19:11:58.676892Z"
    }
   },
   "cell_type": "code",
   "source": "resolved_resistance",
   "id": "25e2cda040506919",
   "outputs": [
    {
     "data": {
      "text/plain": [
       "np.float64(555.6684210526315)"
      ]
     },
     "execution_count": 665,
     "metadata": {},
     "output_type": "execute_result"
    }
   ],
   "execution_count": 665
  },
  {
   "metadata": {},
   "cell_type": "markdown",
   "source": [
    "### **Exercise 4: Junction Box Status Resolution**\n",
    "\n",
    "**Goal:**\n",
    "Resolve whether a panel has a junction box attached using 3 fallback sources:\n",
    "\n",
    "1. Line data (`Line 1` logs)\n",
    "2. Panel type heuristic\n",
    "3. Default: `No`\n",
    "\n",
    "**Problem:**\n",
    "For panels with unknown attachment, simulate resolution using ChainMap.\n",
    "\n",
    "**Expected Output:**\n",
    "\n",
    "```\n",
    "Panel SP736702 ➜ Junction Box Attached: No\n",
    "```"
   ],
   "id": "9e559b07b78fd86f"
  },
  {
   "metadata": {
    "ExecuteTime": {
     "end_time": "2025-05-22T19:11:58.733683Z",
     "start_time": "2025-05-22T19:11:58.730560Z"
    }
   },
   "cell_type": "code",
   "source": "sample_panel = df[df['Panel Serial No.'] == 'SP736702'].iloc[0]",
   "id": "1e3886df8100e71c",
   "outputs": [],
   "execution_count": 666
  },
  {
   "metadata": {
    "ExecuteTime": {
     "end_time": "2025-05-22T19:11:58.766956Z",
     "start_time": "2025-05-22T19:11:58.762622Z"
    }
   },
   "cell_type": "code",
   "source": "sample_panel",
   "id": "c9b06f33403528fa",
   "outputs": [
    {
     "data": {
      "text/plain": [
       "Date                             2025-04-08\n",
       "Shift                               Shift 1\n",
       "Panel Serial No.                   SP736702\n",
       "Panel Type                        Thin-Film\n",
       "Assembly Line                        Line 3\n",
       "Cycle Time (s)                        980.8\n",
       "Number of Cells                          60\n",
       "Cell Alignment Deviation (mm)          0.24\n",
       "Glass Thickness (mm)                    3.1\n",
       "Junction Box Attached                    No\n",
       "Power Output (W)                      312.5\n",
       "Efficiency (%)                        19.62\n",
       "Insulation Resistance (MΩ)            990.1\n",
       "Flash Test Result                      Pass\n",
       "Visual Inspection                   Scratch\n",
       "Operator ID                          EMP193\n",
       "Final Inspection                       Pass\n",
       "Name: 1, dtype: object"
      ]
     },
     "execution_count": 667,
     "metadata": {},
     "output_type": "execute_result"
    }
   ],
   "execution_count": 667
  },
  {
   "metadata": {
    "ExecuteTime": {
     "end_time": "2025-05-22T19:11:58.825844Z",
     "start_time": "2025-05-22T19:11:58.823251Z"
    }
   },
   "cell_type": "code",
   "source": "sample_panel['Junction Box Attached'] = np.nan",
   "id": "7bb9696a72bba478",
   "outputs": [],
   "execution_count": 668
  },
  {
   "metadata": {
    "ExecuteTime": {
     "end_time": "2025-05-22T19:11:58.866269Z",
     "start_time": "2025-05-22T19:11:58.862194Z"
    }
   },
   "cell_type": "code",
   "source": "sample_panel",
   "id": "7d636d63197fc0da",
   "outputs": [
    {
     "data": {
      "text/plain": [
       "Date                             2025-04-08\n",
       "Shift                               Shift 1\n",
       "Panel Serial No.                   SP736702\n",
       "Panel Type                        Thin-Film\n",
       "Assembly Line                        Line 3\n",
       "Cycle Time (s)                        980.8\n",
       "Number of Cells                          60\n",
       "Cell Alignment Deviation (mm)          0.24\n",
       "Glass Thickness (mm)                    3.1\n",
       "Junction Box Attached                   NaN\n",
       "Power Output (W)                      312.5\n",
       "Efficiency (%)                        19.62\n",
       "Insulation Resistance (MΩ)            990.1\n",
       "Flash Test Result                      Pass\n",
       "Visual Inspection                   Scratch\n",
       "Operator ID                          EMP193\n",
       "Final Inspection                       Pass\n",
       "Name: 1, dtype: object"
      ]
     },
     "execution_count": 669,
     "metadata": {},
     "output_type": "execute_result"
    }
   ],
   "execution_count": 669
  },
  {
   "metadata": {
    "ExecuteTime": {
     "end_time": "2025-05-22T19:11:58.925807Z",
     "start_time": "2025-05-22T19:11:58.923387Z"
    }
   },
   "cell_type": "code",
   "source": [
    "line_data_layer = {}\n",
    "if pd.isna(sample_panel['Junction Box Attached']):\n",
    "    line_data_layer['Serial Number'] = sample_panel['Panel Serial No.']"
   ],
   "id": "7414db12642b333",
   "outputs": [],
   "execution_count": 670
  },
  {
   "metadata": {
    "ExecuteTime": {
     "end_time": "2025-05-22T19:11:58.949503Z",
     "start_time": "2025-05-22T19:11:58.946979Z"
    }
   },
   "cell_type": "code",
   "source": [
    "panel_type_heuristic = {\n",
    "    'Serial Number': sample_panel['Panel Serial No.'],\n",
    "}"
   ],
   "id": "f1d247060ad52bc3",
   "outputs": [],
   "execution_count": 671
  },
  {
   "metadata": {
    "ExecuteTime": {
     "end_time": "2025-05-22T19:11:58.982624Z",
     "start_time": "2025-05-22T19:11:58.980188Z"
    }
   },
   "cell_type": "code",
   "source": [
    "default = {\n",
    "    'Junction Box Attached': 'No',\n",
    "}"
   ],
   "id": "dd5ca9d6f6c60d04",
   "outputs": [],
   "execution_count": 672
  },
  {
   "metadata": {
    "ExecuteTime": {
     "end_time": "2025-05-22T19:11:59.028745Z",
     "start_time": "2025-05-22T19:11:59.025811Z"
    }
   },
   "cell_type": "code",
   "source": "resolution_jb = ChainMap(line_data_layer, panel_type_heuristic, default)",
   "id": "eb31ee7e39fdd852",
   "outputs": [],
   "execution_count": 673
  },
  {
   "metadata": {
    "ExecuteTime": {
     "end_time": "2025-05-22T19:11:59.064717Z",
     "start_time": "2025-05-22T19:11:59.062080Z"
    }
   },
   "cell_type": "code",
   "source": [
    "# Panel SP736702 ➜ Junction Box Attached: No\n",
    "print(f'Panel {resolution_jb[\"Serial Number\"]} --> Junction Box Attached: {resolution_jb[\"Junction Box Attached\"]}')"
   ],
   "id": "b8c428e445528e05",
   "outputs": [
    {
     "name": "stdout",
     "output_type": "stream",
     "text": [
      "Panel SP736702 --> Junction Box Attached: No\n"
     ]
    }
   ],
   "execution_count": 674
  },
  {
   "metadata": {},
   "cell_type": "markdown",
   "source": [
    "### **Exercise 5: Cell Count Resolution**\n",
    "\n",
    "**Goal:**\n",
    "If `Number of Cells` is missing or inconsistent, fallback to:\n",
    "\n",
    "1. Panel Type average\n",
    "2. Line average\n",
    "3. Default: 60\n",
    "\n",
    "**Expected Output:**\n",
    "\n",
    "```\n",
    "Resolved Cell Count ➜ 72\n",
    "```\n"
   ],
   "id": "971748973b00d948"
  },
  {
   "metadata": {
    "ExecuteTime": {
     "end_time": "2025-05-22T19:11:59.119014Z",
     "start_time": "2025-05-22T19:11:59.113818Z"
    }
   },
   "cell_type": "code",
   "source": "panel_type = df.groupby(['Panel Type','Number of Cells']).count()",
   "id": "5dc0e21ee2599cfd",
   "outputs": [],
   "execution_count": 675
  },
  {
   "metadata": {
    "ExecuteTime": {
     "end_time": "2025-05-22T19:11:59.141453Z",
     "start_time": "2025-05-22T19:11:59.134751Z"
    }
   },
   "cell_type": "code",
   "source": "panel_type",
   "id": "df300eed38611396",
   "outputs": [
    {
     "data": {
      "text/plain": [
       "                                 Date  Shift  Panel Serial No.  Assembly Line  \\\n",
       "Panel Type      Number of Cells                                                 \n",
       "Monocrystalline 60                 44     44                44             44   \n",
       "                72                 41     41                41             41   \n",
       "Polycrystalline 60                 32     32                32             32   \n",
       "                72                 39     39                39             39   \n",
       "Thin-Film       60                 41     41                41             41   \n",
       "                72                 33     33                33             33   \n",
       "\n",
       "                                 Cycle Time (s)  \\\n",
       "Panel Type      Number of Cells                   \n",
       "Monocrystalline 60                           44   \n",
       "                72                           41   \n",
       "Polycrystalline 60                           32   \n",
       "                72                           39   \n",
       "Thin-Film       60                           41   \n",
       "                72                           33   \n",
       "\n",
       "                                 Cell Alignment Deviation (mm)  \\\n",
       "Panel Type      Number of Cells                                  \n",
       "Monocrystalline 60                                          44   \n",
       "                72                                          41   \n",
       "Polycrystalline 60                                          32   \n",
       "                72                                          39   \n",
       "Thin-Film       60                                          41   \n",
       "                72                                          33   \n",
       "\n",
       "                                 Glass Thickness (mm)  Junction Box Attached  \\\n",
       "Panel Type      Number of Cells                                                \n",
       "Monocrystalline 60                                 44                     44   \n",
       "                72                                 41                     41   \n",
       "Polycrystalline 60                                 32                     32   \n",
       "                72                                 39                     39   \n",
       "Thin-Film       60                                 41                     41   \n",
       "                72                                 33                     33   \n",
       "\n",
       "                                 Power Output (W)  Efficiency (%)  \\\n",
       "Panel Type      Number of Cells                                     \n",
       "Monocrystalline 60                             44              44   \n",
       "                72                             41              41   \n",
       "Polycrystalline 60                             32              32   \n",
       "                72                             39              39   \n",
       "Thin-Film       60                             41              41   \n",
       "                72                             33              33   \n",
       "\n",
       "                                 Insulation Resistance (MΩ)  \\\n",
       "Panel Type      Number of Cells                               \n",
       "Monocrystalline 60                                       44   \n",
       "                72                                       41   \n",
       "Polycrystalline 60                                       32   \n",
       "                72                                       39   \n",
       "Thin-Film       60                                       41   \n",
       "                72                                       33   \n",
       "\n",
       "                                 Flash Test Result  Visual Inspection  \\\n",
       "Panel Type      Number of Cells                                         \n",
       "Monocrystalline 60                              44                 44   \n",
       "                72                              41                 41   \n",
       "Polycrystalline 60                              32                 32   \n",
       "                72                              39                 39   \n",
       "Thin-Film       60                              41                 41   \n",
       "                72                              33                 33   \n",
       "\n",
       "                                 Operator ID  Final Inspection  \n",
       "Panel Type      Number of Cells                                 \n",
       "Monocrystalline 60                        44                44  \n",
       "                72                        41                41  \n",
       "Polycrystalline 60                        32                32  \n",
       "                72                        39                39  \n",
       "Thin-Film       60                        41                41  \n",
       "                72                        33                33  "
      ],
      "text/html": [
       "<div>\n",
       "<style scoped>\n",
       "    .dataframe tbody tr th:only-of-type {\n",
       "        vertical-align: middle;\n",
       "    }\n",
       "\n",
       "    .dataframe tbody tr th {\n",
       "        vertical-align: top;\n",
       "    }\n",
       "\n",
       "    .dataframe thead th {\n",
       "        text-align: right;\n",
       "    }\n",
       "</style>\n",
       "<table border=\"1\" class=\"dataframe\">\n",
       "  <thead>\n",
       "    <tr style=\"text-align: right;\">\n",
       "      <th></th>\n",
       "      <th></th>\n",
       "      <th>Date</th>\n",
       "      <th>Shift</th>\n",
       "      <th>Panel Serial No.</th>\n",
       "      <th>Assembly Line</th>\n",
       "      <th>Cycle Time (s)</th>\n",
       "      <th>Cell Alignment Deviation (mm)</th>\n",
       "      <th>Glass Thickness (mm)</th>\n",
       "      <th>Junction Box Attached</th>\n",
       "      <th>Power Output (W)</th>\n",
       "      <th>Efficiency (%)</th>\n",
       "      <th>Insulation Resistance (MΩ)</th>\n",
       "      <th>Flash Test Result</th>\n",
       "      <th>Visual Inspection</th>\n",
       "      <th>Operator ID</th>\n",
       "      <th>Final Inspection</th>\n",
       "    </tr>\n",
       "    <tr>\n",
       "      <th>Panel Type</th>\n",
       "      <th>Number of Cells</th>\n",
       "      <th></th>\n",
       "      <th></th>\n",
       "      <th></th>\n",
       "      <th></th>\n",
       "      <th></th>\n",
       "      <th></th>\n",
       "      <th></th>\n",
       "      <th></th>\n",
       "      <th></th>\n",
       "      <th></th>\n",
       "      <th></th>\n",
       "      <th></th>\n",
       "      <th></th>\n",
       "      <th></th>\n",
       "      <th></th>\n",
       "    </tr>\n",
       "  </thead>\n",
       "  <tbody>\n",
       "    <tr>\n",
       "      <th rowspan=\"2\" valign=\"top\">Monocrystalline</th>\n",
       "      <th>60</th>\n",
       "      <td>44</td>\n",
       "      <td>44</td>\n",
       "      <td>44</td>\n",
       "      <td>44</td>\n",
       "      <td>44</td>\n",
       "      <td>44</td>\n",
       "      <td>44</td>\n",
       "      <td>44</td>\n",
       "      <td>44</td>\n",
       "      <td>44</td>\n",
       "      <td>44</td>\n",
       "      <td>44</td>\n",
       "      <td>44</td>\n",
       "      <td>44</td>\n",
       "      <td>44</td>\n",
       "    </tr>\n",
       "    <tr>\n",
       "      <th>72</th>\n",
       "      <td>41</td>\n",
       "      <td>41</td>\n",
       "      <td>41</td>\n",
       "      <td>41</td>\n",
       "      <td>41</td>\n",
       "      <td>41</td>\n",
       "      <td>41</td>\n",
       "      <td>41</td>\n",
       "      <td>41</td>\n",
       "      <td>41</td>\n",
       "      <td>41</td>\n",
       "      <td>41</td>\n",
       "      <td>41</td>\n",
       "      <td>41</td>\n",
       "      <td>41</td>\n",
       "    </tr>\n",
       "    <tr>\n",
       "      <th rowspan=\"2\" valign=\"top\">Polycrystalline</th>\n",
       "      <th>60</th>\n",
       "      <td>32</td>\n",
       "      <td>32</td>\n",
       "      <td>32</td>\n",
       "      <td>32</td>\n",
       "      <td>32</td>\n",
       "      <td>32</td>\n",
       "      <td>32</td>\n",
       "      <td>32</td>\n",
       "      <td>32</td>\n",
       "      <td>32</td>\n",
       "      <td>32</td>\n",
       "      <td>32</td>\n",
       "      <td>32</td>\n",
       "      <td>32</td>\n",
       "      <td>32</td>\n",
       "    </tr>\n",
       "    <tr>\n",
       "      <th>72</th>\n",
       "      <td>39</td>\n",
       "      <td>39</td>\n",
       "      <td>39</td>\n",
       "      <td>39</td>\n",
       "      <td>39</td>\n",
       "      <td>39</td>\n",
       "      <td>39</td>\n",
       "      <td>39</td>\n",
       "      <td>39</td>\n",
       "      <td>39</td>\n",
       "      <td>39</td>\n",
       "      <td>39</td>\n",
       "      <td>39</td>\n",
       "      <td>39</td>\n",
       "      <td>39</td>\n",
       "    </tr>\n",
       "    <tr>\n",
       "      <th rowspan=\"2\" valign=\"top\">Thin-Film</th>\n",
       "      <th>60</th>\n",
       "      <td>41</td>\n",
       "      <td>41</td>\n",
       "      <td>41</td>\n",
       "      <td>41</td>\n",
       "      <td>41</td>\n",
       "      <td>41</td>\n",
       "      <td>41</td>\n",
       "      <td>41</td>\n",
       "      <td>41</td>\n",
       "      <td>41</td>\n",
       "      <td>41</td>\n",
       "      <td>41</td>\n",
       "      <td>41</td>\n",
       "      <td>41</td>\n",
       "      <td>41</td>\n",
       "    </tr>\n",
       "    <tr>\n",
       "      <th>72</th>\n",
       "      <td>33</td>\n",
       "      <td>33</td>\n",
       "      <td>33</td>\n",
       "      <td>33</td>\n",
       "      <td>33</td>\n",
       "      <td>33</td>\n",
       "      <td>33</td>\n",
       "      <td>33</td>\n",
       "      <td>33</td>\n",
       "      <td>33</td>\n",
       "      <td>33</td>\n",
       "      <td>33</td>\n",
       "      <td>33</td>\n",
       "      <td>33</td>\n",
       "      <td>33</td>\n",
       "    </tr>\n",
       "  </tbody>\n",
       "</table>\n",
       "</div>"
      ]
     },
     "execution_count": 676,
     "metadata": {},
     "output_type": "execute_result"
    }
   ],
   "execution_count": 676
  },
  {
   "metadata": {
    "ExecuteTime": {
     "end_time": "2025-05-22T19:11:59.166772Z",
     "start_time": "2025-05-22T19:11:59.163808Z"
    }
   },
   "cell_type": "code",
   "source": "sample = df.iloc[0].copy()",
   "id": "52b35f38bdfb5d58",
   "outputs": [],
   "execution_count": 677
  },
  {
   "metadata": {
    "ExecuteTime": {
     "end_time": "2025-05-22T19:11:59.235930Z",
     "start_time": "2025-05-22T19:11:59.231813Z"
    }
   },
   "cell_type": "code",
   "source": "sample",
   "id": "c18d86a87208c450",
   "outputs": [
    {
     "data": {
      "text/plain": [
       "Date                                  2025-04-21\n",
       "Shift                                    Shift 1\n",
       "Panel Serial No.                        SP819428\n",
       "Panel Type                       Polycrystalline\n",
       "Assembly Line                             Line 1\n",
       "Cycle Time (s)                            1005.9\n",
       "Number of Cells                               72\n",
       "Cell Alignment Deviation (mm)               0.17\n",
       "Glass Thickness (mm)                         3.9\n",
       "Junction Box Attached                         No\n",
       "Power Output (W)                           358.3\n",
       "Efficiency (%)                             18.03\n",
       "Insulation Resistance (MΩ)                 604.6\n",
       "Flash Test Result                           Fail\n",
       "Visual Inspection                          Crack\n",
       "Operator ID                               EMP193\n",
       "Final Inspection                            Pass\n",
       "Name: 0, dtype: object"
      ]
     },
     "execution_count": 678,
     "metadata": {},
     "output_type": "execute_result"
    }
   ],
   "execution_count": 678
  },
  {
   "metadata": {
    "ExecuteTime": {
     "end_time": "2025-05-22T19:11:59.299379Z",
     "start_time": "2025-05-22T19:11:59.296024Z"
    }
   },
   "cell_type": "code",
   "source": [
    "type_mode = (\n",
    "    df[df['Panel Type'] == sample['Panel Type']]['Number of Cells']\n",
    "    .mode()\n",
    "    .iloc[0]\n",
    ")"
   ],
   "id": "52f10d86bd37b607",
   "outputs": [],
   "execution_count": 679
  },
  {
   "metadata": {
    "ExecuteTime": {
     "end_time": "2025-05-22T19:11:59.349036Z",
     "start_time": "2025-05-22T19:11:59.345593Z"
    }
   },
   "cell_type": "code",
   "source": "type_mode",
   "id": "b3b9adabc2af48ce",
   "outputs": [
    {
     "data": {
      "text/plain": [
       "np.int64(72)"
      ]
     },
     "execution_count": 680,
     "metadata": {},
     "output_type": "execute_result"
    }
   ],
   "execution_count": 680
  },
  {
   "metadata": {
    "ExecuteTime": {
     "end_time": "2025-05-22T19:11:59.474144Z",
     "start_time": "2025-05-22T19:11:59.471821Z"
    }
   },
   "cell_type": "code",
   "source": [
    "panel_type_mode = {\n",
    "    'Number of Cells': type_mode,\n",
    "}"
   ],
   "id": "2203eee4242b29fc",
   "outputs": [],
   "execution_count": 681
  },
  {
   "metadata": {
    "ExecuteTime": {
     "end_time": "2025-05-22T19:11:59.516240Z",
     "start_time": "2025-05-22T19:11:59.512672Z"
    }
   },
   "cell_type": "code",
   "source": [
    "line_mode = (\n",
    "    df[df['Assembly Line'] == sample['Assembly Line']]['Number of Cells']\n",
    "    .mode()\n",
    "    .iloc[0]\n",
    ")"
   ],
   "id": "1629e6a50386c8f0",
   "outputs": [],
   "execution_count": 682
  },
  {
   "metadata": {
    "ExecuteTime": {
     "end_time": "2025-05-22T19:11:59.567601Z",
     "start_time": "2025-05-22T19:11:59.563708Z"
    }
   },
   "cell_type": "code",
   "source": "line_mode",
   "id": "f787b09c8638e0c3",
   "outputs": [
    {
     "data": {
      "text/plain": [
       "np.int64(72)"
      ]
     },
     "execution_count": 683,
     "metadata": {},
     "output_type": "execute_result"
    }
   ],
   "execution_count": 683
  },
  {
   "metadata": {
    "ExecuteTime": {
     "end_time": "2025-05-22T19:11:59.583230Z",
     "start_time": "2025-05-22T19:11:59.580503Z"
    }
   },
   "cell_type": "code",
   "source": [
    "line_avg_layer = {\n",
    "    'Number of Cells': line_mode,\n",
    "}"
   ],
   "id": "3ca8c9cd8a9ae5bd",
   "outputs": [],
   "execution_count": 684
  },
  {
   "metadata": {
    "ExecuteTime": {
     "end_time": "2025-05-22T19:11:59.604396Z",
     "start_time": "2025-05-22T19:11:59.602142Z"
    }
   },
   "cell_type": "code",
   "source": [
    "default = {\n",
    "    'number of cells': 60,\n",
    "}"
   ],
   "id": "49e5c65574722432",
   "outputs": [],
   "execution_count": 685
  },
  {
   "metadata": {
    "ExecuteTime": {
     "end_time": "2025-05-22T19:11:59.671509Z",
     "start_time": "2025-05-22T19:11:59.668662Z"
    }
   },
   "cell_type": "code",
   "source": "resolved = ChainMap(panel_type_mode, line_avg_layer, default)",
   "id": "7f67f71baa6026bb",
   "outputs": [],
   "execution_count": 686
  },
  {
   "metadata": {
    "ExecuteTime": {
     "end_time": "2025-05-22T19:11:59.693265Z",
     "start_time": "2025-05-22T19:11:59.689811Z"
    }
   },
   "cell_type": "code",
   "source": "resolved['Number of Cells']",
   "id": "544741d7343b3011",
   "outputs": [
    {
     "data": {
      "text/plain": [
       "np.int64(72)"
      ]
     },
     "execution_count": 687,
     "metadata": {},
     "output_type": "execute_result"
    }
   ],
   "execution_count": 687
  },
  {
   "metadata": {},
   "cell_type": "markdown",
   "source": [
    "### **Exercise 6: Determine True Final Status**\n",
    "\n",
    "**Goal:**\n",
    "Combine `Flash Test Result`, `Visual Inspection`, and `Final Inspection` using override priority:\n",
    "\n",
    "1. QA override (ChainMap layer 1)\n",
    "2. Inspector override\n",
    "3. Original result\n",
    "\n",
    "**Expected Output:**\n",
    "\n",
    "```\n",
    "Final Result: FAIL (due to visual inspection)\n",
    "```"
   ],
   "id": "3efba73dec653557"
  },
  {
   "metadata": {
    "ExecuteTime": {
     "end_time": "2025-05-22T19:11:59.706671Z",
     "start_time": "2025-05-22T19:11:59.703921Z"
    }
   },
   "cell_type": "code",
   "source": "ex_6_data = df[['Flash Test Result', 'Visual Inspection', 'Final Inspection']]",
   "id": "208294e4b4e35a5a",
   "outputs": [],
   "execution_count": 688
  },
  {
   "metadata": {
    "ExecuteTime": {
     "end_time": "2025-05-22T19:11:59.775115Z",
     "start_time": "2025-05-22T19:11:59.772526Z"
    }
   },
   "cell_type": "code",
   "source": "final_status = ex_6_data.iloc[0].copy()",
   "id": "d53598fdb04921d0",
   "outputs": [],
   "execution_count": 689
  },
  {
   "metadata": {
    "ExecuteTime": {
     "end_time": "2025-05-22T19:11:59.813315Z",
     "start_time": "2025-05-22T19:11:59.809440Z"
    }
   },
   "cell_type": "code",
   "source": "final_status",
   "id": "9ee0b4b02266fd34",
   "outputs": [
    {
     "data": {
      "text/plain": [
       "Flash Test Result     Fail\n",
       "Visual Inspection    Crack\n",
       "Final Inspection      Pass\n",
       "Name: 0, dtype: object"
      ]
     },
     "execution_count": 690,
     "metadata": {},
     "output_type": "execute_result"
    }
   ],
   "execution_count": 690
  },
  {
   "metadata": {
    "ExecuteTime": {
     "end_time": "2025-05-22T19:11:59.855358Z",
     "start_time": "2025-05-22T19:11:59.852758Z"
    }
   },
   "cell_type": "code",
   "source": [
    "original_result = {\n",
    "    'flash_test_result': final_status['Flash Test Result'],\n",
    "    'visual_inspection': final_status['Visual Inspection'],\n",
    "    'final_inspection': final_status['Final Inspection'],\n",
    "}"
   ],
   "id": "26711ca66e435b39",
   "outputs": [],
   "execution_count": 691
  },
  {
   "metadata": {
    "ExecuteTime": {
     "end_time": "2025-05-22T19:11:59.924052Z",
     "start_time": "2025-05-22T19:11:59.921735Z"
    }
   },
   "cell_type": "code",
   "source": [
    "qa_override = {\n",
    "    'final_inspection': 'Pass',\n",
    "}"
   ],
   "id": "7420aea56f2fbd68",
   "outputs": [],
   "execution_count": 692
  },
  {
   "metadata": {
    "ExecuteTime": {
     "end_time": "2025-05-22T19:11:59.974434Z",
     "start_time": "2025-05-22T19:11:59.971972Z"
    }
   },
   "cell_type": "code",
   "source": [
    "inspector_override = {\n",
    "    'final_inspection': 'Fail',\n",
    "}"
   ],
   "id": "356a9d9fc20b6ddb",
   "outputs": [],
   "execution_count": 693
  },
  {
   "metadata": {
    "ExecuteTime": {
     "end_time": "2025-05-22T19:12:00.006870Z",
     "start_time": "2025-05-22T19:12:00.004027Z"
    }
   },
   "cell_type": "code",
   "source": "status_chain = ChainMap(qa_override, inspector_override, original_result)",
   "id": "9ada60c225fe319d",
   "outputs": [],
   "execution_count": 694
  },
  {
   "metadata": {
    "ExecuteTime": {
     "end_time": "2025-05-22T19:12:00.067017Z",
     "start_time": "2025-05-22T19:12:00.064152Z"
    }
   },
   "cell_type": "code",
   "source": "final_result = status_chain['final_inspection']",
   "id": "8d7b7b22a4c264b1",
   "outputs": [],
   "execution_count": 695
  },
  {
   "metadata": {
    "ExecuteTime": {
     "end_time": "2025-05-22T19:12:00.085245Z",
     "start_time": "2025-05-22T19:12:00.081803Z"
    }
   },
   "cell_type": "code",
   "source": "final_result",
   "id": "d34e808d485f0175",
   "outputs": [
    {
     "data": {
      "text/plain": [
       "'Pass'"
      ]
     },
     "execution_count": 696,
     "metadata": {},
     "output_type": "execute_result"
    }
   ],
   "execution_count": 696
  },
  {
   "metadata": {
    "ExecuteTime": {
     "end_time": "2025-05-22T19:12:00.116595Z",
     "start_time": "2025-05-22T19:12:00.114176Z"
    }
   },
   "cell_type": "code",
   "source": [
    "if status_chain['visual_inspection'].lower() in ['crack', 'scratch']:\n",
    "    final_result = 'Fail (due to visual inspection)'"
   ],
   "id": "c245b08046fc7545",
   "outputs": [],
   "execution_count": 697
  },
  {
   "metadata": {
    "ExecuteTime": {
     "end_time": "2025-05-22T19:12:00.170303Z",
     "start_time": "2025-05-22T19:12:00.167031Z"
    }
   },
   "cell_type": "code",
   "source": "final_result",
   "id": "14a08cac5fcb4ac8",
   "outputs": [
    {
     "data": {
      "text/plain": [
       "'Fail (due to visual inspection)'"
      ]
     },
     "execution_count": 698,
     "metadata": {},
     "output_type": "execute_result"
    }
   ],
   "execution_count": 698
  },
  {
   "metadata": {},
   "cell_type": "markdown",
   "source": [
    "### **Exercise 7: Fallback Efficiency Calculation**\n",
    "\n",
    "**Goal:**\n",
    "If `Efficiency (%)` is missing, resolve it via:\n",
    "\n",
    "1. Flash Pass average\n",
    "2. Line-specific average\n",
    "3. Global average\n",
    "\n",
    "**Expected Output:**\n",
    "\n",
    "```\n",
    "Resolved Efficiency: 18.77%\n",
    "```"
   ],
   "id": "a7eb734f9d8c93d5"
  },
  {
   "metadata": {
    "ExecuteTime": {
     "end_time": "2025-05-22T19:12:00.191286Z",
     "start_time": "2025-05-22T19:12:00.188425Z"
    }
   },
   "cell_type": "code",
   "source": "flash_pass_average = df[df['Flash Test Result'] == 'Pass']['Efficiency (%)'].mean()",
   "id": "fbbd62f6a78d0f58",
   "outputs": [],
   "execution_count": 699
  },
  {
   "metadata": {
    "ExecuteTime": {
     "end_time": "2025-05-22T19:12:00.243416Z",
     "start_time": "2025-05-22T19:12:00.240060Z"
    }
   },
   "cell_type": "code",
   "source": "flash_pass_average",
   "id": "de2d98981f380660",
   "outputs": [
    {
     "data": {
      "text/plain": [
       "np.float64(18.631484375)"
      ]
     },
     "execution_count": 700,
     "metadata": {},
     "output_type": "execute_result"
    }
   ],
   "execution_count": 700
  },
  {
   "metadata": {
    "ExecuteTime": {
     "end_time": "2025-05-22T19:12:00.278790Z",
     "start_time": "2025-05-22T19:12:00.275732Z"
    }
   },
   "cell_type": "code",
   "source": "line_specific_average = df[df['Assembly Line'] == 'Line 1']['Efficiency (%)'].mean()",
   "id": "a8182c1ddc0e6d2b",
   "outputs": [],
   "execution_count": 701
  },
  {
   "metadata": {
    "ExecuteTime": {
     "end_time": "2025-05-22T19:12:00.339683Z",
     "start_time": "2025-05-22T19:12:00.336494Z"
    }
   },
   "cell_type": "code",
   "source": "line_specific_average",
   "id": "a712291670d95cd8",
   "outputs": [
    {
     "data": {
      "text/plain": [
       "np.float64(18.467123287671228)"
      ]
     },
     "execution_count": 702,
     "metadata": {},
     "output_type": "execute_result"
    }
   ],
   "execution_count": 702
  },
  {
   "metadata": {
    "ExecuteTime": {
     "end_time": "2025-05-22T19:12:00.358598Z",
     "start_time": "2025-05-22T19:12:00.356072Z"
    }
   },
   "cell_type": "code",
   "source": "global_average = df['Efficiency (%)'].mean()",
   "id": "b1e2e1248819d5c5",
   "outputs": [],
   "execution_count": 703
  },
  {
   "metadata": {
    "ExecuteTime": {
     "end_time": "2025-05-22T19:12:00.385601Z",
     "start_time": "2025-05-22T19:12:00.382075Z"
    }
   },
   "cell_type": "code",
   "source": "global_average",
   "id": "dc0b7ae9b43453d7",
   "outputs": [
    {
     "data": {
      "text/plain": [
       "np.float64(18.5824347826087)"
      ]
     },
     "execution_count": 704,
     "metadata": {},
     "output_type": "execute_result"
    }
   ],
   "execution_count": 704
  },
  {
   "metadata": {
    "ExecuteTime": {
     "end_time": "2025-05-22T19:12:00.443905Z",
     "start_time": "2025-05-22T19:12:00.441448Z"
    }
   },
   "cell_type": "code",
   "source": [
    "efficiency_chain = ChainMap(\n",
    "    {'Efficiency (%)': flash_pass_average},\n",
    "    {'Efficiency (%)': line_specific_average},\n",
    "    {'Efficiency (%)': global_average},\n",
    ")"
   ],
   "id": "ea7cf58892172ad9",
   "outputs": [],
   "execution_count": 705
  },
  {
   "metadata": {
    "ExecuteTime": {
     "end_time": "2025-05-22T19:12:00.496186Z",
     "start_time": "2025-05-22T19:12:00.493910Z"
    }
   },
   "cell_type": "code",
   "source": "resolve_efficiency = round(efficiency_chain['Efficiency (%)'], 2)",
   "id": "d77503b3fc365b56",
   "outputs": [],
   "execution_count": 706
  },
  {
   "metadata": {
    "ExecuteTime": {
     "end_time": "2025-05-22T19:12:00.530515Z",
     "start_time": "2025-05-22T19:12:00.527129Z"
    }
   },
   "cell_type": "code",
   "source": "resolve_efficiency",
   "id": "657a1cb0477c2862",
   "outputs": [
    {
     "data": {
      "text/plain": [
       "np.float64(18.63)"
      ]
     },
     "execution_count": 707,
     "metadata": {},
     "output_type": "execute_result"
    }
   ],
   "execution_count": 707
  },
  {
   "metadata": {},
   "cell_type": "markdown",
   "source": [
    "### **Exercise 8: Override Operator ID for Batch**\n",
    "\n",
    "**Goal:**\n",
    "For a specific batch of panels, apply temporary operator override using ChainMap:\n",
    "\n",
    "* Layer 1: Temp override → `{'Operator ID': 'EMP999'}`\n",
    "* Layer 2: Original records\n",
    "\n",
    "**Expected Output:**\n",
    "\n",
    "```\n",
    "Effective Operator ID for SP819428 ➜ EMP999\n",
    "```"
   ],
   "id": "889ffd232022efe4"
  },
  {
   "metadata": {
    "ExecuteTime": {
     "end_time": "2025-05-22T19:12:00.579517Z",
     "start_time": "2025-05-22T19:12:00.576716Z"
    }
   },
   "cell_type": "code",
   "source": "record = df[['Panel Serial No.', 'Operator ID']]",
   "id": "55258913058fd96a",
   "outputs": [],
   "execution_count": 708
  },
  {
   "metadata": {
    "ExecuteTime": {
     "end_time": "2025-05-22T19:12:00.600299Z",
     "start_time": "2025-05-22T19:12:00.595751Z"
    }
   },
   "cell_type": "code",
   "source": "record.head(3)",
   "id": "ce974fb49c3d5a37",
   "outputs": [
    {
     "data": {
      "text/plain": [
       "  Panel Serial No. Operator ID\n",
       "0         SP819428      EMP193\n",
       "1         SP736702      EMP193\n",
       "2         SP352954      EMP193"
      ],
      "text/html": [
       "<div>\n",
       "<style scoped>\n",
       "    .dataframe tbody tr th:only-of-type {\n",
       "        vertical-align: middle;\n",
       "    }\n",
       "\n",
       "    .dataframe tbody tr th {\n",
       "        vertical-align: top;\n",
       "    }\n",
       "\n",
       "    .dataframe thead th {\n",
       "        text-align: right;\n",
       "    }\n",
       "</style>\n",
       "<table border=\"1\" class=\"dataframe\">\n",
       "  <thead>\n",
       "    <tr style=\"text-align: right;\">\n",
       "      <th></th>\n",
       "      <th>Panel Serial No.</th>\n",
       "      <th>Operator ID</th>\n",
       "    </tr>\n",
       "  </thead>\n",
       "  <tbody>\n",
       "    <tr>\n",
       "      <th>0</th>\n",
       "      <td>SP819428</td>\n",
       "      <td>EMP193</td>\n",
       "    </tr>\n",
       "    <tr>\n",
       "      <th>1</th>\n",
       "      <td>SP736702</td>\n",
       "      <td>EMP193</td>\n",
       "    </tr>\n",
       "    <tr>\n",
       "      <th>2</th>\n",
       "      <td>SP352954</td>\n",
       "      <td>EMP193</td>\n",
       "    </tr>\n",
       "  </tbody>\n",
       "</table>\n",
       "</div>"
      ]
     },
     "execution_count": 709,
     "metadata": {},
     "output_type": "execute_result"
    }
   ],
   "execution_count": 709
  },
  {
   "metadata": {
    "ExecuteTime": {
     "end_time": "2025-05-22T19:12:00.621288Z",
     "start_time": "2025-05-22T19:12:00.618040Z"
    }
   },
   "cell_type": "code",
   "source": [
    "original_record = {\n",
    "    'Panel Serial No': record.iloc[0]['Panel Serial No.'],\n",
    "    'Operator ID': record.iloc[0]['Operator ID'],\n",
    "}"
   ],
   "id": "772a69536f168410",
   "outputs": [],
   "execution_count": 710
  },
  {
   "metadata": {
    "ExecuteTime": {
     "end_time": "2025-05-22T19:12:00.706239Z",
     "start_time": "2025-05-22T19:12:00.702904Z"
    }
   },
   "cell_type": "code",
   "source": "original_record",
   "id": "aebd354f3f98a977",
   "outputs": [
    {
     "data": {
      "text/plain": [
       "{'Panel Serial No': 'SP819428', 'Operator ID': 'EMP193'}"
      ]
     },
     "execution_count": 711,
     "metadata": {},
     "output_type": "execute_result"
    }
   ],
   "execution_count": 711
  },
  {
   "metadata": {
    "ExecuteTime": {
     "end_time": "2025-05-22T19:12:00.743958Z",
     "start_time": "2025-05-22T19:12:00.741532Z"
    }
   },
   "cell_type": "code",
   "source": [
    "temp_override = {\n",
    "    'Operator ID': 'EMP999',\n",
    "}"
   ],
   "id": "4c913b77a52220f7",
   "outputs": [],
   "execution_count": 712
  },
  {
   "metadata": {
    "ExecuteTime": {
     "end_time": "2025-05-22T19:12:00.843474Z",
     "start_time": "2025-05-22T19:12:00.841196Z"
    }
   },
   "cell_type": "code",
   "source": "effective_operator_id = ChainMap(temp_override, original_record)",
   "id": "8592d0dc9090443e",
   "outputs": [],
   "execution_count": 713
  },
  {
   "metadata": {
    "ExecuteTime": {
     "end_time": "2025-05-22T19:12:00.886499Z",
     "start_time": "2025-05-22T19:12:00.883332Z"
    }
   },
   "cell_type": "code",
   "source": "print(f'Effective Operator ID for {effective_operator_id['Panel Serial No']} --> {effective_operator_id[\"Operator ID\"]}')",
   "id": "fedeeed1f43e0ad6",
   "outputs": [
    {
     "name": "stdout",
     "output_type": "stream",
     "text": [
      "Effective Operator ID for SP819428 --> EMP999\n"
     ]
    }
   ],
   "execution_count": 714
  },
  {
   "metadata": {},
   "cell_type": "markdown",
   "source": [
    "### **Exercise 9: Filter Panels with Resolved Power Output**\n",
    "\n",
    "**Goal:**\n",
    "Use ChainMap to handle panels with:\n",
    "\n",
    "* Missing power output → fallback to type-based average or 300 W\n",
    "\n",
    "**Expected Output Example:**\n",
    "\n",
    "```\n",
    "Panel SPxxxxxx ➜ Power Output: 312.5 W (fallback used)\n",
    "```"
   ],
   "id": "a71d4acd4905ddda"
  },
  {
   "metadata": {
    "ExecuteTime": {
     "end_time": "2025-05-22T19:12:00.938813Z",
     "start_time": "2025-05-22T19:12:00.936376Z"
    }
   },
   "cell_type": "code",
   "source": "type_based_average = df['Power Output (W)'].mean()",
   "id": "da98721139dcb9c6",
   "outputs": [],
   "execution_count": 715
  },
  {
   "metadata": {
    "ExecuteTime": {
     "end_time": "2025-05-22T19:12:00.999213Z",
     "start_time": "2025-05-22T19:12:00.994190Z"
    }
   },
   "cell_type": "code",
   "source": "type_based_average",
   "id": "fd3495121602d59e",
   "outputs": [
    {
     "data": {
      "text/plain": [
       "np.float64(331.01565217391305)"
      ]
     },
     "execution_count": 716,
     "metadata": {},
     "output_type": "execute_result"
    }
   ],
   "execution_count": 716
  },
  {
   "metadata": {
    "ExecuteTime": {
     "end_time": "2025-05-22T19:12:01.095661Z",
     "start_time": "2025-05-22T19:12:01.092808Z"
    }
   },
   "cell_type": "code",
   "source": [
    "default = {\n",
    "    'Power Output (W)': 300,\n",
    "}"
   ],
   "id": "af640e4a278a607c",
   "outputs": [],
   "execution_count": 717
  },
  {
   "metadata": {
    "ExecuteTime": {
     "end_time": "2025-05-22T19:12:01.151569Z",
     "start_time": "2025-05-22T19:12:01.148705Z"
    }
   },
   "cell_type": "code",
   "source": "live = {}",
   "id": "7269fae6f968b212",
   "outputs": [],
   "execution_count": 718
  },
  {
   "metadata": {
    "ExecuteTime": {
     "end_time": "2025-05-22T19:12:01.244962Z",
     "start_time": "2025-05-22T19:12:01.242322Z"
    }
   },
   "cell_type": "code",
   "source": "missing_power_output = ChainMap(live, {'Power Output (W)': type_based_average}, default)",
   "id": "4b57791265ea1478",
   "outputs": [],
   "execution_count": 719
  },
  {
   "metadata": {
    "ExecuteTime": {
     "end_time": "2025-05-22T19:12:01.283196Z",
     "start_time": "2025-05-22T19:12:01.280299Z"
    }
   },
   "cell_type": "code",
   "source": "print(f'Panel SPxxxxxxx --> {missing_power_output[\"Power Output (W)\"]:.2f} W (fallback used)')",
   "id": "3b1ad078aadb5afd",
   "outputs": [
    {
     "name": "stdout",
     "output_type": "stream",
     "text": [
      "Panel SPxxxxxxx --> 331.02 W (fallback used)\n"
     ]
    }
   ],
   "execution_count": 720
  },
  {
   "metadata": {},
   "cell_type": "markdown",
   "source": [
    "### 🔹**Exercise 10: Combine All Config Layers Per Shift**\n",
    "\n",
    "**Goal:**\n",
    "For a given `Shift`, create a 3-layer ChainMap config:\n",
    "\n",
    "* Shift-specific live tuning\n",
    "* Assembly line fallback\n",
    "* Global engineering spec\n",
    "\n",
    "**Expected Output:**\n",
    "\n",
    "```\n",
    "Shift 1 Config ➜ {'Glass Thickness (mm)': 3.7, 'Efficiency (%)': 19.5, 'Cycle Time (s)': 980.8}\n",
    "```\n",
    "\n",
    "---\n",
    "\n",
    "Let me know if you’d like the starter templates or to work through each problem interactively next!\n"
   ],
   "id": "82afa55195a7bd5e"
  },
  {
   "metadata": {
    "ExecuteTime": {
     "end_time": "2025-05-22T19:12:01.422677Z",
     "start_time": "2025-05-22T19:12:01.420672Z"
    }
   },
   "cell_type": "code",
   "source": "",
   "id": "377bc7a00fe0db74",
   "outputs": [],
   "execution_count": 720
  }
 ],
 "metadata": {
  "kernelspec": {
   "display_name": "Python 3",
   "language": "python",
   "name": "python3"
  },
  "language_info": {
   "codemirror_mode": {
    "name": "ipython",
    "version": 2
   },
   "file_extension": ".py",
   "mimetype": "text/x-python",
   "name": "python",
   "nbconvert_exporter": "python",
   "pygments_lexer": "ipython2",
   "version": "2.7.6"
  }
 },
 "nbformat": 4,
 "nbformat_minor": 5
}
