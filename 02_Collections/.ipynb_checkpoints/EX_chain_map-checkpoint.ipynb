{
 "cells": [
  {
   "metadata": {},
   "cell_type": "markdown",
   "source": [
    "#  What is ChainMap?\n",
    "`ChainMap` is a class in the `collections` module that groups multiple dictionaries (or mappings) into a single, updateable view. It searches through these mappings in order and stops at the first match."
   ],
   "id": "77e48a7ec1b5cf1a"
  },
  {
   "metadata": {
    "ExecuteTime": {
     "end_time": "2025-05-22T13:45:45.537592Z",
     "start_time": "2025-05-22T13:45:45.535180Z"
    }
   },
   "cell_type": "code",
   "source": "from collections import ChainMap",
   "id": "4697f2c0a669b927",
   "outputs": [],
   "execution_count": 50
  },
  {
   "metadata": {
    "ExecuteTime": {
     "end_time": "2025-05-22T13:45:45.709573Z",
     "start_time": "2025-05-22T13:45:45.707438Z"
    }
   },
   "cell_type": "code",
   "source": [
    "dict1 = {'voltage': 12}\n",
    "dict2 = {'current': 1.5}"
   ],
   "id": "76a9da09549ca3f7",
   "outputs": [],
   "execution_count": 51
  },
  {
   "metadata": {
    "ExecuteTime": {
     "end_time": "2025-05-22T13:45:45.726375Z",
     "start_time": "2025-05-22T13:45:45.723658Z"
    }
   },
   "cell_type": "code",
   "source": "cm = ChainMap(dict1, dict2)",
   "id": "8850a846dd2b381f",
   "outputs": [],
   "execution_count": 52
  },
  {
   "metadata": {
    "ExecuteTime": {
     "end_time": "2025-05-22T13:45:45.731903Z",
     "start_time": "2025-05-22T13:45:45.729022Z"
    }
   },
   "cell_type": "code",
   "source": "cm['voltage']",
   "id": "8be5c4484cdaf211",
   "outputs": [
    {
     "data": {
      "text/plain": [
       "12"
      ]
     },
     "execution_count": 53,
     "metadata": {},
     "output_type": "execute_result"
    }
   ],
   "execution_count": 53
  },
  {
   "metadata": {
    "ExecuteTime": {
     "end_time": "2025-05-22T13:45:45.736874Z",
     "start_time": "2025-05-22T13:45:45.733768Z"
    }
   },
   "cell_type": "code",
   "source": "cm['current']",
   "id": "a37f4d9c4a3e0207",
   "outputs": [
    {
     "data": {
      "text/plain": [
       "1.5"
      ]
     },
     "execution_count": 54,
     "metadata": {},
     "output_type": "execute_result"
    }
   ],
   "execution_count": 54
  },
  {
   "metadata": {},
   "cell_type": "markdown",
   "source": [
    "## Level 1: Basic Usage\n",
    "#### Skills:\n",
    "- Create a ChainMap\n",
    "- Access and iterate over keys/values\n",
    "- Understand mapping order\n",
    "\n",
    "### Activities:\n",
    "1.1 Create a ChainMap from 2 configuration dictionaries:"
   ],
   "id": "9525b0dc39f709d4"
  },
  {
   "metadata": {
    "ExecuteTime": {
     "end_time": "2025-05-22T13:45:45.760400Z",
     "start_time": "2025-05-22T13:45:45.757585Z"
    }
   },
   "cell_type": "code",
   "source": [
    "defaults = {\n",
    "    'voltage': 12,\n",
    "    'current': 1.5\n",
    "}"
   ],
   "id": "67cbf2216e4968c",
   "outputs": [],
   "execution_count": 55
  },
  {
   "metadata": {
    "ExecuteTime": {
     "end_time": "2025-05-22T13:45:45.781049Z",
     "start_time": "2025-05-22T13:45:45.778782Z"
    }
   },
   "cell_type": "code",
   "source": [
    "user_config = {\n",
    "    'current': 2.0\n",
    "}"
   ],
   "id": "a38cbff2e11fe54a",
   "outputs": [],
   "execution_count": 56
  },
  {
   "metadata": {
    "ExecuteTime": {
     "end_time": "2025-05-22T13:45:45.816388Z",
     "start_time": "2025-05-22T13:45:45.813878Z"
    }
   },
   "cell_type": "code",
   "source": "combined = ChainMap(user_config, defaults)",
   "id": "778024c07e66cdbb",
   "outputs": [],
   "execution_count": 57
  },
  {
   "metadata": {
    "ExecuteTime": {
     "end_time": "2025-05-22T13:45:45.834868Z",
     "start_time": "2025-05-22T13:45:45.831101Z"
    }
   },
   "cell_type": "code",
   "source": "combined['voltage']",
   "id": "403fc7d6e1e60e1c",
   "outputs": [
    {
     "data": {
      "text/plain": [
       "12"
      ]
     },
     "execution_count": 58,
     "metadata": {},
     "output_type": "execute_result"
    }
   ],
   "execution_count": 58
  },
  {
   "metadata": {
    "ExecuteTime": {
     "end_time": "2025-05-22T13:45:45.848648Z",
     "start_time": "2025-05-22T13:45:45.845868Z"
    }
   },
   "cell_type": "code",
   "source": "combined['current']",
   "id": "3e1cca145205701",
   "outputs": [
    {
     "data": {
      "text/plain": [
       "2.0"
      ]
     },
     "execution_count": 59,
     "metadata": {},
     "output_type": "execute_result"
    }
   ],
   "execution_count": 59
  },
  {
   "metadata": {},
   "cell_type": "markdown",
   "source": "1.2 Iterate over ChainMap:",
   "id": "d5644e5beb3f05b1"
  },
  {
   "metadata": {
    "ExecuteTime": {
     "end_time": "2025-05-22T13:45:45.891484Z",
     "start_time": "2025-05-22T13:45:45.888903Z"
    }
   },
   "cell_type": "code",
   "source": [
    "for k, v in combined.items():\n",
    "    print(f'{k}: {v}')"
   ],
   "id": "ca7169865c473dd8",
   "outputs": [
    {
     "name": "stdout",
     "output_type": "stream",
     "text": [
      "voltage: 12\n",
      "current: 2.0\n"
     ]
    }
   ],
   "execution_count": 60
  },
  {
   "metadata": {},
   "cell_type": "markdown",
   "source": [
    "### Challenge 1.3:\n",
    "Create two dictionaries: process_defaults and operator_overrides, then combine them with ChainMap. Print all key-value pairs in the effective config."
   ],
   "id": "f2d66cc1f34fffc7"
  },
  {
   "metadata": {
    "ExecuteTime": {
     "end_time": "2025-05-22T13:45:45.906495Z",
     "start_time": "2025-05-22T13:45:45.903786Z"
    }
   },
   "cell_type": "code",
   "source": [
    "process_defaults = {\n",
    "    'Efficiency': 0.5,\n",
    "    'Visual Inspection': 'Crack',\n",
    "    'Operator ID': 'EMP193'\n",
    "}\n"
   ],
   "id": "6b71c43a326640e9",
   "outputs": [],
   "execution_count": 61
  },
  {
   "metadata": {
    "ExecuteTime": {
     "end_time": "2025-05-22T13:45:45.926899Z",
     "start_time": "2025-05-22T13:45:45.924773Z"
    }
   },
   "cell_type": "code",
   "source": [
    "operator_overrides = {\n",
    "    'Visual Inspection': 'Scratch',\n",
    "    'Operator ID': 'EMP885'\n",
    "}"
   ],
   "id": "5aeaab1c78a6d1cf",
   "outputs": [],
   "execution_count": 62
  },
  {
   "metadata": {
    "ExecuteTime": {
     "end_time": "2025-05-22T13:45:45.963042Z",
     "start_time": "2025-05-22T13:45:45.960596Z"
    }
   },
   "cell_type": "code",
   "source": "combined_1 = ChainMap(process_defaults, operator_overrides)",
   "id": "8f444db3612df009",
   "outputs": [],
   "execution_count": 63
  },
  {
   "metadata": {
    "ExecuteTime": {
     "end_time": "2025-05-22T13:45:45.992182Z",
     "start_time": "2025-05-22T13:45:45.988585Z"
    }
   },
   "cell_type": "code",
   "source": "combined_1['Efficiency']",
   "id": "460aead2cb92a3a5",
   "outputs": [
    {
     "data": {
      "text/plain": [
       "0.5"
      ]
     },
     "execution_count": 64,
     "metadata": {},
     "output_type": "execute_result"
    }
   ],
   "execution_count": 64
  },
  {
   "metadata": {
    "ExecuteTime": {
     "end_time": "2025-05-22T13:45:46.015751Z",
     "start_time": "2025-05-22T13:45:46.012436Z"
    }
   },
   "cell_type": "code",
   "source": "combined_1['Visual Inspection']",
   "id": "e4a7947175e181df",
   "outputs": [
    {
     "data": {
      "text/plain": [
       "'Crack'"
      ]
     },
     "execution_count": 65,
     "metadata": {},
     "output_type": "execute_result"
    }
   ],
   "execution_count": 65
  },
  {
   "metadata": {
    "ExecuteTime": {
     "end_time": "2025-05-22T13:45:46.030576Z",
     "start_time": "2025-05-22T13:45:46.027362Z"
    }
   },
   "cell_type": "code",
   "source": "combined_1['Operator ID']",
   "id": "27e5132fefbb39b3",
   "outputs": [
    {
     "data": {
      "text/plain": [
       "'EMP193'"
      ]
     },
     "execution_count": 66,
     "metadata": {},
     "output_type": "execute_result"
    }
   ],
   "execution_count": 66
  },
  {
   "metadata": {
    "ExecuteTime": {
     "end_time": "2025-05-22T13:45:46.036576Z",
     "start_time": "2025-05-22T13:45:46.034216Z"
    }
   },
   "cell_type": "code",
   "source": "combined_2 = ChainMap(operator_overrides, process_defaults)",
   "id": "b3266365abe6b261",
   "outputs": [],
   "execution_count": 67
  },
  {
   "metadata": {
    "ExecuteTime": {
     "end_time": "2025-05-22T13:45:46.051371Z",
     "start_time": "2025-05-22T13:45:46.048167Z"
    }
   },
   "cell_type": "code",
   "source": "combined_2['Efficiency']",
   "id": "aecd1bbec2a33023",
   "outputs": [
    {
     "data": {
      "text/plain": [
       "0.5"
      ]
     },
     "execution_count": 68,
     "metadata": {},
     "output_type": "execute_result"
    }
   ],
   "execution_count": 68
  },
  {
   "metadata": {
    "ExecuteTime": {
     "end_time": "2025-05-22T13:45:46.101322Z",
     "start_time": "2025-05-22T13:45:46.098168Z"
    }
   },
   "cell_type": "code",
   "source": "combined_2['Visual Inspection']",
   "id": "65c2391f1f209ff8",
   "outputs": [
    {
     "data": {
      "text/plain": [
       "'Scratch'"
      ]
     },
     "execution_count": 69,
     "metadata": {},
     "output_type": "execute_result"
    }
   ],
   "execution_count": 69
  },
  {
   "metadata": {
    "ExecuteTime": {
     "end_time": "2025-05-22T13:45:46.116424Z",
     "start_time": "2025-05-22T13:45:46.112731Z"
    }
   },
   "cell_type": "code",
   "source": "combined_2['Operator ID']",
   "id": "f7492df7937201ee",
   "outputs": [
    {
     "data": {
      "text/plain": [
       "'EMP885'"
      ]
     },
     "execution_count": 70,
     "metadata": {},
     "output_type": "execute_result"
    }
   ],
   "execution_count": 70
  },
  {
   "metadata": {},
   "cell_type": "markdown",
   "source": [
    "## Level 2: Intermediate Concepts\n",
    "#### Skills:\n",
    "- Understand update behavior\n",
    "- Add new mappings (new_child)\n",
    "- Work with nested overrides\n",
    "### Activities:\n",
    "2.1 Update behavior:"
   ],
   "id": "4d25d3d8873fe591"
  },
  {
   "metadata": {
    "ExecuteTime": {
     "end_time": "2025-05-22T13:45:46.131986Z",
     "start_time": "2025-05-22T13:45:46.129606Z"
    }
   },
   "cell_type": "code",
   "source": "combined['voltage'] = 14",
   "id": "4310e73dfa6c4357",
   "outputs": [],
   "execution_count": 71
  },
  {
   "metadata": {
    "ExecuteTime": {
     "end_time": "2025-05-22T13:45:46.174165Z",
     "start_time": "2025-05-22T13:45:46.170808Z"
    }
   },
   "cell_type": "code",
   "source": "user_config",
   "id": "ebd87b85986c810f",
   "outputs": [
    {
     "data": {
      "text/plain": [
       "{'current': 2.0, 'voltage': 14}"
      ]
     },
     "execution_count": 72,
     "metadata": {},
     "output_type": "execute_result"
    }
   ],
   "execution_count": 72
  },
  {
   "metadata": {},
   "cell_type": "markdown",
   "source": "2.2 Add temporary overrides:",
   "id": "f2c953d50b807bee"
  },
  {
   "metadata": {
    "ExecuteTime": {
     "end_time": "2025-05-22T13:45:46.188056Z",
     "start_time": "2025-05-22T13:45:46.185571Z"
    }
   },
   "cell_type": "code",
   "source": "temp = combined.new_child({'voltage': 18})",
   "id": "55306de1e5563452",
   "outputs": [],
   "execution_count": 73
  },
  {
   "metadata": {
    "ExecuteTime": {
     "end_time": "2025-05-22T13:45:46.207796Z",
     "start_time": "2025-05-22T13:45:46.204431Z"
    }
   },
   "cell_type": "code",
   "source": "temp['voltage']",
   "id": "9c5e816217a46f8b",
   "outputs": [
    {
     "data": {
      "text/plain": [
       "18"
      ]
     },
     "execution_count": 74,
     "metadata": {},
     "output_type": "execute_result"
    }
   ],
   "execution_count": 74
  },
  {
   "metadata": {},
   "cell_type": "markdown",
   "source": [
    "### Challenge 2.3:\n",
    "Use .new_child() to simulate a temporary change in panel parameters (e.g., during QA testing) and revert back."
   ],
   "id": "40f872f3f819ee5c"
  },
  {
   "metadata": {},
   "cell_type": "markdown",
   "source": [
    "### What .new_child() Does\n",
    "```\n",
    "ChainMap(...).new_child()\n",
    "```\n",
    "- Creates a new ChainMap with a new dictionary inserted at the front of the chain.\n",
    "- It simulates a temporary override (like QA adjustments or test parameters).\n",
    "- The original mappings remain unchanged and can be restored easily."
   ],
   "id": "c5992aecf84e59ad"
  },
  {
   "metadata": {
    "ExecuteTime": {
     "end_time": "2025-05-22T13:45:46.245991Z",
     "start_time": "2025-05-22T13:45:46.243207Z"
    }
   },
   "cell_type": "code",
   "source": "combined_ = ChainMap(operator_overrides, process_defaults)",
   "id": "c1f64c86a5a9c911",
   "outputs": [],
   "execution_count": 75
  },
  {
   "metadata": {
    "ExecuteTime": {
     "end_time": "2025-05-22T13:45:46.253006Z",
     "start_time": "2025-05-22T13:45:46.250654Z"
    }
   },
   "cell_type": "code",
   "source": [
    "qa_override = {\n",
    "    'Efficiency': 0.8,\n",
    "    'Visual Inspection': 'Pass',\n",
    "}"
   ],
   "id": "d350c49cf2acc547",
   "outputs": [],
   "execution_count": 76
  },
  {
   "metadata": {
    "ExecuteTime": {
     "end_time": "2025-05-22T13:45:46.267377Z",
     "start_time": "2025-05-22T13:45:46.265014Z"
    }
   },
   "cell_type": "code",
   "source": "qa_combined = combined_.new_child(qa_override)",
   "id": "cf54c650878d1d62",
   "outputs": [],
   "execution_count": 77
  },
  {
   "metadata": {
    "ExecuteTime": {
     "end_time": "2025-05-22T13:45:46.280359Z",
     "start_time": "2025-05-22T13:45:46.277309Z"
    }
   },
   "cell_type": "code",
   "source": "qa_combined['Efficiency'] # overridden temporarily",
   "id": "b4561c0ea345eac6",
   "outputs": [
    {
     "data": {
      "text/plain": [
       "0.8"
      ]
     },
     "execution_count": 78,
     "metadata": {},
     "output_type": "execute_result"
    }
   ],
   "execution_count": 78
  },
  {
   "metadata": {
    "ExecuteTime": {
     "end_time": "2025-05-22T13:45:46.314434Z",
     "start_time": "2025-05-22T13:45:46.311159Z"
    }
   },
   "cell_type": "code",
   "source": "qa_combined['Visual Inspection']",
   "id": "a22d66f39e389320",
   "outputs": [
    {
     "data": {
      "text/plain": [
       "'Pass'"
      ]
     },
     "execution_count": 79,
     "metadata": {},
     "output_type": "execute_result"
    }
   ],
   "execution_count": 79
  },
  {
   "metadata": {
    "ExecuteTime": {
     "end_time": "2025-05-22T13:45:46.361786Z",
     "start_time": "2025-05-22T13:45:46.358573Z"
    }
   },
   "cell_type": "code",
   "source": "qa_combined['Operator ID']",
   "id": "660f652eceb6658a",
   "outputs": [
    {
     "data": {
      "text/plain": [
       "'EMP885'"
      ]
     },
     "execution_count": 80,
     "metadata": {},
     "output_type": "execute_result"
    }
   ],
   "execution_count": 80
  },
  {
   "metadata": {
    "ExecuteTime": {
     "end_time": "2025-05-22T13:45:46.394881Z",
     "start_time": "2025-05-22T13:45:46.387940Z"
    }
   },
   "cell_type": "code",
   "source": "combined_['Efficiency']",
   "id": "7e7d8914bbcff4f5",
   "outputs": [
    {
     "data": {
      "text/plain": [
       "0.5"
      ]
     },
     "execution_count": 81,
     "metadata": {},
     "output_type": "execute_result"
    }
   ],
   "execution_count": 81
  },
  {
   "metadata": {
    "ExecuteTime": {
     "end_time": "2025-05-22T13:45:46.411172Z",
     "start_time": "2025-05-22T13:45:46.407605Z"
    }
   },
   "cell_type": "code",
   "source": "combined_['Visual Inspection']",
   "id": "b3a75d2e05788c96",
   "outputs": [
    {
     "data": {
      "text/plain": [
       "'Scratch'"
      ]
     },
     "execution_count": 82,
     "metadata": {},
     "output_type": "execute_result"
    }
   ],
   "execution_count": 82
  },
  {
   "metadata": {},
   "cell_type": "markdown",
   "source": [
    "## Level 3: Advanced Use Cases\n",
    "#### Skills:\n",
    "- Use for scoped variables\n",
    "- Chain multiple sources\n",
    "- Replacing mappings\n",
    "\n",
    "### Activities:\n",
    "3.1 Scoped variable simulation:"
   ],
   "id": "6fcc5811390281aa"
  },
  {
   "metadata": {
    "ExecuteTime": {
     "end_time": "2025-05-22T13:45:46.433906Z",
     "start_time": "2025-05-22T13:45:46.431061Z"
    }
   },
   "cell_type": "code",
   "source": "scope1 = {'efficiency': 88}",
   "id": "d87a03101c32df2f",
   "outputs": [],
   "execution_count": 83
  },
  {
   "metadata": {
    "ExecuteTime": {
     "end_time": "2025-05-22T13:45:46.469368Z",
     "start_time": "2025-05-22T13:45:46.466718Z"
    }
   },
   "cell_type": "code",
   "source": "scope2 = {'efficiency': 92}",
   "id": "ef88342ea2992904",
   "outputs": [],
   "execution_count": 84
  },
  {
   "metadata": {
    "ExecuteTime": {
     "end_time": "2025-05-22T13:45:46.482989Z",
     "start_time": "2025-05-22T13:45:46.480491Z"
    }
   },
   "cell_type": "code",
   "source": "env = ChainMap(scope2, scope1)",
   "id": "fe97d68e3840eb24",
   "outputs": [],
   "execution_count": 85
  },
  {
   "metadata": {
    "ExecuteTime": {
     "end_time": "2025-05-22T13:45:46.512604Z",
     "start_time": "2025-05-22T13:45:46.509070Z"
    }
   },
   "cell_type": "code",
   "source": "env['efficiency']",
   "id": "dc875b9d3aac1e6f",
   "outputs": [
    {
     "data": {
      "text/plain": [
       "92"
      ]
     },
     "execution_count": 86,
     "metadata": {},
     "output_type": "execute_result"
    }
   ],
   "execution_count": 86
  },
  {
   "metadata": {},
   "cell_type": "markdown",
   "source": "3.2 Replace entire mapping list:",
   "id": "fcadb0b5a9299858"
  },
  {
   "metadata": {
    "ExecuteTime": {
     "end_time": "2025-05-22T13:45:46.537867Z",
     "start_time": "2025-05-22T13:45:46.535238Z"
    }
   },
   "cell_type": "code",
   "source": "env.maps = [scope1]",
   "id": "84ff9b8ef06c3348",
   "outputs": [],
   "execution_count": 87
  },
  {
   "metadata": {
    "ExecuteTime": {
     "end_time": "2025-05-22T13:45:46.551242Z",
     "start_time": "2025-05-22T13:45:46.548191Z"
    }
   },
   "cell_type": "code",
   "source": "env['efficiency']",
   "id": "cfde0e1caebd31cf",
   "outputs": [
    {
     "data": {
      "text/plain": [
       "88"
      ]
     },
     "execution_count": 88,
     "metadata": {},
     "output_type": "execute_result"
    }
   ],
   "execution_count": 88
  },
  {
   "metadata": {},
   "cell_type": "markdown",
   "source": [
    "### Challenge 3.3:\n",
    "Create a 3-layer fallback for sensor readings: live_readings, cache_readings, default_readings. Use ChainMap to show current values and simulate a replacement of the top layer."
   ],
   "id": "ce9c84e61a1e4546"
  },
  {
   "metadata": {},
   "cell_type": "markdown",
   "source": [
    "### Challenge 3.3: 3-Layer Sensor Fallback\n",
    "#### Goal:\n",
    "- You have three sources of sensor data:\n",
    "\n",
    "    - live_readings (most up-to-date, may be incomplete)\n",
    "    - cache_readings (backup from previous session)\n",
    "    - default_readings (manufacturer's fallback values)\n",
    "\n",
    "- Use ChainMap to combine them so that the system always returns the first available value.\n",
    "\n",
    "- Then simulate updating the top layer (live_readings) with new data.\n",
    "\n"
   ],
   "id": "88b7ca7337923a05"
  },
  {
   "metadata": {
    "ExecuteTime": {
     "end_time": "2025-05-22T13:45:46.568194Z",
     "start_time": "2025-05-22T13:45:46.565236Z"
    }
   },
   "cell_type": "code",
   "source": [
    "live_readings = {\n",
    "    'voltage': 12.3,\n",
    "    'temperature': 45.1\n",
    "    # 'current' is missing\n",
    "}\n",
    "\n",
    "cache_readings = {\n",
    "    'current': 1.5,\n",
    "    'temperature': 44.8\n",
    "}\n",
    "\n",
    "default_readings = {\n",
    "    'voltage': 12.0,\n",
    "    'current': 1.2,\n",
    "    'temperature': 40.0\n",
    "}"
   ],
   "id": "887ad6535523e3c4",
   "outputs": [],
   "execution_count": 89
  },
  {
   "metadata": {
    "ExecuteTime": {
     "end_time": "2025-05-22T13:45:46.589201Z",
     "start_time": "2025-05-22T13:45:46.586552Z"
    }
   },
   "cell_type": "code",
   "source": "combined = ChainMap(live_readings, cache_readings, default_readings)",
   "id": "38b62d086c6d1e10",
   "outputs": [],
   "execution_count": 90
  },
  {
   "metadata": {
    "ExecuteTime": {
     "end_time": "2025-05-22T13:45:46.605187Z",
     "start_time": "2025-05-22T13:45:46.601602Z"
    }
   },
   "cell_type": "code",
   "source": "combined['voltage']",
   "id": "fa798b2f6731dee2",
   "outputs": [
    {
     "data": {
      "text/plain": [
       "12.3"
      ]
     },
     "execution_count": 91,
     "metadata": {},
     "output_type": "execute_result"
    }
   ],
   "execution_count": 91
  },
  {
   "metadata": {
    "ExecuteTime": {
     "end_time": "2025-05-22T13:45:46.627278Z",
     "start_time": "2025-05-22T13:45:46.623899Z"
    }
   },
   "cell_type": "code",
   "source": "combined['current']",
   "id": "8756a7dfa5407d0a",
   "outputs": [
    {
     "data": {
      "text/plain": [
       "1.5"
      ]
     },
     "execution_count": 92,
     "metadata": {},
     "output_type": "execute_result"
    }
   ],
   "execution_count": 92
  },
  {
   "metadata": {
    "ExecuteTime": {
     "end_time": "2025-05-22T13:45:46.652774Z",
     "start_time": "2025-05-22T13:45:46.649736Z"
    }
   },
   "cell_type": "code",
   "source": "combined['temperature']",
   "id": "fc014b87ee083eb5",
   "outputs": [
    {
     "data": {
      "text/plain": [
       "45.1"
      ]
     },
     "execution_count": 93,
     "metadata": {},
     "output_type": "execute_result"
    }
   ],
   "execution_count": 93
  },
  {
   "metadata": {
    "ExecuteTime": {
     "end_time": "2025-05-22T13:45:46.665037Z",
     "start_time": "2025-05-22T13:45:46.662461Z"
    }
   },
   "cell_type": "code",
   "source": [
    "# Simulate replacing top layer\n",
    "new_live = {\n",
    "    'voltage': 12.6,\n",
    "    'current': 1.8\n",
    "}"
   ],
   "id": "5fbd5cf619198605",
   "outputs": [],
   "execution_count": 94
  },
  {
   "metadata": {
    "ExecuteTime": {
     "end_time": "2025-05-22T13:45:46.679243Z",
     "start_time": "2025-05-22T13:45:46.676869Z"
    }
   },
   "cell_type": "code",
   "source": "combined.maps[0] = new_live # replace top layer",
   "id": "f727570e3c34e638",
   "outputs": [],
   "execution_count": 95
  },
  {
   "metadata": {
    "ExecuteTime": {
     "end_time": "2025-05-22T13:45:46.684181Z",
     "start_time": "2025-05-22T13:45:46.681225Z"
    }
   },
   "cell_type": "code",
   "source": "combined['voltage']",
   "id": "f632b07a762c1598",
   "outputs": [
    {
     "data": {
      "text/plain": [
       "12.6"
      ]
     },
     "execution_count": 96,
     "metadata": {},
     "output_type": "execute_result"
    }
   ],
   "execution_count": 96
  },
  {
   "metadata": {
    "ExecuteTime": {
     "end_time": "2025-05-22T13:45:46.711713Z",
     "start_time": "2025-05-22T13:45:46.708095Z"
    }
   },
   "cell_type": "code",
   "source": "combined['current']",
   "id": "7f45a09defed487",
   "outputs": [
    {
     "data": {
      "text/plain": [
       "1.8"
      ]
     },
     "execution_count": 97,
     "metadata": {},
     "output_type": "execute_result"
    }
   ],
   "execution_count": 97
  },
  {
   "metadata": {
    "ExecuteTime": {
     "end_time": "2025-05-22T13:45:46.727915Z",
     "start_time": "2025-05-22T13:45:46.724202Z"
    }
   },
   "cell_type": "code",
   "source": "combined['temperature']",
   "id": "8533e21e8e924f85",
   "outputs": [
    {
     "data": {
      "text/plain": [
       "44.8"
      ]
     },
     "execution_count": 98,
     "metadata": {},
     "output_type": "execute_result"
    }
   ],
   "execution_count": 98
  },
  {
   "metadata": {
    "ExecuteTime": {
     "end_time": "2025-05-22T13:45:46.738305Z",
     "start_time": "2025-05-22T13:45:46.736665Z"
    }
   },
   "cell_type": "code",
   "source": "",
   "id": "a41ae89e79faf5d4",
   "outputs": [],
   "execution_count": 98
  }
 ],
 "metadata": {
  "kernelspec": {
   "display_name": "Python 3",
   "language": "python",
   "name": "python3"
  },
  "language_info": {
   "codemirror_mode": {
    "name": "ipython",
    "version": 2
   },
   "file_extension": ".py",
   "mimetype": "text/x-python",
   "name": "python",
   "nbconvert_exporter": "python",
   "pygments_lexer": "ipython2",
   "version": "2.7.6"
  }
 },
 "nbformat": 4,
 "nbformat_minor": 5
}
