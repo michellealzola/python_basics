{
 "cells": [
  {
   "cell_type": "code",
   "id": "initial_id",
   "metadata": {
    "collapsed": true,
    "ExecuteTime": {
     "end_time": "2025-05-22T14:20:48.596527Z",
     "start_time": "2025-05-22T14:20:48.594078Z"
    }
   },
   "source": [
    "from collections import ChainMap\n",
    "import pandas as pd"
   ],
   "outputs": [],
   "execution_count": 22
  },
  {
   "metadata": {
    "ExecuteTime": {
     "end_time": "2025-05-22T14:20:48.651049Z",
     "start_time": "2025-05-22T14:20:48.647053Z"
    }
   },
   "cell_type": "code",
   "source": "data = pd.read_csv('solar_panel_assembly_expanded_dataset.csv')",
   "id": "fc250e494501273b",
   "outputs": [],
   "execution_count": 23
  },
  {
   "metadata": {
    "ExecuteTime": {
     "end_time": "2025-05-22T14:20:48.664183Z",
     "start_time": "2025-05-22T14:20:48.661895Z"
    }
   },
   "cell_type": "code",
   "source": "df = pd.DataFrame(data)",
   "id": "9c3e17e12657c3b2",
   "outputs": [],
   "execution_count": 24
  },
  {
   "metadata": {
    "ExecuteTime": {
     "end_time": "2025-05-22T14:20:48.668561Z",
     "start_time": "2025-05-22T14:20:48.665521Z"
    }
   },
   "cell_type": "code",
   "source": "df.columns",
   "id": "ee0ab5ba638635f4",
   "outputs": [
    {
     "data": {
      "text/plain": [
       "Index(['Date', 'Shift', 'Panel Serial No.', 'Panel Type', 'Assembly Line',\n",
       "       'Cycle Time (s)', 'Number of Cells', 'Cell Alignment Deviation (mm)',\n",
       "       'Glass Thickness (mm)', 'Junction Box Attached', 'Power Output (W)',\n",
       "       'Efficiency (%)', 'Insulation Resistance (MΩ)', 'Flash Test Result',\n",
       "       'Visual Inspection', 'Operator ID', 'Final Inspection'],\n",
       "      dtype='object')"
      ]
     },
     "execution_count": 25,
     "metadata": {},
     "output_type": "execute_result"
    }
   ],
   "execution_count": 25
  },
  {
   "metadata": {
    "ExecuteTime": {
     "end_time": "2025-05-22T14:20:48.683747Z",
     "start_time": "2025-05-22T14:20:48.675333Z"
    }
   },
   "cell_type": "code",
   "source": "df.head(5)",
   "id": "43f5e3b9c93f56c5",
   "outputs": [
    {
     "data": {
      "text/plain": [
       "         Date    Shift Panel Serial No.       Panel Type Assembly Line  \\\n",
       "0  2025-04-21  Shift 1         SP819428  Polycrystalline        Line 1   \n",
       "1  2025-04-08  Shift 1         SP736702        Thin-Film        Line 3   \n",
       "2  2025-04-04  Shift 1         SP352954  Polycrystalline        Line 3   \n",
       "3  2025-04-17  Shift 2         SP725540  Polycrystalline        Line 1   \n",
       "4  2025-04-07  Shift 1         SP189001  Monocrystalline        Line 3   \n",
       "\n",
       "   Cycle Time (s)  Number of Cells  Cell Alignment Deviation (mm)  \\\n",
       "0          1005.9               72                           0.17   \n",
       "1           980.8               60                           0.24   \n",
       "2           887.4               60                           0.37   \n",
       "3           760.8               72                           0.14   \n",
       "4          1098.1               72                           0.27   \n",
       "\n",
       "   Glass Thickness (mm) Junction Box Attached  Power Output (W)  \\\n",
       "0                   3.9                    No             358.3   \n",
       "1                   3.1                    No             312.5   \n",
       "2                   3.3                    No             383.7   \n",
       "3                   3.3                   Yes             350.4   \n",
       "4                   3.7                   Yes             283.9   \n",
       "\n",
       "   Efficiency (%)  Insulation Resistance (MΩ) Flash Test Result  \\\n",
       "0           18.03                       604.6              Fail   \n",
       "1           19.62                       990.1              Pass   \n",
       "2           17.21                       227.8              Pass   \n",
       "3           20.30                       619.7              Pass   \n",
       "4           21.30                       707.5              Fail   \n",
       "\n",
       "  Visual Inspection Operator ID Final Inspection  \n",
       "0             Crack      EMP193             Pass  \n",
       "1           Scratch      EMP193             Pass  \n",
       "2             Crack      EMP193             Pass  \n",
       "3           Scratch      EMP193             Pass  \n",
       "4              Pass      EMP193             Pass  "
      ],
      "text/html": [
       "<div>\n",
       "<style scoped>\n",
       "    .dataframe tbody tr th:only-of-type {\n",
       "        vertical-align: middle;\n",
       "    }\n",
       "\n",
       "    .dataframe tbody tr th {\n",
       "        vertical-align: top;\n",
       "    }\n",
       "\n",
       "    .dataframe thead th {\n",
       "        text-align: right;\n",
       "    }\n",
       "</style>\n",
       "<table border=\"1\" class=\"dataframe\">\n",
       "  <thead>\n",
       "    <tr style=\"text-align: right;\">\n",
       "      <th></th>\n",
       "      <th>Date</th>\n",
       "      <th>Shift</th>\n",
       "      <th>Panel Serial No.</th>\n",
       "      <th>Panel Type</th>\n",
       "      <th>Assembly Line</th>\n",
       "      <th>Cycle Time (s)</th>\n",
       "      <th>Number of Cells</th>\n",
       "      <th>Cell Alignment Deviation (mm)</th>\n",
       "      <th>Glass Thickness (mm)</th>\n",
       "      <th>Junction Box Attached</th>\n",
       "      <th>Power Output (W)</th>\n",
       "      <th>Efficiency (%)</th>\n",
       "      <th>Insulation Resistance (MΩ)</th>\n",
       "      <th>Flash Test Result</th>\n",
       "      <th>Visual Inspection</th>\n",
       "      <th>Operator ID</th>\n",
       "      <th>Final Inspection</th>\n",
       "    </tr>\n",
       "  </thead>\n",
       "  <tbody>\n",
       "    <tr>\n",
       "      <th>0</th>\n",
       "      <td>2025-04-21</td>\n",
       "      <td>Shift 1</td>\n",
       "      <td>SP819428</td>\n",
       "      <td>Polycrystalline</td>\n",
       "      <td>Line 1</td>\n",
       "      <td>1005.9</td>\n",
       "      <td>72</td>\n",
       "      <td>0.17</td>\n",
       "      <td>3.9</td>\n",
       "      <td>No</td>\n",
       "      <td>358.3</td>\n",
       "      <td>18.03</td>\n",
       "      <td>604.6</td>\n",
       "      <td>Fail</td>\n",
       "      <td>Crack</td>\n",
       "      <td>EMP193</td>\n",
       "      <td>Pass</td>\n",
       "    </tr>\n",
       "    <tr>\n",
       "      <th>1</th>\n",
       "      <td>2025-04-08</td>\n",
       "      <td>Shift 1</td>\n",
       "      <td>SP736702</td>\n",
       "      <td>Thin-Film</td>\n",
       "      <td>Line 3</td>\n",
       "      <td>980.8</td>\n",
       "      <td>60</td>\n",
       "      <td>0.24</td>\n",
       "      <td>3.1</td>\n",
       "      <td>No</td>\n",
       "      <td>312.5</td>\n",
       "      <td>19.62</td>\n",
       "      <td>990.1</td>\n",
       "      <td>Pass</td>\n",
       "      <td>Scratch</td>\n",
       "      <td>EMP193</td>\n",
       "      <td>Pass</td>\n",
       "    </tr>\n",
       "    <tr>\n",
       "      <th>2</th>\n",
       "      <td>2025-04-04</td>\n",
       "      <td>Shift 1</td>\n",
       "      <td>SP352954</td>\n",
       "      <td>Polycrystalline</td>\n",
       "      <td>Line 3</td>\n",
       "      <td>887.4</td>\n",
       "      <td>60</td>\n",
       "      <td>0.37</td>\n",
       "      <td>3.3</td>\n",
       "      <td>No</td>\n",
       "      <td>383.7</td>\n",
       "      <td>17.21</td>\n",
       "      <td>227.8</td>\n",
       "      <td>Pass</td>\n",
       "      <td>Crack</td>\n",
       "      <td>EMP193</td>\n",
       "      <td>Pass</td>\n",
       "    </tr>\n",
       "    <tr>\n",
       "      <th>3</th>\n",
       "      <td>2025-04-17</td>\n",
       "      <td>Shift 2</td>\n",
       "      <td>SP725540</td>\n",
       "      <td>Polycrystalline</td>\n",
       "      <td>Line 1</td>\n",
       "      <td>760.8</td>\n",
       "      <td>72</td>\n",
       "      <td>0.14</td>\n",
       "      <td>3.3</td>\n",
       "      <td>Yes</td>\n",
       "      <td>350.4</td>\n",
       "      <td>20.30</td>\n",
       "      <td>619.7</td>\n",
       "      <td>Pass</td>\n",
       "      <td>Scratch</td>\n",
       "      <td>EMP193</td>\n",
       "      <td>Pass</td>\n",
       "    </tr>\n",
       "    <tr>\n",
       "      <th>4</th>\n",
       "      <td>2025-04-07</td>\n",
       "      <td>Shift 1</td>\n",
       "      <td>SP189001</td>\n",
       "      <td>Monocrystalline</td>\n",
       "      <td>Line 3</td>\n",
       "      <td>1098.1</td>\n",
       "      <td>72</td>\n",
       "      <td>0.27</td>\n",
       "      <td>3.7</td>\n",
       "      <td>Yes</td>\n",
       "      <td>283.9</td>\n",
       "      <td>21.30</td>\n",
       "      <td>707.5</td>\n",
       "      <td>Fail</td>\n",
       "      <td>Pass</td>\n",
       "      <td>EMP193</td>\n",
       "      <td>Pass</td>\n",
       "    </tr>\n",
       "  </tbody>\n",
       "</table>\n",
       "</div>"
      ]
     },
     "execution_count": 26,
     "metadata": {},
     "output_type": "execute_result"
    }
   ],
   "execution_count": 26
  },
  {
   "metadata": {},
   "cell_type": "markdown",
   "source": [
    "# ChainMap-Based Exercises Using the Dataset\n",
    "\n",
    "### **Exercise 1: Effective Assembly Configuration**\n",
    "\n",
    "**Goal:**\n",
    "For each unique `Panel Type`, create a fallback configuration using three layers:\n",
    "\n",
    "1. `live_settings` (incomplete)\n",
    "2. `cached_settings` (older complete config)\n",
    "3. `defaults` (known good values)\n",
    "\n",
    "**Problem:**\n",
    "Simulate retrieving the effective configuration for `Polycrystalline` panels, including:\n",
    "\n",
    "* `Glass Thickness (mm)`\n",
    "* `Number of Cells`\n",
    "* `Cell Alignment Deviation (mm)`\n",
    "\n",
    "**Expected Output Example:**\n",
    "\n",
    "```\n",
    "Effective Polycrystalline Config ➜ {'Glass Thickness (mm)': 3.3, 'Number of Cells': 72, 'Cell Alignment Deviation (mm)': 0.27}\n",
    "```"
   ],
   "id": "f5a1c3f4b862106"
  },
  {
   "metadata": {
    "ExecuteTime": {
     "end_time": "2025-05-22T14:20:48.709704Z",
     "start_time": "2025-05-22T14:20:48.706746Z"
    }
   },
   "cell_type": "code",
   "source": [
    "# filter rows for `Polycrystalline` panels\n",
    "polycrystalline_df = df[df['Panel Type'] == 'Polycrystalline']"
   ],
   "id": "19f3484d137d9d1d",
   "outputs": [],
   "execution_count": 27
  },
  {
   "metadata": {
    "ExecuteTime": {
     "end_time": "2025-05-22T14:20:48.719464Z",
     "start_time": "2025-05-22T14:20:48.711903Z"
    }
   },
   "cell_type": "code",
   "source": "polycrystalline_df.head(3)",
   "id": "26dcd609046986dd",
   "outputs": [
    {
     "data": {
      "text/plain": [
       "         Date    Shift Panel Serial No.       Panel Type Assembly Line  \\\n",
       "0  2025-04-21  Shift 1         SP819428  Polycrystalline        Line 1   \n",
       "2  2025-04-04  Shift 1         SP352954  Polycrystalline        Line 3   \n",
       "3  2025-04-17  Shift 2         SP725540  Polycrystalline        Line 1   \n",
       "\n",
       "   Cycle Time (s)  Number of Cells  Cell Alignment Deviation (mm)  \\\n",
       "0          1005.9               72                           0.17   \n",
       "2           887.4               60                           0.37   \n",
       "3           760.8               72                           0.14   \n",
       "\n",
       "   Glass Thickness (mm) Junction Box Attached  Power Output (W)  \\\n",
       "0                   3.9                    No             358.3   \n",
       "2                   3.3                    No             383.7   \n",
       "3                   3.3                   Yes             350.4   \n",
       "\n",
       "   Efficiency (%)  Insulation Resistance (MΩ) Flash Test Result  \\\n",
       "0           18.03                       604.6              Fail   \n",
       "2           17.21                       227.8              Pass   \n",
       "3           20.30                       619.7              Pass   \n",
       "\n",
       "  Visual Inspection Operator ID Final Inspection  \n",
       "0             Crack      EMP193             Pass  \n",
       "2             Crack      EMP193             Pass  \n",
       "3           Scratch      EMP193             Pass  "
      ],
      "text/html": [
       "<div>\n",
       "<style scoped>\n",
       "    .dataframe tbody tr th:only-of-type {\n",
       "        vertical-align: middle;\n",
       "    }\n",
       "\n",
       "    .dataframe tbody tr th {\n",
       "        vertical-align: top;\n",
       "    }\n",
       "\n",
       "    .dataframe thead th {\n",
       "        text-align: right;\n",
       "    }\n",
       "</style>\n",
       "<table border=\"1\" class=\"dataframe\">\n",
       "  <thead>\n",
       "    <tr style=\"text-align: right;\">\n",
       "      <th></th>\n",
       "      <th>Date</th>\n",
       "      <th>Shift</th>\n",
       "      <th>Panel Serial No.</th>\n",
       "      <th>Panel Type</th>\n",
       "      <th>Assembly Line</th>\n",
       "      <th>Cycle Time (s)</th>\n",
       "      <th>Number of Cells</th>\n",
       "      <th>Cell Alignment Deviation (mm)</th>\n",
       "      <th>Glass Thickness (mm)</th>\n",
       "      <th>Junction Box Attached</th>\n",
       "      <th>Power Output (W)</th>\n",
       "      <th>Efficiency (%)</th>\n",
       "      <th>Insulation Resistance (MΩ)</th>\n",
       "      <th>Flash Test Result</th>\n",
       "      <th>Visual Inspection</th>\n",
       "      <th>Operator ID</th>\n",
       "      <th>Final Inspection</th>\n",
       "    </tr>\n",
       "  </thead>\n",
       "  <tbody>\n",
       "    <tr>\n",
       "      <th>0</th>\n",
       "      <td>2025-04-21</td>\n",
       "      <td>Shift 1</td>\n",
       "      <td>SP819428</td>\n",
       "      <td>Polycrystalline</td>\n",
       "      <td>Line 1</td>\n",
       "      <td>1005.9</td>\n",
       "      <td>72</td>\n",
       "      <td>0.17</td>\n",
       "      <td>3.9</td>\n",
       "      <td>No</td>\n",
       "      <td>358.3</td>\n",
       "      <td>18.03</td>\n",
       "      <td>604.6</td>\n",
       "      <td>Fail</td>\n",
       "      <td>Crack</td>\n",
       "      <td>EMP193</td>\n",
       "      <td>Pass</td>\n",
       "    </tr>\n",
       "    <tr>\n",
       "      <th>2</th>\n",
       "      <td>2025-04-04</td>\n",
       "      <td>Shift 1</td>\n",
       "      <td>SP352954</td>\n",
       "      <td>Polycrystalline</td>\n",
       "      <td>Line 3</td>\n",
       "      <td>887.4</td>\n",
       "      <td>60</td>\n",
       "      <td>0.37</td>\n",
       "      <td>3.3</td>\n",
       "      <td>No</td>\n",
       "      <td>383.7</td>\n",
       "      <td>17.21</td>\n",
       "      <td>227.8</td>\n",
       "      <td>Pass</td>\n",
       "      <td>Crack</td>\n",
       "      <td>EMP193</td>\n",
       "      <td>Pass</td>\n",
       "    </tr>\n",
       "    <tr>\n",
       "      <th>3</th>\n",
       "      <td>2025-04-17</td>\n",
       "      <td>Shift 2</td>\n",
       "      <td>SP725540</td>\n",
       "      <td>Polycrystalline</td>\n",
       "      <td>Line 1</td>\n",
       "      <td>760.8</td>\n",
       "      <td>72</td>\n",
       "      <td>0.14</td>\n",
       "      <td>3.3</td>\n",
       "      <td>Yes</td>\n",
       "      <td>350.4</td>\n",
       "      <td>20.30</td>\n",
       "      <td>619.7</td>\n",
       "      <td>Pass</td>\n",
       "      <td>Scratch</td>\n",
       "      <td>EMP193</td>\n",
       "      <td>Pass</td>\n",
       "    </tr>\n",
       "  </tbody>\n",
       "</table>\n",
       "</div>"
      ]
     },
     "execution_count": 28,
     "metadata": {},
     "output_type": "execute_result"
    }
   ],
   "execution_count": 28
  },
  {
   "metadata": {
    "ExecuteTime": {
     "end_time": "2025-05-22T14:20:48.722854Z",
     "start_time": "2025-05-22T14:20:48.720451Z"
    }
   },
   "cell_type": "code",
   "source": [
    "# simulate 3 layers\n",
    "# 1. live_settings: Assume `Number of Cells` is missing\n",
    "live_settings = {\n",
    "    'Glass Thickness (mm)': polycrystalline_df.iloc[0]['Glass Thickness (mm)'],\n",
    "    'Cell Alignment Deviation (mm)': polycrystalline_df.iloc[1]['Cell Alignment Deviation (mm)'],\n",
    "}"
   ],
   "id": "a89d43ff86479d6",
   "outputs": [],
   "execution_count": 29
  },
  {
   "metadata": {
    "ExecuteTime": {
     "end_time": "2025-05-22T14:20:48.736043Z",
     "start_time": "2025-05-22T14:20:48.732681Z"
    }
   },
   "cell_type": "code",
   "source": "live_settings",
   "id": "de2cbc5e43a72054",
   "outputs": [
    {
     "data": {
      "text/plain": [
       "{'Glass Thickness (mm)': np.float64(3.9),\n",
       " 'Cell Alignment Deviation (mm)': np.float64(0.37)}"
      ]
     },
     "execution_count": 30,
     "metadata": {},
     "output_type": "execute_result"
    }
   ],
   "execution_count": 30
  },
  {
   "metadata": {
    "ExecuteTime": {
     "end_time": "2025-05-22T14:20:48.751369Z",
     "start_time": "2025-05-22T14:20:48.748675Z"
    }
   },
   "cell_type": "code",
   "source": [
    "# 2. cached_settings: Previous config, also incomplete\n",
    "cached_settings = {\n",
    "    'Number of Cells': polycrystalline_df.iloc[1]['Number of Cells'],\n",
    "    'Glass Thickness (mm)': polycrystalline_df.iloc[1]['Glass Thickness (mm)'],\n",
    "}"
   ],
   "id": "9f5568bfdd99b4f7",
   "outputs": [],
   "execution_count": 31
  },
  {
   "metadata": {
    "ExecuteTime": {
     "end_time": "2025-05-22T14:20:48.782644Z",
     "start_time": "2025-05-22T14:20:48.779121Z"
    }
   },
   "cell_type": "code",
   "source": "cached_settings",
   "id": "bd6bd7e5f7b65762",
   "outputs": [
    {
     "data": {
      "text/plain": [
       "{'Number of Cells': np.int64(60), 'Glass Thickness (mm)': np.float64(3.3)}"
      ]
     },
     "execution_count": 32,
     "metadata": {},
     "output_type": "execute_result"
    }
   ],
   "execution_count": 32
  },
  {
   "metadata": {
    "ExecuteTime": {
     "end_time": "2025-05-22T14:20:48.845494Z",
     "start_time": "2025-05-22T14:20:48.843384Z"
    }
   },
   "cell_type": "code",
   "source": [
    "# defaults: fully populated known good values\n",
    "defaults = {\n",
    "    'Glass Thickness (mm)': 3.3,\n",
    "    'Number of Cells': 72,\n",
    "    'Cell Alignment Deviation (mm)': 0.27,\n",
    "}"
   ],
   "id": "d47c718c967a9f44",
   "outputs": [],
   "execution_count": 33
  },
  {
   "metadata": {
    "ExecuteTime": {
     "end_time": "2025-05-22T14:21:39.432327Z",
     "start_time": "2025-05-22T14:21:39.429967Z"
    }
   },
   "cell_type": "code",
   "source": "effective_config = ChainMap(live_settings, cached_settings, defaults)",
   "id": "5b8d016148079dfe",
   "outputs": [],
   "execution_count": 34
  },
  {
   "metadata": {
    "ExecuteTime": {
     "end_time": "2025-05-22T14:22:59.327232Z",
     "start_time": "2025-05-22T14:22:59.324238Z"
    }
   },
   "cell_type": "code",
   "source": [
    "# extract only 3 needed keys\n",
    "final_config = {\n",
    "    'Glass Thickness (mm)': effective_config['Glass Thickness (mm)'],\n",
    "    'Number of Cells': effective_config['Number of Cells'],\n",
    "    'Cell Alignment Deviation (mm)': effective_config['Cell Alignment Deviation (mm)'],\n",
    "}"
   ],
   "id": "1055f091cc578b7a",
   "outputs": [],
   "execution_count": 35
  },
  {
   "metadata": {
    "ExecuteTime": {
     "end_time": "2025-05-22T14:23:03.374932Z",
     "start_time": "2025-05-22T14:23:03.371656Z"
    }
   },
   "cell_type": "code",
   "source": "final_config",
   "id": "2a349e842b06a2d9",
   "outputs": [
    {
     "data": {
      "text/plain": [
       "{'Glass Thickness (mm)': np.float64(3.9),\n",
       " 'Number of Cells': np.int64(60),\n",
       " 'Cell Alignment Deviation (mm)': np.float64(0.37)}"
      ]
     },
     "execution_count": 36,
     "metadata": {},
     "output_type": "execute_result"
    }
   ],
   "execution_count": 36
  },
  {
   "metadata": {
    "ExecuteTime": {
     "end_time": "2025-05-22T14:20:49.061459Z",
     "start_time": "2025-05-22T14:20:49.059590Z"
    }
   },
   "cell_type": "code",
   "source": "",
   "id": "9e71a0af2a3fe421",
   "outputs": [],
   "execution_count": 33
  },
  {
   "metadata": {
    "ExecuteTime": {
     "end_time": "2025-05-22T14:20:49.079435Z",
     "start_time": "2025-05-22T14:20:49.077574Z"
    }
   },
   "cell_type": "code",
   "source": "",
   "id": "b989bc5f350c90ee",
   "outputs": [],
   "execution_count": 33
  },
  {
   "metadata": {
    "ExecuteTime": {
     "end_time": "2025-05-22T14:20:49.091589Z",
     "start_time": "2025-05-22T14:20:49.089755Z"
    }
   },
   "cell_type": "code",
   "source": "",
   "id": "77c498353c7d40bb",
   "outputs": [],
   "execution_count": 33
  },
  {
   "metadata": {
    "ExecuteTime": {
     "end_time": "2025-05-22T14:20:49.110432Z",
     "start_time": "2025-05-22T14:20:49.108553Z"
    }
   },
   "cell_type": "code",
   "source": "",
   "id": "e3e6cfc57df8b676",
   "outputs": [],
   "execution_count": 33
  },
  {
   "metadata": {
    "ExecuteTime": {
     "end_time": "2025-05-22T14:20:49.144502Z",
     "start_time": "2025-05-22T14:20:49.142688Z"
    }
   },
   "cell_type": "code",
   "source": "",
   "id": "d3a8d4ccd8c53fd8",
   "outputs": [],
   "execution_count": 33
  },
  {
   "metadata": {
    "ExecuteTime": {
     "end_time": "2025-05-22T14:20:49.148501Z",
     "start_time": "2025-05-22T14:20:49.146518Z"
    }
   },
   "cell_type": "code",
   "source": "",
   "id": "ff0db4f712f4b215",
   "outputs": [],
   "execution_count": 33
  },
  {
   "metadata": {
    "ExecuteTime": {
     "end_time": "2025-05-22T14:20:49.172223Z",
     "start_time": "2025-05-22T14:20:49.170454Z"
    }
   },
   "cell_type": "code",
   "source": "",
   "id": "4053936d9d6e7569",
   "outputs": [],
   "execution_count": 33
  },
  {
   "metadata": {
    "ExecuteTime": {
     "end_time": "2025-05-22T14:20:49.217910Z",
     "start_time": "2025-05-22T14:20:49.215612Z"
    }
   },
   "cell_type": "code",
   "source": "",
   "id": "d01acf4a004563bf",
   "outputs": [],
   "execution_count": 33
  },
  {
   "metadata": {
    "ExecuteTime": {
     "end_time": "2025-05-22T14:20:49.227548Z",
     "start_time": "2025-05-22T14:20:49.225508Z"
    }
   },
   "cell_type": "code",
   "source": "",
   "id": "3b1ad078aadb5afd",
   "outputs": [],
   "execution_count": 33
  },
  {
   "metadata": {},
   "cell_type": "markdown",
   "source": [
    "\n",
    "\n",
    "---\n",
    "\n",
    "### 🔹**Exercise 2: Flash Test Override by Operator**\n",
    "\n",
    "**Goal:**\n",
    "Allow an operator to override `Flash Test Result` temporarily during QA review.\n",
    "\n",
    "**Problem:**\n",
    "Simulate a ChainMap where:\n",
    "\n",
    "* `qa_override = {'Flash Test Result': 'Pass'}`\n",
    "* It overrides the result for a specific serial number (`SP819428`)\n",
    "\n",
    "**Expected Output:**\n",
    "\n",
    "```\n",
    "SP819428 ➜ Flash Test Result (QA): Pass\n",
    "```\n",
    "\n",
    "---\n",
    "\n",
    "### 🔹**Exercise 3: Fallback for Missing Resistance Values**\n",
    "\n",
    "**Goal:**\n",
    "Use ChainMap to fill in missing `Insulation Resistance (MΩ)` values using:\n",
    "\n",
    "* live → calculated average → engineering default\n",
    "\n",
    "**Problem:**\n",
    "If a panel’s resistance is missing, try getting it from an operator’s average, or fallback to a default of `500 MΩ`.\n",
    "\n",
    "**Expected Output:**\n",
    "\n",
    "```\n",
    "Fallback Resistance ➜ 500.0\n",
    "```\n",
    "\n",
    "---\n",
    "\n",
    "### 🔹**Exercise 4: Junction Box Status Resolution**\n",
    "\n",
    "**Goal:**\n",
    "Resolve whether a panel has a junction box attached using 3 fallback sources:\n",
    "\n",
    "1. Line data (`Line 1` logs)\n",
    "2. Panel type heuristic\n",
    "3. Default: `No`\n",
    "\n",
    "**Problem:**\n",
    "For panels with unknown attachment, simulate resolution using ChainMap.\n",
    "\n",
    "**Expected Output:**\n",
    "\n",
    "```\n",
    "Panel SP736702 ➜ Junction Box Attached: No\n",
    "```\n",
    "\n",
    "---\n",
    "\n",
    "### 🔹**Exercise 5: Cell Count Resolution**\n",
    "\n",
    "**Goal:**\n",
    "If `Number of Cells` is missing or inconsistent, fallback to:\n",
    "\n",
    "1. Panel Type average\n",
    "2. Line average\n",
    "3. Default: 60\n",
    "\n",
    "**Expected Output:**\n",
    "\n",
    "```\n",
    "Resolved Cell Count ➜ 72\n",
    "```\n",
    "\n",
    "---\n",
    "\n",
    "### 🔹**Exercise 6: Determine True Final Status**\n",
    "\n",
    "**Goal:**\n",
    "Combine `Flash Test Result`, `Visual Inspection`, and `Final Inspection` using override priority:\n",
    "\n",
    "1. QA override (ChainMap layer 1)\n",
    "2. Inspector override\n",
    "3. Original result\n",
    "\n",
    "**Expected Output:**\n",
    "\n",
    "```\n",
    "Final Result: FAIL (due to visual inspection)\n",
    "```\n",
    "\n",
    "---\n",
    "\n",
    "### 🔹**Exercise 7: Fallback Efficiency Calculation**\n",
    "\n",
    "**Goal:**\n",
    "If `Efficiency (%)` is missing, resolve it via:\n",
    "\n",
    "1. Flash Pass average\n",
    "2. Line-specific average\n",
    "3. Global average\n",
    "\n",
    "**Expected Output:**\n",
    "\n",
    "```\n",
    "Resolved Efficiency: 18.77%\n",
    "```\n",
    "\n",
    "---\n",
    "\n",
    "### 🔹**Exercise 8: Override Operator ID for Batch**\n",
    "\n",
    "**Goal:**\n",
    "For a specific batch of panels, apply temporary operator override using ChainMap:\n",
    "\n",
    "* Layer 1: Temp override → `{'Operator ID': 'EMP999'}`\n",
    "* Layer 2: Original records\n",
    "\n",
    "**Expected Output:**\n",
    "\n",
    "```\n",
    "Effective Operator ID for SP819428 ➜ EMP999\n",
    "```\n",
    "\n",
    "---\n",
    "\n",
    "### 🔹**Exercise 9: Filter Panels with Resolved Power Output**\n",
    "\n",
    "**Goal:**\n",
    "Use ChainMap to handle panels with:\n",
    "\n",
    "* Missing power output → fallback to type-based average or 300 W\n",
    "\n",
    "**Expected Output Example:**\n",
    "\n",
    "```\n",
    "Panel SPxxxxxx ➜ Power Output: 312.5 W (fallback used)\n",
    "```\n",
    "\n",
    "---\n",
    "\n",
    "### 🔹**Exercise 10: Combine All Config Layers Per Shift**\n",
    "\n",
    "**Goal:**\n",
    "For a given `Shift`, create a 3-layer ChainMap config:\n",
    "\n",
    "* Shift-specific live tuning\n",
    "* Assembly line fallback\n",
    "* Global engineering spec\n",
    "\n",
    "**Expected Output:**\n",
    "\n",
    "```\n",
    "Shift 1 Config ➜ {'Glass Thickness (mm)': 3.7, 'Efficiency (%)': 19.5, 'Cycle Time (s)': 980.8}\n",
    "```\n",
    "\n",
    "---\n",
    "\n",
    "Let me know if you’d like the starter templates or to work through each problem interactively next!\n"
   ],
   "id": "82afa55195a7bd5e"
  },
  {
   "metadata": {
    "ExecuteTime": {
     "end_time": "2025-05-22T14:20:49.246552Z",
     "start_time": "2025-05-22T14:20:49.244177Z"
    }
   },
   "cell_type": "code",
   "source": "",
   "id": "377bc7a00fe0db74",
   "outputs": [],
   "execution_count": 33
  }
 ],
 "metadata": {
  "kernelspec": {
   "display_name": "Python 3",
   "language": "python",
   "name": "python3"
  },
  "language_info": {
   "codemirror_mode": {
    "name": "ipython",
    "version": 2
   },
   "file_extension": ".py",
   "mimetype": "text/x-python",
   "name": "python",
   "nbconvert_exporter": "python",
   "pygments_lexer": "ipython2",
   "version": "2.7.6"
  }
 },
 "nbformat": 4,
 "nbformat_minor": 5
}
