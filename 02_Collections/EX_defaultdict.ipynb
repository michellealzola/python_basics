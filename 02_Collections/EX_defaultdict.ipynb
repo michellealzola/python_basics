{
 "cells": [
  {
   "metadata": {},
   "cell_type": "markdown",
   "source": [
    "# Part 1: Introduction to defaultdict()\n",
    "### What is defaultdict()?\n",
    "defaultdict is a subclass of Python’s built-in dict. It overrides one behavior: when accessing a missing key, instead of raising a KeyError, it creates a default value using a factory function (e.g., int, list, set)."
   ],
   "id": "2497da582a5877c5"
  },
  {
   "metadata": {
    "ExecuteTime": {
     "end_time": "2025-05-20T13:38:46.814022Z",
     "start_time": "2025-05-20T13:38:46.811228Z"
    }
   },
   "cell_type": "code",
   "source": [
    "from collections import defaultdict\n",
    "from pprint import pprint"
   ],
   "id": "230e00a9aba752e2",
   "outputs": [],
   "execution_count": 21
  },
  {
   "metadata": {
    "ExecuteTime": {
     "end_time": "2025-05-20T13:38:46.849712Z",
     "start_time": "2025-05-20T13:38:46.847659Z"
    }
   },
   "cell_type": "code",
   "source": "dd = defaultdict(list)",
   "id": "cd92ede7c89f37e4",
   "outputs": [],
   "execution_count": 22
  },
  {
   "metadata": {
    "ExecuteTime": {
     "end_time": "2025-05-20T13:38:46.853822Z",
     "start_time": "2025-05-20T13:38:46.851419Z"
    }
   },
   "cell_type": "code",
   "source": "dd['a'].append(1)",
   "id": "8367be2e46620a58",
   "outputs": [],
   "execution_count": 23
  },
  {
   "metadata": {
    "ExecuteTime": {
     "end_time": "2025-05-20T13:38:46.857690Z",
     "start_time": "2025-05-20T13:38:46.854675Z"
    }
   },
   "cell_type": "code",
   "source": "dd",
   "id": "35f253c270fa2ac7",
   "outputs": [
    {
     "data": {
      "text/plain": [
       "defaultdict(list, {'a': [1]})"
      ]
     },
     "execution_count": 24,
     "metadata": {},
     "output_type": "execute_result"
    }
   ],
   "execution_count": 24
  },
  {
   "metadata": {
    "ExecuteTime": {
     "end_time": "2025-05-20T13:38:46.861523Z",
     "start_time": "2025-05-20T13:38:46.858724Z"
    }
   },
   "cell_type": "code",
   "source": "dict(dd)",
   "id": "86fd59219dd9df46",
   "outputs": [
    {
     "data": {
      "text/plain": [
       "{'a': [1]}"
      ]
     },
     "execution_count": 25,
     "metadata": {},
     "output_type": "execute_result"
    }
   ],
   "execution_count": 25
  },
  {
   "metadata": {},
   "cell_type": "markdown",
   "source": [
    "# Skill-Building Activities\n",
    "## Level 1: Basic Mechanics\n",
    "### 1.1 Using int as a default factory\n",
    "\n",
    "Skill: Automatically initializing numeric counters\n",
    "\n",
    "Challenge: Forgetting that defaultdict doesn't retroactively convert existing keys."
   ],
   "id": "e438a6c517ad9f15"
  },
  {
   "metadata": {
    "ExecuteTime": {
     "end_time": "2025-05-20T13:38:46.864390Z",
     "start_time": "2025-05-20T13:38:46.862340Z"
    }
   },
   "cell_type": "code",
   "source": [
    "word_counts = defaultdict(int)\n",
    "sentence = 'solar panel assembly is efficient solar energy source'"
   ],
   "id": "4131a8ef1c9dd88e",
   "outputs": [],
   "execution_count": 26
  },
  {
   "metadata": {
    "ExecuteTime": {
     "end_time": "2025-05-20T13:38:46.867906Z",
     "start_time": "2025-05-20T13:38:46.865730Z"
    }
   },
   "cell_type": "code",
   "source": [
    "for word in sentence.split():\n",
    "    word_counts[word] += 1"
   ],
   "id": "a4a3b2772fa95d7e",
   "outputs": [],
   "execution_count": 27
  },
  {
   "metadata": {
    "ExecuteTime": {
     "end_time": "2025-05-20T13:38:46.871824Z",
     "start_time": "2025-05-20T13:38:46.868744Z"
    }
   },
   "cell_type": "code",
   "source": "dict(word_counts)",
   "id": "b925804fceeffca3",
   "outputs": [
    {
     "data": {
      "text/plain": [
       "{'solar': 2,\n",
       " 'panel': 1,\n",
       " 'assembly': 1,\n",
       " 'is': 1,\n",
       " 'efficient': 1,\n",
       " 'energy': 1,\n",
       " 'source': 1}"
      ]
     },
     "execution_count": 28,
     "metadata": {},
     "output_type": "execute_result"
    }
   ],
   "execution_count": 28
  },
  {
   "metadata": {},
   "cell_type": "markdown",
   "source": [
    "###  1.2 Using list to group values\n",
    "Skill: Grouping items into categories\n",
    "\n",
    "Challenge: Accidentally using regular dict → KeyError."
   ],
   "id": "99781ee7588f55c7"
  },
  {
   "metadata": {
    "ExecuteTime": {
     "end_time": "2025-05-20T17:55:14.185256Z",
     "start_time": "2025-05-20T17:55:14.176655Z"
    }
   },
   "cell_type": "code",
   "source": "groups = defaultdict(list)",
   "id": "f2f1c5f69af1e7f1",
   "outputs": [],
   "execution_count": 29
  },
  {
   "metadata": {
    "ExecuteTime": {
     "end_time": "2025-05-20T17:55:30.615120Z",
     "start_time": "2025-05-20T17:55:30.611972Z"
    }
   },
   "cell_type": "code",
   "source": "data = [('Line A', 'Operator1'), ('Line B', 'Operator2'), ('Line A', 'Operator3')]",
   "id": "223307964ede75e1",
   "outputs": [],
   "execution_count": 30
  },
  {
   "metadata": {
    "ExecuteTime": {
     "end_time": "2025-05-20T17:55:45.887855Z",
     "start_time": "2025-05-20T17:55:45.885339Z"
    }
   },
   "cell_type": "code",
   "source": [
    "for line, operator in data:\n",
    "    groups[line].append(operator)"
   ],
   "id": "bcbbe1ce968d1121",
   "outputs": [],
   "execution_count": 31
  },
  {
   "metadata": {
    "ExecuteTime": {
     "end_time": "2025-05-20T17:55:50.229433Z",
     "start_time": "2025-05-20T17:55:50.225039Z"
    }
   },
   "cell_type": "code",
   "source": "groups",
   "id": "f50d47ff8392362e",
   "outputs": [
    {
     "data": {
      "text/plain": [
       "defaultdict(list,\n",
       "            {'Line A': ['Operator1', 'Operator3'], 'Line B': ['Operator2']})"
      ]
     },
     "execution_count": 32,
     "metadata": {},
     "output_type": "execute_result"
    }
   ],
   "execution_count": 32
  },
  {
   "metadata": {
    "ExecuteTime": {
     "end_time": "2025-05-20T17:55:58.144454Z",
     "start_time": "2025-05-20T17:55:58.140444Z"
    }
   },
   "cell_type": "code",
   "source": "dict(groups)",
   "id": "1438bbbdd2919cde",
   "outputs": [
    {
     "data": {
      "text/plain": [
       "{'Line A': ['Operator1', 'Operator3'], 'Line B': ['Operator2']}"
      ]
     },
     "execution_count": 33,
     "metadata": {},
     "output_type": "execute_result"
    }
   ],
   "execution_count": 33
  },
  {
   "metadata": {
    "ExecuteTime": {
     "end_time": "2025-05-20T13:38:46.963504Z",
     "start_time": "2025-05-20T13:38:46.961556Z"
    }
   },
   "cell_type": "code",
   "source": "",
   "id": "966db6a7f2175918",
   "outputs": [],
   "execution_count": 28
  },
  {
   "metadata": {
    "ExecuteTime": {
     "end_time": "2025-05-20T13:38:46.965892Z",
     "start_time": "2025-05-20T13:38:46.964396Z"
    }
   },
   "cell_type": "code",
   "source": "",
   "id": "96bc869ebdcfdb51",
   "outputs": [],
   "execution_count": 28
  }
 ],
 "metadata": {
  "kernelspec": {
   "display_name": "Python 3",
   "language": "python",
   "name": "python3"
  },
  "language_info": {
   "codemirror_mode": {
    "name": "ipython",
    "version": 2
   },
   "file_extension": ".py",
   "mimetype": "text/x-python",
   "name": "python",
   "nbconvert_exporter": "python",
   "pygments_lexer": "ipython2",
   "version": "2.7.6"
  }
 },
 "nbformat": 4,
 "nbformat_minor": 5
}
