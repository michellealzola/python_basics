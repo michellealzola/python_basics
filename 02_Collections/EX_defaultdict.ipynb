{
 "cells": [
  {
   "metadata": {},
   "cell_type": "markdown",
   "source": [
    "# Part 1: Introduction to defaultdict()\n",
    "### What is defaultdict()?\n",
    "defaultdict is a subclass of Python’s built-in dict. It overrides one behavior: when accessing a missing key, instead of raising a KeyError, it creates a default value using a factory function (e.g., int, list, set)."
   ],
   "id": "2497da582a5877c5"
  },
  {
   "metadata": {},
   "cell_type": "code",
   "outputs": [],
   "execution_count": null,
   "source": "",
   "id": "230e00a9aba752e2"
  }
 ],
 "metadata": {
  "kernelspec": {
   "display_name": "Python 3",
   "language": "python",
   "name": "python3"
  },
  "language_info": {
   "codemirror_mode": {
    "name": "ipython",
    "version": 2
   },
   "file_extension": ".py",
   "mimetype": "text/x-python",
   "name": "python",
   "nbconvert_exporter": "python",
   "pygments_lexer": "ipython2",
   "version": "2.7.6"
  }
 },
 "nbformat": 4,
 "nbformat_minor": 5
}
