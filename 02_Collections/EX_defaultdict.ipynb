{
 "cells": [
  {
   "metadata": {},
   "cell_type": "markdown",
   "source": [
    "# Part 1: Introduction to defaultdict()\n",
    "### What is defaultdict()?\n",
    "defaultdict is a subclass of Python’s built-in dict. It overrides one behavior: when accessing a missing key, instead of raising a KeyError, it creates a default value using a factory function (e.g., int, list, set)."
   ],
   "id": "2497da582a5877c5"
  },
  {
   "metadata": {
    "ExecuteTime": {
     "end_time": "2025-05-20T18:38:37.667203Z",
     "start_time": "2025-05-20T18:38:37.664528Z"
    }
   },
   "cell_type": "code",
   "source": [
    "import csv\n",
    "from collections import defaultdict\n",
    "from pprint import pprint"
   ],
   "id": "230e00a9aba752e2",
   "outputs": [],
   "execution_count": 155
  },
  {
   "metadata": {
    "ExecuteTime": {
     "end_time": "2025-05-20T18:38:37.779848Z",
     "start_time": "2025-05-20T18:38:37.777246Z"
    }
   },
   "cell_type": "code",
   "source": "dd = defaultdict(list)",
   "id": "cd92ede7c89f37e4",
   "outputs": [],
   "execution_count": 156
  },
  {
   "metadata": {
    "ExecuteTime": {
     "end_time": "2025-05-20T18:38:37.805113Z",
     "start_time": "2025-05-20T18:38:37.802395Z"
    }
   },
   "cell_type": "code",
   "source": "dd['a'].append(1)",
   "id": "8367be2e46620a58",
   "outputs": [],
   "execution_count": 157
  },
  {
   "metadata": {
    "ExecuteTime": {
     "end_time": "2025-05-20T18:38:37.821119Z",
     "start_time": "2025-05-20T18:38:37.817190Z"
    }
   },
   "cell_type": "code",
   "source": "dd",
   "id": "35f253c270fa2ac7",
   "outputs": [
    {
     "data": {
      "text/plain": [
       "defaultdict(list, {'a': [1]})"
      ]
     },
     "execution_count": 158,
     "metadata": {},
     "output_type": "execute_result"
    }
   ],
   "execution_count": 158
  },
  {
   "metadata": {
    "ExecuteTime": {
     "end_time": "2025-05-20T18:38:37.835523Z",
     "start_time": "2025-05-20T18:38:37.831159Z"
    }
   },
   "cell_type": "code",
   "source": "dict(dd)",
   "id": "86fd59219dd9df46",
   "outputs": [
    {
     "data": {
      "text/plain": [
       "{'a': [1]}"
      ]
     },
     "execution_count": 159,
     "metadata": {},
     "output_type": "execute_result"
    }
   ],
   "execution_count": 159
  },
  {
   "metadata": {},
   "cell_type": "markdown",
   "source": [
    "# Skill-Building Activities\n",
    "## Level 1: Basic Mechanics\n",
    "### 1.1 Using int as a default factory\n",
    "\n",
    "Skill: Automatically initializing numeric counters\n",
    "\n",
    "Challenge: Forgetting that defaultdict doesn't retroactively convert existing keys."
   ],
   "id": "e438a6c517ad9f15"
  },
  {
   "metadata": {
    "ExecuteTime": {
     "end_time": "2025-05-20T18:38:37.838612Z",
     "start_time": "2025-05-20T18:38:37.836486Z"
    }
   },
   "cell_type": "code",
   "source": [
    "word_counts = defaultdict(int)\n",
    "sentence = 'solar panel assembly is efficient solar energy source'"
   ],
   "id": "4131a8ef1c9dd88e",
   "outputs": [],
   "execution_count": 160
  },
  {
   "metadata": {
    "ExecuteTime": {
     "end_time": "2025-05-20T18:38:37.848574Z",
     "start_time": "2025-05-20T18:38:37.845697Z"
    }
   },
   "cell_type": "code",
   "source": [
    "for word in sentence.split():\n",
    "    word_counts[word] += 1"
   ],
   "id": "a4a3b2772fa95d7e",
   "outputs": [],
   "execution_count": 161
  },
  {
   "metadata": {
    "ExecuteTime": {
     "end_time": "2025-05-20T18:38:37.852852Z",
     "start_time": "2025-05-20T18:38:37.849633Z"
    }
   },
   "cell_type": "code",
   "source": "dict(word_counts)",
   "id": "b925804fceeffca3",
   "outputs": [
    {
     "data": {
      "text/plain": [
       "{'solar': 2,\n",
       " 'panel': 1,\n",
       " 'assembly': 1,\n",
       " 'is': 1,\n",
       " 'efficient': 1,\n",
       " 'energy': 1,\n",
       " 'source': 1}"
      ]
     },
     "execution_count": 162,
     "metadata": {},
     "output_type": "execute_result"
    }
   ],
   "execution_count": 162
  },
  {
   "metadata": {},
   "cell_type": "markdown",
   "source": [
    "###  1.2 Using list to group values\n",
    "Skill: Grouping items into categories\n",
    "\n",
    "Challenge: Accidentally using regular dict → KeyError."
   ],
   "id": "99781ee7588f55c7"
  },
  {
   "metadata": {
    "ExecuteTime": {
     "end_time": "2025-05-20T18:38:37.889685Z",
     "start_time": "2025-05-20T18:38:37.887228Z"
    }
   },
   "cell_type": "code",
   "source": "groups = defaultdict(list)",
   "id": "f2f1c5f69af1e7f1",
   "outputs": [],
   "execution_count": 163
  },
  {
   "metadata": {
    "ExecuteTime": {
     "end_time": "2025-05-20T18:38:37.893237Z",
     "start_time": "2025-05-20T18:38:37.891013Z"
    }
   },
   "cell_type": "code",
   "source": "data = [('Line A', 'Operator1'), ('Line B', 'Operator2'), ('Line A', 'Operator3')]",
   "id": "223307964ede75e1",
   "outputs": [],
   "execution_count": 164
  },
  {
   "metadata": {
    "ExecuteTime": {
     "end_time": "2025-05-20T18:38:37.907365Z",
     "start_time": "2025-05-20T18:38:37.904226Z"
    }
   },
   "cell_type": "code",
   "source": [
    "for line, operator in data:\n",
    "    groups[line].append(operator)"
   ],
   "id": "bcbbe1ce968d1121",
   "outputs": [],
   "execution_count": 165
  },
  {
   "metadata": {
    "ExecuteTime": {
     "end_time": "2025-05-20T18:38:37.927355Z",
     "start_time": "2025-05-20T18:38:37.923872Z"
    }
   },
   "cell_type": "code",
   "source": "groups",
   "id": "f50d47ff8392362e",
   "outputs": [
    {
     "data": {
      "text/plain": [
       "defaultdict(list,\n",
       "            {'Line A': ['Operator1', 'Operator3'], 'Line B': ['Operator2']})"
      ]
     },
     "execution_count": 166,
     "metadata": {},
     "output_type": "execute_result"
    }
   ],
   "execution_count": 166
  },
  {
   "metadata": {
    "ExecuteTime": {
     "end_time": "2025-05-20T18:38:37.945224Z",
     "start_time": "2025-05-20T18:38:37.941580Z"
    }
   },
   "cell_type": "code",
   "source": "dict(groups)",
   "id": "1438bbbdd2919cde",
   "outputs": [
    {
     "data": {
      "text/plain": [
       "{'Line A': ['Operator1', 'Operator3'], 'Line B': ['Operator2']}"
      ]
     },
     "execution_count": 167,
     "metadata": {},
     "output_type": "execute_result"
    }
   ],
   "execution_count": 167
  },
  {
   "metadata": {},
   "cell_type": "markdown",
   "source": "###  1.3 Using set to avoid duplicates",
   "id": "8aed17fc35f87578"
  },
  {
   "metadata": {
    "ExecuteTime": {
     "end_time": "2025-05-20T18:38:37.975090Z",
     "start_time": "2025-05-20T18:38:37.972706Z"
    }
   },
   "cell_type": "code",
   "source": "unique_parts = defaultdict(set)",
   "id": "96bc869ebdcfdb51",
   "outputs": [],
   "execution_count": 168
  },
  {
   "metadata": {
    "ExecuteTime": {
     "end_time": "2025-05-20T18:38:38.012873Z",
     "start_time": "2025-05-20T18:38:38.007523Z"
    }
   },
   "cell_type": "code",
   "source": "records = [('Module A', 'Frame'), ('Module A', 'Cell'), ('Module A', 'Cell')]",
   "id": "8cddd32611412e8b",
   "outputs": [],
   "execution_count": 169
  },
  {
   "metadata": {
    "ExecuteTime": {
     "end_time": "2025-05-20T18:38:38.024768Z",
     "start_time": "2025-05-20T18:38:38.022524Z"
    }
   },
   "cell_type": "code",
   "source": [
    "for module, parts in records:\n",
    "    unique_parts[module].add(parts)"
   ],
   "id": "68b91fa31bdde38c",
   "outputs": [],
   "execution_count": 170
  },
  {
   "metadata": {
    "ExecuteTime": {
     "end_time": "2025-05-20T18:38:38.055420Z",
     "start_time": "2025-05-20T18:38:38.051177Z"
    }
   },
   "cell_type": "code",
   "source": "unique_parts",
   "id": "f9e86e0c36a9c54e",
   "outputs": [
    {
     "data": {
      "text/plain": [
       "defaultdict(set, {'Module A': {'Cell', 'Frame'}})"
      ]
     },
     "execution_count": 171,
     "metadata": {},
     "output_type": "execute_result"
    }
   ],
   "execution_count": 171
  },
  {
   "metadata": {
    "ExecuteTime": {
     "end_time": "2025-05-20T18:38:38.067935Z",
     "start_time": "2025-05-20T18:38:38.063959Z"
    }
   },
   "cell_type": "code",
   "source": "dict(unique_parts)",
   "id": "e86183dc40b697d0",
   "outputs": [
    {
     "data": {
      "text/plain": [
       "{'Module A': {'Cell', 'Frame'}}"
      ]
     },
     "execution_count": 172,
     "metadata": {},
     "output_type": "execute_result"
    }
   ],
   "execution_count": 172
  },
  {
   "metadata": {},
   "cell_type": "markdown",
   "source": [
    "## Level 2: Intermediate Usage\n",
    "### 2.1 Nested defaultdict (factory returning another defaultdict)\n",
    "Skill: Multi-level grouping (e.g., Assembly Line ➜ Component ➜ Count)"
   ],
   "id": "6fc6f6bea5013baf"
  },
  {
   "metadata": {
    "ExecuteTime": {
     "end_time": "2025-05-20T18:38:38.099120Z",
     "start_time": "2025-05-20T18:38:38.096819Z"
    }
   },
   "cell_type": "code",
   "source": [
    "def nested_dict():\n",
    "    return defaultdict(int)"
   ],
   "id": "a37f10fd127237c9",
   "outputs": [],
   "execution_count": 173
  },
  {
   "metadata": {
    "ExecuteTime": {
     "end_time": "2025-05-20T18:38:38.130143Z",
     "start_time": "2025-05-20T18:38:38.127698Z"
    }
   },
   "cell_type": "code",
   "source": "inventory = defaultdict(nested_dict)",
   "id": "aea1c96cf05d288f",
   "outputs": [],
   "execution_count": 174
  },
  {
   "metadata": {
    "ExecuteTime": {
     "end_time": "2025-05-20T18:38:38.143763Z",
     "start_time": "2025-05-20T18:38:38.140849Z"
    }
   },
   "cell_type": "code",
   "source": [
    "inventory['Line A']['Frame'] += 10\n",
    "inventory['Line A']['Cell'] += 5\n",
    "inventory['Line B']['Glass'] += 3"
   ],
   "id": "49207f5a9b6b0db5",
   "outputs": [],
   "execution_count": 175
  },
  {
   "metadata": {
    "ExecuteTime": {
     "end_time": "2025-05-20T18:38:38.158057Z",
     "start_time": "2025-05-20T18:38:38.154507Z"
    }
   },
   "cell_type": "code",
   "source": "inventory",
   "id": "36c898aa36365e25",
   "outputs": [
    {
     "data": {
      "text/plain": [
       "defaultdict(<function __main__.nested_dict()>,\n",
       "            {'Line A': defaultdict(int, {'Frame': 10, 'Cell': 5}),\n",
       "             'Line B': defaultdict(int, {'Glass': 3})})"
      ]
     },
     "execution_count": 176,
     "metadata": {},
     "output_type": "execute_result"
    }
   ],
   "execution_count": 176
  },
  {
   "metadata": {
    "ExecuteTime": {
     "end_time": "2025-05-20T18:38:38.162009Z",
     "start_time": "2025-05-20T18:38:38.159094Z"
    }
   },
   "cell_type": "code",
   "source": "dict(inventory)",
   "id": "ed27a9018098d51a",
   "outputs": [
    {
     "data": {
      "text/plain": [
       "{'Line A': defaultdict(int, {'Frame': 10, 'Cell': 5}),\n",
       " 'Line B': defaultdict(int, {'Glass': 3})}"
      ]
     },
     "execution_count": 177,
     "metadata": {},
     "output_type": "execute_result"
    }
   ],
   "execution_count": 177
  },
  {
   "metadata": {
    "ExecuteTime": {
     "end_time": "2025-05-20T18:38:38.165505Z",
     "start_time": "2025-05-20T18:38:38.163323Z"
    }
   },
   "cell_type": "code",
   "source": [
    "for line, components in inventory.items():\n",
    "    for component, count in components.items():\n",
    "        print(f'{line} --> {component} : {count}')\n",
    "        "
   ],
   "id": "7c441e46e3ab0f6e",
   "outputs": [
    {
     "name": "stdout",
     "output_type": "stream",
     "text": [
      "Line A --> Frame : 10\n",
      "Line A --> Cell : 5\n",
      "Line B --> Glass : 3\n"
     ]
    }
   ],
   "execution_count": 178
  },
  {
   "metadata": {},
   "cell_type": "markdown",
   "source": "### 2.2 Aggregating numerical values by category",
   "id": "ac7a8b9a7b1f1943"
  },
  {
   "metadata": {
    "ExecuteTime": {
     "end_time": "2025-05-20T18:38:38.194227Z",
     "start_time": "2025-05-20T18:38:38.191942Z"
    }
   },
   "cell_type": "code",
   "source": [
    "assembly_times = [\n",
    "    ('Line A', 45), ('Line A', 55), ('Line B', 30), ('Line A', 40)\n",
    "]"
   ],
   "id": "bc4187ac51d9ffe8",
   "outputs": [],
   "execution_count": 179
  },
  {
   "metadata": {
    "ExecuteTime": {
     "end_time": "2025-05-20T18:38:38.207704Z",
     "start_time": "2025-05-20T18:38:38.205304Z"
    }
   },
   "cell_type": "code",
   "source": "totals = defaultdict(int)",
   "id": "634bc6135a732743",
   "outputs": [],
   "execution_count": 180
  },
  {
   "metadata": {
    "ExecuteTime": {
     "end_time": "2025-05-20T18:38:38.229809Z",
     "start_time": "2025-05-20T18:38:38.227461Z"
    }
   },
   "cell_type": "code",
   "source": "counts = defaultdict(int)",
   "id": "16d37e99c43286b9",
   "outputs": [],
   "execution_count": 181
  },
  {
   "metadata": {
    "ExecuteTime": {
     "end_time": "2025-05-20T18:38:38.247765Z",
     "start_time": "2025-05-20T18:38:38.245266Z"
    }
   },
   "cell_type": "code",
   "source": [
    "for line, time in assembly_times:\n",
    "    totals[line] += time\n",
    "    counts[line] += 1"
   ],
   "id": "4cee096f0ddf367",
   "outputs": [],
   "execution_count": 182
  },
  {
   "metadata": {
    "ExecuteTime": {
     "end_time": "2025-05-20T18:38:38.259905Z",
     "start_time": "2025-05-20T18:38:38.257453Z"
    }
   },
   "cell_type": "code",
   "source": "averages = {line: round(totals[line] / counts[line], 2) for line in totals}",
   "id": "6c2f56b3a11bcb21",
   "outputs": [],
   "execution_count": 183
  },
  {
   "metadata": {
    "ExecuteTime": {
     "end_time": "2025-05-20T18:38:38.264283Z",
     "start_time": "2025-05-20T18:38:38.261495Z"
    }
   },
   "cell_type": "code",
   "source": "averages",
   "id": "4aed322fd9f77184",
   "outputs": [
    {
     "data": {
      "text/plain": [
       "{'Line A': 46.67, 'Line B': 30.0}"
      ]
     },
     "execution_count": 184,
     "metadata": {},
     "output_type": "execute_result"
    }
   ],
   "execution_count": 184
  },
  {
   "metadata": {},
   "cell_type": "markdown",
   "source": "# Level 3: Advanced Use Cases for defaultdict()",
   "id": "eb6bb97d7f6569b"
  },
  {
   "metadata": {
    "ExecuteTime": {
     "end_time": "2025-05-20T18:38:38.276291Z",
     "start_time": "2025-05-20T18:38:38.272263Z"
    }
   },
   "cell_type": "code",
   "source": [
    "import pandas as pd\n",
    "data = pd.read_csv('solar_panel_assembly_dataset.csv')"
   ],
   "id": "ce0f6ef796f0c923",
   "outputs": [],
   "execution_count": 185
  },
  {
   "metadata": {
    "ExecuteTime": {
     "end_time": "2025-05-20T18:38:38.299293Z",
     "start_time": "2025-05-20T18:38:38.295262Z"
    }
   },
   "cell_type": "code",
   "source": "df = pd.DataFrame(data)",
   "id": "32bbccbc838dc4c4",
   "outputs": [],
   "execution_count": 186
  },
  {
   "metadata": {
    "ExecuteTime": {
     "end_time": "2025-05-20T18:38:38.308849Z",
     "start_time": "2025-05-20T18:38:38.305839Z"
    }
   },
   "cell_type": "code",
   "source": "list(df.columns)",
   "id": "c16b4d7bacf02acf",
   "outputs": [
    {
     "data": {
      "text/plain": [
       "['Date',\n",
       " 'Shift',\n",
       " 'Panel Serial No.',\n",
       " 'Panel Type',\n",
       " 'Assembly Line',\n",
       " 'Cycle Time (s)',\n",
       " 'Number of Cells',\n",
       " 'Cell Alignment Deviation (mm)',\n",
       " 'Glass Thickness (mm)',\n",
       " 'Junction Box Attached',\n",
       " 'Power Output (W)',\n",
       " 'Efficiency (%)',\n",
       " 'Insulation Resistance (MΩ)',\n",
       " 'Flash Test Result',\n",
       " 'Visual Inspection',\n",
       " 'Operator ID',\n",
       " 'Final Inspection']"
      ]
     },
     "execution_count": 187,
     "metadata": {},
     "output_type": "execute_result"
    }
   ],
   "execution_count": 187
  },
  {
   "metadata": {},
   "cell_type": "markdown",
   "source": [
    "### 3.1: Total Panels Assembled Per Operator\n",
    "Goal: Count how many solar panels each operator assembled."
   ],
   "id": "995cf7f7041a6e85"
  },
  {
   "metadata": {
    "ExecuteTime": {
     "end_time": "2025-05-20T18:38:38.311811Z",
     "start_time": "2025-05-20T18:38:38.309643Z"
    }
   },
   "cell_type": "code",
   "source": [
    "import csv\n",
    "panel_counts = defaultdict(int)"
   ],
   "id": "8a2063a73e1cc7be",
   "outputs": [],
   "execution_count": 188
  },
  {
   "metadata": {
    "ExecuteTime": {
     "end_time": "2025-05-20T18:38:38.321982Z",
     "start_time": "2025-05-20T18:38:38.318898Z"
    }
   },
   "cell_type": "code",
   "source": [
    "with open('solar_panel_assembly_dataset.csv', newline='') as csvfile:\n",
    "    reader = csv.DictReader(csvfile)\n",
    "    for row in reader:\n",
    "        operator = row['Operator ID']\n",
    "        panel_counts[operator] += 1\n",
    "        "
   ],
   "id": "86f681ddedd57122",
   "outputs": [],
   "execution_count": 189
  },
  {
   "metadata": {
    "ExecuteTime": {
     "end_time": "2025-05-20T18:38:38.340389Z",
     "start_time": "2025-05-20T18:38:38.336880Z"
    }
   },
   "cell_type": "code",
   "source": [
    "for op, count in panel_counts.items():\n",
    "    print(f'Operator: {op} --> {count} panels')"
   ],
   "id": "6a2ca418b788a437",
   "outputs": [
    {
     "name": "stdout",
     "output_type": "stream",
     "text": [
      "Operator: EMP593 --> 1 panels\n",
      "Operator: EMP448 --> 1 panels\n",
      "Operator: EMP993 --> 1 panels\n",
      "Operator: EMP533 --> 1 panels\n",
      "Operator: EMP415 --> 1 panels\n",
      "Operator: EMP358 --> 1 panels\n",
      "Operator: EMP795 --> 1 panels\n",
      "Operator: EMP538 --> 2 panels\n",
      "Operator: EMP138 --> 1 panels\n",
      "Operator: EMP554 --> 1 panels\n",
      "Operator: EMP973 --> 1 panels\n",
      "Operator: EMP727 --> 2 panels\n",
      "Operator: EMP508 --> 1 panels\n",
      "Operator: EMP708 --> 2 panels\n",
      "Operator: EMP476 --> 1 panels\n",
      "Operator: EMP519 --> 1 panels\n",
      "Operator: EMP713 --> 1 panels\n",
      "Operator: EMP532 --> 1 panels\n",
      "Operator: EMP164 --> 1 panels\n",
      "Operator: EMP909 --> 1 panels\n",
      "Operator: EMP305 --> 1 panels\n",
      "Operator: EMP132 --> 1 panels\n",
      "Operator: EMP497 --> 1 panels\n",
      "Operator: EMP402 --> 1 panels\n",
      "Operator: EMP794 --> 1 panels\n",
      "Operator: EMP762 --> 1 panels\n",
      "Operator: EMP813 --> 1 panels\n",
      "Operator: EMP695 --> 1 panels\n",
      "Operator: EMP349 --> 1 panels\n",
      "Operator: EMP705 --> 1 panels\n",
      "Operator: EMP211 --> 1 panels\n",
      "Operator: EMP656 --> 1 panels\n",
      "Operator: EMP528 --> 1 panels\n",
      "Operator: EMP913 --> 1 panels\n",
      "Operator: EMP694 --> 1 panels\n",
      "Operator: EMP582 --> 1 panels\n",
      "Operator: EMP350 --> 2 panels\n",
      "Operator: EMP719 --> 1 panels\n",
      "Operator: EMP857 --> 2 panels\n",
      "Operator: EMP715 --> 1 panels\n",
      "Operator: EMP625 --> 1 panels\n",
      "Operator: EMP891 --> 1 panels\n",
      "Operator: EMP288 --> 1 panels\n",
      "Operator: EMP800 --> 1 panels\n",
      "Operator: EMP229 --> 1 panels\n",
      "Operator: EMP480 --> 1 panels\n",
      "Operator: EMP512 --> 1 panels\n",
      "Operator: EMP440 --> 1 panels\n",
      "Operator: EMP152 --> 1 panels\n",
      "Operator: EMP650 --> 1 panels\n",
      "Operator: EMP399 --> 1 panels\n",
      "Operator: EMP668 --> 1 panels\n",
      "Operator: EMP193 --> 1 panels\n",
      "Operator: EMP841 --> 2 panels\n",
      "Operator: EMP209 --> 1 panels\n",
      "Operator: EMP169 --> 1 panels\n",
      "Operator: EMP979 --> 1 panels\n",
      "Operator: EMP478 --> 1 panels\n",
      "Operator: EMP450 --> 1 panels\n",
      "Operator: EMP429 --> 1 panels\n",
      "Operator: EMP304 --> 1 panels\n",
      "Operator: EMP875 --> 2 panels\n",
      "Operator: EMP765 --> 1 panels\n",
      "Operator: EMP264 --> 2 panels\n",
      "Operator: EMP367 --> 1 panels\n",
      "Operator: EMP372 --> 2 panels\n",
      "Operator: EMP589 --> 1 panels\n",
      "Operator: EMP425 --> 1 panels\n",
      "Operator: EMP233 --> 1 panels\n",
      "Operator: EMP679 --> 1 panels\n",
      "Operator: EMP811 --> 1 panels\n",
      "Operator: EMP710 --> 2 panels\n",
      "Operator: EMP428 --> 1 panels\n",
      "Operator: EMP671 --> 1 panels\n",
      "Operator: EMP613 --> 1 panels\n",
      "Operator: EMP826 --> 1 panels\n",
      "Operator: EMP524 --> 1 panels\n",
      "Operator: EMP549 --> 1 panels\n",
      "Operator: EMP297 --> 1 panels\n",
      "Operator: EMP744 --> 1 panels\n",
      "Operator: EMP128 --> 2 panels\n",
      "Operator: EMP734 --> 2 panels\n",
      "Operator: EMP270 --> 1 panels\n",
      "Operator: EMP747 --> 1 panels\n",
      "Operator: EMP141 --> 1 panels\n",
      "Operator: EMP939 --> 1 panels\n",
      "Operator: EMP228 --> 1 panels\n",
      "Operator: EMP616 --> 2 panels\n",
      "Operator: EMP652 --> 1 panels\n",
      "Operator: EMP555 --> 1 panels\n",
      "Operator: EMP284 --> 2 panels\n",
      "Operator: EMP745 --> 1 panels\n",
      "Operator: EMP780 --> 1 panels\n",
      "Operator: EMP799 --> 1 panels\n",
      "Operator: EMP704 --> 1 panels\n",
      "Operator: EMP384 --> 1 panels\n",
      "Operator: EMP626 --> 1 panels\n",
      "Operator: EMP916 --> 1 panels\n",
      "Operator: EMP505 --> 1 panels\n",
      "Operator: EMP546 --> 1 panels\n",
      "Operator: EMP260 --> 1 panels\n",
      "Operator: EMP485 --> 1 panels\n",
      "Operator: EMP820 --> 1 panels\n",
      "Operator: EMP240 --> 1 panels\n",
      "Operator: EMP247 --> 1 panels\n",
      "Operator: EMP977 --> 1 panels\n",
      "Operator: EMP562 --> 1 panels\n",
      "Operator: EMP872 --> 1 panels\n",
      "Operator: EMP767 --> 1 panels\n",
      "Operator: EMP723 --> 1 panels\n",
      "Operator: EMP885 --> 1 panels\n",
      "Operator: EMP276 --> 1 panels\n",
      "Operator: EMP365 --> 1 panels\n",
      "Operator: EMP363 --> 3 panels\n",
      "Operator: EMP336 --> 1 panels\n",
      "Operator: EMP360 --> 1 panels\n",
      "Operator: EMP495 --> 1 panels\n",
      "Operator: EMP517 --> 1 panels\n",
      "Operator: EMP243 --> 1 panels\n",
      "Operator: EMP576 --> 1 panels\n",
      "Operator: EMP742 --> 1 panels\n",
      "Operator: EMP803 --> 1 panels\n",
      "Operator: EMP217 --> 2 panels\n",
      "Operator: EMP434 --> 1 panels\n",
      "Operator: EMP778 --> 1 panels\n",
      "Operator: EMP515 --> 2 panels\n",
      "Operator: EMP815 --> 1 panels\n",
      "Operator: EMP869 --> 1 panels\n",
      "Operator: EMP283 --> 1 panels\n",
      "Operator: EMP732 --> 1 panels\n",
      "Operator: EMP370 --> 1 panels\n",
      "Operator: EMP577 --> 1 panels\n",
      "Operator: EMP531 --> 1 panels\n",
      "Operator: EMP681 --> 1 panels\n",
      "Operator: EMP570 --> 1 panels\n",
      "Operator: EMP771 --> 1 panels\n",
      "Operator: EMP804 --> 1 panels\n",
      "Operator: EMP706 --> 2 panels\n",
      "Operator: EMP957 --> 1 panels\n",
      "Operator: EMP139 --> 1 panels\n",
      "Operator: EMP298 --> 1 panels\n",
      "Operator: EMP906 --> 1 panels\n",
      "Operator: EMP109 --> 1 panels\n",
      "Operator: EMP852 --> 1 panels\n",
      "Operator: EMP473 --> 1 panels\n",
      "Operator: EMP156 --> 1 panels\n",
      "Operator: EMP687 --> 1 panels\n",
      "Operator: EMP691 --> 1 panels\n",
      "Operator: EMP675 --> 1 panels\n",
      "Operator: EMP622 --> 1 panels\n",
      "Operator: EMP807 --> 1 panels\n",
      "Operator: EMP603 --> 1 panels\n",
      "Operator: EMP329 --> 1 panels\n",
      "Operator: EMP717 --> 1 panels\n",
      "Operator: EMP911 --> 1 panels\n",
      "Operator: EMP127 --> 1 panels\n",
      "Operator: EMP381 --> 1 panels\n",
      "Operator: EMP201 --> 1 panels\n",
      "Operator: EMP789 --> 1 panels\n",
      "Operator: EMP456 --> 1 panels\n",
      "Operator: EMP910 --> 1 panels\n"
     ]
    }
   ],
   "execution_count": 190
  },
  {
   "metadata": {},
   "cell_type": "markdown",
   "source": [
    "###  3.2: Average Efficiency Per Panel Type\n",
    "Goal: Group by 'Panel Type' and calculate average 'Efficiency (%)'."
   ],
   "id": "a6cf3f02d6135caa"
  },
  {
   "metadata": {
    "ExecuteTime": {
     "end_time": "2025-05-20T18:39:47.429388Z",
     "start_time": "2025-05-20T18:39:47.427018Z"
    }
   },
   "cell_type": "code",
   "source": "efficiencies = defaultdict(list)",
   "id": "47541899d32a8906",
   "outputs": [],
   "execution_count": 191
  },
  {
   "metadata": {
    "ExecuteTime": {
     "end_time": "2025-05-20T18:41:04.359015Z",
     "start_time": "2025-05-20T18:41:04.355162Z"
    }
   },
   "cell_type": "code",
   "source": [
    "with open('solar_panel_assembly_dataset.csv', newline='') as csvfile:\n",
    "    reader = csv.DictReader(csvfile)\n",
    "    for row in reader:\n",
    "        panel_type = row['Panel Type']\n",
    "        efficiency = float(row['Efficiency (%)'])\n",
    "        efficiencies[panel_type].append(efficiency)"
   ],
   "id": "ac00c2bf7401a3fe",
   "outputs": [],
   "execution_count": 192
  },
  {
   "metadata": {
    "ExecuteTime": {
     "end_time": "2025-05-20T18:42:02.960008Z",
     "start_time": "2025-05-20T18:42:02.957328Z"
    }
   },
   "cell_type": "code",
   "source": [
    "average_efficiency = {\n",
    "    ptype: round(sum(vals)/len(vals), 2)\n",
    "    for ptype, vals in efficiencies.items()\n",
    "}"
   ],
   "id": "f7bce55fe526f95a",
   "outputs": [],
   "execution_count": 193
  },
  {
   "metadata": {
    "ExecuteTime": {
     "end_time": "2025-05-20T18:42:51.318698Z",
     "start_time": "2025-05-20T18:42:51.315910Z"
    }
   },
   "cell_type": "code",
   "source": [
    "for ptype, avg in average_efficiency.items():\n",
    "    print(f'{ptype} --> Average Efficiency: {avg}%')"
   ],
   "id": "17258b41b36713ab",
   "outputs": [
    {
     "name": "stdout",
     "output_type": "stream",
     "text": [
      "Thin-Film --> Average Efficiency: 18.37%\n",
      "Polycrystalline --> Average Efficiency: 19.06%\n",
      "Monocrystalline --> Average Efficiency: 18.6%\n"
     ]
    }
   ],
   "execution_count": 195
  },
  {
   "metadata": {},
   "cell_type": "code",
   "outputs": [],
   "execution_count": null,
   "source": "",
   "id": "3b1a47a8506b1a44"
  }
 ],
 "metadata": {
  "kernelspec": {
   "display_name": "Python 3",
   "language": "python",
   "name": "python3"
  },
  "language_info": {
   "codemirror_mode": {
    "name": "ipython",
    "version": 2
   },
   "file_extension": ".py",
   "mimetype": "text/x-python",
   "name": "python",
   "nbconvert_exporter": "python",
   "pygments_lexer": "ipython2",
   "version": "2.7.6"
  }
 },
 "nbformat": 4,
 "nbformat_minor": 5
}
