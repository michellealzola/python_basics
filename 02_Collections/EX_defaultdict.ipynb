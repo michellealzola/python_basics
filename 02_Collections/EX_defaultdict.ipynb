{
 "cells": [
  {
   "metadata": {},
   "cell_type": "markdown",
   "source": [
    "# Part 1: Introduction to defaultdict()\n",
    "### What is defaultdict()?\n",
    "defaultdict is a subclass of Python’s built-in dict. It overrides one behavior: when accessing a missing key, instead of raising a KeyError, it creates a default value using a factory function (e.g., int, list, set)."
   ],
   "id": "2497da582a5877c5"
  },
  {
   "metadata": {
    "ExecuteTime": {
     "end_time": "2025-05-20T18:08:13.749138Z",
     "start_time": "2025-05-20T18:08:13.746844Z"
    }
   },
   "cell_type": "code",
   "source": [
    "from collections import defaultdict\n",
    "from pprint import pprint"
   ],
   "id": "230e00a9aba752e2",
   "outputs": [],
   "execution_count": 81
  },
  {
   "metadata": {
    "ExecuteTime": {
     "end_time": "2025-05-20T18:08:13.845244Z",
     "start_time": "2025-05-20T18:08:13.842433Z"
    }
   },
   "cell_type": "code",
   "source": "dd = defaultdict(list)",
   "id": "cd92ede7c89f37e4",
   "outputs": [],
   "execution_count": 82
  },
  {
   "metadata": {
    "ExecuteTime": {
     "end_time": "2025-05-20T18:08:13.850464Z",
     "start_time": "2025-05-20T18:08:13.846769Z"
    }
   },
   "cell_type": "code",
   "source": "dd['a'].append(1)",
   "id": "8367be2e46620a58",
   "outputs": [],
   "execution_count": 83
  },
  {
   "metadata": {
    "ExecuteTime": {
     "end_time": "2025-05-20T18:08:13.891331Z",
     "start_time": "2025-05-20T18:08:13.887407Z"
    }
   },
   "cell_type": "code",
   "source": "dd",
   "id": "35f253c270fa2ac7",
   "outputs": [
    {
     "data": {
      "text/plain": [
       "defaultdict(list, {'a': [1]})"
      ]
     },
     "execution_count": 84,
     "metadata": {},
     "output_type": "execute_result"
    }
   ],
   "execution_count": 84
  },
  {
   "metadata": {
    "ExecuteTime": {
     "end_time": "2025-05-20T18:08:13.908632Z",
     "start_time": "2025-05-20T18:08:13.904995Z"
    }
   },
   "cell_type": "code",
   "source": "dict(dd)",
   "id": "86fd59219dd9df46",
   "outputs": [
    {
     "data": {
      "text/plain": [
       "{'a': [1]}"
      ]
     },
     "execution_count": 85,
     "metadata": {},
     "output_type": "execute_result"
    }
   ],
   "execution_count": 85
  },
  {
   "metadata": {},
   "cell_type": "markdown",
   "source": [
    "# Skill-Building Activities\n",
    "## Level 1: Basic Mechanics\n",
    "### 1.1 Using int as a default factory\n",
    "\n",
    "Skill: Automatically initializing numeric counters\n",
    "\n",
    "Challenge: Forgetting that defaultdict doesn't retroactively convert existing keys."
   ],
   "id": "e438a6c517ad9f15"
  },
  {
   "metadata": {
    "ExecuteTime": {
     "end_time": "2025-05-20T18:08:13.913172Z",
     "start_time": "2025-05-20T18:08:13.910144Z"
    }
   },
   "cell_type": "code",
   "source": [
    "word_counts = defaultdict(int)\n",
    "sentence = 'solar panel assembly is efficient solar energy source'"
   ],
   "id": "4131a8ef1c9dd88e",
   "outputs": [],
   "execution_count": 86
  },
  {
   "metadata": {
    "ExecuteTime": {
     "end_time": "2025-05-20T18:08:13.923045Z",
     "start_time": "2025-05-20T18:08:13.920194Z"
    }
   },
   "cell_type": "code",
   "source": [
    "for word in sentence.split():\n",
    "    word_counts[word] += 1"
   ],
   "id": "a4a3b2772fa95d7e",
   "outputs": [],
   "execution_count": 87
  },
  {
   "metadata": {
    "ExecuteTime": {
     "end_time": "2025-05-20T18:08:13.928070Z",
     "start_time": "2025-05-20T18:08:13.924493Z"
    }
   },
   "cell_type": "code",
   "source": "dict(word_counts)",
   "id": "b925804fceeffca3",
   "outputs": [
    {
     "data": {
      "text/plain": [
       "{'solar': 2,\n",
       " 'panel': 1,\n",
       " 'assembly': 1,\n",
       " 'is': 1,\n",
       " 'efficient': 1,\n",
       " 'energy': 1,\n",
       " 'source': 1}"
      ]
     },
     "execution_count": 88,
     "metadata": {},
     "output_type": "execute_result"
    }
   ],
   "execution_count": 88
  },
  {
   "metadata": {},
   "cell_type": "markdown",
   "source": [
    "###  1.2 Using list to group values\n",
    "Skill: Grouping items into categories\n",
    "\n",
    "Challenge: Accidentally using regular dict → KeyError."
   ],
   "id": "99781ee7588f55c7"
  },
  {
   "metadata": {
    "ExecuteTime": {
     "end_time": "2025-05-20T18:08:13.937514Z",
     "start_time": "2025-05-20T18:08:13.934749Z"
    }
   },
   "cell_type": "code",
   "source": "groups = defaultdict(list)",
   "id": "f2f1c5f69af1e7f1",
   "outputs": [],
   "execution_count": 89
  },
  {
   "metadata": {
    "ExecuteTime": {
     "end_time": "2025-05-20T18:08:13.963728Z",
     "start_time": "2025-05-20T18:08:13.960927Z"
    }
   },
   "cell_type": "code",
   "source": "data = [('Line A', 'Operator1'), ('Line B', 'Operator2'), ('Line A', 'Operator3')]",
   "id": "223307964ede75e1",
   "outputs": [],
   "execution_count": 90
  },
  {
   "metadata": {
    "ExecuteTime": {
     "end_time": "2025-05-20T18:08:13.967922Z",
     "start_time": "2025-05-20T18:08:13.965232Z"
    }
   },
   "cell_type": "code",
   "source": [
    "for line, operator in data:\n",
    "    groups[line].append(operator)"
   ],
   "id": "bcbbe1ce968d1121",
   "outputs": [],
   "execution_count": 91
  },
  {
   "metadata": {
    "ExecuteTime": {
     "end_time": "2025-05-20T18:08:13.979235Z",
     "start_time": "2025-05-20T18:08:13.975658Z"
    }
   },
   "cell_type": "code",
   "source": "groups",
   "id": "f50d47ff8392362e",
   "outputs": [
    {
     "data": {
      "text/plain": [
       "defaultdict(list,\n",
       "            {'Line A': ['Operator1', 'Operator3'], 'Line B': ['Operator2']})"
      ]
     },
     "execution_count": 92,
     "metadata": {},
     "output_type": "execute_result"
    }
   ],
   "execution_count": 92
  },
  {
   "metadata": {
    "ExecuteTime": {
     "end_time": "2025-05-20T18:08:13.984030Z",
     "start_time": "2025-05-20T18:08:13.980984Z"
    }
   },
   "cell_type": "code",
   "source": "dict(groups)",
   "id": "1438bbbdd2919cde",
   "outputs": [
    {
     "data": {
      "text/plain": [
       "{'Line A': ['Operator1', 'Operator3'], 'Line B': ['Operator2']}"
      ]
     },
     "execution_count": 93,
     "metadata": {},
     "output_type": "execute_result"
    }
   ],
   "execution_count": 93
  },
  {
   "metadata": {},
   "cell_type": "markdown",
   "source": "###  1.3 Using set to avoid duplicates",
   "id": "8aed17fc35f87578"
  },
  {
   "metadata": {
    "ExecuteTime": {
     "end_time": "2025-05-20T18:08:13.991081Z",
     "start_time": "2025-05-20T18:08:13.987920Z"
    }
   },
   "cell_type": "code",
   "source": "unique_parts = defaultdict(set)",
   "id": "96bc869ebdcfdb51",
   "outputs": [],
   "execution_count": 94
  },
  {
   "metadata": {
    "ExecuteTime": {
     "end_time": "2025-05-20T18:08:13.996338Z",
     "start_time": "2025-05-20T18:08:13.992655Z"
    }
   },
   "cell_type": "code",
   "source": "records = [('Module A', 'Frame'), ('Module A', 'Cell'), ('Module A', 'Cell')]",
   "id": "8cddd32611412e8b",
   "outputs": [],
   "execution_count": 95
  },
  {
   "metadata": {
    "ExecuteTime": {
     "end_time": "2025-05-20T18:08:14.000861Z",
     "start_time": "2025-05-20T18:08:13.997903Z"
    }
   },
   "cell_type": "code",
   "source": [
    "for module, parts in records:\n",
    "    unique_parts[module].add(parts)"
   ],
   "id": "68b91fa31bdde38c",
   "outputs": [],
   "execution_count": 96
  },
  {
   "metadata": {
    "ExecuteTime": {
     "end_time": "2025-05-20T18:08:14.026360Z",
     "start_time": "2025-05-20T18:08:14.021566Z"
    }
   },
   "cell_type": "code",
   "source": "unique_parts",
   "id": "f9e86e0c36a9c54e",
   "outputs": [
    {
     "data": {
      "text/plain": [
       "defaultdict(set, {'Module A': {'Cell', 'Frame'}})"
      ]
     },
     "execution_count": 97,
     "metadata": {},
     "output_type": "execute_result"
    }
   ],
   "execution_count": 97
  },
  {
   "metadata": {
    "ExecuteTime": {
     "end_time": "2025-05-20T18:08:14.030997Z",
     "start_time": "2025-05-20T18:08:14.027832Z"
    }
   },
   "cell_type": "code",
   "source": "dict(unique_parts)",
   "id": "e86183dc40b697d0",
   "outputs": [
    {
     "data": {
      "text/plain": [
       "{'Module A': {'Cell', 'Frame'}}"
      ]
     },
     "execution_count": 98,
     "metadata": {},
     "output_type": "execute_result"
    }
   ],
   "execution_count": 98
  },
  {
   "metadata": {},
   "cell_type": "markdown",
   "source": [
    "## Level 2: Intermediate Usage\n",
    "### 2.1 Nested defaultdict (factory returning another defaultdict)\n",
    "Skill: Multi-level grouping (e.g., Assembly Line ➜ Component ➜ Count)"
   ],
   "id": "6fc6f6bea5013baf"
  },
  {
   "metadata": {
    "ExecuteTime": {
     "end_time": "2025-05-20T18:08:14.034947Z",
     "start_time": "2025-05-20T18:08:14.032530Z"
    }
   },
   "cell_type": "code",
   "source": [
    "def nested_dict():\n",
    "    return defaultdict(int)"
   ],
   "id": "a37f10fd127237c9",
   "outputs": [],
   "execution_count": 99
  },
  {
   "metadata": {
    "ExecuteTime": {
     "end_time": "2025-05-20T18:08:14.039568Z",
     "start_time": "2025-05-20T18:08:14.036441Z"
    }
   },
   "cell_type": "code",
   "source": "inventory = defaultdict(nested_dict)",
   "id": "aea1c96cf05d288f",
   "outputs": [],
   "execution_count": 100
  },
  {
   "metadata": {
    "ExecuteTime": {
     "end_time": "2025-05-20T18:08:14.046609Z",
     "start_time": "2025-05-20T18:08:14.044070Z"
    }
   },
   "cell_type": "code",
   "source": [
    "inventory['Line A']['Frame'] += 10\n",
    "inventory['Line A']['Cell'] += 5\n",
    "inventory['Line B']['Glass'] += 3"
   ],
   "id": "49207f5a9b6b0db5",
   "outputs": [],
   "execution_count": 101
  },
  {
   "metadata": {
    "ExecuteTime": {
     "end_time": "2025-05-20T18:08:14.071750Z",
     "start_time": "2025-05-20T18:08:14.068153Z"
    }
   },
   "cell_type": "code",
   "source": "inventory",
   "id": "36c898aa36365e25",
   "outputs": [
    {
     "data": {
      "text/plain": [
       "defaultdict(<function __main__.nested_dict()>,\n",
       "            {'Line A': defaultdict(int, {'Frame': 10, 'Cell': 5}),\n",
       "             'Line B': defaultdict(int, {'Glass': 3})})"
      ]
     },
     "execution_count": 102,
     "metadata": {},
     "output_type": "execute_result"
    }
   ],
   "execution_count": 102
  },
  {
   "metadata": {
    "ExecuteTime": {
     "end_time": "2025-05-20T18:08:14.077712Z",
     "start_time": "2025-05-20T18:08:14.073777Z"
    }
   },
   "cell_type": "code",
   "source": "dict(inventory)",
   "id": "ed27a9018098d51a",
   "outputs": [
    {
     "data": {
      "text/plain": [
       "{'Line A': defaultdict(int, {'Frame': 10, 'Cell': 5}),\n",
       " 'Line B': defaultdict(int, {'Glass': 3})}"
      ]
     },
     "execution_count": 103,
     "metadata": {},
     "output_type": "execute_result"
    }
   ],
   "execution_count": 103
  },
  {
   "metadata": {
    "ExecuteTime": {
     "end_time": "2025-05-20T18:08:14.085031Z",
     "start_time": "2025-05-20T18:08:14.081934Z"
    }
   },
   "cell_type": "code",
   "source": [
    "for line, components in inventory.items():\n",
    "    for component, count in components.items():\n",
    "        print(f'{line} --> {component} : {count}')\n",
    "        "
   ],
   "id": "7c441e46e3ab0f6e",
   "outputs": [
    {
     "name": "stdout",
     "output_type": "stream",
     "text": [
      "Line A --> Frame : 10\n",
      "Line A --> Cell : 5\n",
      "Line B --> Glass : 3\n"
     ]
    }
   ],
   "execution_count": 104
  },
  {
   "metadata": {},
   "cell_type": "markdown",
   "source": "### 2.2 Aggregating numerical values by category",
   "id": "ac7a8b9a7b1f1943"
  },
  {
   "metadata": {
    "ExecuteTime": {
     "end_time": "2025-05-20T18:10:30.878850Z",
     "start_time": "2025-05-20T18:10:30.876349Z"
    }
   },
   "cell_type": "code",
   "source": [
    "assembly_times = [\n",
    "    ('Line A', 45), ('Line A', 55), ('Line B', 30), ('Line A', 40)\n",
    "]"
   ],
   "id": "bc4187ac51d9ffe8",
   "outputs": [],
   "execution_count": 105
  },
  {
   "metadata": {
    "ExecuteTime": {
     "end_time": "2025-05-20T18:10:40.709728Z",
     "start_time": "2025-05-20T18:10:40.707043Z"
    }
   },
   "cell_type": "code",
   "source": "totals = defaultdict(int)",
   "id": "634bc6135a732743",
   "outputs": [],
   "execution_count": 106
  },
  {
   "metadata": {
    "ExecuteTime": {
     "end_time": "2025-05-20T18:10:45.334216Z",
     "start_time": "2025-05-20T18:10:45.332022Z"
    }
   },
   "cell_type": "code",
   "source": "counts = defaultdict(int)",
   "id": "16d37e99c43286b9",
   "outputs": [],
   "execution_count": 107
  },
  {
   "metadata": {
    "ExecuteTime": {
     "end_time": "2025-05-20T18:11:13.366724Z",
     "start_time": "2025-05-20T18:11:13.363986Z"
    }
   },
   "cell_type": "code",
   "source": [
    "for line, time in assembly_times:\n",
    "    totals[line] += time\n",
    "    counts[line] += 1"
   ],
   "id": "4cee096f0ddf367",
   "outputs": [],
   "execution_count": 108
  },
  {
   "metadata": {
    "ExecuteTime": {
     "end_time": "2025-05-20T18:12:46.143193Z",
     "start_time": "2025-05-20T18:12:46.140379Z"
    }
   },
   "cell_type": "code",
   "source": "averages = {line: round(totals[line] / counts[line], 2) for line in totals}",
   "id": "6c2f56b3a11bcb21",
   "outputs": [],
   "execution_count": 111
  },
  {
   "metadata": {
    "ExecuteTime": {
     "end_time": "2025-05-20T18:12:47.337765Z",
     "start_time": "2025-05-20T18:12:47.333819Z"
    }
   },
   "cell_type": "code",
   "source": "averages",
   "id": "4aed322fd9f77184",
   "outputs": [
    {
     "data": {
      "text/plain": [
       "{'Line A': 46.67, 'Line B': 30.0}"
      ]
     },
     "execution_count": 112,
     "metadata": {},
     "output_type": "execute_result"
    }
   ],
   "execution_count": 112
  },
  {
   "metadata": {},
   "cell_type": "code",
   "outputs": [],
   "execution_count": null,
   "source": "",
   "id": "ffac58178d778ba"
  }
 ],
 "metadata": {
  "kernelspec": {
   "display_name": "Python 3",
   "language": "python",
   "name": "python3"
  },
  "language_info": {
   "codemirror_mode": {
    "name": "ipython",
    "version": 2
   },
   "file_extension": ".py",
   "mimetype": "text/x-python",
   "name": "python",
   "nbconvert_exporter": "python",
   "pygments_lexer": "ipython2",
   "version": "2.7.6"
  }
 },
 "nbformat": 4,
 "nbformat_minor": 5
}
