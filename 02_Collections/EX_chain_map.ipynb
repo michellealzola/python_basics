{
 "cells": [
  {
   "metadata": {},
   "cell_type": "markdown",
   "source": [
    "#  What is ChainMap?\n",
    "`ChainMap` is a class in the `collections` module that groups multiple dictionaries (or mappings) into a single, updateable view. It searches through these mappings in order and stops at the first match."
   ],
   "id": "77e48a7ec1b5cf1a"
  },
  {
   "metadata": {
    "ExecuteTime": {
     "end_time": "2025-05-22T00:35:22.479379Z",
     "start_time": "2025-05-22T00:35:22.476450Z"
    }
   },
   "cell_type": "code",
   "source": "from collections import ChainMap",
   "id": "4697f2c0a669b927",
   "outputs": [],
   "execution_count": 1
  },
  {
   "metadata": {
    "ExecuteTime": {
     "end_time": "2025-05-22T00:35:53.804465Z",
     "start_time": "2025-05-22T00:35:53.801786Z"
    }
   },
   "cell_type": "code",
   "source": [
    "dict1 = {'voltage': 12}\n",
    "dict2 = {'current': 1.5}"
   ],
   "id": "76a9da09549ca3f7",
   "outputs": [],
   "execution_count": 2
  },
  {
   "metadata": {
    "ExecuteTime": {
     "end_time": "2025-05-22T00:35:58.537903Z",
     "start_time": "2025-05-22T00:35:58.535438Z"
    }
   },
   "cell_type": "code",
   "source": "cm = ChainMap(dict1, dict2)",
   "id": "8850a846dd2b381f",
   "outputs": [],
   "execution_count": 3
  },
  {
   "metadata": {
    "ExecuteTime": {
     "end_time": "2025-05-22T00:36:16.639564Z",
     "start_time": "2025-05-22T00:36:16.635267Z"
    }
   },
   "cell_type": "code",
   "source": "cm['voltage']",
   "id": "8be5c4484cdaf211",
   "outputs": [
    {
     "data": {
      "text/plain": [
       "12"
      ]
     },
     "execution_count": 4,
     "metadata": {},
     "output_type": "execute_result"
    }
   ],
   "execution_count": 4
  },
  {
   "metadata": {
    "ExecuteTime": {
     "end_time": "2025-05-22T00:36:25.691788Z",
     "start_time": "2025-05-22T00:36:25.688597Z"
    }
   },
   "cell_type": "code",
   "source": "cm['current']",
   "id": "a37f4d9c4a3e0207",
   "outputs": [
    {
     "data": {
      "text/plain": [
       "1.5"
      ]
     },
     "execution_count": 5,
     "metadata": {},
     "output_type": "execute_result"
    }
   ],
   "execution_count": 5
  },
  {
   "metadata": {},
   "cell_type": "code",
   "outputs": [],
   "execution_count": null,
   "source": "",
   "id": "85fb4bab0f888f54"
  }
 ],
 "metadata": {
  "kernelspec": {
   "display_name": "Python 3",
   "language": "python",
   "name": "python3"
  },
  "language_info": {
   "codemirror_mode": {
    "name": "ipython",
    "version": 2
   },
   "file_extension": ".py",
   "mimetype": "text/x-python",
   "name": "python",
   "nbconvert_exporter": "python",
   "pygments_lexer": "ipython2",
   "version": "2.7.6"
  }
 },
 "nbformat": 4,
 "nbformat_minor": 5
}
