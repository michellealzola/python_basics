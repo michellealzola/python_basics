{
 "cells": [
  {
   "metadata": {},
   "cell_type": "markdown",
   "source": [
    "#  What is ChainMap?\n",
    "`ChainMap` is a class in the `collections` module that groups multiple dictionaries (or mappings) into a single, updateable view. It searches through these mappings in order and stops at the first match."
   ],
   "id": "77e48a7ec1b5cf1a"
  },
  {
   "metadata": {
    "ExecuteTime": {
     "end_time": "2025-05-22T00:35:22.479379Z",
     "start_time": "2025-05-22T00:35:22.476450Z"
    }
   },
   "cell_type": "code",
   "source": "from collections import ChainMap",
   "id": "4697f2c0a669b927",
   "outputs": [],
   "execution_count": 1
  },
  {
   "metadata": {
    "ExecuteTime": {
     "end_time": "2025-05-22T00:35:53.804465Z",
     "start_time": "2025-05-22T00:35:53.801786Z"
    }
   },
   "cell_type": "code",
   "source": [
    "dict1 = {'voltage': 12}\n",
    "dict2 = {'current': 1.5}"
   ],
   "id": "76a9da09549ca3f7",
   "outputs": [],
   "execution_count": 2
  },
  {
   "metadata": {
    "ExecuteTime": {
     "end_time": "2025-05-22T00:35:58.537903Z",
     "start_time": "2025-05-22T00:35:58.535438Z"
    }
   },
   "cell_type": "code",
   "source": "cm = ChainMap(dict1, dict2)",
   "id": "8850a846dd2b381f",
   "outputs": [],
   "execution_count": 3
  },
  {
   "metadata": {
    "ExecuteTime": {
     "end_time": "2025-05-22T00:36:16.639564Z",
     "start_time": "2025-05-22T00:36:16.635267Z"
    }
   },
   "cell_type": "code",
   "source": "cm['voltage']",
   "id": "8be5c4484cdaf211",
   "outputs": [
    {
     "data": {
      "text/plain": [
       "12"
      ]
     },
     "execution_count": 4,
     "metadata": {},
     "output_type": "execute_result"
    }
   ],
   "execution_count": 4
  },
  {
   "metadata": {
    "ExecuteTime": {
     "end_time": "2025-05-22T00:36:25.691788Z",
     "start_time": "2025-05-22T00:36:25.688597Z"
    }
   },
   "cell_type": "code",
   "source": "cm['current']",
   "id": "a37f4d9c4a3e0207",
   "outputs": [
    {
     "data": {
      "text/plain": [
       "1.5"
      ]
     },
     "execution_count": 5,
     "metadata": {},
     "output_type": "execute_result"
    }
   ],
   "execution_count": 5
  },
  {
   "metadata": {},
   "cell_type": "markdown",
   "source": [
    "## Level 1: Basic Usage\n",
    "#### Skills:\n",
    "- Create a ChainMap\n",
    "- Access and iterate over keys/values\n",
    "- Understand mapping order\n",
    "\n",
    "### Activities:\n",
    "1.1 Create a ChainMap from 2 configuration dictionaries:"
   ],
   "id": "9525b0dc39f709d4"
  },
  {
   "metadata": {
    "ExecuteTime": {
     "end_time": "2025-05-22T00:40:02.569781Z",
     "start_time": "2025-05-22T00:40:02.567212Z"
    }
   },
   "cell_type": "code",
   "source": [
    "defaults = {\n",
    "    'voltage': 12,\n",
    "    'current': 1.5\n",
    "}"
   ],
   "id": "67cbf2216e4968c",
   "outputs": [],
   "execution_count": 6
  },
  {
   "metadata": {
    "ExecuteTime": {
     "end_time": "2025-05-22T00:40:28.909786Z",
     "start_time": "2025-05-22T00:40:28.907441Z"
    }
   },
   "cell_type": "code",
   "source": [
    "user_config = {\n",
    "    'current': 2.0\n",
    "}"
   ],
   "id": "a38cbff2e11fe54a",
   "outputs": [],
   "execution_count": 7
  },
  {
   "metadata": {
    "ExecuteTime": {
     "end_time": "2025-05-22T00:40:47.102913Z",
     "start_time": "2025-05-22T00:40:47.100206Z"
    }
   },
   "cell_type": "code",
   "source": "combined = ChainMap(user_config, defaults)",
   "id": "778024c07e66cdbb",
   "outputs": [],
   "execution_count": 8
  },
  {
   "metadata": {
    "ExecuteTime": {
     "end_time": "2025-05-22T00:40:57.871804Z",
     "start_time": "2025-05-22T00:40:57.869118Z"
    }
   },
   "cell_type": "code",
   "source": "combined['voltage']",
   "id": "403fc7d6e1e60e1c",
   "outputs": [
    {
     "data": {
      "text/plain": [
       "12"
      ]
     },
     "execution_count": 9,
     "metadata": {},
     "output_type": "execute_result"
    }
   ],
   "execution_count": 9
  },
  {
   "metadata": {
    "ExecuteTime": {
     "end_time": "2025-05-22T00:41:01.530071Z",
     "start_time": "2025-05-22T00:41:01.526921Z"
    }
   },
   "cell_type": "code",
   "source": "combined['current']",
   "id": "3e1cca145205701",
   "outputs": [
    {
     "data": {
      "text/plain": [
       "2.0"
      ]
     },
     "execution_count": 10,
     "metadata": {},
     "output_type": "execute_result"
    }
   ],
   "execution_count": 10
  },
  {
   "metadata": {},
   "cell_type": "code",
   "outputs": [],
   "execution_count": null,
   "source": "",
   "id": "848fc0893dfc0964"
  }
 ],
 "metadata": {
  "kernelspec": {
   "display_name": "Python 3",
   "language": "python",
   "name": "python3"
  },
  "language_info": {
   "codemirror_mode": {
    "name": "ipython",
    "version": 2
   },
   "file_extension": ".py",
   "mimetype": "text/x-python",
   "name": "python",
   "nbconvert_exporter": "python",
   "pygments_lexer": "ipython2",
   "version": "2.7.6"
  }
 },
 "nbformat": 4,
 "nbformat_minor": 5
}
