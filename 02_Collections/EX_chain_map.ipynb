{
 "cells": [
  {
   "metadata": {},
   "cell_type": "markdown",
   "source": [
    "#  What is ChainMap?\n",
    "`ChainMap` is a class in the `collections` module that groups multiple dictionaries (or mappings) into a single, updateable view. It searches through these mappings in order and stops at the first match."
   ],
   "id": "77e48a7ec1b5cf1a"
  },
  {
   "metadata": {
    "ExecuteTime": {
     "end_time": "2025-05-22T01:07:17.528046Z",
     "start_time": "2025-05-22T01:07:17.525414Z"
    }
   },
   "cell_type": "code",
   "source": "from collections import ChainMap",
   "id": "4697f2c0a669b927",
   "outputs": [],
   "execution_count": 105
  },
  {
   "metadata": {
    "ExecuteTime": {
     "end_time": "2025-05-22T01:07:17.604971Z",
     "start_time": "2025-05-22T01:07:17.602700Z"
    }
   },
   "cell_type": "code",
   "source": [
    "dict1 = {'voltage': 12}\n",
    "dict2 = {'current': 1.5}"
   ],
   "id": "76a9da09549ca3f7",
   "outputs": [],
   "execution_count": 106
  },
  {
   "metadata": {
    "ExecuteTime": {
     "end_time": "2025-05-22T01:07:17.618499Z",
     "start_time": "2025-05-22T01:07:17.616264Z"
    }
   },
   "cell_type": "code",
   "source": "cm = ChainMap(dict1, dict2)",
   "id": "8850a846dd2b381f",
   "outputs": [],
   "execution_count": 107
  },
  {
   "metadata": {
    "ExecuteTime": {
     "end_time": "2025-05-22T01:07:17.622478Z",
     "start_time": "2025-05-22T01:07:17.619798Z"
    }
   },
   "cell_type": "code",
   "source": "cm['voltage']",
   "id": "8be5c4484cdaf211",
   "outputs": [
    {
     "data": {
      "text/plain": [
       "12"
      ]
     },
     "execution_count": 108,
     "metadata": {},
     "output_type": "execute_result"
    }
   ],
   "execution_count": 108
  },
  {
   "metadata": {
    "ExecuteTime": {
     "end_time": "2025-05-22T01:07:17.638747Z",
     "start_time": "2025-05-22T01:07:17.635279Z"
    }
   },
   "cell_type": "code",
   "source": "cm['current']",
   "id": "a37f4d9c4a3e0207",
   "outputs": [
    {
     "data": {
      "text/plain": [
       "1.5"
      ]
     },
     "execution_count": 109,
     "metadata": {},
     "output_type": "execute_result"
    }
   ],
   "execution_count": 109
  },
  {
   "metadata": {},
   "cell_type": "markdown",
   "source": [
    "## Level 1: Basic Usage\n",
    "#### Skills:\n",
    "- Create a ChainMap\n",
    "- Access and iterate over keys/values\n",
    "- Understand mapping order\n",
    "\n",
    "### Activities:\n",
    "1.1 Create a ChainMap from 2 configuration dictionaries:"
   ],
   "id": "9525b0dc39f709d4"
  },
  {
   "metadata": {
    "ExecuteTime": {
     "end_time": "2025-05-22T01:07:17.667044Z",
     "start_time": "2025-05-22T01:07:17.664924Z"
    }
   },
   "cell_type": "code",
   "source": [
    "defaults = {\n",
    "    'voltage': 12,\n",
    "    'current': 1.5\n",
    "}"
   ],
   "id": "67cbf2216e4968c",
   "outputs": [],
   "execution_count": 110
  },
  {
   "metadata": {
    "ExecuteTime": {
     "end_time": "2025-05-22T01:07:17.682198Z",
     "start_time": "2025-05-22T01:07:17.680014Z"
    }
   },
   "cell_type": "code",
   "source": [
    "user_config = {\n",
    "    'current': 2.0\n",
    "}"
   ],
   "id": "a38cbff2e11fe54a",
   "outputs": [],
   "execution_count": 111
  },
  {
   "metadata": {
    "ExecuteTime": {
     "end_time": "2025-05-22T01:07:17.699202Z",
     "start_time": "2025-05-22T01:07:17.696727Z"
    }
   },
   "cell_type": "code",
   "source": "combined = ChainMap(user_config, defaults)",
   "id": "778024c07e66cdbb",
   "outputs": [],
   "execution_count": 112
  },
  {
   "metadata": {
    "ExecuteTime": {
     "end_time": "2025-05-22T01:07:17.715517Z",
     "start_time": "2025-05-22T01:07:17.712074Z"
    }
   },
   "cell_type": "code",
   "source": "combined['voltage']",
   "id": "403fc7d6e1e60e1c",
   "outputs": [
    {
     "data": {
      "text/plain": [
       "12"
      ]
     },
     "execution_count": 113,
     "metadata": {},
     "output_type": "execute_result"
    }
   ],
   "execution_count": 113
  },
  {
   "metadata": {
    "ExecuteTime": {
     "end_time": "2025-05-22T01:07:17.727672Z",
     "start_time": "2025-05-22T01:07:17.724540Z"
    }
   },
   "cell_type": "code",
   "source": "combined['current']",
   "id": "3e1cca145205701",
   "outputs": [
    {
     "data": {
      "text/plain": [
       "2.0"
      ]
     },
     "execution_count": 114,
     "metadata": {},
     "output_type": "execute_result"
    }
   ],
   "execution_count": 114
  },
  {
   "metadata": {},
   "cell_type": "markdown",
   "source": "1.2 Iterate over ChainMap:",
   "id": "d5644e5beb3f05b1"
  },
  {
   "metadata": {
    "ExecuteTime": {
     "end_time": "2025-05-22T01:07:17.731813Z",
     "start_time": "2025-05-22T01:07:17.729100Z"
    }
   },
   "cell_type": "code",
   "source": [
    "for k, v in combined.items():\n",
    "    print(f'{k}: {v}')"
   ],
   "id": "ca7169865c473dd8",
   "outputs": [
    {
     "name": "stdout",
     "output_type": "stream",
     "text": [
      "voltage: 12\n",
      "current: 2.0\n"
     ]
    }
   ],
   "execution_count": 115
  },
  {
   "metadata": {},
   "cell_type": "markdown",
   "source": [
    "### Challenge 1.3:\n",
    "Create two dictionaries: process_defaults and operator_overrides, then combine them with ChainMap. Print all key-value pairs in the effective config."
   ],
   "id": "f2d66cc1f34fffc7"
  },
  {
   "metadata": {
    "ExecuteTime": {
     "end_time": "2025-05-22T01:07:17.743102Z",
     "start_time": "2025-05-22T01:07:17.740652Z"
    }
   },
   "cell_type": "code",
   "source": [
    "process_defaults = {\n",
    "    'Efficiency': 0.5,\n",
    "    'Visual Inspection': 'Crack',\n",
    "    'Operator ID': 'EMP193'\n",
    "}\n"
   ],
   "id": "6b71c43a326640e9",
   "outputs": [],
   "execution_count": 116
  },
  {
   "metadata": {
    "ExecuteTime": {
     "end_time": "2025-05-22T01:07:17.767107Z",
     "start_time": "2025-05-22T01:07:17.764273Z"
    }
   },
   "cell_type": "code",
   "source": [
    "operator_overrides = {\n",
    "    'Visual Inspection': 'Scratch',\n",
    "    'Operator ID': 'EMP885'\n",
    "}"
   ],
   "id": "5aeaab1c78a6d1cf",
   "outputs": [],
   "execution_count": 117
  },
  {
   "metadata": {
    "ExecuteTime": {
     "end_time": "2025-05-22T01:07:17.788578Z",
     "start_time": "2025-05-22T01:07:17.786184Z"
    }
   },
   "cell_type": "code",
   "source": "combined_1 = ChainMap(process_defaults, operator_overrides)",
   "id": "8f444db3612df009",
   "outputs": [],
   "execution_count": 118
  },
  {
   "metadata": {
    "ExecuteTime": {
     "end_time": "2025-05-22T01:07:17.802682Z",
     "start_time": "2025-05-22T01:07:17.799663Z"
    }
   },
   "cell_type": "code",
   "source": "combined_1['Efficiency']",
   "id": "460aead2cb92a3a5",
   "outputs": [
    {
     "data": {
      "text/plain": [
       "0.5"
      ]
     },
     "execution_count": 119,
     "metadata": {},
     "output_type": "execute_result"
    }
   ],
   "execution_count": 119
  },
  {
   "metadata": {
    "ExecuteTime": {
     "end_time": "2025-05-22T01:07:17.812727Z",
     "start_time": "2025-05-22T01:07:17.809470Z"
    }
   },
   "cell_type": "code",
   "source": "combined_1['Visual Inspection']",
   "id": "e4a7947175e181df",
   "outputs": [
    {
     "data": {
      "text/plain": [
       "'Crack'"
      ]
     },
     "execution_count": 120,
     "metadata": {},
     "output_type": "execute_result"
    }
   ],
   "execution_count": 120
  },
  {
   "metadata": {
    "ExecuteTime": {
     "end_time": "2025-05-22T01:07:17.826277Z",
     "start_time": "2025-05-22T01:07:17.822994Z"
    }
   },
   "cell_type": "code",
   "source": "combined_1['Operator ID']",
   "id": "27e5132fefbb39b3",
   "outputs": [
    {
     "data": {
      "text/plain": [
       "'EMP193'"
      ]
     },
     "execution_count": 121,
     "metadata": {},
     "output_type": "execute_result"
    }
   ],
   "execution_count": 121
  },
  {
   "metadata": {
    "ExecuteTime": {
     "end_time": "2025-05-22T01:07:17.839286Z",
     "start_time": "2025-05-22T01:07:17.836761Z"
    }
   },
   "cell_type": "code",
   "source": "combined_2 = ChainMap(operator_overrides, process_defaults)",
   "id": "b3266365abe6b261",
   "outputs": [],
   "execution_count": 122
  },
  {
   "metadata": {
    "ExecuteTime": {
     "end_time": "2025-05-22T01:07:17.851308Z",
     "start_time": "2025-05-22T01:07:17.847531Z"
    }
   },
   "cell_type": "code",
   "source": "combined_2['Efficiency']",
   "id": "aecd1bbec2a33023",
   "outputs": [
    {
     "data": {
      "text/plain": [
       "0.5"
      ]
     },
     "execution_count": 123,
     "metadata": {},
     "output_type": "execute_result"
    }
   ],
   "execution_count": 123
  },
  {
   "metadata": {
    "ExecuteTime": {
     "end_time": "2025-05-22T01:07:17.855337Z",
     "start_time": "2025-05-22T01:07:17.852465Z"
    }
   },
   "cell_type": "code",
   "source": "combined_2['Visual Inspection']",
   "id": "65c2391f1f209ff8",
   "outputs": [
    {
     "data": {
      "text/plain": [
       "'Scratch'"
      ]
     },
     "execution_count": 124,
     "metadata": {},
     "output_type": "execute_result"
    }
   ],
   "execution_count": 124
  },
  {
   "metadata": {
    "ExecuteTime": {
     "end_time": "2025-05-22T01:07:17.879275Z",
     "start_time": "2025-05-22T01:07:17.876094Z"
    }
   },
   "cell_type": "code",
   "source": "combined_2['Operator ID']",
   "id": "f7492df7937201ee",
   "outputs": [
    {
     "data": {
      "text/plain": [
       "'EMP885'"
      ]
     },
     "execution_count": 125,
     "metadata": {},
     "output_type": "execute_result"
    }
   ],
   "execution_count": 125
  },
  {
   "metadata": {},
   "cell_type": "markdown",
   "source": [
    "## Level 2: Intermediate Concepts\n",
    "#### Skills:\n",
    "- Understand update behavior\n",
    "- Add new mappings (new_child)\n",
    "- Work with nested overrides\n",
    "### Activities:\n",
    "2.1 Update behavior:"
   ],
   "id": "4d25d3d8873fe591"
  },
  {
   "metadata": {
    "ExecuteTime": {
     "end_time": "2025-05-22T01:07:17.899318Z",
     "start_time": "2025-05-22T01:07:17.896954Z"
    }
   },
   "cell_type": "code",
   "source": "combined['voltage'] = 14",
   "id": "4310e73dfa6c4357",
   "outputs": [],
   "execution_count": 126
  },
  {
   "metadata": {
    "ExecuteTime": {
     "end_time": "2025-05-22T01:07:17.904195Z",
     "start_time": "2025-05-22T01:07:17.901366Z"
    }
   },
   "cell_type": "code",
   "source": "user_config",
   "id": "ebd87b85986c810f",
   "outputs": [
    {
     "data": {
      "text/plain": [
       "{'current': 2.0, 'voltage': 14}"
      ]
     },
     "execution_count": 127,
     "metadata": {},
     "output_type": "execute_result"
    }
   ],
   "execution_count": 127
  },
  {
   "metadata": {},
   "cell_type": "markdown",
   "source": "2.2 Add temporary overrides:",
   "id": "f2c953d50b807bee"
  },
  {
   "metadata": {
    "ExecuteTime": {
     "end_time": "2025-05-22T01:07:17.932678Z",
     "start_time": "2025-05-22T01:07:17.929758Z"
    }
   },
   "cell_type": "code",
   "source": "temp = combined.new_child({'voltage': 18})",
   "id": "55306de1e5563452",
   "outputs": [],
   "execution_count": 128
  },
  {
   "metadata": {
    "ExecuteTime": {
     "end_time": "2025-05-22T01:07:17.947737Z",
     "start_time": "2025-05-22T01:07:17.944252Z"
    }
   },
   "cell_type": "code",
   "source": "temp['voltage']",
   "id": "9c5e816217a46f8b",
   "outputs": [
    {
     "data": {
      "text/plain": [
       "18"
      ]
     },
     "execution_count": 129,
     "metadata": {},
     "output_type": "execute_result"
    }
   ],
   "execution_count": 129
  },
  {
   "metadata": {},
   "cell_type": "markdown",
   "source": [
    "### Challenge 2.3:\n",
    "Use .new_child() to simulate a temporary change in panel parameters (e.g., during QA testing) and revert back."
   ],
   "id": "40f872f3f819ee5c"
  },
  {
   "metadata": {},
   "cell_type": "markdown",
   "source": [
    "### What .new_child() Does\n",
    "```\n",
    "ChainMap(...).new_child()\n",
    "```\n",
    "- Creates a new ChainMap with a new dictionary inserted at the front of the chain.\n",
    "- It simulates a temporary override (like QA adjustments or test parameters).\n",
    "- The original mappings remain unchanged and can be restored easily."
   ],
   "id": "c5992aecf84e59ad"
  },
  {
   "metadata": {
    "ExecuteTime": {
     "end_time": "2025-05-22T01:07:17.959131Z",
     "start_time": "2025-05-22T01:07:17.957064Z"
    }
   },
   "cell_type": "code",
   "source": "combined_ = ChainMap(operator_overrides, process_defaults)",
   "id": "c1f64c86a5a9c911",
   "outputs": [],
   "execution_count": 130
  },
  {
   "metadata": {
    "ExecuteTime": {
     "end_time": "2025-05-22T01:07:17.963510Z",
     "start_time": "2025-05-22T01:07:17.961333Z"
    }
   },
   "cell_type": "code",
   "source": [
    "qa_override = {\n",
    "    'Efficiency': 0.8,\n",
    "    'Visual Inspection': 'Pass',\n",
    "}"
   ],
   "id": "d350c49cf2acc547",
   "outputs": [],
   "execution_count": 131
  },
  {
   "metadata": {
    "ExecuteTime": {
     "end_time": "2025-05-22T01:08:03.197038Z",
     "start_time": "2025-05-22T01:08:03.194739Z"
    }
   },
   "cell_type": "code",
   "source": "qa_combined = combined_.new_child(qa_override)",
   "id": "cf54c650878d1d62",
   "outputs": [],
   "execution_count": 136
  },
  {
   "metadata": {
    "ExecuteTime": {
     "end_time": "2025-05-22T01:08:03.656061Z",
     "start_time": "2025-05-22T01:08:03.651794Z"
    }
   },
   "cell_type": "code",
   "source": "qa_combined['Efficiency'] # overridden temporarily",
   "id": "b4561c0ea345eac6",
   "outputs": [
    {
     "data": {
      "text/plain": [
       "0.8"
      ]
     },
     "execution_count": 137,
     "metadata": {},
     "output_type": "execute_result"
    }
   ],
   "execution_count": 137
  },
  {
   "metadata": {
    "ExecuteTime": {
     "end_time": "2025-05-22T01:08:04.113073Z",
     "start_time": "2025-05-22T01:08:04.108680Z"
    }
   },
   "cell_type": "code",
   "source": "qa_combined['Visual Inspection']",
   "id": "a22d66f39e389320",
   "outputs": [
    {
     "data": {
      "text/plain": [
       "'Pass'"
      ]
     },
     "execution_count": 138,
     "metadata": {},
     "output_type": "execute_result"
    }
   ],
   "execution_count": 138
  },
  {
   "metadata": {
    "ExecuteTime": {
     "end_time": "2025-05-22T01:08:04.508454Z",
     "start_time": "2025-05-22T01:08:04.505014Z"
    }
   },
   "cell_type": "code",
   "source": "qa_combined['Operator ID']",
   "id": "660f652eceb6658a",
   "outputs": [
    {
     "data": {
      "text/plain": [
       "'EMP885'"
      ]
     },
     "execution_count": 139,
     "metadata": {},
     "output_type": "execute_result"
    }
   ],
   "execution_count": 139
  },
  {
   "metadata": {
    "ExecuteTime": {
     "end_time": "2025-05-22T01:08:35.839385Z",
     "start_time": "2025-05-22T01:08:35.836308Z"
    }
   },
   "cell_type": "code",
   "source": "combined_['Efficiency']",
   "id": "7e7d8914bbcff4f5",
   "outputs": [
    {
     "data": {
      "text/plain": [
       "0.5"
      ]
     },
     "execution_count": 140,
     "metadata": {},
     "output_type": "execute_result"
    }
   ],
   "execution_count": 140
  },
  {
   "metadata": {
    "ExecuteTime": {
     "end_time": "2025-05-22T01:08:39.699878Z",
     "start_time": "2025-05-22T01:08:39.696483Z"
    }
   },
   "cell_type": "code",
   "source": "combined_['Visual Inspection']",
   "id": "b3a75d2e05788c96",
   "outputs": [
    {
     "data": {
      "text/plain": [
       "'Scratch'"
      ]
     },
     "execution_count": 141,
     "metadata": {},
     "output_type": "execute_result"
    }
   ],
   "execution_count": 141
  },
  {
   "metadata": {},
   "cell_type": "code",
   "outputs": [],
   "execution_count": null,
   "source": "",
   "id": "f04257f6e378ffaf"
  }
 ],
 "metadata": {
  "kernelspec": {
   "display_name": "Python 3",
   "language": "python",
   "name": "python3"
  },
  "language_info": {
   "codemirror_mode": {
    "name": "ipython",
    "version": 2
   },
   "file_extension": ".py",
   "mimetype": "text/x-python",
   "name": "python",
   "nbconvert_exporter": "python",
   "pygments_lexer": "ipython2",
   "version": "2.7.6"
  }
 },
 "nbformat": 4,
 "nbformat_minor": 5
}
