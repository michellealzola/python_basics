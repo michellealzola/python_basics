{
 "cells": [
  {
   "metadata": {},
   "cell_type": "markdown",
   "source": "# Python Collections Module Exercises\n",
   "id": "d64a6e89636d258"
  },
  {
   "metadata": {
    "ExecuteTime": {
     "end_time": "2025-05-15T00:37:03.654415Z",
     "start_time": "2025-05-15T00:37:03.651919Z"
    }
   },
   "cell_type": "code",
   "source": [
    "import pandas as pd\n",
    "from collections import Counter, defaultdict, deque, namedtuple, ChainMap"
   ],
   "id": "5f2dd3ba710e4c6a",
   "outputs": [],
   "execution_count": 116
  },
  {
   "metadata": {},
   "cell_type": "markdown",
   "source": [
    "**Dataset:** *Injection Mold 365-Day Inspection Log*\n",
    "\n",
    "**Objective:** Use `collections` to solve typical quality control and maintenance tracking problems in manufacturing workflows.\n"
   ],
   "id": "97e081c5511d06d0"
  },
  {
   "metadata": {
    "ExecuteTime": {
     "end_time": "2025-05-15T00:37:03.695165Z",
     "start_time": "2025-05-15T00:37:03.692535Z"
    }
   },
   "cell_type": "code",
   "source": "file_path = 'injection_mold_365day_dataset.csv'",
   "id": "946f1ee8c2850a92",
   "outputs": [],
   "execution_count": 117
  },
  {
   "metadata": {
    "ExecuteTime": {
     "end_time": "2025-05-15T00:37:03.730166Z",
     "start_time": "2025-05-15T00:37:03.723117Z"
    }
   },
   "cell_type": "code",
   "source": "df = pd.read_csv(file_path)",
   "id": "aa53727a396a26d6",
   "outputs": [],
   "execution_count": 118
  },
  {
   "metadata": {
    "ExecuteTime": {
     "end_time": "2025-05-15T00:37:03.738957Z",
     "start_time": "2025-05-15T00:37:03.731201Z"
    }
   },
   "cell_type": "code",
   "source": "df.head()",
   "id": "fb62e4b0f0778d5e",
   "outputs": [
    {
     "data": {
      "text/plain": [
       "         Date    Shift  Mold ID       Part Name  Wear Level (%)  \\\n",
       "0  2025-01-01  Shift 1  MOLD741       Guide Pin            60.8   \n",
       "1  2025-01-01  Shift 1  MOLD742      Core Plate            43.5   \n",
       "2  2025-01-01  Shift 1  MOLD560  Runner Channel            15.0   \n",
       "3  2025-01-01  Shift 2  MOLD126  Support Pillar            68.7   \n",
       "4  2025-01-01  Shift 2  MOLD727      Core Plate            53.7   \n",
       "\n",
       "   Surface Roughness (Ra μm)  Clearance (mm)  Alignment Accuracy (mm)  \\\n",
       "0                       1.03           0.323                    0.076   \n",
       "1                       0.28           0.339                    0.188   \n",
       "2                       0.57           0.418                    0.128   \n",
       "3                       0.47           0.109                    0.045   \n",
       "4                       0.41           0.351                    0.181   \n",
       "\n",
       "  Leak Check Corrosion Crack Detected Function Test Lubrication Status  \\\n",
       "0       Pass    Severe             No          Fail      Needs Reapply   \n",
       "1       Pass  Moderate            Yes          Fail               Good   \n",
       "2       Fail  Moderate            Yes          Pass      Needs Reapply   \n",
       "3       Pass  Moderate             No          Pass               Good   \n",
       "4       Fail  Moderate            Yes          Fail      Needs Reapply   \n",
       "\n",
       "  Pass/Fail  \n",
       "0      Fail  \n",
       "1      Fail  \n",
       "2      Pass  \n",
       "3      Pass  \n",
       "4      Fail  "
      ],
      "text/html": [
       "<div>\n",
       "<style scoped>\n",
       "    .dataframe tbody tr th:only-of-type {\n",
       "        vertical-align: middle;\n",
       "    }\n",
       "\n",
       "    .dataframe tbody tr th {\n",
       "        vertical-align: top;\n",
       "    }\n",
       "\n",
       "    .dataframe thead th {\n",
       "        text-align: right;\n",
       "    }\n",
       "</style>\n",
       "<table border=\"1\" class=\"dataframe\">\n",
       "  <thead>\n",
       "    <tr style=\"text-align: right;\">\n",
       "      <th></th>\n",
       "      <th>Date</th>\n",
       "      <th>Shift</th>\n",
       "      <th>Mold ID</th>\n",
       "      <th>Part Name</th>\n",
       "      <th>Wear Level (%)</th>\n",
       "      <th>Surface Roughness (Ra μm)</th>\n",
       "      <th>Clearance (mm)</th>\n",
       "      <th>Alignment Accuracy (mm)</th>\n",
       "      <th>Leak Check</th>\n",
       "      <th>Corrosion</th>\n",
       "      <th>Crack Detected</th>\n",
       "      <th>Function Test</th>\n",
       "      <th>Lubrication Status</th>\n",
       "      <th>Pass/Fail</th>\n",
       "    </tr>\n",
       "  </thead>\n",
       "  <tbody>\n",
       "    <tr>\n",
       "      <th>0</th>\n",
       "      <td>2025-01-01</td>\n",
       "      <td>Shift 1</td>\n",
       "      <td>MOLD741</td>\n",
       "      <td>Guide Pin</td>\n",
       "      <td>60.8</td>\n",
       "      <td>1.03</td>\n",
       "      <td>0.323</td>\n",
       "      <td>0.076</td>\n",
       "      <td>Pass</td>\n",
       "      <td>Severe</td>\n",
       "      <td>No</td>\n",
       "      <td>Fail</td>\n",
       "      <td>Needs Reapply</td>\n",
       "      <td>Fail</td>\n",
       "    </tr>\n",
       "    <tr>\n",
       "      <th>1</th>\n",
       "      <td>2025-01-01</td>\n",
       "      <td>Shift 1</td>\n",
       "      <td>MOLD742</td>\n",
       "      <td>Core Plate</td>\n",
       "      <td>43.5</td>\n",
       "      <td>0.28</td>\n",
       "      <td>0.339</td>\n",
       "      <td>0.188</td>\n",
       "      <td>Pass</td>\n",
       "      <td>Moderate</td>\n",
       "      <td>Yes</td>\n",
       "      <td>Fail</td>\n",
       "      <td>Good</td>\n",
       "      <td>Fail</td>\n",
       "    </tr>\n",
       "    <tr>\n",
       "      <th>2</th>\n",
       "      <td>2025-01-01</td>\n",
       "      <td>Shift 1</td>\n",
       "      <td>MOLD560</td>\n",
       "      <td>Runner Channel</td>\n",
       "      <td>15.0</td>\n",
       "      <td>0.57</td>\n",
       "      <td>0.418</td>\n",
       "      <td>0.128</td>\n",
       "      <td>Fail</td>\n",
       "      <td>Moderate</td>\n",
       "      <td>Yes</td>\n",
       "      <td>Pass</td>\n",
       "      <td>Needs Reapply</td>\n",
       "      <td>Pass</td>\n",
       "    </tr>\n",
       "    <tr>\n",
       "      <th>3</th>\n",
       "      <td>2025-01-01</td>\n",
       "      <td>Shift 2</td>\n",
       "      <td>MOLD126</td>\n",
       "      <td>Support Pillar</td>\n",
       "      <td>68.7</td>\n",
       "      <td>0.47</td>\n",
       "      <td>0.109</td>\n",
       "      <td>0.045</td>\n",
       "      <td>Pass</td>\n",
       "      <td>Moderate</td>\n",
       "      <td>No</td>\n",
       "      <td>Pass</td>\n",
       "      <td>Good</td>\n",
       "      <td>Pass</td>\n",
       "    </tr>\n",
       "    <tr>\n",
       "      <th>4</th>\n",
       "      <td>2025-01-01</td>\n",
       "      <td>Shift 2</td>\n",
       "      <td>MOLD727</td>\n",
       "      <td>Core Plate</td>\n",
       "      <td>53.7</td>\n",
       "      <td>0.41</td>\n",
       "      <td>0.351</td>\n",
       "      <td>0.181</td>\n",
       "      <td>Fail</td>\n",
       "      <td>Moderate</td>\n",
       "      <td>Yes</td>\n",
       "      <td>Fail</td>\n",
       "      <td>Needs Reapply</td>\n",
       "      <td>Fail</td>\n",
       "    </tr>\n",
       "  </tbody>\n",
       "</table>\n",
       "</div>"
      ]
     },
     "execution_count": 119,
     "metadata": {},
     "output_type": "execute_result"
    }
   ],
   "execution_count": 119
  },
  {
   "metadata": {
    "ExecuteTime": {
     "end_time": "2025-05-15T00:37:03.743029Z",
     "start_time": "2025-05-15T00:37:03.739874Z"
    }
   },
   "cell_type": "code",
   "source": "df.columns",
   "id": "b2be797b8b691a39",
   "outputs": [
    {
     "data": {
      "text/plain": [
       "Index(['Date', 'Shift', 'Mold ID', 'Part Name', 'Wear Level (%)',\n",
       "       'Surface Roughness (Ra μm)', 'Clearance (mm)',\n",
       "       'Alignment Accuracy (mm)', 'Leak Check', 'Corrosion', 'Crack Detected',\n",
       "       'Function Test', 'Lubrication Status', 'Pass/Fail'],\n",
       "      dtype='object')"
      ]
     },
     "execution_count": 120,
     "metadata": {},
     "output_type": "execute_result"
    }
   ],
   "execution_count": 120
  },
  {
   "metadata": {},
   "cell_type": "markdown",
   "source": [
    "### **Problem 1: Count Defective Parts per Day**\n",
    "\n",
    "**Purpose**: Practice using `Counter` to aggregate counts.\n",
    "\n",
    "> Count how many parts failed the final `Pass/Fail` test for each date.\n"
   ],
   "id": "ce5647e534610bcf"
  },
  {
   "metadata": {
    "ExecuteTime": {
     "end_time": "2025-05-15T00:37:03.747133Z",
     "start_time": "2025-05-15T00:37:03.744138Z"
    }
   },
   "cell_type": "code",
   "source": "failures = df[df['Pass/Fail'] == 'Fail']",
   "id": "ff30cafe053eb1be",
   "outputs": [],
   "execution_count": 121
  },
  {
   "metadata": {
    "ExecuteTime": {
     "end_time": "2025-05-15T00:37:03.750275Z",
     "start_time": "2025-05-15T00:37:03.748020Z"
    }
   },
   "cell_type": "code",
   "source": "fail_per_date = Counter(failures['Date'])",
   "id": "aa8e6d47bd0381e4",
   "outputs": [],
   "execution_count": 122
  },
  {
   "metadata": {
    "ExecuteTime": {
     "end_time": "2025-05-15T00:37:03.758287Z",
     "start_time": "2025-05-15T00:37:03.752627Z"
    }
   },
   "cell_type": "code",
   "source": "fail_per_date",
   "id": "2040fe63a54b321",
   "outputs": [
    {
     "data": {
      "text/plain": [
       "Counter({'2025-01-10': 6,\n",
       "         '2025-05-06': 6,\n",
       "         '2025-08-07': 6,\n",
       "         '2025-11-30': 6,\n",
       "         '2025-01-08': 5,\n",
       "         '2025-01-16': 5,\n",
       "         '2025-03-18': 5,\n",
       "         '2025-03-23': 5,\n",
       "         '2025-03-28': 5,\n",
       "         '2025-04-03': 5,\n",
       "         '2025-04-08': 5,\n",
       "         '2025-04-11': 5,\n",
       "         '2025-06-01': 5,\n",
       "         '2025-06-03': 5,\n",
       "         '2025-06-20': 5,\n",
       "         '2025-07-08': 5,\n",
       "         '2025-07-19': 5,\n",
       "         '2025-07-20': 5,\n",
       "         '2025-08-09': 5,\n",
       "         '2025-08-10': 5,\n",
       "         '2025-08-13': 5,\n",
       "         '2025-09-02': 5,\n",
       "         '2025-09-07': 5,\n",
       "         '2025-09-17': 5,\n",
       "         '2025-09-20': 5,\n",
       "         '2025-11-13': 5,\n",
       "         '2025-11-18': 5,\n",
       "         '2025-12-03': 5,\n",
       "         '2025-12-16': 5,\n",
       "         '2025-12-23': 5,\n",
       "         '2025-01-12': 4,\n",
       "         '2025-01-21': 4,\n",
       "         '2025-01-25': 4,\n",
       "         '2025-01-30': 4,\n",
       "         '2025-02-08': 4,\n",
       "         '2025-02-10': 4,\n",
       "         '2025-02-15': 4,\n",
       "         '2025-02-16': 4,\n",
       "         '2025-02-22': 4,\n",
       "         '2025-02-23': 4,\n",
       "         '2025-02-25': 4,\n",
       "         '2025-03-05': 4,\n",
       "         '2025-03-17': 4,\n",
       "         '2025-03-27': 4,\n",
       "         '2025-04-01': 4,\n",
       "         '2025-04-12': 4,\n",
       "         '2025-04-13': 4,\n",
       "         '2025-04-15': 4,\n",
       "         '2025-04-16': 4,\n",
       "         '2025-04-23': 4,\n",
       "         '2025-04-30': 4,\n",
       "         '2025-05-10': 4,\n",
       "         '2025-05-14': 4,\n",
       "         '2025-05-15': 4,\n",
       "         '2025-05-17': 4,\n",
       "         '2025-05-25': 4,\n",
       "         '2025-05-27': 4,\n",
       "         '2025-05-29': 4,\n",
       "         '2025-06-07': 4,\n",
       "         '2025-06-15': 4,\n",
       "         '2025-06-16': 4,\n",
       "         '2025-06-18': 4,\n",
       "         '2025-06-25': 4,\n",
       "         '2025-06-26': 4,\n",
       "         '2025-06-28': 4,\n",
       "         '2025-06-29': 4,\n",
       "         '2025-07-03': 4,\n",
       "         '2025-07-04': 4,\n",
       "         '2025-07-09': 4,\n",
       "         '2025-07-11': 4,\n",
       "         '2025-07-29': 4,\n",
       "         '2025-07-30': 4,\n",
       "         '2025-07-31': 4,\n",
       "         '2025-08-02': 4,\n",
       "         '2025-08-06': 4,\n",
       "         '2025-08-14': 4,\n",
       "         '2025-08-18': 4,\n",
       "         '2025-08-20': 4,\n",
       "         '2025-08-22': 4,\n",
       "         '2025-08-26': 4,\n",
       "         '2025-09-04': 4,\n",
       "         '2025-09-09': 4,\n",
       "         '2025-09-11': 4,\n",
       "         '2025-09-14': 4,\n",
       "         '2025-09-16': 4,\n",
       "         '2025-09-21': 4,\n",
       "         '2025-09-29': 4,\n",
       "         '2025-10-03': 4,\n",
       "         '2025-10-10': 4,\n",
       "         '2025-10-16': 4,\n",
       "         '2025-11-04': 4,\n",
       "         '2025-11-09': 4,\n",
       "         '2025-11-23': 4,\n",
       "         '2025-11-28': 4,\n",
       "         '2025-12-07': 4,\n",
       "         '2025-12-08': 4,\n",
       "         '2025-12-10': 4,\n",
       "         '2025-12-12': 4,\n",
       "         '2025-12-15': 4,\n",
       "         '2025-12-27': 4,\n",
       "         '2025-12-28': 4,\n",
       "         '2025-01-01': 3,\n",
       "         '2025-01-07': 3,\n",
       "         '2025-01-09': 3,\n",
       "         '2025-01-19': 3,\n",
       "         '2025-01-22': 3,\n",
       "         '2025-01-31': 3,\n",
       "         '2025-02-01': 3,\n",
       "         '2025-02-02': 3,\n",
       "         '2025-02-03': 3,\n",
       "         '2025-02-05': 3,\n",
       "         '2025-02-09': 3,\n",
       "         '2025-02-12': 3,\n",
       "         '2025-02-13': 3,\n",
       "         '2025-02-17': 3,\n",
       "         '2025-02-19': 3,\n",
       "         '2025-02-21': 3,\n",
       "         '2025-02-24': 3,\n",
       "         '2025-02-27': 3,\n",
       "         '2025-03-01': 3,\n",
       "         '2025-03-02': 3,\n",
       "         '2025-03-06': 3,\n",
       "         '2025-03-09': 3,\n",
       "         '2025-03-13': 3,\n",
       "         '2025-03-14': 3,\n",
       "         '2025-03-15': 3,\n",
       "         '2025-03-19': 3,\n",
       "         '2025-03-20': 3,\n",
       "         '2025-03-25': 3,\n",
       "         '2025-03-26': 3,\n",
       "         '2025-03-29': 3,\n",
       "         '2025-03-30': 3,\n",
       "         '2025-04-02': 3,\n",
       "         '2025-04-04': 3,\n",
       "         '2025-04-09': 3,\n",
       "         '2025-04-10': 3,\n",
       "         '2025-04-20': 3,\n",
       "         '2025-04-25': 3,\n",
       "         '2025-04-26': 3,\n",
       "         '2025-05-01': 3,\n",
       "         '2025-05-02': 3,\n",
       "         '2025-05-03': 3,\n",
       "         '2025-05-12': 3,\n",
       "         '2025-05-13': 3,\n",
       "         '2025-05-18': 3,\n",
       "         '2025-05-20': 3,\n",
       "         '2025-05-23': 3,\n",
       "         '2025-05-24': 3,\n",
       "         '2025-05-30': 3,\n",
       "         '2025-06-04': 3,\n",
       "         '2025-06-06': 3,\n",
       "         '2025-06-08': 3,\n",
       "         '2025-06-17': 3,\n",
       "         '2025-06-22': 3,\n",
       "         '2025-06-24': 3,\n",
       "         '2025-07-02': 3,\n",
       "         '2025-07-05': 3,\n",
       "         '2025-07-06': 3,\n",
       "         '2025-07-07': 3,\n",
       "         '2025-07-10': 3,\n",
       "         '2025-07-12': 3,\n",
       "         '2025-07-14': 3,\n",
       "         '2025-07-18': 3,\n",
       "         '2025-07-21': 3,\n",
       "         '2025-07-22': 3,\n",
       "         '2025-07-24': 3,\n",
       "         '2025-07-25': 3,\n",
       "         '2025-08-03': 3,\n",
       "         '2025-08-05': 3,\n",
       "         '2025-08-11': 3,\n",
       "         '2025-08-12': 3,\n",
       "         '2025-08-16': 3,\n",
       "         '2025-08-23': 3,\n",
       "         '2025-08-27': 3,\n",
       "         '2025-08-28': 3,\n",
       "         '2025-09-03': 3,\n",
       "         '2025-09-06': 3,\n",
       "         '2025-09-10': 3,\n",
       "         '2025-09-13': 3,\n",
       "         '2025-09-18': 3,\n",
       "         '2025-09-24': 3,\n",
       "         '2025-09-30': 3,\n",
       "         '2025-10-04': 3,\n",
       "         '2025-10-05': 3,\n",
       "         '2025-10-06': 3,\n",
       "         '2025-10-07': 3,\n",
       "         '2025-10-13': 3,\n",
       "         '2025-10-14': 3,\n",
       "         '2025-10-20': 3,\n",
       "         '2025-10-25': 3,\n",
       "         '2025-10-26': 3,\n",
       "         '2025-10-27': 3,\n",
       "         '2025-10-30': 3,\n",
       "         '2025-11-03': 3,\n",
       "         '2025-11-17': 3,\n",
       "         '2025-11-21': 3,\n",
       "         '2025-11-24': 3,\n",
       "         '2025-11-25': 3,\n",
       "         '2025-11-27': 3,\n",
       "         '2025-11-29': 3,\n",
       "         '2025-12-11': 3,\n",
       "         '2025-12-14': 3,\n",
       "         '2025-12-17': 3,\n",
       "         '2025-12-19': 3,\n",
       "         '2025-12-20': 3,\n",
       "         '2025-12-21': 3,\n",
       "         '2025-12-25': 3,\n",
       "         '2025-12-29': 3,\n",
       "         '2025-01-03': 2,\n",
       "         '2025-01-05': 2,\n",
       "         '2025-01-06': 2,\n",
       "         '2025-01-13': 2,\n",
       "         '2025-01-14': 2,\n",
       "         '2025-01-18': 2,\n",
       "         '2025-01-20': 2,\n",
       "         '2025-01-24': 2,\n",
       "         '2025-01-28': 2,\n",
       "         '2025-02-04': 2,\n",
       "         '2025-02-06': 2,\n",
       "         '2025-02-18': 2,\n",
       "         '2025-02-20': 2,\n",
       "         '2025-02-26': 2,\n",
       "         '2025-02-28': 2,\n",
       "         '2025-03-10': 2,\n",
       "         '2025-03-11': 2,\n",
       "         '2025-03-16': 2,\n",
       "         '2025-03-24': 2,\n",
       "         '2025-03-31': 2,\n",
       "         '2025-04-05': 2,\n",
       "         '2025-04-06': 2,\n",
       "         '2025-04-07': 2,\n",
       "         '2025-04-14': 2,\n",
       "         '2025-04-17': 2,\n",
       "         '2025-04-18': 2,\n",
       "         '2025-04-21': 2,\n",
       "         '2025-04-22': 2,\n",
       "         '2025-04-24': 2,\n",
       "         '2025-04-27': 2,\n",
       "         '2025-04-28': 2,\n",
       "         '2025-04-29': 2,\n",
       "         '2025-05-04': 2,\n",
       "         '2025-05-07': 2,\n",
       "         '2025-05-08': 2,\n",
       "         '2025-05-09': 2,\n",
       "         '2025-05-16': 2,\n",
       "         '2025-05-19': 2,\n",
       "         '2025-05-21': 2,\n",
       "         '2025-05-26': 2,\n",
       "         '2025-05-31': 2,\n",
       "         '2025-06-02': 2,\n",
       "         '2025-06-05': 2,\n",
       "         '2025-06-09': 2,\n",
       "         '2025-06-12': 2,\n",
       "         '2025-06-13': 2,\n",
       "         '2025-06-14': 2,\n",
       "         '2025-06-19': 2,\n",
       "         '2025-06-21': 2,\n",
       "         '2025-06-23': 2,\n",
       "         '2025-07-01': 2,\n",
       "         '2025-07-13': 2,\n",
       "         '2025-07-15': 2,\n",
       "         '2025-07-17': 2,\n",
       "         '2025-07-26': 2,\n",
       "         '2025-07-27': 2,\n",
       "         '2025-07-28': 2,\n",
       "         '2025-08-01': 2,\n",
       "         '2025-08-04': 2,\n",
       "         '2025-08-08': 2,\n",
       "         '2025-08-15': 2,\n",
       "         '2025-08-17': 2,\n",
       "         '2025-08-19': 2,\n",
       "         '2025-08-21': 2,\n",
       "         '2025-08-24': 2,\n",
       "         '2025-08-29': 2,\n",
       "         '2025-08-31': 2,\n",
       "         '2025-09-15': 2,\n",
       "         '2025-09-22': 2,\n",
       "         '2025-09-23': 2,\n",
       "         '2025-09-25': 2,\n",
       "         '2025-09-27': 2,\n",
       "         '2025-10-01': 2,\n",
       "         '2025-10-09': 2,\n",
       "         '2025-10-11': 2,\n",
       "         '2025-10-18': 2,\n",
       "         '2025-10-19': 2,\n",
       "         '2025-10-22': 2,\n",
       "         '2025-10-23': 2,\n",
       "         '2025-10-28': 2,\n",
       "         '2025-10-31': 2,\n",
       "         '2025-11-01': 2,\n",
       "         '2025-11-05': 2,\n",
       "         '2025-11-06': 2,\n",
       "         '2025-11-07': 2,\n",
       "         '2025-11-08': 2,\n",
       "         '2025-11-10': 2,\n",
       "         '2025-11-14': 2,\n",
       "         '2025-11-15': 2,\n",
       "         '2025-11-16': 2,\n",
       "         '2025-11-19': 2,\n",
       "         '2025-11-20': 2,\n",
       "         '2025-11-26': 2,\n",
       "         '2025-12-02': 2,\n",
       "         '2025-12-05': 2,\n",
       "         '2025-12-06': 2,\n",
       "         '2025-12-13': 2,\n",
       "         '2025-12-18': 2,\n",
       "         '2025-12-24': 2,\n",
       "         '2025-12-30': 2,\n",
       "         '2025-12-31': 2,\n",
       "         '2025-01-04': 1,\n",
       "         '2025-01-11': 1,\n",
       "         '2025-01-15': 1,\n",
       "         '2025-01-17': 1,\n",
       "         '2025-01-23': 1,\n",
       "         '2025-01-26': 1,\n",
       "         '2025-01-27': 1,\n",
       "         '2025-01-29': 1,\n",
       "         '2025-02-07': 1,\n",
       "         '2025-02-11': 1,\n",
       "         '2025-02-14': 1,\n",
       "         '2025-03-07': 1,\n",
       "         '2025-03-08': 1,\n",
       "         '2025-03-12': 1,\n",
       "         '2025-03-21': 1,\n",
       "         '2025-03-22': 1,\n",
       "         '2025-04-19': 1,\n",
       "         '2025-05-11': 1,\n",
       "         '2025-05-22': 1,\n",
       "         '2025-06-10': 1,\n",
       "         '2025-06-11': 1,\n",
       "         '2025-06-30': 1,\n",
       "         '2025-07-16': 1,\n",
       "         '2025-07-23': 1,\n",
       "         '2025-08-25': 1,\n",
       "         '2025-08-30': 1,\n",
       "         '2025-09-01': 1,\n",
       "         '2025-09-05': 1,\n",
       "         '2025-09-08': 1,\n",
       "         '2025-09-12': 1,\n",
       "         '2025-09-19': 1,\n",
       "         '2025-09-26': 1,\n",
       "         '2025-09-28': 1,\n",
       "         '2025-10-08': 1,\n",
       "         '2025-10-12': 1,\n",
       "         '2025-10-17': 1,\n",
       "         '2025-10-21': 1,\n",
       "         '2025-11-02': 1,\n",
       "         '2025-11-11': 1,\n",
       "         '2025-11-12': 1,\n",
       "         '2025-11-22': 1,\n",
       "         '2025-12-01': 1,\n",
       "         '2025-12-04': 1,\n",
       "         '2025-12-22': 1,\n",
       "         '2025-12-26': 1})"
      ]
     },
     "execution_count": 123,
     "metadata": {},
     "output_type": "execute_result"
    }
   ],
   "execution_count": 123
  },
  {
   "metadata": {},
   "cell_type": "markdown",
   "source": [
    "### **Problem 2: Track Mold Issues with `defaultdict`**\n",
    "\n",
    "**Purpose**: Practice using `defaultdict(set)` for grouped data.\n",
    "\n",
    "> Create a dictionary where each mold ID is the key, and its value is a list of all issues recorded (e.g., if “Leak Check” is “Fail”, “Corrosion” is “Severe”, etc.).\n"
   ],
   "id": "97c71b8820f7c4b2"
  },
  {
   "metadata": {
    "ExecuteTime": {
     "end_time": "2025-05-15T00:37:03.789981Z",
     "start_time": "2025-05-15T00:37:03.787442Z"
    }
   },
   "cell_type": "code",
   "source": "mold_issues = defaultdict(set)",
   "id": "314f7ab6c97930f9",
   "outputs": [],
   "execution_count": 124
  },
  {
   "metadata": {
    "ExecuteTime": {
     "end_time": "2025-05-15T00:37:03.858049Z",
     "start_time": "2025-05-15T00:37:03.807928Z"
    }
   },
   "cell_type": "code",
   "source": [
    "for _, row in df.iterrows():\n",
    "    mold_id = row['Mold ID']\n",
    "    \n",
    "    if row['Leak Check'] == 'Fail':\n",
    "        mold_issues[mold_id].add(row['Leak Check'])\n",
    "    \n",
    "    if row['Corrosion'] in ['Moderate', 'Severe']:\n",
    "        mold_issues[mold_id].add(f'Corrosion: {row[\"Corrosion\"]}')\n",
    "        \n",
    "    if row['Crack Detected'] == 'Yes':\n",
    "        mold_issues[mold_id].add('Crack Detected')\n",
    "        \n",
    "    if row['Function Test'] == 'Fail':\n",
    "        mold_issues[mold_id].add('Function Test Failed')\n",
    "        \n",
    "    if row['Lubrication Status'] == 'Needs Reapply':\n",
    "        mold_issues[mold_id].add('Needs Lubrication')"
   ],
   "id": "fda8be0fb659d394",
   "outputs": [],
   "execution_count": 125
  },
  {
   "metadata": {
    "ExecuteTime": {
     "end_time": "2025-05-15T00:37:03.882110Z",
     "start_time": "2025-05-15T00:37:03.878676Z"
    }
   },
   "cell_type": "code",
   "source": "dict(list(mold_issues.items())[:5])",
   "id": "91f437566379326a",
   "outputs": [
    {
     "data": {
      "text/plain": [
       "{'MOLD741': {'Corrosion: Severe', 'Function Test Failed', 'Needs Lubrication'},\n",
       " 'MOLD742': {'Corrosion: Moderate',\n",
       "  'Corrosion: Severe',\n",
       "  'Crack Detected',\n",
       "  'Function Test Failed',\n",
       "  'Needs Lubrication'},\n",
       " 'MOLD560': {'Corrosion: Moderate',\n",
       "  'Crack Detected',\n",
       "  'Fail',\n",
       "  'Needs Lubrication'},\n",
       " 'MOLD126': {'Corrosion: Moderate'},\n",
       " 'MOLD727': {'Corrosion: Moderate',\n",
       "  'Corrosion: Severe',\n",
       "  'Crack Detected',\n",
       "  'Fail',\n",
       "  'Function Test Failed',\n",
       "  'Needs Lubrication'}}"
      ]
     },
     "execution_count": 126,
     "metadata": {},
     "output_type": "execute_result"
    }
   ],
   "execution_count": 126
  },
  {
   "metadata": {},
   "cell_type": "markdown",
   "source": [
    "# What is `defaultdict`?\n",
    "\n",
    "`defaultdict` is a special kind of dictionary from Python’s `collections` module.\n",
    "It **automatically creates a default value** for any key that doesn't exist **when accessed**.\n",
    "\n",
    "\n",
    "\n",
    "### Example Comparison\n",
    "\n",
    "#### Using regular `dict`:\n",
    "\n",
    "```python\n",
    "issues = {}\n",
    "issues['MOLD741'].append('Leak Check Failed')  # ERROR! Key doesn't exist\n",
    "```\n",
    "\n",
    "You would get:\n",
    "\n",
    "```\n",
    "KeyError: 'MOLD741'\n",
    "```\n",
    "\n",
    "#### Using `defaultdict(list)` or `defaultdict(set)`:\n",
    "\n",
    "```python\n",
    "from collections import defaultdict\n",
    "\n",
    "issues = defaultdict(list)\n",
    "issues['MOLD741'].append('Leak Check Failed')  # Works automatically\n",
    "```\n",
    "\n",
    "It **creates a new empty list** for `'MOLD741'` the first time it's accessed.\n",
    "\n",
    "\n",
    "\n",
    "## What has `defaultdict` done better than regular `dict`?\n",
    "\n",
    "| Feature                                            | `dict` | `defaultdict` |\n",
    "| -------------------------------------------------- | ------ | ------------- |\n",
    "| Needs manual key checking                          | ✅      | ❌             |\n",
    "| Auto-creates empty value                           | ❌      | ✅             |\n",
    "| Cleaner syntax for appending                       | ❌      | ✅             |\n",
    "| Better for grouping/aggregation                    | ❌      | ✅             |\n",
    "| Works with any default type (list, set, int, etc.) | ❌      | ✅             |\n",
    "\n",
    "\n",
    "\n",
    "## Why is `defaultdict(set)` useful for **this mold inspection problem**?\n",
    "\n",
    "In this specific case:\n",
    "\n",
    "* Each **Mold ID** (like `'MOLD741'`) maps to a **set of issues**.\n",
    "* With `defaultdict(set)`, you don't need to check if the mold already has an entry:\n",
    "\n",
    "```python\n",
    "mold_issues[mold_id].add('Function Test Failed')  # Automatically works\n",
    "```\n",
    "\n",
    "Using a plain `dict` would require this extra check every time:\n",
    "\n",
    "```python\n",
    "if mold_id not in mold_issues:\n",
    "    mold_issues[mold_id] = set()\n",
    "mold_issues[mold_id].add('Function Test Failed')\n",
    "```\n",
    "\n",
    "That's more code and easier to mess up.\n",
    "\n",
    "\n",
    "\n",
    "## Summary: Should You Always Use `defaultdict`?\n",
    "\n",
    "Not always. But if you:\n",
    "\n",
    "* Need to **group** things by a key\n",
    "* Want to **append**, **extend**, or **add** to lists/sets/counters\n",
    "* Are **tired of writing key-checking code**\n",
    "\n",
    "Then `defaultdict` is your best friend."
   ],
   "id": "7a96c7395093db8a"
  },
  {
   "metadata": {},
   "cell_type": "markdown",
   "source": [
    "### **Problem 2.1: Group Parts by Mold ID**\n",
    "\n",
    "**Purpose**: Practice using `defaultdict(set)` for grouping.\n",
    "\n",
    "> Create a dictionary where each **Mold ID** is the key, and the value is a list of **part names** it has produced over time.\n",
    "\n",
    "Use `defaultdict(set)`. Avoid using any `if key not in dict` logic."
   ],
   "id": "32d33577f2b91831"
  },
  {
   "metadata": {
    "ExecuteTime": {
     "end_time": "2025-05-15T00:48:07.942149Z",
     "start_time": "2025-05-15T00:48:07.939330Z"
    }
   },
   "cell_type": "code",
   "source": "part_names = defaultdict(set)",
   "id": "28c5edaf0db36673",
   "outputs": [],
   "execution_count": 137
  },
  {
   "metadata": {
    "ExecuteTime": {
     "end_time": "2025-05-15T00:48:08.423781Z",
     "start_time": "2025-05-15T00:48:08.388073Z"
    }
   },
   "cell_type": "code",
   "source": [
    "for _, row in df.iterrows():\n",
    "    mold_id = row['Mold ID']\n",
    "    part_names[mold_id].add((row['Part Name']))\n",
    "    "
   ],
   "id": "2c2b10dd0ac172bf",
   "outputs": [],
   "execution_count": 138
  },
  {
   "metadata": {
    "ExecuteTime": {
     "end_time": "2025-05-15T00:48:08.906619Z",
     "start_time": "2025-05-15T00:48:08.903047Z"
    }
   },
   "cell_type": "code",
   "source": "dict(list(part_names.items())[:3])",
   "id": "ec2accf968bb4252",
   "outputs": [
    {
     "data": {
      "text/plain": [
       "{'MOLD741': {'Guide Pin'},\n",
       " 'MOLD742': {'Cavity Plate', 'Core Plate', 'Sprue Bushing'},\n",
       " 'MOLD560': {'Runner Channel'}}"
      ]
     },
     "execution_count": 139,
     "metadata": {},
     "output_type": "execute_result"
    }
   ],
   "execution_count": 139
  },
  {
   "metadata": {
    "ExecuteTime": {
     "end_time": "2025-05-15T00:50:26.717032Z",
     "start_time": "2025-05-15T00:50:26.714476Z"
    }
   },
   "cell_type": "code",
   "source": [
    "# convert set to list\n",
    "part_names_cleaned = {mold: list(parts) for mold, parts in part_names.items()}"
   ],
   "id": "e3c1d4ac080984a7",
   "outputs": [],
   "execution_count": 140
  },
  {
   "metadata": {
    "ExecuteTime": {
     "end_time": "2025-05-15T00:50:34.454807Z",
     "start_time": "2025-05-15T00:50:34.451186Z"
    }
   },
   "cell_type": "code",
   "source": "dict(list(part_names_cleaned.items())[:3])",
   "id": "90be3573817346f3",
   "outputs": [
    {
     "data": {
      "text/plain": [
       "{'MOLD741': ['Guide Pin'],\n",
       " 'MOLD742': ['Core Plate', 'Cavity Plate', 'Sprue Bushing'],\n",
       " 'MOLD560': ['Runner Channel']}"
      ]
     },
     "execution_count": 141,
     "metadata": {},
     "output_type": "execute_result"
    }
   ],
   "execution_count": 141
  },
  {
   "metadata": {},
   "cell_type": "markdown",
   "source": [
    "### **Problem 2.2: Track All Days a Mold Had a Lubrication Problem**\n",
    "\n",
    "**Purpose**: Practice using `defaultdict(set)` to collect **unique dates**.\n",
    "\n",
    "> Create a dictionary where each **Mold ID** maps to a **set of dates** when the **\"Lubrication Status\" was \"Needs Reapply\"**.\n",
    "\n",
    "Use `defaultdict(set)` to store only the date, ensuring no duplicate dates for any mold."
   ],
   "id": "81c83915fce07838"
  },
  {
   "metadata": {
    "ExecuteTime": {
     "end_time": "2025-05-15T01:00:22.942889Z",
     "start_time": "2025-05-15T01:00:22.939971Z"
    }
   },
   "cell_type": "code",
   "source": "lubrication_reapply_dates = defaultdict(set)",
   "id": "888dd160ab40408",
   "outputs": [],
   "execution_count": 142
  },
  {
   "metadata": {
    "ExecuteTime": {
     "end_time": "2025-05-15T01:01:35.457683Z",
     "start_time": "2025-05-15T01:01:35.419929Z"
    }
   },
   "cell_type": "code",
   "source": [
    "for _, row in df.iterrows():\n",
    "    mold_id = row['Mold ID']\n",
    "    \n",
    "    if row['Lubrication Status'] == 'Needs Reapply':\n",
    "        lubrication_reapply_dates[mold_id].add(row['Date'])"
   ],
   "id": "2e406c0c0d41667a",
   "outputs": [],
   "execution_count": 143
  },
  {
   "metadata": {
    "ExecuteTime": {
     "end_time": "2025-05-15T01:01:53.059157Z",
     "start_time": "2025-05-15T01:01:53.055190Z"
    }
   },
   "cell_type": "code",
   "source": "dict(list(lubrication_reapply_dates.items())[:3])",
   "id": "3f66607b2673f095",
   "outputs": [
    {
     "data": {
      "text/plain": [
       "{'MOLD741': {'2025-01-01',\n",
       "  '2025-06-06',\n",
       "  '2025-09-16',\n",
       "  '2025-09-29',\n",
       "  '2025-11-13',\n",
       "  '2025-12-11'},\n",
       " 'MOLD560': {'2025-01-01',\n",
       "  '2025-02-12',\n",
       "  '2025-04-07',\n",
       "  '2025-05-02',\n",
       "  '2025-05-17',\n",
       "  '2025-12-13'},\n",
       " 'MOLD727': {'2025-01-01',\n",
       "  '2025-01-06',\n",
       "  '2025-04-17',\n",
       "  '2025-06-03',\n",
       "  '2025-11-04',\n",
       "  '2025-12-16',\n",
       "  '2025-12-20'}}"
      ]
     },
     "execution_count": 144,
     "metadata": {},
     "output_type": "execute_result"
    }
   ],
   "execution_count": 144
  },
  {
   "metadata": {},
   "cell_type": "markdown",
   "source": [
    "### **Problem 2.3: Count All Issue Types per Mold ID**\n",
    "\n",
    "**Purpose**: Practice using `defaultdict(Counter)` for multi-category aggregation.\n",
    "\n",
    "> Build a dictionary where each **Mold ID** is a key, and the value is a `Counter` object tallying different issue types (like `\"Leak Check Failed\"`, `\"Crack Detected\"`).\n",
    "\n",
    "Use nested `defaultdict(Counter)` to maintain a count of issue types per mold."
   ],
   "id": "97d1dfc7439e9a58"
  },
  {
   "metadata": {},
   "cell_type": "code",
   "outputs": [],
   "execution_count": null,
   "source": "",
   "id": "63b90e1dba3cdff2"
  },
  {
   "metadata": {},
   "cell_type": "code",
   "outputs": [],
   "execution_count": null,
   "source": "",
   "id": "e8e1bf963d20eb8a"
  },
  {
   "metadata": {},
   "cell_type": "code",
   "outputs": [],
   "execution_count": null,
   "source": "",
   "id": "4d25321d4ed0d11b"
  },
  {
   "metadata": {},
   "cell_type": "code",
   "outputs": [],
   "execution_count": null,
   "source": "",
   "id": "a8f9255a13e6e014"
  },
  {
   "metadata": {},
   "cell_type": "code",
   "outputs": [],
   "execution_count": null,
   "source": "",
   "id": "672ab8cf1f73d6bc"
  },
  {
   "metadata": {},
   "cell_type": "code",
   "outputs": [],
   "execution_count": null,
   "source": "",
   "id": "c1150a7b573675e9"
  },
  {
   "metadata": {},
   "cell_type": "code",
   "outputs": [],
   "execution_count": null,
   "source": "",
   "id": "7b46b9b286449c92"
  },
  {
   "metadata": {},
   "cell_type": "code",
   "outputs": [],
   "execution_count": null,
   "source": "",
   "id": "97b75fab516655bd"
  },
  {
   "metadata": {},
   "cell_type": "markdown",
   "source": [
    "Absolutely! Here are **three progressively structured exercises** to help you master `defaultdict` using your injection mold inspection dataset. These will be **labeled as Problem 2.1, 2.2, and 2.3**, and designed to reinforce grouped data handling and eliminate repetitive key-checking code.\n",
    "\n",
    "---\n",
    "\n",
    "\n",
    "\n",
    "---\n",
    "\n",
    "\n",
    "\n",
    "---\n",
    "\n",
    "\n",
    "\n",
    "---\n",
    "\n",
    "Would you like to try solving these on your own first, or do you want working solutions to study right away?\n"
   ],
   "id": "9e16a43bc5787c2f"
  },
  {
   "metadata": {
    "ExecuteTime": {
     "end_time": "2025-05-15T00:37:03.943858Z",
     "start_time": "2025-05-15T00:37:03.941614Z"
    }
   },
   "cell_type": "code",
   "source": "",
   "id": "3c6dd07a6420282b",
   "outputs": [],
   "execution_count": 126
  },
  {
   "metadata": {
    "ExecuteTime": {
     "end_time": "2025-05-15T00:37:03.975281Z",
     "start_time": "2025-05-15T00:37:03.973522Z"
    }
   },
   "cell_type": "code",
   "source": "",
   "id": "2a3da4f732cf5a0f",
   "outputs": [],
   "execution_count": 126
  },
  {
   "metadata": {
    "ExecuteTime": {
     "end_time": "2025-05-15T00:37:03.986255Z",
     "start_time": "2025-05-15T00:37:03.984334Z"
    }
   },
   "cell_type": "code",
   "source": "",
   "id": "3c5fbbb75fc6e013",
   "outputs": [],
   "execution_count": 126
  },
  {
   "metadata": {
    "ExecuteTime": {
     "end_time": "2025-05-15T00:37:03.989114Z",
     "start_time": "2025-05-15T00:37:03.987548Z"
    }
   },
   "cell_type": "code",
   "source": "",
   "id": "2d6219c83ba28644",
   "outputs": [],
   "execution_count": 126
  },
  {
   "metadata": {},
   "cell_type": "markdown",
   "source": [
    "\n",
    "\n",
    "---\n",
    "\n",
    "\n",
    "---\n",
    "\n",
    "### **Problem 3: FIFO Buffer with `deque`**\n",
    "\n",
    "**Purpose**: Simulate a real-time production buffer.\n",
    "\n",
    "> Load inspection records for \"Shift 1\" into a deque buffer and remove the first 5 inspections (simulate processing). Show the remaining items.\n",
    "\n",
    "---\n",
    "\n",
    "### **Problem 4: Identify Most Common Faults**\n",
    "\n",
    "**Purpose**: Use `Counter` to summarize quality issues.\n",
    "\n",
    "> Find and display the most common combination of \"Crack Detected\" and \"Function Test\" outcomes.\n",
    "\n",
    "---\n",
    "\n",
    "### **Problem 5: Use `namedtuple` for Part Summaries**\n",
    "\n",
    "**Purpose**: Store row data using `namedtuple` for readability.\n",
    "\n",
    "> Define a `namedtuple` called `InspectionSummary` and use it to represent the first 10 records in the dataset.\n",
    "\n",
    "---\n",
    "\n",
    "### **Problem 6: Build a Lubrication Log**\n",
    "\n",
    "**Purpose**: Use `defaultdict` for grouped status.\n",
    "\n",
    "> Build a log that groups all `Mold ID`s by their `Lubrication Status`. For example, show all molds that \"Need Reapply\".\n",
    "\n",
    "---\n",
    "\n",
    "### **Problem 7: Compare Configurations with `ChainMap`**\n",
    "\n",
    "**Purpose**: Use `ChainMap` to layer configuration settings.\n",
    "\n",
    "> Create two dictionaries: one with default quality thresholds (`e.g. Wear Level < 50`) and another with temporary stricter thresholds for specific parts. Merge and display the effective configuration using `ChainMap`.\n",
    "\n",
    "---\n",
    "\n",
    "### **Problem 8: Determine Part Counts Per Mold**\n",
    "\n",
    "**Purpose**: Use `Counter` to find mold utilization.\n",
    "\n",
    "> Count how many times each `Mold ID` appears in the dataset (i.e., how many parts it has been used to produce).\n",
    "\n",
    "---\n",
    "\n",
    "### **Problem 9: Real-Time Sliding Window with `deque`**\n",
    "\n",
    "**Purpose**: Use deque for windowed average calculations.\n",
    "\n",
    "> Use a sliding window of the last 7 “Surface Roughness” values and compute the average after each insertion.\n",
    "\n",
    "---\n",
    "\n",
    "### **Problem 10: Build a Daily Issue Dashboard**\n",
    "\n",
    "**Purpose**: Use `defaultdict(set)` to avoid duplicates.\n",
    "\n",
    "> For each day, create a set of all issues (e.g., \"Crack\", \"Leak\", \"Corrosion\") reported, without duplicates.\n",
    "\n",
    "---\n",
    "\n",
    "Let me know when you're done with these or if you'd like the solutions, visualizations, or advanced versions using `pandas + collections` together!\n"
   ],
   "id": "d3ccf23f793d07d0"
  }
 ],
 "metadata": {
  "kernelspec": {
   "display_name": "Python 3",
   "language": "python",
   "name": "python3"
  },
  "language_info": {
   "codemirror_mode": {
    "name": "ipython",
    "version": 2
   },
   "file_extension": ".py",
   "mimetype": "text/x-python",
   "name": "python",
   "nbconvert_exporter": "python",
   "pygments_lexer": "ipython2",
   "version": "2.7.6"
  }
 },
 "nbformat": 4,
 "nbformat_minor": 5
}
