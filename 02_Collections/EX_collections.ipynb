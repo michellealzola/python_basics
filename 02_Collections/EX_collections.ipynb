{
 "cells": [
  {
   "metadata": {},
   "cell_type": "markdown",
   "source": "# Python Collections Module Exercises\n",
   "id": "d64a6e89636d258"
  },
  {
   "metadata": {
    "ExecuteTime": {
     "end_time": "2025-05-15T16:26:02.132440Z",
     "start_time": "2025-05-15T16:26:02.130031Z"
    }
   },
   "cell_type": "code",
   "source": [
    "import pandas as pd\n",
    "from collections import Counter, defaultdict, deque, namedtuple, ChainMap"
   ],
   "id": "5f2dd3ba710e4c6a",
   "outputs": [],
   "execution_count": 65
  },
  {
   "metadata": {},
   "cell_type": "markdown",
   "source": [
    "**Dataset:** *Injection Mold 365-Day Inspection Log*\n",
    "\n",
    "**Objective:** Use `collections` to solve typical quality control and maintenance tracking problems in manufacturing workflows.\n"
   ],
   "id": "97e081c5511d06d0"
  },
  {
   "metadata": {
    "ExecuteTime": {
     "end_time": "2025-05-15T16:26:02.550732Z",
     "start_time": "2025-05-15T16:26:02.547990Z"
    }
   },
   "cell_type": "code",
   "source": "file_path = 'injection_mold_365day_dataset.csv'",
   "id": "946f1ee8c2850a92",
   "outputs": [],
   "execution_count": 66
  },
  {
   "metadata": {
    "ExecuteTime": {
     "end_time": "2025-05-15T16:26:02.569442Z",
     "start_time": "2025-05-15T16:26:02.556440Z"
    }
   },
   "cell_type": "code",
   "source": "df = pd.read_csv(file_path)",
   "id": "aa53727a396a26d6",
   "outputs": [],
   "execution_count": 67
  },
  {
   "metadata": {
    "ExecuteTime": {
     "end_time": "2025-05-15T16:26:02.589583Z",
     "start_time": "2025-05-15T16:26:02.581554Z"
    }
   },
   "cell_type": "code",
   "source": "df.head()",
   "id": "fb62e4b0f0778d5e",
   "outputs": [
    {
     "data": {
      "text/plain": [
       "         Date    Shift  Mold ID       Part Name  Wear Level (%)  \\\n",
       "0  2025-01-01  Shift 1  MOLD741       Guide Pin            60.8   \n",
       "1  2025-01-01  Shift 1  MOLD742      Core Plate            43.5   \n",
       "2  2025-01-01  Shift 1  MOLD560  Runner Channel            15.0   \n",
       "3  2025-01-01  Shift 2  MOLD126  Support Pillar            68.7   \n",
       "4  2025-01-01  Shift 2  MOLD727      Core Plate            53.7   \n",
       "\n",
       "   Surface Roughness (Ra μm)  Clearance (mm)  Alignment Accuracy (mm)  \\\n",
       "0                       1.03           0.323                    0.076   \n",
       "1                       0.28           0.339                    0.188   \n",
       "2                       0.57           0.418                    0.128   \n",
       "3                       0.47           0.109                    0.045   \n",
       "4                       0.41           0.351                    0.181   \n",
       "\n",
       "  Leak Check Corrosion Crack Detected Function Test Lubrication Status  \\\n",
       "0       Pass    Severe             No          Fail      Needs Reapply   \n",
       "1       Pass  Moderate            Yes          Fail               Good   \n",
       "2       Fail  Moderate            Yes          Pass      Needs Reapply   \n",
       "3       Pass  Moderate             No          Pass               Good   \n",
       "4       Fail  Moderate            Yes          Fail      Needs Reapply   \n",
       "\n",
       "  Pass/Fail  \n",
       "0      Fail  \n",
       "1      Fail  \n",
       "2      Pass  \n",
       "3      Pass  \n",
       "4      Fail  "
      ],
      "text/html": [
       "<div>\n",
       "<style scoped>\n",
       "    .dataframe tbody tr th:only-of-type {\n",
       "        vertical-align: middle;\n",
       "    }\n",
       "\n",
       "    .dataframe tbody tr th {\n",
       "        vertical-align: top;\n",
       "    }\n",
       "\n",
       "    .dataframe thead th {\n",
       "        text-align: right;\n",
       "    }\n",
       "</style>\n",
       "<table border=\"1\" class=\"dataframe\">\n",
       "  <thead>\n",
       "    <tr style=\"text-align: right;\">\n",
       "      <th></th>\n",
       "      <th>Date</th>\n",
       "      <th>Shift</th>\n",
       "      <th>Mold ID</th>\n",
       "      <th>Part Name</th>\n",
       "      <th>Wear Level (%)</th>\n",
       "      <th>Surface Roughness (Ra μm)</th>\n",
       "      <th>Clearance (mm)</th>\n",
       "      <th>Alignment Accuracy (mm)</th>\n",
       "      <th>Leak Check</th>\n",
       "      <th>Corrosion</th>\n",
       "      <th>Crack Detected</th>\n",
       "      <th>Function Test</th>\n",
       "      <th>Lubrication Status</th>\n",
       "      <th>Pass/Fail</th>\n",
       "    </tr>\n",
       "  </thead>\n",
       "  <tbody>\n",
       "    <tr>\n",
       "      <th>0</th>\n",
       "      <td>2025-01-01</td>\n",
       "      <td>Shift 1</td>\n",
       "      <td>MOLD741</td>\n",
       "      <td>Guide Pin</td>\n",
       "      <td>60.8</td>\n",
       "      <td>1.03</td>\n",
       "      <td>0.323</td>\n",
       "      <td>0.076</td>\n",
       "      <td>Pass</td>\n",
       "      <td>Severe</td>\n",
       "      <td>No</td>\n",
       "      <td>Fail</td>\n",
       "      <td>Needs Reapply</td>\n",
       "      <td>Fail</td>\n",
       "    </tr>\n",
       "    <tr>\n",
       "      <th>1</th>\n",
       "      <td>2025-01-01</td>\n",
       "      <td>Shift 1</td>\n",
       "      <td>MOLD742</td>\n",
       "      <td>Core Plate</td>\n",
       "      <td>43.5</td>\n",
       "      <td>0.28</td>\n",
       "      <td>0.339</td>\n",
       "      <td>0.188</td>\n",
       "      <td>Pass</td>\n",
       "      <td>Moderate</td>\n",
       "      <td>Yes</td>\n",
       "      <td>Fail</td>\n",
       "      <td>Good</td>\n",
       "      <td>Fail</td>\n",
       "    </tr>\n",
       "    <tr>\n",
       "      <th>2</th>\n",
       "      <td>2025-01-01</td>\n",
       "      <td>Shift 1</td>\n",
       "      <td>MOLD560</td>\n",
       "      <td>Runner Channel</td>\n",
       "      <td>15.0</td>\n",
       "      <td>0.57</td>\n",
       "      <td>0.418</td>\n",
       "      <td>0.128</td>\n",
       "      <td>Fail</td>\n",
       "      <td>Moderate</td>\n",
       "      <td>Yes</td>\n",
       "      <td>Pass</td>\n",
       "      <td>Needs Reapply</td>\n",
       "      <td>Pass</td>\n",
       "    </tr>\n",
       "    <tr>\n",
       "      <th>3</th>\n",
       "      <td>2025-01-01</td>\n",
       "      <td>Shift 2</td>\n",
       "      <td>MOLD126</td>\n",
       "      <td>Support Pillar</td>\n",
       "      <td>68.7</td>\n",
       "      <td>0.47</td>\n",
       "      <td>0.109</td>\n",
       "      <td>0.045</td>\n",
       "      <td>Pass</td>\n",
       "      <td>Moderate</td>\n",
       "      <td>No</td>\n",
       "      <td>Pass</td>\n",
       "      <td>Good</td>\n",
       "      <td>Pass</td>\n",
       "    </tr>\n",
       "    <tr>\n",
       "      <th>4</th>\n",
       "      <td>2025-01-01</td>\n",
       "      <td>Shift 2</td>\n",
       "      <td>MOLD727</td>\n",
       "      <td>Core Plate</td>\n",
       "      <td>53.7</td>\n",
       "      <td>0.41</td>\n",
       "      <td>0.351</td>\n",
       "      <td>0.181</td>\n",
       "      <td>Fail</td>\n",
       "      <td>Moderate</td>\n",
       "      <td>Yes</td>\n",
       "      <td>Fail</td>\n",
       "      <td>Needs Reapply</td>\n",
       "      <td>Fail</td>\n",
       "    </tr>\n",
       "  </tbody>\n",
       "</table>\n",
       "</div>"
      ]
     },
     "execution_count": 68,
     "metadata": {},
     "output_type": "execute_result"
    }
   ],
   "execution_count": 68
  },
  {
   "metadata": {
    "ExecuteTime": {
     "end_time": "2025-05-15T16:26:02.687580Z",
     "start_time": "2025-05-15T16:26:02.684013Z"
    }
   },
   "cell_type": "code",
   "source": "df.columns",
   "id": "b2be797b8b691a39",
   "outputs": [
    {
     "data": {
      "text/plain": [
       "Index(['Date', 'Shift', 'Mold ID', 'Part Name', 'Wear Level (%)',\n",
       "       'Surface Roughness (Ra μm)', 'Clearance (mm)',\n",
       "       'Alignment Accuracy (mm)', 'Leak Check', 'Corrosion', 'Crack Detected',\n",
       "       'Function Test', 'Lubrication Status', 'Pass/Fail'],\n",
       "      dtype='object')"
      ]
     },
     "execution_count": 69,
     "metadata": {},
     "output_type": "execute_result"
    }
   ],
   "execution_count": 69
  },
  {
   "metadata": {},
   "cell_type": "markdown",
   "source": [
    "### **Problem 1: Count Defective Parts per Day**\n",
    "\n",
    "**Purpose**: Practice using `Counter` to aggregate counts.\n",
    "\n",
    "> Count how many parts failed the final `Pass/Fail` test for each date.\n"
   ],
   "id": "ce5647e534610bcf"
  },
  {
   "metadata": {
    "ExecuteTime": {
     "end_time": "2025-05-15T16:26:02.747248Z",
     "start_time": "2025-05-15T16:26:02.743154Z"
    }
   },
   "cell_type": "code",
   "source": "failures = df[df['Pass/Fail'] == 'Fail']",
   "id": "ff30cafe053eb1be",
   "outputs": [],
   "execution_count": 70
  },
  {
   "metadata": {
    "ExecuteTime": {
     "end_time": "2025-05-15T16:26:02.792821Z",
     "start_time": "2025-05-15T16:26:02.790154Z"
    }
   },
   "cell_type": "code",
   "source": "fail_per_date = Counter(failures['Date'])",
   "id": "aa8e6d47bd0381e4",
   "outputs": [],
   "execution_count": 71
  },
  {
   "metadata": {
    "ExecuteTime": {
     "end_time": "2025-05-15T16:26:02.949130Z",
     "start_time": "2025-05-15T16:26:02.942816Z"
    }
   },
   "cell_type": "code",
   "source": "fail_per_date",
   "id": "2040fe63a54b321",
   "outputs": [
    {
     "data": {
      "text/plain": [
       "Counter({'2025-01-10': 6,\n",
       "         '2025-05-06': 6,\n",
       "         '2025-08-07': 6,\n",
       "         '2025-11-30': 6,\n",
       "         '2025-01-08': 5,\n",
       "         '2025-01-16': 5,\n",
       "         '2025-03-18': 5,\n",
       "         '2025-03-23': 5,\n",
       "         '2025-03-28': 5,\n",
       "         '2025-04-03': 5,\n",
       "         '2025-04-08': 5,\n",
       "         '2025-04-11': 5,\n",
       "         '2025-06-01': 5,\n",
       "         '2025-06-03': 5,\n",
       "         '2025-06-20': 5,\n",
       "         '2025-07-08': 5,\n",
       "         '2025-07-19': 5,\n",
       "         '2025-07-20': 5,\n",
       "         '2025-08-09': 5,\n",
       "         '2025-08-10': 5,\n",
       "         '2025-08-13': 5,\n",
       "         '2025-09-02': 5,\n",
       "         '2025-09-07': 5,\n",
       "         '2025-09-17': 5,\n",
       "         '2025-09-20': 5,\n",
       "         '2025-11-13': 5,\n",
       "         '2025-11-18': 5,\n",
       "         '2025-12-03': 5,\n",
       "         '2025-12-16': 5,\n",
       "         '2025-12-23': 5,\n",
       "         '2025-01-12': 4,\n",
       "         '2025-01-21': 4,\n",
       "         '2025-01-25': 4,\n",
       "         '2025-01-30': 4,\n",
       "         '2025-02-08': 4,\n",
       "         '2025-02-10': 4,\n",
       "         '2025-02-15': 4,\n",
       "         '2025-02-16': 4,\n",
       "         '2025-02-22': 4,\n",
       "         '2025-02-23': 4,\n",
       "         '2025-02-25': 4,\n",
       "         '2025-03-05': 4,\n",
       "         '2025-03-17': 4,\n",
       "         '2025-03-27': 4,\n",
       "         '2025-04-01': 4,\n",
       "         '2025-04-12': 4,\n",
       "         '2025-04-13': 4,\n",
       "         '2025-04-15': 4,\n",
       "         '2025-04-16': 4,\n",
       "         '2025-04-23': 4,\n",
       "         '2025-04-30': 4,\n",
       "         '2025-05-10': 4,\n",
       "         '2025-05-14': 4,\n",
       "         '2025-05-15': 4,\n",
       "         '2025-05-17': 4,\n",
       "         '2025-05-25': 4,\n",
       "         '2025-05-27': 4,\n",
       "         '2025-05-29': 4,\n",
       "         '2025-06-07': 4,\n",
       "         '2025-06-15': 4,\n",
       "         '2025-06-16': 4,\n",
       "         '2025-06-18': 4,\n",
       "         '2025-06-25': 4,\n",
       "         '2025-06-26': 4,\n",
       "         '2025-06-28': 4,\n",
       "         '2025-06-29': 4,\n",
       "         '2025-07-03': 4,\n",
       "         '2025-07-04': 4,\n",
       "         '2025-07-09': 4,\n",
       "         '2025-07-11': 4,\n",
       "         '2025-07-29': 4,\n",
       "         '2025-07-30': 4,\n",
       "         '2025-07-31': 4,\n",
       "         '2025-08-02': 4,\n",
       "         '2025-08-06': 4,\n",
       "         '2025-08-14': 4,\n",
       "         '2025-08-18': 4,\n",
       "         '2025-08-20': 4,\n",
       "         '2025-08-22': 4,\n",
       "         '2025-08-26': 4,\n",
       "         '2025-09-04': 4,\n",
       "         '2025-09-09': 4,\n",
       "         '2025-09-11': 4,\n",
       "         '2025-09-14': 4,\n",
       "         '2025-09-16': 4,\n",
       "         '2025-09-21': 4,\n",
       "         '2025-09-29': 4,\n",
       "         '2025-10-03': 4,\n",
       "         '2025-10-10': 4,\n",
       "         '2025-10-16': 4,\n",
       "         '2025-11-04': 4,\n",
       "         '2025-11-09': 4,\n",
       "         '2025-11-23': 4,\n",
       "         '2025-11-28': 4,\n",
       "         '2025-12-07': 4,\n",
       "         '2025-12-08': 4,\n",
       "         '2025-12-10': 4,\n",
       "         '2025-12-12': 4,\n",
       "         '2025-12-15': 4,\n",
       "         '2025-12-27': 4,\n",
       "         '2025-12-28': 4,\n",
       "         '2025-01-01': 3,\n",
       "         '2025-01-07': 3,\n",
       "         '2025-01-09': 3,\n",
       "         '2025-01-19': 3,\n",
       "         '2025-01-22': 3,\n",
       "         '2025-01-31': 3,\n",
       "         '2025-02-01': 3,\n",
       "         '2025-02-02': 3,\n",
       "         '2025-02-03': 3,\n",
       "         '2025-02-05': 3,\n",
       "         '2025-02-09': 3,\n",
       "         '2025-02-12': 3,\n",
       "         '2025-02-13': 3,\n",
       "         '2025-02-17': 3,\n",
       "         '2025-02-19': 3,\n",
       "         '2025-02-21': 3,\n",
       "         '2025-02-24': 3,\n",
       "         '2025-02-27': 3,\n",
       "         '2025-03-01': 3,\n",
       "         '2025-03-02': 3,\n",
       "         '2025-03-06': 3,\n",
       "         '2025-03-09': 3,\n",
       "         '2025-03-13': 3,\n",
       "         '2025-03-14': 3,\n",
       "         '2025-03-15': 3,\n",
       "         '2025-03-19': 3,\n",
       "         '2025-03-20': 3,\n",
       "         '2025-03-25': 3,\n",
       "         '2025-03-26': 3,\n",
       "         '2025-03-29': 3,\n",
       "         '2025-03-30': 3,\n",
       "         '2025-04-02': 3,\n",
       "         '2025-04-04': 3,\n",
       "         '2025-04-09': 3,\n",
       "         '2025-04-10': 3,\n",
       "         '2025-04-20': 3,\n",
       "         '2025-04-25': 3,\n",
       "         '2025-04-26': 3,\n",
       "         '2025-05-01': 3,\n",
       "         '2025-05-02': 3,\n",
       "         '2025-05-03': 3,\n",
       "         '2025-05-12': 3,\n",
       "         '2025-05-13': 3,\n",
       "         '2025-05-18': 3,\n",
       "         '2025-05-20': 3,\n",
       "         '2025-05-23': 3,\n",
       "         '2025-05-24': 3,\n",
       "         '2025-05-30': 3,\n",
       "         '2025-06-04': 3,\n",
       "         '2025-06-06': 3,\n",
       "         '2025-06-08': 3,\n",
       "         '2025-06-17': 3,\n",
       "         '2025-06-22': 3,\n",
       "         '2025-06-24': 3,\n",
       "         '2025-07-02': 3,\n",
       "         '2025-07-05': 3,\n",
       "         '2025-07-06': 3,\n",
       "         '2025-07-07': 3,\n",
       "         '2025-07-10': 3,\n",
       "         '2025-07-12': 3,\n",
       "         '2025-07-14': 3,\n",
       "         '2025-07-18': 3,\n",
       "         '2025-07-21': 3,\n",
       "         '2025-07-22': 3,\n",
       "         '2025-07-24': 3,\n",
       "         '2025-07-25': 3,\n",
       "         '2025-08-03': 3,\n",
       "         '2025-08-05': 3,\n",
       "         '2025-08-11': 3,\n",
       "         '2025-08-12': 3,\n",
       "         '2025-08-16': 3,\n",
       "         '2025-08-23': 3,\n",
       "         '2025-08-27': 3,\n",
       "         '2025-08-28': 3,\n",
       "         '2025-09-03': 3,\n",
       "         '2025-09-06': 3,\n",
       "         '2025-09-10': 3,\n",
       "         '2025-09-13': 3,\n",
       "         '2025-09-18': 3,\n",
       "         '2025-09-24': 3,\n",
       "         '2025-09-30': 3,\n",
       "         '2025-10-04': 3,\n",
       "         '2025-10-05': 3,\n",
       "         '2025-10-06': 3,\n",
       "         '2025-10-07': 3,\n",
       "         '2025-10-13': 3,\n",
       "         '2025-10-14': 3,\n",
       "         '2025-10-20': 3,\n",
       "         '2025-10-25': 3,\n",
       "         '2025-10-26': 3,\n",
       "         '2025-10-27': 3,\n",
       "         '2025-10-30': 3,\n",
       "         '2025-11-03': 3,\n",
       "         '2025-11-17': 3,\n",
       "         '2025-11-21': 3,\n",
       "         '2025-11-24': 3,\n",
       "         '2025-11-25': 3,\n",
       "         '2025-11-27': 3,\n",
       "         '2025-11-29': 3,\n",
       "         '2025-12-11': 3,\n",
       "         '2025-12-14': 3,\n",
       "         '2025-12-17': 3,\n",
       "         '2025-12-19': 3,\n",
       "         '2025-12-20': 3,\n",
       "         '2025-12-21': 3,\n",
       "         '2025-12-25': 3,\n",
       "         '2025-12-29': 3,\n",
       "         '2025-01-03': 2,\n",
       "         '2025-01-05': 2,\n",
       "         '2025-01-06': 2,\n",
       "         '2025-01-13': 2,\n",
       "         '2025-01-14': 2,\n",
       "         '2025-01-18': 2,\n",
       "         '2025-01-20': 2,\n",
       "         '2025-01-24': 2,\n",
       "         '2025-01-28': 2,\n",
       "         '2025-02-04': 2,\n",
       "         '2025-02-06': 2,\n",
       "         '2025-02-18': 2,\n",
       "         '2025-02-20': 2,\n",
       "         '2025-02-26': 2,\n",
       "         '2025-02-28': 2,\n",
       "         '2025-03-10': 2,\n",
       "         '2025-03-11': 2,\n",
       "         '2025-03-16': 2,\n",
       "         '2025-03-24': 2,\n",
       "         '2025-03-31': 2,\n",
       "         '2025-04-05': 2,\n",
       "         '2025-04-06': 2,\n",
       "         '2025-04-07': 2,\n",
       "         '2025-04-14': 2,\n",
       "         '2025-04-17': 2,\n",
       "         '2025-04-18': 2,\n",
       "         '2025-04-21': 2,\n",
       "         '2025-04-22': 2,\n",
       "         '2025-04-24': 2,\n",
       "         '2025-04-27': 2,\n",
       "         '2025-04-28': 2,\n",
       "         '2025-04-29': 2,\n",
       "         '2025-05-04': 2,\n",
       "         '2025-05-07': 2,\n",
       "         '2025-05-08': 2,\n",
       "         '2025-05-09': 2,\n",
       "         '2025-05-16': 2,\n",
       "         '2025-05-19': 2,\n",
       "         '2025-05-21': 2,\n",
       "         '2025-05-26': 2,\n",
       "         '2025-05-31': 2,\n",
       "         '2025-06-02': 2,\n",
       "         '2025-06-05': 2,\n",
       "         '2025-06-09': 2,\n",
       "         '2025-06-12': 2,\n",
       "         '2025-06-13': 2,\n",
       "         '2025-06-14': 2,\n",
       "         '2025-06-19': 2,\n",
       "         '2025-06-21': 2,\n",
       "         '2025-06-23': 2,\n",
       "         '2025-07-01': 2,\n",
       "         '2025-07-13': 2,\n",
       "         '2025-07-15': 2,\n",
       "         '2025-07-17': 2,\n",
       "         '2025-07-26': 2,\n",
       "         '2025-07-27': 2,\n",
       "         '2025-07-28': 2,\n",
       "         '2025-08-01': 2,\n",
       "         '2025-08-04': 2,\n",
       "         '2025-08-08': 2,\n",
       "         '2025-08-15': 2,\n",
       "         '2025-08-17': 2,\n",
       "         '2025-08-19': 2,\n",
       "         '2025-08-21': 2,\n",
       "         '2025-08-24': 2,\n",
       "         '2025-08-29': 2,\n",
       "         '2025-08-31': 2,\n",
       "         '2025-09-15': 2,\n",
       "         '2025-09-22': 2,\n",
       "         '2025-09-23': 2,\n",
       "         '2025-09-25': 2,\n",
       "         '2025-09-27': 2,\n",
       "         '2025-10-01': 2,\n",
       "         '2025-10-09': 2,\n",
       "         '2025-10-11': 2,\n",
       "         '2025-10-18': 2,\n",
       "         '2025-10-19': 2,\n",
       "         '2025-10-22': 2,\n",
       "         '2025-10-23': 2,\n",
       "         '2025-10-28': 2,\n",
       "         '2025-10-31': 2,\n",
       "         '2025-11-01': 2,\n",
       "         '2025-11-05': 2,\n",
       "         '2025-11-06': 2,\n",
       "         '2025-11-07': 2,\n",
       "         '2025-11-08': 2,\n",
       "         '2025-11-10': 2,\n",
       "         '2025-11-14': 2,\n",
       "         '2025-11-15': 2,\n",
       "         '2025-11-16': 2,\n",
       "         '2025-11-19': 2,\n",
       "         '2025-11-20': 2,\n",
       "         '2025-11-26': 2,\n",
       "         '2025-12-02': 2,\n",
       "         '2025-12-05': 2,\n",
       "         '2025-12-06': 2,\n",
       "         '2025-12-13': 2,\n",
       "         '2025-12-18': 2,\n",
       "         '2025-12-24': 2,\n",
       "         '2025-12-30': 2,\n",
       "         '2025-12-31': 2,\n",
       "         '2025-01-04': 1,\n",
       "         '2025-01-11': 1,\n",
       "         '2025-01-15': 1,\n",
       "         '2025-01-17': 1,\n",
       "         '2025-01-23': 1,\n",
       "         '2025-01-26': 1,\n",
       "         '2025-01-27': 1,\n",
       "         '2025-01-29': 1,\n",
       "         '2025-02-07': 1,\n",
       "         '2025-02-11': 1,\n",
       "         '2025-02-14': 1,\n",
       "         '2025-03-07': 1,\n",
       "         '2025-03-08': 1,\n",
       "         '2025-03-12': 1,\n",
       "         '2025-03-21': 1,\n",
       "         '2025-03-22': 1,\n",
       "         '2025-04-19': 1,\n",
       "         '2025-05-11': 1,\n",
       "         '2025-05-22': 1,\n",
       "         '2025-06-10': 1,\n",
       "         '2025-06-11': 1,\n",
       "         '2025-06-30': 1,\n",
       "         '2025-07-16': 1,\n",
       "         '2025-07-23': 1,\n",
       "         '2025-08-25': 1,\n",
       "         '2025-08-30': 1,\n",
       "         '2025-09-01': 1,\n",
       "         '2025-09-05': 1,\n",
       "         '2025-09-08': 1,\n",
       "         '2025-09-12': 1,\n",
       "         '2025-09-19': 1,\n",
       "         '2025-09-26': 1,\n",
       "         '2025-09-28': 1,\n",
       "         '2025-10-08': 1,\n",
       "         '2025-10-12': 1,\n",
       "         '2025-10-17': 1,\n",
       "         '2025-10-21': 1,\n",
       "         '2025-11-02': 1,\n",
       "         '2025-11-11': 1,\n",
       "         '2025-11-12': 1,\n",
       "         '2025-11-22': 1,\n",
       "         '2025-12-01': 1,\n",
       "         '2025-12-04': 1,\n",
       "         '2025-12-22': 1,\n",
       "         '2025-12-26': 1})"
      ]
     },
     "execution_count": 72,
     "metadata": {},
     "output_type": "execute_result"
    }
   ],
   "execution_count": 72
  },
  {
   "metadata": {},
   "cell_type": "markdown",
   "source": [
    "### **Problem 2: Track Mold Issues with `defaultdict`**\n",
    "\n",
    "**Purpose**: Practice using `defaultdict(set)` for grouped data.\n",
    "\n",
    "> Create a dictionary where each mold ID is the key, and its value is a list of all issues recorded (e.g., if “Leak Check” is “Fail”, “Corrosion” is “Severe”, etc.).\n"
   ],
   "id": "97c71b8820f7c4b2"
  },
  {
   "metadata": {
    "ExecuteTime": {
     "end_time": "2025-05-15T16:26:02.979050Z",
     "start_time": "2025-05-15T16:26:02.976597Z"
    }
   },
   "cell_type": "code",
   "source": "mold_issues = defaultdict(set)",
   "id": "314f7ab6c97930f9",
   "outputs": [],
   "execution_count": 73
  },
  {
   "metadata": {
    "ExecuteTime": {
     "end_time": "2025-05-15T16:26:03.068130Z",
     "start_time": "2025-05-15T16:26:03.018979Z"
    }
   },
   "cell_type": "code",
   "source": [
    "for _, row in df.iterrows():\n",
    "    mold_id = row['Mold ID']\n",
    "    \n",
    "    if row['Leak Check'] == 'Fail':\n",
    "        mold_issues[mold_id].add(row['Leak Check'])\n",
    "    \n",
    "    if row['Corrosion'] in ['Moderate', 'Severe']:\n",
    "        mold_issues[mold_id].add(f'Corrosion: {row[\"Corrosion\"]}')\n",
    "        \n",
    "    if row['Crack Detected'] == 'Yes':\n",
    "        mold_issues[mold_id].add('Crack Detected')\n",
    "        \n",
    "    if row['Function Test'] == 'Fail':\n",
    "        mold_issues[mold_id].add('Function Test Failed')\n",
    "        \n",
    "    if row['Lubrication Status'] == 'Needs Reapply':\n",
    "        mold_issues[mold_id].add('Needs Lubrication')"
   ],
   "id": "fda8be0fb659d394",
   "outputs": [],
   "execution_count": 74
  },
  {
   "metadata": {
    "ExecuteTime": {
     "end_time": "2025-05-15T16:26:03.073677Z",
     "start_time": "2025-05-15T16:26:03.069504Z"
    }
   },
   "cell_type": "code",
   "source": "dict(list(mold_issues.items())[:5])",
   "id": "91f437566379326a",
   "outputs": [
    {
     "data": {
      "text/plain": [
       "{'MOLD741': {'Corrosion: Severe', 'Function Test Failed', 'Needs Lubrication'},\n",
       " 'MOLD742': {'Corrosion: Moderate',\n",
       "  'Corrosion: Severe',\n",
       "  'Crack Detected',\n",
       "  'Function Test Failed',\n",
       "  'Needs Lubrication'},\n",
       " 'MOLD560': {'Corrosion: Moderate',\n",
       "  'Crack Detected',\n",
       "  'Fail',\n",
       "  'Needs Lubrication'},\n",
       " 'MOLD126': {'Corrosion: Moderate'},\n",
       " 'MOLD727': {'Corrosion: Moderate',\n",
       "  'Corrosion: Severe',\n",
       "  'Crack Detected',\n",
       "  'Fail',\n",
       "  'Function Test Failed',\n",
       "  'Needs Lubrication'}}"
      ]
     },
     "execution_count": 75,
     "metadata": {},
     "output_type": "execute_result"
    }
   ],
   "execution_count": 75
  },
  {
   "metadata": {},
   "cell_type": "markdown",
   "source": [
    "# What is `defaultdict`?\n",
    "\n",
    "`defaultdict` is a special kind of dictionary from Python’s `collections` module.\n",
    "It **automatically creates a default value** for any key that doesn't exist **when accessed**.\n",
    "\n",
    "\n",
    "\n",
    "### Example Comparison\n",
    "\n",
    "#### Using regular `dict`:\n",
    "\n",
    "```python\n",
    "issues = {}\n",
    "issues['MOLD741'].append('Leak Check Failed')  # ERROR! Key doesn't exist\n",
    "```\n",
    "\n",
    "You would get:\n",
    "\n",
    "```\n",
    "KeyError: 'MOLD741'\n",
    "```\n",
    "\n",
    "#### Using `defaultdict(list)` or `defaultdict(set)`:\n",
    "\n",
    "```python\n",
    "from collections import defaultdict\n",
    "\n",
    "issues = defaultdict(list)\n",
    "issues['MOLD741'].append('Leak Check Failed')  # Works automatically\n",
    "```\n",
    "\n",
    "It **creates a new empty list** for `'MOLD741'` the first time it's accessed.\n",
    "\n",
    "\n",
    "\n",
    "## What has `defaultdict` done better than regular `dict`?\n",
    "\n",
    "| Feature                                            | `dict` | `defaultdict` |\n",
    "| -------------------------------------------------- | ------ | ------------- |\n",
    "| Needs manual key checking                          | ✅      | ❌             |\n",
    "| Auto-creates empty value                           | ❌      | ✅             |\n",
    "| Cleaner syntax for appending                       | ❌      | ✅             |\n",
    "| Better for grouping/aggregation                    | ❌      | ✅             |\n",
    "| Works with any default type (list, set, int, etc.) | ❌      | ✅             |\n",
    "\n",
    "\n",
    "\n",
    "## Why is `defaultdict(set)` useful for **this mold inspection problem**?\n",
    "\n",
    "In this specific case:\n",
    "\n",
    "* Each **Mold ID** (like `'MOLD741'`) maps to a **set of issues**.\n",
    "* With `defaultdict(set)`, you don't need to check if the mold already has an entry:\n",
    "\n",
    "```python\n",
    "mold_issues[mold_id].add('Function Test Failed')  # Automatically works\n",
    "```\n",
    "\n",
    "Using a plain `dict` would require this extra check every time:\n",
    "\n",
    "```python\n",
    "if mold_id not in mold_issues:\n",
    "    mold_issues[mold_id] = set()\n",
    "mold_issues[mold_id].add('Function Test Failed')\n",
    "```\n",
    "\n",
    "That's more code and easier to mess up.\n",
    "\n",
    "\n",
    "\n",
    "## Summary: Should You Always Use `defaultdict`?\n",
    "\n",
    "Not always. But if you:\n",
    "\n",
    "* Need to **group** things by a key\n",
    "* Want to **append**, **extend**, or **add** to lists/sets/counters\n",
    "* Are **tired of writing key-checking code**\n",
    "\n",
    "Then `defaultdict` is your best friend."
   ],
   "id": "7a96c7395093db8a"
  },
  {
   "metadata": {},
   "cell_type": "markdown",
   "source": [
    "### **Problem 2.1: Group Parts by Mold ID**\n",
    "\n",
    "**Purpose**: Practice using `defaultdict(set)` for grouping.\n",
    "\n",
    "> Create a dictionary where each **Mold ID** is the key, and the value is a list of **part names** it has produced over time.\n",
    "\n",
    "Use `defaultdict(set)`. Avoid using any `if key not in dict` logic."
   ],
   "id": "32d33577f2b91831"
  },
  {
   "metadata": {
    "ExecuteTime": {
     "end_time": "2025-05-15T16:26:03.103940Z",
     "start_time": "2025-05-15T16:26:03.101416Z"
    }
   },
   "cell_type": "code",
   "source": "part_names = defaultdict(set)",
   "id": "28c5edaf0db36673",
   "outputs": [],
   "execution_count": 76
  },
  {
   "metadata": {
    "ExecuteTime": {
     "end_time": "2025-05-15T16:26:03.171257Z",
     "start_time": "2025-05-15T16:26:03.133493Z"
    }
   },
   "cell_type": "code",
   "source": [
    "for _, row in df.iterrows():\n",
    "    mold_id = row['Mold ID']\n",
    "    part_names[mold_id].add((row['Part Name']))\n",
    "    "
   ],
   "id": "2c2b10dd0ac172bf",
   "outputs": [],
   "execution_count": 77
  },
  {
   "metadata": {
    "ExecuteTime": {
     "end_time": "2025-05-15T16:26:03.220905Z",
     "start_time": "2025-05-15T16:26:03.217244Z"
    }
   },
   "cell_type": "code",
   "source": "dict(list(part_names.items())[:3])",
   "id": "ec2accf968bb4252",
   "outputs": [
    {
     "data": {
      "text/plain": [
       "{'MOLD741': {'Guide Pin'},\n",
       " 'MOLD742': {'Cavity Plate', 'Core Plate', 'Sprue Bushing'},\n",
       " 'MOLD560': {'Runner Channel'}}"
      ]
     },
     "execution_count": 78,
     "metadata": {},
     "output_type": "execute_result"
    }
   ],
   "execution_count": 78
  },
  {
   "metadata": {
    "ExecuteTime": {
     "end_time": "2025-05-15T16:26:03.235655Z",
     "start_time": "2025-05-15T16:26:03.232851Z"
    }
   },
   "cell_type": "code",
   "source": [
    "# convert set to list\n",
    "part_names_cleaned = {mold: list(parts) for mold, parts in part_names.items()}"
   ],
   "id": "e3c1d4ac080984a7",
   "outputs": [],
   "execution_count": 79
  },
  {
   "metadata": {
    "ExecuteTime": {
     "end_time": "2025-05-15T16:26:03.272343Z",
     "start_time": "2025-05-15T16:26:03.268777Z"
    }
   },
   "cell_type": "code",
   "source": "dict(list(part_names_cleaned.items())[:3])",
   "id": "90be3573817346f3",
   "outputs": [
    {
     "data": {
      "text/plain": [
       "{'MOLD741': ['Guide Pin'],\n",
       " 'MOLD742': ['Cavity Plate', 'Sprue Bushing', 'Core Plate'],\n",
       " 'MOLD560': ['Runner Channel']}"
      ]
     },
     "execution_count": 80,
     "metadata": {},
     "output_type": "execute_result"
    }
   ],
   "execution_count": 80
  },
  {
   "metadata": {},
   "cell_type": "markdown",
   "source": [
    "### **Problem 2.2: Track All Days a Mold Had a Lubrication Problem**\n",
    "\n",
    "**Purpose**: Practice using `defaultdict(set)` to collect **unique dates**.\n",
    "\n",
    "> Create a dictionary where each **Mold ID** maps to a **set of dates** when the **\"Lubrication Status\" was \"Needs Reapply\"**.\n",
    "\n",
    "Use `defaultdict(set)` to store only the date, ensuring no duplicate dates for any mold."
   ],
   "id": "81c83915fce07838"
  },
  {
   "metadata": {
    "ExecuteTime": {
     "end_time": "2025-05-15T16:26:03.319464Z",
     "start_time": "2025-05-15T16:26:03.317287Z"
    }
   },
   "cell_type": "code",
   "source": "lubrication_reapply_dates = defaultdict(set)",
   "id": "888dd160ab40408",
   "outputs": [],
   "execution_count": 81
  },
  {
   "metadata": {
    "ExecuteTime": {
     "end_time": "2025-05-15T16:26:03.398743Z",
     "start_time": "2025-05-15T16:26:03.361139Z"
    }
   },
   "cell_type": "code",
   "source": [
    "for _, row in df.iterrows():\n",
    "    mold_id = row['Mold ID']\n",
    "    \n",
    "    if row['Lubrication Status'] == 'Needs Reapply':\n",
    "        lubrication_reapply_dates[mold_id].add(row['Date'])"
   ],
   "id": "2e406c0c0d41667a",
   "outputs": [],
   "execution_count": 82
  },
  {
   "metadata": {
    "ExecuteTime": {
     "end_time": "2025-05-15T16:26:03.447742Z",
     "start_time": "2025-05-15T16:26:03.443685Z"
    }
   },
   "cell_type": "code",
   "source": "dict(list(lubrication_reapply_dates.items())[:3])",
   "id": "3f66607b2673f095",
   "outputs": [
    {
     "data": {
      "text/plain": [
       "{'MOLD741': {'2025-01-01',\n",
       "  '2025-06-06',\n",
       "  '2025-09-16',\n",
       "  '2025-09-29',\n",
       "  '2025-11-13',\n",
       "  '2025-12-11'},\n",
       " 'MOLD560': {'2025-01-01',\n",
       "  '2025-02-12',\n",
       "  '2025-04-07',\n",
       "  '2025-05-02',\n",
       "  '2025-05-17',\n",
       "  '2025-12-13'},\n",
       " 'MOLD727': {'2025-01-01',\n",
       "  '2025-01-06',\n",
       "  '2025-04-17',\n",
       "  '2025-06-03',\n",
       "  '2025-11-04',\n",
       "  '2025-12-16',\n",
       "  '2025-12-20'}}"
      ]
     },
     "execution_count": 83,
     "metadata": {},
     "output_type": "execute_result"
    }
   ],
   "execution_count": 83
  },
  {
   "metadata": {},
   "cell_type": "markdown",
   "source": [
    "### **Problem 2.3: Count All Issue Types per Mold ID**\n",
    "\n",
    "**Purpose**: Practice using `defaultdict(Counter)` for multi-category aggregation.\n",
    "\n",
    "> Build a dictionary where each **Mold ID** is a key, and the value is a `Counter` object tallying different issue types (like `\"Leak Check Failed\"`, `\"Crack Detected\"`).\n",
    "\n",
    "Use nested `defaultdict(Counter)` to maintain a count of issue types per mold."
   ],
   "id": "97d1dfc7439e9a58"
  },
  {
   "metadata": {},
   "cell_type": "markdown",
   "source": [
    "## You’re about to learn one of the most powerful patterns in Python: defaultdict(Counter).\n",
    "\n",
    "### What does defaultdict(Counter) mean?\n",
    "It means:\n",
    "\n",
    "For every new Mold ID, Python automatically gives you an empty Counter() object.\n",
    "\n",
    "Then you can do += 1 to tally issue types — no need to check if keys exist."
   ],
   "id": "a32a60078e467699"
  },
  {
   "metadata": {
    "ExecuteTime": {
     "end_time": "2025-05-15T16:26:03.476490Z",
     "start_time": "2025-05-15T16:26:03.474107Z"
    }
   },
   "cell_type": "code",
   "source": "mold_issues_counter = defaultdict(Counter)",
   "id": "e8e1bf963d20eb8a",
   "outputs": [],
   "execution_count": 84
  },
  {
   "metadata": {
    "ExecuteTime": {
     "end_time": "2025-05-15T16:26:03.539469Z",
     "start_time": "2025-05-15T16:26:03.490093Z"
    }
   },
   "cell_type": "code",
   "source": [
    "for _, row in df.iterrows():\n",
    "    mold_id = row['Mold ID']\n",
    "    \n",
    "    if row['Leak Check'] == 'Fail':\n",
    "        mold_issues_counter[mold_id]['Leak Check Failed'] += 1\n",
    "        \n",
    "    if row['Corrosion'] in ['Moderate', 'Severe']:\n",
    "        mold_issues_counter[mold_id][f'Corrosion: {row[\"Corrosion\"]}'] += 1\n",
    "        \n",
    "    if row['Crack Detected'] == 'Yes':\n",
    "        mold_issues_counter[mold_id]['Crack Detected'] += 1\n",
    "        \n",
    "    if row['Function Test'] == 'Fail':\n",
    "        mold_issues_counter[mold_id][f'Function Test Failed'] += 1\n",
    "        \n",
    "    if row['Lubrication Status'] == 'Needs Reapply':\n",
    "        mold_issues_counter[mold_id][f'Needs Lubrication'] += 1"
   ],
   "id": "4d25321d4ed0d11b",
   "outputs": [],
   "execution_count": 85
  },
  {
   "metadata": {
    "ExecuteTime": {
     "end_time": "2025-05-15T16:26:03.544185Z",
     "start_time": "2025-05-15T16:26:03.540680Z"
    }
   },
   "cell_type": "code",
   "source": "dict(list(mold_issues_counter.items())[:3])",
   "id": "a8f9255a13e6e014",
   "outputs": [
    {
     "data": {
      "text/plain": [
       "{'MOLD741': Counter({'Corrosion: Severe': 6,\n",
       "          'Function Test Failed': 6,\n",
       "          'Needs Lubrication': 6}),\n",
       " 'MOLD742': Counter({'Function Test Failed': 19,\n",
       "          'Corrosion: Moderate': 15,\n",
       "          'Crack Detected': 12,\n",
       "          'Needs Lubrication': 7,\n",
       "          'Corrosion: Severe': 4}),\n",
       " 'MOLD560': Counter({'Leak Check Failed': 6,\n",
       "          'Corrosion: Moderate': 6,\n",
       "          'Crack Detected': 6,\n",
       "          'Needs Lubrication': 6})}"
      ]
     },
     "execution_count": 86,
     "metadata": {},
     "output_type": "execute_result"
    }
   ],
   "execution_count": 86
  },
  {
   "metadata": {},
   "cell_type": "markdown",
   "source": [
    "### **Problem 2.4: Count Inspections per Part Name**\n",
    "\n",
    "**Purpose**: Practice using `defaultdict(int)` for simple counting.\n",
    "\n",
    "> Count how many times each **Part Name** appears in the dataset using `defaultdict(int)`."
   ],
   "id": "4c4d8addef4fe6f9"
  },
  {
   "metadata": {
    "ExecuteTime": {
     "end_time": "2025-05-15T16:26:03.565905Z",
     "start_time": "2025-05-15T16:26:03.562907Z"
    }
   },
   "cell_type": "code",
   "source": "part_names_count = defaultdict(int)",
   "id": "f92f843148143605",
   "outputs": [],
   "execution_count": 87
  },
  {
   "metadata": {
    "ExecuteTime": {
     "end_time": "2025-05-15T16:26:03.632661Z",
     "start_time": "2025-05-15T16:26:03.598550Z"
    }
   },
   "cell_type": "code",
   "source": [
    "for _, row in df.iterrows():\n",
    "    part_names_count[row['Part Name']] += 1"
   ],
   "id": "be822cc1f025321d",
   "outputs": [],
   "execution_count": 88
  },
  {
   "metadata": {
    "ExecuteTime": {
     "end_time": "2025-05-15T16:26:03.637259Z",
     "start_time": "2025-05-15T16:26:03.634102Z"
    }
   },
   "cell_type": "code",
   "source": "dict(list(part_names_count.items())[:3])",
   "id": "4efa98d65287ccb3",
   "outputs": [
    {
     "data": {
      "text/plain": [
       "{'Guide Pin': 104, 'Core Plate': 138, 'Runner Channel': 116}"
      ]
     },
     "execution_count": 89,
     "metadata": {},
     "output_type": "execute_result"
    }
   ],
   "execution_count": 89
  },
  {
   "metadata": {},
   "cell_type": "markdown",
   "source": [
    "### **Problem 2.5: Sum Total Wear Level per Mold**\n",
    "\n",
    "**Purpose**: Practice using `defaultdict(float)` for accumulating numerical values.\n",
    "\n",
    "> For each **Mold ID**, compute the **total Wear Level (%)** across all its inspections."
   ],
   "id": "2f217638e2dda162"
  },
  {
   "metadata": {
    "ExecuteTime": {
     "end_time": "2025-05-15T16:26:03.679364Z",
     "start_time": "2025-05-15T16:26:03.676569Z"
    }
   },
   "cell_type": "code",
   "source": "total_wear_level = defaultdict(float)",
   "id": "e801ed5036ae87f",
   "outputs": [],
   "execution_count": 90
  },
  {
   "metadata": {
    "ExecuteTime": {
     "end_time": "2025-05-15T16:26:03.743351Z",
     "start_time": "2025-05-15T16:26:03.705987Z"
    }
   },
   "cell_type": "code",
   "source": [
    "for _, row in df.iterrows():\n",
    "    total_wear_level[row['Mold ID']] += row['Wear Level (%)']\n",
    "    "
   ],
   "id": "fedbe10f13a00571",
   "outputs": [],
   "execution_count": 91
  },
  {
   "metadata": {
    "ExecuteTime": {
     "end_time": "2025-05-15T16:26:03.757316Z",
     "start_time": "2025-05-15T16:26:03.753898Z"
    }
   },
   "cell_type": "code",
   "source": "dict(list(total_wear_level.items())[:3])",
   "id": "a9d1b03c2a7d116e",
   "outputs": [
    {
     "data": {
      "text/plain": [
       "{'MOLD741': 364.8, 'MOLD742': 846.2, 'MOLD560': 90.0}"
      ]
     },
     "execution_count": 92,
     "metadata": {},
     "output_type": "execute_result"
    }
   ],
   "execution_count": 92
  },
  {
   "metadata": {},
   "cell_type": "markdown",
   "source": [
    "### **Problem 2.6: Store Latest Function Test by Date**\n",
    "\n",
    "**Purpose**: Practice using `defaultdict(dict)` to hold structured values.\n",
    "\n",
    "> Create a dictionary where each **Mold ID** maps to another dictionary of `{Date: Function Test}`."
   ],
   "id": "ee256c0571bc8d85"
  },
  {
   "metadata": {
    "ExecuteTime": {
     "end_time": "2025-05-15T16:26:03.795391Z",
     "start_time": "2025-05-15T16:26:03.792805Z"
    }
   },
   "cell_type": "code",
   "source": "function_test_results = defaultdict(dict)",
   "id": "63f7b67c4ba7475b",
   "outputs": [],
   "execution_count": 93
  },
  {
   "metadata": {
    "ExecuteTime": {
     "end_time": "2025-05-15T16:26:03.879786Z",
     "start_time": "2025-05-15T16:26:03.838942Z"
    }
   },
   "cell_type": "code",
   "source": [
    "for _, row in df.iterrows():\n",
    "    mold = row['Mold ID']\n",
    "    date = row['Date']\n",
    "    function_test_results[mold][date] = row['Function Test']"
   ],
   "id": "4c8ac650a36d02bd",
   "outputs": [],
   "execution_count": 94
  },
  {
   "metadata": {
    "ExecuteTime": {
     "end_time": "2025-05-15T16:26:03.884784Z",
     "start_time": "2025-05-15T16:26:03.881224Z"
    }
   },
   "cell_type": "code",
   "source": "dict(list(function_test_results.items())[:3])",
   "id": "7b5a53d3f3834d4b",
   "outputs": [
    {
     "data": {
      "text/plain": [
       "{'MOLD741': {'2025-01-01': 'Fail',\n",
       "  '2025-06-06': 'Fail',\n",
       "  '2025-09-16': 'Fail',\n",
       "  '2025-09-29': 'Fail',\n",
       "  '2025-11-13': 'Fail',\n",
       "  '2025-12-11': 'Fail'},\n",
       " 'MOLD742': {'2025-01-01': 'Fail',\n",
       "  '2025-01-31': 'Fail',\n",
       "  '2025-02-07': 'Fail',\n",
       "  '2025-02-19': 'Fail',\n",
       "  '2025-04-16': 'Fail',\n",
       "  '2025-06-05': 'Fail',\n",
       "  '2025-06-15': 'Fail',\n",
       "  '2025-07-03': 'Fail',\n",
       "  '2025-07-12': 'Fail',\n",
       "  '2025-08-27': 'Fail',\n",
       "  '2025-09-12': 'Fail',\n",
       "  '2025-10-11': 'Fail',\n",
       "  '2025-10-26': 'Fail',\n",
       "  '2025-11-01': 'Fail',\n",
       "  '2025-11-03': 'Fail',\n",
       "  '2025-11-06': 'Fail',\n",
       "  '2025-11-18': 'Fail',\n",
       "  '2025-11-23': 'Fail',\n",
       "  '2025-12-20': 'Fail'},\n",
       " 'MOLD560': {'2025-01-01': 'Pass',\n",
       "  '2025-02-12': 'Pass',\n",
       "  '2025-04-07': 'Pass',\n",
       "  '2025-05-02': 'Pass',\n",
       "  '2025-05-17': 'Pass',\n",
       "  '2025-12-13': 'Pass'}}"
      ]
     },
     "execution_count": 95,
     "metadata": {},
     "output_type": "execute_result"
    }
   ],
   "execution_count": 95
  },
  {
   "metadata": {},
   "cell_type": "markdown",
   "source": [
    "### **Problem 2.7: Keep Last 5 Roughness Values Per Mold**\n",
    "\n",
    "**Purpose**: Practice using `defaultdict(deque)` with a `maxlen`.\n",
    "\n",
    "> For each **Mold ID**, track the **last 5 surface roughness readings** using a sliding window."
   ],
   "id": "9b7d638ac29ad741"
  },
  {
   "metadata": {
    "ExecuteTime": {
     "end_time": "2025-05-15T16:26:03.898091Z",
     "start_time": "2025-05-15T16:26:03.895414Z"
    }
   },
   "cell_type": "code",
   "source": "surface_roughness = defaultdict(lambda: deque(maxlen=5))",
   "id": "9a32a0efa4fff38",
   "outputs": [],
   "execution_count": 96
  },
  {
   "metadata": {
    "ExecuteTime": {
     "end_time": "2025-05-15T16:26:03.961216Z",
     "start_time": "2025-05-15T16:26:03.920254Z"
    }
   },
   "cell_type": "code",
   "source": [
    "for _, row in df.iterrows():\n",
    "    surface_roughness[row['Mold ID']].append(row['Surface Roughness (Ra μm)'])"
   ],
   "id": "1383d25f05f12386",
   "outputs": [],
   "execution_count": 97
  },
  {
   "metadata": {
    "ExecuteTime": {
     "end_time": "2025-05-15T16:26:03.965640Z",
     "start_time": "2025-05-15T16:26:03.962234Z"
    }
   },
   "cell_type": "code",
   "source": "dict(list(surface_roughness.items())[:3])",
   "id": "feac61d787305f8",
   "outputs": [
    {
     "data": {
      "text/plain": [
       "{'MOLD741': deque([1.03, 1.03, 1.03, 1.03, 1.03], maxlen=5),\n",
       " 'MOLD742': deque([0.28, 0.28, 0.28, 0.28, 0.15], maxlen=5),\n",
       " 'MOLD560': deque([0.57, 0.57, 0.57, 0.57, 0.57], maxlen=5)}"
      ]
     },
     "execution_count": 98,
     "metadata": {},
     "output_type": "execute_result"
    }
   ],
   "execution_count": 98
  },
  {
   "metadata": {},
   "cell_type": "markdown",
   "source": [
    "### Explanation:\n",
    "deque(maxlen=5) maintains a sliding window of the last 5 items.\n",
    "\n",
    "When the 6th value is added, the oldest one is automatically removed."
   ],
   "id": "c642ee1a10c2832c"
  },
  {
   "metadata": {},
   "cell_type": "markdown",
   "source": [
    "### **Problem 2.8: Build Nested Inspection Count by Shift and Mold**\n",
    "\n",
    "**Purpose**: Practice using nested `defaultdict(lambda: defaultdict(int))`.\n",
    "\n",
    "> Build a structure like:\n",
    "\n",
    "```python\n",
    "{\n",
    "  'Shift 1': {'MOLD741': 12, 'MOLD742': 15},\n",
    "  'Shift 2': {'MOLD741': 10}\n",
    "}\n",
    "```"
   ],
   "id": "f956bd576c08c875"
  },
  {
   "metadata": {
    "ExecuteTime": {
     "end_time": "2025-05-15T16:26:04.011133Z",
     "start_time": "2025-05-15T16:26:04.007916Z"
    }
   },
   "cell_type": "code",
   "source": "shift_mold_total = defaultdict(lambda: defaultdict(int))",
   "id": "7aaad22f1a6d74e7",
   "outputs": [],
   "execution_count": 99
  },
  {
   "metadata": {
    "ExecuteTime": {
     "end_time": "2025-05-15T16:26:04.064002Z",
     "start_time": "2025-05-15T16:26:04.028458Z"
    }
   },
   "cell_type": "code",
   "source": [
    "for _, row in df.iterrows():\n",
    "    shift_mold_total[row['Shift']][row['Mold ID']] += 1"
   ],
   "id": "e6a130d2ab0d0558",
   "outputs": [],
   "execution_count": 100
  },
  {
   "metadata": {
    "ExecuteTime": {
     "end_time": "2025-05-15T16:26:04.073228Z",
     "start_time": "2025-05-15T16:26:04.065294Z"
    }
   },
   "cell_type": "code",
   "source": "dict(list(shift_mold_total.items())[:3])",
   "id": "6f995371891e992f",
   "outputs": [
    {
     "data": {
      "text/plain": [
       "{'Shift 1': defaultdict(int,\n",
       "             {'MOLD741': 3,\n",
       "              'MOLD742': 9,\n",
       "              'MOLD560': 2,\n",
       "              'MOLD255': 7,\n",
       "              'MOLD522': 4,\n",
       "              'MOLD903': 1,\n",
       "              'MOLD565': 9,\n",
       "              'MOLD360': 3,\n",
       "              'MOLD772': 11,\n",
       "              'MOLD541': 3,\n",
       "              'MOLD226': 4,\n",
       "              'MOLD973': 4,\n",
       "              'MOLD474': 4,\n",
       "              'MOLD203': 3,\n",
       "              'MOLD666': 5,\n",
       "              'MOLD431': 3,\n",
       "              'MOLD752': 9,\n",
       "              'MOLD727': 3,\n",
       "              'MOLD156': 7,\n",
       "              'MOLD503': 11,\n",
       "              'MOLD365': 2,\n",
       "              'MOLD744': 1,\n",
       "              'MOLD462': 1,\n",
       "              'MOLD271': 10,\n",
       "              'MOLD553': 4,\n",
       "              'MOLD880': 3,\n",
       "              'MOLD458': 2,\n",
       "              'MOLD312': 7,\n",
       "              'MOLD771': 3,\n",
       "              'MOLD142': 5,\n",
       "              'MOLD279': 2,\n",
       "              'MOLD231': 8,\n",
       "              'MOLD317': 5,\n",
       "              'MOLD397': 3,\n",
       "              'MOLD827': 3,\n",
       "              'MOLD423': 4,\n",
       "              'MOLD800': 6,\n",
       "              'MOLD852': 3,\n",
       "              'MOLD441': 2,\n",
       "              'MOLD935': 4,\n",
       "              'MOLD507': 9,\n",
       "              'MOLD268': 5,\n",
       "              'MOLD338': 3,\n",
       "              'MOLD748': 4,\n",
       "              'MOLD587': 12,\n",
       "              'MOLD674': 6,\n",
       "              'MOLD348': 3,\n",
       "              'MOLD908': 3,\n",
       "              'MOLD882': 5,\n",
       "              'MOLD806': 4,\n",
       "              'MOLD481': 3,\n",
       "              'MOLD435': 3,\n",
       "              'MOLD335': 4,\n",
       "              'MOLD998': 10,\n",
       "              'MOLD821': 7,\n",
       "              'MOLD406': 4,\n",
       "              'MOLD970': 3,\n",
       "              'MOLD897': 6,\n",
       "              'MOLD749': 10,\n",
       "              'MOLD173': 3,\n",
       "              'MOLD955': 6,\n",
       "              'MOLD706': 5,\n",
       "              'MOLD634': 5,\n",
       "              'MOLD562': 3,\n",
       "              'MOLD276': 3,\n",
       "              'MOLD325': 3,\n",
       "              'MOLD958': 1,\n",
       "              'MOLD995': 3,\n",
       "              'MOLD188': 2,\n",
       "              'MOLD189': 11,\n",
       "              'MOLD191': 4,\n",
       "              'MOLD134': 1,\n",
       "              'MOLD129': 7,\n",
       "              'MOLD327': 3,\n",
       "              'MOLD404': 2,\n",
       "              'MOLD654': 4,\n",
       "              'MOLD321': 3,\n",
       "              'MOLD683': 2,\n",
       "              'MOLD883': 4,\n",
       "              'MOLD802': 3,\n",
       "              'MOLD138': 5,\n",
       "              'MOLD988': 7,\n",
       "              'MOLD447': 1,\n",
       "              'MOLD950': 2,\n",
       "              'MOLD917': 2,\n",
       "              'MOLD463': 2,\n",
       "              'MOLD164': 4,\n",
       "              'MOLD282': 6,\n",
       "              'MOLD239': 3,\n",
       "              'MOLD288': 6,\n",
       "              'MOLD403': 5,\n",
       "              'MOLD307': 1,\n",
       "              'MOLD639': 3,\n",
       "              'MOLD845': 4,\n",
       "              'MOLD514': 3,\n",
       "              'MOLD584': 4,\n",
       "              'MOLD646': 3,\n",
       "              'MOLD530': 2,\n",
       "              'MOLD505': 3,\n",
       "              'MOLD811': 3,\n",
       "              'MOLD943': 5,\n",
       "              'MOLD913': 5,\n",
       "              'MOLD267': 3,\n",
       "              'MOLD535': 2,\n",
       "              'MOLD150': 4,\n",
       "              'MOLD412': 6,\n",
       "              'MOLD999': 4,\n",
       "              'MOLD101': 4,\n",
       "              'MOLD198': 4,\n",
       "              'MOLD401': 2,\n",
       "              'MOLD823': 1,\n",
       "              'MOLD296': 3,\n",
       "              'MOLD339': 6,\n",
       "              'MOLD311': 2,\n",
       "              'MOLD420': 2,\n",
       "              'MOLD765': 4,\n",
       "              'MOLD782': 4,\n",
       "              'MOLD374': 4,\n",
       "              'MOLD746': 2,\n",
       "              'MOLD215': 2,\n",
       "              'MOLD181': 2,\n",
       "              'MOLD278': 6,\n",
       "              'MOLD466': 5,\n",
       "              'MOLD433': 4,\n",
       "              'MOLD609': 6,\n",
       "              'MOLD551': 1,\n",
       "              'MOLD915': 3,\n",
       "              'MOLD424': 5,\n",
       "              'MOLD389': 5,\n",
       "              'MOLD316': 4,\n",
       "              'MOLD280': 9,\n",
       "              'MOLD781': 6,\n",
       "              'MOLD110': 2,\n",
       "              'MOLD283': 5,\n",
       "              'MOLD819': 7,\n",
       "              'MOLD636': 4,\n",
       "              'MOLD961': 2,\n",
       "              'MOLD722': 6,\n",
       "              'MOLD964': 5,\n",
       "              'MOLD871': 9,\n",
       "              'MOLD211': 4,\n",
       "              'MOLD124': 6,\n",
       "              'MOLD473': 5,\n",
       "              'MOLD186': 2,\n",
       "              'MOLD600': 4,\n",
       "              'MOLD715': 4,\n",
       "              'MOLD835': 3,\n",
       "              'MOLD702': 4,\n",
       "              'MOLD693': 3,\n",
       "              'MOLD235': 2,\n",
       "              'MOLD577': 2,\n",
       "              'MOLD586': 5,\n",
       "              'MOLD996': 5,\n",
       "              'MOLD592': 2,\n",
       "              'MOLD333': 4,\n",
       "              'MOLD528': 4,\n",
       "              'MOLD527': 5,\n",
       "              'MOLD730': 6,\n",
       "              'MOLD113': 4,\n",
       "              'MOLD783': 3,\n",
       "              'MOLD704': 5,\n",
       "              'MOLD502': 4,\n",
       "              'MOLD938': 3,\n",
       "              'MOLD489': 2,\n",
       "              'MOLD830': 3,\n",
       "              'MOLD755': 2,\n",
       "              'MOLD728': 4,\n",
       "              'MOLD559': 4,\n",
       "              'MOLD171': 1,\n",
       "              'MOLD620': 4,\n",
       "              'MOLD350': 1,\n",
       "              'MOLD687': 2,\n",
       "              'MOLD861': 4,\n",
       "              'MOLD410': 4,\n",
       "              'MOLD648': 1,\n",
       "              'MOLD941': 5,\n",
       "              'MOLD829': 1,\n",
       "              'MOLD708': 3,\n",
       "              'MOLD937': 3,\n",
       "              'MOLD885': 1,\n",
       "              'MOLD575': 4,\n",
       "              'MOLD184': 1,\n",
       "              'MOLD440': 4,\n",
       "              'MOLD754': 1,\n",
       "              'MOLD135': 3,\n",
       "              'MOLD709': 2,\n",
       "              'MOLD770': 3,\n",
       "              'MOLD632': 2,\n",
       "              'MOLD801': 5,\n",
       "              'MOLD840': 7,\n",
       "              'MOLD873': 3,\n",
       "              'MOLD692': 5,\n",
       "              'MOLD375': 5,\n",
       "              'MOLD566': 5,\n",
       "              'MOLD162': 1,\n",
       "              'MOLD936': 2,\n",
       "              'MOLD206': 4,\n",
       "              'MOLD102': 4,\n",
       "              'MOLD572': 2,\n",
       "              'MOLD442': 7,\n",
       "              'MOLD464': 1,\n",
       "              'MOLD207': 7,\n",
       "              'MOLD815': 1,\n",
       "              'MOLD978': 2,\n",
       "              'MOLD252': 1,\n",
       "              'MOLD921': 4,\n",
       "              'MOLD155': 1,\n",
       "              'MOLD100': 2,\n",
       "              'MOLD985': 1,\n",
       "              'MOLD669': 2,\n",
       "              'MOLD292': 3,\n",
       "              'MOLD665': 6,\n",
       "              'MOLD388': 3,\n",
       "              'MOLD201': 5,\n",
       "              'MOLD816': 2,\n",
       "              'MOLD963': 4,\n",
       "              'MOLD939': 3,\n",
       "              'MOLD272': 4,\n",
       "              'MOLD117': 2,\n",
       "              'MOLD865': 6,\n",
       "              'MOLD847': 3,\n",
       "              'MOLD504': 2,\n",
       "              'MOLD678': 2,\n",
       "              'MOLD862': 5,\n",
       "              'MOLD179': 2,\n",
       "              'MOLD855': 4,\n",
       "              'MOLD729': 3,\n",
       "              'MOLD450': 1,\n",
       "              'MOLD624': 1,\n",
       "              'MOLD197': 3,\n",
       "              'MOLD902': 3,\n",
       "              'MOLD318': 1,\n",
       "              'MOLD187': 4,\n",
       "              'MOLD766': 2,\n",
       "              'MOLD154': 2,\n",
       "              'MOLD700': 2,\n",
       "              'MOLD793': 2,\n",
       "              'MOLD686': 3,\n",
       "              'MOLD430': 2,\n",
       "              'MOLD200': 1,\n",
       "              'MOLD814': 1,\n",
       "              'MOLD896': 1,\n",
       "              'MOLD564': 4,\n",
       "              'MOLD803': 5,\n",
       "              'MOLD932': 1,\n",
       "              'MOLD422': 3,\n",
       "              'MOLD539': 2,\n",
       "              'MOLD881': 1,\n",
       "              'MOLD254': 5,\n",
       "              'MOLD595': 1,\n",
       "              'MOLD877': 2,\n",
       "              'MOLD461': 1,\n",
       "              'MOLD576': 3,\n",
       "              'MOLD379': 4,\n",
       "              'MOLD605': 3,\n",
       "              'MOLD484': 2,\n",
       "              'MOLD547': 4,\n",
       "              'MOLD736': 1,\n",
       "              'MOLD174': 2,\n",
       "              'MOLD630': 1,\n",
       "              'MOLD244': 2,\n",
       "              'MOLD270': 3,\n",
       "              'MOLD343': 1,\n",
       "              'MOLD106': 3,\n",
       "              'MOLD860': 4,\n",
       "              'MOLD241': 2,\n",
       "              'MOLD328': 4,\n",
       "              'MOLD136': 1,\n",
       "              'MOLD953': 2,\n",
       "              'MOLD992': 1,\n",
       "              'MOLD979': 1,\n",
       "              'MOLD780': 3,\n",
       "              'MOLD257': 3,\n",
       "              'MOLD414': 4,\n",
       "              'MOLD434': 1,\n",
       "              'MOLD425': 2,\n",
       "              'MOLD277': 2,\n",
       "              'MOLD653': 2,\n",
       "              'MOLD148': 1,\n",
       "              'MOLD971': 1,\n",
       "              'MOLD608': 2,\n",
       "              'MOLD521': 3,\n",
       "              'MOLD336': 3,\n",
       "              'MOLD875': 1,\n",
       "              'MOLD679': 3,\n",
       "              'MOLD251': 1,\n",
       "              'MOLD828': 1,\n",
       "              'MOLD621': 4,\n",
       "              'MOLD526': 3,\n",
       "              'MOLD651': 3,\n",
       "              'MOLD585': 1,\n",
       "              'MOLD545': 2,\n",
       "              'MOLD923': 2,\n",
       "              'MOLD399': 3,\n",
       "              'MOLD892': 1,\n",
       "              'MOLD696': 1,\n",
       "              'MOLD303': 1,\n",
       "              'MOLD787': 2,\n",
       "              'MOLD212': 1,\n",
       "              'MOLD538': 2,\n",
       "              'MOLD143': 3,\n",
       "              'MOLD195': 3,\n",
       "              'MOLD382': 3,\n",
       "              'MOLD221': 1,\n",
       "              'MOLD962': 1,\n",
       "              'MOLD236': 1,\n",
       "              'MOLD968': 2,\n",
       "              'MOLD178': 1,\n",
       "              'MOLD362': 1,\n",
       "              'MOLD878': 2,\n",
       "              'MOLD242': 2,\n",
       "              'MOLD511': 2,\n",
       "              'MOLD625': 1,\n",
       "              'MOLD137': 1,\n",
       "              'MOLD308': 1,\n",
       "              'MOLD152': 4,\n",
       "              'MOLD383': 2,\n",
       "              'MOLD940': 1,\n",
       "              'MOLD444': 1,\n",
       "              'MOLD616': 1,\n",
       "              'MOLD285': 2,\n",
       "              'MOLD372': 1,\n",
       "              'MOLD390': 1,\n",
       "              'MOLD734': 1,\n",
       "              'MOLD864': 1,\n",
       "              'MOLD804': 1,\n",
       "              'MOLD351': 1,\n",
       "              'MOLD480': 1,\n",
       "              'MOLD604': 1,\n",
       "              'MOLD208': 1,\n",
       "              'MOLD717': 1,\n",
       "              'MOLD151': 1,\n",
       "              'MOLD121': 2,\n",
       "              'MOLD580': 1,\n",
       "              'MOLD984': 1,\n",
       "              'MOLD313': 1,\n",
       "              'MOLD822': 1,\n",
       "              'MOLD416': 1}),\n",
       " 'Shift 2': defaultdict(int,\n",
       "             {'MOLD126': 1,\n",
       "              'MOLD727': 4,\n",
       "              'MOLD124': 8,\n",
       "              'MOLD348': 3,\n",
       "              'MOLD412': 7,\n",
       "              'MOLD654': 5,\n",
       "              'MOLD765': 2,\n",
       "              'MOLD372': 1,\n",
       "              'MOLD855': 3,\n",
       "              'MOLD865': 9,\n",
       "              'MOLD173': 4,\n",
       "              'MOLD527': 2,\n",
       "              'MOLD382': 6,\n",
       "              'MOLD134': 4,\n",
       "              'MOLD978': 3,\n",
       "              'MOLD207': 7,\n",
       "              'MOLD505': 7,\n",
       "              'MOLD964': 6,\n",
       "              'MOLD374': 6,\n",
       "              'MOLD462': 1,\n",
       "              'MOLD255': 7,\n",
       "              'MOLD503': 12,\n",
       "              'MOLD474': 7,\n",
       "              'MOLD614': 3,\n",
       "              'MOLD325': 3,\n",
       "              'MOLD184': 7,\n",
       "              'MOLD897': 3,\n",
       "              'MOLD312': 5,\n",
       "              'MOLD241': 2,\n",
       "              'MOLD416': 7,\n",
       "              'MOLD121': 4,\n",
       "              'MOLD771': 5,\n",
       "              'MOLD151': 1,\n",
       "              'MOLD816': 2,\n",
       "              'MOLD600': 5,\n",
       "              'MOLD423': 2,\n",
       "              'MOLD135': 4,\n",
       "              'MOLD328': 3,\n",
       "              'MOLD235': 5,\n",
       "              'MOLD251': 3,\n",
       "              'MOLD333': 5,\n",
       "              'MOLD630': 3,\n",
       "              'MOLD162': 3,\n",
       "              'MOLD715': 3,\n",
       "              'MOLD191': 2,\n",
       "              'MOLD101': 4,\n",
       "              'MOLD953': 4,\n",
       "              'MOLD999': 2,\n",
       "              'MOLD877': 2,\n",
       "              'MOLD152': 2,\n",
       "              'MOLD679': 3,\n",
       "              'MOLD254': 4,\n",
       "              'MOLD804': 2,\n",
       "              'MOLD208': 4,\n",
       "              'MOLD634': 4,\n",
       "              'MOLD979': 4,\n",
       "              'MOLD511': 3,\n",
       "              'MOLD683': 4,\n",
       "              'MOLD566': 5,\n",
       "              'MOLD605': 1,\n",
       "              'MOLD575': 4,\n",
       "              'MOLD316': 1,\n",
       "              'MOLD212': 5,\n",
       "              'MOLD321': 4,\n",
       "              'MOLD988': 9,\n",
       "              'MOLD565': 8,\n",
       "              'MOLD189': 5,\n",
       "              'MOLD317': 11,\n",
       "              'MOLD939': 3,\n",
       "              'MOLD880': 8,\n",
       "              'MOLD296': 5,\n",
       "              'MOLD640': 2,\n",
       "              'MOLD706': 4,\n",
       "              'MOLD625': 3,\n",
       "              'MOLD811': 2,\n",
       "              'MOLD502': 4,\n",
       "              'MOLD729': 2,\n",
       "              'MOLD932': 4,\n",
       "              'MOLD692': 3,\n",
       "              'MOLD272': 3,\n",
       "              'MOLD985': 8,\n",
       "              'MOLD117': 5,\n",
       "              'MOLD553': 8,\n",
       "              'MOLD845': 3,\n",
       "              'MOLD639': 1,\n",
       "              'MOLD996': 9,\n",
       "              'MOLD458': 3,\n",
       "              'MOLD231': 5,\n",
       "              'MOLD883': 5,\n",
       "              'MOLD464': 2,\n",
       "              'MOLD379': 2,\n",
       "              'MOLD742': 10,\n",
       "              'MOLD666': 4,\n",
       "              'MOLD970': 2,\n",
       "              'MOLD835': 4,\n",
       "              'MOLD700': 3,\n",
       "              'MOLD137': 3,\n",
       "              'MOLD663': 1,\n",
       "              'MOLD787': 2,\n",
       "              'MOLD179': 6,\n",
       "              'MOLD480': 3,\n",
       "              'MOLD187': 3,\n",
       "              'MOLD280': 13,\n",
       "              'MOLD236': 2,\n",
       "              'MOLD221': 3,\n",
       "              'MOLD100': 2,\n",
       "              'MOLD538': 3,\n",
       "              'MOLD560': 4,\n",
       "              'MOLD309': 2,\n",
       "              'MOLD646': 2,\n",
       "              'MOLD968': 1,\n",
       "              'MOLD704': 2,\n",
       "              'MOLD819': 9,\n",
       "              'MOLD318': 2,\n",
       "              'MOLD793': 3,\n",
       "              'MOLD650': 1,\n",
       "              'MOLD875': 3,\n",
       "              'MOLD609': 8,\n",
       "              'MOLD744': 2,\n",
       "              'MOLD564': 2,\n",
       "              'MOLD584': 4,\n",
       "              'MOLD806': 5,\n",
       "              'MOLD102': 2,\n",
       "              'MOLD840': 4,\n",
       "              'MOLD746': 3,\n",
       "              'MOLD267': 4,\n",
       "              'MOLD776': 4,\n",
       "              'MOLD802': 3,\n",
       "              'MOLD338': 3,\n",
       "              'MOLD198': 2,\n",
       "              'MOLD399': 2,\n",
       "              'MOLD902': 4,\n",
       "              'MOLD595': 1,\n",
       "              'MOLD490': 1,\n",
       "              'MOLD195': 4,\n",
       "              'MOLD915': 3,\n",
       "              'MOLD406': 2,\n",
       "              'MOLD270': 2,\n",
       "              'MOLD556': 5,\n",
       "              'MOLD430': 2,\n",
       "              'MOLD339': 5,\n",
       "              'MOLD215': 2,\n",
       "              'MOLD749': 11,\n",
       "              'MOLD335': 5,\n",
       "              'MOLD823': 2,\n",
       "              'MOLD514': 2,\n",
       "              'MOLD539': 6,\n",
       "              'MOLD435': 7,\n",
       "              'MOLD171': 3,\n",
       "              'MOLD424': 7,\n",
       "              'MOLD608': 2,\n",
       "              'MOLD903': 3,\n",
       "              'MOLD528': 3,\n",
       "              'MOLD852': 5,\n",
       "              'MOLD862': 3,\n",
       "              'MOLD381': 6,\n",
       "              'MOLD389': 2,\n",
       "              'MOLD211': 6,\n",
       "              'MOLD971': 2,\n",
       "              'MOLD156': 1,\n",
       "              'MOLD674': 9,\n",
       "              'MOLD772': 5,\n",
       "              'MOLD962': 1,\n",
       "              'MOLD397': 5,\n",
       "              'MOLD277': 3,\n",
       "              'MOLD587': 6,\n",
       "              'MOLD226': 5,\n",
       "              'MOLD651': 1,\n",
       "              'MOLD283': 2,\n",
       "              'MOLD616': 2,\n",
       "              'MOLD201': 4,\n",
       "              'MOLD535': 1,\n",
       "              'MOLD958': 6,\n",
       "              'MOLD434': 2,\n",
       "              'MOLD585': 4,\n",
       "              'MOLD154': 4,\n",
       "              'MOLD279': 3,\n",
       "              'MOLD148': 3,\n",
       "              'MOLD860': 1,\n",
       "              'MOLD873': 6,\n",
       "              'MOLD955': 4,\n",
       "              'MOLD271': 3,\n",
       "              'MOLD708': 2,\n",
       "              'MOLD653': 6,\n",
       "              'MOLD766': 2,\n",
       "              'MOLD507': 10,\n",
       "              'MOLD686': 4,\n",
       "              'MOLD562': 3,\n",
       "              'MOLD943': 2,\n",
       "              'MOLD559': 5,\n",
       "              'MOLD648': 2,\n",
       "              'MOLD174': 1,\n",
       "              'MOLD447': 2,\n",
       "              'MOLD242': 5,\n",
       "              'MOLD188': 1,\n",
       "              'MOLD375': 4,\n",
       "              'MOLD110': 2,\n",
       "              'MOLD800': 4,\n",
       "              'MOLD963': 4,\n",
       "              'MOLD636': 3,\n",
       "              'MOLD828': 2,\n",
       "              'MOLD276': 1,\n",
       "              'MOLD576': 2,\n",
       "              'MOLD547': 6,\n",
       "              'MOLD257': 2,\n",
       "              'MOLD709': 4,\n",
       "              'MOLD995': 7,\n",
       "              'MOLD682': 4,\n",
       "              'MOLD961': 5,\n",
       "              'MOLD431': 3,\n",
       "              'MOLD327': 1,\n",
       "              'MOLD390': 2,\n",
       "              'MOLD687': 1,\n",
       "              'MOLD268': 6,\n",
       "              'MOLD814': 2,\n",
       "              'MOLD203': 2,\n",
       "              'MOLD466': 1,\n",
       "              'MOLD186': 5,\n",
       "              'MOLD882': 4,\n",
       "              'MOLD937': 1,\n",
       "              'MOLD781': 2,\n",
       "              'MOLD360': 4,\n",
       "              'MOLD917': 3,\n",
       "              'MOLD892': 4,\n",
       "              'MOLD549': 1,\n",
       "              'MOLD752': 8,\n",
       "              'MOLD803': 3,\n",
       "              'MOLD881': 2,\n",
       "              'MOLD311': 5,\n",
       "              'MOLD351': 2,\n",
       "              'MOLD522': 3,\n",
       "              'MOLD197': 2,\n",
       "              'MOLD308': 3,\n",
       "              'MOLD521': 3,\n",
       "              'MOLD669': 3,\n",
       "              'MOLD436': 2,\n",
       "              'MOLD780': 2,\n",
       "              'MOLD292': 4,\n",
       "              'MOLD604': 4,\n",
       "              'MOLD678': 3,\n",
       "              'MOLD950': 2,\n",
       "              'MOLD753': 2,\n",
       "              'MOLD383': 2,\n",
       "              'MOLD307': 2,\n",
       "              'MOLD770': 3,\n",
       "              'MOLD972': 2,\n",
       "              'MOLD473': 4,\n",
       "              'MOLD755': 3,\n",
       "              'MOLD864': 1,\n",
       "              'MOLD801': 4,\n",
       "              'MOLD936': 2,\n",
       "              'MOLD362': 2,\n",
       "              'MOLD730': 5,\n",
       "              'MOLD741': 3,\n",
       "              'MOLD878': 2,\n",
       "              'MOLD580': 4,\n",
       "              'MOLD551': 3,\n",
       "              'MOLD620': 3,\n",
       "              'MOLD541': 2,\n",
       "              'MOLD734': 2,\n",
       "              'MOLD693': 1,\n",
       "              'MOLD143': 2,\n",
       "              'MOLD113': 3,\n",
       "              'MOLD577': 2,\n",
       "              'MOLD748': 1,\n",
       "              'MOLD973': 3,\n",
       "              'MOLD941': 6,\n",
       "              'MOLD334': 2,\n",
       "              'MOLD586': 2,\n",
       "              'MOLD150': 3,\n",
       "              'MOLD442': 3,\n",
       "              'MOLD702': 1,\n",
       "              'MOLD923': 3,\n",
       "              'MOLD861': 1,\n",
       "              'MOLD164': 2,\n",
       "              'MOLD592': 2,\n",
       "              'MOLD736': 4,\n",
       "              'MOLD871': 4,\n",
       "              'MOLD181': 2,\n",
       "              'MOLD489': 4,\n",
       "              'MOLD783': 2,\n",
       "              'MOLD404': 1,\n",
       "              'MOLD610': 5,\n",
       "              'MOLD504': 1,\n",
       "              'MOLD908': 2,\n",
       "              'MOLD998': 3,\n",
       "              'MOLD138': 1,\n",
       "              'MOLD782': 4,\n",
       "              'MOLD303': 1,\n",
       "              'MOLD896': 3,\n",
       "              'MOLD433': 1,\n",
       "              'MOLD365': 2,\n",
       "              'MOLD388': 1,\n",
       "              'MOLD252': 2,\n",
       "              'MOLD285': 1,\n",
       "              'MOLD244': 2,\n",
       "              'MOLD136': 2,\n",
       "              'MOLD728': 2,\n",
       "              'MOLD754': 1,\n",
       "              'MOLD581': 1,\n",
       "              'MOLD200': 2,\n",
       "              'MOLD410': 1,\n",
       "              'MOLD572': 3,\n",
       "              'MOLD662': 2,\n",
       "              'MOLD336': 2,\n",
       "              'MOLD178': 1,\n",
       "              'MOLD414': 1,\n",
       "              'MOLD239': 3,\n",
       "              'MOLD984': 2,\n",
       "              'MOLD278': 1,\n",
       "              'MOLD938': 1,\n",
       "              'MOLD621': 2,\n",
       "              'MOLD913': 3,\n",
       "              'MOLD696': 2,\n",
       "              'MOLD935': 2,\n",
       "              'MOLD422': 1,\n",
       "              'MOLD313': 2,\n",
       "              'MOLD420': 1,\n",
       "              'MOLD484': 2,\n",
       "              'MOLD901': 1,\n",
       "              'MOLD440': 1,\n",
       "              'MOLD530': 1,\n",
       "              'MOLD632': 1,\n",
       "              'MOLD122': 1,\n",
       "              'MOLD921': 1,\n",
       "              'MOLD155': 1,\n",
       "              'MOLD617': 1,\n",
       "              'MOLD526': 1,\n",
       "              'MOLD821': 1,\n",
       "              'MOLD830': 2,\n",
       "              'MOLD829': 2,\n",
       "              'MOLD545': 2,\n",
       "              'MOLD992': 1,\n",
       "              'MOLD206': 1,\n",
       "              'MOLD815': 1,\n",
       "              'MOLD847': 1,\n",
       "              'MOLD129': 1})}"
      ]
     },
     "execution_count": 101,
     "metadata": {},
     "output_type": "execute_result"
    }
   ],
   "execution_count": 101
  },
  {
   "metadata": {},
   "cell_type": "markdown",
   "source": [
    "### **Problem 3: FIFO Buffer with `deque`**\n",
    "\n",
    "**Purpose**: Simulate a real-time production buffer.\n",
    "\n",
    "> Load inspection records for \"Shift 1\" into a deque buffer and remove the first 5 inspections (simulate processing). Show the remaining items."
   ],
   "id": "afe530fbef097032"
  },
  {
   "metadata": {},
   "cell_type": "markdown",
   "source": [
    "### Problem 3: FIFO Buffer with deque gives you a realistic hands-on feel for how deque works — especially in scenarios like:\n",
    "\n",
    "Real-time quality control buffers\n",
    "\n",
    "Production line queueing\n",
    "\n",
    "First-In-First-Out (FIFO) simulation\n",
    "\n",
    "#### FIFO Concept Recap:\n",
    "First items added are first to be removed.\n",
    "\n",
    "Ideal for queues, logs, and real-time buffers.\n",
    "\n",
    "collections.deque is optimized for fast appends and pops from both ends."
   ],
   "id": "d684942948db3bd6"
  },
  {
   "metadata": {
    "ExecuteTime": {
     "end_time": "2025-05-15T16:26:04.093018Z",
     "start_time": "2025-05-15T16:26:04.090370Z"
    }
   },
   "cell_type": "code",
   "source": "df_clean = df.copy()",
   "id": "b242827749890f71",
   "outputs": [],
   "execution_count": 102
  },
  {
   "metadata": {
    "ExecuteTime": {
     "end_time": "2025-05-15T16:26:04.126926Z",
     "start_time": "2025-05-15T16:26:04.123537Z"
    }
   },
   "cell_type": "code",
   "source": "df_clean.columns = df_clean.columns.str.replace(' ', '_').str.replace('(', '').str.replace(')', '')",
   "id": "244f903929427282",
   "outputs": [],
   "execution_count": 103
  },
  {
   "metadata": {
    "ExecuteTime": {
     "end_time": "2025-05-15T16:26:04.175485Z",
     "start_time": "2025-05-15T16:26:04.171518Z"
    }
   },
   "cell_type": "code",
   "source": [
    "# filter Shift 1\n",
    "shift1_records = df_clean[df_clean['Shift'] == 'Shift 1']"
   ],
   "id": "8a1268f98cf7d55b",
   "outputs": [],
   "execution_count": 104
  },
  {
   "metadata": {
    "ExecuteTime": {
     "end_time": "2025-05-15T16:26:04.235155Z",
     "start_time": "2025-05-15T16:26:04.227139Z"
    }
   },
   "cell_type": "code",
   "source": [
    "# create deque\n",
    "buffer = deque(shift1_records.to_dict('records'))"
   ],
   "id": "b0f4beff95c1fa2e",
   "outputs": [],
   "execution_count": 105
  },
  {
   "metadata": {
    "ExecuteTime": {
     "end_time": "2025-05-15T16:26:04.273886Z",
     "start_time": "2025-05-15T16:26:04.270980Z"
    }
   },
   "cell_type": "code",
   "source": [
    "for _ in range(5):\n",
    "    if buffer:\n",
    "        buffer.popleft()"
   ],
   "id": "95ddc7cd73509b8d",
   "outputs": [],
   "execution_count": 106
  },
  {
   "metadata": {
    "ExecuteTime": {
     "end_time": "2025-05-15T16:26:04.305508Z",
     "start_time": "2025-05-15T16:26:04.301405Z"
    }
   },
   "cell_type": "code",
   "source": "list(buffer)[:3]",
   "id": "501dd9079acaa579",
   "outputs": [
    {
     "data": {
      "text/plain": [
       "[{'Date': '2025-01-02',\n",
       "  'Shift': 'Shift 1',\n",
       "  'Mold_ID': 'MOLD903',\n",
       "  'Part_Name': 'Guide Pin',\n",
       "  'Wear_Level_%': 78.9,\n",
       "  'Surface_Roughness_Ra_μm': 0.21,\n",
       "  'Clearance_mm': 0.315,\n",
       "  'Alignment_Accuracy_mm': 0.097,\n",
       "  'Leak_Check': 'Pass',\n",
       "  'Corrosion': 'Moderate',\n",
       "  'Crack_Detected': 'Yes',\n",
       "  'Function_Test': 'Fail',\n",
       "  'Lubrication_Status': 'Dry',\n",
       "  'Pass/Fail': 'Pass'},\n",
       " {'Date': '2025-01-03',\n",
       "  'Shift': 'Shift 1',\n",
       "  'Mold_ID': 'MOLD565',\n",
       "  'Part_Name': 'Runner Channel',\n",
       "  'Wear_Level_%': 16.2,\n",
       "  'Surface_Roughness_Ra_μm': 0.65,\n",
       "  'Clearance_mm': 0.213,\n",
       "  'Alignment_Accuracy_mm': 0.097,\n",
       "  'Leak_Check': 'Pass',\n",
       "  'Corrosion': 'Moderate',\n",
       "  'Crack_Detected': 'Yes',\n",
       "  'Function_Test': 'Pass',\n",
       "  'Lubrication_Status': 'Needs Reapply',\n",
       "  'Pass/Fail': 'Pass'},\n",
       " {'Date': '2025-01-03',\n",
       "  'Shift': 'Shift 1',\n",
       "  'Mold_ID': 'MOLD360',\n",
       "  'Part_Name': 'Support Pillar',\n",
       "  'Wear_Level_%': 44.3,\n",
       "  'Surface_Roughness_Ra_μm': 0.45,\n",
       "  'Clearance_mm': 0.083,\n",
       "  'Alignment_Accuracy_mm': 0.119,\n",
       "  'Leak_Check': 'Pass',\n",
       "  'Corrosion': 'Minor',\n",
       "  'Crack_Detected': 'No',\n",
       "  'Function_Test': 'Fail',\n",
       "  'Lubrication_Status': 'Good',\n",
       "  'Pass/Fail': 'Pass'}]"
      ]
     },
     "execution_count": 107,
     "metadata": {},
     "output_type": "execute_result"
    }
   ],
   "execution_count": 107
  },
  {
   "metadata": {},
   "cell_type": "markdown",
   "source": [
    "### **Problem 3.1: Sliding Average of Wear Level**\n",
    "\n",
    "**Purpose**: Use `deque(maxlen=5)` to maintain a window of the last 5 wear levels per mold.\n",
    "\n",
    "> For each **Mold ID**, track the **last 5 wear levels**, and calculate the **average** after each new reading is added."
   ],
   "id": "c10c01257007a62a"
  },
  {
   "metadata": {
    "ExecuteTime": {
     "end_time": "2025-05-15T16:26:04.315705Z",
     "start_time": "2025-05-15T16:26:04.313277Z"
    }
   },
   "cell_type": "code",
   "source": "wear_window = defaultdict(lambda: deque(maxlen=5))",
   "id": "f75c60d693864eed",
   "outputs": [],
   "execution_count": 108
  },
  {
   "metadata": {
    "ExecuteTime": {
     "end_time": "2025-05-15T16:26:04.393403Z",
     "start_time": "2025-05-15T16:26:04.391185Z"
    }
   },
   "cell_type": "code",
   "source": "wear_averages = defaultdict(list)",
   "id": "4b93768d6d796bc2",
   "outputs": [],
   "execution_count": 109
  },
  {
   "metadata": {
    "ExecuteTime": {
     "end_time": "2025-05-15T16:26:04.474127Z",
     "start_time": "2025-05-15T16:26:04.431579Z"
    }
   },
   "cell_type": "code",
   "source": [
    "for _, row in df.iterrows():\n",
    "    mold = row['Mold ID']\n",
    "    wear = row['Wear Level (%)']\n",
    "    \n",
    "    wear_window[mold].append(wear)\n",
    "    \n",
    "    current_window = wear_window[mold]\n",
    "    avg = sum(current_window) / len(current_window)\n",
    "    wear_averages[mold].append(avg)"
   ],
   "id": "843013e69a99a492",
   "outputs": [],
   "execution_count": 110
  },
  {
   "metadata": {
    "ExecuteTime": {
     "end_time": "2025-05-15T16:26:04.478912Z",
     "start_time": "2025-05-15T16:26:04.476008Z"
    }
   },
   "cell_type": "code",
   "source": "sample_mold = list(wear_averages.keys())[0]",
   "id": "41ad8b269fbccac7",
   "outputs": [],
   "execution_count": 111
  },
  {
   "metadata": {
    "ExecuteTime": {
     "end_time": "2025-05-15T16:26:04.522055Z",
     "start_time": "2025-05-15T16:26:04.518306Z"
    }
   },
   "cell_type": "code",
   "source": "wear_averages[sample_mold][-3:]",
   "id": "ce602a112cd4f7a3",
   "outputs": [
    {
     "data": {
      "text/plain": [
       "[60.8, 60.8, 60.8]"
      ]
     },
     "execution_count": 112,
     "metadata": {},
     "output_type": "execute_result"
    }
   ],
   "execution_count": 112
  },
  {
   "metadata": {},
   "cell_type": "markdown",
   "source": [
    "## **What This Code Is Trying to Do**\n",
    "\n",
    "You're trying to compute the **average of the last 5 wear levels** (a sliding window) for **each mold**.\n",
    "\n",
    "So:\n",
    "\n",
    "* Each mold needs its own memory of the *last 5 values* → that’s `wear_window`\n",
    "* Each mold also needs a place to store the *calculated averages* at every step → that’s `wear_averages`\n",
    "\n",
    "\n",
    "\n",
    "## **Explanation Line by Line**\n",
    "\n",
    "### `wear_window = defaultdict(lambda: deque(maxlen=5))`\n",
    "\n",
    "> This creates a **separate 5-slot sliding buffer** (`deque`) for every mold.\n",
    "\n",
    "* `defaultdict(...)`: automatically creates a new `deque(maxlen=5)` the first time you access a new mold ID.\n",
    "* Why `maxlen=5`? It means when you add a 6th item, the oldest one is automatically dropped.\n",
    "\n",
    "\n",
    "\n",
    "### `wear_averages = defaultdict(list)`\n",
    "\n",
    "> This will **store the average wear level at each step** for each mold.\n",
    "\n",
    "* It's a dictionary that maps each mold ID to a list of running average values (one average for each inspection it receives).\n",
    "\n",
    "\n",
    "\n",
    "### Loop over each row\n",
    "\n",
    "```python\n",
    "for _, row in df.iterrows():\n",
    "```\n",
    "\n",
    "You're processing the dataset row by row — like items moving on a conveyor belt.\n",
    "\n",
    "\n",
    "\n",
    "### `mold = row['Mold ID']`\n",
    "\n",
    "> Get the **mold ID** for this row.\n",
    "\n",
    "\n",
    "\n",
    "### `wear = row['Wear Level (%)']`\n",
    "\n",
    "> Get the **wear level value** that was recorded for this mold.\n",
    "\n",
    "\n",
    "\n",
    "### `wear_window[mold].append(wear)`\n",
    "\n",
    "> Append the current wear level to the **mold's sliding window** (deque).\n",
    "\n",
    "* If this is the first time this mold shows up, the `defaultdict` will create a new deque for it.\n",
    "* If the deque already has 5 items, it will drop the oldest.\n",
    "\n",
    "\n",
    "\n",
    "### Calculate the average of the current window\n",
    "\n",
    "```python\n",
    "current_window = wear_window[mold]\n",
    "avg = sum(current_window) / len(current_window)\n",
    "```\n",
    "\n",
    "> Compute the average **only using the current sliding window values**.\n",
    "\n",
    "\n",
    "\n",
    "### `wear_averages[mold].append(avg)`\n",
    "\n",
    "> Store this average so you can analyze how the average changed over time.\n",
    "\n",
    "\n",
    "\n",
    "## So at the end:\n",
    "\n",
    "```python\n",
    "wear_averages['MOLD741'] = [70.2, 72.4, 71.0, 74.6, ...]\n",
    "```\n",
    "\n",
    "This shows how the *rolling average wear* evolved for that mold.\n",
    "\n",
    "\n",
    "### What if we didn’t use `defaultdict`?\n",
    "\n",
    "You’d have to write:\n",
    "\n",
    "```python\n",
    "if mold not in wear_window:\n",
    "    wear_window[mold] = deque(maxlen=5)\n",
    "```\n",
    "\n",
    "every time — which gets messy and repetitive. That’s why `defaultdict` saves us so much time.\n"
   ],
   "id": "61d8bee74d9089e7"
  },
  {
   "metadata": {},
   "cell_type": "markdown",
   "source": [
    "## When I Used `defaultdict` vs. When I Didn’t\n",
    "\n",
    "### 1. **In sliding averages per mold (Problem 3.1)**\n",
    "\n",
    "I used:\n",
    "\n",
    "```python\n",
    "wear_window = defaultdict(lambda: deque(maxlen=5))\n",
    "```\n",
    "\n",
    "### Why?\n",
    "\n",
    "Because you're keeping a **separate `deque` per mold** — it's **grouped data**.\n",
    "You don’t know which `Mold ID`s exist ahead of time, so `defaultdict` saves you from writing:\n",
    "\n",
    "```python\n",
    "if mold not in wear_window:\n",
    "    wear_window[mold] = deque(maxlen=5)\n",
    "```\n",
    "\n",
    "\n",
    "\n",
    "## 2. **In FIFO Buffer for Shift 1 (Problem 3)**\n",
    "\n",
    "I used:\n",
    "\n",
    "```python\n",
    "buffer = deque(shift1_records.to_dict('records'))\n",
    "```\n",
    "\n",
    "### Why no `defaultdict` here?\n",
    "\n",
    "Because you're creating **just one `deque`**, not grouped by anything.\n",
    "\n",
    "It’s a **single global buffer** (like a real-time queue of incoming inspections) — so you can create it directly.\n",
    "\n",
    "\n",
    "\n",
    "## Summary Table:\n",
    "\n",
    "| Situation                        | Use `defaultdict`? | Why?                                  |\n",
    "| -------------------------------- | ------------------ | ------------------------------------- |\n",
    "| Per mold/shift/part grouped data | ✅ Yes              | Automatically create buffers          |\n",
    "| One global queue (no grouping)   | ❌ No               | You control when and how it's created |\n",
    "\n",
    "\n",
    "\n",
    "### Think of It Like This:\n",
    "\n",
    "* `defaultdict(deque)` = “**I need a queue for each mold or shift.**”\n",
    "* `deque(...)` = “**I need one queue for the whole system.**”\n",
    "\n",
    "\n"
   ],
   "id": "fd741e45690075ad"
  },
  {
   "metadata": {},
   "cell_type": "markdown",
   "source": [
    "## **What is a Window (in Data or Time Series)?**\n",
    "\n",
    "A **window** is a **limited view** into a continuous stream of data — like a small sliding frame that lets you analyze only the **most recent N values**.\n",
    "\n",
    "\n",
    "### Think of It Like This:\n",
    "\n",
    "You're looking at a conveyor belt of parts. Instead of analyzing every part from the beginning, you're only inspecting the **last 5 that just passed**.\n",
    "\n",
    "That’s your **sliding window**.\n",
    "\n",
    "\n",
    "\n",
    "## In Python with `deque`:\n",
    "\n",
    "When we use:\n",
    "\n",
    "```python\n",
    "deque(maxlen=5)\n",
    "```\n",
    "\n",
    "We’re saying:\n",
    "\n",
    "> \"I only care about the last 5 items. As new ones come in, drop the oldest.\"\n",
    "\n",
    "This is your **data window**.\n",
    "\n",
    "\n",
    "\n",
    "## Real-World Example in Manufacturing:\n",
    "\n",
    "Imagine you're monitoring **surface roughness**:\n",
    "\n",
    "* Each new part gets measured.\n",
    "* You want to **monitor only the latest 5 readings** to detect immediate trends or outliers.\n",
    "* If something goes wrong now, you don’t care what happened a week ago — just what’s happening **right now**.\n",
    "\n",
    "That’s what a **sliding window** does.\n",
    "\n",
    "\n",
    "\n",
    "## Window Use Cases:\n",
    "\n",
    "| Use Case               | What the Window Shows                |\n",
    "| ---------------------- | ------------------------------------ |\n",
    "| Quality control        | Last N inspection results            |\n",
    "| Predictive maintenance | Last N sensor readings               |\n",
    "| Real-time dashboard    | Most recent error codes or alerts    |\n",
    "| Process smoothing      | Rolling average over last N readings |\n",
    "\n",
    "\n",
    "\n",
    "### Code Recap:\n",
    "\n",
    "```python\n",
    "from collections import deque\n",
    "\n",
    "# Create a sliding window for wear level\n",
    "window = deque(maxlen=5)\n",
    "\n",
    "# Feed in values\n",
    "for wear in [88.0, 91.2, 93.0, 95.4, 90.1, 94.6]:\n",
    "    window.append(wear)\n",
    "    print(list(window))  # always holds only last 5 readings\n",
    "```\n",
    "\n",
    "Output:\n",
    "\n",
    "```\n",
    "[88.0]\n",
    "[88.0, 91.2]\n",
    "[88.0, 91.2, 93.0]\n",
    "...\n",
    "[91.2, 93.0, 95.4, 90.1, 94.6]\n",
    "```\n",
    "\n",
    "\n",
    "### Summary:\n",
    "\n",
    "| Concept    | Explanation                                              |\n",
    "| ---------- | -------------------------------------------------------- |\n",
    "| Window     | A rolling view of recent values                          |\n",
    "| Why use it | Focus on the **most recent** events, readings, or trends |\n",
    "| In Python  | Use `deque(maxlen=N)` to auto-manage it                  |\n",
    "\n"
   ],
   "id": "11e64992f271be96"
  },
  {
   "metadata": {},
   "cell_type": "markdown",
   "source": [
    "### **Problem 3.2: Per-Shift Inspection Queue**\n",
    "\n",
    "**Purpose**: Group `deque` buffers by shift to simulate parallel buffers.\n",
    "\n",
    "> Create a dictionary where each **Shift** is a key and its value is a `deque` of inspections. Limit each shift's buffer to the **last 10 inspections** only."
   ],
   "id": "d578048d0cbffe01"
  },
  {
   "metadata": {
    "ExecuteTime": {
     "end_time": "2025-05-15T16:29:38.835180Z",
     "start_time": "2025-05-15T16:29:38.832284Z"
    }
   },
   "cell_type": "code",
   "source": "inspections = defaultdict(lambda : deque(maxlen=10))",
   "id": "53124c815852cb82",
   "outputs": [],
   "execution_count": 119
  },
  {
   "metadata": {
    "ExecuteTime": {
     "end_time": "2025-05-15T16:29:39.489120Z",
     "start_time": "2025-05-15T16:29:39.452242Z"
    }
   },
   "cell_type": "code",
   "source": [
    "for _, row in df.iterrows():\n",
    "    shift = row['Shift']\n",
    "    inspection_result = row['Pass/Fail']\n",
    "    \n",
    "    inspections[shift].append(inspection_result)\n",
    "    "
   ],
   "id": "48e00a6dcbcb7511",
   "outputs": [],
   "execution_count": 120
  },
  {
   "metadata": {
    "ExecuteTime": {
     "end_time": "2025-05-15T16:29:48.807452Z",
     "start_time": "2025-05-15T16:29:48.804769Z"
    }
   },
   "cell_type": "code",
   "source": "sample_shift = list(inspections.keys())[0] ",
   "id": "a8c411e6c8933eba",
   "outputs": [],
   "execution_count": 121
  },
  {
   "metadata": {
    "ExecuteTime": {
     "end_time": "2025-05-15T16:29:59.755498Z",
     "start_time": "2025-05-15T16:29:59.751934Z"
    }
   },
   "cell_type": "code",
   "source": "sample_shift",
   "id": "747795b8230636d5",
   "outputs": [
    {
     "data": {
      "text/plain": [
       "'Shift 1'"
      ]
     },
     "execution_count": 122,
     "metadata": {},
     "output_type": "execute_result"
    }
   ],
   "execution_count": 122
  },
  {
   "metadata": {
    "ExecuteTime": {
     "end_time": "2025-05-15T16:30:17.410596Z",
     "start_time": "2025-05-15T16:30:17.407606Z"
    }
   },
   "cell_type": "code",
   "source": "inspections[sample_shift]",
   "id": "3651a53bfe77faa2",
   "outputs": [
    {
     "data": {
      "text/plain": [
       "deque(['Fail',\n",
       "       'Pass',\n",
       "       'Fail',\n",
       "       'Fail',\n",
       "       'Pass',\n",
       "       'Pass',\n",
       "       'Fail',\n",
       "       'Fail',\n",
       "       'Pass',\n",
       "       'Pass'],\n",
       "      maxlen=10)"
      ]
     },
     "execution_count": 124,
     "metadata": {},
     "output_type": "execute_result"
    }
   ],
   "execution_count": 124
  },
  {
   "metadata": {},
   "cell_type": "markdown",
   "source": [
    "### **Problem 3.3: Rollback Last N Processed Items**\n",
    "\n",
    "**Purpose**: Use `deque.appendleft()` to simulate rollbacks.\n",
    "\n",
    "> Simulate a production error: after removing 3 items from the left (processed), **push them back to the front** of the buffer using `appendleft()`."
   ],
   "id": "78fe56b0ee75eb33"
  },
  {
   "metadata": {},
   "cell_type": "code",
   "outputs": [],
   "execution_count": null,
   "source": "",
   "id": "dc8a59b311a23a83"
  },
  {
   "metadata": {},
   "cell_type": "code",
   "outputs": [],
   "execution_count": null,
   "source": "",
   "id": "cd34ee6bfe81993"
  },
  {
   "metadata": {},
   "cell_type": "code",
   "outputs": [],
   "execution_count": null,
   "source": "",
   "id": "68a5c6acccadd701"
  },
  {
   "metadata": {},
   "cell_type": "code",
   "outputs": [],
   "execution_count": null,
   "source": "",
   "id": "1d8860a44cc85e04"
  },
  {
   "metadata": {},
   "cell_type": "code",
   "outputs": [],
   "execution_count": null,
   "source": "",
   "id": "b24baa1a21a95d82"
  },
  {
   "metadata": {},
   "cell_type": "code",
   "outputs": [],
   "execution_count": null,
   "source": "",
   "id": "e78dde5b7538a6d6"
  },
  {
   "metadata": {},
   "cell_type": "code",
   "outputs": [],
   "execution_count": null,
   "source": "",
   "id": "b3e4d2882ce4aad5"
  },
  {
   "metadata": {},
   "cell_type": "markdown",
   "source": [
    "\n",
    "\n",
    "\n",
    "\n",
    "---\n",
    "\n",
    "\n",
    "\n",
    "---\n",
    "\n",
    "### 📘 **Problem 3.4: Identify First Mold with Consecutive Failures**\n",
    "\n",
    "**Purpose**: Scan a `deque` buffer of rows and find the first **Mold ID** with **3 consecutive 'Fail' values** in `\"Pass/Fail\"`.\n",
    "\n",
    "> Use a buffer of recent rows, and scan for any mold whose last 3 `\"Pass/Fail\"` values were `\"Fail\"`.\n",
    "\n",
    "---\n",
    "\n",
    "### 📘 **Problem 3.5: FIFO Alert Dispatcher**\n",
    "\n",
    "**Purpose**: Use a `deque` to manage a queue of alert messages.\n",
    "\n",
    "> Create a buffer where each element is a string like `\"Alert: Mold MOLD741 - Wear Level 92%\"`. Add new alerts as needed, and always remove the **oldest alert** once the buffer size exceeds 5.\n",
    "\n",
    "---\n",
    "\n",
    "Would you like to solve these yourself first, or get worked examples (step-by-step with code)?\n"
   ],
   "id": "3f1c74b742e570bf"
  },
  {
   "metadata": {},
   "cell_type": "markdown",
   "source": "",
   "id": "57ba24877d6ec9e8"
  },
  {
   "metadata": {
    "ExecuteTime": {
     "end_time": "2025-05-15T16:26:04.780568Z",
     "start_time": "2025-05-15T16:26:04.778529Z"
    }
   },
   "cell_type": "code",
   "source": "",
   "id": "824fdd429930ada4",
   "outputs": [],
   "execution_count": 117
  },
  {
   "metadata": {
    "ExecuteTime": {
     "end_time": "2025-05-15T16:26:04.829166Z",
     "start_time": "2025-05-15T16:26:04.827206Z"
    }
   },
   "cell_type": "code",
   "source": "",
   "id": "e893e49da3dbe55b",
   "outputs": [],
   "execution_count": 117
  },
  {
   "metadata": {
    "ExecuteTime": {
     "end_time": "2025-05-15T16:26:04.858283Z",
     "start_time": "2025-05-15T16:26:04.856581Z"
    }
   },
   "cell_type": "code",
   "source": "",
   "id": "c98c13e1fd54b7a8",
   "outputs": [],
   "execution_count": 117
  },
  {
   "metadata": {
    "ExecuteTime": {
     "end_time": "2025-05-15T16:26:04.883802Z",
     "start_time": "2025-05-15T16:26:04.881961Z"
    }
   },
   "cell_type": "code",
   "source": "",
   "id": "d67def3cde14f7f1",
   "outputs": [],
   "execution_count": 117
  },
  {
   "metadata": {
    "ExecuteTime": {
     "end_time": "2025-05-15T16:26:04.915743Z",
     "start_time": "2025-05-15T16:26:04.913984Z"
    }
   },
   "cell_type": "code",
   "source": "",
   "id": "34efcb41ab6924ec",
   "outputs": [],
   "execution_count": 117
  },
  {
   "metadata": {
    "ExecuteTime": {
     "end_time": "2025-05-15T16:26:04.939211Z",
     "start_time": "2025-05-15T16:26:04.937405Z"
    }
   },
   "cell_type": "code",
   "source": "",
   "id": "35fc577630774954",
   "outputs": [],
   "execution_count": 117
  },
  {
   "metadata": {
    "ExecuteTime": {
     "end_time": "2025-05-15T16:26:04.947033Z",
     "start_time": "2025-05-15T16:26:04.945322Z"
    }
   },
   "cell_type": "code",
   "source": "",
   "id": "5aa58edfd3bd4bd6",
   "outputs": [],
   "execution_count": 117
  },
  {
   "metadata": {
    "ExecuteTime": {
     "end_time": "2025-05-15T16:26:04.978007Z",
     "start_time": "2025-05-15T16:26:04.975839Z"
    }
   },
   "cell_type": "code",
   "source": "",
   "id": "6fd22f403a2ff187",
   "outputs": [],
   "execution_count": 117
  },
  {
   "metadata": {
    "ExecuteTime": {
     "end_time": "2025-05-15T16:26:04.999369Z",
     "start_time": "2025-05-15T16:26:04.997442Z"
    }
   },
   "cell_type": "code",
   "source": "",
   "id": "87e5c4e2e755fa6d",
   "outputs": [],
   "execution_count": 117
  },
  {
   "metadata": {
    "ExecuteTime": {
     "end_time": "2025-05-15T16:26:05.008185Z",
     "start_time": "2025-05-15T16:26:05.006259Z"
    }
   },
   "cell_type": "code",
   "source": "",
   "id": "7b46b9b286449c92",
   "outputs": [],
   "execution_count": 117
  },
  {
   "metadata": {
    "ExecuteTime": {
     "end_time": "2025-05-15T16:26:05.045738Z",
     "start_time": "2025-05-15T16:26:05.043922Z"
    }
   },
   "cell_type": "code",
   "source": "",
   "id": "97b75fab516655bd",
   "outputs": [],
   "execution_count": 117
  },
  {
   "metadata": {
    "ExecuteTime": {
     "end_time": "2025-05-15T16:26:05.054859Z",
     "start_time": "2025-05-15T16:26:05.053195Z"
    }
   },
   "cell_type": "code",
   "source": "",
   "id": "3c6dd07a6420282b",
   "outputs": [],
   "execution_count": 117
  },
  {
   "metadata": {
    "ExecuteTime": {
     "end_time": "2025-05-15T16:26:05.078513Z",
     "start_time": "2025-05-15T16:26:05.076563Z"
    }
   },
   "cell_type": "code",
   "source": "",
   "id": "2a3da4f732cf5a0f",
   "outputs": [],
   "execution_count": 117
  },
  {
   "metadata": {
    "ExecuteTime": {
     "end_time": "2025-05-15T16:26:05.113866Z",
     "start_time": "2025-05-15T16:26:05.112124Z"
    }
   },
   "cell_type": "code",
   "source": "",
   "id": "3c5fbbb75fc6e013",
   "outputs": [],
   "execution_count": 117
  },
  {
   "metadata": {
    "ExecuteTime": {
     "end_time": "2025-05-15T16:26:05.129408Z",
     "start_time": "2025-05-15T16:26:05.127678Z"
    }
   },
   "cell_type": "code",
   "source": "",
   "id": "2d6219c83ba28644",
   "outputs": [],
   "execution_count": 117
  },
  {
   "metadata": {},
   "cell_type": "markdown",
   "source": [
    "\n",
    "\n",
    "---\n",
    "\n",
    "\n",
    "---\n",
    "\n",
    "\n",
    "\n",
    "---\n",
    "\n",
    "### **Problem 4: Identify Most Common Faults**\n",
    "\n",
    "**Purpose**: Use `Counter` to summarize quality issues.\n",
    "\n",
    "> Find and display the most common combination of \"Crack Detected\" and \"Function Test\" outcomes.\n",
    "\n",
    "---\n",
    "\n",
    "### **Problem 5: Use `namedtuple` for Part Summaries**\n",
    "\n",
    "**Purpose**: Store row data using `namedtuple` for readability.\n",
    "\n",
    "> Define a `namedtuple` called `InspectionSummary` and use it to represent the first 10 records in the dataset.\n",
    "\n",
    "---\n",
    "\n",
    "### **Problem 6: Build a Lubrication Log**\n",
    "\n",
    "**Purpose**: Use `defaultdict` for grouped status.\n",
    "\n",
    "> Build a log that groups all `Mold ID`s by their `Lubrication Status`. For example, show all molds that \"Need Reapply\".\n",
    "\n",
    "---\n",
    "\n",
    "### **Problem 7: Compare Configurations with `ChainMap`**\n",
    "\n",
    "**Purpose**: Use `ChainMap` to layer configuration settings.\n",
    "\n",
    "> Create two dictionaries: one with default quality thresholds (`e.g. Wear Level < 50`) and another with temporary stricter thresholds for specific parts. Merge and display the effective configuration using `ChainMap`.\n",
    "\n",
    "---\n",
    "\n",
    "### **Problem 8: Determine Part Counts Per Mold**\n",
    "\n",
    "**Purpose**: Use `Counter` to find mold utilization.\n",
    "\n",
    "> Count how many times each `Mold ID` appears in the dataset (i.e., how many parts it has been used to produce).\n",
    "\n",
    "---\n",
    "\n",
    "### **Problem 9: Real-Time Sliding Window with `deque`**\n",
    "\n",
    "**Purpose**: Use deque for windowed average calculations.\n",
    "\n",
    "> Use a sliding window of the last 7 “Surface Roughness” values and compute the average after each insertion.\n",
    "\n",
    "---\n",
    "\n",
    "### **Problem 10: Build a Daily Issue Dashboard**\n",
    "\n",
    "**Purpose**: Use `defaultdict(set)` to avoid duplicates.\n",
    "\n",
    "> For each day, create a set of all issues (e.g., \"Crack\", \"Leak\", \"Corrosion\") reported, without duplicates.\n",
    "\n",
    "---\n",
    "\n",
    "Let me know when you're done with these or if you'd like the solutions, visualizations, or advanced versions using `pandas + collections` together!\n"
   ],
   "id": "d3ccf23f793d07d0"
  }
 ],
 "metadata": {
  "kernelspec": {
   "display_name": "Python 3",
   "language": "python",
   "name": "python3"
  },
  "language_info": {
   "codemirror_mode": {
    "name": "ipython",
    "version": 2
   },
   "file_extension": ".py",
   "mimetype": "text/x-python",
   "name": "python",
   "nbconvert_exporter": "python",
   "pygments_lexer": "ipython2",
   "version": "2.7.6"
  }
 },
 "nbformat": 4,
 "nbformat_minor": 5
}
