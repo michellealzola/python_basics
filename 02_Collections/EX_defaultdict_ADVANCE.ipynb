{
 "cells": [
  {
   "cell_type": "code",
   "id": "initial_id",
   "metadata": {
    "collapsed": true,
    "ExecuteTime": {
     "end_time": "2025-05-20T20:58:30.019331Z",
     "start_time": "2025-05-20T20:58:30.016404Z"
    }
   },
   "source": [
    "import csv\n",
    "import pandas as pd\n",
    "from collections import defaultdict\n",
    "from itertools import islice"
   ],
   "outputs": [],
   "execution_count": 49
  },
  {
   "metadata": {},
   "cell_type": "markdown",
   "source": [
    "## Advanced Practice Problems Using `defaultdict()`\n",
    "\n",
    "### **Problem 1: Flash Test Failure Rate per Shift**\n",
    "\n",
    "**Goal:**\n",
    "Calculate the number of flash test failures and total tests per shift. Then compute and display the **failure rate (%)**.\n",
    "\n",
    "**Expected Output (example):**\n",
    "\n",
    "```\n",
    "Shift 1 ➜ 3 failures / 150 tests ➜ 2.00%\n",
    "Shift 2 ➜ 5 failures / 140 tests ➜ 3.57%\n",
    "Shift 3 ➜ 1 failures / 135 tests ➜ 0.74%\n",
    "```\n",
    "\n",
    "\n",
    "\n"
   ],
   "id": "96d8ef82137183da"
  },
  {
   "metadata": {
    "ExecuteTime": {
     "end_time": "2025-05-20T20:58:30.036490Z",
     "start_time": "2025-05-20T20:58:30.033661Z"
    }
   },
   "cell_type": "code",
   "source": "flash_test_failure_per_shift = defaultdict(lambda: {'Flash Failure': 0, 'Total Test': 0})",
   "id": "72ccaef8a9d08e5a",
   "outputs": [],
   "execution_count": 50
  },
  {
   "metadata": {
    "ExecuteTime": {
     "end_time": "2025-05-20T20:58:30.062344Z",
     "start_time": "2025-05-20T20:58:30.058710Z"
    }
   },
   "cell_type": "code",
   "source": [
    "with open('solar_panel_assembly_dataset.csv', newline='') as csvfile:\n",
    "  reader = csv.DictReader(csvfile)\n",
    "  for row in reader:\n",
    "    shift = row['Shift']\n",
    "    \n",
    "    flash_test_failure_per_shift[shift]['Total Test'] += 1\n",
    "    \n",
    "    if row['Flash Test Result'].strip().lower() == 'fail':\n",
    "      flash_test_failure_per_shift[shift]['Flash Failure'] += 1"
   ],
   "id": "a054b247629801d1",
   "outputs": [],
   "execution_count": 51
  },
  {
   "metadata": {
    "ExecuteTime": {
     "end_time": "2025-05-20T21:03:56.854308Z",
     "start_time": "2025-05-20T21:03:56.851703Z"
    }
   },
   "cell_type": "code",
   "source": "results = {}",
   "id": "dea3e9ef05b0e281",
   "outputs": [],
   "execution_count": 53
  },
  {
   "metadata": {
    "ExecuteTime": {
     "end_time": "2025-05-20T21:05:57.692550Z",
     "start_time": "2025-05-20T21:05:57.689783Z"
    }
   },
   "cell_type": "code",
   "source": [
    "for shift, summary in flash_test_failure_per_shift.items():\n",
    "  total = summary['Total Test']\n",
    "  failures = summary['Flash Failure']\n",
    "  rate = (failures / total) * 100 if total else 0\n",
    "  results[shift] = {\n",
    "    'Failures': failures,\n",
    "    'Total Tests': total,\n",
    "    'Failure Rate (%)': rate\n",
    "  }"
   ],
   "id": "4855b604fe14cc8d",
   "outputs": [],
   "execution_count": 54
  },
  {
   "metadata": {
    "ExecuteTime": {
     "end_time": "2025-05-20T21:07:58.278099Z",
     "start_time": "2025-05-20T21:07:58.275357Z"
    }
   },
   "cell_type": "code",
   "source": [
    "for shift, summary in results.items():\n",
    "  print(f'{shift} -> {summary['Failures']} failures / {summary[\"Total Tests\"]} tests --> {summary[\"Failure Rate (%)\"]:.2f}%')"
   ],
   "id": "de2c0b600be17e4e",
   "outputs": [
    {
     "name": "stdout",
     "output_type": "stream",
     "text": [
      "Shift 1 -> 36 failures / 90 tests --> 40.00%\n",
      "Shift 2 -> 43 failures / 90 tests --> 47.78%\n"
     ]
    }
   ],
   "execution_count": 56
  },
  {
   "metadata": {
    "ExecuteTime": {
     "end_time": "2025-05-20T20:58:30.078672Z",
     "start_time": "2025-05-20T20:58:30.077136Z"
    }
   },
   "cell_type": "code",
   "source": "",
   "id": "b126f1a65832c68d",
   "outputs": [],
   "execution_count": 52
  },
  {
   "metadata": {
    "ExecuteTime": {
     "end_time": "2025-05-20T20:58:30.081038Z",
     "start_time": "2025-05-20T20:58:30.079375Z"
    }
   },
   "cell_type": "code",
   "source": "",
   "id": "cd3c150dc6f68233",
   "outputs": [],
   "execution_count": 52
  },
  {
   "metadata": {
    "ExecuteTime": {
     "end_time": "2025-05-20T20:58:30.088040Z",
     "start_time": "2025-05-20T20:58:30.086187Z"
    }
   },
   "cell_type": "code",
   "source": "",
   "id": "3579f8b9a13a83c6",
   "outputs": [],
   "execution_count": 52
  },
  {
   "metadata": {
    "ExecuteTime": {
     "end_time": "2025-05-20T20:58:30.090704Z",
     "start_time": "2025-05-20T20:58:30.089055Z"
    }
   },
   "cell_type": "code",
   "source": "",
   "id": "569cda4c40040dc6",
   "outputs": [],
   "execution_count": 52
  },
  {
   "metadata": {
    "ExecuteTime": {
     "end_time": "2025-05-20T20:58:30.105554Z",
     "start_time": "2025-05-20T20:58:30.103705Z"
    }
   },
   "cell_type": "code",
   "source": "",
   "id": "31b77b062a33d51",
   "outputs": [],
   "execution_count": 52
  },
  {
   "metadata": {},
   "cell_type": "markdown",
   "source": [
    "### **Problem 2: Average Power Output by Assembly Line**\n",
    "\n",
    "**Goal:**\n",
    "Group panels by `'Assembly Line'` and compute the **average `'Power Output (W)'`** for each line.\n",
    "\n",
    "**Expected Output (example):**\n",
    "\n",
    "```\n",
    "Line A ➜ 318.7 W\n",
    "Line B ➜ 321.5 W\n",
    "Line C ➜ 319.0 W\n",
    "```\n",
    "\n",
    "\n",
    "\n",
    "### **Problem 3: Efficiency Classification Count per Shift**\n",
    "\n",
    "**Goal:**\n",
    "Classify panels into \"Excellent\" (≥ 20%), \"Good\" (18–19.99%), \"Average\" (15–17.99%), and \"Poor\" (< 15%) based on `'Efficiency (%)'` **per shift**.\n",
    "\n",
    "**Expected Output (example):**\n",
    "\n",
    "```\n",
    "Shift 1:\n",
    "  Excellent: 42\n",
    "  Good: 63\n",
    "  Average: 19\n",
    "  Poor: 6\n",
    "...\n",
    "```\n",
    "\n",
    "\n",
    "\n",
    "### **Problem 4: Most Common Number of Cells per Panel Type**\n",
    "\n",
    "**Goal:**\n",
    "Find the **most frequently used `'Number of Cells'`** for each `'Panel Type'`.\n",
    "\n",
    "**Expected Output (example):**\n",
    "\n",
    "```\n",
    "Monocrystalline ➜ 60 cells\n",
    "Polycrystalline ➜ 72 cells\n",
    "Thin-Film ➜ 120 cells\n",
    "```\n",
    "\n",
    "\n",
    "\n",
    "### **Problem 5: Junction Box Attachment Success Rate by Operator**\n",
    "\n",
    "**Goal:**\n",
    "For each operator, count how many times `'Junction Box Attached'` is `\"Yes\"` vs `\"No\"`, and compute the **success rate**.\n",
    "\n",
    "**Expected Output (example):**\n",
    "\n",
    "```\n",
    "Operator 101 ➜ 48/50 ➜ 96.0%\n",
    "Operator 202 ➜ 51/53 ➜ 96.2%\n",
    "...\n",
    "```\n",
    "\n",
    "\n",
    "\n",
    "### **Problem 6: Average Cell Alignment Deviation per Panel Type**\n",
    "\n",
    "**Goal:**\n",
    "Compute the **average `'Cell Alignment Deviation (mm)'`** for each `'Panel Type'`.\n",
    "\n",
    "**Expected Output (example):**\n",
    "\n",
    "```\n",
    "Monocrystalline ➜ 0.21 mm\n",
    "Polycrystalline ➜ 0.28 mm\n",
    "Thin-Film ➜ 0.19 mm\n",
    "```\n",
    "\n",
    "\n",
    "\n",
    "### **Problem 7: Final Inspection Status Breakdown Per Date**\n",
    "\n",
    "**Goal:**\n",
    "For each `'Date'`, count how many panels passed and failed the `'Final Inspection'`.\n",
    "\n",
    "**Expected Output (example):**\n",
    "\n",
    "```\n",
    "2025-04-01 ➜ Pass: 85 | Fail: 5\n",
    "2025-04-02 ➜ Pass: 79 | Fail: 7\n",
    "...\n",
    "```\n",
    "\n",
    "\n",
    "\n",
    "### **Problem 8: Daily Average Glass Thickness by Shift**\n",
    "\n",
    "**Goal:**\n",
    "Calculate the average `'Glass Thickness (mm)'` **per day** and **per shift**.\n",
    "\n",
    "**Expected Output (example):**\n",
    "\n",
    "```\n",
    "2025-04-01 (Shift 1): 3.2 mm\n",
    "2025-04-01 (Shift 2): 3.1 mm\n",
    "...\n",
    "```\n",
    "\n",
    "\n",
    "\n",
    "### **Problem 9: Operator with Highest Average Efficiency**\n",
    "\n",
    "**Goal:**\n",
    "Identify the operator with the **highest average `'Efficiency (%)'`** (only include those who assembled ≥ 10 panels).\n",
    "\n",
    "**Expected Output (example):**\n",
    "\n",
    "```\n",
    "Operator 205 ➜ 20.8% (12 panels)\n",
    "```\n",
    "\n",
    "\n",
    "\n",
    "### **Problem 10: Count of Panels with Insulation Resistance < 50 MΩ per Shift**\n",
    "\n",
    "**Goal:**\n",
    "For each shift, count how many panels had `'Insulation Resistance (MΩ)'` less than 50.\n",
    "\n",
    "**Expected Output (example):**\n",
    "\n",
    "```\n",
    "Shift 1 ➜ 4 panels\n",
    "Shift 2 ➜ 2 panels\n",
    "Shift 3 ➜ 1 panel\n",
    "```\n"
   ],
   "id": "2c1ef61e58b764c0"
  },
  {
   "metadata": {
    "ExecuteTime": {
     "end_time": "2025-05-20T20:58:30.119086Z",
     "start_time": "2025-05-20T20:58:30.117318Z"
    }
   },
   "cell_type": "code",
   "source": "",
   "id": "3436508ec2ffc6ea",
   "outputs": [],
   "execution_count": 52
  }
 ],
 "metadata": {
  "kernelspec": {
   "display_name": "Python 3",
   "language": "python",
   "name": "python3"
  },
  "language_info": {
   "codemirror_mode": {
    "name": "ipython",
    "version": 2
   },
   "file_extension": ".py",
   "mimetype": "text/x-python",
   "name": "python",
   "nbconvert_exporter": "python",
   "pygments_lexer": "ipython2",
   "version": "2.7.6"
  }
 },
 "nbformat": 4,
 "nbformat_minor": 5
}
