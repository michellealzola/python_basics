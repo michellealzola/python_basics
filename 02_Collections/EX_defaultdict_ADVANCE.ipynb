{
 "cells": [
  {
   "cell_type": "code",
   "id": "initial_id",
   "metadata": {
    "collapsed": true,
    "ExecuteTime": {
     "end_time": "2025-05-21T19:00:42.930170Z",
     "start_time": "2025-05-21T19:00:42.927447Z"
    }
   },
   "source": [
    "import csv\n",
    "import pandas as pd\n",
    "from collections import defaultdict\n",
    "from itertools import islice\n",
    "\n",
    "from debugpy.launcher import output"
   ],
   "outputs": [],
   "execution_count": 58
  },
  {
   "metadata": {},
   "cell_type": "markdown",
   "source": [
    "## Advanced Practice Problems Using `defaultdict()`\n",
    "\n",
    "### **Problem 1: Flash Test Failure Rate per Shift**\n",
    "\n",
    "**Goal:**\n",
    "Calculate the number of flash test failures and total tests per shift. Then compute and display the **failure rate (%)**.\n",
    "\n",
    "**Expected Output (example):**\n",
    "\n",
    "```\n",
    "Shift 1 ➜ 3 failures / 150 tests ➜ 2.00%\n",
    "Shift 2 ➜ 5 failures / 140 tests ➜ 3.57%\n",
    "Shift 3 ➜ 1 failures / 135 tests ➜ 0.74%\n",
    "```\n",
    "\n",
    "\n",
    "\n"
   ],
   "id": "96d8ef82137183da"
  },
  {
   "metadata": {
    "ExecuteTime": {
     "end_time": "2025-05-21T19:00:42.999187Z",
     "start_time": "2025-05-21T19:00:42.996525Z"
    }
   },
   "cell_type": "code",
   "source": "flash_test_failure_per_shift = defaultdict(lambda: {'Flash Failure': 0, 'Total Test': 0})",
   "id": "72ccaef8a9d08e5a",
   "outputs": [],
   "execution_count": 59
  },
  {
   "metadata": {
    "ExecuteTime": {
     "end_time": "2025-05-21T19:00:43.004691Z",
     "start_time": "2025-05-21T19:00:43.000816Z"
    }
   },
   "cell_type": "code",
   "source": [
    "with open('solar_panel_assembly_dataset.csv', newline='') as csvfile:\n",
    "  reader = csv.DictReader(csvfile)\n",
    "  for row in reader:\n",
    "    shift = row['Shift']\n",
    "    \n",
    "    flash_test_failure_per_shift[shift]['Total Test'] += 1\n",
    "    \n",
    "    if row['Flash Test Result'].strip().lower() == 'fail':\n",
    "      flash_test_failure_per_shift[shift]['Flash Failure'] += 1"
   ],
   "id": "a054b247629801d1",
   "outputs": [],
   "execution_count": 60
  },
  {
   "metadata": {
    "ExecuteTime": {
     "end_time": "2025-05-21T19:00:43.014681Z",
     "start_time": "2025-05-21T19:00:43.011862Z"
    }
   },
   "cell_type": "code",
   "source": "results = {}",
   "id": "dea3e9ef05b0e281",
   "outputs": [],
   "execution_count": 61
  },
  {
   "metadata": {
    "ExecuteTime": {
     "end_time": "2025-05-21T19:00:43.018108Z",
     "start_time": "2025-05-21T19:00:43.015751Z"
    }
   },
   "cell_type": "code",
   "source": [
    "for shift, summary in flash_test_failure_per_shift.items():\n",
    "  total = summary['Total Test']\n",
    "  failures = summary['Flash Failure']\n",
    "  rate = (failures / total) * 100 if total else 0\n",
    "  results[shift] = {\n",
    "    'Failures': failures,\n",
    "    'Total Tests': total,\n",
    "    'Failure Rate (%)': rate\n",
    "  }"
   ],
   "id": "4855b604fe14cc8d",
   "outputs": [],
   "execution_count": 62
  },
  {
   "metadata": {
    "ExecuteTime": {
     "end_time": "2025-05-21T19:00:43.036423Z",
     "start_time": "2025-05-21T19:00:43.032464Z"
    }
   },
   "cell_type": "code",
   "source": [
    "for shift, summary in results.items():\n",
    "  print(f'{shift} -> {summary['Failures']} failures / {summary[\"Total Tests\"]} tests --> {summary[\"Failure Rate (%)\"]:.2f}%')"
   ],
   "id": "de2c0b600be17e4e",
   "outputs": [
    {
     "name": "stdout",
     "output_type": "stream",
     "text": [
      "Shift 1 -> 36 failures / 90 tests --> 40.00%\n",
      "Shift 2 -> 43 failures / 90 tests --> 47.78%\n"
     ]
    }
   ],
   "execution_count": 63
  },
  {
   "metadata": {},
   "cell_type": "markdown",
   "source": [
    "### **Problem 2: Average Power Output by Assembly Line**\n",
    "\n",
    "**Goal:**\n",
    "Group panels by `'Assembly Line'` and compute the **average `'Power Output (W)'`** for each line.\n",
    "\n",
    "**Expected Output (example):**\n",
    "\n",
    "```\n",
    "Line A ➜ 318.7 W\n",
    "Line B ➜ 321.5 W\n",
    "Line C ➜ 319.0 W\n",
    "```"
   ],
   "id": "992e0263be831c6a"
  },
  {
   "metadata": {
    "ExecuteTime": {
     "end_time": "2025-05-21T19:00:43.049438Z",
     "start_time": "2025-05-21T19:00:43.046764Z"
    }
   },
   "cell_type": "code",
   "source": "output_by_assembly_line = defaultdict(list)",
   "id": "cd3c150dc6f68233",
   "outputs": [],
   "execution_count": 64
  },
  {
   "metadata": {
    "ExecuteTime": {
     "end_time": "2025-05-21T19:00:43.054982Z",
     "start_time": "2025-05-21T19:00:43.050781Z"
    }
   },
   "cell_type": "code",
   "source": [
    "with open('solar_panel_assembly_dataset.csv', newline='') as csvfile:\n",
    "    reader = csv.DictReader(csvfile)\n",
    "    for row in reader:\n",
    "      assembly_line = row['Assembly Line']\n",
    "      power_output = float(row['Power Output (W)'])\n",
    "      output_by_assembly_line[assembly_line].append(power_output)\n",
    "      "
   ],
   "id": "3579f8b9a13a83c6",
   "outputs": [],
   "execution_count": 65
  },
  {
   "metadata": {
    "ExecuteTime": {
     "end_time": "2025-05-21T19:00:43.069607Z",
     "start_time": "2025-05-21T19:00:43.066699Z"
    }
   },
   "cell_type": "code",
   "source": [
    "average_power_output = {\n",
    "  line: round(sum(output)/ len(output), 2)\n",
    "  for line, output in output_by_assembly_line.items()\n",
    "}"
   ],
   "id": "569cda4c40040dc6",
   "outputs": [],
   "execution_count": 66
  },
  {
   "metadata": {
    "ExecuteTime": {
     "end_time": "2025-05-21T19:01:05.896044Z",
     "start_time": "2025-05-21T19:01:05.892156Z"
    }
   },
   "cell_type": "code",
   "source": "average_power_output",
   "id": "94860e358186353",
   "outputs": [
    {
     "data": {
      "text/plain": [
       "{'Line 3': 326.3, 'Line 1': 333.33, 'Line 2': 323.58}"
      ]
     },
     "execution_count": 67,
     "metadata": {},
     "output_type": "execute_result"
    }
   ],
   "execution_count": 67
  },
  {
   "metadata": {
    "ExecuteTime": {
     "end_time": "2025-05-21T19:00:43.095712Z",
     "start_time": "2025-05-21T19:00:43.093512Z"
    }
   },
   "cell_type": "code",
   "source": "",
   "id": "13c829edaae22289",
   "outputs": [],
   "execution_count": 66
  },
  {
   "metadata": {
    "ExecuteTime": {
     "end_time": "2025-05-21T19:00:43.109077Z",
     "start_time": "2025-05-21T19:00:43.107210Z"
    }
   },
   "cell_type": "code",
   "source": "",
   "id": "db84b7d996870e92",
   "outputs": [],
   "execution_count": 66
  },
  {
   "metadata": {
    "ExecuteTime": {
     "end_time": "2025-05-21T19:00:43.112234Z",
     "start_time": "2025-05-21T19:00:43.110414Z"
    }
   },
   "cell_type": "code",
   "source": "",
   "id": "f1d980a543266556",
   "outputs": [],
   "execution_count": 66
  },
  {
   "metadata": {
    "ExecuteTime": {
     "end_time": "2025-05-21T19:00:43.145580Z",
     "start_time": "2025-05-21T19:00:43.143256Z"
    }
   },
   "cell_type": "code",
   "source": "",
   "id": "4dbab2e8be8982b1",
   "outputs": [],
   "execution_count": 66
  },
  {
   "metadata": {
    "ExecuteTime": {
     "end_time": "2025-05-21T19:00:43.171622Z",
     "start_time": "2025-05-21T19:00:43.169778Z"
    }
   },
   "cell_type": "code",
   "source": "",
   "id": "90304d67388ca53a",
   "outputs": [],
   "execution_count": 66
  },
  {
   "metadata": {
    "ExecuteTime": {
     "end_time": "2025-05-21T19:00:43.207629Z",
     "start_time": "2025-05-21T19:00:43.205461Z"
    }
   },
   "cell_type": "code",
   "source": "",
   "id": "1f8d337a4aef1f71",
   "outputs": [],
   "execution_count": 66
  },
  {
   "metadata": {
    "ExecuteTime": {
     "end_time": "2025-05-21T19:00:43.218752Z",
     "start_time": "2025-05-21T19:00:43.216637Z"
    }
   },
   "cell_type": "code",
   "source": "",
   "id": "7ca79616d3c00947",
   "outputs": [],
   "execution_count": 66
  },
  {
   "metadata": {
    "ExecuteTime": {
     "end_time": "2025-05-21T19:00:43.221719Z",
     "start_time": "2025-05-21T19:00:43.219754Z"
    }
   },
   "cell_type": "code",
   "source": "",
   "id": "31b77b062a33d51",
   "outputs": [],
   "execution_count": 66
  },
  {
   "metadata": {},
   "cell_type": "markdown",
   "source": [
    "\n",
    "\n",
    "\n",
    "\n",
    "### **Problem 3: Efficiency Classification Count per Shift**\n",
    "\n",
    "**Goal:**\n",
    "Classify panels into \"Excellent\" (≥ 20%), \"Good\" (18–19.99%), \"Average\" (15–17.99%), and \"Poor\" (< 15%) based on `'Efficiency (%)'` **per shift**.\n",
    "\n",
    "**Expected Output (example):**\n",
    "\n",
    "```\n",
    "Shift 1:\n",
    "  Excellent: 42\n",
    "  Good: 63\n",
    "  Average: 19\n",
    "  Poor: 6\n",
    "...\n",
    "```\n",
    "\n",
    "\n",
    "\n",
    "### **Problem 4: Most Common Number of Cells per Panel Type**\n",
    "\n",
    "**Goal:**\n",
    "Find the **most frequently used `'Number of Cells'`** for each `'Panel Type'`.\n",
    "\n",
    "**Expected Output (example):**\n",
    "\n",
    "```\n",
    "Monocrystalline ➜ 60 cells\n",
    "Polycrystalline ➜ 72 cells\n",
    "Thin-Film ➜ 120 cells\n",
    "```\n",
    "\n",
    "\n",
    "\n",
    "### **Problem 5: Junction Box Attachment Success Rate by Operator**\n",
    "\n",
    "**Goal:**\n",
    "For each operator, count how many times `'Junction Box Attached'` is `\"Yes\"` vs `\"No\"`, and compute the **success rate**.\n",
    "\n",
    "**Expected Output (example):**\n",
    "\n",
    "```\n",
    "Operator 101 ➜ 48/50 ➜ 96.0%\n",
    "Operator 202 ➜ 51/53 ➜ 96.2%\n",
    "...\n",
    "```\n",
    "\n",
    "\n",
    "\n",
    "### **Problem 6: Average Cell Alignment Deviation per Panel Type**\n",
    "\n",
    "**Goal:**\n",
    "Compute the **average `'Cell Alignment Deviation (mm)'`** for each `'Panel Type'`.\n",
    "\n",
    "**Expected Output (example):**\n",
    "\n",
    "```\n",
    "Monocrystalline ➜ 0.21 mm\n",
    "Polycrystalline ➜ 0.28 mm\n",
    "Thin-Film ➜ 0.19 mm\n",
    "```\n",
    "\n",
    "\n",
    "\n",
    "### **Problem 7: Final Inspection Status Breakdown Per Date**\n",
    "\n",
    "**Goal:**\n",
    "For each `'Date'`, count how many panels passed and failed the `'Final Inspection'`.\n",
    "\n",
    "**Expected Output (example):**\n",
    "\n",
    "```\n",
    "2025-04-01 ➜ Pass: 85 | Fail: 5\n",
    "2025-04-02 ➜ Pass: 79 | Fail: 7\n",
    "...\n",
    "```\n",
    "\n",
    "\n",
    "\n",
    "### **Problem 8: Daily Average Glass Thickness by Shift**\n",
    "\n",
    "**Goal:**\n",
    "Calculate the average `'Glass Thickness (mm)'` **per day** and **per shift**.\n",
    "\n",
    "**Expected Output (example):**\n",
    "\n",
    "```\n",
    "2025-04-01 (Shift 1): 3.2 mm\n",
    "2025-04-01 (Shift 2): 3.1 mm\n",
    "...\n",
    "```\n",
    "\n",
    "\n",
    "\n",
    "### **Problem 9: Operator with Highest Average Efficiency**\n",
    "\n",
    "**Goal:**\n",
    "Identify the operator with the **highest average `'Efficiency (%)'`** (only include those who assembled ≥ 10 panels).\n",
    "\n",
    "**Expected Output (example):**\n",
    "\n",
    "```\n",
    "Operator 205 ➜ 20.8% (12 panels)\n",
    "```\n",
    "\n",
    "\n",
    "\n",
    "### **Problem 10: Count of Panels with Insulation Resistance < 50 MΩ per Shift**\n",
    "\n",
    "**Goal:**\n",
    "For each shift, count how many panels had `'Insulation Resistance (MΩ)'` less than 50.\n",
    "\n",
    "**Expected Output (example):**\n",
    "\n",
    "```\n",
    "Shift 1 ➜ 4 panels\n",
    "Shift 2 ➜ 2 panels\n",
    "Shift 3 ➜ 1 panel\n",
    "```\n"
   ],
   "id": "2c1ef61e58b764c0"
  },
  {
   "metadata": {
    "ExecuteTime": {
     "end_time": "2025-05-21T19:00:43.224632Z",
     "start_time": "2025-05-21T19:00:43.223042Z"
    }
   },
   "cell_type": "code",
   "source": "",
   "id": "3436508ec2ffc6ea",
   "outputs": [],
   "execution_count": 66
  }
 ],
 "metadata": {
  "kernelspec": {
   "display_name": "Python 3",
   "language": "python",
   "name": "python3"
  },
  "language_info": {
   "codemirror_mode": {
    "name": "ipython",
    "version": 2
   },
   "file_extension": ".py",
   "mimetype": "text/x-python",
   "name": "python",
   "nbconvert_exporter": "python",
   "pygments_lexer": "ipython2",
   "version": "2.7.6"
  }
 },
 "nbformat": 4,
 "nbformat_minor": 5
}
