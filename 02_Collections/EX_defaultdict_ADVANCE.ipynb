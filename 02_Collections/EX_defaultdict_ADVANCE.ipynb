{
 "cells": [
  {
   "cell_type": "code",
   "id": "initial_id",
   "metadata": {
    "collapsed": true,
    "ExecuteTime": {
     "end_time": "2025-05-21T23:36:04.695807Z",
     "start_time": "2025-05-21T23:36:04.693141Z"
    }
   },
   "source": [
    "import csv\n",
    "\n",
    "import numpy as np\n",
    "import pandas as pd\n",
    "from collections import defaultdict\n",
    "from itertools import islice\n",
    "\n",
    "from debugpy.launcher import output"
   ],
   "outputs": [],
   "execution_count": 1400
  },
  {
   "metadata": {},
   "cell_type": "markdown",
   "source": [
    "## Advanced Practice Problems Using `defaultdict()`\n",
    "\n",
    "### **Problem 1: Flash Test Failure Rate per Shift**\n",
    "\n",
    "**Goal:**\n",
    "Calculate the number of flash test failures and total tests per shift. Then compute and display the **failure rate (%)**.\n",
    "\n",
    "**Expected Output (example):**\n",
    "\n",
    "```\n",
    "Shift 1 ➜ 3 failures / 150 tests ➜ 2.00%\n",
    "Shift 2 ➜ 5 failures / 140 tests ➜ 3.57%\n",
    "Shift 3 ➜ 1 failures / 135 tests ➜ 0.74%\n",
    "```\n",
    "\n",
    "\n",
    "\n"
   ],
   "id": "96d8ef82137183da"
  },
  {
   "metadata": {
    "ExecuteTime": {
     "end_time": "2025-05-21T23:36:04.845940Z",
     "start_time": "2025-05-21T23:36:04.843525Z"
    }
   },
   "cell_type": "code",
   "source": "flash_test_failure_per_shift = defaultdict(lambda: {'Flash Failure': 0, 'Total Test': 0})",
   "id": "72ccaef8a9d08e5a",
   "outputs": [],
   "execution_count": 1401
  },
  {
   "metadata": {
    "ExecuteTime": {
     "end_time": "2025-05-21T23:36:04.859884Z",
     "start_time": "2025-05-21T23:36:04.856202Z"
    }
   },
   "cell_type": "code",
   "source": [
    "with open('solar_panel_assembly_dataset.csv', newline='') as csvfile:\n",
    "  reader = csv.DictReader(csvfile)\n",
    "  for row in reader:\n",
    "    shift = row['Shift']\n",
    "    \n",
    "    flash_test_failure_per_shift[shift]['Total Test'] += 1\n",
    "    \n",
    "    if row['Flash Test Result'].strip().lower() == 'fail':\n",
    "      flash_test_failure_per_shift[shift]['Flash Failure'] += 1"
   ],
   "id": "a054b247629801d1",
   "outputs": [],
   "execution_count": 1402
  },
  {
   "metadata": {
    "ExecuteTime": {
     "end_time": "2025-05-21T23:36:04.871153Z",
     "start_time": "2025-05-21T23:36:04.868854Z"
    }
   },
   "cell_type": "code",
   "source": "results = {}",
   "id": "dea3e9ef05b0e281",
   "outputs": [],
   "execution_count": 1403
  },
  {
   "metadata": {
    "ExecuteTime": {
     "end_time": "2025-05-21T23:36:04.898216Z",
     "start_time": "2025-05-21T23:36:04.895588Z"
    }
   },
   "cell_type": "code",
   "source": [
    "for shift, summary in flash_test_failure_per_shift.items():\n",
    "  total = summary['Total Test']\n",
    "  failures = summary['Flash Failure']\n",
    "  rate = (failures / total) * 100 if total else 0\n",
    "  results[shift] = {\n",
    "    'Failures': failures,\n",
    "    'Total Tests': total,\n",
    "    'Failure Rate (%)': rate\n",
    "  }"
   ],
   "id": "4855b604fe14cc8d",
   "outputs": [],
   "execution_count": 1404
  },
  {
   "metadata": {
    "ExecuteTime": {
     "end_time": "2025-05-21T23:36:04.911216Z",
     "start_time": "2025-05-21T23:36:04.908335Z"
    }
   },
   "cell_type": "code",
   "source": [
    "for shift, summary in results.items():\n",
    "  print(f'{shift} -> {summary['Failures']} failures / {summary[\"Total Tests\"]} tests --> {summary[\"Failure Rate (%)\"]:.2f}%')"
   ],
   "id": "de2c0b600be17e4e",
   "outputs": [
    {
     "name": "stdout",
     "output_type": "stream",
     "text": [
      "Shift 1 -> 36 failures / 90 tests --> 40.00%\n",
      "Shift 2 -> 43 failures / 90 tests --> 47.78%\n"
     ]
    }
   ],
   "execution_count": 1405
  },
  {
   "metadata": {},
   "cell_type": "markdown",
   "source": [
    "### **Problem 2: Average Power Output by Assembly Line**\n",
    "\n",
    "**Goal:**\n",
    "Group panels by `'Assembly Line'` and compute the **average `'Power Output (W)'`** for each line.\n",
    "\n",
    "**Expected Output (example):**\n",
    "\n",
    "```\n",
    "Line A ➜ 318.7 W\n",
    "Line B ➜ 321.5 W\n",
    "Line C ➜ 319.0 W\n",
    "```"
   ],
   "id": "992e0263be831c6a"
  },
  {
   "metadata": {
    "ExecuteTime": {
     "end_time": "2025-05-21T23:36:04.915237Z",
     "start_time": "2025-05-21T23:36:04.913187Z"
    }
   },
   "cell_type": "code",
   "source": "output_by_assembly_line = defaultdict(list)",
   "id": "cd3c150dc6f68233",
   "outputs": [],
   "execution_count": 1406
  },
  {
   "metadata": {
    "ExecuteTime": {
     "end_time": "2025-05-21T23:36:04.921242Z",
     "start_time": "2025-05-21T23:36:04.917968Z"
    }
   },
   "cell_type": "code",
   "source": [
    "with open('solar_panel_assembly_dataset.csv', newline='') as csvfile:\n",
    "    reader = csv.DictReader(csvfile)\n",
    "    for row in reader:\n",
    "      assembly_line = row['Assembly Line']\n",
    "      power_output = float(row['Power Output (W)'])\n",
    "      output_by_assembly_line[assembly_line].append(power_output)\n",
    "      "
   ],
   "id": "3579f8b9a13a83c6",
   "outputs": [],
   "execution_count": 1407
  },
  {
   "metadata": {
    "ExecuteTime": {
     "end_time": "2025-05-21T23:36:04.948601Z",
     "start_time": "2025-05-21T23:36:04.945733Z"
    }
   },
   "cell_type": "code",
   "source": [
    "average_power_output = {\n",
    "  line: round(sum(output)/ len(output), 2)\n",
    "  for line, output in output_by_assembly_line.items()\n",
    "}"
   ],
   "id": "569cda4c40040dc6",
   "outputs": [],
   "execution_count": 1408
  },
  {
   "metadata": {
    "ExecuteTime": {
     "end_time": "2025-05-21T23:36:04.971811Z",
     "start_time": "2025-05-21T23:36:04.968670Z"
    }
   },
   "cell_type": "code",
   "source": "average_power_output",
   "id": "94860e358186353",
   "outputs": [
    {
     "data": {
      "text/plain": [
       "{'Line 3': 326.3, 'Line 1': 333.33, 'Line 2': 323.58}"
      ]
     },
     "execution_count": 1409,
     "metadata": {},
     "output_type": "execute_result"
    }
   ],
   "execution_count": 1409
  },
  {
   "metadata": {},
   "cell_type": "markdown",
   "source": [
    "### **Problem 3: Efficiency Classification Count per Shift**\n",
    "\n",
    "**Goal:**\n",
    "Classify panels into \"Excellent\" (≥ 20%), \"Good\" (18–19.99%), \"Average\" (15–17.99%), and \"Poor\" (< 15%) based on `'Efficiency (%)'` **per shift**.\n",
    "\n",
    "**Expected Output (example):**\n",
    "\n",
    "```\n",
    "Shift 1:\n",
    "  Excellent: 42\n",
    "  Good: 63\n",
    "  Average: 19\n",
    "  Poor: 6\n",
    "...\n",
    "```\n"
   ],
   "id": "748a56817094c328"
  },
  {
   "metadata": {
    "ExecuteTime": {
     "end_time": "2025-05-21T23:36:04.984844Z",
     "start_time": "2025-05-21T23:36:04.982187Z"
    }
   },
   "cell_type": "code",
   "source": "efficiency_per_shift = defaultdict(lambda: defaultdict(int))",
   "id": "db84b7d996870e92",
   "outputs": [],
   "execution_count": 1410
  },
  {
   "metadata": {
    "ExecuteTime": {
     "end_time": "2025-05-21T23:36:05.014889Z",
     "start_time": "2025-05-21T23:36:05.007997Z"
    }
   },
   "cell_type": "code",
   "source": [
    "with open('solar_panel_assembly_dataset.csv', newline='') as csvfile:\n",
    "    reader = csv.DictReader(csvfile)\n",
    "    \n",
    "    for row in reader:\n",
    "      shift = row['Shift']\n",
    "      efficiency = float(row['Efficiency (%)'])\n",
    "      \n",
    "      if efficiency >= 20:\n",
    "        efficiency_per_shift[shift]['Excellent'] += 1\n",
    "      elif efficiency >= 18:\n",
    "        efficiency_per_shift[shift]['Good'] += 1\n",
    "      elif efficiency >= 15:\n",
    "        efficiency_per_shift[shift]['Average'] += 1\n",
    "      else:\n",
    "        efficiency_per_shift[shift]['Poor'] += 1"
   ],
   "id": "f1d980a543266556",
   "outputs": [],
   "execution_count": 1411
  },
  {
   "metadata": {
    "ExecuteTime": {
     "end_time": "2025-05-21T23:36:05.045009Z",
     "start_time": "2025-05-21T23:36:05.041892Z"
    }
   },
   "cell_type": "code",
   "source": "efficiency_per_shift",
   "id": "4dbab2e8be8982b1",
   "outputs": [
    {
     "data": {
      "text/plain": [
       "defaultdict(<function __main__.<lambda>()>,\n",
       "            {'Shift 1': defaultdict(int,\n",
       "                         {'Average': 37, 'Excellent': 27, 'Good': 26}),\n",
       "             'Shift 2': defaultdict(int,\n",
       "                         {'Excellent': 30, 'Good': 24, 'Average': 36})})"
      ]
     },
     "execution_count": 1412,
     "metadata": {},
     "output_type": "execute_result"
    }
   ],
   "execution_count": 1412
  },
  {
   "metadata": {},
   "cell_type": "markdown",
   "source": [
    "### **Problem 4: Most Common Number of Cells per Panel Type**\n",
    "\n",
    "**Goal:**\n",
    "Find the **most frequently used `'Number of Cells'`** for each `'Panel Type'`.\n",
    "\n",
    "**Expected Output (example):**\n",
    "\n",
    "```\n",
    "Monocrystalline ➜ 60 cells\n",
    "Polycrystalline ➜ 72 cells\n",
    "Thin-Film ➜ 120 cells\n",
    "```\n"
   ],
   "id": "264b4a983e26a5ae"
  },
  {
   "metadata": {
    "ExecuteTime": {
     "end_time": "2025-05-21T23:36:05.061982Z",
     "start_time": "2025-05-21T23:36:05.059602Z"
    }
   },
   "cell_type": "code",
   "source": "common_cells_per_panel = defaultdict(lambda: defaultdict(int))",
   "id": "4146ac284b82f795",
   "outputs": [],
   "execution_count": 1413
  },
  {
   "metadata": {
    "ExecuteTime": {
     "end_time": "2025-05-21T23:36:05.077199Z",
     "start_time": "2025-05-21T23:36:05.074084Z"
    }
   },
   "cell_type": "code",
   "source": [
    "with open('solar_panel_assembly_dataset.csv', newline='') as csvfile:\n",
    "  reader = csv.DictReader(csvfile)\n",
    "  for row in reader:\n",
    "    panel_type = row['Panel Type']\n",
    "    number_of_cells = row['Number of Cells']\n",
    "    common_cells_per_panel[panel_type][number_of_cells] += 1"
   ],
   "id": "6feadb0b81072960",
   "outputs": [],
   "execution_count": 1414
  },
  {
   "metadata": {
    "ExecuteTime": {
     "end_time": "2025-05-21T23:36:05.148690Z",
     "start_time": "2025-05-21T23:36:05.145547Z"
    }
   },
   "cell_type": "code",
   "source": [
    "for panel_type, number_of_cells in common_cells_per_panel.items():\n",
    "  max_value = max(number_of_cells.values())\n",
    "  for cell, count in number_of_cells.items():\n",
    "    if count == max_value:\n",
    "      print(f'{panel_type} --> {cell} cells')"
   ],
   "id": "e3a5341805220d93",
   "outputs": [
    {
     "name": "stdout",
     "output_type": "stream",
     "text": [
      "Thin-Film --> 60 cells\n",
      "Polycrystalline --> 72 cells\n",
      "Monocrystalline --> 72 cells\n"
     ]
    }
   ],
   "execution_count": 1415
  },
  {
   "metadata": {},
   "cell_type": "markdown",
   "source": [
    "### **Problem 5: Junction Box Attachment Success Rate by Operator**\n",
    "\n",
    "**Goal:**\n",
    "For each operator, count how many times `'Junction Box Attached'` is `\"Yes\"` vs `\"No\"`, and compute the **success rate**.\n",
    "\n",
    "**Expected Output (example):**\n",
    "\n",
    "```\n",
    "Operator 101 ➜ 48/50 ➜ 96.0%\n",
    "Operator 202 ➜ 51/53 ➜ 96.2%\n",
    "...\n",
    "```"
   ],
   "id": "c26606036fe2547c"
  },
  {
   "metadata": {
    "ExecuteTime": {
     "end_time": "2025-05-21T23:36:05.164652Z",
     "start_time": "2025-05-21T23:36:05.162306Z"
    }
   },
   "cell_type": "code",
   "source": "jba_success_rate_per_operator = defaultdict(lambda: {'JB Attached': 0, 'Total Attached': 0})",
   "id": "3bf3f2ca28648cd0",
   "outputs": [],
   "execution_count": 1416
  },
  {
   "metadata": {
    "ExecuteTime": {
     "end_time": "2025-05-21T23:36:05.201899Z",
     "start_time": "2025-05-21T23:36:05.197644Z"
    }
   },
   "cell_type": "code",
   "source": [
    "with open('solar_panel_assembly_dataset.csv', newline='') as csvfile:\n",
    "  reader = csv.DictReader(csvfile)\n",
    "  for row in reader:\n",
    "    operator = row['Operator ID']\n",
    "    jb_attached = row['Junction Box Attached']\n",
    "    jba_success_rate_per_operator[operator]['Total Attached'] += 1\n",
    "    if jb_attached == 'Yes':\n",
    "      jba_success_rate_per_operator[operator]['JB Attached'] += 1"
   ],
   "id": "227a1ffed450e10f",
   "outputs": [],
   "execution_count": 1417
  },
  {
   "metadata": {
    "ExecuteTime": {
     "end_time": "2025-05-21T23:36:05.215715Z",
     "start_time": "2025-05-21T23:36:05.209521Z"
    }
   },
   "cell_type": "code",
   "source": [
    "for operator, jba_result in jba_success_rate_per_operator.items():\n",
    "  jb_attached = jba_result['JB Attached']\n",
    "  total_attached = jba_result['Total Attached']\n",
    "  if jba_result['Total Attached'] != 0:\n",
    "    success_rate = round(jb_attached / total_attached * 100, 2)\n",
    "  else:\n",
    "    success_rate = 0 \n",
    "  print(f'{operator} --> {jb_attached} / {total_attached} --> {success_rate}%')"
   ],
   "id": "93a95e4627214428",
   "outputs": [
    {
     "name": "stdout",
     "output_type": "stream",
     "text": [
      "EMP593 --> 1 / 1 --> 100.0%\n",
      "EMP448 --> 1 / 1 --> 100.0%\n",
      "EMP993 --> 1 / 1 --> 100.0%\n",
      "EMP533 --> 0 / 1 --> 0.0%\n",
      "EMP415 --> 1 / 1 --> 100.0%\n",
      "EMP358 --> 1 / 1 --> 100.0%\n",
      "EMP795 --> 0 / 1 --> 0.0%\n",
      "EMP538 --> 0 / 2 --> 0.0%\n",
      "EMP138 --> 1 / 1 --> 100.0%\n",
      "EMP554 --> 0 / 1 --> 0.0%\n",
      "EMP973 --> 1 / 1 --> 100.0%\n",
      "EMP727 --> 0 / 2 --> 0.0%\n",
      "EMP508 --> 0 / 1 --> 0.0%\n",
      "EMP708 --> 2 / 2 --> 100.0%\n",
      "EMP476 --> 0 / 1 --> 0.0%\n",
      "EMP519 --> 1 / 1 --> 100.0%\n",
      "EMP713 --> 1 / 1 --> 100.0%\n",
      "EMP532 --> 0 / 1 --> 0.0%\n",
      "EMP164 --> 1 / 1 --> 100.0%\n",
      "EMP909 --> 0 / 1 --> 0.0%\n",
      "EMP305 --> 0 / 1 --> 0.0%\n",
      "EMP132 --> 1 / 1 --> 100.0%\n",
      "EMP497 --> 0 / 1 --> 0.0%\n",
      "EMP402 --> 1 / 1 --> 100.0%\n",
      "EMP794 --> 0 / 1 --> 0.0%\n",
      "EMP762 --> 0 / 1 --> 0.0%\n",
      "EMP813 --> 1 / 1 --> 100.0%\n",
      "EMP695 --> 1 / 1 --> 100.0%\n",
      "EMP349 --> 1 / 1 --> 100.0%\n",
      "EMP705 --> 1 / 1 --> 100.0%\n",
      "EMP211 --> 1 / 1 --> 100.0%\n",
      "EMP656 --> 0 / 1 --> 0.0%\n",
      "EMP528 --> 0 / 1 --> 0.0%\n",
      "EMP913 --> 0 / 1 --> 0.0%\n",
      "EMP694 --> 0 / 1 --> 0.0%\n",
      "EMP582 --> 1 / 1 --> 100.0%\n",
      "EMP350 --> 1 / 2 --> 50.0%\n",
      "EMP719 --> 1 / 1 --> 100.0%\n",
      "EMP857 --> 1 / 2 --> 50.0%\n",
      "EMP715 --> 1 / 1 --> 100.0%\n",
      "EMP625 --> 1 / 1 --> 100.0%\n",
      "EMP891 --> 0 / 1 --> 0.0%\n",
      "EMP288 --> 1 / 1 --> 100.0%\n",
      "EMP800 --> 0 / 1 --> 0.0%\n",
      "EMP229 --> 1 / 1 --> 100.0%\n",
      "EMP480 --> 0 / 1 --> 0.0%\n",
      "EMP512 --> 1 / 1 --> 100.0%\n",
      "EMP440 --> 1 / 1 --> 100.0%\n",
      "EMP152 --> 0 / 1 --> 0.0%\n",
      "EMP650 --> 0 / 1 --> 0.0%\n",
      "EMP399 --> 1 / 1 --> 100.0%\n",
      "EMP668 --> 0 / 1 --> 0.0%\n",
      "EMP193 --> 1 / 1 --> 100.0%\n",
      "EMP841 --> 1 / 2 --> 50.0%\n",
      "EMP209 --> 1 / 1 --> 100.0%\n",
      "EMP169 --> 1 / 1 --> 100.0%\n",
      "EMP979 --> 1 / 1 --> 100.0%\n",
      "EMP478 --> 1 / 1 --> 100.0%\n",
      "EMP450 --> 1 / 1 --> 100.0%\n",
      "EMP429 --> 1 / 1 --> 100.0%\n",
      "EMP304 --> 1 / 1 --> 100.0%\n",
      "EMP875 --> 1 / 2 --> 50.0%\n",
      "EMP765 --> 0 / 1 --> 0.0%\n",
      "EMP264 --> 2 / 2 --> 100.0%\n",
      "EMP367 --> 1 / 1 --> 100.0%\n",
      "EMP372 --> 1 / 2 --> 50.0%\n",
      "EMP589 --> 0 / 1 --> 0.0%\n",
      "EMP425 --> 0 / 1 --> 0.0%\n",
      "EMP233 --> 0 / 1 --> 0.0%\n",
      "EMP679 --> 0 / 1 --> 0.0%\n",
      "EMP811 --> 0 / 1 --> 0.0%\n",
      "EMP710 --> 1 / 2 --> 50.0%\n",
      "EMP428 --> 1 / 1 --> 100.0%\n",
      "EMP671 --> 1 / 1 --> 100.0%\n",
      "EMP613 --> 1 / 1 --> 100.0%\n",
      "EMP826 --> 1 / 1 --> 100.0%\n",
      "EMP524 --> 1 / 1 --> 100.0%\n",
      "EMP549 --> 0 / 1 --> 0.0%\n",
      "EMP297 --> 0 / 1 --> 0.0%\n",
      "EMP744 --> 0 / 1 --> 0.0%\n",
      "EMP128 --> 1 / 2 --> 50.0%\n",
      "EMP734 --> 1 / 2 --> 50.0%\n",
      "EMP270 --> 1 / 1 --> 100.0%\n",
      "EMP747 --> 1 / 1 --> 100.0%\n",
      "EMP141 --> 0 / 1 --> 0.0%\n",
      "EMP939 --> 1 / 1 --> 100.0%\n",
      "EMP228 --> 0 / 1 --> 0.0%\n",
      "EMP616 --> 1 / 2 --> 50.0%\n",
      "EMP652 --> 0 / 1 --> 0.0%\n",
      "EMP555 --> 0 / 1 --> 0.0%\n",
      "EMP284 --> 1 / 2 --> 50.0%\n",
      "EMP745 --> 0 / 1 --> 0.0%\n",
      "EMP780 --> 1 / 1 --> 100.0%\n",
      "EMP799 --> 0 / 1 --> 0.0%\n",
      "EMP704 --> 1 / 1 --> 100.0%\n",
      "EMP384 --> 1 / 1 --> 100.0%\n",
      "EMP626 --> 0 / 1 --> 0.0%\n",
      "EMP916 --> 0 / 1 --> 0.0%\n",
      "EMP505 --> 0 / 1 --> 0.0%\n",
      "EMP546 --> 0 / 1 --> 0.0%\n",
      "EMP260 --> 0 / 1 --> 0.0%\n",
      "EMP485 --> 1 / 1 --> 100.0%\n",
      "EMP820 --> 0 / 1 --> 0.0%\n",
      "EMP240 --> 1 / 1 --> 100.0%\n",
      "EMP247 --> 0 / 1 --> 0.0%\n",
      "EMP977 --> 0 / 1 --> 0.0%\n",
      "EMP562 --> 1 / 1 --> 100.0%\n",
      "EMP872 --> 0 / 1 --> 0.0%\n",
      "EMP767 --> 0 / 1 --> 0.0%\n",
      "EMP723 --> 1 / 1 --> 100.0%\n",
      "EMP885 --> 0 / 1 --> 0.0%\n",
      "EMP276 --> 1 / 1 --> 100.0%\n",
      "EMP365 --> 1 / 1 --> 100.0%\n",
      "EMP363 --> 1 / 3 --> 33.33%\n",
      "EMP336 --> 1 / 1 --> 100.0%\n",
      "EMP360 --> 0 / 1 --> 0.0%\n",
      "EMP495 --> 0 / 1 --> 0.0%\n",
      "EMP517 --> 1 / 1 --> 100.0%\n",
      "EMP243 --> 0 / 1 --> 0.0%\n",
      "EMP576 --> 1 / 1 --> 100.0%\n",
      "EMP742 --> 1 / 1 --> 100.0%\n",
      "EMP803 --> 1 / 1 --> 100.0%\n",
      "EMP217 --> 1 / 2 --> 50.0%\n",
      "EMP434 --> 1 / 1 --> 100.0%\n",
      "EMP778 --> 0 / 1 --> 0.0%\n",
      "EMP515 --> 2 / 2 --> 100.0%\n",
      "EMP815 --> 0 / 1 --> 0.0%\n",
      "EMP869 --> 1 / 1 --> 100.0%\n",
      "EMP283 --> 0 / 1 --> 0.0%\n",
      "EMP732 --> 0 / 1 --> 0.0%\n",
      "EMP370 --> 0 / 1 --> 0.0%\n",
      "EMP577 --> 1 / 1 --> 100.0%\n",
      "EMP531 --> 1 / 1 --> 100.0%\n",
      "EMP681 --> 1 / 1 --> 100.0%\n",
      "EMP570 --> 0 / 1 --> 0.0%\n",
      "EMP771 --> 1 / 1 --> 100.0%\n",
      "EMP804 --> 1 / 1 --> 100.0%\n",
      "EMP706 --> 0 / 2 --> 0.0%\n",
      "EMP957 --> 1 / 1 --> 100.0%\n",
      "EMP139 --> 0 / 1 --> 0.0%\n",
      "EMP298 --> 0 / 1 --> 0.0%\n",
      "EMP906 --> 0 / 1 --> 0.0%\n",
      "EMP109 --> 1 / 1 --> 100.0%\n",
      "EMP852 --> 1 / 1 --> 100.0%\n",
      "EMP473 --> 0 / 1 --> 0.0%\n",
      "EMP156 --> 0 / 1 --> 0.0%\n",
      "EMP687 --> 1 / 1 --> 100.0%\n",
      "EMP691 --> 1 / 1 --> 100.0%\n",
      "EMP675 --> 1 / 1 --> 100.0%\n",
      "EMP622 --> 0 / 1 --> 0.0%\n",
      "EMP807 --> 1 / 1 --> 100.0%\n",
      "EMP603 --> 1 / 1 --> 100.0%\n",
      "EMP329 --> 1 / 1 --> 100.0%\n",
      "EMP717 --> 1 / 1 --> 100.0%\n",
      "EMP911 --> 0 / 1 --> 0.0%\n",
      "EMP127 --> 1 / 1 --> 100.0%\n",
      "EMP381 --> 1 / 1 --> 100.0%\n",
      "EMP201 --> 1 / 1 --> 100.0%\n",
      "EMP789 --> 1 / 1 --> 100.0%\n",
      "EMP456 --> 0 / 1 --> 0.0%\n",
      "EMP910 --> 0 / 1 --> 0.0%\n"
     ]
    }
   ],
   "execution_count": 1418
  },
  {
   "metadata": {},
   "cell_type": "markdown",
   "source": [
    "### **Problem 6: Average Cell Alignment Deviation per Panel Type**\n",
    "\n",
    "**Goal:**\n",
    "Compute the **average `'Cell Alignment Deviation (mm)'`** for each `'Panel Type'`.\n",
    "\n",
    "**Expected Output (example):**\n",
    "\n",
    "```\n",
    "Monocrystalline ➜ 0.21 mm\n",
    "Polycrystalline ➜ 0.28 mm\n",
    "Thin-Film ➜ 0.19 mm\n",
    "```"
   ],
   "id": "37cf69a7c032f00d"
  },
  {
   "metadata": {
    "ExecuteTime": {
     "end_time": "2025-05-21T23:36:05.246003Z",
     "start_time": "2025-05-21T23:36:05.243595Z"
    }
   },
   "cell_type": "code",
   "source": "cell_alignment_deviation_per_panel_type = defaultdict(lambda: {'Total Cell Alignment Deviation': 0, 'Number of Tests': 0})",
   "id": "19c35acfaf4c1dbc",
   "outputs": [],
   "execution_count": 1419
  },
  {
   "metadata": {
    "ExecuteTime": {
     "end_time": "2025-05-21T23:36:05.264438Z",
     "start_time": "2025-05-21T23:36:05.260686Z"
    }
   },
   "cell_type": "code",
   "source": [
    "with open('solar_panel_assembly_dataset.csv', newline='') as csvfile:\n",
    "  reader = csv.DictReader(csvfile)\n",
    "  for row in reader:\n",
    "    panel_type = row['Panel Type']\n",
    "    cell_align_dev = float(row['Cell Alignment Deviation (mm)'])\n",
    "    cell_alignment_deviation_per_panel_type[panel_type]['Total Cell Alignment Deviation'] += cell_align_dev\n",
    "    cell_alignment_deviation_per_panel_type[panel_type]['Number of Tests'] += 1"
   ],
   "id": "2834ab6af294aa29",
   "outputs": [],
   "execution_count": 1420
  },
  {
   "metadata": {
    "ExecuteTime": {
     "end_time": "2025-05-21T23:36:05.280494Z",
     "start_time": "2025-05-21T23:36:05.277617Z"
    }
   },
   "cell_type": "code",
   "source": [
    "for panel_type, stats in cell_alignment_deviation_per_panel_type.items():\n",
    "  average_deviation = stats['Total Cell Alignment Deviation'] / stats['Number of Tests']\n",
    "  print(f'{panel_type} --> {average_deviation:.2f} mm')"
   ],
   "id": "74df5e15ca70b436",
   "outputs": [
    {
     "name": "stdout",
     "output_type": "stream",
     "text": [
      "Thin-Film --> 0.21 mm\n",
      "Polycrystalline --> 0.25 mm\n",
      "Monocrystalline --> 0.25 mm\n"
     ]
    }
   ],
   "execution_count": 1421
  },
  {
   "metadata": {},
   "cell_type": "markdown",
   "source": [
    "### **Problem 7: Final Inspection Status Breakdown Per Date**\n",
    "\n",
    "**Goal:**\n",
    "For each `'Date'`, count how many panels passed and failed the `'Final Inspection'`.\n",
    "\n",
    "**Expected Output (example):**\n",
    "\n",
    "```\n",
    "2025-04-01 ➜ Pass: 85 | Fail: 5\n",
    "2025-04-02 ➜ Pass: 79 | Fail: 7\n",
    "...\n",
    "```\n"
   ],
   "id": "dfb967e6ed82bc39"
  },
  {
   "metadata": {
    "ExecuteTime": {
     "end_time": "2025-05-21T23:36:05.292966Z",
     "start_time": "2025-05-21T23:36:05.290757Z"
    }
   },
   "cell_type": "code",
   "source": "final_inspection_status = defaultdict(lambda: {'Pass': 0, 'Fail': 0})",
   "id": "9ecad18c749ff2fd",
   "outputs": [],
   "execution_count": 1422
  },
  {
   "metadata": {
    "ExecuteTime": {
     "end_time": "2025-05-21T23:36:05.332166Z",
     "start_time": "2025-05-21T23:36:05.328403Z"
    }
   },
   "cell_type": "code",
   "source": [
    "with open('solar_panel_assembly_dataset.csv', newline='') as csvfile:\n",
    "  reader = csv.DictReader(csvfile)\n",
    "  for row in reader:\n",
    "    date_ = row['Date']\n",
    "    status = row['Final Inspection']\n",
    "    if status == 'Pass':\n",
    "      final_inspection_status[date_]['Pass'] += 1\n",
    "    else:\n",
    "      final_inspection_status[date_]['Fail'] += 1\n",
    "        "
   ],
   "id": "a5afbda84d0073a4",
   "outputs": [],
   "execution_count": 1423
  },
  {
   "metadata": {
    "ExecuteTime": {
     "end_time": "2025-05-21T23:36:05.344715Z",
     "start_time": "2025-05-21T23:36:05.341897Z"
    }
   },
   "cell_type": "code",
   "source": [
    "for date, status in final_inspection_status.items():\n",
    "  pass_ = status['Pass']\n",
    "  fail_ = status['Fail']\n",
    "  print(f'{date} --> Pass: {pass_} | Fail: {fail_}')"
   ],
   "id": "ad189f813c3febe6",
   "outputs": [
    {
     "name": "stdout",
     "output_type": "stream",
     "text": [
      "2025-04-01 --> Pass: 4 | Fail: 2\n",
      "2025-04-02 --> Pass: 3 | Fail: 3\n",
      "2025-04-03 --> Pass: 3 | Fail: 3\n",
      "2025-04-04 --> Pass: 4 | Fail: 2\n",
      "2025-04-05 --> Pass: 6 | Fail: 0\n",
      "2025-04-06 --> Pass: 6 | Fail: 0\n",
      "2025-04-07 --> Pass: 6 | Fail: 0\n",
      "2025-04-08 --> Pass: 5 | Fail: 1\n",
      "2025-04-09 --> Pass: 5 | Fail: 1\n",
      "2025-04-10 --> Pass: 6 | Fail: 0\n",
      "2025-04-11 --> Pass: 4 | Fail: 2\n",
      "2025-04-12 --> Pass: 6 | Fail: 0\n",
      "2025-04-13 --> Pass: 6 | Fail: 0\n",
      "2025-04-14 --> Pass: 6 | Fail: 0\n",
      "2025-04-15 --> Pass: 6 | Fail: 0\n",
      "2025-04-16 --> Pass: 3 | Fail: 3\n",
      "2025-04-17 --> Pass: 6 | Fail: 0\n",
      "2025-04-18 --> Pass: 4 | Fail: 2\n",
      "2025-04-19 --> Pass: 4 | Fail: 2\n",
      "2025-04-20 --> Pass: 5 | Fail: 1\n",
      "2025-04-21 --> Pass: 5 | Fail: 1\n",
      "2025-04-22 --> Pass: 3 | Fail: 3\n",
      "2025-04-23 --> Pass: 4 | Fail: 2\n",
      "2025-04-24 --> Pass: 4 | Fail: 2\n",
      "2025-04-25 --> Pass: 5 | Fail: 1\n",
      "2025-04-26 --> Pass: 6 | Fail: 0\n",
      "2025-04-27 --> Pass: 4 | Fail: 2\n",
      "2025-04-28 --> Pass: 5 | Fail: 1\n",
      "2025-04-29 --> Pass: 4 | Fail: 2\n",
      "2025-04-30 --> Pass: 5 | Fail: 1\n"
     ]
    }
   ],
   "execution_count": 1424
  },
  {
   "metadata": {},
   "cell_type": "markdown",
   "source": [
    "### **Problem 8: Daily Average Glass Thickness by Shift**\n",
    "\n",
    "**Goal:**\n",
    "Calculate the average `'Glass Thickness (mm)'` **per day** and **per shift**.\n",
    "\n",
    "**Expected Output (example):**\n",
    "\n",
    "```\n",
    "2025-04-01 (Shift 1): 3.2 mm\n",
    "2025-04-01 (Shift 2): 3.1 mm\n",
    "...\n",
    "```\n"
   ],
   "id": "216beb9f71ee8e8c"
  },
  {
   "metadata": {
    "ExecuteTime": {
     "end_time": "2025-05-21T23:36:05.360237Z",
     "start_time": "2025-05-21T23:36:05.357714Z"
    }
   },
   "cell_type": "code",
   "source": "daily_avg_glass_thickness_per_shift = defaultdict(lambda: defaultdict(lambda: {'Total Glass Thickness': 0, 'Number of Tests': 0}))",
   "id": "e59ee5ab8d261d5f",
   "outputs": [],
   "execution_count": 1425
  },
  {
   "metadata": {
    "ExecuteTime": {
     "end_time": "2025-05-21T23:36:05.374426Z",
     "start_time": "2025-05-21T23:36:05.370681Z"
    }
   },
   "cell_type": "code",
   "source": [
    "with open('solar_panel_assembly_dataset.csv', newline='') as csvfile:\n",
    "  reader = csv.DictReader(csvfile)\n",
    "  for row in reader:\n",
    "    date = row['Date']\n",
    "    shift = row['Shift']\n",
    "    glass_thickness = float(row['Glass Thickness (mm)'])\n",
    "    daily_avg_glass_thickness_per_shift[date][shift]['Total Glass Thickness'] += glass_thickness\n",
    "    daily_avg_glass_thickness_per_shift[date][shift]['Number of Tests'] += 1"
   ],
   "id": "90304d67388ca53a",
   "outputs": [],
   "execution_count": 1426
  },
  {
   "metadata": {
    "ExecuteTime": {
     "end_time": "2025-05-21T23:36:05.405915Z",
     "start_time": "2025-05-21T23:36:05.402597Z"
    }
   },
   "cell_type": "code",
   "source": [
    "for date, shift_and_stats in daily_avg_glass_thickness_per_shift.items(): \n",
    "  for shift, stats in shift_and_stats.items():\n",
    "    total_glass_thickness = stats['Total Glass Thickness']\n",
    "    num_tests = stats['Number of Tests']\n",
    "    average_glass_thickness = total_glass_thickness / num_tests\n",
    "    print(f'{date} ({shift}): {average_glass_thickness:.2f} mm')"
   ],
   "id": "1f8d337a4aef1f71",
   "outputs": [
    {
     "name": "stdout",
     "output_type": "stream",
     "text": [
      "2025-04-01 (Shift 1): 3.47 mm\n",
      "2025-04-01 (Shift 2): 3.67 mm\n",
      "2025-04-02 (Shift 1): 3.60 mm\n",
      "2025-04-02 (Shift 2): 3.23 mm\n",
      "2025-04-03 (Shift 1): 3.40 mm\n",
      "2025-04-03 (Shift 2): 3.43 mm\n",
      "2025-04-04 (Shift 1): 3.53 mm\n",
      "2025-04-04 (Shift 2): 3.63 mm\n",
      "2025-04-05 (Shift 1): 3.93 mm\n",
      "2025-04-05 (Shift 2): 3.93 mm\n",
      "2025-04-06 (Shift 1): 3.50 mm\n",
      "2025-04-06 (Shift 2): 3.70 mm\n",
      "2025-04-07 (Shift 1): 3.63 mm\n",
      "2025-04-07 (Shift 2): 3.47 mm\n",
      "2025-04-08 (Shift 1): 3.53 mm\n",
      "2025-04-08 (Shift 2): 3.27 mm\n",
      "2025-04-09 (Shift 1): 3.50 mm\n",
      "2025-04-09 (Shift 2): 3.73 mm\n",
      "2025-04-10 (Shift 1): 3.33 mm\n",
      "2025-04-10 (Shift 2): 3.53 mm\n",
      "2025-04-11 (Shift 1): 3.33 mm\n",
      "2025-04-11 (Shift 2): 3.43 mm\n",
      "2025-04-12 (Shift 1): 3.40 mm\n",
      "2025-04-12 (Shift 2): 3.47 mm\n",
      "2025-04-13 (Shift 1): 3.53 mm\n",
      "2025-04-13 (Shift 2): 3.67 mm\n",
      "2025-04-14 (Shift 1): 3.33 mm\n",
      "2025-04-14 (Shift 2): 3.57 mm\n",
      "2025-04-15 (Shift 1): 3.60 mm\n",
      "2025-04-15 (Shift 2): 3.40 mm\n",
      "2025-04-16 (Shift 1): 3.77 mm\n",
      "2025-04-16 (Shift 2): 3.83 mm\n",
      "2025-04-17 (Shift 1): 3.60 mm\n",
      "2025-04-17 (Shift 2): 3.33 mm\n",
      "2025-04-18 (Shift 1): 3.53 mm\n",
      "2025-04-18 (Shift 2): 3.73 mm\n",
      "2025-04-19 (Shift 1): 3.20 mm\n",
      "2025-04-19 (Shift 2): 3.07 mm\n",
      "2025-04-20 (Shift 1): 3.10 mm\n",
      "2025-04-20 (Shift 2): 3.63 mm\n",
      "2025-04-21 (Shift 1): 3.90 mm\n",
      "2025-04-21 (Shift 2): 3.67 mm\n",
      "2025-04-22 (Shift 1): 3.63 mm\n",
      "2025-04-22 (Shift 2): 3.47 mm\n",
      "2025-04-23 (Shift 1): 3.23 mm\n",
      "2025-04-23 (Shift 2): 3.47 mm\n",
      "2025-04-24 (Shift 1): 3.30 mm\n",
      "2025-04-24 (Shift 2): 3.77 mm\n",
      "2025-04-25 (Shift 1): 3.47 mm\n",
      "2025-04-25 (Shift 2): 3.67 mm\n",
      "2025-04-26 (Shift 1): 3.47 mm\n",
      "2025-04-26 (Shift 2): 3.70 mm\n",
      "2025-04-27 (Shift 1): 3.80 mm\n",
      "2025-04-27 (Shift 2): 3.70 mm\n",
      "2025-04-28 (Shift 1): 3.27 mm\n",
      "2025-04-28 (Shift 2): 3.73 mm\n",
      "2025-04-29 (Shift 1): 3.73 mm\n",
      "2025-04-29 (Shift 2): 3.40 mm\n",
      "2025-04-30 (Shift 1): 3.53 mm\n",
      "2025-04-30 (Shift 2): 3.23 mm\n"
     ]
    }
   ],
   "execution_count": 1427
  },
  {
   "metadata": {},
   "cell_type": "markdown",
   "source": [
    "### **Problem 9: Operator with Highest Average Efficiency**\n",
    "\n",
    "**Goal:**\n",
    "Identify the operator with the **highest average `'Efficiency (%)'`** (only include those who assembled ≥ 10 panels).\n",
    "\n",
    "**Expected Output (example):**\n",
    "\n",
    "```\n",
    "Operator 205 ➜ 20.8% (12 panels)\n",
    "```"
   ],
   "id": "9a3dbceea114b513"
  },
  {
   "metadata": {
    "ExecuteTime": {
     "end_time": "2025-05-21T23:36:05.419307Z",
     "start_time": "2025-05-21T23:36:05.416824Z"
    }
   },
   "cell_type": "code",
   "source": "operator_eff = defaultdict(lambda: {'Total Efficiency': 0, 'Panels': 0})",
   "id": "c45fb055aa807ba3",
   "outputs": [],
   "execution_count": 1428
  },
  {
   "metadata": {
    "ExecuteTime": {
     "end_time": "2025-05-21T23:36:05.439156Z",
     "start_time": "2025-05-21T23:36:05.435039Z"
    }
   },
   "cell_type": "code",
   "source": [
    "# new dataset\n",
    "with open('solar_panel_assembly_expanded_dataset.csv', newline='') as csvfile:\n",
    "  reader = csv.DictReader(csvfile)\n",
    "  for row in reader:\n",
    "    operator = row['Operator ID']\n",
    "    eff = float(row['Efficiency (%)'])\n",
    "    operator_eff[operator]['Total Efficiency'] += eff\n",
    "    operator_eff[operator]['Panels'] += 1"
   ],
   "id": "597135deb9abde7b",
   "outputs": [],
   "execution_count": 1429
  },
  {
   "metadata": {
    "ExecuteTime": {
     "end_time": "2025-05-21T23:36:05.459107Z",
     "start_time": "2025-05-21T23:36:05.456146Z"
    }
   },
   "cell_type": "code",
   "source": [
    "operator_eff_num_panels = {}\n",
    "for operator, stats in operator_eff.items():\n",
    "  if stats['Panels'] >= 10:\n",
    "    average_eff = round(stats['Total Efficiency'] / stats['Panels'], 2)\n",
    "    operator_eff_num_panels[operator] = [average_eff, stats['Panels']]"
   ],
   "id": "7440f5b1a5ba8dc9",
   "outputs": [],
   "execution_count": 1430
  },
  {
   "metadata": {
    "ExecuteTime": {
     "end_time": "2025-05-21T23:36:05.476242Z",
     "start_time": "2025-05-21T23:36:05.473163Z"
    }
   },
   "cell_type": "code",
   "source": "operator_eff_num_panels.values()",
   "id": "843f9d51d8c81130",
   "outputs": [
    {
     "data": {
      "text/plain": [
       "dict_values([[18.87, 19], [18.0, 10], [19.1, 10], [17.96, 14], [18.36, 10], [18.01, 20], [18.92, 18], [18.88, 18], [18.38, 11], [19.57, 20], [18.77, 17], [19.06, 13], [18.51, 20], [17.75, 15], [18.12, 15]])"
      ]
     },
     "execution_count": 1431,
     "metadata": {},
     "output_type": "execute_result"
    }
   ],
   "execution_count": 1431
  },
  {
   "metadata": {
    "ExecuteTime": {
     "end_time": "2025-05-21T23:36:05.495290Z",
     "start_time": "2025-05-21T23:36:05.491879Z"
    }
   },
   "cell_type": "code",
   "source": [
    "max_value = 0\n",
    "operator_ = ''\n",
    "panels_ = 0\n",
    "for operator, values in operator_eff_num_panels.items():  \n",
    "  if values[0] > max_value:\n",
    "    max_value = values[0]\n",
    "    operator_ = operator\n",
    "    panels_ = values[1]\n",
    "  else:\n",
    "    max_value = max_value\n",
    "    operator_ = operator_\n",
    "    panels_ = panels_\n",
    "      \n",
    "print(f'{operator_} --> {max_value:.2f}% ({panels_} panels)')\n",
    "  "
   ],
   "id": "4cf50fc2f62fcf3",
   "outputs": [
    {
     "name": "stdout",
     "output_type": "stream",
     "text": [
      "EMP762 --> 19.57% (20 panels)\n"
     ]
    }
   ],
   "execution_count": 1432
  },
  {
   "metadata": {},
   "cell_type": "markdown",
   "source": [
    "### **Problem 10: Count of Panels with Insulation Resistance < 250 MΩ per Shift**\n",
    "\n",
    "**Goal:**\n",
    "For each shift, count how many panels had `'Insulation Resistance (MΩ)'` less than 250.\n",
    "\n",
    "**Expected Output (example):**\n",
    "\n",
    "```\n",
    "Shift 1 ➜ 4 panels\n",
    "Shift 2 ➜ 2 panels\n",
    "Shift 3 ➜ 1 panel\n",
    "```\n"
   ],
   "id": "cafa8e0a4f169e02"
  },
  {
   "metadata": {
    "ExecuteTime": {
     "end_time": "2025-05-21T23:36:05.510483Z",
     "start_time": "2025-05-21T23:36:05.508321Z"
    }
   },
   "cell_type": "code",
   "source": "count_panels_lt_50_resistance = defaultdict(lambda: {'Panels': 0})",
   "id": "da416df419b01f38",
   "outputs": [],
   "execution_count": 1433
  },
  {
   "metadata": {
    "ExecuteTime": {
     "end_time": "2025-05-21T23:36:09.695635Z",
     "start_time": "2025-05-21T23:36:09.691778Z"
    }
   },
   "cell_type": "code",
   "source": [
    "with open('solar_panel_assembly_expanded_dataset.csv', newline='') as csvfile:\n",
    "  reader = csv.DictReader(csvfile)\n",
    "  for row in reader:\n",
    "    shift = row['Shift']\n",
    "    resistance = float(row['Insulation Resistance (MÎ©)'])\n",
    "    if resistance < 250:\n",
    "      count_panels_lt_50_resistance[shift]['Panels'] += 1"
   ],
   "id": "4466916d574e4500",
   "outputs": [],
   "execution_count": 1436
  },
  {
   "metadata": {
    "ExecuteTime": {
     "end_time": "2025-05-21T23:36:10.353299Z",
     "start_time": "2025-05-21T23:36:10.350568Z"
    }
   },
   "cell_type": "code",
   "source": [
    "for shift, panels in count_panels_lt_50_resistance.items():\n",
    "  print(f'{shift} --> {panels['Panels']} panels')"
   ],
   "id": "ac2c734113be62d9",
   "outputs": [
    {
     "name": "stdout",
     "output_type": "stream",
     "text": [
      "Shift 1 --> 27 panels\n",
      "Shift 2 --> 15 panels\n"
     ]
    }
   ],
   "execution_count": 1437
  },
  {
   "metadata": {
    "ExecuteTime": {
     "end_time": "2025-05-21T23:36:05.568144Z",
     "start_time": "2025-05-21T23:36:05.566234Z"
    }
   },
   "cell_type": "code",
   "source": "",
   "id": "d36745fc2c4c2af0",
   "outputs": [],
   "execution_count": 1435
  },
  {
   "metadata": {
    "ExecuteTime": {
     "end_time": "2025-05-21T23:36:05.582174Z",
     "start_time": "2025-05-21T23:36:05.579969Z"
    }
   },
   "cell_type": "code",
   "source": "",
   "id": "fd64ede3dc0bc7bc",
   "outputs": [],
   "execution_count": 1435
  },
  {
   "metadata": {
    "ExecuteTime": {
     "end_time": "2025-05-21T23:36:05.598175Z",
     "start_time": "2025-05-21T23:36:05.596241Z"
    }
   },
   "cell_type": "code",
   "source": "",
   "id": "fa2c0329d88f521b",
   "outputs": [],
   "execution_count": 1435
  },
  {
   "metadata": {
    "ExecuteTime": {
     "end_time": "2025-05-21T23:36:05.611485Z",
     "start_time": "2025-05-21T23:36:05.609766Z"
    }
   },
   "cell_type": "code",
   "source": "",
   "id": "ddcab87af580d87b",
   "outputs": [],
   "execution_count": 1435
  },
  {
   "metadata": {
    "ExecuteTime": {
     "end_time": "2025-05-21T23:36:05.625006Z",
     "start_time": "2025-05-21T23:36:05.623100Z"
    }
   },
   "cell_type": "code",
   "source": "",
   "id": "31b77b062a33d51",
   "outputs": [],
   "execution_count": 1435
  },
  {
   "metadata": {
    "ExecuteTime": {
     "end_time": "2025-05-21T23:36:05.629985Z",
     "start_time": "2025-05-21T23:36:05.627996Z"
    }
   },
   "cell_type": "code",
   "source": "",
   "id": "3436508ec2ffc6ea",
   "outputs": [],
   "execution_count": 1435
  }
 ],
 "metadata": {
  "kernelspec": {
   "display_name": "Python 3",
   "language": "python",
   "name": "python3"
  },
  "language_info": {
   "codemirror_mode": {
    "name": "ipython",
    "version": 2
   },
   "file_extension": ".py",
   "mimetype": "text/x-python",
   "name": "python",
   "nbconvert_exporter": "python",
   "pygments_lexer": "ipython2",
   "version": "2.7.6"
  }
 },
 "nbformat": 4,
 "nbformat_minor": 5
}
