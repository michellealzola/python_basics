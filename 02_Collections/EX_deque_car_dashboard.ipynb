{
 "cells": [
  {
   "cell_type": "code",
   "id": "initial_id",
   "metadata": {
    "collapsed": true,
    "ExecuteTime": {
     "end_time": "2025-05-17T21:47:30.317028Z",
     "start_time": "2025-05-17T21:47:30.137093Z"
    }
   },
   "source": [
    "from collections import deque\n",
    "import pandas as pd"
   ],
   "outputs": [],
   "execution_count": 1
  },
  {
   "metadata": {
    "ExecuteTime": {
     "end_time": "2025-05-17T21:47:45.376229Z",
     "start_time": "2025-05-17T21:47:45.366297Z"
    }
   },
   "cell_type": "code",
   "source": "data = pd.read_csv('toyota_dashboard_365day_dataset.csv')",
   "id": "d6614eddef4340fd",
   "outputs": [],
   "execution_count": 2
  },
  {
   "metadata": {
    "ExecuteTime": {
     "end_time": "2025-05-17T21:47:50.903918Z",
     "start_time": "2025-05-17T21:47:50.901285Z"
    }
   },
   "cell_type": "code",
   "source": "df = pd.DataFrame(data)",
   "id": "2a2050884269b8c3",
   "outputs": [],
   "execution_count": 3
  },
  {
   "metadata": {
    "ExecuteTime": {
     "end_time": "2025-05-17T21:47:56.513781Z",
     "start_time": "2025-05-17T21:47:56.509149Z"
    }
   },
   "cell_type": "code",
   "source": "df.columns",
   "id": "8fceb7b1d780cd3f",
   "outputs": [
    {
     "data": {
      "text/plain": [
       "Index(['Date', 'Shift', 'Batch ID', 'Model', 'Dashboard Type',\n",
       "       'Display Resolution', 'Backlight Brightness (nits)',\n",
       "       'Touch Screen Sensitivity (ms)', 'Button Press Response (ms)',\n",
       "       'Wiring Harness Check', 'CAN Bus Signal Integrity', 'Boot Time (sec)',\n",
       "       'Software Version', 'Warning Light Cycle OK',\n",
       "       'Touch Calibration Status', 'Tested RPM Reading',\n",
       "       'Tested Speed Reading (km/h)', 'Tested Fuel Level (%)', 'Tester ID',\n",
       "       'Pass/Fail'],\n",
       "      dtype='object')"
      ]
     },
     "execution_count": 4,
     "metadata": {},
     "output_type": "execute_result"
    }
   ],
   "execution_count": 4
  },
  {
   "metadata": {
    "ExecuteTime": {
     "end_time": "2025-05-17T21:48:03.545978Z",
     "start_time": "2025-05-17T21:48:03.536415Z"
    }
   },
   "cell_type": "code",
   "source": "df.head()",
   "id": "d19eb2122465cbce",
   "outputs": [
    {
     "data": {
      "text/plain": [
       "         Date    Shift  Batch ID       Model Dashboard Type  \\\n",
       "0  2025-01-01  Shift 1  DASH8607       Camry         Hybrid   \n",
       "1  2025-01-01  Shift 1  DASH4223  Highlander         Hybrid   \n",
       "2  2025-01-01  Shift 1  DASH9115      Tacoma         Analog   \n",
       "3  2025-01-01  Shift 2  DASH3225      Tacoma        Digital   \n",
       "4  2025-01-01  Shift 2  DASH9392        RAV4        Digital   \n",
       "\n",
       "  Display Resolution  Backlight Brightness (nits)  \\\n",
       "0           1024x600                        442.5   \n",
       "1            800x480                        340.5   \n",
       "2            800x480                        453.5   \n",
       "3           1024x600                        438.4   \n",
       "4            800x480                        344.2   \n",
       "\n",
       "   Touch Screen Sensitivity (ms)  Button Press Response (ms)  \\\n",
       "0                          33.22                       31.14   \n",
       "1                          14.59                       24.45   \n",
       "2                          19.05                       32.00   \n",
       "3                          13.18                       20.06   \n",
       "4                          37.95                       16.50   \n",
       "\n",
       "  Wiring Harness Check CAN Bus Signal Integrity  Boot Time (sec)  \\\n",
       "0                 Fail                     Fail             8.13   \n",
       "1                 Pass                     Pass             7.33   \n",
       "2                 Pass                     Fail             5.19   \n",
       "3                 Fail                     Fail             3.97   \n",
       "4                 Pass                     Pass             7.15   \n",
       "\n",
       "  Software Version Warning Light Cycle OK Touch Calibration Status  \\\n",
       "0          v1.27.1                    Yes           Not Calibrated   \n",
       "1          v1.26.0                     No           Not Calibrated   \n",
       "2          v1.27.1                     No               Calibrated   \n",
       "3          v1.26.0                    Yes           Not Calibrated   \n",
       "4          v1.25.3                     No           Not Calibrated   \n",
       "\n",
       "   Tested RPM Reading  Tested Speed Reading (km/h)  Tested Fuel Level (%)  \\\n",
       "0              2186.0                         31.0                   71.2   \n",
       "1              1152.0                         12.0                    1.9   \n",
       "2              5029.0                        197.0                   16.7   \n",
       "3              6081.0                        125.0                   49.8   \n",
       "4              1135.0                        105.0                   34.9   \n",
       "\n",
       "  Tester ID Pass/Fail  \n",
       "0    EMP771      Pass  \n",
       "1    EMP120      Pass  \n",
       "2    EMP916      Pass  \n",
       "3    EMP342      Pass  \n",
       "4    EMP957      Pass  "
      ],
      "text/html": [
       "<div>\n",
       "<style scoped>\n",
       "    .dataframe tbody tr th:only-of-type {\n",
       "        vertical-align: middle;\n",
       "    }\n",
       "\n",
       "    .dataframe tbody tr th {\n",
       "        vertical-align: top;\n",
       "    }\n",
       "\n",
       "    .dataframe thead th {\n",
       "        text-align: right;\n",
       "    }\n",
       "</style>\n",
       "<table border=\"1\" class=\"dataframe\">\n",
       "  <thead>\n",
       "    <tr style=\"text-align: right;\">\n",
       "      <th></th>\n",
       "      <th>Date</th>\n",
       "      <th>Shift</th>\n",
       "      <th>Batch ID</th>\n",
       "      <th>Model</th>\n",
       "      <th>Dashboard Type</th>\n",
       "      <th>Display Resolution</th>\n",
       "      <th>Backlight Brightness (nits)</th>\n",
       "      <th>Touch Screen Sensitivity (ms)</th>\n",
       "      <th>Button Press Response (ms)</th>\n",
       "      <th>Wiring Harness Check</th>\n",
       "      <th>CAN Bus Signal Integrity</th>\n",
       "      <th>Boot Time (sec)</th>\n",
       "      <th>Software Version</th>\n",
       "      <th>Warning Light Cycle OK</th>\n",
       "      <th>Touch Calibration Status</th>\n",
       "      <th>Tested RPM Reading</th>\n",
       "      <th>Tested Speed Reading (km/h)</th>\n",
       "      <th>Tested Fuel Level (%)</th>\n",
       "      <th>Tester ID</th>\n",
       "      <th>Pass/Fail</th>\n",
       "    </tr>\n",
       "  </thead>\n",
       "  <tbody>\n",
       "    <tr>\n",
       "      <th>0</th>\n",
       "      <td>2025-01-01</td>\n",
       "      <td>Shift 1</td>\n",
       "      <td>DASH8607</td>\n",
       "      <td>Camry</td>\n",
       "      <td>Hybrid</td>\n",
       "      <td>1024x600</td>\n",
       "      <td>442.5</td>\n",
       "      <td>33.22</td>\n",
       "      <td>31.14</td>\n",
       "      <td>Fail</td>\n",
       "      <td>Fail</td>\n",
       "      <td>8.13</td>\n",
       "      <td>v1.27.1</td>\n",
       "      <td>Yes</td>\n",
       "      <td>Not Calibrated</td>\n",
       "      <td>2186.0</td>\n",
       "      <td>31.0</td>\n",
       "      <td>71.2</td>\n",
       "      <td>EMP771</td>\n",
       "      <td>Pass</td>\n",
       "    </tr>\n",
       "    <tr>\n",
       "      <th>1</th>\n",
       "      <td>2025-01-01</td>\n",
       "      <td>Shift 1</td>\n",
       "      <td>DASH4223</td>\n",
       "      <td>Highlander</td>\n",
       "      <td>Hybrid</td>\n",
       "      <td>800x480</td>\n",
       "      <td>340.5</td>\n",
       "      <td>14.59</td>\n",
       "      <td>24.45</td>\n",
       "      <td>Pass</td>\n",
       "      <td>Pass</td>\n",
       "      <td>7.33</td>\n",
       "      <td>v1.26.0</td>\n",
       "      <td>No</td>\n",
       "      <td>Not Calibrated</td>\n",
       "      <td>1152.0</td>\n",
       "      <td>12.0</td>\n",
       "      <td>1.9</td>\n",
       "      <td>EMP120</td>\n",
       "      <td>Pass</td>\n",
       "    </tr>\n",
       "    <tr>\n",
       "      <th>2</th>\n",
       "      <td>2025-01-01</td>\n",
       "      <td>Shift 1</td>\n",
       "      <td>DASH9115</td>\n",
       "      <td>Tacoma</td>\n",
       "      <td>Analog</td>\n",
       "      <td>800x480</td>\n",
       "      <td>453.5</td>\n",
       "      <td>19.05</td>\n",
       "      <td>32.00</td>\n",
       "      <td>Pass</td>\n",
       "      <td>Fail</td>\n",
       "      <td>5.19</td>\n",
       "      <td>v1.27.1</td>\n",
       "      <td>No</td>\n",
       "      <td>Calibrated</td>\n",
       "      <td>5029.0</td>\n",
       "      <td>197.0</td>\n",
       "      <td>16.7</td>\n",
       "      <td>EMP916</td>\n",
       "      <td>Pass</td>\n",
       "    </tr>\n",
       "    <tr>\n",
       "      <th>3</th>\n",
       "      <td>2025-01-01</td>\n",
       "      <td>Shift 2</td>\n",
       "      <td>DASH3225</td>\n",
       "      <td>Tacoma</td>\n",
       "      <td>Digital</td>\n",
       "      <td>1024x600</td>\n",
       "      <td>438.4</td>\n",
       "      <td>13.18</td>\n",
       "      <td>20.06</td>\n",
       "      <td>Fail</td>\n",
       "      <td>Fail</td>\n",
       "      <td>3.97</td>\n",
       "      <td>v1.26.0</td>\n",
       "      <td>Yes</td>\n",
       "      <td>Not Calibrated</td>\n",
       "      <td>6081.0</td>\n",
       "      <td>125.0</td>\n",
       "      <td>49.8</td>\n",
       "      <td>EMP342</td>\n",
       "      <td>Pass</td>\n",
       "    </tr>\n",
       "    <tr>\n",
       "      <th>4</th>\n",
       "      <td>2025-01-01</td>\n",
       "      <td>Shift 2</td>\n",
       "      <td>DASH9392</td>\n",
       "      <td>RAV4</td>\n",
       "      <td>Digital</td>\n",
       "      <td>800x480</td>\n",
       "      <td>344.2</td>\n",
       "      <td>37.95</td>\n",
       "      <td>16.50</td>\n",
       "      <td>Pass</td>\n",
       "      <td>Pass</td>\n",
       "      <td>7.15</td>\n",
       "      <td>v1.25.3</td>\n",
       "      <td>No</td>\n",
       "      <td>Not Calibrated</td>\n",
       "      <td>1135.0</td>\n",
       "      <td>105.0</td>\n",
       "      <td>34.9</td>\n",
       "      <td>EMP957</td>\n",
       "      <td>Pass</td>\n",
       "    </tr>\n",
       "  </tbody>\n",
       "</table>\n",
       "</div>"
      ]
     },
     "execution_count": 5,
     "metadata": {},
     "output_type": "execute_result"
    }
   ],
   "execution_count": 5
  },
  {
   "metadata": {
    "ExecuteTime": {
     "end_time": "2025-05-17T21:48:24.094116Z",
     "start_time": "2025-05-17T21:48:24.091201Z"
    }
   },
   "cell_type": "code",
   "source": "numeric_cols = df.select_dtypes(include='number').columns.tolist()",
   "id": "e558cf928ea63d0",
   "outputs": [],
   "execution_count": 6
  },
  {
   "metadata": {
    "ExecuteTime": {
     "end_time": "2025-05-17T21:48:26.884351Z",
     "start_time": "2025-05-17T21:48:26.880514Z"
    }
   },
   "cell_type": "code",
   "source": "numeric_cols",
   "id": "e62737e3819b41eb",
   "outputs": [
    {
     "data": {
      "text/plain": [
       "['Backlight Brightness (nits)',\n",
       " 'Touch Screen Sensitivity (ms)',\n",
       " 'Button Press Response (ms)',\n",
       " 'Boot Time (sec)',\n",
       " 'Tested RPM Reading',\n",
       " 'Tested Speed Reading (km/h)',\n",
       " 'Tested Fuel Level (%)']"
      ]
     },
     "execution_count": 7,
     "metadata": {},
     "output_type": "execute_result"
    }
   ],
   "execution_count": 7
  },
  {
   "metadata": {
    "ExecuteTime": {
     "end_time": "2025-05-17T21:48:41.740880Z",
     "start_time": "2025-05-17T21:48:41.738267Z"
    }
   },
   "cell_type": "code",
   "source": "fields = numeric_cols",
   "id": "de8b9f6ded21fcaa",
   "outputs": [],
   "execution_count": 8
  },
  {
   "metadata": {},
   "cell_type": "code",
   "outputs": [],
   "execution_count": null,
   "source": "",
   "id": "1e1d12e713c83fc8"
  },
  {
   "metadata": {},
   "cell_type": "code",
   "outputs": [],
   "execution_count": null,
   "source": "",
   "id": "a0267b1c90757c18"
  },
  {
   "metadata": {},
   "cell_type": "code",
   "outputs": [],
   "execution_count": null,
   "source": "",
   "id": "3d4d185a808dee4b"
  },
  {
   "metadata": {},
   "cell_type": "code",
   "outputs": [],
   "execution_count": null,
   "source": "",
   "id": "d220627d6e605217"
  },
  {
   "metadata": {},
   "cell_type": "code",
   "outputs": [],
   "execution_count": null,
   "source": "",
   "id": "4feffe4a41cba505"
  },
  {
   "metadata": {},
   "cell_type": "code",
   "outputs": [],
   "execution_count": null,
   "source": "",
   "id": "9a2f1383ef9038d1"
  },
  {
   "metadata": {},
   "cell_type": "code",
   "outputs": [],
   "execution_count": null,
   "source": "",
   "id": "c287a9eb2b7fe3f"
  },
  {
   "metadata": {},
   "cell_type": "code",
   "outputs": [],
   "execution_count": null,
   "source": "",
   "id": "e0954a96ade8b517"
  },
  {
   "metadata": {},
   "cell_type": "code",
   "outputs": [],
   "execution_count": null,
   "source": "",
   "id": "2b81f08221a255e3"
  }
 ],
 "metadata": {
  "kernelspec": {
   "display_name": "Python 3",
   "language": "python",
   "name": "python3"
  },
  "language_info": {
   "codemirror_mode": {
    "name": "ipython",
    "version": 2
   },
   "file_extension": ".py",
   "mimetype": "text/x-python",
   "name": "python",
   "nbconvert_exporter": "python",
   "pygments_lexer": "ipython2",
   "version": "2.7.6"
  }
 },
 "nbformat": 4,
 "nbformat_minor": 5
}
