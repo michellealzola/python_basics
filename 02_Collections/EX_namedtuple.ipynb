{
 "cells": [
  {
   "metadata": {},
   "cell_type": "markdown",
   "source": [
    "# What is namedtuple()?\n",
    "namedtuple() is a factory function in the collections module that creates a subclass of a tuple with named fields. It lets you access tuple elements using dot notation, improving code readability."
   ],
   "id": "920535a628faef04"
  },
  {
   "metadata": {
    "ExecuteTime": {
     "end_time": "2025-05-19T03:30:08.985464Z",
     "start_time": "2025-05-19T03:30:08.982525Z"
    }
   },
   "cell_type": "code",
   "source": "from collections import namedtuple",
   "id": "ad07afedff7d17e5",
   "outputs": [],
   "execution_count": 1
  },
  {
   "metadata": {
    "ExecuteTime": {
     "end_time": "2025-05-19T03:33:19.005005Z",
     "start_time": "2025-05-19T03:33:19.001988Z"
    }
   },
   "cell_type": "code",
   "source": "Point = namedtuple('Point', ['x', 'y']) # type: ignore",
   "id": "4d6525096caf6ba1",
   "outputs": [],
   "execution_count": 2
  },
  {
   "metadata": {
    "ExecuteTime": {
     "end_time": "2025-05-19T03:33:44.124764Z",
     "start_time": "2025-05-19T03:33:44.122505Z"
    }
   },
   "cell_type": "code",
   "source": "p = Point(1, 2)",
   "id": "f41fcb66c3ddf7f6",
   "outputs": [],
   "execution_count": 3
  },
  {
   "metadata": {
    "ExecuteTime": {
     "end_time": "2025-05-19T03:33:52.769978Z",
     "start_time": "2025-05-19T03:33:52.765436Z"
    }
   },
   "cell_type": "code",
   "source": "p.x",
   "id": "738d2970753c0bce",
   "outputs": [
    {
     "data": {
      "text/plain": [
       "1"
      ]
     },
     "execution_count": 4,
     "metadata": {},
     "output_type": "execute_result"
    }
   ],
   "execution_count": 4
  },
  {
   "metadata": {
    "ExecuteTime": {
     "end_time": "2025-05-19T03:34:01.605827Z",
     "start_time": "2025-05-19T03:34:01.602568Z"
    }
   },
   "cell_type": "code",
   "source": "p[0]",
   "id": "9620652646a9628c",
   "outputs": [
    {
     "data": {
      "text/plain": [
       "1"
      ]
     },
     "execution_count": 5,
     "metadata": {},
     "output_type": "execute_result"
    }
   ],
   "execution_count": 5
  },
  {
   "metadata": {
    "ExecuteTime": {
     "end_time": "2025-05-19T03:34:07.158453Z",
     "start_time": "2025-05-19T03:34:07.155295Z"
    }
   },
   "cell_type": "code",
   "source": "p[1]",
   "id": "7c5c6aa7476f13a8",
   "outputs": [
    {
     "data": {
      "text/plain": [
       "2"
      ]
     },
     "execution_count": 6,
     "metadata": {},
     "output_type": "execute_result"
    }
   ],
   "execution_count": 6
  },
  {
   "metadata": {
    "ExecuteTime": {
     "end_time": "2025-05-19T03:34:11.013560Z",
     "start_time": "2025-05-19T03:34:11.010254Z"
    }
   },
   "cell_type": "code",
   "source": "p.y",
   "id": "10343464744444b9",
   "outputs": [
    {
     "data": {
      "text/plain": [
       "2"
      ]
     },
     "execution_count": 7,
     "metadata": {},
     "output_type": "execute_result"
    }
   ],
   "execution_count": 7
  },
  {
   "metadata": {},
   "cell_type": "markdown",
   "source": [
    "\n",
    "You get both:\n",
    "\n",
    "* **Index access like a tuple**\n",
    "* **Attribute access like an object**\n",
    "\n",
    "\n",
    "\n",
    "## Learning Plan: Skill-Building Activities\n",
    "\n",
    "We'll divide your learning into **four tiers**:\n",
    "\n",
    "| Tier          | Focus                                             | Dataset                            | Skill Level     |\n",
    "| ------------- | ------------------------------------------------- | ---------------------------------- | --------------- |\n",
    "| 1. Basics     | Create and use namedtuples                        | Manual/small list                  | 🟢 Beginner     |\n",
    "| 2. Iteration  | Parse and store records                           | Simulated machine log              | 🟡 Intermediate |\n",
    "| 3. Processing | Filtering, sorting, aggregating                   | CSV-like structured data           | 🟠 Advanced     |\n",
    "| 4. Complex    | Full analysis using `namedtuple` and real dataset | `epson_feeding_365day_dataset.csv` | 🔴 Expert       |\n",
    "\n",
    "\n",
    "\n",
    "## TIER 1 – Basics of `namedtuple()`\n",
    "\n",
    "### Skills Covered:\n",
    "\n",
    "* Creating a namedtuple\n",
    "* Accessing elements by attribute and index\n",
    "* Unpacking a namedtuple\n",
    "\n",
    "### Activity 1.1: Define and Use\n",
    "\n",
    "```python\n",
    "from collections import namedtuple\n",
    "\n",
    "SensorReading = namedtuple('SensorReading', ['timestamp', 'value'])\n",
    "reading = SensorReading('2025-05-01 08:00', 12.5)\n",
    "\n",
    "print(f\"Timestamp: {reading.timestamp}, Value: {reading.value}\")\n",
    "```\n",
    "\n",
    "**Challenge**:\n",
    "\n",
    "* Unpack it with `a, b = reading`\n",
    "* Try accessing a non-existent field: `reading.temperature` → What error do you get?\n",
    "\n",
    "\n"
   ],
   "id": "de5f33850158a24d"
  },
  {
   "metadata": {},
   "cell_type": "code",
   "outputs": [],
   "execution_count": null,
   "source": "",
   "id": "19709a18b253f3d3"
  },
  {
   "metadata": {},
   "cell_type": "code",
   "outputs": [],
   "execution_count": null,
   "source": "",
   "id": "4e1125b0c47570b1"
  },
  {
   "metadata": {},
   "cell_type": "code",
   "outputs": [],
   "execution_count": null,
   "source": "",
   "id": "466889b4b07f8a00"
  },
  {
   "metadata": {},
   "cell_type": "code",
   "outputs": [],
   "execution_count": null,
   "source": "",
   "id": "71dfa253d6eabe26"
  },
  {
   "metadata": {},
   "cell_type": "code",
   "outputs": [],
   "execution_count": null,
   "source": "",
   "id": "402ae335f1e9d2a"
  },
  {
   "metadata": {},
   "cell_type": "code",
   "outputs": [],
   "execution_count": null,
   "source": "",
   "id": "69727d8b577e9411"
  },
  {
   "metadata": {},
   "cell_type": "code",
   "outputs": [],
   "execution_count": null,
   "source": "",
   "id": "127fb4a0a3f66b83"
  },
  {
   "metadata": {},
   "cell_type": "code",
   "outputs": [],
   "execution_count": null,
   "source": "",
   "id": "2e60532d3f1ae4f9"
  },
  {
   "metadata": {},
   "cell_type": "code",
   "outputs": [],
   "execution_count": null,
   "source": "",
   "id": "4bca6beaeb14afcf"
  },
  {
   "metadata": {},
   "cell_type": "code",
   "outputs": [],
   "execution_count": null,
   "source": "",
   "id": "cef17d764cb2be0c"
  },
  {
   "metadata": {},
   "cell_type": "code",
   "outputs": [],
   "execution_count": null,
   "source": "",
   "id": "1f6410d40a0814f2"
  },
  {
   "metadata": {},
   "cell_type": "markdown",
   "source": [
    "\n",
    "## TIER 2 – Working with Lists of NamedTuples\n",
    "\n",
    "### 🔹 Skills Covered:\n",
    "\n",
    "* Reading from a list or simulated data\n",
    "* Storing multiple records in namedtuples\n",
    "* Filtering and displaying results\n",
    "\n",
    "### Activity 2.1: Feed Log Simulation\n",
    "\n",
    "```python\n",
    "from collections import namedtuple\n",
    "\n",
    "FeedLog = namedtuple('FeedLog', ['day', 'status', 'duration'])\n",
    "\n",
    "logs = [\n",
    "    FeedLog('2025-01-01', 'OK', 120),\n",
    "    FeedLog('2025-01-02', 'Error', 5),\n",
    "    FeedLog('2025-01-03', 'OK', 110),\n",
    "]\n",
    "\n",
    "# Filter short feeds\n",
    "short_feeds = [log for log in logs if log.duration < 30]\n",
    "print(short_feeds)\n",
    "```\n",
    "\n",
    "**Challenge**:\n",
    "\n",
    "* Count the number of 'OK' feeds.\n",
    "* Sort the logs by duration (hint: `sorted()` and lambda).\n",
    "\n",
    "\n",
    "\n",
    "## TIER 3 – Loading from CSV and Processing\n",
    "\n",
    "### 🔹 Skills Covered:\n",
    "\n",
    "* Reading CSV into namedtuple\n",
    "* Converting strings and numeric types\n",
    "* Aggregating and filtering\n",
    "\n",
    "### Activity 3.1: Feed Summary from CSV\n",
    "\n",
    "We’ll use a **simulated smaller dataset**, similar to your real Epson file:\n",
    "\n",
    "**Sample CSV: `feed_sample.csv`**\n",
    "\n",
    "```csv\n",
    "Date,Status,Duration,ErrorCode\n",
    "2025-01-01,OK,130,\n",
    "2025-01-02,Error,10,E105\n",
    "2025-01-03,OK,120,\n",
    "```\n",
    "\n",
    "```python\n",
    "import csv\n",
    "from collections import namedtuple\n",
    "\n",
    "Feed = namedtuple('Feed', ['date', 'status', 'duration', 'error'])\n",
    "\n",
    "with open('feed_sample.csv') as f:\n",
    "    reader = csv.reader(f)\n",
    "    next(reader)\n",
    "    data = [Feed(date, status, int(duration), error or None) for date, status, duration, error in reader]\n",
    "\n",
    "errors = [entry for entry in data if entry.status == 'Error']\n",
    "print(\"Error Entries:\", errors)\n",
    "```\n",
    "\n",
    "**Challenge**:\n",
    "\n",
    "* Find average duration of successful feeds.\n",
    "* Get the day with the shortest feed duration.\n",
    "\n",
    "\n",
    "\n",
    "## TIER 4 – Real Dataset: `epson_feeding_365day_dataset.csv`\n",
    "\n",
    "### Skills Covered:\n",
    "\n",
    "* Working with 365 records\n",
    "* Performance considerations\n",
    "* Advanced filtering and reporting\n",
    "\n",
    "### Activity 4.1: Load and Analyze\n",
    "\n",
    "```python\n",
    "import csv\n",
    "from collections import namedtuple\n",
    "\n",
    "Feeding = namedtuple('Feeding', ['date', 'shift', 'status', 'duration', 'material', 'error_code'])\n",
    "\n",
    "with open('/mnt/data/epson_feeding_365day_dataset.csv') as f:\n",
    "    reader = csv.reader(f)\n",
    "    next(reader)\n",
    "    records = [\n",
    "        Feeding(date, shift, status, int(duration), material, error_code or None)\n",
    "        for date, shift, status, duration, material, error_code in reader\n",
    "    ]\n",
    "```\n",
    "\n",
    "**Advanced Challenges**:\n",
    "\n",
    "1. 🔍 How many errors occurred per shift?\n",
    "2. 🧮 What is the average duration per material type?\n",
    "3. 🗓️ What day had the highest number of errors?\n",
    "4. 📊 Generate a summary per month: total feeds, average duration, % errors.\n",
    "\n",
    "\n",
    "\n",
    "## Common Pitfalls and How to Solve Them\n",
    "\n",
    "| Problem                                       | Cause                                      | Solution                                |\n",
    "| --------------------------------------------- | ------------------------------------------ | --------------------------------------- |\n",
    "| `TypeError: Feed() takes exactly X arguments` | Wrong number of fields passed              | Double-check field count in CSV         |\n",
    "| `'tuple' object has no attribute`             | Used plain `tuple` instead of `namedtuple` | Ensure you're using the named version   |\n",
    "| Empty field in CSV                            | Missing conversion                         | Use `value or None` for optional fields |\n",
    "| Can't modify field                            | `namedtuple` is immutable                  | Use `_replace()` method                 |\n",
    "\n"
   ],
   "id": "79bf8c7353ca1d9f"
  },
  {
   "metadata": {},
   "cell_type": "code",
   "outputs": [],
   "execution_count": null,
   "source": "",
   "id": "93cf3d8bb33bc600"
  }
 ],
 "metadata": {
  "kernelspec": {
   "display_name": "Python 3",
   "language": "python",
   "name": "python3"
  },
  "language_info": {
   "codemirror_mode": {
    "name": "ipython",
    "version": 2
   },
   "file_extension": ".py",
   "mimetype": "text/x-python",
   "name": "python",
   "nbconvert_exporter": "python",
   "pygments_lexer": "ipython2",
   "version": "2.7.6"
  }
 },
 "nbformat": 4,
 "nbformat_minor": 5
}
