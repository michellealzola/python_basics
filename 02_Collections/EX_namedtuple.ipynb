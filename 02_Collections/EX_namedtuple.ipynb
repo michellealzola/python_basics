{
 "cells": [
  {
   "metadata": {},
   "cell_type": "markdown",
   "source": [
    "# What is namedtuple()?\n",
    "namedtuple() is a factory function in the collections module that creates a subclass of a tuple with named fields. It lets you access tuple elements using dot notation, improving code readability."
   ],
   "id": "920535a628faef04"
  },
  {
   "metadata": {},
   "cell_type": "markdown",
   "source": [
    "## **Difference between `tuple` and `namedtuple`** in Python:\n",
    "\n",
    "\n",
    "\n",
    "### **1. Readability**\n",
    "\n",
    "#### `tuple`:\n",
    "\n",
    "You access items by **index**, which can be unclear:\n",
    "\n",
    "```python\n",
    "t = ('2025-01-01', 'OK', 120)\n",
    "print(t[0])  # What's this? Hard to tell\n",
    "```\n",
    "\n",
    "#### `namedtuple`:\n",
    "\n",
    "You access items by **field name**, improving clarity:\n",
    "\n",
    "```python\n",
    "from collections import namedtuple\n",
    "\n",
    "FeedLog = namedtuple('FeedLog', ['date', 'status', 'duration'])\n",
    "log = FeedLog('2025-01-01', 'OK', 120)\n",
    "\n",
    "print(log.date)  # Much clearer\n",
    "```\n",
    "\n",
    "\n",
    "\n",
    "### **2. Self-documenting Code**\n",
    "\n",
    "Using `namedtuple` gives your data **semantic meaning**:\n",
    "\n",
    "```python\n",
    "# tuple\n",
    "log = ('2025-01-01', 'OK', 120)\n",
    "\n",
    "# namedtuple\n",
    "FeedLog = namedtuple('FeedLog', ['date', 'status', 'duration'])\n",
    "log = FeedLog('2025-01-01', 'OK', 120)\n",
    "```\n",
    "\n",
    "The second version communicates more clearly what each value represents.\n",
    "\n",
    "\n",
    "\n",
    "### **3. Still Memory-Efficient**\n",
    "\n",
    "Unlike a class (with `__init__`, `__str__`, etc.), a `namedtuple`:\n",
    "\n",
    "* Is as **lightweight** as a regular tuple\n",
    "* Has **fixed size** and **immutable**\n",
    "* Supports **indexing**, **iteration**, and **unpacking** just like `tuple`\n",
    "\n",
    "\n",
    "\n",
    "### **4. Adds Useful Methods**\n",
    "\n",
    "`namedtuple` adds:\n",
    "\n",
    "* `.._fields` → returns a tuple of field names\n",
    "* `.._asdict()` → returns an `OrderedDict` of field names and values\n",
    "* `._replace(**kwargs)` → create a copy with one or more fields replaced\n",
    "\n",
    "```python\n",
    "log = FeedLog('2025-01-01', 'OK', 120)\n",
    "\n",
    "print(log._asdict())   # {'date': '2025-01-01', 'status': 'OK', 'duration': 120}\n",
    "print(log._replace(status='Error'))  # Replace status immutably\n",
    "```\n",
    "\n",
    "\n",
    "\n",
    "### Limitations of `namedtuple`\n",
    "\n",
    "* You **cannot modify** fields once created (just like `tuple`)\n",
    "* All fields must be passed during creation\n",
    "* Not ideal if you need methods or mutable behavior → use `dataclass` instead\n",
    "\n",
    "\n",
    "\n",
    "### Summary Table\n",
    "\n",
    "| Feature             | `tuple`   | `namedtuple`          |\n",
    "| ------------------- | --------- | --------------------- |\n",
    "| Access by name      | ❌ No      | ✅ Yes                 |\n",
    "| Memory efficiency   | ✅ Yes     | ✅ Yes                 |\n",
    "| Field documentation | ❌ No      | ✅ Yes (`._fields`)    |\n",
    "| Field immutability  | ✅ Yes     | ✅ Yes                 |\n",
    "| Use in real apps    | ❌ Limited | ✅ Clearer, safer data |\n",
    "\n"
   ],
   "id": "d202db8dc5c0b7f7"
  },
  {
   "metadata": {
    "ExecuteTime": {
     "end_time": "2025-05-19T20:25:07.452784Z",
     "start_time": "2025-05-19T20:25:07.449623Z"
    }
   },
   "cell_type": "code",
   "source": [
    "from collections import namedtuple\n",
    "import csv"
   ],
   "id": "ad07afedff7d17e5",
   "outputs": [],
   "execution_count": 46
  },
  {
   "metadata": {
    "ExecuteTime": {
     "end_time": "2025-05-19T20:25:07.715180Z",
     "start_time": "2025-05-19T20:25:07.712633Z"
    }
   },
   "cell_type": "code",
   "source": "Point = namedtuple('Point', ['x', 'y']) # type: ignore",
   "id": "4d6525096caf6ba1",
   "outputs": [],
   "execution_count": 47
  },
  {
   "metadata": {
    "ExecuteTime": {
     "end_time": "2025-05-19T20:25:07.734050Z",
     "start_time": "2025-05-19T20:25:07.731842Z"
    }
   },
   "cell_type": "code",
   "source": "p = Point(1, 2)",
   "id": "f41fcb66c3ddf7f6",
   "outputs": [],
   "execution_count": 48
  },
  {
   "metadata": {
    "ExecuteTime": {
     "end_time": "2025-05-19T20:25:07.747362Z",
     "start_time": "2025-05-19T20:25:07.744264Z"
    }
   },
   "cell_type": "code",
   "source": "p.x",
   "id": "738d2970753c0bce",
   "outputs": [
    {
     "data": {
      "text/plain": [
       "1"
      ]
     },
     "execution_count": 49,
     "metadata": {},
     "output_type": "execute_result"
    }
   ],
   "execution_count": 49
  },
  {
   "metadata": {
    "ExecuteTime": {
     "end_time": "2025-05-19T20:25:07.792025Z",
     "start_time": "2025-05-19T20:25:07.788339Z"
    }
   },
   "cell_type": "code",
   "source": "p[0]",
   "id": "9620652646a9628c",
   "outputs": [
    {
     "data": {
      "text/plain": [
       "1"
      ]
     },
     "execution_count": 50,
     "metadata": {},
     "output_type": "execute_result"
    }
   ],
   "execution_count": 50
  },
  {
   "metadata": {
    "ExecuteTime": {
     "end_time": "2025-05-19T20:25:07.823505Z",
     "start_time": "2025-05-19T20:25:07.819837Z"
    }
   },
   "cell_type": "code",
   "source": "p[1]",
   "id": "7c5c6aa7476f13a8",
   "outputs": [
    {
     "data": {
      "text/plain": [
       "2"
      ]
     },
     "execution_count": 51,
     "metadata": {},
     "output_type": "execute_result"
    }
   ],
   "execution_count": 51
  },
  {
   "metadata": {
    "ExecuteTime": {
     "end_time": "2025-05-19T20:25:07.886748Z",
     "start_time": "2025-05-19T20:25:07.883515Z"
    }
   },
   "cell_type": "code",
   "source": "p.y",
   "id": "10343464744444b9",
   "outputs": [
    {
     "data": {
      "text/plain": [
       "2"
      ]
     },
     "execution_count": 52,
     "metadata": {},
     "output_type": "execute_result"
    }
   ],
   "execution_count": 52
  },
  {
   "metadata": {},
   "cell_type": "markdown",
   "source": [
    "\n",
    "You get both:\n",
    "\n",
    "* **Index access like a tuple**\n",
    "* **Attribute access like an object**\n",
    "\n",
    "\n",
    "\n",
    "## Learning Plan: Skill-Building Activities\n",
    "\n",
    "We'll divide your learning into **four tiers**:\n",
    "\n",
    "| Tier          | Focus                                             | Dataset                            | Skill Level     |\n",
    "| ------------- | ------------------------------------------------- | ---------------------------------- | --------------- |\n",
    "| 1. Basics     | Create and use namedtuples                        | Manual/small list                  | 🟢 Beginner     |\n",
    "| 2. Iteration  | Parse and store records                           | Simulated machine log              | 🟡 Intermediate |\n",
    "| 3. Processing | Filtering, sorting, aggregating                   | CSV-like structured data           | 🟠 Advanced     |\n",
    "| 4. Complex    | Full analysis using `namedtuple` and real dataset | `epson_feeding_365day_dataset.csv` | 🔴 Expert       |\n",
    "\n",
    "\n",
    "\n",
    "## TIER 1 – Basics of `namedtuple()`\n",
    "\n",
    "### Skills Covered:\n",
    "\n",
    "* Creating a namedtuple\n",
    "* Accessing elements by attribute and index\n",
    "* Unpacking a namedtuple\n",
    "\n",
    "### Activity 1.1: Define and Use\n",
    "\n",
    "```python\n",
    "from collections import namedtuple\n",
    "\n",
    "SensorReading = namedtuple('SensorReading', ['timestamp', 'value'])\n",
    "reading = SensorReading('2025-05-01 08:00', 12.5)\n",
    "\n",
    "print(f\"Timestamp: {reading.timestamp}, Value: {reading.value}\")\n",
    "```\n",
    "\n",
    "**Challenge**:\n",
    "\n",
    "* Unpack it with `a, b = reading`\n",
    "* Try accessing a non-existent field: `reading.temperature` → What error do you get?\n",
    "\n",
    "\n"
   ],
   "id": "de5f33850158a24d"
  },
  {
   "metadata": {},
   "cell_type": "markdown",
   "source": [
    "## Goal:\n",
    "Understand what a namedtuple is, how to create one, and how to use its fields.\n",
    "\n",
    "### TIER 1 – Activities: namedtuple() Basics\n",
    "#### Skills You’ll Learn:\n",
    "- Defining a namedtuple type\n",
    "- Creating an instance\n",
    "- Accessing elements by name and index\n",
    "- Unpacking values\n",
    "\n",
    "### Activity 1.1: Define and Use a Simple namedtuple\n",
    "#### Task:\n",
    "Create a SensorReading namedtuple with fields:\n",
    "\n",
    "- timestamp\n",
    "- value"
   ],
   "id": "8b2265601252f6ff"
  },
  {
   "metadata": {
    "ExecuteTime": {
     "end_time": "2025-05-19T20:25:07.936945Z",
     "start_time": "2025-05-19T20:25:07.934431Z"
    }
   },
   "cell_type": "code",
   "source": "SensorReading = namedtuple('SensorReading', ['timestamp', 'value']) # type: ignore ",
   "id": "4e1125b0c47570b1",
   "outputs": [],
   "execution_count": 53
  },
  {
   "metadata": {
    "ExecuteTime": {
     "end_time": "2025-05-19T20:25:07.996030Z",
     "start_time": "2025-05-19T20:25:07.993718Z"
    }
   },
   "cell_type": "code",
   "source": "reading = SensorReading('2025-05-18 14:00', 25.6)",
   "id": "466889b4b07f8a00",
   "outputs": [],
   "execution_count": 54
  },
  {
   "metadata": {
    "ExecuteTime": {
     "end_time": "2025-05-19T20:25:08.011982Z",
     "start_time": "2025-05-19T20:25:08.008761Z"
    }
   },
   "cell_type": "code",
   "source": "print(f'Timestamp: {reading.timestamp}')",
   "id": "71dfa253d6eabe26",
   "outputs": [
    {
     "name": "stdout",
     "output_type": "stream",
     "text": [
      "Timestamp: 2025-05-18 14:00\n"
     ]
    }
   ],
   "execution_count": 55
  },
  {
   "metadata": {
    "ExecuteTime": {
     "end_time": "2025-05-19T20:25:08.030608Z",
     "start_time": "2025-05-19T20:25:08.027795Z"
    }
   },
   "cell_type": "code",
   "source": "print(f'Value: {reading.value}')",
   "id": "402ae335f1e9d2a",
   "outputs": [
    {
     "name": "stdout",
     "output_type": "stream",
     "text": [
      "Value: 25.6\n"
     ]
    }
   ],
   "execution_count": 56
  },
  {
   "metadata": {},
   "cell_type": "markdown",
   "source": "### Activity 1.2: Access by index vs Name",
   "id": "76e2b70d2ab74efe"
  },
  {
   "metadata": {
    "ExecuteTime": {
     "end_time": "2025-05-19T20:25:08.079615Z",
     "start_time": "2025-05-19T20:25:08.076037Z"
    }
   },
   "cell_type": "code",
   "source": [
    "# index access\n",
    "reading[0]"
   ],
   "id": "127fb4a0a3f66b83",
   "outputs": [
    {
     "data": {
      "text/plain": [
       "'2025-05-18 14:00'"
      ]
     },
     "execution_count": 57,
     "metadata": {},
     "output_type": "execute_result"
    }
   ],
   "execution_count": 57
  },
  {
   "metadata": {
    "ExecuteTime": {
     "end_time": "2025-05-19T20:25:08.113550Z",
     "start_time": "2025-05-19T20:25:08.109468Z"
    }
   },
   "cell_type": "code",
   "source": [
    "# name access\n",
    "reading.timestamp"
   ],
   "id": "8d94f61d762ac93b",
   "outputs": [
    {
     "data": {
      "text/plain": [
       "'2025-05-18 14:00'"
      ]
     },
     "execution_count": 58,
     "metadata": {},
     "output_type": "execute_result"
    }
   ],
   "execution_count": 58
  },
  {
   "metadata": {},
   "cell_type": "markdown",
   "source": "### Activity 1.3: Unpack the NamedTuple",
   "id": "c915d4ac2a914bbb"
  },
  {
   "metadata": {
    "ExecuteTime": {
     "end_time": "2025-05-19T20:25:08.159039Z",
     "start_time": "2025-05-19T20:25:08.156446Z"
    }
   },
   "cell_type": "code",
   "source": "timestamp, value = reading",
   "id": "acb13df5d9d748bd",
   "outputs": [],
   "execution_count": 59
  },
  {
   "metadata": {
    "ExecuteTime": {
     "end_time": "2025-05-19T20:25:08.192981Z",
     "start_time": "2025-05-19T20:25:08.189253Z"
    }
   },
   "cell_type": "code",
   "source": "timestamp",
   "id": "4a34c59f56a2880b",
   "outputs": [
    {
     "data": {
      "text/plain": [
       "'2025-05-18 14:00'"
      ]
     },
     "execution_count": 60,
     "metadata": {},
     "output_type": "execute_result"
    }
   ],
   "execution_count": 60
  },
  {
   "metadata": {
    "ExecuteTime": {
     "end_time": "2025-05-19T20:25:08.233631Z",
     "start_time": "2025-05-19T20:25:08.230168Z"
    }
   },
   "cell_type": "code",
   "source": "value",
   "id": "e7d8adb5ea75cc67",
   "outputs": [
    {
     "data": {
      "text/plain": [
       "25.6"
      ]
     },
     "execution_count": 61,
     "metadata": {},
     "output_type": "execute_result"
    }
   ],
   "execution_count": 61
  },
  {
   "metadata": {},
   "cell_type": "markdown",
   "source": [
    "### Activity 1.4: Use asdict()\n",
    "Turn a namedtuple into a dictionary for easy inspection or logging."
   ],
   "id": "22449126acb690af"
  },
  {
   "metadata": {
    "ExecuteTime": {
     "end_time": "2025-05-19T20:25:08.256878Z",
     "start_time": "2025-05-19T20:25:08.254313Z"
    }
   },
   "cell_type": "code",
   "source": "from dataclasses import dataclass, asdict",
   "id": "e29281f02e43b258",
   "outputs": [],
   "execution_count": 62
  },
  {
   "metadata": {
    "ExecuteTime": {
     "end_time": "2025-05-19T20:25:08.280150Z",
     "start_time": "2025-05-19T20:25:08.276471Z"
    }
   },
   "cell_type": "code",
   "source": [
    "@dataclass\n",
    "class SensorReading:\n",
    "    timestamp: str\n",
    "    value: float"
   ],
   "id": "2e60532d3f1ae4f9",
   "outputs": [],
   "execution_count": 63
  },
  {
   "metadata": {
    "ExecuteTime": {
     "end_time": "2025-05-19T20:25:08.318326Z",
     "start_time": "2025-05-19T20:25:08.315929Z"
    }
   },
   "cell_type": "code",
   "source": "reading = SensorReading('2025-05-18 14:00', 25.6)",
   "id": "4bca6beaeb14afcf",
   "outputs": [],
   "execution_count": 64
  },
  {
   "metadata": {
    "ExecuteTime": {
     "end_time": "2025-05-19T20:25:08.349206Z",
     "start_time": "2025-05-19T20:25:08.345552Z"
    }
   },
   "cell_type": "code",
   "source": "asdict(reading)",
   "id": "cef17d764cb2be0c",
   "outputs": [
    {
     "data": {
      "text/plain": [
       "{'timestamp': '2025-05-18 14:00', 'value': 25.6}"
      ]
     },
     "execution_count": 65,
     "metadata": {},
     "output_type": "execute_result"
    }
   ],
   "execution_count": 65
  },
  {
   "metadata": {},
   "cell_type": "markdown",
   "source": [
    "### Activity 1.5: Replace a Value with replace()\n",
    "Since namedtuples are immutable, you can't update them directly. Use replace():"
   ],
   "id": "5bf79b4574762b47"
  },
  {
   "metadata": {
    "ExecuteTime": {
     "end_time": "2025-05-19T20:25:08.386996Z",
     "start_time": "2025-05-19T20:25:08.384455Z"
    }
   },
   "cell_type": "code",
   "source": "from dataclasses import replace",
   "id": "6147600038bb409b",
   "outputs": [],
   "execution_count": 66
  },
  {
   "metadata": {
    "ExecuteTime": {
     "end_time": "2025-05-19T20:25:08.403703Z",
     "start_time": "2025-05-19T20:25:08.400718Z"
    }
   },
   "cell_type": "code",
   "source": "new_reading = replace(reading, value=25.6)",
   "id": "71f185bae11f2d0d",
   "outputs": [],
   "execution_count": 67
  },
  {
   "metadata": {
    "ExecuteTime": {
     "end_time": "2025-05-19T20:25:08.421015Z",
     "start_time": "2025-05-19T20:25:08.418323Z"
    }
   },
   "cell_type": "code",
   "source": "new_reading",
   "id": "ec17155667fff3d0",
   "outputs": [
    {
     "data": {
      "text/plain": [
       "SensorReading(timestamp='2025-05-18 14:00', value=25.6)"
      ]
     },
     "execution_count": 68,
     "metadata": {},
     "output_type": "execute_result"
    }
   ],
   "execution_count": 68
  },
  {
   "metadata": {},
   "cell_type": "markdown",
   "source": "### Challenge 1.6: Create and Unpack a TemperatureReading",
   "id": "b1f18b81d10fc5fd"
  },
  {
   "metadata": {
    "ExecuteTime": {
     "end_time": "2025-05-19T20:25:08.458026Z",
     "start_time": "2025-05-19T20:25:08.455091Z"
    }
   },
   "cell_type": "code",
   "source": "TemperatureReading = namedtuple('TemperatureReading', ['location', 'celsius']) # type: ignore",
   "id": "4f960740be76a9cd",
   "outputs": [],
   "execution_count": 69
  },
  {
   "metadata": {
    "ExecuteTime": {
     "end_time": "2025-05-19T20:25:08.483578Z",
     "start_time": "2025-05-19T20:25:08.480655Z"
    }
   },
   "cell_type": "code",
   "source": "reading = TemperatureReading('Calgary', 18.7)",
   "id": "a4574cda848329fc",
   "outputs": [],
   "execution_count": 70
  },
  {
   "metadata": {
    "ExecuteTime": {
     "end_time": "2025-05-19T20:25:08.514793Z",
     "start_time": "2025-05-19T20:25:08.512100Z"
    }
   },
   "cell_type": "code",
   "source": "location_, temp_c = reading",
   "id": "7855b7db6dcbd1fc",
   "outputs": [],
   "execution_count": 71
  },
  {
   "metadata": {
    "ExecuteTime": {
     "end_time": "2025-05-19T20:25:08.532913Z",
     "start_time": "2025-05-19T20:25:08.529345Z"
    }
   },
   "cell_type": "code",
   "source": "location_",
   "id": "e9605b7a8dbfa12a",
   "outputs": [
    {
     "data": {
      "text/plain": [
       "'Calgary'"
      ]
     },
     "execution_count": 72,
     "metadata": {},
     "output_type": "execute_result"
    }
   ],
   "execution_count": 72
  },
  {
   "metadata": {
    "ExecuteTime": {
     "end_time": "2025-05-19T20:25:08.559946Z",
     "start_time": "2025-05-19T20:25:08.557314Z"
    }
   },
   "cell_type": "code",
   "source": "temp_f = temp_c * 1.8 + 32",
   "id": "bcf183233b3434e9",
   "outputs": [],
   "execution_count": 73
  },
  {
   "metadata": {
    "ExecuteTime": {
     "end_time": "2025-05-19T20:25:08.590148Z",
     "start_time": "2025-05-19T20:25:08.586620Z"
    }
   },
   "cell_type": "code",
   "source": "temp_f",
   "id": "b06761adb68b66a2",
   "outputs": [
    {
     "data": {
      "text/plain": [
       "65.66"
      ]
     },
     "execution_count": 74,
     "metadata": {},
     "output_type": "execute_result"
    }
   ],
   "execution_count": 74
  },
  {
   "metadata": {},
   "cell_type": "markdown",
   "source": "### Challenge 1.7: Use asdict() to log a MaterialStatus",
   "id": "21b0f16f46a34c6c"
  },
  {
   "metadata": {
    "ExecuteTime": {
     "end_time": "2025-05-19T20:25:08.624219Z",
     "start_time": "2025-05-19T20:25:08.619953Z"
    }
   },
   "cell_type": "code",
   "source": [
    "from typing import Optional\n",
    "@dataclass\n",
    "class MaterialStatus:\n",
    "    material: str\n",
    "    status: str\n",
    "    code: Optional[str] # this means it can be str or None"
   ],
   "id": "f87868ec91e8c3a2",
   "outputs": [],
   "execution_count": 75
  },
  {
   "metadata": {
    "ExecuteTime": {
     "end_time": "2025-05-19T20:25:08.675701Z",
     "start_time": "2025-05-19T20:25:08.673099Z"
    }
   },
   "cell_type": "code",
   "source": "status = MaterialStatus('Plastic Film', 'OK', None)",
   "id": "512824b611789f42",
   "outputs": [],
   "execution_count": 76
  },
  {
   "metadata": {
    "ExecuteTime": {
     "end_time": "2025-05-19T20:25:08.696072Z",
     "start_time": "2025-05-19T20:25:08.692535Z"
    }
   },
   "cell_type": "code",
   "source": "asdict(status)",
   "id": "7a6f4ba77aa4500c",
   "outputs": [
    {
     "data": {
      "text/plain": [
       "{'material': 'Plastic Film', 'status': 'OK', 'code': None}"
      ]
     },
     "execution_count": 77,
     "metadata": {},
     "output_type": "execute_result"
    }
   ],
   "execution_count": 77
  },
  {
   "metadata": {},
   "cell_type": "markdown",
   "source": [
    "### Quick Note on Optional[str]\n",
    "```\n",
    "Optional[str] == Union[str, None]\n",
    "```\n",
    "\n",
    "It tells Python (and your linter) that this field can either be:\n",
    "\n",
    "- A str (like 'E105')\n",
    "- Or None (missing code)"
   ],
   "id": "aef249a91c59135c"
  },
  {
   "metadata": {},
   "cell_type": "markdown",
   "source": [
    "## TIER 2 – Working with Lists of NamedTuples\n",
    "\n",
    "### Skills Covered:\n",
    "\n",
    "* Reading from a list or simulated data\n",
    "* Storing multiple records in namedtuples\n",
    "* Filtering and displaying results\n",
    "\n",
    "### Activity 2.1: Feed Log Simulation\n",
    "\n",
    "```python\n",
    "from collections import namedtuple\n",
    "\n",
    "FeedLog = namedtuple('FeedLog', ['day', 'status', 'duration'])\n",
    "\n",
    "logs = [\n",
    "    FeedLog('2025-01-01', 'OK', 120),\n",
    "    FeedLog('2025-01-02', 'Error', 5),\n",
    "    FeedLog('2025-01-03', 'OK', 110),\n",
    "]\n",
    "\n",
    "# Filter short feeds\n",
    "short_feeds = [log for log in logs if log.duration < 30]\n",
    "print(short_feeds)\n",
    "```\n",
    "\n",
    "**Challenge**:\n",
    "\n",
    "* Count the number of 'OK' feeds.\n",
    "* Sort the logs by duration (hint: `sorted()` and lambda)."
   ],
   "id": "81b439c8f0fee421"
  },
  {
   "metadata": {
    "ExecuteTime": {
     "end_time": "2025-05-19T20:25:08.710283Z",
     "start_time": "2025-05-19T20:25:08.707685Z"
    }
   },
   "cell_type": "code",
   "source": "FeedLog = namedtuple('FeedLog', ['day', 'status', 'duration']) # type: ignore",
   "id": "e656da082e7f230e",
   "outputs": [],
   "execution_count": 78
  },
  {
   "metadata": {
    "ExecuteTime": {
     "end_time": "2025-05-19T20:25:08.743621Z",
     "start_time": "2025-05-19T20:25:08.741036Z"
    }
   },
   "cell_type": "code",
   "source": [
    "logs = [\n",
    "    FeedLog('2025-01-01', 'OK', 120),\n",
    "    FeedLog('2025-01-02', 'Error', 5),\n",
    "    FeedLog('2025-01-03', 'OK', 110),\n",
    "]"
   ],
   "id": "33602c5a8e5d1b11",
   "outputs": [],
   "execution_count": 79
  },
  {
   "metadata": {
    "ExecuteTime": {
     "end_time": "2025-05-19T20:25:08.777625Z",
     "start_time": "2025-05-19T20:25:08.775131Z"
    }
   },
   "cell_type": "code",
   "source": "short_feeds = [log for log in logs if log.duration < 30]",
   "id": "b60667c3de608cfc",
   "outputs": [],
   "execution_count": 80
  },
  {
   "metadata": {
    "ExecuteTime": {
     "end_time": "2025-05-19T20:25:08.812625Z",
     "start_time": "2025-05-19T20:25:08.808962Z"
    }
   },
   "cell_type": "code",
   "source": "short_feeds",
   "id": "d1ae5e7058b68028",
   "outputs": [
    {
     "data": {
      "text/plain": [
       "[FeedLog(day='2025-01-02', status='Error', duration=5)]"
      ]
     },
     "execution_count": 81,
     "metadata": {},
     "output_type": "execute_result"
    }
   ],
   "execution_count": 81
  },
  {
   "metadata": {
    "ExecuteTime": {
     "end_time": "2025-05-19T20:25:08.827174Z",
     "start_time": "2025-05-19T20:25:08.824688Z"
    }
   },
   "cell_type": "code",
   "source": "ok_feeds = sum(1 for log in logs if log.status == 'OK')",
   "id": "adceae1c207a2e09",
   "outputs": [],
   "execution_count": 82
  },
  {
   "metadata": {
    "ExecuteTime": {
     "end_time": "2025-05-19T20:25:08.858539Z",
     "start_time": "2025-05-19T20:25:08.855166Z"
    }
   },
   "cell_type": "code",
   "source": "ok_feeds",
   "id": "12f90f4e8702d612",
   "outputs": [
    {
     "data": {
      "text/plain": [
       "2"
      ]
     },
     "execution_count": 83,
     "metadata": {},
     "output_type": "execute_result"
    }
   ],
   "execution_count": 83
  },
  {
   "metadata": {
    "ExecuteTime": {
     "end_time": "2025-05-19T20:25:08.889664Z",
     "start_time": "2025-05-19T20:25:08.886936Z"
    }
   },
   "cell_type": "code",
   "source": "sorted_duration = sorted(logs, key=lambda log: log.duration)",
   "id": "4ba9f650f1f03f9",
   "outputs": [],
   "execution_count": 84
  },
  {
   "metadata": {
    "ExecuteTime": {
     "end_time": "2025-05-19T20:25:08.918639Z",
     "start_time": "2025-05-19T20:25:08.914766Z"
    }
   },
   "cell_type": "code",
   "source": "sorted_duration",
   "id": "f5f2aaa98beef01a",
   "outputs": [
    {
     "data": {
      "text/plain": [
       "[FeedLog(day='2025-01-02', status='Error', duration=5),\n",
       " FeedLog(day='2025-01-03', status='OK', duration=110),\n",
       " FeedLog(day='2025-01-01', status='OK', duration=120)]"
      ]
     },
     "execution_count": 85,
     "metadata": {},
     "output_type": "execute_result"
    }
   ],
   "execution_count": 85
  },
  {
   "metadata": {},
   "cell_type": "markdown",
   "source": [
    "## Bonus Exercises\n",
    "\n",
    "### Challenge 2.3: Total Feed Time for 'OK' Entries\n"
   ],
   "id": "595c64740952f43"
  },
  {
   "metadata": {
    "ExecuteTime": {
     "end_time": "2025-05-19T20:25:08.950636Z",
     "start_time": "2025-05-19T20:25:08.947495Z"
    }
   },
   "cell_type": "code",
   "source": "total_ok_time = sum(log.duration for log in logs if log.status == 'OK')",
   "id": "8905794e1ad7da43",
   "outputs": [],
   "execution_count": 86
  },
  {
   "metadata": {
    "ExecuteTime": {
     "end_time": "2025-05-19T20:25:08.965130Z",
     "start_time": "2025-05-19T20:25:08.961872Z"
    }
   },
   "cell_type": "code",
   "source": "total_ok_time",
   "id": "bfe379b92dea6d3b",
   "outputs": [
    {
     "data": {
      "text/plain": [
       "230"
      ]
     },
     "execution_count": 87,
     "metadata": {},
     "output_type": "execute_result"
    }
   ],
   "execution_count": 87
  },
  {
   "metadata": {},
   "cell_type": "markdown",
   "source": "### Challenge 2.4: Find the Day with the Shortest Feed\n",
   "id": "1362b1dcb11b0602"
  },
  {
   "metadata": {
    "ExecuteTime": {
     "end_time": "2025-05-19T20:25:08.993304Z",
     "start_time": "2025-05-19T20:25:08.990037Z"
    }
   },
   "cell_type": "code",
   "source": "shortest_day_with_shortest_feed = min(logs, key=lambda log: log.duration)",
   "id": "e13e97b8121ed409",
   "outputs": [],
   "execution_count": 88
  },
  {
   "metadata": {
    "ExecuteTime": {
     "end_time": "2025-05-19T20:25:09.044452Z",
     "start_time": "2025-05-19T20:25:09.040988Z"
    }
   },
   "cell_type": "code",
   "source": "shortest_day_with_shortest_feed",
   "id": "7c920ebca5cc7a66",
   "outputs": [
    {
     "data": {
      "text/plain": [
       "FeedLog(day='2025-01-02', status='Error', duration=5)"
      ]
     },
     "execution_count": 89,
     "metadata": {},
     "output_type": "execute_result"
    }
   ],
   "execution_count": 89
  },
  {
   "metadata": {},
   "cell_type": "markdown",
   "source": [
    "## TIER 3 – Reading and Processing Realistic CSV Records\n",
    "\n",
    "### **Skills Covered**:\n",
    "\n",
    "| Skill                            | Description                                |\n",
    "| -------------------------------- | ------------------------------------------ |\n",
    "| Reading CSV rows                 | Load real-like data using the `csv` module |\n",
    "| Creating `namedtuple` from rows  | Dynamically map rows into namedtuples      |\n",
    "| Handling optional/missing fields | Convert blank values to `None`             |\n",
    "| Processing                       | Filtering, summarizing, aggregating        |"
   ],
   "id": "fdf36fc07753f8d7"
  },
  {
   "metadata": {
    "ExecuteTime": {
     "end_time": "2025-05-19T20:26:32.251154Z",
     "start_time": "2025-05-19T20:26:32.248451Z"
    }
   },
   "cell_type": "code",
   "source": "Feed = namedtuple('Feed', ['date', 'status', 'duration', 'error']) # type: ignore",
   "id": "a7a7d536f711d46c",
   "outputs": [],
   "execution_count": 90
  },
  {
   "metadata": {
    "ExecuteTime": {
     "end_time": "2025-05-19T20:28:14.788032Z",
     "start_time": "2025-05-19T20:28:14.782986Z"
    }
   },
   "cell_type": "code",
   "source": [
    "with open('feed_sample.csv', newline='') as f:\n",
    "    reader = csv.reader(f)\n",
    "    next(reader) # skip header\n",
    "    \n",
    "    logs = [\n",
    "        Feed(date, status, int(duration), error or None)\n",
    "        for date, status, duration, error in reader\n",
    "    ]"
   ],
   "id": "ce1e5b814f6f23ed",
   "outputs": [],
   "execution_count": 91
  },
  {
   "metadata": {
    "ExecuteTime": {
     "end_time": "2025-05-19T20:29:14.914781Z",
     "start_time": "2025-05-19T20:29:14.912090Z"
    }
   },
   "cell_type": "code",
   "source": "error_logs = [log for log in logs if log.status == 'Error']",
   "id": "95a2301308e9ed40",
   "outputs": [],
   "execution_count": 92
  },
  {
   "metadata": {
    "ExecuteTime": {
     "end_time": "2025-05-19T20:29:27.726405Z",
     "start_time": "2025-05-19T20:29:27.723775Z"
    }
   },
   "cell_type": "code",
   "source": [
    "for e in error_logs:\n",
    "    print(e)"
   ],
   "id": "438ad3e83c5a3733",
   "outputs": [
    {
     "name": "stdout",
     "output_type": "stream",
     "text": [
      "Feed(date='2025-01-02', status='Error', duration=10, error='E105')\n"
     ]
    }
   ],
   "execution_count": 93
  },
  {
   "metadata": {
    "ExecuteTime": {
     "end_time": "2025-05-19T20:25:09.173552Z",
     "start_time": "2025-05-19T20:25:09.171623Z"
    }
   },
   "cell_type": "code",
   "source": "",
   "id": "2cf58450502b19a1",
   "outputs": [],
   "execution_count": 89
  },
  {
   "metadata": {
    "ExecuteTime": {
     "end_time": "2025-05-19T20:25:09.192176Z",
     "start_time": "2025-05-19T20:25:09.189978Z"
    }
   },
   "cell_type": "code",
   "source": "",
   "id": "bdc6f3742b004ff",
   "outputs": [],
   "execution_count": 89
  },
  {
   "metadata": {
    "ExecuteTime": {
     "end_time": "2025-05-19T20:25:09.218838Z",
     "start_time": "2025-05-19T20:25:09.215869Z"
    }
   },
   "cell_type": "code",
   "source": "",
   "id": "7d3def01f1f146d7",
   "outputs": [],
   "execution_count": 89
  },
  {
   "metadata": {
    "ExecuteTime": {
     "end_time": "2025-05-19T20:25:09.245196Z",
     "start_time": "2025-05-19T20:25:09.243592Z"
    }
   },
   "cell_type": "code",
   "source": "",
   "id": "2a61d940a0a420ad",
   "outputs": [],
   "execution_count": 89
  },
  {
   "metadata": {
    "ExecuteTime": {
     "end_time": "2025-05-19T20:25:09.261507Z",
     "start_time": "2025-05-19T20:25:09.259459Z"
    }
   },
   "cell_type": "code",
   "source": "",
   "id": "8f78806487590684",
   "outputs": [],
   "execution_count": 89
  },
  {
   "metadata": {
    "ExecuteTime": {
     "end_time": "2025-05-19T20:25:09.280431Z",
     "start_time": "2025-05-19T20:25:09.278824Z"
    }
   },
   "cell_type": "code",
   "source": "",
   "id": "682411fe8d7ca4fe",
   "outputs": [],
   "execution_count": 89
  },
  {
   "metadata": {
    "ExecuteTime": {
     "end_time": "2025-05-19T20:25:09.310761Z",
     "start_time": "2025-05-19T20:25:09.309084Z"
    }
   },
   "cell_type": "code",
   "source": "",
   "id": "8043202b5fcae243",
   "outputs": [],
   "execution_count": 89
  },
  {
   "metadata": {
    "ExecuteTime": {
     "end_time": "2025-05-19T20:25:09.329755Z",
     "start_time": "2025-05-19T20:25:09.327701Z"
    }
   },
   "cell_type": "code",
   "source": "",
   "id": "ef86ac742138437e",
   "outputs": [],
   "execution_count": 89
  },
  {
   "metadata": {
    "ExecuteTime": {
     "end_time": "2025-05-19T20:25:09.340635Z",
     "start_time": "2025-05-19T20:25:09.338426Z"
    }
   },
   "cell_type": "code",
   "source": "",
   "id": "34ad7928043cbf2f",
   "outputs": [],
   "execution_count": 89
  },
  {
   "metadata": {
    "ExecuteTime": {
     "end_time": "2025-05-19T20:25:09.371902Z",
     "start_time": "2025-05-19T20:25:09.370148Z"
    }
   },
   "cell_type": "code",
   "source": "",
   "id": "34c40ec629a10fb4",
   "outputs": [],
   "execution_count": 89
  },
  {
   "metadata": {
    "ExecuteTime": {
     "end_time": "2025-05-19T20:25:09.382401Z",
     "start_time": "2025-05-19T20:25:09.380445Z"
    }
   },
   "cell_type": "code",
   "source": "",
   "id": "b0c64639c6db5683",
   "outputs": [],
   "execution_count": 89
  },
  {
   "metadata": {
    "ExecuteTime": {
     "end_time": "2025-05-19T20:25:09.409465Z",
     "start_time": "2025-05-19T20:25:09.407275Z"
    }
   },
   "cell_type": "code",
   "source": "",
   "id": "73d396031deb1f13",
   "outputs": [],
   "execution_count": 89
  },
  {
   "metadata": {},
   "cell_type": "markdown",
   "source": [
    "\n",
    "\n",
    "\n",
    "\n",
    "\n",
    "## TIER 3 – Loading from CSV and Processing\n",
    "\n",
    "### 🔹 Skills Covered:\n",
    "\n",
    "* Reading CSV into namedtuple\n",
    "* Converting strings and numeric types\n",
    "* Aggregating and filtering\n",
    "\n",
    "### Activity 3.1: Feed Summary from CSV\n",
    "\n",
    "We’ll use a **simulated smaller dataset**, similar to your real Epson file:\n",
    "\n",
    "**Sample CSV: `feed_sample.csv`**\n",
    "\n",
    "```csv\n",
    "Date,Status,Duration,ErrorCode\n",
    "2025-01-01,OK,130,\n",
    "2025-01-02,Error,10,E105\n",
    "2025-01-03,OK,120,\n",
    "```\n",
    "\n",
    "```python\n",
    "import csv\n",
    "from collections import namedtuple\n",
    "\n",
    "Feed = namedtuple('Feed', ['date', 'status', 'duration', 'error'])\n",
    "\n",
    "with open('feed_sample.csv') as f:\n",
    "    reader = csv.reader(f)\n",
    "    next(reader)\n",
    "    data = [Feed(date, status, int(duration), error or None) for date, status, duration, error in reader]\n",
    "\n",
    "errors = [entry for entry in data if entry.status == 'Error']\n",
    "print(\"Error Entries:\", errors)\n",
    "```\n",
    "\n",
    "**Challenge**:\n",
    "\n",
    "* Find average duration of successful feeds.\n",
    "* Get the day with the shortest feed duration.\n",
    "\n",
    "\n",
    "\n",
    "## TIER 4 – Real Dataset: `epson_feeding_365day_dataset.csv`\n",
    "\n",
    "### Skills Covered:\n",
    "\n",
    "* Working with 365 records\n",
    "* Performance considerations\n",
    "* Advanced filtering and reporting\n",
    "\n",
    "### Activity 4.1: Load and Analyze\n",
    "\n",
    "```python\n",
    "import csv\n",
    "from collections import namedtuple\n",
    "\n",
    "Feeding = namedtuple('Feeding', ['date', 'shift', 'status', 'duration', 'material', 'error_code'])\n",
    "\n",
    "with open('/mnt/data/epson_feeding_365day_dataset.csv') as f:\n",
    "    reader = csv.reader(f)\n",
    "    next(reader)\n",
    "    records = [\n",
    "        Feeding(date, shift, status, int(duration), material, error_code or None)\n",
    "        for date, shift, status, duration, material, error_code in reader\n",
    "    ]\n",
    "```\n",
    "\n",
    "**Advanced Challenges**:\n",
    "\n",
    "1. 🔍 How many errors occurred per shift?\n",
    "2. 🧮 What is the average duration per material type?\n",
    "3. 🗓️ What day had the highest number of errors?\n",
    "4. 📊 Generate a summary per month: total feeds, average duration, % errors.\n",
    "\n",
    "\n",
    "\n",
    "## Common Pitfalls and How to Solve Them\n",
    "\n",
    "| Problem                                       | Cause                                      | Solution                                |\n",
    "| --------------------------------------------- | ------------------------------------------ | --------------------------------------- |\n",
    "| `TypeError: Feed() takes exactly X arguments` | Wrong number of fields passed              | Double-check field count in CSV         |\n",
    "| `'tuple' object has no attribute`             | Used plain `tuple` instead of `namedtuple` | Ensure you're using the named version   |\n",
    "| Empty field in CSV                            | Missing conversion                         | Use `value or None` for optional fields |\n",
    "| Can't modify field                            | `namedtuple` is immutable                  | Use `_replace()` method                 |\n",
    "\n"
   ],
   "id": "79bf8c7353ca1d9f"
  },
  {
   "metadata": {
    "ExecuteTime": {
     "end_time": "2025-05-19T20:25:09.439524Z",
     "start_time": "2025-05-19T20:25:09.437607Z"
    }
   },
   "cell_type": "code",
   "source": "",
   "id": "93cf3d8bb33bc600",
   "outputs": [],
   "execution_count": 89
  }
 ],
 "metadata": {
  "kernelspec": {
   "display_name": "Python 3",
   "language": "python",
   "name": "python3"
  },
  "language_info": {
   "codemirror_mode": {
    "name": "ipython",
    "version": 2
   },
   "file_extension": ".py",
   "mimetype": "text/x-python",
   "name": "python",
   "nbconvert_exporter": "python",
   "pygments_lexer": "ipython2",
   "version": "2.7.6"
  }
 },
 "nbformat": 4,
 "nbformat_minor": 5
}
