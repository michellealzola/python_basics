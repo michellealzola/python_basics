{
 "cells": [
  {
   "metadata": {},
   "cell_type": "markdown",
   "source": [
    "# What is namedtuple()?\n",
    "namedtuple() is a factory function in the collections module that creates a subclass of a tuple with named fields. It lets you access tuple elements using dot notation, improving code readability."
   ],
   "id": "920535a628faef04"
  },
  {
   "metadata": {},
   "cell_type": "markdown",
   "source": [
    "## **Difference between `tuple` and `namedtuple`** in Python:\n",
    "\n",
    "\n",
    "\n",
    "### **1. Readability**\n",
    "\n",
    "#### `tuple`:\n",
    "\n",
    "You access items by **index**, which can be unclear:\n",
    "\n",
    "```python\n",
    "t = ('2025-01-01', 'OK', 120)\n",
    "print(t[0])  # What's this? Hard to tell\n",
    "```\n",
    "\n",
    "#### `namedtuple`:\n",
    "\n",
    "You access items by **field name**, improving clarity:\n",
    "\n",
    "```python\n",
    "from collections import namedtuple\n",
    "\n",
    "FeedLog = namedtuple('FeedLog', ['date', 'status', 'duration'])\n",
    "log = FeedLog('2025-01-01', 'OK', 120)\n",
    "\n",
    "print(log.date)  # Much clearer\n",
    "```\n",
    "\n",
    "\n",
    "\n",
    "### **2. Self-documenting Code**\n",
    "\n",
    "Using `namedtuple` gives your data **semantic meaning**:\n",
    "\n",
    "```python\n",
    "# tuple\n",
    "log = ('2025-01-01', 'OK', 120)\n",
    "\n",
    "# namedtuple\n",
    "FeedLog = namedtuple('FeedLog', ['date', 'status', 'duration'])\n",
    "log = FeedLog('2025-01-01', 'OK', 120)\n",
    "```\n",
    "\n",
    "The second version communicates more clearly what each value represents.\n",
    "\n",
    "\n",
    "\n",
    "### **3. Still Memory-Efficient**\n",
    "\n",
    "Unlike a class (with `__init__`, `__str__`, etc.), a `namedtuple`:\n",
    "\n",
    "* Is as **lightweight** as a regular tuple\n",
    "* Has **fixed size** and **immutable**\n",
    "* Supports **indexing**, **iteration**, and **unpacking** just like `tuple`\n",
    "\n",
    "\n",
    "\n",
    "### **4. Adds Useful Methods**\n",
    "\n",
    "`namedtuple` adds:\n",
    "\n",
    "* `.._fields` → returns a tuple of field names\n",
    "* `.._asdict()` → returns an `OrderedDict` of field names and values\n",
    "* `._replace(**kwargs)` → create a copy with one or more fields replaced\n",
    "\n",
    "```python\n",
    "log = FeedLog('2025-01-01', 'OK', 120)\n",
    "\n",
    "print(log._asdict())   # {'date': '2025-01-01', 'status': 'OK', 'duration': 120}\n",
    "print(log._replace(status='Error'))  # Replace status immutably\n",
    "```\n",
    "\n",
    "\n",
    "\n",
    "### Limitations of `namedtuple`\n",
    "\n",
    "* You **cannot modify** fields once created (just like `tuple`)\n",
    "* All fields must be passed during creation\n",
    "* Not ideal if you need methods or mutable behavior → use `dataclass` instead\n",
    "\n",
    "\n",
    "\n",
    "### Summary Table\n",
    "\n",
    "| Feature             | `tuple`   | `namedtuple`          |\n",
    "| ------------------- | --------- | --------------------- |\n",
    "| Access by name      | ❌ No      | ✅ Yes                 |\n",
    "| Memory efficiency   | ✅ Yes     | ✅ Yes                 |\n",
    "| Field documentation | ❌ No      | ✅ Yes (`._fields`)    |\n",
    "| Field immutability  | ✅ Yes     | ✅ Yes                 |\n",
    "| Use in real apps    | ❌ Limited | ✅ Clearer, safer data |\n",
    "\n"
   ],
   "id": "d202db8dc5c0b7f7"
  },
  {
   "metadata": {
    "ExecuteTime": {
     "end_time": "2025-05-20T13:06:26.716444Z",
     "start_time": "2025-05-20T13:06:26.714024Z"
    }
   },
   "cell_type": "code",
   "source": [
    "from collections import namedtuple, defaultdict\n",
    "import csv\n",
    "import pandas as pd"
   ],
   "id": "ad07afedff7d17e5",
   "outputs": [],
   "execution_count": 515
  },
  {
   "metadata": {
    "ExecuteTime": {
     "end_time": "2025-05-20T13:06:27.346017Z",
     "start_time": "2025-05-20T13:06:27.343589Z"
    }
   },
   "cell_type": "code",
   "source": "Point = namedtuple('Point', ['x', 'y']) # type: ignore",
   "id": "4d6525096caf6ba1",
   "outputs": [],
   "execution_count": 516
  },
  {
   "metadata": {
    "ExecuteTime": {
     "end_time": "2025-05-20T13:06:27.361504Z",
     "start_time": "2025-05-20T13:06:27.359189Z"
    }
   },
   "cell_type": "code",
   "source": "p = Point(1, 2)",
   "id": "f41fcb66c3ddf7f6",
   "outputs": [],
   "execution_count": 517
  },
  {
   "metadata": {
    "ExecuteTime": {
     "end_time": "2025-05-20T13:06:27.374653Z",
     "start_time": "2025-05-20T13:06:27.371403Z"
    }
   },
   "cell_type": "code",
   "source": "p.x",
   "id": "738d2970753c0bce",
   "outputs": [
    {
     "data": {
      "text/plain": [
       "1"
      ]
     },
     "execution_count": 518,
     "metadata": {},
     "output_type": "execute_result"
    }
   ],
   "execution_count": 518
  },
  {
   "metadata": {
    "ExecuteTime": {
     "end_time": "2025-05-20T13:06:27.415051Z",
     "start_time": "2025-05-20T13:06:27.411592Z"
    }
   },
   "cell_type": "code",
   "source": "p[0]",
   "id": "9620652646a9628c",
   "outputs": [
    {
     "data": {
      "text/plain": [
       "1"
      ]
     },
     "execution_count": 519,
     "metadata": {},
     "output_type": "execute_result"
    }
   ],
   "execution_count": 519
  },
  {
   "metadata": {
    "ExecuteTime": {
     "end_time": "2025-05-20T13:06:27.474203Z",
     "start_time": "2025-05-20T13:06:27.470612Z"
    }
   },
   "cell_type": "code",
   "source": "p[1]",
   "id": "7c5c6aa7476f13a8",
   "outputs": [
    {
     "data": {
      "text/plain": [
       "2"
      ]
     },
     "execution_count": 520,
     "metadata": {},
     "output_type": "execute_result"
    }
   ],
   "execution_count": 520
  },
  {
   "metadata": {
    "ExecuteTime": {
     "end_time": "2025-05-20T13:06:27.494660Z",
     "start_time": "2025-05-20T13:06:27.491348Z"
    }
   },
   "cell_type": "code",
   "source": "p.y",
   "id": "10343464744444b9",
   "outputs": [
    {
     "data": {
      "text/plain": [
       "2"
      ]
     },
     "execution_count": 521,
     "metadata": {},
     "output_type": "execute_result"
    }
   ],
   "execution_count": 521
  },
  {
   "metadata": {},
   "cell_type": "markdown",
   "source": [
    "\n",
    "You get both:\n",
    "\n",
    "* **Index access like a tuple**\n",
    "* **Attribute access like an object**\n",
    "\n",
    "\n",
    "\n",
    "## Learning Plan: Skill-Building Activities\n",
    "\n",
    "We'll divide your learning into **four tiers**:\n",
    "\n",
    "| Tier          | Focus                                             | Dataset                            | Skill Level     |\n",
    "| ------------- | ------------------------------------------------- | ---------------------------------- | --------------- |\n",
    "| 1. Basics     | Create and use namedtuples                        | Manual/small list                  | 🟢 Beginner     |\n",
    "| 2. Iteration  | Parse and store records                           | Simulated machine log              | 🟡 Intermediate |\n",
    "| 3. Processing | Filtering, sorting, aggregating                   | CSV-like structured data           | 🟠 Advanced     |\n",
    "| 4. Complex    | Full analysis using `namedtuple` and real dataset | `epson_feeding_365day_dataset.csv` | 🔴 Expert       |\n",
    "\n",
    "\n",
    "\n",
    "## TIER 1 – Basics of `namedtuple()`\n",
    "\n",
    "### Skills Covered:\n",
    "\n",
    "* Creating a namedtuple\n",
    "* Accessing elements by attribute and index\n",
    "* Unpacking a namedtuple\n",
    "\n",
    "### Activity 1.1: Define and Use\n",
    "\n",
    "```python\n",
    "from collections import namedtuple\n",
    "\n",
    "SensorReading = namedtuple('SensorReading', ['timestamp', 'value'])\n",
    "reading = SensorReading('2025-05-01 08:00', 12.5)\n",
    "\n",
    "print(f\"Timestamp: {reading.timestamp}, Value: {reading.value}\")\n",
    "```\n",
    "\n",
    "**Challenge**:\n",
    "\n",
    "* Unpack it with `a, b = reading`\n",
    "* Try accessing a non-existent field: `reading.temperature` → What error do you get?\n",
    "\n",
    "\n"
   ],
   "id": "de5f33850158a24d"
  },
  {
   "metadata": {},
   "cell_type": "markdown",
   "source": [
    "## Goal:\n",
    "Understand what a namedtuple is, how to create one, and how to use its fields.\n",
    "\n",
    "### TIER 1 – Activities: namedtuple() Basics\n",
    "#### Skills You’ll Learn:\n",
    "- Defining a namedtuple type\n",
    "- Creating an instance\n",
    "- Accessing elements by name and index\n",
    "- Unpacking values\n",
    "\n",
    "### Activity 1.1: Define and Use a Simple namedtuple\n",
    "#### Task:\n",
    "Create a SensorReading namedtuple with fields:\n",
    "\n",
    "- timestamp\n",
    "- value"
   ],
   "id": "8b2265601252f6ff"
  },
  {
   "metadata": {
    "ExecuteTime": {
     "end_time": "2025-05-20T13:06:27.590649Z",
     "start_time": "2025-05-20T13:06:27.588091Z"
    }
   },
   "cell_type": "code",
   "source": "SensorReading = namedtuple('SensorReading', ['timestamp', 'value']) # type: ignore ",
   "id": "4e1125b0c47570b1",
   "outputs": [],
   "execution_count": 522
  },
  {
   "metadata": {
    "ExecuteTime": {
     "end_time": "2025-05-20T13:06:27.643190Z",
     "start_time": "2025-05-20T13:06:27.640412Z"
    }
   },
   "cell_type": "code",
   "source": "reading = SensorReading('2025-05-18 14:00', 25.6)",
   "id": "466889b4b07f8a00",
   "outputs": [],
   "execution_count": 523
  },
  {
   "metadata": {
    "ExecuteTime": {
     "end_time": "2025-05-20T13:06:27.741830Z",
     "start_time": "2025-05-20T13:06:27.739167Z"
    }
   },
   "cell_type": "code",
   "source": "print(f'Timestamp: {reading.timestamp}')",
   "id": "71dfa253d6eabe26",
   "outputs": [
    {
     "name": "stdout",
     "output_type": "stream",
     "text": [
      "Timestamp: 2025-05-18 14:00\n"
     ]
    }
   ],
   "execution_count": 524
  },
  {
   "metadata": {
    "ExecuteTime": {
     "end_time": "2025-05-20T13:06:27.760833Z",
     "start_time": "2025-05-20T13:06:27.757904Z"
    }
   },
   "cell_type": "code",
   "source": "print(f'Value: {reading.value}')",
   "id": "402ae335f1e9d2a",
   "outputs": [
    {
     "name": "stdout",
     "output_type": "stream",
     "text": [
      "Value: 25.6\n"
     ]
    }
   ],
   "execution_count": 525
  },
  {
   "metadata": {},
   "cell_type": "markdown",
   "source": "### Activity 1.2: Access by index vs Name",
   "id": "76e2b70d2ab74efe"
  },
  {
   "metadata": {
    "ExecuteTime": {
     "end_time": "2025-05-20T13:06:27.783687Z",
     "start_time": "2025-05-20T13:06:27.780207Z"
    }
   },
   "cell_type": "code",
   "source": [
    "# index access\n",
    "reading[0]"
   ],
   "id": "127fb4a0a3f66b83",
   "outputs": [
    {
     "data": {
      "text/plain": [
       "'2025-05-18 14:00'"
      ]
     },
     "execution_count": 526,
     "metadata": {},
     "output_type": "execute_result"
    }
   ],
   "execution_count": 526
  },
  {
   "metadata": {
    "ExecuteTime": {
     "end_time": "2025-05-20T13:06:27.839850Z",
     "start_time": "2025-05-20T13:06:27.836444Z"
    }
   },
   "cell_type": "code",
   "source": [
    "# name access\n",
    "reading.timestamp"
   ],
   "id": "8d94f61d762ac93b",
   "outputs": [
    {
     "data": {
      "text/plain": [
       "'2025-05-18 14:00'"
      ]
     },
     "execution_count": 527,
     "metadata": {},
     "output_type": "execute_result"
    }
   ],
   "execution_count": 527
  },
  {
   "metadata": {},
   "cell_type": "markdown",
   "source": "### Activity 1.3: Unpack the NamedTuple",
   "id": "c915d4ac2a914bbb"
  },
  {
   "metadata": {
    "ExecuteTime": {
     "end_time": "2025-05-20T13:06:27.858095Z",
     "start_time": "2025-05-20T13:06:27.855507Z"
    }
   },
   "cell_type": "code",
   "source": "timestamp, value = reading",
   "id": "acb13df5d9d748bd",
   "outputs": [],
   "execution_count": 528
  },
  {
   "metadata": {
    "ExecuteTime": {
     "end_time": "2025-05-20T13:06:27.885195Z",
     "start_time": "2025-05-20T13:06:27.882322Z"
    }
   },
   "cell_type": "code",
   "source": "timestamp",
   "id": "4a34c59f56a2880b",
   "outputs": [
    {
     "data": {
      "text/plain": [
       "'2025-05-18 14:00'"
      ]
     },
     "execution_count": 529,
     "metadata": {},
     "output_type": "execute_result"
    }
   ],
   "execution_count": 529
  },
  {
   "metadata": {
    "ExecuteTime": {
     "end_time": "2025-05-20T13:06:27.935981Z",
     "start_time": "2025-05-20T13:06:27.932345Z"
    }
   },
   "cell_type": "code",
   "source": "value",
   "id": "e7d8adb5ea75cc67",
   "outputs": [
    {
     "data": {
      "text/plain": [
       "25.6"
      ]
     },
     "execution_count": 530,
     "metadata": {},
     "output_type": "execute_result"
    }
   ],
   "execution_count": 530
  },
  {
   "metadata": {},
   "cell_type": "markdown",
   "source": [
    "### Activity 1.4: Use asdict()\n",
    "Turn a namedtuple into a dictionary for easy inspection or logging."
   ],
   "id": "22449126acb690af"
  },
  {
   "metadata": {
    "ExecuteTime": {
     "end_time": "2025-05-20T13:06:27.970502Z",
     "start_time": "2025-05-20T13:06:27.967353Z"
    }
   },
   "cell_type": "code",
   "source": "from dataclasses import dataclass, asdict",
   "id": "e29281f02e43b258",
   "outputs": [],
   "execution_count": 531
  },
  {
   "metadata": {
    "ExecuteTime": {
     "end_time": "2025-05-20T13:06:28.028860Z",
     "start_time": "2025-05-20T13:06:28.025979Z"
    }
   },
   "cell_type": "code",
   "source": [
    "@dataclass\n",
    "class SensorReading:\n",
    "    timestamp: str\n",
    "    value: float"
   ],
   "id": "2e60532d3f1ae4f9",
   "outputs": [],
   "execution_count": 532
  },
  {
   "metadata": {
    "ExecuteTime": {
     "end_time": "2025-05-20T13:06:28.065917Z",
     "start_time": "2025-05-20T13:06:28.063223Z"
    }
   },
   "cell_type": "code",
   "source": "reading = SensorReading('2025-05-18 14:00', 25.6)",
   "id": "4bca6beaeb14afcf",
   "outputs": [],
   "execution_count": 533
  },
  {
   "metadata": {
    "ExecuteTime": {
     "end_time": "2025-05-20T13:06:28.108257Z",
     "start_time": "2025-05-20T13:06:28.104230Z"
    }
   },
   "cell_type": "code",
   "source": "asdict(reading)",
   "id": "cef17d764cb2be0c",
   "outputs": [
    {
     "data": {
      "text/plain": [
       "{'timestamp': '2025-05-18 14:00', 'value': 25.6}"
      ]
     },
     "execution_count": 534,
     "metadata": {},
     "output_type": "execute_result"
    }
   ],
   "execution_count": 534
  },
  {
   "metadata": {},
   "cell_type": "markdown",
   "source": [
    "### Activity 1.5: Replace a Value with replace()\n",
    "Since namedtuples are immutable, you can't update them directly. Use replace():"
   ],
   "id": "5bf79b4574762b47"
  },
  {
   "metadata": {
    "ExecuteTime": {
     "end_time": "2025-05-20T13:06:28.121901Z",
     "start_time": "2025-05-20T13:06:28.119660Z"
    }
   },
   "cell_type": "code",
   "source": "from dataclasses import replace",
   "id": "6147600038bb409b",
   "outputs": [],
   "execution_count": 535
  },
  {
   "metadata": {
    "ExecuteTime": {
     "end_time": "2025-05-20T13:06:28.166790Z",
     "start_time": "2025-05-20T13:06:28.164090Z"
    }
   },
   "cell_type": "code",
   "source": "new_reading = replace(reading, value=25.6)",
   "id": "71f185bae11f2d0d",
   "outputs": [],
   "execution_count": 536
  },
  {
   "metadata": {
    "ExecuteTime": {
     "end_time": "2025-05-20T13:06:28.239268Z",
     "start_time": "2025-05-20T13:06:28.236186Z"
    }
   },
   "cell_type": "code",
   "source": "new_reading",
   "id": "ec17155667fff3d0",
   "outputs": [
    {
     "data": {
      "text/plain": [
       "SensorReading(timestamp='2025-05-18 14:00', value=25.6)"
      ]
     },
     "execution_count": 537,
     "metadata": {},
     "output_type": "execute_result"
    }
   ],
   "execution_count": 537
  },
  {
   "metadata": {},
   "cell_type": "markdown",
   "source": "### Challenge 1.6: Create and Unpack a TemperatureReading",
   "id": "b1f18b81d10fc5fd"
  },
  {
   "metadata": {
    "ExecuteTime": {
     "end_time": "2025-05-20T13:06:28.262424Z",
     "start_time": "2025-05-20T13:06:28.259835Z"
    }
   },
   "cell_type": "code",
   "source": "TemperatureReading = namedtuple('TemperatureReading', ['location', 'celsius']) # type: ignore",
   "id": "4f960740be76a9cd",
   "outputs": [],
   "execution_count": 538
  },
  {
   "metadata": {
    "ExecuteTime": {
     "end_time": "2025-05-20T13:06:28.280Z",
     "start_time": "2025-05-20T13:06:28.277207Z"
    }
   },
   "cell_type": "code",
   "source": "reading = TemperatureReading('Calgary', 18.7)",
   "id": "a4574cda848329fc",
   "outputs": [],
   "execution_count": 539
  },
  {
   "metadata": {
    "ExecuteTime": {
     "end_time": "2025-05-20T13:06:28.350298Z",
     "start_time": "2025-05-20T13:06:28.347775Z"
    }
   },
   "cell_type": "code",
   "source": "location_, temp_c = reading",
   "id": "7855b7db6dcbd1fc",
   "outputs": [],
   "execution_count": 540
  },
  {
   "metadata": {
    "ExecuteTime": {
     "end_time": "2025-05-20T13:06:28.363126Z",
     "start_time": "2025-05-20T13:06:28.360212Z"
    }
   },
   "cell_type": "code",
   "source": "location_",
   "id": "e9605b7a8dbfa12a",
   "outputs": [
    {
     "data": {
      "text/plain": [
       "'Calgary'"
      ]
     },
     "execution_count": 541,
     "metadata": {},
     "output_type": "execute_result"
    }
   ],
   "execution_count": 541
  },
  {
   "metadata": {
    "ExecuteTime": {
     "end_time": "2025-05-20T13:06:28.398154Z",
     "start_time": "2025-05-20T13:06:28.395663Z"
    }
   },
   "cell_type": "code",
   "source": "temp_f = temp_c * 1.8 + 32",
   "id": "bcf183233b3434e9",
   "outputs": [],
   "execution_count": 542
  },
  {
   "metadata": {
    "ExecuteTime": {
     "end_time": "2025-05-20T13:06:28.441369Z",
     "start_time": "2025-05-20T13:06:28.437359Z"
    }
   },
   "cell_type": "code",
   "source": "temp_f",
   "id": "b06761adb68b66a2",
   "outputs": [
    {
     "data": {
      "text/plain": [
       "65.66"
      ]
     },
     "execution_count": 543,
     "metadata": {},
     "output_type": "execute_result"
    }
   ],
   "execution_count": 543
  },
  {
   "metadata": {},
   "cell_type": "markdown",
   "source": "### Challenge 1.7: Use asdict() to log a MaterialStatus",
   "id": "21b0f16f46a34c6c"
  },
  {
   "metadata": {
    "ExecuteTime": {
     "end_time": "2025-05-20T13:06:28.477355Z",
     "start_time": "2025-05-20T13:06:28.474626Z"
    }
   },
   "cell_type": "code",
   "source": [
    "from typing import Optional\n",
    "@dataclass\n",
    "class MaterialStatus:\n",
    "    material: str\n",
    "    status: str\n",
    "    code: Optional[str] # this means it can be str or None"
   ],
   "id": "f87868ec91e8c3a2",
   "outputs": [],
   "execution_count": 544
  },
  {
   "metadata": {
    "ExecuteTime": {
     "end_time": "2025-05-20T13:06:28.530794Z",
     "start_time": "2025-05-20T13:06:28.528607Z"
    }
   },
   "cell_type": "code",
   "source": "status = MaterialStatus('Plastic Film', 'OK', None)",
   "id": "512824b611789f42",
   "outputs": [],
   "execution_count": 545
  },
  {
   "metadata": {
    "ExecuteTime": {
     "end_time": "2025-05-20T13:06:28.565714Z",
     "start_time": "2025-05-20T13:06:28.562342Z"
    }
   },
   "cell_type": "code",
   "source": "asdict(status)",
   "id": "7a6f4ba77aa4500c",
   "outputs": [
    {
     "data": {
      "text/plain": [
       "{'material': 'Plastic Film', 'status': 'OK', 'code': None}"
      ]
     },
     "execution_count": 546,
     "metadata": {},
     "output_type": "execute_result"
    }
   ],
   "execution_count": 546
  },
  {
   "metadata": {},
   "cell_type": "markdown",
   "source": [
    "### Quick Note on Optional[str]\n",
    "```\n",
    "Optional[str] == Union[str, None]\n",
    "```\n",
    "\n",
    "It tells Python (and your linter) that this field can either be:\n",
    "\n",
    "- A str (like 'E105')\n",
    "- Or None (missing code)"
   ],
   "id": "aef249a91c59135c"
  },
  {
   "metadata": {},
   "cell_type": "markdown",
   "source": [
    "## TIER 2 – Working with Lists of NamedTuples\n",
    "\n",
    "### Skills Covered:\n",
    "\n",
    "* Reading from a list or simulated data\n",
    "* Storing multiple records in namedtuples\n",
    "* Filtering and displaying results\n",
    "\n",
    "### Activity 2.1: Feed Log Simulation\n",
    "\n",
    "```python\n",
    "from collections import namedtuple\n",
    "\n",
    "FeedLog = namedtuple('FeedLog', ['day', 'status', 'duration'])\n",
    "\n",
    "logs = [\n",
    "    FeedLog('2025-01-01', 'OK', 120),\n",
    "    FeedLog('2025-01-02', 'Error', 5),\n",
    "    FeedLog('2025-01-03', 'OK', 110),\n",
    "]\n",
    "\n",
    "# Filter short feeds\n",
    "short_feeds = [log for log in logs if log.duration < 30]\n",
    "print(short_feeds)\n",
    "```\n",
    "\n",
    "**Challenge**:\n",
    "\n",
    "* Count the number of 'OK' feeds.\n",
    "* Sort the logs by duration (hint: `sorted()` and lambda)."
   ],
   "id": "81b439c8f0fee421"
  },
  {
   "metadata": {
    "ExecuteTime": {
     "end_time": "2025-05-20T13:06:28.611210Z",
     "start_time": "2025-05-20T13:06:28.608771Z"
    }
   },
   "cell_type": "code",
   "source": "FeedLog = namedtuple('FeedLog', ['day', 'status', 'duration']) # type: ignore",
   "id": "e656da082e7f230e",
   "outputs": [],
   "execution_count": 547
  },
  {
   "metadata": {
    "ExecuteTime": {
     "end_time": "2025-05-20T13:06:28.652031Z",
     "start_time": "2025-05-20T13:06:28.649385Z"
    }
   },
   "cell_type": "code",
   "source": [
    "logs = [\n",
    "    FeedLog('2025-01-01', 'OK', 120),\n",
    "    FeedLog('2025-01-02', 'Error', 5),\n",
    "    FeedLog('2025-01-03', 'OK', 110),\n",
    "]"
   ],
   "id": "33602c5a8e5d1b11",
   "outputs": [],
   "execution_count": 548
  },
  {
   "metadata": {
    "ExecuteTime": {
     "end_time": "2025-05-20T13:06:28.700657Z",
     "start_time": "2025-05-20T13:06:28.698080Z"
    }
   },
   "cell_type": "code",
   "source": "short_feeds = [log for log in logs if log.duration < 30]",
   "id": "b60667c3de608cfc",
   "outputs": [],
   "execution_count": 549
  },
  {
   "metadata": {
    "ExecuteTime": {
     "end_time": "2025-05-20T13:06:28.756901Z",
     "start_time": "2025-05-20T13:06:28.753642Z"
    }
   },
   "cell_type": "code",
   "source": "short_feeds",
   "id": "d1ae5e7058b68028",
   "outputs": [
    {
     "data": {
      "text/plain": [
       "[FeedLog(day='2025-01-02', status='Error', duration=5)]"
      ]
     },
     "execution_count": 550,
     "metadata": {},
     "output_type": "execute_result"
    }
   ],
   "execution_count": 550
  },
  {
   "metadata": {
    "ExecuteTime": {
     "end_time": "2025-05-20T13:06:28.807039Z",
     "start_time": "2025-05-20T13:06:28.804480Z"
    }
   },
   "cell_type": "code",
   "source": "ok_feeds = sum(1 for log in logs if log.status == 'OK')",
   "id": "adceae1c207a2e09",
   "outputs": [],
   "execution_count": 551
  },
  {
   "metadata": {
    "ExecuteTime": {
     "end_time": "2025-05-20T13:06:28.818880Z",
     "start_time": "2025-05-20T13:06:28.815864Z"
    }
   },
   "cell_type": "code",
   "source": "ok_feeds",
   "id": "12f90f4e8702d612",
   "outputs": [
    {
     "data": {
      "text/plain": [
       "2"
      ]
     },
     "execution_count": 552,
     "metadata": {},
     "output_type": "execute_result"
    }
   ],
   "execution_count": 552
  },
  {
   "metadata": {
    "ExecuteTime": {
     "end_time": "2025-05-20T13:06:28.854933Z",
     "start_time": "2025-05-20T13:06:28.852398Z"
    }
   },
   "cell_type": "code",
   "source": "sorted_duration = sorted(logs, key=lambda log: log.duration)",
   "id": "4ba9f650f1f03f9",
   "outputs": [],
   "execution_count": 553
  },
  {
   "metadata": {
    "ExecuteTime": {
     "end_time": "2025-05-20T13:06:28.913276Z",
     "start_time": "2025-05-20T13:06:28.909788Z"
    }
   },
   "cell_type": "code",
   "source": "sorted_duration",
   "id": "f5f2aaa98beef01a",
   "outputs": [
    {
     "data": {
      "text/plain": [
       "[FeedLog(day='2025-01-02', status='Error', duration=5),\n",
       " FeedLog(day='2025-01-03', status='OK', duration=110),\n",
       " FeedLog(day='2025-01-01', status='OK', duration=120)]"
      ]
     },
     "execution_count": 554,
     "metadata": {},
     "output_type": "execute_result"
    }
   ],
   "execution_count": 554
  },
  {
   "metadata": {},
   "cell_type": "markdown",
   "source": [
    "## Bonus Exercises\n",
    "\n",
    "### Challenge 2.3: Total Feed Time for 'OK' Entries\n"
   ],
   "id": "595c64740952f43"
  },
  {
   "metadata": {
    "ExecuteTime": {
     "end_time": "2025-05-20T13:06:28.944010Z",
     "start_time": "2025-05-20T13:06:28.941656Z"
    }
   },
   "cell_type": "code",
   "source": "total_ok_time = sum(log.duration for log in logs if log.status == 'OK')",
   "id": "8905794e1ad7da43",
   "outputs": [],
   "execution_count": 555
  },
  {
   "metadata": {
    "ExecuteTime": {
     "end_time": "2025-05-20T13:06:28.999250Z",
     "start_time": "2025-05-20T13:06:28.995863Z"
    }
   },
   "cell_type": "code",
   "source": "total_ok_time",
   "id": "bfe379b92dea6d3b",
   "outputs": [
    {
     "data": {
      "text/plain": [
       "230"
      ]
     },
     "execution_count": 556,
     "metadata": {},
     "output_type": "execute_result"
    }
   ],
   "execution_count": 556
  },
  {
   "metadata": {},
   "cell_type": "markdown",
   "source": "### Challenge 2.4: Find the Day with the Shortest Feed\n",
   "id": "1362b1dcb11b0602"
  },
  {
   "metadata": {
    "ExecuteTime": {
     "end_time": "2025-05-20T13:06:29.024302Z",
     "start_time": "2025-05-20T13:06:29.021874Z"
    }
   },
   "cell_type": "code",
   "source": "shortest_day_with_shortest_feed = min(logs, key=lambda log: log.duration)",
   "id": "e13e97b8121ed409",
   "outputs": [],
   "execution_count": 557
  },
  {
   "metadata": {
    "ExecuteTime": {
     "end_time": "2025-05-20T13:06:29.046517Z",
     "start_time": "2025-05-20T13:06:29.043269Z"
    }
   },
   "cell_type": "code",
   "source": "shortest_day_with_shortest_feed",
   "id": "7c920ebca5cc7a66",
   "outputs": [
    {
     "data": {
      "text/plain": [
       "FeedLog(day='2025-01-02', status='Error', duration=5)"
      ]
     },
     "execution_count": 558,
     "metadata": {},
     "output_type": "execute_result"
    }
   ],
   "execution_count": 558
  },
  {
   "metadata": {},
   "cell_type": "markdown",
   "source": [
    "## TIER 3 – Reading and Processing Realistic CSV Records\n",
    "\n",
    "### **Skills Covered**:\n",
    "\n",
    "| Skill                            | Description                                |\n",
    "| -------------------------------- | ------------------------------------------ |\n",
    "| Reading CSV rows                 | Load real-like data using the `csv` module |\n",
    "| Creating `namedtuple` from rows  | Dynamically map rows into namedtuples      |\n",
    "| Handling optional/missing fields | Convert blank values to `None`             |\n",
    "| Processing                       | Filtering, summarizing, aggregating        |"
   ],
   "id": "fdf36fc07753f8d7"
  },
  {
   "metadata": {
    "ExecuteTime": {
     "end_time": "2025-05-20T13:06:29.089352Z",
     "start_time": "2025-05-20T13:06:29.086768Z"
    }
   },
   "cell_type": "code",
   "source": "Feed = namedtuple('Feed', ['date', 'status', 'duration', 'error']) # type: ignore",
   "id": "a7a7d536f711d46c",
   "outputs": [],
   "execution_count": 559
  },
  {
   "metadata": {
    "ExecuteTime": {
     "end_time": "2025-05-20T13:06:29.134438Z",
     "start_time": "2025-05-20T13:06:29.131139Z"
    }
   },
   "cell_type": "code",
   "source": [
    "with open('feed_sample.csv', newline='') as f:\n",
    "    reader = csv.reader(f)\n",
    "    next(reader) # skip header\n",
    "    \n",
    "    logs = [\n",
    "        Feed(date, status, int(duration), error or None)\n",
    "        for date, status, duration, error in reader\n",
    "    ]"
   ],
   "id": "ce1e5b814f6f23ed",
   "outputs": [],
   "execution_count": 560
  },
  {
   "metadata": {
    "ExecuteTime": {
     "end_time": "2025-05-20T13:06:29.174874Z",
     "start_time": "2025-05-20T13:06:29.171992Z"
    }
   },
   "cell_type": "code",
   "source": "error_logs = [log for log in logs if log.status == 'Error']",
   "id": "95a2301308e9ed40",
   "outputs": [],
   "execution_count": 561
  },
  {
   "metadata": {
    "ExecuteTime": {
     "end_time": "2025-05-20T13:06:29.211857Z",
     "start_time": "2025-05-20T13:06:29.209468Z"
    }
   },
   "cell_type": "code",
   "source": [
    "for e in error_logs:\n",
    "    print(e)"
   ],
   "id": "438ad3e83c5a3733",
   "outputs": [
    {
     "name": "stdout",
     "output_type": "stream",
     "text": [
      "Feed(date='2025-01-02', status='Error', duration=10, error='E105')\n"
     ]
    }
   ],
   "execution_count": 562
  },
  {
   "metadata": {},
   "cell_type": "markdown",
   "source": [
    "## Challenges for Tier 3\n",
    "### Challenge 3.1: Count how many feeds are successful (OK)"
   ],
   "id": "8e45ababf8773731"
  },
  {
   "metadata": {
    "ExecuteTime": {
     "end_time": "2025-05-20T13:06:29.278136Z",
     "start_time": "2025-05-20T13:06:29.275234Z"
    }
   },
   "cell_type": "code",
   "source": "successful_feeds = sum(1 for log in logs if log.status == 'OK')",
   "id": "bdc6f3742b004ff",
   "outputs": [],
   "execution_count": 563
  },
  {
   "metadata": {
    "ExecuteTime": {
     "end_time": "2025-05-20T13:06:29.294002Z",
     "start_time": "2025-05-20T13:06:29.290817Z"
    }
   },
   "cell_type": "code",
   "source": "successful_feeds",
   "id": "7d3def01f1f146d7",
   "outputs": [
    {
     "data": {
      "text/plain": [
       "2"
      ]
     },
     "execution_count": 564,
     "metadata": {},
     "output_type": "execute_result"
    }
   ],
   "execution_count": 564
  },
  {
   "metadata": {},
   "cell_type": "markdown",
   "source": "### Challenge 3.2: Find the average duration of all feeds",
   "id": "6f6b766f4cff0f28"
  },
  {
   "metadata": {
    "ExecuteTime": {
     "end_time": "2025-05-20T13:06:29.318577Z",
     "start_time": "2025-05-20T13:06:29.316070Z"
    }
   },
   "cell_type": "code",
   "source": "average_duration_all_feeds = round(sum(log.duration for log in logs) / len(logs), 2)",
   "id": "8f78806487590684",
   "outputs": [],
   "execution_count": 565
  },
  {
   "metadata": {
    "ExecuteTime": {
     "end_time": "2025-05-20T13:06:29.395994Z",
     "start_time": "2025-05-20T13:06:29.392756Z"
    }
   },
   "cell_type": "code",
   "source": "average_duration_all_feeds",
   "id": "146cf5da8ea7b915",
   "outputs": [
    {
     "data": {
      "text/plain": [
       "86.67"
      ]
     },
     "execution_count": 566,
     "metadata": {},
     "output_type": "execute_result"
    }
   ],
   "execution_count": 566
  },
  {
   "metadata": {},
   "cell_type": "markdown",
   "source": "### Challenge 3.3: Find the day with the shortest feed",
   "id": "834f30cca055352e"
  },
  {
   "metadata": {
    "ExecuteTime": {
     "end_time": "2025-05-20T13:06:29.417293Z",
     "start_time": "2025-05-20T13:06:29.415007Z"
    }
   },
   "cell_type": "code",
   "source": "day_with_shortest_feed = min(logs, key=lambda log: log.duration)",
   "id": "a7044c2ec1bf5676",
   "outputs": [],
   "execution_count": 567
  },
  {
   "metadata": {
    "ExecuteTime": {
     "end_time": "2025-05-20T13:06:29.439353Z",
     "start_time": "2025-05-20T13:06:29.436211Z"
    }
   },
   "cell_type": "code",
   "source": "day_with_shortest_feed",
   "id": "38c11e9d8e1de079",
   "outputs": [
    {
     "data": {
      "text/plain": [
       "Feed(date='2025-01-02', status='Error', duration=10, error='E105')"
      ]
     },
     "execution_count": 568,
     "metadata": {},
     "output_type": "execute_result"
    }
   ],
   "execution_count": 568
  },
  {
   "metadata": {},
   "cell_type": "markdown",
   "source": "### Challenge 3.4: Total downtime due to errors",
   "id": "615e66524a9b2c5b"
  },
  {
   "metadata": {
    "ExecuteTime": {
     "end_time": "2025-05-20T13:06:29.503605Z",
     "start_time": "2025-05-20T13:06:29.500502Z"
    }
   },
   "cell_type": "code",
   "source": "error_time = sum(log.duration for log in logs if log.status == 'Error')",
   "id": "e5b1edcb1db035e0",
   "outputs": [],
   "execution_count": 569
  },
  {
   "metadata": {
    "ExecuteTime": {
     "end_time": "2025-05-20T13:06:29.545038Z",
     "start_time": "2025-05-20T13:06:29.541879Z"
    }
   },
   "cell_type": "code",
   "source": "error_time",
   "id": "5b92e2722a65a9ae",
   "outputs": [
    {
     "data": {
      "text/plain": [
       "10"
      ]
     },
     "execution_count": 570,
     "metadata": {},
     "output_type": "execute_result"
    }
   ],
   "execution_count": 570
  },
  {
   "metadata": {},
   "cell_type": "markdown",
   "source": [
    "## **Tier 1–3 Consolidated Exercises**\n",
    "\n",
    "### **Exercise 1: Create a namedtuple class**\n",
    "\n",
    "Define a `namedtuple` named `FeedRecord` with the appropriate fields based on the dataset headers.\n",
    "\n"
   ],
   "id": "3d97765c415feb8d"
  },
  {
   "metadata": {
    "ExecuteTime": {
     "end_time": "2025-05-20T13:06:29.585824Z",
     "start_time": "2025-05-20T13:06:29.579553Z"
    }
   },
   "cell_type": "code",
   "source": "data = pd.read_csv('epson_feeding_system_dataset.csv')",
   "id": "27baa0a33ee320cf",
   "outputs": [],
   "execution_count": 571
  },
  {
   "metadata": {
    "ExecuteTime": {
     "end_time": "2025-05-20T13:06:29.639323Z",
     "start_time": "2025-05-20T13:06:29.637093Z"
    }
   },
   "cell_type": "code",
   "source": "df = pd.DataFrame(data)",
   "id": "5669a700b0bd6607",
   "outputs": [],
   "execution_count": 572
  },
  {
   "metadata": {
    "ExecuteTime": {
     "end_time": "2025-05-20T13:06:29.661273Z",
     "start_time": "2025-05-20T13:06:29.658686Z"
    }
   },
   "cell_type": "code",
   "source": "dataset_headers = list(data.columns)",
   "id": "c469a1a06a3b4dbf",
   "outputs": [],
   "execution_count": 573
  },
  {
   "metadata": {
    "ExecuteTime": {
     "end_time": "2025-05-20T13:06:29.710158Z",
     "start_time": "2025-05-20T13:06:29.706475Z"
    }
   },
   "cell_type": "code",
   "source": "dataset_headers",
   "id": "78e89263bb553ea8",
   "outputs": [
    {
     "data": {
      "text/plain": [
       "['Date',\n",
       " 'Shift',\n",
       " 'Batch ID',\n",
       " 'Printer Model',\n",
       " 'Paper Size',\n",
       " 'Machine ID',\n",
       " 'Feed Motor RPM',\n",
       " 'Roller Speed (mm/s)',\n",
       " 'Skew Angle (°)',\n",
       " 'Encoder Count per Rotation',\n",
       " 'Pickup Roller Wear (%)',\n",
       " 'Paper Tray Capacity (sheets)',\n",
       " 'Paper Thickness (mm)',\n",
       " 'Jam Detection',\n",
       " 'Misfeed Detection',\n",
       " 'Double Feed Detection',\n",
       " 'Skew Detection',\n",
       " 'Paper Feed Time (ms)',\n",
       " 'Feed Accuracy (%)',\n",
       " 'Sensor Calibration Status',\n",
       " 'Operator ID',\n",
       " 'Pass/Fail']"
      ]
     },
     "execution_count": 574,
     "metadata": {},
     "output_type": "execute_result"
    }
   ],
   "execution_count": 574
  },
  {
   "metadata": {
    "ExecuteTime": {
     "end_time": "2025-05-20T13:06:29.736641Z",
     "start_time": "2025-05-20T13:06:29.734057Z"
    }
   },
   "cell_type": "code",
   "source": [
    "# clean headers --> regex substitution\n",
    "import re"
   ],
   "id": "6e438826f8a85aec",
   "outputs": [],
   "execution_count": 575
  },
  {
   "metadata": {
    "ExecuteTime": {
     "end_time": "2025-05-20T13:06:29.766308Z",
     "start_time": "2025-05-20T13:06:29.763935Z"
    }
   },
   "cell_type": "code",
   "source": "clean_headers = [re.sub(r'\\W|^(?=\\d)', '_', col.strip()) for col in dataset_headers]",
   "id": "65104b0aafde77e2",
   "outputs": [],
   "execution_count": 576
  },
  {
   "metadata": {
    "ExecuteTime": {
     "end_time": "2025-05-20T13:06:29.825439Z",
     "start_time": "2025-05-20T13:06:29.822184Z"
    }
   },
   "cell_type": "code",
   "source": "clean_headers",
   "id": "8efd13e6c4bb9f0c",
   "outputs": [
    {
     "data": {
      "text/plain": [
       "['Date',\n",
       " 'Shift',\n",
       " 'Batch_ID',\n",
       " 'Printer_Model',\n",
       " 'Paper_Size',\n",
       " 'Machine_ID',\n",
       " 'Feed_Motor_RPM',\n",
       " 'Roller_Speed__mm_s_',\n",
       " 'Skew_Angle____',\n",
       " 'Encoder_Count_per_Rotation',\n",
       " 'Pickup_Roller_Wear____',\n",
       " 'Paper_Tray_Capacity__sheets_',\n",
       " 'Paper_Thickness__mm_',\n",
       " 'Jam_Detection',\n",
       " 'Misfeed_Detection',\n",
       " 'Double_Feed_Detection',\n",
       " 'Skew_Detection',\n",
       " 'Paper_Feed_Time__ms_',\n",
       " 'Feed_Accuracy____',\n",
       " 'Sensor_Calibration_Status',\n",
       " 'Operator_ID',\n",
       " 'Pass_Fail']"
      ]
     },
     "execution_count": 577,
     "metadata": {},
     "output_type": "execute_result"
    }
   ],
   "execution_count": 577
  },
  {
   "metadata": {
    "ExecuteTime": {
     "end_time": "2025-05-20T13:06:29.846684Z",
     "start_time": "2025-05-20T13:06:29.843835Z"
    }
   },
   "cell_type": "code",
   "source": "FeedRecord = namedtuple('FeedRecord', clean_headers) # type: ignore",
   "id": "d40b7fc0c70c3da0",
   "outputs": [],
   "execution_count": 578
  },
  {
   "metadata": {},
   "cell_type": "markdown",
   "source": [
    "### Let’s break down this line of code:\n",
    "\n",
    "```python\n",
    "re.sub(r'\\W|^(?=\\d)', '_', col.strip())\n",
    "```\n",
    "\n",
    "You're using it to **sanitize column names** for use in `namedtuple`, and it involves **regex substitution**.\n",
    "\n",
    "\n",
    "\n",
    "### What This Does\n",
    "\n",
    "```python\n",
    "re.sub(r'\\W|^(?=\\d)', '_', col.strip())\n",
    "```\n",
    "\n",
    "| Component     | Explanation                                           |                                              |\n",
    "| ------------- | ----------------------------------------------------- | -------------------------------------------- |\n",
    "| `re.sub(...)` | Replaces all matches of the pattern in a string       |                                              |\n",
    "| \\`r'\\W        | ^(?=\\d)'\\`                                            | Regular expression pattern (explained below) |\n",
    "| `'_'`         | Replacement string (what we use instead of the match) |                                              |\n",
    "| `col.strip()` | Removes leading/trailing whitespace from column name  |                                              |\n",
    "\n",
    "\n",
    "\n",
    "### Regex Pattern Breakdown: `r'\\W|^(?=\\d)'`\n",
    "\n",
    "Let’s split this into two parts:\n",
    "\n",
    "#### 1. `\\W`\n",
    "\n",
    "* Matches any **non-word character**\n",
    "* Word characters are: `A–Z`, `a–z`, `0–9`, and `_`\n",
    "* So it replaces characters like spaces, dashes, parentheses, `%`, `°`, etc.\n",
    "\n",
    "Examples:\n",
    "\n",
    "* `'Batch ID'` → `'Batch_ID'`\n",
    "* `'Skew Angle (°)'` → `'Skew_Angle___'`\n",
    "\n",
    "\n",
    "#### 2. `^(?=\\d)`\n",
    "\n",
    "* `^` = beginning of the string\n",
    "* `(?=\\d)` = **lookahead** that checks if the next character is a digit\n",
    "* So it matches the beginning of a string **only if** the string starts with a number\n",
    "\n",
    "Example:\n",
    "\n",
    "* `'123Rate'` → `' _23Rate'` (we replace the start with `_`)\n",
    "\n",
    "This ensures field names don’t start with a digit, which is **illegal in Python variable names**.\n",
    "\n",
    "\n",
    "\n",
    "### Example Workflow\n",
    "\n",
    "```python\n",
    "original = '  Roller Speed (mm/s)'\n",
    "cleaned = re.sub(r'\\W|^(?=\\d)', '_', original.strip())\n",
    "print(cleaned)  # 'Roller_Speed__mm_s'\n",
    "```\n",
    "\n",
    "\n",
    "\n",
    "### Full Usage in Context\n",
    "\n",
    "```python\n",
    "clean_headers = [re.sub(r'\\W|^(?=\\d)', '_', col.strip()) for col in dataset_headers]\n",
    "```\n",
    "\n",
    "* Applies the cleanup to each column name\n",
    "* Makes the names safe for `namedtuple`\n",
    "\n"
   ],
   "id": "afdf15883b2ac00f"
  },
  {
   "metadata": {},
   "cell_type": "markdown",
   "source": [
    "### **Exercise 2: Load the CSV into a list of `FeedRecord`**\n",
    "\n",
    "Skip the header row and convert all `Duration` fields to `float`, and empty `ErrorCode` fields to `None`."
   ],
   "id": "17a8545bc85ba663"
  },
  {
   "metadata": {
    "ExecuteTime": {
     "end_time": "2025-05-20T13:06:29.891037Z",
     "start_time": "2025-05-20T13:06:29.886642Z"
    }
   },
   "cell_type": "code",
   "source": [
    "with open('epson_feeding_system_dataset.csv', newline='') as f:\n",
    "    reader = csv.reader(f)\n",
    "    next(reader)\n",
    "    \n",
    "    records = []\n",
    "    for row in reader:\n",
    "        cleaned_row = []\n",
    "        for h, v in zip(clean_headers, row):\n",
    "            if h == 'Paper_Feed_Time__ms_':\n",
    "                cleaned_row.append(float(v) if v else 0.0)\n",
    "            elif v == '':\n",
    "                cleaned_row.append(None)\n",
    "            else:\n",
    "                cleaned_row.append(v)\n",
    "        records.append(FeedRecord(*cleaned_row))"
   ],
   "id": "453322e94f3212b5",
   "outputs": [],
   "execution_count": 579
  },
  {
   "metadata": {
    "ExecuteTime": {
     "end_time": "2025-05-20T13:06:29.934126Z",
     "start_time": "2025-05-20T13:06:29.930933Z"
    }
   },
   "cell_type": "code",
   "source": "records[:2]",
   "id": "39ee19b4fba51c5b",
   "outputs": [
    {
     "data": {
      "text/plain": [
       "[FeedRecord(Date='2025-04-01', Shift='Shift 1', Batch_ID='FEED7674', Printer_Model='EcoTank ET-3850', Paper_Size='Letter', Machine_ID='Feed Line B', Feed_Motor_RPM='201', Roller_Speed__mm_s_='63.3', Skew_Angle____='-0.23', Encoder_Count_per_Rotation='1238', Pickup_Roller_Wear____='76.7', Paper_Tray_Capacity__sheets_='196', Paper_Thickness__mm_='0.15', Jam_Detection='Pass', Misfeed_Detection='Fail', Double_Feed_Detection='Fail', Skew_Detection='Pass', Paper_Feed_Time__ms_=1172.7, Feed_Accuracy____='97.96', Sensor_Calibration_Status='Not Calibrated', Operator_ID='TECH938', Pass_Fail='Pass'),\n",
       " FeedRecord(Date='2025-04-01', Shift='Shift 1', Batch_ID='FEED8629', Printer_Model='EcoTank ET-2800', Paper_Size='5x7', Machine_ID='Feed Line B', Feed_Motor_RPM='251', Roller_Speed__mm_s_='53.9', Skew_Angle____='0.87', Encoder_Count_per_Rotation='551', Pickup_Roller_Wear____='35.4', Paper_Tray_Capacity__sheets_='120', Paper_Thickness__mm_='0.122', Jam_Detection='Fail', Misfeed_Detection='Fail', Double_Feed_Detection='Pass', Skew_Detection='Fail', Paper_Feed_Time__ms_=617.0, Feed_Accuracy____='99.01', Sensor_Calibration_Status='Calibrated', Operator_ID='TECH529', Pass_Fail='Pass')]"
      ]
     },
     "execution_count": 580,
     "metadata": {},
     "output_type": "execute_result"
    }
   ],
   "execution_count": 580
  },
  {
   "metadata": {},
   "cell_type": "markdown",
   "source": [
    "### **Exercise 3: Print the total number of records**\n",
    "\n",
    "Display the total number of records loaded into the list."
   ],
   "id": "c467c55d6ea26583"
  },
  {
   "metadata": {
    "ExecuteTime": {
     "end_time": "2025-05-20T13:06:29.997422Z",
     "start_time": "2025-05-20T13:06:29.993928Z"
    }
   },
   "cell_type": "code",
   "source": "len(records)",
   "id": "a7ab0d6441b40e40",
   "outputs": [
    {
     "data": {
      "text/plain": [
       "180"
      ]
     },
     "execution_count": 581,
     "metadata": {},
     "output_type": "execute_result"
    }
   ],
   "execution_count": 581
  },
  {
   "metadata": {},
   "cell_type": "markdown",
   "source": [
    "### **Exercise 4: Filter and print all 'Fail' records**\n",
    "\n",
    "Show all records where `Pass/Fail == 'Fail'`"
   ],
   "id": "676bd4277ea1f112"
  },
  {
   "metadata": {
    "ExecuteTime": {
     "end_time": "2025-05-20T13:06:30.031123Z",
     "start_time": "2025-05-20T13:06:30.028571Z"
    }
   },
   "cell_type": "code",
   "source": "fail_records = [record for record in records if record.Pass_Fail == 'Fail']",
   "id": "a0d7dbee787e2343",
   "outputs": [],
   "execution_count": 582
  },
  {
   "metadata": {
    "ExecuteTime": {
     "end_time": "2025-05-20T13:06:30.111156Z",
     "start_time": "2025-05-20T13:06:30.107565Z"
    }
   },
   "cell_type": "code",
   "source": "fail_records[:2]",
   "id": "3fb18d763c462e9c",
   "outputs": [
    {
     "data": {
      "text/plain": [
       "[FeedRecord(Date='2025-04-01', Shift='Shift 2', Batch_ID='FEED4425', Printer_Model='L3210', Paper_Size='5x7', Machine_ID='Feed Line B', Feed_Motor_RPM='296', Roller_Speed__mm_s_='86.6', Skew_Angle____='0.83', Encoder_Count_per_Rotation='669', Pickup_Roller_Wear____='82.3', Paper_Tray_Capacity__sheets_='208', Paper_Thickness__mm_='0.099', Jam_Detection='Fail', Misfeed_Detection='Fail', Double_Feed_Detection='Fail', Skew_Detection='Fail', Paper_Feed_Time__ms_=652.4, Feed_Accuracy____='95.37', Sensor_Calibration_Status='Calibrated', Operator_ID='TECH621', Pass_Fail='Fail'),\n",
       " FeedRecord(Date='2025-04-02', Shift='Shift 1', Batch_ID='FEED5458', Printer_Model='L3210', Paper_Size='A4', Machine_ID='Feed Line A', Feed_Motor_RPM='276', Roller_Speed__mm_s_='75.9', Skew_Angle____='0.31', Encoder_Count_per_Rotation='524', Pickup_Roller_Wear____='20.0', Paper_Tray_Capacity__sheets_='241', Paper_Thickness__mm_='0.116', Jam_Detection='Pass', Misfeed_Detection='Pass', Double_Feed_Detection='Pass', Skew_Detection='Pass', Paper_Feed_Time__ms_=1074.3, Feed_Accuracy____='95.65', Sensor_Calibration_Status='Not Calibrated', Operator_ID='TECH685', Pass_Fail='Fail')]"
      ]
     },
     "execution_count": 583,
     "metadata": {},
     "output_type": "execute_result"
    }
   ],
   "execution_count": 583
  },
  {
   "metadata": {},
   "cell_type": "markdown",
   "source": [
    "### **Exercise 5: Count how many feeds failed per shift**\n",
    "\n",
    "> Count how many `'Pass/Fail' == 'Fail'` records occurred for each `'Shift'`. Print the totals per shift (e.g., Day, Night).\n"
   ],
   "id": "71c0f97c93dcebfe"
  },
  {
   "metadata": {
    "ExecuteTime": {
     "end_time": "2025-05-20T13:06:30.150146Z",
     "start_time": "2025-05-20T13:06:30.147446Z"
    }
   },
   "cell_type": "code",
   "source": [
    "from collections import Counter\n",
    "\n",
    "feeds_failed_per_shift = Counter(record.Shift for record in fail_records)"
   ],
   "id": "ef86ac742138437e",
   "outputs": [],
   "execution_count": 584
  },
  {
   "metadata": {
    "ExecuteTime": {
     "end_time": "2025-05-20T13:06:30.209396Z",
     "start_time": "2025-05-20T13:06:30.205887Z"
    }
   },
   "cell_type": "code",
   "source": "feeds_failed_per_shift",
   "id": "505e014fa10d96c1",
   "outputs": [
    {
     "data": {
      "text/plain": [
       "Counter({'Shift 2': 41, 'Shift 1': 29})"
      ]
     },
     "execution_count": 585,
     "metadata": {},
     "output_type": "execute_result"
    }
   ],
   "execution_count": 585
  },
  {
   "metadata": {},
   "cell_type": "markdown",
   "source": [
    "### **Exercise 6: Calculate the average Paper Feed Time for passed feeds**\n",
    "\n",
    "> For rows where `'Pass/Fail' == 'Pass'`, calculate the average of `'Paper Feed Time (ms)'`."
   ],
   "id": "6567d6d3fc00917d"
  },
  {
   "metadata": {
    "ExecuteTime": {
     "end_time": "2025-05-20T13:06:30.234638Z",
     "start_time": "2025-05-20T13:06:30.232127Z"
    }
   },
   "cell_type": "code",
   "source": "passed_feeds = [record.Paper_Feed_Time__ms_ for record in records if record.Pass_Fail == 'Fail']",
   "id": "2e12086e59030eb6",
   "outputs": [],
   "execution_count": 586
  },
  {
   "metadata": {
    "ExecuteTime": {
     "end_time": "2025-05-20T13:06:30.289649Z",
     "start_time": "2025-05-20T13:06:30.287083Z"
    }
   },
   "cell_type": "code",
   "source": "average_feed_time_passed_feeds = round(sum(passed_feeds) / len(passed_feeds), 2)",
   "id": "bce05c7f7f86d74",
   "outputs": [],
   "execution_count": 587
  },
  {
   "metadata": {
    "ExecuteTime": {
     "end_time": "2025-05-20T13:06:30.313064Z",
     "start_time": "2025-05-20T13:06:30.309821Z"
    }
   },
   "cell_type": "code",
   "source": "average_feed_time_passed_feeds",
   "id": "d530ef6f5317c6ef",
   "outputs": [
    {
     "data": {
      "text/plain": [
       "773.59"
      ]
     },
     "execution_count": 588,
     "metadata": {},
     "output_type": "execute_result"
    }
   ],
   "execution_count": 588
  },
  {
   "metadata": {},
   "cell_type": "markdown",
   "source": [
    "### **Exercise 7: Sort the records by Feed Accuracy (%) and show the bottom 10**\n",
    "\n",
    "> Convert `'Feed Accuracy (%)'` to `float`, sort in ascending order, and print the 10 least accurate feeds."
   ],
   "id": "a03f61e095a23d9e"
  },
  {
   "metadata": {
    "ExecuteTime": {
     "end_time": "2025-05-20T13:06:30.341451Z",
     "start_time": "2025-05-20T13:06:30.338159Z"
    }
   },
   "cell_type": "code",
   "source": "type(records[0].Feed_Accuracy____)",
   "id": "db24aac76e6f9f70",
   "outputs": [
    {
     "data": {
      "text/plain": [
       "str"
      ]
     },
     "execution_count": 589,
     "metadata": {},
     "output_type": "execute_result"
    }
   ],
   "execution_count": 589
  },
  {
   "metadata": {
    "ExecuteTime": {
     "end_time": "2025-05-20T13:06:30.399973Z",
     "start_time": "2025-05-20T13:06:30.397224Z"
    }
   },
   "cell_type": "code",
   "source": "feed_accuracy_sorted = sorted(records, key=lambda record: float(record.Feed_Accuracy____))[:10]",
   "id": "1716e9912ffba172",
   "outputs": [],
   "execution_count": 590
  },
  {
   "metadata": {
    "ExecuteTime": {
     "end_time": "2025-05-20T13:06:30.411805Z",
     "start_time": "2025-05-20T13:06:30.408430Z"
    }
   },
   "cell_type": "code",
   "source": "feed_accuracy_sorted",
   "id": "84c37e3100f52a6c",
   "outputs": [
    {
     "data": {
      "text/plain": [
       "[FeedRecord(Date='2025-04-29', Shift='Shift 1', Batch_ID='FEED7213', Printer_Model='L5290', Paper_Size='A4', Machine_ID='Feed Line A', Feed_Motor_RPM='300', Roller_Speed__mm_s_='103.3', Skew_Angle____='-0.91', Encoder_Count_per_Rotation='971', Pickup_Roller_Wear____='0.4', Paper_Tray_Capacity__sheets_='116', Paper_Thickness__mm_='0.131', Jam_Detection='Pass', Misfeed_Detection='Fail', Double_Feed_Detection='Fail', Skew_Detection='Fail', Paper_Feed_Time__ms_=864.5, Feed_Accuracy____='95.02', Sensor_Calibration_Status='Not Calibrated', Operator_ID='TECH906', Pass_Fail='Fail'),\n",
       " FeedRecord(Date='2025-04-29', Shift='Shift 2', Batch_ID='FEED2480', Printer_Model='WorkForce WF-2850', Paper_Size='4x6', Machine_ID='Feed Line A', Feed_Motor_RPM='223', Roller_Speed__mm_s_='78.0', Skew_Angle____='0.17', Encoder_Count_per_Rotation='892', Pickup_Roller_Wear____='85.3', Paper_Tray_Capacity__sheets_='206', Paper_Thickness__mm_='0.087', Jam_Detection='Pass', Misfeed_Detection='Fail', Double_Feed_Detection='Fail', Skew_Detection='Pass', Paper_Feed_Time__ms_=441.1, Feed_Accuracy____='95.06', Sensor_Calibration_Status='Calibrated', Operator_ID='TECH413', Pass_Fail='Fail'),\n",
       " FeedRecord(Date='2025-04-02', Shift='Shift 2', Batch_ID='FEED7999', Printer_Model='L3210', Paper_Size='5x7', Machine_ID='Feed Line A', Feed_Motor_RPM='169', Roller_Speed__mm_s_='128.5', Skew_Angle____='0.8', Encoder_Count_per_Rotation='648', Pickup_Roller_Wear____='60.7', Paper_Tray_Capacity__sheets_='66', Paper_Thickness__mm_='0.088', Jam_Detection='Pass', Misfeed_Detection='Fail', Double_Feed_Detection='Pass', Skew_Detection='Pass', Paper_Feed_Time__ms_=820.0, Feed_Accuracy____='95.13', Sensor_Calibration_Status='Not Calibrated', Operator_ID='TECH884', Pass_Fail='Fail'),\n",
       " FeedRecord(Date='2025-04-09', Shift='Shift 2', Batch_ID='FEED4335', Printer_Model='EcoTank ET-3850', Paper_Size='Legal', Machine_ID='Feed Line A', Feed_Motor_RPM='259', Roller_Speed__mm_s_='109.2', Skew_Angle____='-0.67', Encoder_Count_per_Rotation='1187', Pickup_Roller_Wear____='89.0', Paper_Tray_Capacity__sheets_='76', Paper_Thickness__mm_='0.104', Jam_Detection='Pass', Misfeed_Detection='Pass', Double_Feed_Detection='Fail', Skew_Detection='Pass', Paper_Feed_Time__ms_=996.6, Feed_Accuracy____='95.13', Sensor_Calibration_Status='Calibrated', Operator_ID='TECH869', Pass_Fail='Fail'),\n",
       " FeedRecord(Date='2025-04-12', Shift='Shift 2', Batch_ID='FEED9192', Printer_Model='L3210', Paper_Size='4x6', Machine_ID='Feed Line C', Feed_Motor_RPM='173', Roller_Speed__mm_s_='102.9', Skew_Angle____='0.22', Encoder_Count_per_Rotation='1151', Pickup_Roller_Wear____='85.9', Paper_Tray_Capacity__sheets_='164', Paper_Thickness__mm_='0.131', Jam_Detection='Pass', Misfeed_Detection='Pass', Double_Feed_Detection='Pass', Skew_Detection='Pass', Paper_Feed_Time__ms_=1111.3, Feed_Accuracy____='95.16', Sensor_Calibration_Status='Not Calibrated', Operator_ID='TECH304', Pass_Fail='Fail'),\n",
       " FeedRecord(Date='2025-04-27', Shift='Shift 2', Batch_ID='FEED4114', Printer_Model='EcoTank ET-3850', Paper_Size='4x6', Machine_ID='Feed Line A', Feed_Motor_RPM='221', Roller_Speed__mm_s_='138.1', Skew_Angle____='0.66', Encoder_Count_per_Rotation='1325', Pickup_Roller_Wear____='22.9', Paper_Tray_Capacity__sheets_='143', Paper_Thickness__mm_='0.124', Jam_Detection='Pass', Misfeed_Detection='Fail', Double_Feed_Detection='Fail', Skew_Detection='Pass', Paper_Feed_Time__ms_=969.6, Feed_Accuracy____='95.16', Sensor_Calibration_Status='Not Calibrated', Operator_ID='TECH308', Pass_Fail='Fail'),\n",
       " FeedRecord(Date='2025-04-11', Shift='Shift 1', Batch_ID='FEED3572', Printer_Model='EcoTank ET-2800', Paper_Size='5x7', Machine_ID='Feed Line B', Feed_Motor_RPM='261', Roller_Speed__mm_s_='100.9', Skew_Angle____='-0.43', Encoder_Count_per_Rotation='640', Pickup_Roller_Wear____='70.8', Paper_Tray_Capacity__sheets_='108', Paper_Thickness__mm_='0.11', Jam_Detection='Fail', Misfeed_Detection='Fail', Double_Feed_Detection='Fail', Skew_Detection='Pass', Paper_Feed_Time__ms_=739.1, Feed_Accuracy____='95.18', Sensor_Calibration_Status='Not Calibrated', Operator_ID='TECH227', Pass_Fail='Fail'),\n",
       " FeedRecord(Date='2025-04-23', Shift='Shift 1', Batch_ID='FEED6090', Printer_Model='WorkForce WF-2850', Paper_Size='5x7', Machine_ID='Feed Line A', Feed_Motor_RPM='178', Roller_Speed__mm_s_='62.1', Skew_Angle____='0.8', Encoder_Count_per_Rotation='1191', Pickup_Roller_Wear____='5.9', Paper_Tray_Capacity__sheets_='115', Paper_Thickness__mm_='0.146', Jam_Detection='Pass', Misfeed_Detection='Fail', Double_Feed_Detection='Pass', Skew_Detection='Pass', Paper_Feed_Time__ms_=738.8, Feed_Accuracy____='95.19', Sensor_Calibration_Status='Calibrated', Operator_ID='TECH495', Pass_Fail='Fail'),\n",
       " FeedRecord(Date='2025-04-19', Shift='Shift 1', Batch_ID='FEED9584', Printer_Model='L3210', Paper_Size='Legal', Machine_ID='Feed Line C', Feed_Motor_RPM='178', Roller_Speed__mm_s_='127.2', Skew_Angle____='-0.02', Encoder_Count_per_Rotation='986', Pickup_Roller_Wear____='84.3', Paper_Tray_Capacity__sheets_='192', Paper_Thickness__mm_='0.12', Jam_Detection='Fail', Misfeed_Detection='Fail', Double_Feed_Detection='Pass', Skew_Detection='Pass', Paper_Feed_Time__ms_=928.8, Feed_Accuracy____='95.23', Sensor_Calibration_Status='Calibrated', Operator_ID='TECH235', Pass_Fail='Fail'),\n",
       " FeedRecord(Date='2025-04-10', Shift='Shift 1', Batch_ID='FEED5442', Printer_Model='WorkForce WF-2850', Paper_Size='4x6', Machine_ID='Feed Line C', Feed_Motor_RPM='229', Roller_Speed__mm_s_='70.2', Skew_Angle____='-0.43', Encoder_Count_per_Rotation='845', Pickup_Roller_Wear____='92.5', Paper_Tray_Capacity__sheets_='90', Paper_Thickness__mm_='0.14', Jam_Detection='Pass', Misfeed_Detection='Fail', Double_Feed_Detection='Fail', Skew_Detection='Pass', Paper_Feed_Time__ms_=1051.4, Feed_Accuracy____='95.27', Sensor_Calibration_Status='Not Calibrated', Operator_ID='TECH802', Pass_Fail='Fail')]"
      ]
     },
     "execution_count": 591,
     "metadata": {},
     "output_type": "execute_result"
    }
   ],
   "execution_count": 591
  },
  {
   "metadata": {
    "ExecuteTime": {
     "end_time": "2025-05-20T13:06:30.439788Z",
     "start_time": "2025-05-20T13:06:30.436390Z"
    }
   },
   "cell_type": "code",
   "source": "type(feed_accuracy_sorted[0].Feed_Accuracy____)",
   "id": "34ad7928043cbf2f",
   "outputs": [
    {
     "data": {
      "text/plain": [
       "str"
      ]
     },
     "execution_count": 592,
     "metadata": {},
     "output_type": "execute_result"
    }
   ],
   "execution_count": 592
  },
  {
   "metadata": {},
   "cell_type": "markdown",
   "source": [
    "### How to Actually Update the Field\n",
    "If you want Feed_Accuracy___ to become a float permanently in your records, you’d need to cast it during your CSV loading loop, like:\n",
    "\n",
    "```\n",
    "if h == 'Feed_Accuracy___':\n",
    "    cleaned_row.append(float(v) if v else 0.0)\n",
    "```\n",
    "This would store the casted float inside the namedtuple itself, and any future access would return a float."
   ],
   "id": "e6aef70e5b0ba39d"
  },
  {
   "metadata": {},
   "cell_type": "markdown",
   "source": [
    "### **Exercise 8: Count how many jams were detected**\n",
    "\n",
    "> Count the number of records where `'Jam Detection' == 'Fail'`.\n",
    "\n",
    "This tells us how many times a jam **was detected and not passed** the check.\n",
    "\n",
    "\n",
    "### 💡 Bonus Challenge:\n",
    "\n",
    "Also count how many occurred **per shift**:\n",
    "\n",
    "> How many `'Jam Detection' == 'Fail'` occurred in `'Shift 1'` vs `'Shift 2'`?\n"
   ],
   "id": "c64b8ee8ffcb1519"
  },
  {
   "metadata": {
    "ExecuteTime": {
     "end_time": "2025-05-20T13:06:30.502389Z",
     "start_time": "2025-05-20T13:06:30.500129Z"
    }
   },
   "cell_type": "code",
   "source": "jam_detection = [record for record in records if record.Jam_Detection == 'Fail']",
   "id": "4123f25d5f2aa8e9",
   "outputs": [],
   "execution_count": 593
  },
  {
   "metadata": {
    "ExecuteTime": {
     "end_time": "2025-05-20T13:06:30.527809Z",
     "start_time": "2025-05-20T13:06:30.524327Z"
    }
   },
   "cell_type": "code",
   "source": "len(jam_detection)",
   "id": "679cbe670ffeba40",
   "outputs": [
    {
     "data": {
      "text/plain": [
       "87"
      ]
     },
     "execution_count": 594,
     "metadata": {},
     "output_type": "execute_result"
    }
   ],
   "execution_count": 594
  },
  {
   "metadata": {
    "ExecuteTime": {
     "end_time": "2025-05-20T13:06:30.566712Z",
     "start_time": "2025-05-20T13:06:30.563935Z"
    }
   },
   "cell_type": "code",
   "source": "jam_detection_per_shift = Counter(record.Shift for record in jam_detection)",
   "id": "506e9d1c69e08d08",
   "outputs": [],
   "execution_count": 595
  },
  {
   "metadata": {
    "ExecuteTime": {
     "end_time": "2025-05-20T13:06:30.624210Z",
     "start_time": "2025-05-20T13:06:30.620870Z"
    }
   },
   "cell_type": "code",
   "source": "jam_detection_per_shift",
   "id": "cd1485f9ab86011e",
   "outputs": [
    {
     "data": {
      "text/plain": [
       "Counter({'Shift 2': 46, 'Shift 1': 41})"
      ]
     },
     "execution_count": 596,
     "metadata": {},
     "output_type": "execute_result"
    }
   ],
   "execution_count": 596
  },
  {
   "metadata": {},
   "cell_type": "markdown",
   "source": [
    "### **Exercise 9: Find the operator with the most failed feeds**\n",
    "\n",
    "> Group records by `'Operator ID'`, and count how many times each one failed (`'Pass/Fail' == 'Fail'`). Print the operator with the highest count."
   ],
   "id": "b2d5e461c387d32c"
  },
  {
   "metadata": {
    "ExecuteTime": {
     "end_time": "2025-05-20T13:06:30.662449Z",
     "start_time": "2025-05-20T13:06:30.659622Z"
    }
   },
   "cell_type": "code",
   "source": "failed_feeds = [record for record in records if record.Pass_Fail == 'Fail']",
   "id": "bc5063a6523d474b",
   "outputs": [],
   "execution_count": 597
  },
  {
   "metadata": {
    "ExecuteTime": {
     "end_time": "2025-05-20T13:06:30.706729Z",
     "start_time": "2025-05-20T13:06:30.703818Z"
    }
   },
   "cell_type": "code",
   "source": "failed_feeds_per_operator = Counter(record.Operator_ID for record in failed_feeds)",
   "id": "13d9bb08f6df7dd7",
   "outputs": [],
   "execution_count": 598
  },
  {
   "metadata": {
    "ExecuteTime": {
     "end_time": "2025-05-20T13:06:30.748100Z",
     "start_time": "2025-05-20T13:06:30.744178Z"
    }
   },
   "cell_type": "code",
   "source": "max(failed_feeds_per_operator.items(), key=lambda item: item[1])",
   "id": "f9e0a2ee054a641f",
   "outputs": [
    {
     "data": {
      "text/plain": [
       "('TECH208', 2)"
      ]
     },
     "execution_count": 599,
     "metadata": {},
     "output_type": "execute_result"
    }
   ],
   "execution_count": 599
  },
  {
   "metadata": {
    "ExecuteTime": {
     "end_time": "2025-05-20T13:06:30.791598Z",
     "start_time": "2025-05-20T13:06:30.789291Z"
    }
   },
   "cell_type": "code",
   "source": [
    "# Find all operators tied for max count\n",
    "max_failures = max(failed_feeds_per_operator.values())"
   ],
   "id": "46a4923efd0ae2fc",
   "outputs": [],
   "execution_count": 600
  },
  {
   "metadata": {
    "ExecuteTime": {
     "end_time": "2025-05-20T13:06:30.799934Z",
     "start_time": "2025-05-20T13:06:30.797141Z"
    }
   },
   "cell_type": "code",
   "source": "max_failures",
   "id": "c95ab0d9b3f0224b",
   "outputs": [
    {
     "data": {
      "text/plain": [
       "2"
      ]
     },
     "execution_count": 601,
     "metadata": {},
     "output_type": "execute_result"
    }
   ],
   "execution_count": 601
  },
  {
   "metadata": {
    "ExecuteTime": {
     "end_time": "2025-05-20T13:06:30.834856Z",
     "start_time": "2025-05-20T13:06:30.832100Z"
    }
   },
   "cell_type": "code",
   "source": "top_operators = [(op, count) for op, count in failed_feeds_per_operator.items() if count == max_failures]",
   "id": "ce3ed908cf86f2db",
   "outputs": [],
   "execution_count": 602
  },
  {
   "metadata": {
    "ExecuteTime": {
     "end_time": "2025-05-20T13:06:30.896812Z",
     "start_time": "2025-05-20T13:06:30.893410Z"
    }
   },
   "cell_type": "code",
   "source": "top_operators",
   "id": "12efcc1f52cba0a2",
   "outputs": [
    {
     "data": {
      "text/plain": [
       "[('TECH208', 2), ('TECH447', 2), ('TECH854', 2)]"
      ]
     },
     "execution_count": 603,
     "metadata": {},
     "output_type": "execute_result"
    }
   ],
   "execution_count": 603
  },
  {
   "metadata": {},
   "cell_type": "markdown",
   "source": [
    "### **Exercise 10: Create a quality summary report**\n",
    "\n",
    "> For each `'Printer Model'`, calculate:\n",
    "\n",
    "* Total number of feeds\n",
    "* Number of failures\n",
    "* Average `'Feed Accuracy (%)'`\n",
    "\n",
    "Structure your summary like:\n",
    "\n",
    "```python\n",
    "{\n",
    "  'Epson X': {'feeds': 25, 'fails': 3, 'avg_accuracy': 98.7},\n",
    "  'Epson Y': {...}\n",
    "}\n",
    "```\n"
   ],
   "id": "793913e4abf5237"
  },
  {
   "metadata": {
    "ExecuteTime": {
     "end_time": "2025-05-20T13:06:30.933896Z",
     "start_time": "2025-05-20T13:06:30.931346Z"
    }
   },
   "cell_type": "code",
   "source": [
    "from collections import defaultdict\n",
    "summary = defaultdict(lambda: {'feeds': 0, 'fails': 0, 'accuracy_total': 0.0 })"
   ],
   "id": "f760d914b34b0c94",
   "outputs": [],
   "execution_count": 604
  },
  {
   "metadata": {
    "ExecuteTime": {
     "end_time": "2025-05-20T13:06:30.981490Z",
     "start_time": "2025-05-20T13:06:30.978429Z"
    }
   },
   "cell_type": "code",
   "source": [
    "for record in records:\n",
    "    model = record.Printer_Model\n",
    "    summary[model]['feeds'] += 1\n",
    "    if record.Pass_Fail == 'Fail':\n",
    "        summary[model]['fails'] += 1\n",
    "    summary[model]['accuracy_total'] += float(record.Feed_Accuracy____)"
   ],
   "id": "eb891d37b0de5700",
   "outputs": [],
   "execution_count": 605
  },
  {
   "metadata": {
    "ExecuteTime": {
     "end_time": "2025-05-20T13:06:31.006026Z",
     "start_time": "2025-05-20T13:06:31.003294Z"
    }
   },
   "cell_type": "code",
   "source": [
    "for model in summary:\n",
    "    feeds = summary[model]['feeds']\n",
    "    accuracy_total = summary[model]['accuracy_total']\n",
    "    summary[model]['avg_accuracy'] = round(accuracy_total / feeds, 2)\n",
    "    del summary[model]['accuracy_total']"
   ],
   "id": "644601f2e927697f",
   "outputs": [],
   "execution_count": 606
  },
  {
   "metadata": {
    "ExecuteTime": {
     "end_time": "2025-05-20T13:09:08.061165Z",
     "start_time": "2025-05-20T13:09:08.058348Z"
    }
   },
   "cell_type": "code",
   "source": [
    "from pprint import pprint\n",
    "pprint(dict(summary))"
   ],
   "id": "fe2076240c3e8a44",
   "outputs": [
    {
     "name": "stdout",
     "output_type": "stream",
     "text": [
      "{'EcoTank ET-2800': {'avg_accuracy': 97.69, 'fails': 9, 'feeds': 25},\n",
      " 'EcoTank ET-3850': {'avg_accuracy': 97.37, 'fails': 18, 'feeds': 37},\n",
      " 'L3210': {'avg_accuracy': 97.52, 'fails': 16, 'feeds': 43},\n",
      " 'L5290': {'avg_accuracy': 97.75, 'fails': 11, 'feeds': 27},\n",
      " 'WorkForce WF-2850': {'avg_accuracy': 97.83, 'fails': 16, 'feeds': 48}}\n"
     ]
    }
   ],
   "execution_count": 610
  },
  {
   "metadata": {},
   "cell_type": "markdown",
   "source": [
    "#### The difference between `pprint` and regular `print` comes down to **readability** — especially when printing **nested or structured data**, like dictionaries and lists of dictionaries.\n",
    "\n",
    "\n",
    "\n",
    "## `print()`:\n",
    "\n",
    "Basic built-in function to output text.\n",
    "\n",
    "```python\n",
    "import pprint\n",
    "\n",
    "data = {\n",
    "    'L3210': {'feeds': 68, 'fails': 12, 'avg_accuracy': 97.46},\n",
    "    'L5290': {'feeds': 45, 'fails': 6, 'avg_accuracy': 96.89}\n",
    "}\n",
    "\n",
    "print(data)\n",
    "```\n",
    "\n",
    "### Output:\n",
    "\n",
    "```python\n",
    "{'L3210': {'feeds': 68, 'fails': 12, 'avg_accuracy': 97.46}, 'L5290': {'feeds': 45, 'fails': 6, 'avg_accuracy': 96.89}}\n",
    "```\n",
    "\n",
    "This becomes **hard to read** when the structure gets deeper or longer.\n",
    "\n",
    "\n",
    "\n",
    "## `pprint()` (Pretty Print):\n",
    "\n",
    "A tool from the `pprint` module that formats complex structures **nicely**, with indentation and line breaks.\n",
    "\n",
    "```python\n",
    "from pprint import pprint\n",
    "pprint(data)\n",
    "```\n",
    "\n",
    "### Output:\n",
    "\n",
    "```python\n",
    "{'L3210': {'avg_accuracy': 97.46, 'fails': 12, 'feeds': 68},\n",
    " 'L5290': {'avg_accuracy': 96.89, 'fails': 6, 'feeds': 45}}\n",
    "```\n",
    "\n",
    "Much **easier to scan** line-by-line. This is especially helpful in:\n",
    "\n",
    "* Nested dictionaries/lists\n",
    "* JSON-like data\n",
    "* Debugging and logs\n",
    "\n",
    "\n",
    "\n",
    "### Summary:\n",
    "\n",
    "| Feature     | `print()`            | `pprint()`                |\n",
    "| ----------- | -------------------- | ------------------------- |\n",
    "| Best for    | Simple data          | Structured or nested data |\n",
    "| Readability | Basic, one-line      | Indented, multi-line      |\n",
    "| Sorting     | Random/default order | Optional: can sort keys   |\n",
    "| Used for    | Output, quick checks | Debugging, reports, logs  |\n",
    "\n"
   ],
   "id": "869be4b6d0ee2a70"
  },
  {
   "metadata": {
    "ExecuteTime": {
     "end_time": "2025-05-20T13:06:31.082305Z",
     "start_time": "2025-05-20T13:06:31.080674Z"
    }
   },
   "cell_type": "code",
   "source": "",
   "id": "fded4542718f963",
   "outputs": [],
   "execution_count": 607
  },
  {
   "metadata": {
    "ExecuteTime": {
     "end_time": "2025-05-20T13:06:31.112421Z",
     "start_time": "2025-05-20T13:06:31.110536Z"
    }
   },
   "cell_type": "code",
   "source": "",
   "id": "93cf3d8bb33bc600",
   "outputs": [],
   "execution_count": 607
  }
 ],
 "metadata": {
  "kernelspec": {
   "display_name": "Python 3",
   "language": "python",
   "name": "python3"
  },
  "language_info": {
   "codemirror_mode": {
    "name": "ipython",
    "version": 2
   },
   "file_extension": ".py",
   "mimetype": "text/x-python",
   "name": "python",
   "nbconvert_exporter": "python",
   "pygments_lexer": "ipython2",
   "version": "2.7.6"
  }
 },
 "nbformat": 4,
 "nbformat_minor": 5
}
