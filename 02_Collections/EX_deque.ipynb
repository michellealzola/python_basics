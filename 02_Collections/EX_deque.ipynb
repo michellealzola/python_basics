{
 "cells": [
  {
   "metadata": {},
   "cell_type": "markdown",
   "source": [
    "# `deque`\n",
    "\n",
    "### LEVEL 1: The Basics (No dataset yet)\n",
    "Goal: Understand how deque works, how it’s different from lists, and how to manipulate it.\n",
    "\n",
    "### Skills:\n",
    "- Creating a deque\n",
    "- Using append(), appendleft()\n",
    "- Using pop(), popleft()\n",
    "- Checking maxlen\n",
    "- Rotating the deque\n",
    "\n"
   ],
   "id": "2c8a06697efe1052"
  },
  {
   "metadata": {
    "ExecuteTime": {
     "end_time": "2025-05-17T16:08:56.823316Z",
     "start_time": "2025-05-17T16:08:55.980520Z"
    }
   },
   "cell_type": "code",
   "source": [
    "from collections import deque, defaultdict\n",
    "import pandas as pd\n",
    "import math"
   ],
   "id": "1bbde281cc69220d",
   "outputs": [],
   "execution_count": 1
  },
  {
   "metadata": {},
   "cell_type": "markdown",
   "source": [
    "### **1.1: Simple `deque` Creation**\n",
    "\n",
    "**Problem**: Create a deque from the list `[1, 2, 3]`. Append 4 at the end. Append 0 at the beginning.\n",
    "\n",
    "**Expected Output**:\n",
    "\n",
    "```python\n",
    "deque([0, 1, 2, 3, 4])\n",
    "```"
   ],
   "id": "149f671862fa8d9d"
  },
  {
   "metadata": {
    "ExecuteTime": {
     "end_time": "2025-05-17T16:08:56.827322Z",
     "start_time": "2025-05-17T16:08:56.824734Z"
    }
   },
   "cell_type": "code",
   "source": "dq = deque([1, 2, 3])",
   "id": "a89b25d60d60130c",
   "outputs": [],
   "execution_count": 2
  },
  {
   "metadata": {
    "ExecuteTime": {
     "end_time": "2025-05-17T16:08:56.830239Z",
     "start_time": "2025-05-17T16:08:56.828249Z"
    }
   },
   "cell_type": "code",
   "source": "dq.append(4)",
   "id": "b117d9d0f677708f",
   "outputs": [],
   "execution_count": 3
  },
  {
   "metadata": {
    "ExecuteTime": {
     "end_time": "2025-05-17T16:08:56.833207Z",
     "start_time": "2025-05-17T16:08:56.831213Z"
    }
   },
   "cell_type": "code",
   "source": "dq.appendleft(0)",
   "id": "80a7aefa1e758878",
   "outputs": [],
   "execution_count": 4
  },
  {
   "metadata": {
    "ExecuteTime": {
     "end_time": "2025-05-17T16:08:56.839251Z",
     "start_time": "2025-05-17T16:08:56.834524Z"
    }
   },
   "cell_type": "code",
   "source": "dq",
   "id": "6365c81368116d7b",
   "outputs": [
    {
     "data": {
      "text/plain": [
       "deque([0, 1, 2, 3, 4])"
      ]
     },
     "execution_count": 5,
     "metadata": {},
     "output_type": "execute_result"
    }
   ],
   "execution_count": 5
  },
  {
   "metadata": {},
   "cell_type": "markdown",
   "source": [
    "### **1.2: Popping Elements**\n",
    "\n",
    "**Problem**: From the deque above, remove an item from the right (`pop`) and the left (`popleft`).\n",
    "\n",
    "**Expected Output**:\n",
    "\n",
    "```python\n",
    "Removed from right: 4\n",
    "Removed from left: 0\n",
    "Remaining deque: deque([1, 2, 3])\n",
    "```"
   ],
   "id": "e86e05e8ead6442d"
  },
  {
   "metadata": {
    "ExecuteTime": {
     "end_time": "2025-05-17T16:08:56.842741Z",
     "start_time": "2025-05-17T16:08:56.840014Z"
    }
   },
   "cell_type": "code",
   "source": "dq.pop()",
   "id": "45f5eabc3c14e222",
   "outputs": [
    {
     "data": {
      "text/plain": [
       "4"
      ]
     },
     "execution_count": 6,
     "metadata": {},
     "output_type": "execute_result"
    }
   ],
   "execution_count": 6
  },
  {
   "metadata": {
    "ExecuteTime": {
     "end_time": "2025-05-17T16:08:56.846792Z",
     "start_time": "2025-05-17T16:08:56.843907Z"
    }
   },
   "cell_type": "code",
   "source": "dq.popleft()",
   "id": "a81f011b5ac5ac2d",
   "outputs": [
    {
     "data": {
      "text/plain": [
       "0"
      ]
     },
     "execution_count": 7,
     "metadata": {},
     "output_type": "execute_result"
    }
   ],
   "execution_count": 7
  },
  {
   "metadata": {
    "ExecuteTime": {
     "end_time": "2025-05-17T16:08:56.850757Z",
     "start_time": "2025-05-17T16:08:56.847699Z"
    }
   },
   "cell_type": "code",
   "source": "dq",
   "id": "f513ff7b835bf323",
   "outputs": [
    {
     "data": {
      "text/plain": [
       "deque([1, 2, 3])"
      ]
     },
     "execution_count": 8,
     "metadata": {},
     "output_type": "execute_result"
    }
   ],
   "execution_count": 8
  },
  {
   "metadata": {},
   "cell_type": "markdown",
   "source": [
    "### **1.3: Fixed-Length `deque`**\n",
    "\n",
    "**Problem**: Create a deque with `maxlen=3`. Append 10, 20, 30, then 40. What happens?\n",
    "\n",
    "**Expected Output**:\n",
    "\n",
    "```python\n",
    "deque([20, 30, 40])\n",
    "```"
   ],
   "id": "b84933db00e5e455"
  },
  {
   "metadata": {
    "ExecuteTime": {
     "end_time": "2025-05-17T16:08:56.853777Z",
     "start_time": "2025-05-17T16:08:56.851676Z"
    }
   },
   "cell_type": "code",
   "source": "dq2 = deque(maxlen=3)",
   "id": "e9aa6f3fe12ccec8",
   "outputs": [],
   "execution_count": 9
  },
  {
   "metadata": {
    "ExecuteTime": {
     "end_time": "2025-05-17T16:08:56.856770Z",
     "start_time": "2025-05-17T16:08:56.854780Z"
    }
   },
   "cell_type": "code",
   "source": "dq2.append(10)",
   "id": "1fb0fa317b4c229a",
   "outputs": [],
   "execution_count": 10
  },
  {
   "metadata": {
    "ExecuteTime": {
     "end_time": "2025-05-17T16:08:56.860772Z",
     "start_time": "2025-05-17T16:08:56.857808Z"
    }
   },
   "cell_type": "code",
   "source": "dq2",
   "id": "7cbc196525c809b9",
   "outputs": [
    {
     "data": {
      "text/plain": [
       "deque([10], maxlen=3)"
      ]
     },
     "execution_count": 11,
     "metadata": {},
     "output_type": "execute_result"
    }
   ],
   "execution_count": 11
  },
  {
   "metadata": {
    "ExecuteTime": {
     "end_time": "2025-05-17T16:08:56.863973Z",
     "start_time": "2025-05-17T16:08:56.861603Z"
    }
   },
   "cell_type": "code",
   "source": "dq2.append(20)",
   "id": "e288a9cbaf0a9e9a",
   "outputs": [],
   "execution_count": 12
  },
  {
   "metadata": {
    "ExecuteTime": {
     "end_time": "2025-05-17T16:08:56.867570Z",
     "start_time": "2025-05-17T16:08:56.864844Z"
    }
   },
   "cell_type": "code",
   "source": "dq2",
   "id": "8d9795650e34d5fa",
   "outputs": [
    {
     "data": {
      "text/plain": [
       "deque([10, 20], maxlen=3)"
      ]
     },
     "execution_count": 13,
     "metadata": {},
     "output_type": "execute_result"
    }
   ],
   "execution_count": 13
  },
  {
   "metadata": {
    "ExecuteTime": {
     "end_time": "2025-05-17T16:08:56.871662Z",
     "start_time": "2025-05-17T16:08:56.869530Z"
    }
   },
   "cell_type": "code",
   "source": "dq2.append(30)",
   "id": "a65a9f7294169afb",
   "outputs": [],
   "execution_count": 14
  },
  {
   "metadata": {
    "ExecuteTime": {
     "end_time": "2025-05-17T16:08:56.875695Z",
     "start_time": "2025-05-17T16:08:56.872653Z"
    }
   },
   "cell_type": "code",
   "source": "dq2",
   "id": "3a4adbe89648f0c4",
   "outputs": [
    {
     "data": {
      "text/plain": [
       "deque([10, 20, 30], maxlen=3)"
      ]
     },
     "execution_count": 15,
     "metadata": {},
     "output_type": "execute_result"
    }
   ],
   "execution_count": 15
  },
  {
   "metadata": {
    "ExecuteTime": {
     "end_time": "2025-05-17T16:08:56.878677Z",
     "start_time": "2025-05-17T16:08:56.876576Z"
    }
   },
   "cell_type": "code",
   "source": "dq2.append(40)",
   "id": "2e306f7b5de270b",
   "outputs": [],
   "execution_count": 16
  },
  {
   "metadata": {
    "ExecuteTime": {
     "end_time": "2025-05-17T16:08:56.882719Z",
     "start_time": "2025-05-17T16:08:56.879691Z"
    }
   },
   "cell_type": "code",
   "source": "dq2",
   "id": "d707a580d6730f58",
   "outputs": [
    {
     "data": {
      "text/plain": [
       "deque([20, 30, 40], maxlen=3)"
      ]
     },
     "execution_count": 17,
     "metadata": {},
     "output_type": "execute_result"
    }
   ],
   "execution_count": 17
  },
  {
   "metadata": {},
   "cell_type": "markdown",
   "source": [
    "**Explanation**: `deque` automatically removes the oldest item when full.\n",
    "\n",
    "\n",
    "\n",
    "### **1.4: Rotate Right**\n",
    "\n",
    "**Problem**: Rotate the deque `[1, 2, 3, 4, 5]` two steps to the right.\n",
    "\n",
    "**Expected Output**:\n",
    "\n",
    "```python\n",
    "deque([4, 5, 1, 2, 3])\n",
    "```\n"
   ],
   "id": "a8eca843b1166dff"
  },
  {
   "metadata": {},
   "cell_type": "markdown",
   "source": [
    "### What does rotate() do?\n",
    "The `rotate(n)` method shifts all elements in the deque:\n",
    "\n",
    "- If n > 0: rotates to the right\n",
    "- If n < 0: rotates to the left"
   ],
   "id": "7ef37b31ace8f762"
  },
  {
   "metadata": {
    "ExecuteTime": {
     "end_time": "2025-05-17T16:08:56.886166Z",
     "start_time": "2025-05-17T16:08:56.883757Z"
    }
   },
   "cell_type": "code",
   "source": "dq3 = deque([1, 2, 3, 4, 5])",
   "id": "1b4b898e92fe1f23",
   "outputs": [],
   "execution_count": 18
  },
  {
   "metadata": {
    "ExecuteTime": {
     "end_time": "2025-05-17T16:08:56.890236Z",
     "start_time": "2025-05-17T16:08:56.887303Z"
    }
   },
   "cell_type": "code",
   "source": "dq3.rotate(2)",
   "id": "ced338d6a9d74e62",
   "outputs": [],
   "execution_count": 19
  },
  {
   "metadata": {
    "ExecuteTime": {
     "end_time": "2025-05-17T16:08:56.893875Z",
     "start_time": "2025-05-17T16:08:56.891246Z"
    }
   },
   "cell_type": "code",
   "source": "dq3",
   "id": "d16b21f76bd749d2",
   "outputs": [
    {
     "data": {
      "text/plain": [
       "deque([4, 5, 1, 2, 3])"
      ]
     },
     "execution_count": 20,
     "metadata": {},
     "output_type": "execute_result"
    }
   ],
   "execution_count": 20
  },
  {
   "metadata": {},
   "cell_type": "markdown",
   "source": [
    "### What happened here?\n",
    "Initially: [1, 2, 3, 4, 5]\n",
    "\n",
    "- After rotating 1 step right: [5, 1, 2, 3, 4]\n",
    "- After rotating another step right: [4, 5, 1, 2, 3]\n",
    "- So the last two elements wrap around to the front."
   ],
   "id": "32a96b547ae47b58"
  },
  {
   "metadata": {},
   "cell_type": "markdown",
   "source": [
    "### **1.5: Rotate Left**\n",
    "\n",
    "**Problem**: Rotate the same deque two steps to the left.\n",
    "\n",
    "**Expected Output**:\n",
    "\n",
    "```python\n",
    "deque([3, 4, 5, 1, 2])\n",
    "```\n"
   ],
   "id": "b3fef34c0f101c1a"
  },
  {
   "metadata": {
    "ExecuteTime": {
     "end_time": "2025-05-17T16:08:56.897394Z",
     "start_time": "2025-05-17T16:08:56.895127Z"
    }
   },
   "cell_type": "code",
   "source": "dq4 = deque([1, 2, 3, 4, 5])",
   "id": "ec883c949fca912b",
   "outputs": [],
   "execution_count": 21
  },
  {
   "metadata": {
    "ExecuteTime": {
     "end_time": "2025-05-17T16:08:56.900633Z",
     "start_time": "2025-05-17T16:08:56.898488Z"
    }
   },
   "cell_type": "code",
   "source": "dq4.rotate(-2)",
   "id": "56e73af931aae612",
   "outputs": [],
   "execution_count": 22
  },
  {
   "metadata": {
    "ExecuteTime": {
     "end_time": "2025-05-17T16:08:56.904669Z",
     "start_time": "2025-05-17T16:08:56.901524Z"
    }
   },
   "cell_type": "code",
   "source": "dq4",
   "id": "c55e64b16774ef3f",
   "outputs": [
    {
     "data": {
      "text/plain": [
       "deque([3, 4, 5, 1, 2])"
      ]
     },
     "execution_count": 23,
     "metadata": {},
     "output_type": "execute_result"
    }
   ],
   "execution_count": 23
  },
  {
   "metadata": {},
   "cell_type": "markdown",
   "source": [
    "## LEVEL 2: Simulating Buffers and History (No real dataset yet)\n",
    "\n",
    "**Goal**: Practice sliding windows, buffering, and rollbacks.\n",
    "\n",
    "### Skills:\n",
    "\n",
    "* Using `deque(maxlen=N)` to track last N items\n",
    "* Using `appendleft()` to undo\n",
    "* Accessing items like a list\n"
   ],
   "id": "9fd19774d3d61052"
  },
  {
   "metadata": {},
   "cell_type": "markdown",
   "source": [
    "### **2.1: Last 3 Processed Items**\n",
    "\n",
    "**Problem**: Simulate a buffer tracking the last 3 parts that passed QA: 'P1', 'P2', 'P3', 'P4'\n",
    "\n",
    "**Expected Output**:\n",
    "\n",
    "```python\n",
    "deque(['P2', 'P3', 'P4'], maxlen=3)\n",
    "```"
   ],
   "id": "ec59bfc03052144f"
  },
  {
   "metadata": {
    "ExecuteTime": {
     "end_time": "2025-05-17T16:08:56.907982Z",
     "start_time": "2025-05-17T16:08:56.905476Z"
    }
   },
   "cell_type": "code",
   "source": "dq_buffer = deque(['P1', 'P2', 'P3', 'P4'], maxlen=3)",
   "id": "a604a79d1a021e71",
   "outputs": [],
   "execution_count": 24
  },
  {
   "metadata": {
    "ExecuteTime": {
     "end_time": "2025-05-17T16:08:56.911662Z",
     "start_time": "2025-05-17T16:08:56.908894Z"
    }
   },
   "cell_type": "code",
   "source": "dq_buffer",
   "id": "8c203edace690e84",
   "outputs": [
    {
     "data": {
      "text/plain": [
       "deque(['P2', 'P3', 'P4'], maxlen=3)"
      ]
     },
     "execution_count": 25,
     "metadata": {},
     "output_type": "execute_result"
    }
   ],
   "execution_count": 25
  },
  {
   "metadata": {},
   "cell_type": "markdown",
   "source": [
    "### **2.2: Undo the Last Action**\n",
    "\n",
    "**Problem**: Use `appendleft()` to push back 'P4' after it was mistakenly popped.\n",
    "\n",
    "**Expected Output**:\n",
    "\n",
    "```python\n",
    "deque(['P4', 'P2', 'P3'], maxlen=3)\n",
    "```"
   ],
   "id": "13291046a97c20dc"
  },
  {
   "metadata": {
    "ExecuteTime": {
     "end_time": "2025-05-17T16:08:56.914610Z",
     "start_time": "2025-05-17T16:08:56.912567Z"
    }
   },
   "cell_type": "code",
   "source": "dq_buffer.appendleft('P4')",
   "id": "35c97cd8b322fb46",
   "outputs": [],
   "execution_count": 26
  },
  {
   "metadata": {
    "ExecuteTime": {
     "end_time": "2025-05-17T16:08:56.918693Z",
     "start_time": "2025-05-17T16:08:56.915612Z"
    }
   },
   "cell_type": "code",
   "source": "dq_buffer",
   "id": "1cb96100d4ff3232",
   "outputs": [
    {
     "data": {
      "text/plain": [
       "deque(['P4', 'P2', 'P3'], maxlen=3)"
      ]
     },
     "execution_count": 27,
     "metadata": {},
     "output_type": "execute_result"
    }
   ],
   "execution_count": 27
  },
  {
   "metadata": {},
   "cell_type": "markdown",
   "source": [
    "### **2.3: History Tracker**\n",
    "\n",
    "**Problem**: Maintain the last 5 temperature readings in a machine: `[78, 79, 80, 81, 82, 83]`\n",
    "\n",
    "**Expected Output**:\n",
    "\n",
    "```python\n",
    "deque([79, 80, 81, 82, 83], maxlen=5)\n",
    "```\n"
   ],
   "id": "cef96447a2a71037"
  },
  {
   "metadata": {
    "ExecuteTime": {
     "end_time": "2025-05-17T16:08:56.922315Z",
     "start_time": "2025-05-17T16:08:56.920276Z"
    }
   },
   "cell_type": "code",
   "source": "dq_temp = deque([78, 79, 80, 81, 82, 83], maxlen=5)",
   "id": "e65e6f97eca3d140",
   "outputs": [],
   "execution_count": 28
  },
  {
   "metadata": {
    "ExecuteTime": {
     "end_time": "2025-05-17T16:08:56.937322Z",
     "start_time": "2025-05-17T16:08:56.933983Z"
    }
   },
   "cell_type": "code",
   "source": "dq_temp",
   "id": "d8a17c44890624c6",
   "outputs": [
    {
     "data": {
      "text/plain": [
       "deque([79, 80, 81, 82, 83], maxlen=5)"
      ]
     },
     "execution_count": 29,
     "metadata": {},
     "output_type": "execute_result"
    }
   ],
   "execution_count": 29
  },
  {
   "metadata": {},
   "cell_type": "markdown",
   "source": [
    "### **2.4: Sum of Last N**\n",
    "\n",
    "**Problem**: Calculate the sum of the last 3 added values: `[5, 6, 7, 8]` → use `deque(maxlen=3)`.\n",
    "\n",
    "**Expected Output**:\n",
    "\n",
    "```python\n",
    "Sum of last 3: 21  # (6+7+8)\n",
    "```"
   ],
   "id": "6d1b8bcd543c76d3"
  },
  {
   "metadata": {
    "ExecuteTime": {
     "end_time": "2025-05-17T16:08:57.357642Z",
     "start_time": "2025-05-17T16:08:57.354916Z"
    }
   },
   "cell_type": "code",
   "source": "dq_sum = sum(deque([5, 6, 7, 8], maxlen=3))",
   "id": "43acf7dc2ed33f40",
   "outputs": [],
   "execution_count": 30
  },
  {
   "metadata": {
    "ExecuteTime": {
     "end_time": "2025-05-17T16:08:57.645240Z",
     "start_time": "2025-05-17T16:08:57.642450Z"
    }
   },
   "cell_type": "code",
   "source": "dq_sum",
   "id": "52da3f3f5f631f86",
   "outputs": [
    {
     "data": {
      "text/plain": [
       "21"
      ]
     },
     "execution_count": 31,
     "metadata": {},
     "output_type": "execute_result"
    }
   ],
   "execution_count": 31
  },
  {
   "metadata": {},
   "cell_type": "markdown",
   "source": [
    "### **2.5: Use as Stack**\n",
    "\n",
    "**Problem**: Simulate a stack with `deque`. Push: `A, B, C`. Pop 1.\n",
    "\n",
    "**Expected Output**:\n",
    "\n",
    "```python\n",
    "deque(['A', 'B'])\n",
    "```"
   ],
   "id": "cc5a78ea8dbb2419"
  },
  {
   "metadata": {
    "ExecuteTime": {
     "end_time": "2025-05-17T16:08:57.713250Z",
     "start_time": "2025-05-17T16:08:57.710702Z"
    }
   },
   "cell_type": "code",
   "source": "dq_stack = deque(['A', 'B', 'C'])",
   "id": "5e7838d99e7cd885",
   "outputs": [],
   "execution_count": 32
  },
  {
   "metadata": {
    "ExecuteTime": {
     "end_time": "2025-05-17T16:08:57.787764Z",
     "start_time": "2025-05-17T16:08:57.784424Z"
    }
   },
   "cell_type": "code",
   "source": "dq_stack.pop()",
   "id": "3cfa422d2ef162a5",
   "outputs": [
    {
     "data": {
      "text/plain": [
       "'C'"
      ]
     },
     "execution_count": 33,
     "metadata": {},
     "output_type": "execute_result"
    }
   ],
   "execution_count": 33
  },
  {
   "metadata": {
    "ExecuteTime": {
     "end_time": "2025-05-17T16:08:57.826365Z",
     "start_time": "2025-05-17T16:08:57.822853Z"
    }
   },
   "cell_type": "code",
   "source": "dq_stack",
   "id": "6d65cd323f97219e",
   "outputs": [
    {
     "data": {
      "text/plain": [
       "deque(['A', 'B'])"
      ]
     },
     "execution_count": 34,
     "metadata": {},
     "output_type": "execute_result"
    }
   ],
   "execution_count": 34
  },
  {
   "metadata": {},
   "cell_type": "markdown",
   "source": [
    "\n",
    "### Recap: What a Stack Does\n",
    "\n",
    "* Think of a stack like a pile of plates.\n",
    "* You `push()` to add to the top (use `append()`).\n",
    "* You `pop()` to remove the top item (use `pop()`).\n",
    "\n",
    "\n",
    "### Why this matters:\n",
    "\n",
    "`deque` is faster than a list for stack operations because:\n",
    "\n",
    "* `pop()` and `append()` on the **right end** are O(1) (very efficient).\n",
    "* Python’s list `pop()` from the front is O(n), which is slower.\n",
    "\n",
    "This makes `deque` a smart choice for real-time processing systems, parsers, or undo-redo logic in GUIs.\n",
    "\n"
   ],
   "id": "c870e665e24fd658"
  },
  {
   "metadata": {},
   "cell_type": "markdown",
   "source": [
    "### **2.6: Use as Queue**\n",
    "\n",
    "**Problem**: Simulate a queue with `deque`. Enqueue: `X, Y, Z`. Dequeue 1 (left).\n",
    "\n",
    "**Expected Output**:\n",
    "\n",
    "```python\n",
    "deque(['Y', 'Z'])\n",
    "```"
   ],
   "id": "7385139ba8111235"
  },
  {
   "metadata": {
    "ExecuteTime": {
     "end_time": "2025-05-17T16:08:57.860961Z",
     "start_time": "2025-05-17T16:08:57.858545Z"
    }
   },
   "cell_type": "code",
   "source": "dq_q = deque(['X', 'Y', 'Z'])",
   "id": "a75e453e13c8bb0",
   "outputs": [],
   "execution_count": 35
  },
  {
   "metadata": {
    "ExecuteTime": {
     "end_time": "2025-05-17T16:08:57.939897Z",
     "start_time": "2025-05-17T16:08:57.936484Z"
    }
   },
   "cell_type": "code",
   "source": "dq_q.popleft()",
   "id": "77dad18061a0a9b1",
   "outputs": [
    {
     "data": {
      "text/plain": [
       "'X'"
      ]
     },
     "execution_count": 36,
     "metadata": {},
     "output_type": "execute_result"
    }
   ],
   "execution_count": 36
  },
  {
   "metadata": {
    "ExecuteTime": {
     "end_time": "2025-05-17T16:08:58.043440Z",
     "start_time": "2025-05-17T16:08:58.040062Z"
    }
   },
   "cell_type": "code",
   "source": "dq_q",
   "id": "445eee7f0ed653d6",
   "outputs": [
    {
     "data": {
      "text/plain": [
       "deque(['Y', 'Z'])"
      ]
     },
     "execution_count": 37,
     "metadata": {},
     "output_type": "execute_result"
    }
   ],
   "execution_count": 37
  },
  {
   "metadata": {},
   "cell_type": "markdown",
   "source": [
    "### **2.7: Peek First/Last**\n",
    "\n",
    "**Problem**: Add items `[100, 200, 300]` to a deque. Print first and last without removing.\n",
    "\n",
    "**Expected Output**:\n",
    "\n",
    "```python\n",
    "First: 100\n",
    "Last: 300\n",
    "```"
   ],
   "id": "c948944dd2a1ad1d"
  },
  {
   "metadata": {
    "ExecuteTime": {
     "end_time": "2025-05-17T16:08:58.072046Z",
     "start_time": "2025-05-17T16:08:58.069623Z"
    }
   },
   "cell_type": "code",
   "source": "dq_peek = deque([100, 200, 300])",
   "id": "e564c44ecc9f113",
   "outputs": [],
   "execution_count": 38
  },
  {
   "metadata": {
    "ExecuteTime": {
     "end_time": "2025-05-17T16:08:58.134036Z",
     "start_time": "2025-05-17T16:08:58.131419Z"
    }
   },
   "cell_type": "code",
   "source": "first = dq_peek[0]",
   "id": "5a3cfa4b3caf34ea",
   "outputs": [],
   "execution_count": 39
  },
  {
   "metadata": {
    "ExecuteTime": {
     "end_time": "2025-05-17T16:08:58.178991Z",
     "start_time": "2025-05-17T16:08:58.175894Z"
    }
   },
   "cell_type": "code",
   "source": "first",
   "id": "39b4f78179a56dc5",
   "outputs": [
    {
     "data": {
      "text/plain": [
       "100"
      ]
     },
     "execution_count": 40,
     "metadata": {},
     "output_type": "execute_result"
    }
   ],
   "execution_count": 40
  },
  {
   "metadata": {
    "ExecuteTime": {
     "end_time": "2025-05-17T16:08:58.252068Z",
     "start_time": "2025-05-17T16:08:58.249293Z"
    }
   },
   "cell_type": "code",
   "source": "last = dq_peek[-1]",
   "id": "da7f5be841887863",
   "outputs": [],
   "execution_count": 41
  },
  {
   "metadata": {
    "ExecuteTime": {
     "end_time": "2025-05-17T16:08:58.302725Z",
     "start_time": "2025-05-17T16:08:58.298758Z"
    }
   },
   "cell_type": "code",
   "source": "last",
   "id": "5b1734952298fe02",
   "outputs": [
    {
     "data": {
      "text/plain": [
       "300"
      ]
     },
     "execution_count": 42,
     "metadata": {},
     "output_type": "execute_result"
    }
   ],
   "execution_count": 42
  },
  {
   "metadata": {},
   "cell_type": "markdown",
   "source": [
    "## LEVEL 3: With Simulated Mini-Dataset\n",
    "\n",
    "We’re now transitioning from `deque` mechanics to **real-world simulation**, where each `deque` operation mimics a machine collecting sensor readings over time — just like what you'd encounter in injection molding or process control systems.\n",
    "\n",
    "\n",
    "\n",
    "### Simulated Dataset:\n",
    "\n",
    "We'll simulate **temperature readings** from a molding machine over time.\n",
    "\n",
    "```python\n",
    "temperature_readings = [68, 70, 72, 75, 74, 73, 76, 77, 80, 78]\n",
    "```\n",
    "\n",
    "\n",
    "\n",
    "### Skills You'll Practice:\n",
    "\n",
    "* Using `deque(maxlen=N)` for sliding window\n",
    "* Calculating **rolling average**\n",
    "* Detecting spikes or drops\n",
    "* Rolling back and resetting\n",
    "* Handling stream-like input"
   ],
   "id": "c3ef4f677171ceea"
  },
  {
   "metadata": {},
   "cell_type": "markdown",
   "source": [
    "## Exercise 3.1: Sliding Average (Window of 3)\n",
    "\n",
    "**Problem**: For each new temperature reading, maintain the last 3 values and compute the **average**.\n",
    "\n",
    "**Use**: `deque(maxlen=3)`"
   ],
   "id": "1b33d93b449aad6f"
  },
  {
   "metadata": {
    "ExecuteTime": {
     "end_time": "2025-05-17T16:08:58.369579Z",
     "start_time": "2025-05-17T16:08:58.367104Z"
    }
   },
   "cell_type": "code",
   "source": "temperature_readings = [68, 70, 72, 75, 74, 73, 76, 77, 80, 78]",
   "id": "5afdc93922bcc23e",
   "outputs": [],
   "execution_count": 43
  },
  {
   "metadata": {
    "ExecuteTime": {
     "end_time": "2025-05-17T16:08:58.423889Z",
     "start_time": "2025-05-17T16:08:58.421438Z"
    }
   },
   "cell_type": "code",
   "source": "window = deque(maxlen=3)",
   "id": "104438da05b3cf0",
   "outputs": [],
   "execution_count": 44
  },
  {
   "metadata": {
    "ExecuteTime": {
     "end_time": "2025-05-17T16:08:58.493816Z",
     "start_time": "2025-05-17T16:08:58.489968Z"
    }
   },
   "cell_type": "code",
   "source": [
    "for reading in temperature_readings:\n",
    "    window.append(reading)\n",
    "    avg = round(sum(window) / len(window), 2)\n",
    "    print(f'Reading {reading} -> Widow: {list(window)} -> Average: {avg}')"
   ],
   "id": "cbee3f4ab2a6f569",
   "outputs": [
    {
     "name": "stdout",
     "output_type": "stream",
     "text": [
      "Reading 68 -> Widow: [68] -> Average: 68.0\n",
      "Reading 70 -> Widow: [68, 70] -> Average: 69.0\n",
      "Reading 72 -> Widow: [68, 70, 72] -> Average: 70.0\n",
      "Reading 75 -> Widow: [70, 72, 75] -> Average: 72.33\n",
      "Reading 74 -> Widow: [72, 75, 74] -> Average: 73.67\n",
      "Reading 73 -> Widow: [75, 74, 73] -> Average: 74.0\n",
      "Reading 76 -> Widow: [74, 73, 76] -> Average: 74.33\n",
      "Reading 77 -> Widow: [73, 76, 77] -> Average: 75.33\n",
      "Reading 80 -> Widow: [76, 77, 80] -> Average: 77.67\n",
      "Reading 78 -> Widow: [77, 80, 78] -> Average: 78.33\n"
     ]
    }
   ],
   "execution_count": 45
  },
  {
   "metadata": {},
   "cell_type": "markdown",
   "source": [
    "### Why It Matters:\n",
    "\n",
    "* In manufacturing, **sliding window averages** help detect **drift** or **instability** in processes.\n",
    "* We discard old values and keep only the **most recent N** values — this is where `deque(maxlen=N)` "
   ],
   "id": "8b151509b44bf6d1"
  },
  {
   "metadata": {},
   "cell_type": "markdown",
   "source": [
    "## **Exercise 3.2: Detect Spike or Drop**\n",
    "\n",
    "### Problem:\n",
    "\n",
    "Using the same readings list:\n",
    "\n",
    "```python\n",
    "temperature_readings = [68, 70, 72, 75, 74, 80, 65, 78]\n",
    "```\n",
    "\n",
    "Create a `deque(maxlen=3)` to track the latest readings.\n",
    "If the new reading is more than **5 units higher or lower** than the average of the window, print a **\"Spike\" or \"Drop\" warning**.\n",
    "\n"
   ],
   "id": "bb1a055c4cf97b5a"
  },
  {
   "metadata": {
    "ExecuteTime": {
     "end_time": "2025-05-17T16:08:58.533300Z",
     "start_time": "2025-05-17T16:08:58.530831Z"
    }
   },
   "cell_type": "code",
   "source": "temperature_readings = [68, 70, 72, 75, 74, 80, 65, 78]",
   "id": "8e992c5d9e374860",
   "outputs": [],
   "execution_count": 46
  },
  {
   "metadata": {
    "ExecuteTime": {
     "end_time": "2025-05-17T16:08:58.598309Z",
     "start_time": "2025-05-17T16:08:58.594249Z"
    }
   },
   "cell_type": "code",
   "source": "window = deque(maxlen=3)",
   "id": "b876fb3e8cb51bbb",
   "outputs": [],
   "execution_count": 47
  },
  {
   "metadata": {
    "ExecuteTime": {
     "end_time": "2025-05-17T16:08:58.623662Z",
     "start_time": "2025-05-17T16:08:58.620630Z"
    }
   },
   "cell_type": "code",
   "source": [
    "for reading in temperature_readings:\n",
    "    window.append(reading)\n",
    "    avg = round(sum(window) / len(window), 2)\n",
    "    \n",
    "    if abs(reading - avg) > 5:\n",
    "        print(f'Spike/Drop Detected! Reading: {reading} -> Window: {list(window)} -> Average: {avg}')\n",
    "    else:\n",
    "        print(f'Reading: {reading} -> Window: {list(window)} -> Average: {avg}')"
   ],
   "id": "dc890f3895c0e896",
   "outputs": [
    {
     "name": "stdout",
     "output_type": "stream",
     "text": [
      "Reading: 68 -> Window: [68] -> Average: 68.0\n",
      "Reading: 70 -> Window: [68, 70] -> Average: 69.0\n",
      "Reading: 72 -> Window: [68, 70, 72] -> Average: 70.0\n",
      "Reading: 75 -> Window: [70, 72, 75] -> Average: 72.33\n",
      "Reading: 74 -> Window: [72, 75, 74] -> Average: 73.67\n",
      "Reading: 80 -> Window: [75, 74, 80] -> Average: 76.33\n",
      "Spike/Drop Detected! Reading: 65 -> Window: [74, 80, 65] -> Average: 73.0\n",
      "Reading: 78 -> Window: [80, 65, 78] -> Average: 74.33\n"
     ]
    }
   ],
   "execution_count": 48
  },
  {
   "metadata": {},
   "cell_type": "markdown",
   "source": [
    "## **Exercise 3.3: Sliding Max/Min**\n",
    "\n",
    "### **Problem**:\n",
    "\n",
    "Given the following temperature readings:\n",
    "\n",
    "```python\n",
    "temperature_readings = [68, 70, 72, 75, 74, 80, 65, 78]\n",
    "```\n",
    "\n",
    "Use `deque(maxlen=3)` to keep a **sliding window** of the last 3 readings.\n",
    "For each new reading, print the **maximum** and **minimum** values in the current window.\n",
    "\n",
    "\n",
    "### **Goal Output Format**:\n",
    "\n",
    "```\n",
    "Reading: 68 → Window: [68] → Min: 68, Max: 68  \n",
    "Reading: 70 → Window: [68, 70] → Min: 68, Max: 70  \n",
    "Reading: 72 → Window: [68, 70, 72] → Min: 68, Max: 72  \n",
    "Reading: 75 → Window: [70, 72, 75] → Min: 70, Max: 75  \n",
    "...\n",
    "```\n"
   ],
   "id": "2db1c8b9d6b19622"
  },
  {
   "metadata": {
    "ExecuteTime": {
     "end_time": "2025-05-17T16:08:58.695658Z",
     "start_time": "2025-05-17T16:08:58.692844Z"
    }
   },
   "cell_type": "code",
   "source": "temperature_readings = [68, 70, 72, 75, 74, 80, 65, 78]",
   "id": "ba08a32b18239a78",
   "outputs": [],
   "execution_count": 49
  },
  {
   "metadata": {
    "ExecuteTime": {
     "end_time": "2025-05-17T16:08:58.727532Z",
     "start_time": "2025-05-17T16:08:58.725179Z"
    }
   },
   "cell_type": "code",
   "source": "window = deque(maxlen=3)",
   "id": "82907a1a8f94ff56",
   "outputs": [],
   "execution_count": 50
  },
  {
   "metadata": {
    "ExecuteTime": {
     "end_time": "2025-05-17T16:08:58.786758Z",
     "start_time": "2025-05-17T16:08:58.784213Z"
    }
   },
   "cell_type": "code",
   "source": [
    "for reading in temperature_readings:\n",
    "    window.append(reading)\n",
    "    max_val = max(window)\n",
    "    min_val = min(window)\n",
    "    \n",
    "    print(f'Reading {reading} -> Window: {list(window)} -> Max: {max_val}, Min: {min_val}')"
   ],
   "id": "d74892b027dcc96f",
   "outputs": [
    {
     "name": "stdout",
     "output_type": "stream",
     "text": [
      "Reading 68 -> Window: [68] -> Max: 68, Min: 68\n",
      "Reading 70 -> Window: [68, 70] -> Max: 70, Min: 68\n",
      "Reading 72 -> Window: [68, 70, 72] -> Max: 72, Min: 68\n",
      "Reading 75 -> Window: [70, 72, 75] -> Max: 75, Min: 70\n",
      "Reading 74 -> Window: [72, 75, 74] -> Max: 75, Min: 72\n",
      "Reading 80 -> Window: [75, 74, 80] -> Max: 80, Min: 74\n",
      "Reading 65 -> Window: [74, 80, 65] -> Max: 80, Min: 65\n",
      "Reading 78 -> Window: [80, 65, 78] -> Max: 80, Min: 65\n"
     ]
    }
   ],
   "execution_count": 51
  },
  {
   "metadata": {},
   "cell_type": "markdown",
   "source": [
    "## **Exercise 3.4: Track Deviation from Rolling Average**\n",
    "\n",
    "### **Problem**:\n",
    "\n",
    "Given this temperature stream:\n",
    "\n",
    "```python\n",
    "temperature_readings = [68, 70, 72, 75, 74, 80, 65, 78]\n",
    "```\n",
    "\n",
    "Use `deque(maxlen=3)` to track a **rolling average**, and for each reading, calculate the **deviation** from that average.\n",
    "\n",
    "\n",
    "### **What to Print**:\n",
    "\n",
    "For each reading, output:\n",
    "\n",
    "* The current window\n",
    "* The rolling average\n",
    "* The deviation (reading − average)\n",
    "\n",
    "\n",
    "### **What You'll Learn**:\n",
    "\n",
    "* How to track whether the **current reading is above or below** the recent trend.\n",
    "* This is foundational for **anomaly detection** or **feedback control**.\n",
    "\n",
    "\n",
    "\n",
    "### Sample Output:\n",
    "\n",
    "```\n",
    "Reading: 68 → Window: [68] → Avg: 68.00 → Deviation: 0.00  \n",
    "Reading: 70 → Window: [68, 70] → Avg: 69.00 → Deviation: 1.00  \n",
    "Reading: 72 → Window: [68, 70, 72] → Avg: 70.00 → Deviation: 2.00  \n",
    "Reading: 75 → Window: [70, 72, 75] → Avg: 72.33 → Deviation: 2.67  \n",
    "...\n",
    "```\n",
    "\n",
    "### Real-World Analogy:\n",
    "\n",
    "In injection molding, if the **current mold temperature** is constantly **above the average**, it may be a signal of a machine drift, faulty cooling, or buildup in the mold cavity.\n",
    "\n"
   ],
   "id": "b28b6715a4accb6"
  },
  {
   "metadata": {
    "ExecuteTime": {
     "end_time": "2025-05-17T16:08:58.835794Z",
     "start_time": "2025-05-17T16:08:58.833506Z"
    }
   },
   "cell_type": "code",
   "source": "temperature_readings = [68, 70, 72, 75, 74, 80, 65, 78]",
   "id": "11d81ff429f949a1",
   "outputs": [],
   "execution_count": 52
  },
  {
   "metadata": {
    "ExecuteTime": {
     "end_time": "2025-05-17T16:08:58.903808Z",
     "start_time": "2025-05-17T16:08:58.901084Z"
    }
   },
   "cell_type": "code",
   "source": "window = deque(maxlen=3)",
   "id": "8be45cb6d27ac850",
   "outputs": [],
   "execution_count": 53
  },
  {
   "metadata": {
    "ExecuteTime": {
     "end_time": "2025-05-17T16:08:58.928587Z",
     "start_time": "2025-05-17T16:08:58.925332Z"
    }
   },
   "cell_type": "code",
   "source": [
    "for reading in temperature_readings:\n",
    "    window.append(reading)\n",
    "    avg = round(sum(window) / len(window), 2)\n",
    "    deviation = round((reading - avg), 2)\n",
    "    if deviation < 0:\n",
    "        print(f'Reading {reading} -> Window: {list(window)} -> Average: {avg} -> Deviation: {deviation} -> ALERT: Machine Drift, Faulty Cooling or Cavity Buildup')\n",
    "    else:\n",
    "        print(f'Reading {reading} -> Window: {list(window)} -> Average: {avg} -> Deviation: {deviation}')\n",
    "    "
   ],
   "id": "228fa3e1defc158",
   "outputs": [
    {
     "name": "stdout",
     "output_type": "stream",
     "text": [
      "Reading 68 -> Window: [68] -> Average: 68.0 -> Deviation: 0.0\n",
      "Reading 70 -> Window: [68, 70] -> Average: 69.0 -> Deviation: 1.0\n",
      "Reading 72 -> Window: [68, 70, 72] -> Average: 70.0 -> Deviation: 2.0\n",
      "Reading 75 -> Window: [70, 72, 75] -> Average: 72.33 -> Deviation: 2.67\n",
      "Reading 74 -> Window: [72, 75, 74] -> Average: 73.67 -> Deviation: 0.33\n",
      "Reading 80 -> Window: [75, 74, 80] -> Average: 76.33 -> Deviation: 3.67\n",
      "Reading 65 -> Window: [74, 80, 65] -> Average: 73.0 -> Deviation: -8.0 -> ALERT: Machine Drift, Faulty Cooling or Cavity Buildup\n",
      "Reading 78 -> Window: [80, 65, 78] -> Average: 74.33 -> Deviation: 3.67\n"
     ]
    }
   ],
   "execution_count": 54
  },
  {
   "metadata": {},
   "cell_type": "markdown",
   "source": [
    "## 🔧 **Exercise 3.5: Trigger Reset on Critical Reading**\n",
    "\n",
    "\n",
    "### **Problem**:\n",
    "\n",
    "If any temperature reading is **below 60**, it’s considered **a critical failure**.\n",
    "In that case, **clear the sliding window** using `window.clear()`.\n",
    "\n",
    "\n",
    "### Expected Output:\n",
    "\n",
    "```\n",
    "Reading: 68 → Window: [68]\n",
    "Reading: 70 → Window: [68, 70]\n",
    "Reading: 72 → Window: [68, 70, 72]\n",
    "Reading: 75 → Window: [70, 72, 75]\n",
    "Reading: 74 → Window: [72, 75, 74]\n",
    "❌ CRITICAL! Reading: 59 → RESETTING buffer.\n",
    "Reading: 65 → Window: [65]\n",
    "Reading: 78 → Window: [65, 78]\n",
    "```\n",
    "\n",
    "\n",
    "\n",
    "### Why This Matters:\n",
    "\n",
    "* Real systems often **reset** when an unsafe value is detected.\n",
    "* Clearing the `deque` simulates dumping the faulty buffer so **new readings start fresh**.\n",
    "\n"
   ],
   "id": "ab62fbc62f4b09fa"
  },
  {
   "metadata": {
    "ExecuteTime": {
     "end_time": "2025-05-17T16:08:58.964640Z",
     "start_time": "2025-05-17T16:08:58.961956Z"
    }
   },
   "cell_type": "code",
   "source": "temperature_readings = [68, 70, 72, 75, 74, 59, 65, 78]",
   "id": "8af9f5f864376508",
   "outputs": [],
   "execution_count": 55
  },
  {
   "metadata": {
    "ExecuteTime": {
     "end_time": "2025-05-17T16:08:59.019615Z",
     "start_time": "2025-05-17T16:08:59.017365Z"
    }
   },
   "cell_type": "code",
   "source": "window = deque(maxlen=3)",
   "id": "9ce0c8dd05dcb280",
   "outputs": [],
   "execution_count": 56
  },
  {
   "metadata": {
    "ExecuteTime": {
     "end_time": "2025-05-17T16:08:59.046909Z",
     "start_time": "2025-05-17T16:08:59.044062Z"
    }
   },
   "cell_type": "code",
   "source": [
    "for reading in temperature_readings:\n",
    "    if reading < 60:\n",
    "        print(f'❌ CRITICAL! Reading {reading} -> Window: {list(window)}')\n",
    "        window.clear()\n",
    "    else:\n",
    "        print(f'Reading: {reading} -> Window: {list(window)}')\n",
    "        window.append(reading)"
   ],
   "id": "50194f89f5696960",
   "outputs": [
    {
     "name": "stdout",
     "output_type": "stream",
     "text": [
      "Reading: 68 -> Window: []\n",
      "Reading: 70 -> Window: [68]\n",
      "Reading: 72 -> Window: [68, 70]\n",
      "Reading: 75 -> Window: [68, 70, 72]\n",
      "Reading: 74 -> Window: [70, 72, 75]\n",
      "❌ CRITICAL! Reading 59 -> Window: [72, 75, 74]\n",
      "Reading: 65 -> Window: []\n",
      "Reading: 78 -> Window: [65]\n"
     ]
    }
   ],
   "execution_count": 57
  },
  {
   "metadata": {},
   "cell_type": "markdown",
   "source": [
    "## **Exercise 3.6: Simulate Live Stream with Rolling Window**\n",
    "\n",
    "### **Problem**:\n",
    "\n",
    "Simulate a **live data stream** (e.g., every second or minute) where temperature values arrive continuously.\n",
    "\n",
    "Using a `deque(maxlen=5)`, keep the latest **5 readings** and compute:\n",
    "\n",
    "* **Rolling average**\n",
    "* **Latest reading**\n",
    "* Whether it’s **increasing** or **decreasing**\n",
    "\n",
    "\n",
    "\n",
    "### Simulated Stream (can grow later):\n",
    "\n",
    "```python\n",
    "temperature_stream = [68, 69, 70, 72, 75, 77, 76, 78, 80, 79, 77]\n",
    "```\n",
    "\n",
    "\n",
    "\n",
    "### **Expected Print Format**:\n",
    "\n",
    "```\n",
    "Reading: 75 → Window: [70, 72, 75] → Avg: 72.33 → Trend: ↑\n",
    "Reading: 76 → Window: [72, 75, 76] → Avg: 74.33 → Trend: ↑\n",
    "Reading: 74 → Window: [75, 76, 74] → Avg: 75.00 → Trend: ↓\n",
    "```\n",
    "\n",
    "\n",
    "### What You’re Learning:\n",
    "\n",
    "* Simulating live sensor input (streaming-style)\n",
    "* Maintaining history while analyzing\n",
    "* Using **trend direction** for dashboards and alerts\n",
    "\n",
    "This is exactly how many **real-time monitoring dashboards** behave in production lines.\n",
    "\n"
   ],
   "id": "5fc383591c21c972"
  },
  {
   "metadata": {
    "ExecuteTime": {
     "end_time": "2025-05-17T16:08:59.121226Z",
     "start_time": "2025-05-17T16:08:59.118773Z"
    }
   },
   "cell_type": "code",
   "source": "temperature_stream = [68, 69, 70, 72, 75, 77, 76, 78, 80, 79, 77]",
   "id": "fdb4f45fc730f1e7",
   "outputs": [],
   "execution_count": 58
  },
  {
   "metadata": {
    "ExecuteTime": {
     "end_time": "2025-05-17T16:08:59.193306Z",
     "start_time": "2025-05-17T16:08:59.190874Z"
    }
   },
   "cell_type": "code",
   "source": "window = deque(maxlen=5)",
   "id": "f7b8526357c75807",
   "outputs": [],
   "execution_count": 59
  },
  {
   "metadata": {
    "ExecuteTime": {
     "end_time": "2025-05-17T16:08:59.231519Z",
     "start_time": "2025-05-17T16:08:59.229274Z"
    }
   },
   "cell_type": "code",
   "source": "prev = None",
   "id": "49c831e4739bd0df",
   "outputs": [],
   "execution_count": 60
  },
  {
   "metadata": {
    "ExecuteTime": {
     "end_time": "2025-05-17T16:08:59.318920Z",
     "start_time": "2025-05-17T16:08:59.315520Z"
    }
   },
   "cell_type": "code",
   "source": [
    "for reading in temperature_stream:\n",
    "    window.append(reading)\n",
    "    avg = round(sum(window) / len(window), 2)\n",
    "    \n",
    "    if prev is None:\n",
    "        trend = '↔ (No Prev)'\n",
    "    elif reading > prev:\n",
    "        trend = '↑'\n",
    "    elif reading < prev:\n",
    "        trend = '↓'\n",
    "    else:\n",
    "        trend = '→ (No Change)'\n",
    "        \n",
    "    print(f'Reading: {reading} -> Window: {window} -> Average: {avg} -> Trend: {trend}')\n",
    "    prev = reading"
   ],
   "id": "bfcf131b672f13f6",
   "outputs": [
    {
     "name": "stdout",
     "output_type": "stream",
     "text": [
      "Reading: 68 -> Window: deque([68], maxlen=5) -> Average: 68.0 -> Trend: ↔ (No Prev)\n",
      "Reading: 69 -> Window: deque([68, 69], maxlen=5) -> Average: 68.5 -> Trend: ↑\n",
      "Reading: 70 -> Window: deque([68, 69, 70], maxlen=5) -> Average: 69.0 -> Trend: ↑\n",
      "Reading: 72 -> Window: deque([68, 69, 70, 72], maxlen=5) -> Average: 69.75 -> Trend: ↑\n",
      "Reading: 75 -> Window: deque([68, 69, 70, 72, 75], maxlen=5) -> Average: 70.8 -> Trend: ↑\n",
      "Reading: 77 -> Window: deque([69, 70, 72, 75, 77], maxlen=5) -> Average: 72.6 -> Trend: ↑\n",
      "Reading: 76 -> Window: deque([70, 72, 75, 77, 76], maxlen=5) -> Average: 74.0 -> Trend: ↓\n",
      "Reading: 78 -> Window: deque([72, 75, 77, 76, 78], maxlen=5) -> Average: 75.6 -> Trend: ↑\n",
      "Reading: 80 -> Window: deque([75, 77, 76, 78, 80], maxlen=5) -> Average: 77.2 -> Trend: ↑\n",
      "Reading: 79 -> Window: deque([77, 76, 78, 80, 79], maxlen=5) -> Average: 78.0 -> Trend: ↓\n",
      "Reading: 77 -> Window: deque([76, 78, 80, 79, 77], maxlen=5) -> Average: 78.0 -> Trend: ↓\n"
     ]
    }
   ],
   "execution_count": 61
  },
  {
   "metadata": {},
   "cell_type": "markdown",
   "source": [
    "## **Exercise 3.7: Save and Rollback**\n",
    "\n",
    "### Goal:\n",
    "\n",
    "Simulate a situation where we:\n",
    "\n",
    "* Continuously track readings using `deque(maxlen=5)`\n",
    "* Make a **copy of the buffer** at a certain point\n",
    "* Detect a fault (e.g., sudden drop), and **restore** from the saved state (rollback)\n",
    "\n",
    "\n",
    "\n",
    "### Problem:\n",
    "\n",
    "From the readings below:\n",
    "\n",
    "```python\n",
    "temperature_stream = [68, 70, 72, 75, 74, 59, 78, 79]\n",
    "```\n",
    "\n",
    "1. Save the window after reaching the 5th reading.\n",
    "2. If a reading is below **60**, treat it as a fault:\n",
    "\n",
    "   * Clear the window\n",
    "   * Restore from the backup\n",
    "\n",
    "### Expected Output:\n",
    "\n",
    "```\n",
    "Reading: 74 → Window: [68, 70, 72, 75, 74] → Avg: 71.80  \n",
    "💾 Backup saved: [68, 70, 72, 75, 74]\n",
    "❌ Fault Detected at 59. Rolling back...\n",
    "Reading: 59 → Window: [68, 70, 72, 75, 74] → Avg: 71.80  \n",
    "Reading: 78 → Window: [70, 72, 75, 74, 78] → Avg: 73.80\n",
    "...\n",
    "```\n",
    "\n",
    "\n",
    "\n",
    "### Why It Matters:\n",
    "\n",
    "This pattern is extremely useful when:\n",
    "\n",
    "* You need **temporary state preservation** (like checkpoints)\n",
    "* Handling **rollback** in dashboards or control loops\n",
    "* Replaying the last known good configuration\n"
   ],
   "id": "49c2e9851463d061"
  },
  {
   "metadata": {
    "ExecuteTime": {
     "end_time": "2025-05-17T16:08:59.359151Z",
     "start_time": "2025-05-17T16:08:59.356347Z"
    }
   },
   "cell_type": "code",
   "source": "temperature_stream = [68, 70, 72, 75, 74, 59, 78, 79]",
   "id": "a549b3987ab74d72",
   "outputs": [],
   "execution_count": 62
  },
  {
   "metadata": {
    "ExecuteTime": {
     "end_time": "2025-05-17T16:08:59.403590Z",
     "start_time": "2025-05-17T16:08:59.401131Z"
    }
   },
   "cell_type": "code",
   "source": "window = deque(maxlen=5)",
   "id": "82141f6feb319df0",
   "outputs": [],
   "execution_count": 63
  },
  {
   "metadata": {
    "ExecuteTime": {
     "end_time": "2025-05-17T16:08:59.463091Z",
     "start_time": "2025-05-17T16:08:59.460719Z"
    }
   },
   "cell_type": "code",
   "source": "backup = None",
   "id": "a2b25e2d21ec99e6",
   "outputs": [],
   "execution_count": 64
  },
  {
   "metadata": {
    "ExecuteTime": {
     "end_time": "2025-05-17T16:08:59.542116Z",
     "start_time": "2025-05-17T16:08:59.538088Z"
    }
   },
   "cell_type": "code",
   "source": [
    "for i, reading in enumerate(temperature_stream):\n",
    "    window.append(reading)\n",
    "    \n",
    "    if i == 4:\n",
    "        backup = window.copy()\n",
    "        print(f'Backup saved: {list(backup)}')\n",
    "\n",
    "    if reading < 60:\n",
    "        print(f' XXX Fault Detected! at Reading: {reading}. Rolling back ...')\n",
    "        window = backup.copy()\n",
    "        \n",
    "    avg = round(sum(window) / len(window), 2)\n",
    "    \n",
    "    print(f'Reading: {reading} -> Window: {window} -> Average: {avg}')"
   ],
   "id": "c1a9f346216743ca",
   "outputs": [
    {
     "name": "stdout",
     "output_type": "stream",
     "text": [
      "Reading: 68 -> Window: deque([68], maxlen=5) -> Average: 68.0\n",
      "Reading: 70 -> Window: deque([68, 70], maxlen=5) -> Average: 69.0\n",
      "Reading: 72 -> Window: deque([68, 70, 72], maxlen=5) -> Average: 70.0\n",
      "Reading: 75 -> Window: deque([68, 70, 72, 75], maxlen=5) -> Average: 71.25\n",
      "Backup saved: [68, 70, 72, 75, 74]\n",
      "Reading: 74 -> Window: deque([68, 70, 72, 75, 74], maxlen=5) -> Average: 71.8\n",
      " XXX Fault Detected! at Reading: 59. Rolling back ...\n",
      "Reading: 59 -> Window: deque([68, 70, 72, 75, 74], maxlen=5) -> Average: 71.8\n",
      "Reading: 78 -> Window: deque([70, 72, 75, 74, 78], maxlen=5) -> Average: 73.8\n",
      "Reading: 79 -> Window: deque([72, 75, 74, 78, 79], maxlen=5) -> Average: 75.6\n"
     ]
    }
   ],
   "execution_count": 65
  },
  {
   "metadata": {},
   "cell_type": "markdown",
   "source": [
    "## **Exercise 3.8: Multiple Sliding Windows (Parallel Sensor Monitoring)**\n",
    "\n",
    "### **Problem**:\n",
    "\n",
    "You have two parallel sensors:\n",
    "\n",
    "* **Temperature** readings\n",
    "* **Pressure** readings\n",
    "\n",
    "Simulate both streams with synchronized sliding windows using two `deque(maxlen=3)` objects.\n",
    "For each time step, compute the **rolling average** of both temperature and pressure.\n",
    "\n",
    "\n",
    "\n",
    "### 🔧 Sample Streams:\n",
    "\n",
    "```python\n",
    "temperature_stream = [68, 70, 72, 75, 74, 76]\n",
    "pressure_stream    = [102, 101, 100, 99, 101, 102]\n",
    "```\n",
    "\n",
    "### Sample Output:\n",
    "\n",
    "```\n",
    "Temp: 68 → [68] → Avg: 68.00 | Pres: 102 → [102] → Avg: 102.00  \n",
    "Temp: 70 → [68, 70] → Avg: 69.00 | Pres: 101 → [102, 101] → Avg: 101.50  \n",
    "Temp: 72 → [68, 70, 72] → Avg: 70.00 | Pres: 100 → [102, 101, 100] → Avg: 101.00  \n",
    "...\n",
    "```\n",
    "\n",
    "\n",
    "\n",
    "### Real-World Relevance:\n",
    "\n",
    "This simulates **multiple sensor tracks**, such as:\n",
    "\n",
    "* **Melt temperature** + **Injection pressure**\n",
    "* **Cycle time** + **Cooling water temp**\n",
    "* Or any time-synchronized multi-parameter data\n",
    "\n",
    "You can even extend this to dictionaries and timestamps later.\n",
    "\n"
   ],
   "id": "3d3306220af115f1"
  },
  {
   "metadata": {
    "ExecuteTime": {
     "end_time": "2025-05-17T16:08:59.571907Z",
     "start_time": "2025-05-17T16:08:59.568980Z"
    }
   },
   "cell_type": "code",
   "source": [
    "temperature_stream = [68, 70, 72, 75, 74, 76]\n",
    "pressure_stream    = [102, 101, 100, 99, 101, 102]"
   ],
   "id": "f7dabdc5b62f085",
   "outputs": [],
   "execution_count": 66
  },
  {
   "metadata": {
    "ExecuteTime": {
     "end_time": "2025-05-17T16:08:59.633868Z",
     "start_time": "2025-05-17T16:08:59.631595Z"
    }
   },
   "cell_type": "code",
   "source": "temp_window = deque(maxlen=5)",
   "id": "4cf5b5de1c43360c",
   "outputs": [],
   "execution_count": 67
  },
  {
   "metadata": {
    "ExecuteTime": {
     "end_time": "2025-05-17T16:08:59.660352Z",
     "start_time": "2025-05-17T16:08:59.657957Z"
    }
   },
   "cell_type": "code",
   "source": "press_window = deque(maxlen=5)",
   "id": "c33293a873bb06b",
   "outputs": [],
   "execution_count": 68
  },
  {
   "metadata": {
    "ExecuteTime": {
     "end_time": "2025-05-17T16:08:59.696310Z",
     "start_time": "2025-05-17T16:08:59.692614Z"
    }
   },
   "cell_type": "code",
   "source": [
    "for temp, press in zip(temperature_stream, pressure_stream):\n",
    "    temp_window.append(temp)\n",
    "    press_window.append(press)\n",
    "    \n",
    "    temp_avg = round(sum(temp_window) / len(temp_window), 2)\n",
    "    press_avg = round(sum(press_window) / len(press_window), 2)\n",
    "    \n",
    "    print(f'Temp: {temp} -> {list(temp_window)} -> Average: {temp_avg} | Press: {press} -> {list(press_window)} -> Average: {press_avg}')"
   ],
   "id": "cbe786a57786eea5",
   "outputs": [
    {
     "name": "stdout",
     "output_type": "stream",
     "text": [
      "Temp: 68 -> [68] -> Average: 68.0 | Press: 102 -> [102] -> Average: 102.0\n",
      "Temp: 70 -> [68, 70] -> Average: 69.0 | Press: 101 -> [102, 101] -> Average: 101.5\n",
      "Temp: 72 -> [68, 70, 72] -> Average: 70.0 | Press: 100 -> [102, 101, 100] -> Average: 101.0\n",
      "Temp: 75 -> [68, 70, 72, 75] -> Average: 71.25 | Press: 99 -> [102, 101, 100, 99] -> Average: 100.5\n",
      "Temp: 74 -> [68, 70, 72, 75, 74] -> Average: 71.8 | Press: 101 -> [102, 101, 100, 99, 101] -> Average: 100.6\n",
      "Temp: 76 -> [70, 72, 75, 74, 76] -> Average: 73.4 | Press: 102 -> [101, 100, 99, 101, 102] -> Average: 100.6\n"
     ]
    }
   ],
   "execution_count": 69
  },
  {
   "metadata": {},
   "cell_type": "markdown",
   "source": [
    "## **Exercise 3.9: Record Peak + Timestamp using Tuples**\n",
    "\n",
    "### **Problem**:\n",
    "\n",
    "Simulate a sensor that records `(timestamp, value)` tuples.\n",
    "Use `deque(maxlen=5)` to maintain the **last 5 readings**, and print the **highest reading so far**, along with its timestamp.\n",
    "\n",
    "\n",
    "\n",
    "### Sample Input (timestamp, temperature):\n",
    "\n",
    "```python\n",
    "temperature_stream = [\n",
    "    (\"08:00\", 68),\n",
    "    (\"08:01\", 70),\n",
    "    (\"08:02\", 72),\n",
    "    (\"08:03\", 75),\n",
    "    (\"08:04\", 74),\n",
    "    (\"08:05\", 76),\n",
    "    (\"08:06\", 73)\n",
    "]\n",
    "```\n",
    "\n",
    "\n",
    "\n",
    "\n",
    "### Expected Output:\n",
    "\n",
    "```\n",
    "Reading: (08:00, 68) → Window: [('08:00', 68)] → Peak: 68 at 08:00  \n",
    "Reading: (08:01, 70) → Window: [('08:00', 68), ('08:01', 70)] → Peak: 70 at 08:01  \n",
    "Reading: (08:02, 72) → ... → Peak: 72 at 08:02  \n",
    "Reading: (08:03, 75) → ... → Peak: 75 at 08:03  \n",
    "Reading: (08:04, 74) → ... → Peak: 75 at 08:03  \n",
    "Reading: (08:05, 76) → ... → Peak: 76 at 08:05  \n",
    "Reading: (08:06, 73) → ... → Peak: 76 at 08:05  \n",
    "```\n",
    "\n",
    "\n",
    "\n",
    "### What You’ve Just Learned:\n",
    "\n",
    "* Storing **structured data** in a `deque` (not just numbers!)\n",
    "* Using `max()` with a custom `key` to extract **peaks from tuples**\n",
    "* Tracking both **value and time** for better diagnostics and reporting\n",
    "\n",
    "This is exactly how timestamped logs are summarized in real dashboards and quality control tools!"
   ],
   "id": "212d2d89b8c45a0e"
  },
  {
   "metadata": {
    "ExecuteTime": {
     "end_time": "2025-05-17T16:08:59.764430Z",
     "start_time": "2025-05-17T16:08:59.761562Z"
    }
   },
   "cell_type": "code",
   "source": [
    "temperature_stream = [\n",
    "    (\"08:00\", 68),\n",
    "    (\"08:01\", 70),\n",
    "    (\"08:02\", 72),\n",
    "    (\"08:03\", 75),\n",
    "    (\"08:04\", 74),\n",
    "    (\"08:05\", 76),\n",
    "    (\"08:06\", 73)\n",
    "]"
   ],
   "id": "96b5f1e57381dca6",
   "outputs": [],
   "execution_count": 70
  },
  {
   "metadata": {
    "ExecuteTime": {
     "end_time": "2025-05-17T16:08:59.777312Z",
     "start_time": "2025-05-17T16:08:59.774918Z"
    }
   },
   "cell_type": "code",
   "source": "window = deque(maxlen=5)",
   "id": "4e61f04ab7f99599",
   "outputs": [],
   "execution_count": 71
  },
  {
   "metadata": {
    "ExecuteTime": {
     "end_time": "2025-05-17T16:08:59.801530Z",
     "start_time": "2025-05-17T16:08:59.798462Z"
    }
   },
   "cell_type": "code",
   "source": [
    "for timestamp, temp in temperature_stream:\n",
    "    window.append((timestamp, temp))\n",
    "    \n",
    "    peak = max(window, key=lambda x: x[1])\n",
    "    # What max() Does:\n",
    "    # max(iterable, key=...) goes through each element in the iterable (here: deque) and uses the key function to decide how to compare elements.\n",
    "    # The key=lambda x: x[1] means:\n",
    "    # \"Compare each tuple using only the temperature value (x[1]) to find the maximum.\"\n",
    "    # Similar Usage:\n",
    "    # min(window, key=lambda x: x[1])    # Find min temperature\n",
    "    # sorted(window, key=lambda x: x[1]) # Sort by temperature\n",
    "    \n",
    "    print(f'Reading: {(timestamp, temp)} -> Window: {list(window)} -> Peak: {peak[1]} at {peak[0]}')"
   ],
   "id": "6f26db4e8bde9c96",
   "outputs": [
    {
     "name": "stdout",
     "output_type": "stream",
     "text": [
      "Reading: ('08:00', 68) -> Window: [('08:00', 68)] -> Peak: 68 at 08:00\n",
      "Reading: ('08:01', 70) -> Window: [('08:00', 68), ('08:01', 70)] -> Peak: 70 at 08:01\n",
      "Reading: ('08:02', 72) -> Window: [('08:00', 68), ('08:01', 70), ('08:02', 72)] -> Peak: 72 at 08:02\n",
      "Reading: ('08:03', 75) -> Window: [('08:00', 68), ('08:01', 70), ('08:02', 72), ('08:03', 75)] -> Peak: 75 at 08:03\n",
      "Reading: ('08:04', 74) -> Window: [('08:00', 68), ('08:01', 70), ('08:02', 72), ('08:03', 75), ('08:04', 74)] -> Peak: 75 at 08:03\n",
      "Reading: ('08:05', 76) -> Window: [('08:01', 70), ('08:02', 72), ('08:03', 75), ('08:04', 74), ('08:05', 76)] -> Peak: 76 at 08:05\n",
      "Reading: ('08:06', 73) -> Window: [('08:02', 72), ('08:03', 75), ('08:04', 74), ('08:05', 76), ('08:06', 73)] -> Peak: 76 at 08:05\n"
     ]
    }
   ],
   "execution_count": 72
  },
  {
   "metadata": {},
   "cell_type": "markdown",
   "source": [
    "## **Exercise 3.10: Sliding Variance and Anomaly Flagging**\n",
    "\n",
    "### **Problem**:\n",
    "\n",
    "Using a sliding window of the last 5 temperature readings, calculate:\n",
    "\n",
    "* **Rolling average**\n",
    "* **Rolling variance**\n",
    "* Flag readings that **deviate from the mean by more than 1.5× standard deviation**\n",
    "\n",
    "\n",
    "\n",
    "### Concepts:\n",
    "\n",
    "* **Mean (μ)** = average of the values\n",
    "* **Variance (σ²)** = average of squared differences from the mean\n",
    "* **Standard Deviation (σ)** = √variance\n",
    "* A value is considered **anomalous** if:\n",
    "\n",
    "  $$\n",
    "  |reading - \\mu| > 1.5 \\cdot \\sigma\n",
    "  $$\n",
    "\n",
    "\n",
    "\n",
    "### Sample Readings:\n",
    "\n",
    "```python\n",
    "temperature_readings = [68, 70, 72, 75, 74, 80, 65, 78]\n",
    "```\n",
    "\n",
    "### Sample Output:\n",
    "\n",
    "```\n",
    "Reading: 68 → Window: [68] (waiting for more data...)\n",
    "Reading: 70 → Window: [68, 70] → Avg: 69.00 → Std Dev: 1.00 → Deviation: 1.00\n",
    "Reading: 72 → Window: [68, 70, 72] → Avg: 70.00 → Std Dev: 1.63 → Deviation: 2.00\n",
    "Reading: 75 → Window: [68, 70, 72, 75] → Avg: 71.25 → Std Dev: 2.59 → Deviation: 3.75 ⚠️ Anomaly\n",
    "...\n",
    "```\n",
    "\n",
    "\n",
    "\n",
    "### Skills Learned:\n",
    "\n",
    "* Calculate variance and standard deviation using `deque`\n",
    "* Detect **outliers in real-time**\n",
    "* Build a framework for intelligent QA/SCADA alerting logic\n",
    "\n",
    "\n"
   ],
   "id": "96a0eff38463d2b7"
  },
  {
   "metadata": {
    "ExecuteTime": {
     "end_time": "2025-05-17T16:08:59.893661Z",
     "start_time": "2025-05-17T16:08:59.891206Z"
    }
   },
   "cell_type": "code",
   "source": "temperature_readings = [68, 70, 72, 75, 74, 80, 65, 78]",
   "id": "9071d4f774da5920",
   "outputs": [],
   "execution_count": 73
  },
  {
   "metadata": {
    "ExecuteTime": {
     "end_time": "2025-05-17T16:08:59.925032Z",
     "start_time": "2025-05-17T16:08:59.922535Z"
    }
   },
   "cell_type": "code",
   "source": "window = deque(maxlen=5)",
   "id": "acd9494ae83904e",
   "outputs": [],
   "execution_count": 74
  },
  {
   "metadata": {
    "ExecuteTime": {
     "end_time": "2025-05-17T16:08:59.985011Z",
     "start_time": "2025-05-17T16:08:59.980680Z"
    }
   },
   "cell_type": "code",
   "source": [
    "for reading in temperature_readings:\n",
    "    window.append(reading)\n",
    "    \n",
    "    if len(window) >= 2:\n",
    "        mean = sum(window) / len(window)\n",
    "        variance = sum((x - mean) ** 2 for x in window) / len(window)\n",
    "        std_dev = math.sqrt(variance)\n",
    "        \n",
    "        deviation = abs(reading - mean)\n",
    "        is_anomaly = deviation > 1.5 * std_dev\n",
    "        \n",
    "        print(f'Reading: {reading} -> Window: {list(window)} -> {\"⚠️ Anomaly\" if is_anomaly else \"\" }')\n",
    "    else:\n",
    "        print(f'Reading: {reading} -> Window: {list(window)} (waiting for more data.....)')\n",
    "    \n",
    "    "
   ],
   "id": "17043e3a17f20936",
   "outputs": [
    {
     "name": "stdout",
     "output_type": "stream",
     "text": [
      "Reading: 68 -> Window: [68] (waiting for more data.....)\n",
      "Reading: 70 -> Window: [68, 70] -> \n",
      "Reading: 72 -> Window: [68, 70, 72] -> \n",
      "Reading: 75 -> Window: [68, 70, 72, 75] -> \n",
      "Reading: 74 -> Window: [68, 70, 72, 75, 74] -> \n",
      "Reading: 80 -> Window: [70, 72, 75, 74, 80] -> ⚠️ Anomaly\n",
      "Reading: 65 -> Window: [72, 75, 74, 80, 65] -> ⚠️ Anomaly\n",
      "Reading: 78 -> Window: [75, 74, 80, 65, 78] -> \n"
     ]
    }
   ],
   "execution_count": 75
  },
  {
   "metadata": {},
   "cell_type": "markdown",
   "source": [
    "# 🏭 **LEVEL 4: Real Dataset – Injection Molding (365 Days)**\n",
    "\n",
    "> `injection_mold_365day_dataset.csv`\n",
    "\n",
    "\n",
    "\n",
    "## 🔍 Step 1: What We’ll Do in Level 4\n",
    "\n",
    "| Exercise | Title                                                | Focus                                   |\n",
    "| -------- | ---------------------------------------------------- | --------------------------------------- |\n",
    "| 4.1      | Load and Inspect Dataset                             | Understand structure + preview          |\n",
    "| 4.2      | Rolling Average per Field (Temperature, Pressure...) | `deque(maxlen=5)` for each sensor       |\n",
    "| 4.3      | Detect Outliers from Rolling Mean                    | Compare live vs. mean (threshold logic) |\n",
    "| 4.4      | Flag Simultaneous Spikes in Multiple Fields          | Parallel deque tracking                 |\n",
    "| 4.5      | Rolling Mean + Variance Dashboard                    | Combine stats for real monitoring       |\n",
    "| 4.6      | Record Critical Events (Timestamp + Field + Value)   | Save anomalies as logs (tuples)         |\n",
    "| 4.7      | Reset Window After Shutdown                          | Clear `deque` on reset trigger          |\n",
    "| 4.8      | Compare Current Week vs Last Week Stats              | Weekly deque sliding comparison         |\n",
    "\n"
   ],
   "id": "3b48deee9268ba3"
  },
  {
   "metadata": {},
   "cell_type": "markdown",
   "source": [
    "## 🧪 Exercise 4.1: Load and Inspect Dataset\n",
    "\n",
    "Let’s begin by loading and previewing the dataset.\n",
    "### What to Look For:\n",
    "\n",
    "* Which fields are numeric (e.g. `Temperature`, `Pressure`, `CycleTime`, etc.)\n",
    "* Do we have a `Date` or `Time` field?\n",
    "* Any missing or suspicious values?\n"
   ],
   "id": "f223ec4f3a15907f"
  },
  {
   "metadata": {
    "ExecuteTime": {
     "end_time": "2025-05-17T16:09:00.039377Z",
     "start_time": "2025-05-17T16:09:00.018486Z"
    }
   },
   "cell_type": "code",
   "source": "df = pd.read_csv('injection_mold_365day_dataset.csv')",
   "id": "263d5796e6134e15",
   "outputs": [],
   "execution_count": 76
  },
  {
   "metadata": {
    "ExecuteTime": {
     "end_time": "2025-05-17T16:09:00.067180Z",
     "start_time": "2025-05-17T16:09:00.063560Z"
    }
   },
   "cell_type": "code",
   "source": "df.columns.to_list()",
   "id": "a8ee4c33f91624c5",
   "outputs": [
    {
     "data": {
      "text/plain": [
       "['Date',\n",
       " 'Shift',\n",
       " 'Mold ID',\n",
       " 'Part Name',\n",
       " 'Wear Level (%)',\n",
       " 'Surface Roughness (Ra μm)',\n",
       " 'Clearance (mm)',\n",
       " 'Alignment Accuracy (mm)',\n",
       " 'Leak Check',\n",
       " 'Corrosion',\n",
       " 'Crack Detected',\n",
       " 'Function Test',\n",
       " 'Lubrication Status',\n",
       " 'Pass/Fail']"
      ]
     },
     "execution_count": 77,
     "metadata": {},
     "output_type": "execute_result"
    }
   ],
   "execution_count": 77
  },
  {
   "metadata": {
    "ExecuteTime": {
     "end_time": "2025-05-17T16:09:00.099932Z",
     "start_time": "2025-05-17T16:09:00.092442Z"
    }
   },
   "cell_type": "code",
   "source": "numeric_cols = df.select_dtypes(include='number').columns.tolist()",
   "id": "a452234c0cad1dcf",
   "outputs": [],
   "execution_count": 78
  },
  {
   "metadata": {
    "ExecuteTime": {
     "end_time": "2025-05-17T16:09:00.125644Z",
     "start_time": "2025-05-17T16:09:00.122513Z"
    }
   },
   "cell_type": "code",
   "source": "numeric_cols",
   "id": "52b77241cfc30cc1",
   "outputs": [
    {
     "data": {
      "text/plain": [
       "['Wear Level (%)',\n",
       " 'Surface Roughness (Ra μm)',\n",
       " 'Clearance (mm)',\n",
       " 'Alignment Accuracy (mm)']"
      ]
     },
     "execution_count": 79,
     "metadata": {},
     "output_type": "execute_result"
    }
   ],
   "execution_count": 79
  },
  {
   "metadata": {
    "ExecuteTime": {
     "end_time": "2025-05-17T16:09:00.172412Z",
     "start_time": "2025-05-17T16:09:00.159221Z"
    }
   },
   "cell_type": "code",
   "source": "df.info()",
   "id": "adb6cbb010ccbc0b",
   "outputs": [
    {
     "name": "stdout",
     "output_type": "stream",
     "text": [
      "<class 'pandas.core.frame.DataFrame'>\n",
      "RangeIndex: 2190 entries, 0 to 2189\n",
      "Data columns (total 14 columns):\n",
      " #   Column                     Non-Null Count  Dtype  \n",
      "---  ------                     --------------  -----  \n",
      " 0   Date                       2190 non-null   object \n",
      " 1   Shift                      2190 non-null   object \n",
      " 2   Mold ID                    2190 non-null   object \n",
      " 3   Part Name                  2190 non-null   object \n",
      " 4   Wear Level (%)             2190 non-null   float64\n",
      " 5   Surface Roughness (Ra μm)  2190 non-null   float64\n",
      " 6   Clearance (mm)             2190 non-null   float64\n",
      " 7   Alignment Accuracy (mm)    2190 non-null   float64\n",
      " 8   Leak Check                 2190 non-null   object \n",
      " 9   Corrosion                  1658 non-null   object \n",
      " 10  Crack Detected             2190 non-null   object \n",
      " 11  Function Test              2190 non-null   object \n",
      " 12  Lubrication Status         2190 non-null   object \n",
      " 13  Pass/Fail                  2190 non-null   object \n",
      "dtypes: float64(4), object(10)\n",
      "memory usage: 239.7+ KB\n"
     ]
    }
   ],
   "execution_count": 80
  },
  {
   "metadata": {
    "ExecuteTime": {
     "end_time": "2025-05-17T16:09:00.211322Z",
     "start_time": "2025-05-17T16:09:00.196508Z"
    }
   },
   "cell_type": "code",
   "source": "df.head(5)",
   "id": "83db8c030646600b",
   "outputs": [
    {
     "data": {
      "text/plain": [
       "         Date    Shift  Mold ID       Part Name  Wear Level (%)  \\\n",
       "0  2025-01-01  Shift 1  MOLD741       Guide Pin            60.8   \n",
       "1  2025-01-01  Shift 1  MOLD742      Core Plate            43.5   \n",
       "2  2025-01-01  Shift 1  MOLD560  Runner Channel            15.0   \n",
       "3  2025-01-01  Shift 2  MOLD126  Support Pillar            68.7   \n",
       "4  2025-01-01  Shift 2  MOLD727      Core Plate            53.7   \n",
       "\n",
       "   Surface Roughness (Ra μm)  Clearance (mm)  Alignment Accuracy (mm)  \\\n",
       "0                       1.03           0.323                    0.076   \n",
       "1                       0.28           0.339                    0.188   \n",
       "2                       0.57           0.418                    0.128   \n",
       "3                       0.47           0.109                    0.045   \n",
       "4                       0.41           0.351                    0.181   \n",
       "\n",
       "  Leak Check Corrosion Crack Detected Function Test Lubrication Status  \\\n",
       "0       Pass    Severe             No          Fail      Needs Reapply   \n",
       "1       Pass  Moderate            Yes          Fail               Good   \n",
       "2       Fail  Moderate            Yes          Pass      Needs Reapply   \n",
       "3       Pass  Moderate             No          Pass               Good   \n",
       "4       Fail  Moderate            Yes          Fail      Needs Reapply   \n",
       "\n",
       "  Pass/Fail  \n",
       "0      Fail  \n",
       "1      Fail  \n",
       "2      Pass  \n",
       "3      Pass  \n",
       "4      Fail  "
      ],
      "text/html": [
       "<div>\n",
       "<style scoped>\n",
       "    .dataframe tbody tr th:only-of-type {\n",
       "        vertical-align: middle;\n",
       "    }\n",
       "\n",
       "    .dataframe tbody tr th {\n",
       "        vertical-align: top;\n",
       "    }\n",
       "\n",
       "    .dataframe thead th {\n",
       "        text-align: right;\n",
       "    }\n",
       "</style>\n",
       "<table border=\"1\" class=\"dataframe\">\n",
       "  <thead>\n",
       "    <tr style=\"text-align: right;\">\n",
       "      <th></th>\n",
       "      <th>Date</th>\n",
       "      <th>Shift</th>\n",
       "      <th>Mold ID</th>\n",
       "      <th>Part Name</th>\n",
       "      <th>Wear Level (%)</th>\n",
       "      <th>Surface Roughness (Ra μm)</th>\n",
       "      <th>Clearance (mm)</th>\n",
       "      <th>Alignment Accuracy (mm)</th>\n",
       "      <th>Leak Check</th>\n",
       "      <th>Corrosion</th>\n",
       "      <th>Crack Detected</th>\n",
       "      <th>Function Test</th>\n",
       "      <th>Lubrication Status</th>\n",
       "      <th>Pass/Fail</th>\n",
       "    </tr>\n",
       "  </thead>\n",
       "  <tbody>\n",
       "    <tr>\n",
       "      <th>0</th>\n",
       "      <td>2025-01-01</td>\n",
       "      <td>Shift 1</td>\n",
       "      <td>MOLD741</td>\n",
       "      <td>Guide Pin</td>\n",
       "      <td>60.8</td>\n",
       "      <td>1.03</td>\n",
       "      <td>0.323</td>\n",
       "      <td>0.076</td>\n",
       "      <td>Pass</td>\n",
       "      <td>Severe</td>\n",
       "      <td>No</td>\n",
       "      <td>Fail</td>\n",
       "      <td>Needs Reapply</td>\n",
       "      <td>Fail</td>\n",
       "    </tr>\n",
       "    <tr>\n",
       "      <th>1</th>\n",
       "      <td>2025-01-01</td>\n",
       "      <td>Shift 1</td>\n",
       "      <td>MOLD742</td>\n",
       "      <td>Core Plate</td>\n",
       "      <td>43.5</td>\n",
       "      <td>0.28</td>\n",
       "      <td>0.339</td>\n",
       "      <td>0.188</td>\n",
       "      <td>Pass</td>\n",
       "      <td>Moderate</td>\n",
       "      <td>Yes</td>\n",
       "      <td>Fail</td>\n",
       "      <td>Good</td>\n",
       "      <td>Fail</td>\n",
       "    </tr>\n",
       "    <tr>\n",
       "      <th>2</th>\n",
       "      <td>2025-01-01</td>\n",
       "      <td>Shift 1</td>\n",
       "      <td>MOLD560</td>\n",
       "      <td>Runner Channel</td>\n",
       "      <td>15.0</td>\n",
       "      <td>0.57</td>\n",
       "      <td>0.418</td>\n",
       "      <td>0.128</td>\n",
       "      <td>Fail</td>\n",
       "      <td>Moderate</td>\n",
       "      <td>Yes</td>\n",
       "      <td>Pass</td>\n",
       "      <td>Needs Reapply</td>\n",
       "      <td>Pass</td>\n",
       "    </tr>\n",
       "    <tr>\n",
       "      <th>3</th>\n",
       "      <td>2025-01-01</td>\n",
       "      <td>Shift 2</td>\n",
       "      <td>MOLD126</td>\n",
       "      <td>Support Pillar</td>\n",
       "      <td>68.7</td>\n",
       "      <td>0.47</td>\n",
       "      <td>0.109</td>\n",
       "      <td>0.045</td>\n",
       "      <td>Pass</td>\n",
       "      <td>Moderate</td>\n",
       "      <td>No</td>\n",
       "      <td>Pass</td>\n",
       "      <td>Good</td>\n",
       "      <td>Pass</td>\n",
       "    </tr>\n",
       "    <tr>\n",
       "      <th>4</th>\n",
       "      <td>2025-01-01</td>\n",
       "      <td>Shift 2</td>\n",
       "      <td>MOLD727</td>\n",
       "      <td>Core Plate</td>\n",
       "      <td>53.7</td>\n",
       "      <td>0.41</td>\n",
       "      <td>0.351</td>\n",
       "      <td>0.181</td>\n",
       "      <td>Fail</td>\n",
       "      <td>Moderate</td>\n",
       "      <td>Yes</td>\n",
       "      <td>Fail</td>\n",
       "      <td>Needs Reapply</td>\n",
       "      <td>Fail</td>\n",
       "    </tr>\n",
       "  </tbody>\n",
       "</table>\n",
       "</div>"
      ]
     },
     "execution_count": 81,
     "metadata": {},
     "output_type": "execute_result"
    }
   ],
   "execution_count": 81
  },
  {
   "metadata": {},
   "cell_type": "markdown",
   "source": [
    "## **Exercise 4.2: Rolling Average per Numeric Field**\n",
    "\n",
    "### Goal:\n",
    "\n",
    "Use `deque(maxlen=5)` to calculate the **5-day rolling average** for each of the following fields:\n",
    "\n",
    "* Wear Level (%)\n",
    "* Surface Roughness (Ra μm)\n",
    "* Clearance (mm)\n",
    "* Alignment Accuracy (mm)\n",
    "\n",
    "\n",
    "### Sample Output:\n",
    "\n",
    "```\n",
    "Date: 01-01 → Wear Level (%) Avg: 60.80 | Surface Roughness (Ra μm) Avg: 1.03 | ...\n",
    "Date: 01-02 → Wear Level (%) Avg: 52.15 | Surface Roughness (Ra μm) Avg: 0.66 | ...\n",
    "...\n",
    "```\n",
    "\n",
    "\n",
    "\n",
    "### 🧠 What You’re Learning:\n",
    "\n",
    "* Applying `deque` to multiple fields simultaneously\n",
    "* Building a rolling analytics tool over real manufacturing data\n",
    "* Prepping for anomaly detection based on rolling metrics"
   ],
   "id": "a5c14a7af5298a4c"
  },
  {
   "metadata": {
    "ExecuteTime": {
     "end_time": "2025-05-17T16:13:21.417962Z",
     "start_time": "2025-05-17T16:13:21.414853Z"
    }
   },
   "cell_type": "code",
   "source": "fields = numeric_cols",
   "id": "80fe6cdb593e6c7a",
   "outputs": [],
   "execution_count": 82
  },
  {
   "metadata": {
    "ExecuteTime": {
     "end_time": "2025-05-17T16:13:26.271947Z",
     "start_time": "2025-05-17T16:13:26.268641Z"
    }
   },
   "cell_type": "code",
   "source": "fields",
   "id": "6acd330bab4f692d",
   "outputs": [
    {
     "data": {
      "text/plain": [
       "['Wear Level (%)',\n",
       " 'Surface Roughness (Ra μm)',\n",
       " 'Clearance (mm)',\n",
       " 'Alignment Accuracy (mm)']"
      ]
     },
     "execution_count": 83,
     "metadata": {},
     "output_type": "execute_result"
    }
   ],
   "execution_count": 83
  },
  {
   "metadata": {
    "ExecuteTime": {
     "end_time": "2025-05-17T16:14:28.708882Z",
     "start_time": "2025-05-17T16:14:28.706644Z"
    }
   },
   "cell_type": "code",
   "source": "rolling_windows = {field: deque(maxlen=5) for field in fields}",
   "id": "aae78855c385bbbe",
   "outputs": [],
   "execution_count": 84
  },
  {
   "metadata": {
    "ExecuteTime": {
     "end_time": "2025-05-17T16:18:03.178130Z",
     "start_time": "2025-05-17T16:18:03.172764Z"
    }
   },
   "cell_type": "code",
   "source": [
    "for idx, row in df.iterrows():\n",
    "    output = [f'Date: {row[\"Date\"]}']\n",
    "    \n",
    "    for field in fields:\n",
    "        value = row[field]\n",
    "        rolling_windows[field].append(value)\n",
    "        avg = sum(rolling_windows[field]) / len(rolling_windows[field])\n",
    "        output.append(f'{field} Avg: {avg:.2f}')\n",
    "        \n",
    "    print(' | '.join(output))\n",
    "    \n",
    "    if idx == 9:  # preview first 10 rows\n",
    "        break"
   ],
   "id": "5d13a2811544d864",
   "outputs": [
    {
     "name": "stdout",
     "output_type": "stream",
     "text": [
      "Date: 2025-01-01 | Wear Level (%) Avg: 60.80 | Surface Roughness (Ra μm) Avg: 1.03 | Clearance (mm) Avg: 0.32 | Alignment Accuracy (mm) Avg: 0.08\n",
      "Date: 2025-01-01 | Wear Level (%) Avg: 52.15 | Surface Roughness (Ra μm) Avg: 0.66 | Clearance (mm) Avg: 0.33 | Alignment Accuracy (mm) Avg: 0.13\n",
      "Date: 2025-01-01 | Wear Level (%) Avg: 39.77 | Surface Roughness (Ra μm) Avg: 0.63 | Clearance (mm) Avg: 0.36 | Alignment Accuracy (mm) Avg: 0.13\n",
      "Date: 2025-01-01 | Wear Level (%) Avg: 47.00 | Surface Roughness (Ra μm) Avg: 0.59 | Clearance (mm) Avg: 0.30 | Alignment Accuracy (mm) Avg: 0.11\n",
      "Date: 2025-01-01 | Wear Level (%) Avg: 48.34 | Surface Roughness (Ra μm) Avg: 0.55 | Clearance (mm) Avg: 0.31 | Alignment Accuracy (mm) Avg: 0.12\n",
      "Date: 2025-01-01 | Wear Level (%) Avg: 38.40 | Surface Roughness (Ra μm) Avg: 0.49 | Clearance (mm) Avg: 0.25 | Alignment Accuracy (mm) Avg: 0.14\n",
      "Date: 2025-01-02 | Wear Level (%) Avg: 43.48 | Surface Roughness (Ra μm) Avg: 0.47 | Clearance (mm) Avg: 0.28 | Alignment Accuracy (mm) Avg: 0.12\n",
      "Date: 2025-01-02 | Wear Level (%) Avg: 47.86 | Surface Roughness (Ra μm) Avg: 0.39 | Clearance (mm) Avg: 0.22 | Alignment Accuracy (mm) Avg: 0.10\n",
      "Date: 2025-01-02 | Wear Level (%) Avg: 49.90 | Surface Roughness (Ra μm) Avg: 0.34 | Clearance (mm) Avg: 0.26 | Alignment Accuracy (mm) Avg: 0.11\n",
      "Date: 2025-01-02 | Wear Level (%) Avg: 43.86 | Surface Roughness (Ra μm) Avg: 0.36 | Clearance (mm) Avg: 0.22 | Alignment Accuracy (mm) Avg: 0.08\n"
     ]
    }
   ],
   "execution_count": 86
  },
  {
   "metadata": {
    "ExecuteTime": {
     "end_time": "2025-05-17T16:09:00.618351Z",
     "start_time": "2025-05-17T16:09:00.616645Z"
    }
   },
   "cell_type": "code",
   "source": "",
   "id": "38b13cc31d9b6f4e",
   "outputs": [],
   "execution_count": 81
  },
  {
   "metadata": {
    "ExecuteTime": {
     "end_time": "2025-05-17T16:09:00.665155Z",
     "start_time": "2025-05-17T16:09:00.662571Z"
    }
   },
   "cell_type": "code",
   "source": "",
   "id": "33cfe611e9aee67c",
   "outputs": [],
   "execution_count": 81
  },
  {
   "metadata": {
    "ExecuteTime": {
     "end_time": "2025-05-17T16:09:00.733100Z",
     "start_time": "2025-05-17T16:09:00.731158Z"
    }
   },
   "cell_type": "code",
   "source": "",
   "id": "8c28138267cb9de2",
   "outputs": [],
   "execution_count": 81
  }
 ],
 "metadata": {
  "kernelspec": {
   "display_name": "Python 3",
   "language": "python",
   "name": "python3"
  },
  "language_info": {
   "codemirror_mode": {
    "name": "ipython",
    "version": 2
   },
   "file_extension": ".py",
   "mimetype": "text/x-python",
   "name": "python",
   "nbconvert_exporter": "python",
   "pygments_lexer": "ipython2",
   "version": "2.7.6"
  }
 },
 "nbformat": 4,
 "nbformat_minor": 5
}
