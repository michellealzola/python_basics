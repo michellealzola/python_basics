{
 "cells": [
  {
   "metadata": {},
   "cell_type": "markdown",
   "source": [
    "# `deque`\n",
    "\n",
    "### LEVEL 1: The Basics (No dataset yet)\n",
    "Goal: Understand how deque works, how it’s different from lists, and how to manipulate it.\n",
    "\n",
    "### Skills:\n",
    "- Creating a deque\n",
    "- Using append(), appendleft()\n",
    "- Using pop(), popleft()\n",
    "- Checking maxlen\n",
    "- Rotating the deque\n",
    "\n"
   ],
   "id": "2c8a06697efe1052"
  },
  {
   "metadata": {
    "ExecuteTime": {
     "end_time": "2025-05-16T15:49:23.421966Z",
     "start_time": "2025-05-16T15:49:23.419499Z"
    }
   },
   "cell_type": "code",
   "source": [
    "from collections import deque, defaultdict\n",
    "import pandas as pd"
   ],
   "id": "1bbde281cc69220d",
   "outputs": [],
   "execution_count": 56
  },
  {
   "metadata": {},
   "cell_type": "markdown",
   "source": [
    "### **1.1: Simple `deque` Creation**\n",
    "\n",
    "**Problem**: Create a deque from the list `[1, 2, 3]`. Append 4 at the end. Append 0 at the beginning.\n",
    "\n",
    "**Expected Output**:\n",
    "\n",
    "```python\n",
    "deque([0, 1, 2, 3, 4])\n",
    "```"
   ],
   "id": "149f671862fa8d9d"
  },
  {
   "metadata": {
    "ExecuteTime": {
     "end_time": "2025-05-16T15:49:23.697433Z",
     "start_time": "2025-05-16T15:49:23.694920Z"
    }
   },
   "cell_type": "code",
   "source": "dq = deque([1, 2, 3])",
   "id": "a89b25d60d60130c",
   "outputs": [],
   "execution_count": 57
  },
  {
   "metadata": {
    "ExecuteTime": {
     "end_time": "2025-05-16T15:49:23.725213Z",
     "start_time": "2025-05-16T15:49:23.722434Z"
    }
   },
   "cell_type": "code",
   "source": "dq.append(4)",
   "id": "b117d9d0f677708f",
   "outputs": [],
   "execution_count": 58
  },
  {
   "metadata": {
    "ExecuteTime": {
     "end_time": "2025-05-16T15:49:23.732491Z",
     "start_time": "2025-05-16T15:49:23.729290Z"
    }
   },
   "cell_type": "code",
   "source": "dq.appendleft(0)",
   "id": "80a7aefa1e758878",
   "outputs": [],
   "execution_count": 59
  },
  {
   "metadata": {
    "ExecuteTime": {
     "end_time": "2025-05-16T15:49:23.770495Z",
     "start_time": "2025-05-16T15:49:23.766927Z"
    }
   },
   "cell_type": "code",
   "source": "dq",
   "id": "6365c81368116d7b",
   "outputs": [
    {
     "data": {
      "text/plain": [
       "deque([0, 1, 2, 3, 4])"
      ]
     },
     "execution_count": 60,
     "metadata": {},
     "output_type": "execute_result"
    }
   ],
   "execution_count": 60
  },
  {
   "metadata": {},
   "cell_type": "markdown",
   "source": [
    "### **1.2: Popping Elements**\n",
    "\n",
    "**Problem**: From the deque above, remove an item from the right (`pop`) and the left (`popleft`).\n",
    "\n",
    "**Expected Output**:\n",
    "\n",
    "```python\n",
    "Removed from right: 4\n",
    "Removed from left: 0\n",
    "Remaining deque: deque([1, 2, 3])\n",
    "```"
   ],
   "id": "e86e05e8ead6442d"
  },
  {
   "metadata": {
    "ExecuteTime": {
     "end_time": "2025-05-16T15:49:23.818708Z",
     "start_time": "2025-05-16T15:49:23.815243Z"
    }
   },
   "cell_type": "code",
   "source": "dq.pop()",
   "id": "45f5eabc3c14e222",
   "outputs": [
    {
     "data": {
      "text/plain": [
       "4"
      ]
     },
     "execution_count": 61,
     "metadata": {},
     "output_type": "execute_result"
    }
   ],
   "execution_count": 61
  },
  {
   "metadata": {
    "ExecuteTime": {
     "end_time": "2025-05-16T15:49:23.845640Z",
     "start_time": "2025-05-16T15:49:23.842179Z"
    }
   },
   "cell_type": "code",
   "source": "dq.popleft()",
   "id": "a81f011b5ac5ac2d",
   "outputs": [
    {
     "data": {
      "text/plain": [
       "0"
      ]
     },
     "execution_count": 62,
     "metadata": {},
     "output_type": "execute_result"
    }
   ],
   "execution_count": 62
  },
  {
   "metadata": {
    "ExecuteTime": {
     "end_time": "2025-05-16T15:49:23.891647Z",
     "start_time": "2025-05-16T15:49:23.888413Z"
    }
   },
   "cell_type": "code",
   "source": "dq",
   "id": "f513ff7b835bf323",
   "outputs": [
    {
     "data": {
      "text/plain": [
       "deque([1, 2, 3])"
      ]
     },
     "execution_count": 63,
     "metadata": {},
     "output_type": "execute_result"
    }
   ],
   "execution_count": 63
  },
  {
   "metadata": {},
   "cell_type": "markdown",
   "source": [
    "### **1.3: Fixed-Length `deque`**\n",
    "\n",
    "**Problem**: Create a deque with `maxlen=3`. Append 10, 20, 30, then 40. What happens?\n",
    "\n",
    "**Expected Output**:\n",
    "\n",
    "```python\n",
    "deque([20, 30, 40])\n",
    "```"
   ],
   "id": "b84933db00e5e455"
  },
  {
   "metadata": {
    "ExecuteTime": {
     "end_time": "2025-05-16T15:49:23.909706Z",
     "start_time": "2025-05-16T15:49:23.907480Z"
    }
   },
   "cell_type": "code",
   "source": "dq2 = deque(maxlen=3)",
   "id": "e9aa6f3fe12ccec8",
   "outputs": [],
   "execution_count": 64
  },
  {
   "metadata": {
    "ExecuteTime": {
     "end_time": "2025-05-16T15:49:23.956918Z",
     "start_time": "2025-05-16T15:49:23.954314Z"
    }
   },
   "cell_type": "code",
   "source": "dq2.append(10)",
   "id": "1fb0fa317b4c229a",
   "outputs": [],
   "execution_count": 65
  },
  {
   "metadata": {
    "ExecuteTime": {
     "end_time": "2025-05-16T15:49:24.032526Z",
     "start_time": "2025-05-16T15:49:24.029175Z"
    }
   },
   "cell_type": "code",
   "source": "dq2",
   "id": "7cbc196525c809b9",
   "outputs": [
    {
     "data": {
      "text/plain": [
       "deque([10], maxlen=3)"
      ]
     },
     "execution_count": 66,
     "metadata": {},
     "output_type": "execute_result"
    }
   ],
   "execution_count": 66
  },
  {
   "metadata": {
    "ExecuteTime": {
     "end_time": "2025-05-16T15:49:24.053924Z",
     "start_time": "2025-05-16T15:49:24.051481Z"
    }
   },
   "cell_type": "code",
   "source": "dq2.append(20)",
   "id": "e288a9cbaf0a9e9a",
   "outputs": [],
   "execution_count": 67
  },
  {
   "metadata": {
    "ExecuteTime": {
     "end_time": "2025-05-16T15:49:24.082228Z",
     "start_time": "2025-05-16T15:49:24.078701Z"
    }
   },
   "cell_type": "code",
   "source": "dq2",
   "id": "8d9795650e34d5fa",
   "outputs": [
    {
     "data": {
      "text/plain": [
       "deque([10, 20], maxlen=3)"
      ]
     },
     "execution_count": 68,
     "metadata": {},
     "output_type": "execute_result"
    }
   ],
   "execution_count": 68
  },
  {
   "metadata": {
    "ExecuteTime": {
     "end_time": "2025-05-16T15:49:24.099831Z",
     "start_time": "2025-05-16T15:49:24.097506Z"
    }
   },
   "cell_type": "code",
   "source": "dq2.append(30)",
   "id": "a65a9f7294169afb",
   "outputs": [],
   "execution_count": 69
  },
  {
   "metadata": {
    "ExecuteTime": {
     "end_time": "2025-05-16T15:49:24.144262Z",
     "start_time": "2025-05-16T15:49:24.140820Z"
    }
   },
   "cell_type": "code",
   "source": "dq2",
   "id": "3a4adbe89648f0c4",
   "outputs": [
    {
     "data": {
      "text/plain": [
       "deque([10, 20, 30], maxlen=3)"
      ]
     },
     "execution_count": 70,
     "metadata": {},
     "output_type": "execute_result"
    }
   ],
   "execution_count": 70
  },
  {
   "metadata": {
    "ExecuteTime": {
     "end_time": "2025-05-16T15:49:24.188270Z",
     "start_time": "2025-05-16T15:49:24.185669Z"
    }
   },
   "cell_type": "code",
   "source": "dq2.append(40)",
   "id": "2e306f7b5de270b",
   "outputs": [],
   "execution_count": 71
  },
  {
   "metadata": {
    "ExecuteTime": {
     "end_time": "2025-05-16T15:49:24.212885Z",
     "start_time": "2025-05-16T15:49:24.209500Z"
    }
   },
   "cell_type": "code",
   "source": "dq2",
   "id": "d707a580d6730f58",
   "outputs": [
    {
     "data": {
      "text/plain": [
       "deque([20, 30, 40], maxlen=3)"
      ]
     },
     "execution_count": 72,
     "metadata": {},
     "output_type": "execute_result"
    }
   ],
   "execution_count": 72
  },
  {
   "metadata": {},
   "cell_type": "markdown",
   "source": [
    "**Explanation**: `deque` automatically removes the oldest item when full.\n",
    "\n",
    "\n",
    "\n",
    "### **1.4: Rotate Right**\n",
    "\n",
    "**Problem**: Rotate the deque `[1, 2, 3, 4, 5]` two steps to the right.\n",
    "\n",
    "**Expected Output**:\n",
    "\n",
    "```python\n",
    "deque([4, 5, 1, 2, 3])\n",
    "```\n"
   ],
   "id": "a8eca843b1166dff"
  },
  {
   "metadata": {},
   "cell_type": "markdown",
   "source": [
    "### What does rotate() do?\n",
    "The `rotate(n)` method shifts all elements in the deque:\n",
    "\n",
    "- If n > 0: rotates to the right\n",
    "- If n < 0: rotates to the left"
   ],
   "id": "7ef37b31ace8f762"
  },
  {
   "metadata": {
    "ExecuteTime": {
     "end_time": "2025-05-16T15:49:24.260910Z",
     "start_time": "2025-05-16T15:49:24.258203Z"
    }
   },
   "cell_type": "code",
   "source": "dq3 = deque([1, 2, 3, 4, 5])",
   "id": "1b4b898e92fe1f23",
   "outputs": [],
   "execution_count": 73
  },
  {
   "metadata": {
    "ExecuteTime": {
     "end_time": "2025-05-16T15:49:24.324567Z",
     "start_time": "2025-05-16T15:49:24.322015Z"
    }
   },
   "cell_type": "code",
   "source": "dq3.rotate(2)",
   "id": "ced338d6a9d74e62",
   "outputs": [],
   "execution_count": 74
  },
  {
   "metadata": {
    "ExecuteTime": {
     "end_time": "2025-05-16T15:49:24.340612Z",
     "start_time": "2025-05-16T15:49:24.337331Z"
    }
   },
   "cell_type": "code",
   "source": "dq3",
   "id": "d16b21f76bd749d2",
   "outputs": [
    {
     "data": {
      "text/plain": [
       "deque([4, 5, 1, 2, 3])"
      ]
     },
     "execution_count": 75,
     "metadata": {},
     "output_type": "execute_result"
    }
   ],
   "execution_count": 75
  },
  {
   "metadata": {},
   "cell_type": "markdown",
   "source": [
    "### What happened here?\n",
    "Initially: [1, 2, 3, 4, 5]\n",
    "\n",
    "- After rotating 1 step right: [5, 1, 2, 3, 4]\n",
    "- After rotating another step right: [4, 5, 1, 2, 3]\n",
    "- So the last two elements wrap around to the front."
   ],
   "id": "32a96b547ae47b58"
  },
  {
   "metadata": {},
   "cell_type": "markdown",
   "source": [
    "### **1.5: Rotate Left**\n",
    "\n",
    "**Problem**: Rotate the same deque two steps to the left.\n",
    "\n",
    "**Expected Output**:\n",
    "\n",
    "```python\n",
    "deque([3, 4, 5, 1, 2])\n",
    "```\n"
   ],
   "id": "b3fef34c0f101c1a"
  },
  {
   "metadata": {
    "ExecuteTime": {
     "end_time": "2025-05-16T15:49:24.349369Z",
     "start_time": "2025-05-16T15:49:24.346969Z"
    }
   },
   "cell_type": "code",
   "source": "dq4 = deque([1, 2, 3, 4, 5])",
   "id": "ec883c949fca912b",
   "outputs": [],
   "execution_count": 76
  },
  {
   "metadata": {
    "ExecuteTime": {
     "end_time": "2025-05-16T15:49:24.366188Z",
     "start_time": "2025-05-16T15:49:24.363763Z"
    }
   },
   "cell_type": "code",
   "source": "dq4.rotate(-2)",
   "id": "56e73af931aae612",
   "outputs": [],
   "execution_count": 77
  },
  {
   "metadata": {
    "ExecuteTime": {
     "end_time": "2025-05-16T15:49:24.426099Z",
     "start_time": "2025-05-16T15:49:24.422772Z"
    }
   },
   "cell_type": "code",
   "source": "dq4",
   "id": "c55e64b16774ef3f",
   "outputs": [
    {
     "data": {
      "text/plain": [
       "deque([3, 4, 5, 1, 2])"
      ]
     },
     "execution_count": 78,
     "metadata": {},
     "output_type": "execute_result"
    }
   ],
   "execution_count": 78
  },
  {
   "metadata": {},
   "cell_type": "markdown",
   "source": [
    "## LEVEL 2: Simulating Buffers and History (No real dataset yet)\n",
    "\n",
    "**Goal**: Practice sliding windows, buffering, and rollbacks.\n",
    "\n",
    "### Skills:\n",
    "\n",
    "* Using `deque(maxlen=N)` to track last N items\n",
    "* Using `appendleft()` to undo\n",
    "* Accessing items like a list\n"
   ],
   "id": "9fd19774d3d61052"
  },
  {
   "metadata": {},
   "cell_type": "markdown",
   "source": [
    "### **2.1: Last 3 Processed Items**\n",
    "\n",
    "**Problem**: Simulate a buffer tracking the last 3 parts that passed QA: 'P1', 'P2', 'P3', 'P4'\n",
    "\n",
    "**Expected Output**:\n",
    "\n",
    "```python\n",
    "deque(['P2', 'P3', 'P4'], maxlen=3)\n",
    "```"
   ],
   "id": "ec59bfc03052144f"
  },
  {
   "metadata": {
    "ExecuteTime": {
     "end_time": "2025-05-16T15:49:24.444539Z",
     "start_time": "2025-05-16T15:49:24.441894Z"
    }
   },
   "cell_type": "code",
   "source": "dq_buffer = deque(['P1', 'P2', 'P3', 'P4'], maxlen=3)",
   "id": "a604a79d1a021e71",
   "outputs": [],
   "execution_count": 79
  },
  {
   "metadata": {
    "ExecuteTime": {
     "end_time": "2025-05-16T15:49:24.491485Z",
     "start_time": "2025-05-16T15:49:24.488058Z"
    }
   },
   "cell_type": "code",
   "source": "dq_buffer",
   "id": "8c203edace690e84",
   "outputs": [
    {
     "data": {
      "text/plain": [
       "deque(['P2', 'P3', 'P4'], maxlen=3)"
      ]
     },
     "execution_count": 80,
     "metadata": {},
     "output_type": "execute_result"
    }
   ],
   "execution_count": 80
  },
  {
   "metadata": {},
   "cell_type": "markdown",
   "source": [
    "### **2.2: Undo the Last Action**\n",
    "\n",
    "**Problem**: Use `appendleft()` to push back 'P4' after it was mistakenly popped.\n",
    "\n",
    "**Expected Output**:\n",
    "\n",
    "```python\n",
    "deque(['P4', 'P2', 'P3'], maxlen=3)\n",
    "```"
   ],
   "id": "13291046a97c20dc"
  },
  {
   "metadata": {
    "ExecuteTime": {
     "end_time": "2025-05-16T15:49:24.523394Z",
     "start_time": "2025-05-16T15:49:24.520783Z"
    }
   },
   "cell_type": "code",
   "source": "dq_buffer.appendleft('P4')",
   "id": "35c97cd8b322fb46",
   "outputs": [],
   "execution_count": 81
  },
  {
   "metadata": {
    "ExecuteTime": {
     "end_time": "2025-05-16T15:49:24.545312Z",
     "start_time": "2025-05-16T15:49:24.541738Z"
    }
   },
   "cell_type": "code",
   "source": "dq_buffer",
   "id": "1cb96100d4ff3232",
   "outputs": [
    {
     "data": {
      "text/plain": [
       "deque(['P4', 'P2', 'P3'], maxlen=3)"
      ]
     },
     "execution_count": 82,
     "metadata": {},
     "output_type": "execute_result"
    }
   ],
   "execution_count": 82
  },
  {
   "metadata": {},
   "cell_type": "markdown",
   "source": [
    "### **2.3: History Tracker**\n",
    "\n",
    "**Problem**: Maintain the last 5 temperature readings in a machine: `[78, 79, 80, 81, 82, 83]`\n",
    "\n",
    "**Expected Output**:\n",
    "\n",
    "```python\n",
    "deque([79, 80, 81, 82, 83], maxlen=5)\n",
    "```\n"
   ],
   "id": "cef96447a2a71037"
  },
  {
   "metadata": {
    "ExecuteTime": {
     "end_time": "2025-05-16T15:49:24.571957Z",
     "start_time": "2025-05-16T15:49:24.569333Z"
    }
   },
   "cell_type": "code",
   "source": "dq_temp = deque([78, 79, 80, 81, 82, 83], maxlen=5)",
   "id": "e65e6f97eca3d140",
   "outputs": [],
   "execution_count": 83
  },
  {
   "metadata": {
    "ExecuteTime": {
     "end_time": "2025-05-16T15:49:24.612202Z",
     "start_time": "2025-05-16T15:49:24.608579Z"
    }
   },
   "cell_type": "code",
   "source": "dq_temp",
   "id": "d8a17c44890624c6",
   "outputs": [
    {
     "data": {
      "text/plain": [
       "deque([79, 80, 81, 82, 83], maxlen=5)"
      ]
     },
     "execution_count": 84,
     "metadata": {},
     "output_type": "execute_result"
    }
   ],
   "execution_count": 84
  },
  {
   "metadata": {},
   "cell_type": "markdown",
   "source": [
    "### **2.4: Sum of Last N**\n",
    "\n",
    "**Problem**: Calculate the sum of the last 3 added values: `[5, 6, 7, 8]` → use `deque(maxlen=3)`.\n",
    "\n",
    "**Expected Output**:\n",
    "\n",
    "```python\n",
    "Sum of last 3: 21  # (6+7+8)\n",
    "```"
   ],
   "id": "6d1b8bcd543c76d3"
  },
  {
   "metadata": {
    "ExecuteTime": {
     "end_time": "2025-05-16T15:49:24.654214Z",
     "start_time": "2025-05-16T15:49:24.651344Z"
    }
   },
   "cell_type": "code",
   "source": "dq_sum = sum(deque([5, 6, 7, 8], maxlen=3))",
   "id": "43acf7dc2ed33f40",
   "outputs": [],
   "execution_count": 85
  },
  {
   "metadata": {
    "ExecuteTime": {
     "end_time": "2025-05-16T15:49:24.683433Z",
     "start_time": "2025-05-16T15:49:24.680255Z"
    }
   },
   "cell_type": "code",
   "source": "dq_sum",
   "id": "52da3f3f5f631f86",
   "outputs": [
    {
     "data": {
      "text/plain": [
       "21"
      ]
     },
     "execution_count": 86,
     "metadata": {},
     "output_type": "execute_result"
    }
   ],
   "execution_count": 86
  },
  {
   "metadata": {},
   "cell_type": "markdown",
   "source": [
    "### **2.5: Use as Stack**\n",
    "\n",
    "**Problem**: Simulate a stack with `deque`. Push: `A, B, C`. Pop 1.\n",
    "\n",
    "**Expected Output**:\n",
    "\n",
    "```python\n",
    "deque(['A', 'B'])\n",
    "```"
   ],
   "id": "cc5a78ea8dbb2419"
  },
  {
   "metadata": {
    "ExecuteTime": {
     "end_time": "2025-05-16T15:49:24.703915Z",
     "start_time": "2025-05-16T15:49:24.701598Z"
    }
   },
   "cell_type": "code",
   "source": "dq_stack = deque(['A', 'B', 'C'])",
   "id": "5e7838d99e7cd885",
   "outputs": [],
   "execution_count": 87
  },
  {
   "metadata": {
    "ExecuteTime": {
     "end_time": "2025-05-16T15:49:24.738293Z",
     "start_time": "2025-05-16T15:49:24.734751Z"
    }
   },
   "cell_type": "code",
   "source": "dq_stack.pop()",
   "id": "3cfa422d2ef162a5",
   "outputs": [
    {
     "data": {
      "text/plain": [
       "'C'"
      ]
     },
     "execution_count": 88,
     "metadata": {},
     "output_type": "execute_result"
    }
   ],
   "execution_count": 88
  },
  {
   "metadata": {
    "ExecuteTime": {
     "end_time": "2025-05-16T15:49:24.765175Z",
     "start_time": "2025-05-16T15:49:24.761819Z"
    }
   },
   "cell_type": "code",
   "source": "dq_stack",
   "id": "6d65cd323f97219e",
   "outputs": [
    {
     "data": {
      "text/plain": [
       "deque(['A', 'B'])"
      ]
     },
     "execution_count": 89,
     "metadata": {},
     "output_type": "execute_result"
    }
   ],
   "execution_count": 89
  },
  {
   "metadata": {},
   "cell_type": "markdown",
   "source": [
    "\n",
    "### Recap: What a Stack Does\n",
    "\n",
    "* Think of a stack like a pile of plates.\n",
    "* You `push()` to add to the top (use `append()`).\n",
    "* You `pop()` to remove the top item (use `pop()`).\n",
    "\n",
    "\n",
    "### Why this matters:\n",
    "\n",
    "`deque` is faster than a list for stack operations because:\n",
    "\n",
    "* `pop()` and `append()` on the **right end** are O(1) (very efficient).\n",
    "* Python’s list `pop()` from the front is O(n), which is slower.\n",
    "\n",
    "This makes `deque` a smart choice for real-time processing systems, parsers, or undo-redo logic in GUIs.\n",
    "\n"
   ],
   "id": "c870e665e24fd658"
  },
  {
   "metadata": {},
   "cell_type": "markdown",
   "source": [
    "### **2.6: Use as Queue**\n",
    "\n",
    "**Problem**: Simulate a queue with `deque`. Enqueue: `X, Y, Z`. Dequeue 1 (left).\n",
    "\n",
    "**Expected Output**:\n",
    "\n",
    "```python\n",
    "deque(['Y', 'Z'])\n",
    "```"
   ],
   "id": "7385139ba8111235"
  },
  {
   "metadata": {
    "ExecuteTime": {
     "end_time": "2025-05-16T15:49:24.785579Z",
     "start_time": "2025-05-16T15:49:24.783031Z"
    }
   },
   "cell_type": "code",
   "source": "dq_q = deque(['X', 'Y', 'Z'])",
   "id": "a75e453e13c8bb0",
   "outputs": [],
   "execution_count": 90
  },
  {
   "metadata": {
    "ExecuteTime": {
     "end_time": "2025-05-16T15:49:24.834781Z",
     "start_time": "2025-05-16T15:49:24.831457Z"
    }
   },
   "cell_type": "code",
   "source": "dq_q.popleft()",
   "id": "77dad18061a0a9b1",
   "outputs": [
    {
     "data": {
      "text/plain": [
       "'X'"
      ]
     },
     "execution_count": 91,
     "metadata": {},
     "output_type": "execute_result"
    }
   ],
   "execution_count": 91
  },
  {
   "metadata": {
    "ExecuteTime": {
     "end_time": "2025-05-16T15:49:24.859344Z",
     "start_time": "2025-05-16T15:49:24.855225Z"
    }
   },
   "cell_type": "code",
   "source": "dq_q",
   "id": "445eee7f0ed653d6",
   "outputs": [
    {
     "data": {
      "text/plain": [
       "deque(['Y', 'Z'])"
      ]
     },
     "execution_count": 92,
     "metadata": {},
     "output_type": "execute_result"
    }
   ],
   "execution_count": 92
  },
  {
   "metadata": {},
   "cell_type": "markdown",
   "source": [
    "### **2.7: Peek First/Last**\n",
    "\n",
    "**Problem**: Add items `[100, 200, 300]` to a deque. Print first and last without removing.\n",
    "\n",
    "**Expected Output**:\n",
    "\n",
    "```python\n",
    "First: 100\n",
    "Last: 300\n",
    "```"
   ],
   "id": "c948944dd2a1ad1d"
  },
  {
   "metadata": {
    "ExecuteTime": {
     "end_time": "2025-05-16T15:49:24.874680Z",
     "start_time": "2025-05-16T15:49:24.872154Z"
    }
   },
   "cell_type": "code",
   "source": "dq_peek = deque([100, 200, 300])",
   "id": "e564c44ecc9f113",
   "outputs": [],
   "execution_count": 93
  },
  {
   "metadata": {
    "ExecuteTime": {
     "end_time": "2025-05-16T15:49:24.908536Z",
     "start_time": "2025-05-16T15:49:24.906152Z"
    }
   },
   "cell_type": "code",
   "source": "first = dq_peek[0]",
   "id": "5a3cfa4b3caf34ea",
   "outputs": [],
   "execution_count": 94
  },
  {
   "metadata": {
    "ExecuteTime": {
     "end_time": "2025-05-16T15:49:24.940463Z",
     "start_time": "2025-05-16T15:49:24.936741Z"
    }
   },
   "cell_type": "code",
   "source": "first",
   "id": "39b4f78179a56dc5",
   "outputs": [
    {
     "data": {
      "text/plain": [
       "100"
      ]
     },
     "execution_count": 95,
     "metadata": {},
     "output_type": "execute_result"
    }
   ],
   "execution_count": 95
  },
  {
   "metadata": {
    "ExecuteTime": {
     "end_time": "2025-05-16T15:49:24.983350Z",
     "start_time": "2025-05-16T15:49:24.980688Z"
    }
   },
   "cell_type": "code",
   "source": "last = dq_peek[-1]",
   "id": "da7f5be841887863",
   "outputs": [],
   "execution_count": 96
  },
  {
   "metadata": {
    "ExecuteTime": {
     "end_time": "2025-05-16T15:49:25.008880Z",
     "start_time": "2025-05-16T15:49:25.005425Z"
    }
   },
   "cell_type": "code",
   "source": "last",
   "id": "5b1734952298fe02",
   "outputs": [
    {
     "data": {
      "text/plain": [
       "300"
      ]
     },
     "execution_count": 97,
     "metadata": {},
     "output_type": "execute_result"
    }
   ],
   "execution_count": 97
  },
  {
   "metadata": {},
   "cell_type": "markdown",
   "source": [
    "## LEVEL 3: With Simulated Mini-Dataset\n",
    "\n",
    "We’re now transitioning from `deque` mechanics to **real-world simulation**, where each `deque` operation mimics a machine collecting sensor readings over time — just like what you'd encounter in injection molding or process control systems.\n",
    "\n",
    "\n",
    "\n",
    "### Simulated Dataset:\n",
    "\n",
    "We'll simulate **temperature readings** from a molding machine over time.\n",
    "\n",
    "```python\n",
    "temperature_readings = [68, 70, 72, 75, 74, 73, 76, 77, 80, 78]\n",
    "```\n",
    "\n",
    "\n",
    "\n",
    "### Skills You'll Practice:\n",
    "\n",
    "* Using `deque(maxlen=N)` for sliding window\n",
    "* Calculating **rolling average**\n",
    "* Detecting spikes or drops\n",
    "* Rolling back and resetting\n",
    "* Handling stream-like input"
   ],
   "id": "c3ef4f677171ceea"
  },
  {
   "metadata": {},
   "cell_type": "markdown",
   "source": [
    "## Exercise 3.1: Sliding Average (Window of 3)\n",
    "\n",
    "**Problem**: For each new temperature reading, maintain the last 3 values and compute the **average**.\n",
    "\n",
    "**Use**: `deque(maxlen=3)`"
   ],
   "id": "1b33d93b449aad6f"
  },
  {
   "metadata": {
    "ExecuteTime": {
     "end_time": "2025-05-16T15:49:25.049227Z",
     "start_time": "2025-05-16T15:49:25.046724Z"
    }
   },
   "cell_type": "code",
   "source": "temperature_readings = [68, 70, 72, 75, 74, 73, 76, 77, 80, 78]",
   "id": "5afdc93922bcc23e",
   "outputs": [],
   "execution_count": 98
  },
  {
   "metadata": {
    "ExecuteTime": {
     "end_time": "2025-05-16T15:49:25.069314Z",
     "start_time": "2025-05-16T15:49:25.066975Z"
    }
   },
   "cell_type": "code",
   "source": "window = deque(maxlen=3)",
   "id": "104438da05b3cf0",
   "outputs": [],
   "execution_count": 99
  },
  {
   "metadata": {
    "ExecuteTime": {
     "end_time": "2025-05-16T15:49:25.086676Z",
     "start_time": "2025-05-16T15:49:25.083456Z"
    }
   },
   "cell_type": "code",
   "source": [
    "for reading in temperature_readings:\n",
    "    window.append(reading)\n",
    "    avg = round(sum(window) / len(window), 2)\n",
    "    print(f'Reading {reading} -> Widow: {list(window)} -> Average: {avg}')"
   ],
   "id": "cbee3f4ab2a6f569",
   "outputs": [
    {
     "name": "stdout",
     "output_type": "stream",
     "text": [
      "Reading 68 -> Widow: [68] -> Average: 68.0\n",
      "Reading 70 -> Widow: [68, 70] -> Average: 69.0\n",
      "Reading 72 -> Widow: [68, 70, 72] -> Average: 70.0\n",
      "Reading 75 -> Widow: [70, 72, 75] -> Average: 72.33\n",
      "Reading 74 -> Widow: [72, 75, 74] -> Average: 73.67\n",
      "Reading 73 -> Widow: [75, 74, 73] -> Average: 74.0\n",
      "Reading 76 -> Widow: [74, 73, 76] -> Average: 74.33\n",
      "Reading 77 -> Widow: [73, 76, 77] -> Average: 75.33\n",
      "Reading 80 -> Widow: [76, 77, 80] -> Average: 77.67\n",
      "Reading 78 -> Widow: [77, 80, 78] -> Average: 78.33\n"
     ]
    }
   ],
   "execution_count": 100
  },
  {
   "metadata": {},
   "cell_type": "markdown",
   "source": [
    "### Why It Matters:\n",
    "\n",
    "* In manufacturing, **sliding window averages** help detect **drift** or **instability** in processes.\n",
    "* We discard old values and keep only the **most recent N** values — this is where `deque(maxlen=N)` "
   ],
   "id": "8b151509b44bf6d1"
  },
  {
   "metadata": {},
   "cell_type": "markdown",
   "source": [
    "## **Exercise 3.2: Detect Spike or Drop**\n",
    "\n",
    "### Problem:\n",
    "\n",
    "Using the same readings list:\n",
    "\n",
    "```python\n",
    "temperature_readings = [68, 70, 72, 75, 74, 80, 65, 78]\n",
    "```\n",
    "\n",
    "Create a `deque(maxlen=3)` to track the latest readings.\n",
    "If the new reading is more than **5 units higher or lower** than the average of the window, print a **\"Spike\" or \"Drop\" warning**.\n",
    "\n"
   ],
   "id": "bb1a055c4cf97b5a"
  },
  {
   "metadata": {
    "ExecuteTime": {
     "end_time": "2025-05-16T15:49:25.144120Z",
     "start_time": "2025-05-16T15:49:25.141756Z"
    }
   },
   "cell_type": "code",
   "source": "temperature_readings = [68, 70, 72, 75, 74, 80, 65, 78]",
   "id": "8e992c5d9e374860",
   "outputs": [],
   "execution_count": 101
  },
  {
   "metadata": {
    "ExecuteTime": {
     "end_time": "2025-05-16T15:49:25.176180Z",
     "start_time": "2025-05-16T15:49:25.173622Z"
    }
   },
   "cell_type": "code",
   "source": "window = deque(maxlen=3)",
   "id": "b876fb3e8cb51bbb",
   "outputs": [],
   "execution_count": 102
  },
  {
   "metadata": {
    "ExecuteTime": {
     "end_time": "2025-05-16T15:49:25.209962Z",
     "start_time": "2025-05-16T15:49:25.207124Z"
    }
   },
   "cell_type": "code",
   "source": [
    "for reading in temperature_readings:\n",
    "    window.append(reading)\n",
    "    avg = round(sum(window) / len(window), 2)\n",
    "    \n",
    "    if abs(reading - avg) > 5:\n",
    "        print(f'Spike/Drop Detected! Reading: {reading} -> Window: {list(window)} -> Average: {avg}')\n",
    "    else:\n",
    "        print(f'Reading: {reading} -> Window: {list(window)} -> Average: {avg}')"
   ],
   "id": "dc890f3895c0e896",
   "outputs": [
    {
     "name": "stdout",
     "output_type": "stream",
     "text": [
      "Reading: 68 -> Window: [68] -> Average: 68.0\n",
      "Reading: 70 -> Window: [68, 70] -> Average: 69.0\n",
      "Reading: 72 -> Window: [68, 70, 72] -> Average: 70.0\n",
      "Reading: 75 -> Window: [70, 72, 75] -> Average: 72.33\n",
      "Reading: 74 -> Window: [72, 75, 74] -> Average: 73.67\n",
      "Reading: 80 -> Window: [75, 74, 80] -> Average: 76.33\n",
      "Spike/Drop Detected! Reading: 65 -> Window: [74, 80, 65] -> Average: 73.0\n",
      "Reading: 78 -> Window: [80, 65, 78] -> Average: 74.33\n"
     ]
    }
   ],
   "execution_count": 103
  },
  {
   "metadata": {},
   "cell_type": "markdown",
   "source": [
    "## **Exercise 3.3: Sliding Max/Min**\n",
    "\n",
    "### **Problem**:\n",
    "\n",
    "Given the following temperature readings:\n",
    "\n",
    "```python\n",
    "temperature_readings = [68, 70, 72, 75, 74, 80, 65, 78]\n",
    "```\n",
    "\n",
    "Use `deque(maxlen=3)` to keep a **sliding window** of the last 3 readings.\n",
    "For each new reading, print the **maximum** and **minimum** values in the current window.\n",
    "\n",
    "\n",
    "### **Goal Output Format**:\n",
    "\n",
    "```\n",
    "Reading: 68 → Window: [68] → Min: 68, Max: 68  \n",
    "Reading: 70 → Window: [68, 70] → Min: 68, Max: 70  \n",
    "Reading: 72 → Window: [68, 70, 72] → Min: 68, Max: 72  \n",
    "Reading: 75 → Window: [70, 72, 75] → Min: 70, Max: 75  \n",
    "...\n",
    "```\n"
   ],
   "id": "2db1c8b9d6b19622"
  },
  {
   "metadata": {
    "ExecuteTime": {
     "end_time": "2025-05-16T15:49:25.230251Z",
     "start_time": "2025-05-16T15:49:25.227600Z"
    }
   },
   "cell_type": "code",
   "source": "temperature_readings = [68, 70, 72, 75, 74, 80, 65, 78]",
   "id": "ba08a32b18239a78",
   "outputs": [],
   "execution_count": 104
  },
  {
   "metadata": {
    "ExecuteTime": {
     "end_time": "2025-05-16T15:49:25.262149Z",
     "start_time": "2025-05-16T15:49:25.259831Z"
    }
   },
   "cell_type": "code",
   "source": "window = deque(maxlen=3)",
   "id": "82907a1a8f94ff56",
   "outputs": [],
   "execution_count": 105
  },
  {
   "metadata": {
    "ExecuteTime": {
     "end_time": "2025-05-16T15:49:25.337389Z",
     "start_time": "2025-05-16T15:49:25.334469Z"
    }
   },
   "cell_type": "code",
   "source": [
    "for reading in temperature_readings:\n",
    "    window.append(reading)\n",
    "    max_val = max(window)\n",
    "    min_val = min(window)\n",
    "    \n",
    "    print(f'Reading {reading} -> Window: {list(window)} -> Max: {max_val}, Min: {min_val}')"
   ],
   "id": "d74892b027dcc96f",
   "outputs": [
    {
     "name": "stdout",
     "output_type": "stream",
     "text": [
      "Reading 68 -> Window: [68] -> Max: 68, Min: 68\n",
      "Reading 70 -> Window: [68, 70] -> Max: 70, Min: 68\n",
      "Reading 72 -> Window: [68, 70, 72] -> Max: 72, Min: 68\n",
      "Reading 75 -> Window: [70, 72, 75] -> Max: 75, Min: 70\n",
      "Reading 74 -> Window: [72, 75, 74] -> Max: 75, Min: 72\n",
      "Reading 80 -> Window: [75, 74, 80] -> Max: 80, Min: 74\n",
      "Reading 65 -> Window: [74, 80, 65] -> Max: 80, Min: 65\n",
      "Reading 78 -> Window: [80, 65, 78] -> Max: 80, Min: 65\n"
     ]
    }
   ],
   "execution_count": 106
  },
  {
   "metadata": {},
   "cell_type": "markdown",
   "source": [
    "## **Exercise 3.4: Track Deviation from Rolling Average**\n",
    "\n",
    "### **Problem**:\n",
    "\n",
    "Given this temperature stream:\n",
    "\n",
    "```python\n",
    "temperature_readings = [68, 70, 72, 75, 74, 80, 65, 78]\n",
    "```\n",
    "\n",
    "Use `deque(maxlen=3)` to track a **rolling average**, and for each reading, calculate the **deviation** from that average.\n",
    "\n",
    "\n",
    "### **What to Print**:\n",
    "\n",
    "For each reading, output:\n",
    "\n",
    "* The current window\n",
    "* The rolling average\n",
    "* The deviation (reading − average)\n",
    "\n",
    "\n",
    "### **What You'll Learn**:\n",
    "\n",
    "* How to track whether the **current reading is above or below** the recent trend.\n",
    "* This is foundational for **anomaly detection** or **feedback control**.\n",
    "\n",
    "\n",
    "\n",
    "### Sample Output:\n",
    "\n",
    "```\n",
    "Reading: 68 → Window: [68] → Avg: 68.00 → Deviation: 0.00  \n",
    "Reading: 70 → Window: [68, 70] → Avg: 69.00 → Deviation: 1.00  \n",
    "Reading: 72 → Window: [68, 70, 72] → Avg: 70.00 → Deviation: 2.00  \n",
    "Reading: 75 → Window: [70, 72, 75] → Avg: 72.33 → Deviation: 2.67  \n",
    "...\n",
    "```\n",
    "\n",
    "### Real-World Analogy:\n",
    "\n",
    "In injection molding, if the **current mold temperature** is constantly **above the average**, it may be a signal of a machine drift, faulty cooling, or buildup in the mold cavity.\n",
    "\n"
   ],
   "id": "b28b6715a4accb6"
  },
  {
   "metadata": {
    "ExecuteTime": {
     "end_time": "2025-05-16T15:49:25.388795Z",
     "start_time": "2025-05-16T15:49:25.386046Z"
    }
   },
   "cell_type": "code",
   "source": "temperature_readings = [68, 70, 72, 75, 74, 80, 65, 78]",
   "id": "11d81ff429f949a1",
   "outputs": [],
   "execution_count": 107
  },
  {
   "metadata": {
    "ExecuteTime": {
     "end_time": "2025-05-16T15:49:25.415179Z",
     "start_time": "2025-05-16T15:49:25.412902Z"
    }
   },
   "cell_type": "code",
   "source": "window = deque(maxlen=3)",
   "id": "8be45cb6d27ac850",
   "outputs": [],
   "execution_count": 108
  },
  {
   "metadata": {
    "ExecuteTime": {
     "end_time": "2025-05-16T15:49:25.485247Z",
     "start_time": "2025-05-16T15:49:25.481729Z"
    }
   },
   "cell_type": "code",
   "source": [
    "for reading in temperature_readings:\n",
    "    window.append(reading)\n",
    "    avg = round(sum(window) / len(window), 2)\n",
    "    deviation = round((reading - avg), 2)\n",
    "    if deviation < 0:\n",
    "        print(f'Reading {reading} -> Window: {list(window)} -> Average: {avg} -> Deviation: {deviation} -> ALERT: Machine Drift, Faulty Cooling or Cavity Buildup')\n",
    "    else:\n",
    "        print(f'Reading {reading} -> Window: {list(window)} -> Average: {avg} -> Deviation: {deviation}')\n",
    "    "
   ],
   "id": "228fa3e1defc158",
   "outputs": [
    {
     "name": "stdout",
     "output_type": "stream",
     "text": [
      "Reading 68 -> Window: [68] -> Average: 68.0 -> Deviation: 0.0\n",
      "Reading 70 -> Window: [68, 70] -> Average: 69.0 -> Deviation: 1.0\n",
      "Reading 72 -> Window: [68, 70, 72] -> Average: 70.0 -> Deviation: 2.0\n",
      "Reading 75 -> Window: [70, 72, 75] -> Average: 72.33 -> Deviation: 2.67\n",
      "Reading 74 -> Window: [72, 75, 74] -> Average: 73.67 -> Deviation: 0.33\n",
      "Reading 80 -> Window: [75, 74, 80] -> Average: 76.33 -> Deviation: 3.67\n",
      "Reading 65 -> Window: [74, 80, 65] -> Average: 73.0 -> Deviation: -8.0 -> ALERT: Machine Drift, Faulty Cooling or Cavity Buildup\n",
      "Reading 78 -> Window: [80, 65, 78] -> Average: 74.33 -> Deviation: 3.67\n"
     ]
    }
   ],
   "execution_count": 109
  },
  {
   "metadata": {
    "ExecuteTime": {
     "end_time": "2025-05-16T15:49:25.519830Z",
     "start_time": "2025-05-16T15:49:25.517896Z"
    }
   },
   "cell_type": "code",
   "source": "",
   "id": "824d4351a43faf14",
   "outputs": [],
   "execution_count": 109
  },
  {
   "metadata": {
    "ExecuteTime": {
     "end_time": "2025-05-16T15:49:25.555948Z",
     "start_time": "2025-05-16T15:49:25.553995Z"
    }
   },
   "cell_type": "code",
   "source": "",
   "id": "8af9f5f864376508",
   "outputs": [],
   "execution_count": 109
  },
  {
   "metadata": {
    "ExecuteTime": {
     "end_time": "2025-05-16T15:49:25.580909Z",
     "start_time": "2025-05-16T15:49:25.579112Z"
    }
   },
   "cell_type": "code",
   "source": "",
   "id": "9ce0c8dd05dcb280",
   "outputs": [],
   "execution_count": 109
  },
  {
   "metadata": {
    "ExecuteTime": {
     "end_time": "2025-05-16T15:49:25.594441Z",
     "start_time": "2025-05-16T15:49:25.592353Z"
    }
   },
   "cell_type": "code",
   "source": "",
   "id": "50194f89f5696960",
   "outputs": [],
   "execution_count": 109
  },
  {
   "metadata": {
    "ExecuteTime": {
     "end_time": "2025-05-16T15:49:25.610049Z",
     "start_time": "2025-05-16T15:49:25.608332Z"
    }
   },
   "cell_type": "code",
   "source": "",
   "id": "98aa5e1fc5d8ebef",
   "outputs": [],
   "execution_count": 109
  },
  {
   "metadata": {
    "ExecuteTime": {
     "end_time": "2025-05-16T15:49:25.629001Z",
     "start_time": "2025-05-16T15:49:25.626794Z"
    }
   },
   "cell_type": "code",
   "source": "",
   "id": "8c28138267cb9de2",
   "outputs": [],
   "execution_count": 109
  },
  {
   "metadata": {
    "ExecuteTime": {
     "end_time": "2025-05-16T15:49:25.664618Z",
     "start_time": "2025-05-16T15:49:25.662435Z"
    }
   },
   "cell_type": "code",
   "source": "",
   "id": "e4e4a30acb3808d8",
   "outputs": [],
   "execution_count": 109
  },
  {
   "metadata": {},
   "cell_type": "markdown",
   "source": "",
   "id": "d143e57af60a82fe"
  }
 ],
 "metadata": {
  "kernelspec": {
   "display_name": "Python 3",
   "language": "python",
   "name": "python3"
  },
  "language_info": {
   "codemirror_mode": {
    "name": "ipython",
    "version": 2
   },
   "file_extension": ".py",
   "mimetype": "text/x-python",
   "name": "python",
   "nbconvert_exporter": "python",
   "pygments_lexer": "ipython2",
   "version": "2.7.6"
  }
 },
 "nbformat": 4,
 "nbformat_minor": 5
}
