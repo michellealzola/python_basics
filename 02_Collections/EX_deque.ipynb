{
 "cells": [
  {
   "metadata": {},
   "cell_type": "markdown",
   "source": [
    "# `deque`\n",
    "\n",
    "### LEVEL 1: The Basics (No dataset yet)\n",
    "Goal: Understand how deque works, how it’s different from lists, and how to manipulate it.\n",
    "\n",
    "### Skills:\n",
    "- Creating a deque\n",
    "- Using append(), appendleft()\n",
    "- Using pop(), popleft()\n",
    "- Checking maxlen\n",
    "- Rotating the deque\n",
    "\n"
   ],
   "id": "2c8a06697efe1052"
  },
  {
   "metadata": {
    "ExecuteTime": {
     "end_time": "2025-05-15T16:41:35.434880Z",
     "start_time": "2025-05-15T16:41:34.916202Z"
    }
   },
   "cell_type": "code",
   "source": [
    "from collections import deque, defaultdict\n",
    "import pandas as pd"
   ],
   "id": "1bbde281cc69220d",
   "outputs": [],
   "execution_count": 2
  },
  {
   "metadata": {},
   "cell_type": "markdown",
   "source": [
    "### **1.1: Simple `deque` Creation**\n",
    "\n",
    "**Problem**: Create a deque from the list `[1, 2, 3]`. Append 4 at the end. Append 0 at the beginning.\n",
    "\n",
    "**Expected Output**:\n",
    "\n",
    "```python\n",
    "deque([0, 1, 2, 3, 4])\n",
    "```"
   ],
   "id": "149f671862fa8d9d"
  },
  {
   "metadata": {
    "ExecuteTime": {
     "end_time": "2025-05-15T16:43:50.961356Z",
     "start_time": "2025-05-15T16:43:50.958885Z"
    }
   },
   "cell_type": "code",
   "source": "dq = deque([1, 2, 3])",
   "id": "a89b25d60d60130c",
   "outputs": [],
   "execution_count": 3
  },
  {
   "metadata": {
    "ExecuteTime": {
     "end_time": "2025-05-15T16:44:00.206261Z",
     "start_time": "2025-05-15T16:44:00.204080Z"
    }
   },
   "cell_type": "code",
   "source": "dq.append(4)",
   "id": "b117d9d0f677708f",
   "outputs": [],
   "execution_count": 4
  },
  {
   "metadata": {
    "ExecuteTime": {
     "end_time": "2025-05-15T16:44:10.223894Z",
     "start_time": "2025-05-15T16:44:10.221271Z"
    }
   },
   "cell_type": "code",
   "source": "dq.appendleft(0)",
   "id": "80a7aefa1e758878",
   "outputs": [],
   "execution_count": 5
  },
  {
   "metadata": {
    "ExecuteTime": {
     "end_time": "2025-05-15T16:44:12.896849Z",
     "start_time": "2025-05-15T16:44:12.892448Z"
    }
   },
   "cell_type": "code",
   "source": "dq",
   "id": "6365c81368116d7b",
   "outputs": [
    {
     "data": {
      "text/plain": [
       "deque([0, 1, 2, 3, 4])"
      ]
     },
     "execution_count": 6,
     "metadata": {},
     "output_type": "execute_result"
    }
   ],
   "execution_count": 6
  },
  {
   "metadata": {},
   "cell_type": "markdown",
   "source": [
    "### **1.2: Popping Elements**\n",
    "\n",
    "**Problem**: From the deque above, remove an item from the right (`pop`) and the left (`popleft`).\n",
    "\n",
    "**Expected Output**:\n",
    "\n",
    "```python\n",
    "Removed from right: 4\n",
    "Removed from left: 0\n",
    "Remaining deque: deque([1, 2, 3])\n",
    "```"
   ],
   "id": "e86e05e8ead6442d"
  },
  {
   "metadata": {},
   "cell_type": "code",
   "outputs": [],
   "execution_count": null,
   "source": "",
   "id": "45f5eabc3c14e222"
  },
  {
   "metadata": {},
   "cell_type": "code",
   "outputs": [],
   "execution_count": null,
   "source": "",
   "id": "a81f011b5ac5ac2d"
  },
  {
   "metadata": {},
   "cell_type": "code",
   "outputs": [],
   "execution_count": null,
   "source": "",
   "id": "f513ff7b835bf323"
  },
  {
   "metadata": {},
   "cell_type": "code",
   "outputs": [],
   "execution_count": null,
   "source": "",
   "id": "389cf1fee1513cc1"
  },
  {
   "metadata": {},
   "cell_type": "code",
   "outputs": [],
   "execution_count": null,
   "source": "",
   "id": "e9aa6f3fe12ccec8"
  },
  {
   "metadata": {},
   "cell_type": "code",
   "outputs": [],
   "execution_count": null,
   "source": "",
   "id": "1fb0fa317b4c229a"
  },
  {
   "metadata": {},
   "cell_type": "code",
   "outputs": [],
   "execution_count": null,
   "source": "",
   "id": "e288a9cbaf0a9e9a"
  },
  {
   "metadata": {},
   "cell_type": "code",
   "outputs": [],
   "execution_count": null,
   "source": "",
   "id": "a65a9f7294169afb"
  },
  {
   "metadata": {},
   "cell_type": "code",
   "outputs": [],
   "execution_count": null,
   "source": "",
   "id": "2e306f7b5de270b"
  },
  {
   "metadata": {},
   "cell_type": "code",
   "outputs": [],
   "execution_count": null,
   "source": "",
   "id": "d707a580d6730f58"
  },
  {
   "metadata": {},
   "cell_type": "code",
   "outputs": [],
   "execution_count": null,
   "source": "",
   "id": "4c2376f937e78cd7"
  },
  {
   "metadata": {},
   "cell_type": "code",
   "outputs": [],
   "execution_count": null,
   "source": "",
   "id": "9dec4d3fe198791c"
  },
  {
   "metadata": {},
   "cell_type": "markdown",
   "source": [
    "\n",
    "\n",
    "\n",
    "\n",
    "---\n",
    "\n",
    "\n",
    "\n",
    "---\n",
    "\n",
    "### **1.3: Fixed-Length `deque`**\n",
    "\n",
    "**Problem**: Create a deque with `maxlen=3`. Append 10, 20, 30, then 40. What happens?\n",
    "\n",
    "🔍 **Expected Output**:\n",
    "\n",
    "```python\n",
    "deque([20, 30, 40])\n",
    "```\n",
    "\n",
    "**Explanation**: `deque` automatically removes the oldest item when full.\n",
    "\n",
    "---\n",
    "\n",
    "### **1.4: Rotate Right**\n",
    "\n",
    "**Problem**: Rotate the deque `[1, 2, 3, 4, 5]` two steps to the right.\n",
    "\n",
    "🔍 **Expected Output**:\n",
    "\n",
    "```python\n",
    "deque([4, 5, 1, 2, 3])\n",
    "```\n",
    "\n",
    "---\n",
    "\n",
    "### **1.5: Rotate Left**\n",
    "\n",
    "**Problem**: Rotate the same deque two steps to the left.\n",
    "\n",
    "🔍 **Expected Output**:\n",
    "\n",
    "```python\n",
    "deque([3, 4, 5, 1, 2])\n",
    "```\n",
    "\n",
    "---\n",
    "\n",
    "## 🧠 LEVEL 2: Simulating Buffers and History (No real dataset yet)\n",
    "\n",
    "**Goal**: Practice sliding windows, buffering, and rollbacks.\n",
    "\n",
    "### ✨ Skills:\n",
    "\n",
    "* Using `deque(maxlen=N)` to track last N items\n",
    "* Using `appendleft()` to undo\n",
    "* Accessing items like a list\n",
    "\n",
    "### ✅ Exercises (7 total)\n",
    "\n",
    "---\n",
    "\n",
    "### **2.1: Last 3 Processed Items**\n",
    "\n",
    "**Problem**: Simulate a buffer tracking the last 3 parts that passed QA: 'P1', 'P2', 'P3', 'P4'\n",
    "\n",
    "🔍 **Expected Output**:\n",
    "\n",
    "```python\n",
    "deque(['P2', 'P3', 'P4'], maxlen=3)\n",
    "```\n",
    "\n",
    "---\n",
    "\n",
    "### **2.2: Undo the Last Action**\n",
    "\n",
    "**Problem**: Use `appendleft()` to push back 'P4' after it was mistakenly popped.\n",
    "\n",
    "🔍 **Expected Output**:\n",
    "\n",
    "```python\n",
    "deque(['P4', 'P2', 'P3'], maxlen=3)\n",
    "```\n",
    "\n",
    "---\n",
    "\n",
    "### **2.3: History Tracker**\n",
    "\n",
    "**Problem**: Maintain the last 5 temperature readings in a machine: `[78, 79, 80, 81, 82, 83]`\n",
    "\n",
    "🔍 **Expected Output**:\n",
    "\n",
    "```python\n",
    "deque([79, 80, 81, 82, 83], maxlen=5)\n",
    "```\n",
    "\n",
    "---\n",
    "\n",
    "### **2.4: Sum of Last N**\n",
    "\n",
    "**Problem**: Calculate the sum of the last 3 added values: `[5, 6, 7, 8]` → use `deque(maxlen=3)`.\n",
    "\n",
    "🔍 **Expected Output**:\n",
    "\n",
    "```python\n",
    "Sum of last 3: 21  # (6+7+8)\n",
    "```\n",
    "\n",
    "---\n",
    "\n",
    "### **2.5: Use as Stack**\n",
    "\n",
    "**Problem**: Simulate a stack with `deque`. Push: `A, B, C`. Pop 1.\n",
    "\n",
    "🔍 **Expected Output**:\n",
    "\n",
    "```python\n",
    "deque(['A', 'B'])\n",
    "```\n",
    "\n",
    "---\n",
    "\n",
    "### **2.6: Use as Queue**\n",
    "\n",
    "**Problem**: Simulate a queue with `deque`. Enqueue: `X, Y, Z`. Dequeue 1 (left).\n",
    "\n",
    "🔍 **Expected Output**:\n",
    "\n",
    "```python\n",
    "deque(['Y', 'Z'])\n",
    "```\n",
    "\n",
    "---\n",
    "\n",
    "### **2.7: Peek First/Last**\n",
    "\n",
    "**Problem**: Add items `[100, 200, 300]` to a deque. Print first and last without removing.\n",
    "\n",
    "🔍 **Expected Output**:\n",
    "\n",
    "```python\n",
    "First: 100\n",
    "Last: 300\n",
    "```\n",
    "\n",
    "---\n",
    "\n",
    "## 🧪 LEVEL 3: With Simulated Mini-Dataset\n",
    "\n",
    "### ✨ Skills:\n",
    "\n",
    "* Using `deque` for sliding windows\n",
    "* Aggregations: average, min, max, etc.\n",
    "* Resetting or rolling back readings\n",
    "\n",
    "We’ll start introducing a mini mock dataset similar to your CSV.\n",
    "\n",
    "---\n",
    "\n",
    "Would you like me to:\n",
    "\n",
    "1. **Continue with Level 3 now**, using a smaller synthetic dataset inspired by `injection_mold_365day_dataset.csv`?\n",
    "2. Or **pause here and explain each of the above solutions** before moving to next?\n",
    "\n",
    "Let me know your pace preference.\n"
   ],
   "id": "efc070f32cf4e560"
  }
 ],
 "metadata": {
  "kernelspec": {
   "display_name": "Python 3",
   "language": "python",
   "name": "python3"
  },
  "language_info": {
   "codemirror_mode": {
    "name": "ipython",
    "version": 2
   },
   "file_extension": ".py",
   "mimetype": "text/x-python",
   "name": "python",
   "nbconvert_exporter": "python",
   "pygments_lexer": "ipython2",
   "version": "2.7.6"
  }
 },
 "nbformat": 4,
 "nbformat_minor": 5
}
